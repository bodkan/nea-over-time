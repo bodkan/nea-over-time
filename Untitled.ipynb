{
 "cells": [
  {
   "cell_type": "code",
   "execution_count": 10,
   "metadata": {},
   "outputs": [],
   "source": [
    "library(tidyverse)"
   ]
  },
  {
   "cell_type": "code",
   "execution_count": 11,
   "metadata": {},
   "outputs": [],
   "source": [
    "new <- lapply(1:10, function(rep_i) { suppressMessages(read_tsv(paste0(\"data/simulations/protein_coding_0.5_rep_\", rep_i, \"_trajectory.txt\")) %>% mutate(rep=rep_i)) }) %>%\n",
    "    bind_rows"
   ]
  },
  {
   "cell_type": "code",
   "execution_count": 12,
   "metadata": {},
   "outputs": [],
   "source": [
    "old <- lapply(1:10, function(rep_i) { suppressMessages(read_tsv(paste0(\"data/simulations/old_protein_coding_0.5_rep_\", rep_i, \"__nonexonic_sites.txt\")) %>% mutate(rep=rep_i)) }) %>%\n",
    "    bind_rows"
   ]
  },
  {
   "cell_type": "code",
   "execution_count": 14,
   "metadata": {},
   "outputs": [
    {
     "name": "stderr",
     "output_type": "stream",
     "text": [
      "Joining, by = c(\"gen\", \"mean\", \"sd\", \"median\", \"min\", \"max\", \"Ne\", \"rep\")\n"
     ]
    },
    {
     "data": {
      "text/html": [
       "<table>\n",
       "<thead><tr><th scope=col>gen</th><th scope=col>mean</th><th scope=col>sd</th><th scope=col>median</th><th scope=col>min</th><th scope=col>max</th><th scope=col>Ne</th><th scope=col>rep</th></tr></thead>\n",
       "<tbody>\n",
       "\t<tr><td>1       </td><td>0.1009  </td><td>0.301211</td><td>0       </td><td>0       </td><td>1       </td><td>10000   </td><td>2       </td></tr>\n",
       "</tbody>\n",
       "</table>\n"
      ],
      "text/latex": [
       "\\begin{tabular}{r|llllllll}\n",
       " gen & mean & sd & median & min & max & Ne & rep\\\\\n",
       "\\hline\n",
       "\t 1        & 0.1009   & 0.301211 & 0        & 0        & 1        & 10000    & 2       \\\\\n",
       "\\end{tabular}\n"
      ],
      "text/markdown": [
       "\n",
       "gen | mean | sd | median | min | max | Ne | rep | \n",
       "|---|\n",
       "| 1        | 0.1009   | 0.301211 | 0        | 0        | 1        | 10000    | 2        | \n",
       "\n",
       "\n"
      ],
      "text/plain": [
       "  gen mean   sd       median min max Ne    rep\n",
       "1 1   0.1009 0.301211 0      0   1   10000 2  "
      ]
     },
     "metadata": {},
     "output_type": "display_data"
    }
   ],
   "source": []
  },
  {
   "cell_type": "code",
   "execution_count": null,
   "metadata": {},
   "outputs": [],
   "source": []
  }
 ],
 "metadata": {
  "kernelspec": {
   "display_name": "R",
   "language": "R",
   "name": "ir"
  },
  "language_info": {
   "codemirror_mode": "r",
   "file_extension": ".r",
   "mimetype": "text/x-r-source",
   "name": "R",
   "pygments_lexer": "r",
   "version": "3.4.0"
  }
 },
 "nbformat": 4,
 "nbformat_minor": 2
}
