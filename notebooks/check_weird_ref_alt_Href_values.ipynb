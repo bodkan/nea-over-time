{
 "cells": [
  {
   "cell_type": "code",
   "execution_count": 1,
   "metadata": {
    "collapsed": true
   },
   "outputs": [],
   "source": [
    "import pandas as pd\n",
    "from pysam import FastaFile"
   ]
  },
  {
   "cell_type": "code",
   "execution_count": 2,
   "metadata": {
    "collapsed": true
   },
   "outputs": [],
   "source": [
    "hg19 = FastaFile('/mnt/solexa/Genomes/hg19_evan/whole_genome.fa')"
   ]
  },
  {
   "cell_type": "markdown",
   "metadata": {},
   "source": [
    "Read the table of archaic admixture array data generated from the two files from David"
   ]
  },
  {
   "cell_type": "code",
   "execution_count": 3,
   "metadata": {
    "collapsed": false
   },
   "outputs": [],
   "source": [
    "old_snps = pd.read_table('../tmp/i.tsv')\n",
    "# fetch the alleles from the hg19 reference genome\n",
    "old_snps['r'] = [hg19.fetch(region='{}:{}-{}'.format(chrom, pos, pos)) for chrom, pos in zip(old_snps.chrom, old_snps.pos)]"
   ]
  },
  {
   "cell_type": "markdown",
   "metadata": {},
   "source": [
    "Read the table of archaic admixture array data generated from the EIGENSTRAT data published online"
   ]
  },
  {
   "cell_type": "code",
   "execution_count": 4,
   "metadata": {
    "collapsed": false
   },
   "outputs": [],
   "source": [
    "new_snps = pd.read_table('../tmp/t.tsv')\n",
    "# fetch the alleles from the hg19 reference genome\n",
    "new_snps['r'] = [hg19.fetch(region='{}:{}-{}'.format(chrom, pos, pos)) for chrom, pos in zip(new_snps.chrom, new_snps.pos)]"
   ]
  },
  {
   "cell_type": "markdown",
   "metadata": {},
   "source": [
    "## Why don't the \"ref\"/\"alt\" columns sometimes match the true hg19 allele?"
   ]
  },
  {
   "cell_type": "markdown",
   "metadata": {},
   "source": [
    "What is the proportion of 0/1/9 values in the Href \"sample\"?"
   ]
  },
  {
   "cell_type": "code",
   "execution_count": 5,
   "metadata": {
    "collapsed": false
   },
   "outputs": [
    {
     "data": {
      "text/plain": [
       "(0.99046682089064342, 0.0094996521578784143, 3.3526951478119475e-05)"
      ]
     },
     "execution_count": 5,
     "metadata": {},
     "output_type": "execute_result"
    }
   ],
   "source": [
    "sum(old_snps.Href == 0) / len(old_snps), sum(old_snps.Href == 1) / len(old_snps), sum(old_snps.Href == 9) / len(old_snps)"
   ]
  },
  {
   "cell_type": "markdown",
   "metadata": {},
   "source": [
    "What are the Href values at sites where the fetched reference **doesn't** match either of the allele columns in the David's and Qiaomei's data:"
   ]
  },
  {
   "cell_type": "code",
   "execution_count": 6,
   "metadata": {
    "collapsed": false
   },
   "outputs": [
    {
     "data": {
      "text/plain": [
       "9    32\n",
       "Name: Href, dtype: int64"
      ]
     },
     "execution_count": 6,
     "metadata": {},
     "output_type": "execute_result"
    }
   ],
   "source": [
    "old_snps.query('r != ref & r != alt').Href.value_counts()"
   ]
  },
  {
   "cell_type": "markdown",
   "metadata": {},
   "source": [
    "What is the total count of the 9 missing Href values?"
   ]
  },
  {
   "cell_type": "code",
   "execution_count": 7,
   "metadata": {
    "collapsed": false
   },
   "outputs": [
    {
     "data": {
      "text/plain": [
       "0    945357\n",
       "1      9067\n",
       "9        32\n",
       "Name: Href, dtype: int64"
      ]
     },
     "execution_count": 7,
     "metadata": {},
     "output_type": "execute_result"
    }
   ],
   "source": [
    "old_snps.Href.value_counts()"
   ]
  },
  {
   "cell_type": "markdown",
   "metadata": {},
   "source": [
    "OK, so all of the missing Href values correspond to sites where the true reference doesn't match either of the two alleles in the snp file. Perhaps these are triallelic positions that someone escaped the filtering, due to some bug?\n",
    "\n",
    "In any case, these sites should be definitely removed. Here's the complete list:"
   ]
  },
  {
   "cell_type": "code",
   "execution_count": 22,
   "metadata": {
    "collapsed": false
   },
   "outputs": [
    {
     "data": {
      "text/html": [
       "<div>\n",
       "<table border=\"1\" class=\"dataframe\">\n",
       "  <thead>\n",
       "    <tr style=\"text-align: right;\">\n",
       "      <th></th>\n",
       "      <th>chrom</th>\n",
       "      <th>pos</th>\n",
       "      <th>ref</th>\n",
       "      <th>alt</th>\n",
       "      <th>r</th>\n",
       "    </tr>\n",
       "  </thead>\n",
       "  <tbody>\n",
       "    <tr>\n",
       "      <th>56415</th>\n",
       "      <td>1</td>\n",
       "      <td>194238557</td>\n",
       "      <td>A</td>\n",
       "      <td>G</td>\n",
       "      <td>T</td>\n",
       "    </tr>\n",
       "    <tr>\n",
       "      <th>63749</th>\n",
       "      <td>1</td>\n",
       "      <td>214486345</td>\n",
       "      <td>G</td>\n",
       "      <td>C</td>\n",
       "      <td>T</td>\n",
       "    </tr>\n",
       "    <tr>\n",
       "      <th>64487</th>\n",
       "      <td>1</td>\n",
       "      <td>216154223</td>\n",
       "      <td>T</td>\n",
       "      <td>G</td>\n",
       "      <td>C</td>\n",
       "    </tr>\n",
       "    <tr>\n",
       "      <th>65880</th>\n",
       "      <td>1</td>\n",
       "      <td>220214623</td>\n",
       "      <td>G</td>\n",
       "      <td>A</td>\n",
       "      <td>C</td>\n",
       "    </tr>\n",
       "    <tr>\n",
       "      <th>167218</th>\n",
       "      <td>3</td>\n",
       "      <td>8213832</td>\n",
       "      <td>A</td>\n",
       "      <td>T</td>\n",
       "      <td>C</td>\n",
       "    </tr>\n",
       "    <tr>\n",
       "      <th>216271</th>\n",
       "      <td>3</td>\n",
       "      <td>144867812</td>\n",
       "      <td>A</td>\n",
       "      <td>G</td>\n",
       "      <td>C</td>\n",
       "    </tr>\n",
       "    <tr>\n",
       "      <th>232706</th>\n",
       "      <td>3</td>\n",
       "      <td>188486067</td>\n",
       "      <td>A</td>\n",
       "      <td>C</td>\n",
       "      <td>T</td>\n",
       "    </tr>\n",
       "    <tr>\n",
       "      <th>233068</th>\n",
       "      <td>3</td>\n",
       "      <td>189480568</td>\n",
       "      <td>A</td>\n",
       "      <td>C</td>\n",
       "      <td>T</td>\n",
       "    </tr>\n",
       "    <tr>\n",
       "      <th>247954</th>\n",
       "      <td>4</td>\n",
       "      <td>28021832</td>\n",
       "      <td>G</td>\n",
       "      <td>T</td>\n",
       "      <td>C</td>\n",
       "    </tr>\n",
       "    <tr>\n",
       "      <th>315555</th>\n",
       "      <td>5</td>\n",
       "      <td>16290023</td>\n",
       "      <td>T</td>\n",
       "      <td>G</td>\n",
       "      <td>A</td>\n",
       "    </tr>\n",
       "    <tr>\n",
       "      <th>322944</th>\n",
       "      <td>5</td>\n",
       "      <td>34570073</td>\n",
       "      <td>T</td>\n",
       "      <td>G</td>\n",
       "      <td>C</td>\n",
       "    </tr>\n",
       "    <tr>\n",
       "      <th>382410</th>\n",
       "      <td>6</td>\n",
       "      <td>33006338</td>\n",
       "      <td>T</td>\n",
       "      <td>G</td>\n",
       "      <td>A</td>\n",
       "    </tr>\n",
       "    <tr>\n",
       "      <th>395899</th>\n",
       "      <td>6</td>\n",
       "      <td>66887594</td>\n",
       "      <td>T</td>\n",
       "      <td>G</td>\n",
       "      <td>A</td>\n",
       "    </tr>\n",
       "    <tr>\n",
       "      <th>438380</th>\n",
       "      <td>7</td>\n",
       "      <td>9201090</td>\n",
       "      <td>A</td>\n",
       "      <td>C</td>\n",
       "      <td>T</td>\n",
       "    </tr>\n",
       "    <tr>\n",
       "      <th>453200</th>\n",
       "      <td>7</td>\n",
       "      <td>45026736</td>\n",
       "      <td>T</td>\n",
       "      <td>C</td>\n",
       "      <td>G</td>\n",
       "    </tr>\n",
       "    <tr>\n",
       "      <th>491162</th>\n",
       "      <td>8</td>\n",
       "      <td>1619701</td>\n",
       "      <td>G</td>\n",
       "      <td>C</td>\n",
       "      <td>T</td>\n",
       "    </tr>\n",
       "    <tr>\n",
       "      <th>506032</th>\n",
       "      <td>8</td>\n",
       "      <td>31819135</td>\n",
       "      <td>G</td>\n",
       "      <td>C</td>\n",
       "      <td>A</td>\n",
       "    </tr>\n",
       "    <tr>\n",
       "      <th>545803</th>\n",
       "      <td>8</td>\n",
       "      <td>143022153</td>\n",
       "      <td>G</td>\n",
       "      <td>C</td>\n",
       "      <td>T</td>\n",
       "    </tr>\n",
       "    <tr>\n",
       "      <th>579248</th>\n",
       "      <td>9</td>\n",
       "      <td>118188696</td>\n",
       "      <td>A</td>\n",
       "      <td>C</td>\n",
       "      <td>T</td>\n",
       "    </tr>\n",
       "    <tr>\n",
       "      <th>600934</th>\n",
       "      <td>10</td>\n",
       "      <td>36502375</td>\n",
       "      <td>T</td>\n",
       "      <td>G</td>\n",
       "      <td>A</td>\n",
       "    </tr>\n",
       "    <tr>\n",
       "      <th>621686</th>\n",
       "      <td>10</td>\n",
       "      <td>105542691</td>\n",
       "      <td>A</td>\n",
       "      <td>G</td>\n",
       "      <td>T</td>\n",
       "    </tr>\n",
       "    <tr>\n",
       "      <th>653667</th>\n",
       "      <td>11</td>\n",
       "      <td>56041723</td>\n",
       "      <td>A</td>\n",
       "      <td>C</td>\n",
       "      <td>T</td>\n",
       "    </tr>\n",
       "    <tr>\n",
       "      <th>678126</th>\n",
       "      <td>11</td>\n",
       "      <td>127201859</td>\n",
       "      <td>A</td>\n",
       "      <td>G</td>\n",
       "      <td>C</td>\n",
       "    </tr>\n",
       "    <tr>\n",
       "      <th>711953</th>\n",
       "      <td>12</td>\n",
       "      <td>95213729</td>\n",
       "      <td>G</td>\n",
       "      <td>C</td>\n",
       "      <td>T</td>\n",
       "    </tr>\n",
       "    <tr>\n",
       "      <th>734724</th>\n",
       "      <td>13</td>\n",
       "      <td>47093502</td>\n",
       "      <td>C</td>\n",
       "      <td>T</td>\n",
       "      <td>G</td>\n",
       "    </tr>\n",
       "    <tr>\n",
       "      <th>787492</th>\n",
       "      <td>14</td>\n",
       "      <td>96562633</td>\n",
       "      <td>G</td>\n",
       "      <td>A</td>\n",
       "      <td>C</td>\n",
       "    </tr>\n",
       "    <tr>\n",
       "      <th>906731</th>\n",
       "      <td>19</td>\n",
       "      <td>46974546</td>\n",
       "      <td>C</td>\n",
       "      <td>G</td>\n",
       "      <td>A</td>\n",
       "    </tr>\n",
       "    <tr>\n",
       "      <th>908541</th>\n",
       "      <td>19</td>\n",
       "      <td>56632972</td>\n",
       "      <td>A</td>\n",
       "      <td>C</td>\n",
       "      <td>G</td>\n",
       "    </tr>\n",
       "    <tr>\n",
       "      <th>940158</th>\n",
       "      <td>21</td>\n",
       "      <td>39082481</td>\n",
       "      <td>G</td>\n",
       "      <td>C</td>\n",
       "      <td>T</td>\n",
       "    </tr>\n",
       "    <tr>\n",
       "      <th>942017</th>\n",
       "      <td>21</td>\n",
       "      <td>43592576</td>\n",
       "      <td>T</td>\n",
       "      <td>A</td>\n",
       "      <td>C</td>\n",
       "    </tr>\n",
       "    <tr>\n",
       "      <th>954055</th>\n",
       "      <td>22</td>\n",
       "      <td>49608168</td>\n",
       "      <td>C</td>\n",
       "      <td>T</td>\n",
       "      <td>A</td>\n",
       "    </tr>\n",
       "    <tr>\n",
       "      <th>954057</th>\n",
       "      <td>22</td>\n",
       "      <td>49613592</td>\n",
       "      <td>G</td>\n",
       "      <td>C</td>\n",
       "      <td>T</td>\n",
       "    </tr>\n",
       "  </tbody>\n",
       "</table>\n",
       "</div>"
      ],
      "text/plain": [
       "        chrom        pos ref alt  r\n",
       "56415       1  194238557   A   G  T\n",
       "63749       1  214486345   G   C  T\n",
       "64487       1  216154223   T   G  C\n",
       "65880       1  220214623   G   A  C\n",
       "167218      3    8213832   A   T  C\n",
       "216271      3  144867812   A   G  C\n",
       "232706      3  188486067   A   C  T\n",
       "233068      3  189480568   A   C  T\n",
       "247954      4   28021832   G   T  C\n",
       "315555      5   16290023   T   G  A\n",
       "322944      5   34570073   T   G  C\n",
       "382410      6   33006338   T   G  A\n",
       "395899      6   66887594   T   G  A\n",
       "438380      7    9201090   A   C  T\n",
       "453200      7   45026736   T   C  G\n",
       "491162      8    1619701   G   C  T\n",
       "506032      8   31819135   G   C  A\n",
       "545803      8  143022153   G   C  T\n",
       "579248      9  118188696   A   C  T\n",
       "600934     10   36502375   T   G  A\n",
       "621686     10  105542691   A   G  T\n",
       "653667     11   56041723   A   C  T\n",
       "678126     11  127201859   A   G  C\n",
       "711953     12   95213729   G   C  T\n",
       "734724     13   47093502   C   T  G\n",
       "787492     14   96562633   G   A  C\n",
       "906731     19   46974546   C   G  A\n",
       "908541     19   56632972   A   C  G\n",
       "940158     21   39082481   G   C  T\n",
       "942017     21   43592576   T   A  C\n",
       "954055     22   49608168   C   T  A\n",
       "954057     22   49613592   G   C  T"
      ]
     },
     "execution_count": 22,
     "metadata": {},
     "output_type": "execute_result"
    }
   ],
   "source": [
    "old_snps.query('Href == 9')[['chrom', 'pos', 'ref', 'alt', 'r']]"
   ]
  },
  {
   "cell_type": "markdown",
   "metadata": {},
   "source": [
    "#### Conclusion\n",
    "\n",
    "There are in total 32 \"missing\" Href sites, and these are exactly the ones where the ref/alt columns in the genosnp file differ from the \"true\" allele in the hg19 genome.\n",
    "\n",
    "It's hard to say why are these sites listed as missing in the reference genome, if they are not really missing. Must be some bug in a script that generated the snp files."
   ]
  },
  {
   "cell_type": "markdown",
   "metadata": {},
   "source": [
    "## \"ref\" column defined by EIGENSTRAT is not always the same as the true hg19 allele"
   ]
  },
  {
   "cell_type": "markdown",
   "metadata": {},
   "source": [
    "Sometimes, the true reference allele corresponds to the alt column in the file. In fact, most of the time:"
   ]
  },
  {
   "cell_type": "code",
   "execution_count": 60,
   "metadata": {
    "collapsed": false
   },
   "outputs": [
    {
     "data": {
      "text/plain": [
       "1    9067\n",
       "Name: Href, dtype: int64"
      ]
     },
     "execution_count": 60,
     "metadata": {},
     "output_type": "execute_result"
    }
   ],
   "source": [
    "old_snps.query('ref == r').Href.value_counts()"
   ]
  },
  {
   "cell_type": "code",
   "execution_count": 61,
   "metadata": {
    "collapsed": false
   },
   "outputs": [
    {
     "data": {
      "text/plain": [
       "0    945357\n",
       "Name: Href, dtype: int64"
      ]
     },
     "execution_count": 61,
     "metadata": {},
     "output_type": "execute_result"
    }
   ],
   "source": [
    "old_snps.query('alt == r').Href.value_counts()"
   ]
  },
  {
   "cell_type": "markdown",
   "metadata": {},
   "source": [
    "This was from the old two-parts David's file. The numbers are the same in the latest file published on their web:"
   ]
  },
  {
   "cell_type": "code",
   "execution_count": 66,
   "metadata": {
    "collapsed": false
   },
   "outputs": [
    {
     "data": {
      "text/plain": [
       "9067"
      ]
     },
     "execution_count": 66,
     "metadata": {},
     "output_type": "execute_result"
    }
   ],
   "source": [
    "len(new_snps.query('ref == r'))"
   ]
  },
  {
   "cell_type": "code",
   "execution_count": 67,
   "metadata": {
    "collapsed": false
   },
   "outputs": [
    {
     "data": {
      "text/plain": [
       "945357"
      ]
     },
     "execution_count": 67,
     "metadata": {},
     "output_type": "execute_result"
    }
   ],
   "source": [
    "len(new_snps.query('alt == r'))"
   ]
  },
  {
   "cell_type": "markdown",
   "metadata": {},
   "source": [
    "Also, it can be seen that these two cases (true reference matches ref or alt columns) correspond exactly to the 0s and 1s in the Href column.\n",
    "\n",
    "Perhaps this happened by merging two datasets of different formats? In any case, it should be easy to fix this by just using the fetched hg19 allele values and correcting the \"flipped\" ref/alt columns."
   ]
  },
  {
   "cell_type": "markdown",
   "metadata": {},
   "source": [
    "**Moreover**, it's clear from this that the \"ref\" column doesn't actually contain hg19 reference alleles. Somehow the columns must be flipped (if they are really supposed to be in the EIGENSTRAT format)."
   ]
  },
  {
   "cell_type": "markdown",
   "metadata": {},
   "source": [
    "### Distribution of 0/1/9 at sites where \"true\" ref allele equals the \"alt\" in the snp file"
   ]
  },
  {
   "cell_type": "code",
   "execution_count": 75,
   "metadata": {
    "collapsed": false
   },
   "outputs": [
    {
     "data": {
      "text/plain": [
       "0    886905\n",
       "1     46818\n",
       "9      9186\n",
       "2      2448\n",
       "Name: Ust_Ishim, dtype: int64"
      ]
     },
     "execution_count": 75,
     "metadata": {},
     "output_type": "execute_result"
    }
   ],
   "source": [
    "new_snps.query('alt == r').Ust_Ishim.value_counts()"
   ]
  },
  {
   "cell_type": "code",
   "execution_count": 47,
   "metadata": {
    "collapsed": false
   },
   "outputs": [
    {
     "data": {
      "text/html": [
       "<div>\n",
       "<table border=\"1\" class=\"dataframe\">\n",
       "  <thead>\n",
       "    <tr style=\"text-align: right;\">\n",
       "      <th></th>\n",
       "      <th>chrom</th>\n",
       "      <th>pos</th>\n",
       "      <th>ref</th>\n",
       "      <th>alt</th>\n",
       "      <th>r</th>\n",
       "      <th>Ust_Ishim</th>\n",
       "    </tr>\n",
       "  </thead>\n",
       "  <tbody>\n",
       "    <tr>\n",
       "      <th>1690</th>\n",
       "      <td>1</td>\n",
       "      <td>4965738</td>\n",
       "      <td>A</td>\n",
       "      <td>C</td>\n",
       "      <td>C</td>\n",
       "      <td>2</td>\n",
       "    </tr>\n",
       "    <tr>\n",
       "      <th>1691</th>\n",
       "      <td>1</td>\n",
       "      <td>4965740</td>\n",
       "      <td>G</td>\n",
       "      <td>C</td>\n",
       "      <td>C</td>\n",
       "      <td>2</td>\n",
       "    </tr>\n",
       "    <tr>\n",
       "      <th>1696</th>\n",
       "      <td>1</td>\n",
       "      <td>4965748</td>\n",
       "      <td>G</td>\n",
       "      <td>C</td>\n",
       "      <td>C</td>\n",
       "      <td>2</td>\n",
       "    </tr>\n",
       "  </tbody>\n",
       "</table>\n",
       "</div>"
      ],
      "text/plain": [
       "      chrom      pos ref alt  r  Ust_Ishim\n",
       "1690      1  4965738   A   C  C          2\n",
       "1691      1  4965740   G   C  C          2\n",
       "1696      1  4965748   G   C  C          2"
      ]
     },
     "execution_count": 47,
     "metadata": {},
     "output_type": "execute_result"
    }
   ],
   "source": [
    "new_snps.query('alt == r & Ust_Ishim == 2')[['chrom', 'pos', 'ref', 'alt', 'r', 'Ust_Ishim']].head(3)"
   ]
  },
  {
   "cell_type": "code",
   "execution_count": 48,
   "metadata": {
    "collapsed": false
   },
   "outputs": [
    {
     "name": "stdout",
     "output_type": "stream",
     "text": [
      "1\t4965738\t.\tC\tA\t38.39\t.\tAC=2;AF=1;AN=2;DP=2;Dels=0;FS=0;HRun=0;HaplotypeScore=0;MQ=31.58;MQ0=0;QD=19.19;UR;TS=HPGOMC;TSseq=C,C,C,C,C,C;CAnc=C;GAnc=C;OAnc=C;bSC=978;mSC=0;pSC=0.072;GRP=-3.14;Map20=1\tGT:DP:GQ:PL:A:C:G:T:IR\t1/1:2:6.02:70,6,0:1,1:0,0:0,0:0,0:0\n",
      "1\t4965740\t.\tC\tG\t38.39\t.\tAC=2;AF=1;AN=2;DP=2;Dels=0;FS=0;HRun=0;HaplotypeScore=0;MQ=31.58;MQ0=0;QD=19.19;UR;TS=HPGOMC;TSseq=C,C,C,C,C,C;CAnc=C;GAnc=C;OAnc=C;bSC=978;mSC=0;pSC=0.06;GRP=-5.14;Map20=1\tGT:DP:GQ:PL:A:C:G:T:IR\t1/1:2:6.02:70,6,0:0,0:0,0:1,1:0,0:0\n",
      "1\t4965748\t.\tC\tG\t86.55\t.\tAC=2;AF=1;AN=2;DP=3;Dels=0;FS=0;HRun=0;HaplotypeScore=0;MQ=37;MQ0=0;QD=28.85;UR;TS=HPGOMC;TSseq=C,C,C,C,C,C;CAnc=C;GAnc=C;OAnc=C;bSC=978;mSC=0.003;pSC=0.038;GRP=0.602;Map20=1\tGT:DP:GQ:PL:A:C:G:T:IR\t1/1:3:9.03:119,9,0:0,0:0,0:1,2:0,0:0\n"
     ]
    }
   ],
   "source": [
    "%%bash \n",
    "bcftools view -H /mnt/454/Ust_Ishim/1_Extended_VCF/Ust_Ishim.hg19_1000g.1.mod.vcf.gz 1:4965738\n",
    "bcftools view -H /mnt/454/Ust_Ishim/1_Extended_VCF/Ust_Ishim.hg19_1000g.1.mod.vcf.gz 1:4965740\n",
    "bcftools view -H /mnt/454/Ust_Ishim/1_Extended_VCF/Ust_Ishim.hg19_1000g.1.mod.vcf.gz 1:4965748"
   ]
  },
  {
   "cell_type": "code",
   "execution_count": 49,
   "metadata": {
    "collapsed": false
   },
   "outputs": [
    {
     "data": {
      "text/html": [
       "<div>\n",
       "<table border=\"1\" class=\"dataframe\">\n",
       "  <thead>\n",
       "    <tr style=\"text-align: right;\">\n",
       "      <th></th>\n",
       "      <th>chrom</th>\n",
       "      <th>pos</th>\n",
       "      <th>ref</th>\n",
       "      <th>alt</th>\n",
       "      <th>r</th>\n",
       "      <th>Ust_Ishim</th>\n",
       "    </tr>\n",
       "  </thead>\n",
       "  <tbody>\n",
       "    <tr>\n",
       "      <th>0</th>\n",
       "      <td>1</td>\n",
       "      <td>847983</td>\n",
       "      <td>T</td>\n",
       "      <td>C</td>\n",
       "      <td>C</td>\n",
       "      <td>0</td>\n",
       "    </tr>\n",
       "    <tr>\n",
       "      <th>1</th>\n",
       "      <td>1</td>\n",
       "      <td>853089</td>\n",
       "      <td>C</td>\n",
       "      <td>G</td>\n",
       "      <td>G</td>\n",
       "      <td>0</td>\n",
       "    </tr>\n",
       "    <tr>\n",
       "      <th>2</th>\n",
       "      <td>1</td>\n",
       "      <td>853596</td>\n",
       "      <td>G</td>\n",
       "      <td>A</td>\n",
       "      <td>A</td>\n",
       "      <td>0</td>\n",
       "    </tr>\n",
       "  </tbody>\n",
       "</table>\n",
       "</div>"
      ],
      "text/plain": [
       "   chrom     pos ref alt  r  Ust_Ishim\n",
       "0      1  847983   T   C  C          0\n",
       "1      1  853089   C   G  G          0\n",
       "2      1  853596   G   A  A          0"
      ]
     },
     "execution_count": 49,
     "metadata": {},
     "output_type": "execute_result"
    }
   ],
   "source": [
    "new_snps.query('alt == r & Ust_Ishim == 0')[['chrom', 'pos', 'ref', 'alt', 'r', 'Ust_Ishim']].head(3)"
   ]
  },
  {
   "cell_type": "code",
   "execution_count": 50,
   "metadata": {
    "collapsed": false
   },
   "outputs": [
    {
     "name": "stdout",
     "output_type": "stream",
     "text": [
      "1\t847983\trs79932038\tC\t.\t101.35\t.\tAC=0;AF=0;AN=2;DP=37;MQ=36.87;MQ0=0;1000gALT=T;AF1000g=0;ASN_AF=0.01;CpG;RM;TS=HP;TSseq=C,C;CAnc=C;bSC=958;mSC=0.058;pSC=0.166;GRP=1.42;Map20=1\tGT:DP:GQ:PL:A:C:G:T:IR\t0/0:37:71.36:0,71,1385:0,0:16,20:0,0:1,0:0\n",
      "1\t853089\trs78738176\tG\t.\t72.13\t.\tAC=0;AF=0;AN=2;DP=15;MQ=37;MQ0=0;1000gALT=C;AF1000g=0;ASN_AF=0.01;TS=HP;TSseq=G,G;CAnc=G;bSC=958;pSC=0.067;GRP=0.427;Map20=1\tGT:DP:GQ:PL:A:C:G:T:IR\t0/0:15:42.14:0,42,552:0,0:0,0:6,9:0,0:0\n",
      "1\t853596\trs191666748\tA\t.\t81.15\t.\tAC=0;AF=0;AN=2;DP=21;MQ=37;MQ0=0;1000gALT=G;AF1000g=0;ASN_AF=0.01;TS=HP;TSseq=A,G;CAnc=A;bSC=958;pSC=0.048;GRP=1.5;Map20=1\tGT:DP:GQ:PL:A:C:G:T:IR\t0/0:21:51.16:0,51,654:8,13:0,0:0,0:0,0:0\n"
     ]
    }
   ],
   "source": [
    "%%bash \n",
    "bcftools view -H /mnt/454/Ust_Ishim/1_Extended_VCF/Ust_Ishim.hg19_1000g.1.mod.vcf.gz 1:847983\n",
    "bcftools view -H /mnt/454/Ust_Ishim/1_Extended_VCF/Ust_Ishim.hg19_1000g.1.mod.vcf.gz 1:853089\n",
    "bcftools view -H /mnt/454/Ust_Ishim/1_Extended_VCF/Ust_Ishim.hg19_1000g.1.mod.vcf.gz 1:853596"
   ]
  },
  {
   "cell_type": "code",
   "execution_count": 51,
   "metadata": {
    "collapsed": false
   },
   "outputs": [
    {
     "data": {
      "text/html": [
       "<div>\n",
       "<table border=\"1\" class=\"dataframe\">\n",
       "  <thead>\n",
       "    <tr style=\"text-align: right;\">\n",
       "      <th></th>\n",
       "      <th>chrom</th>\n",
       "      <th>pos</th>\n",
       "      <th>ref</th>\n",
       "      <th>alt</th>\n",
       "      <th>r</th>\n",
       "      <th>Ust_Ishim</th>\n",
       "    </tr>\n",
       "  </thead>\n",
       "  <tbody>\n",
       "    <tr>\n",
       "      <th>30</th>\n",
       "      <td>1</td>\n",
       "      <td>1125110</td>\n",
       "      <td>C</td>\n",
       "      <td>T</td>\n",
       "      <td>T</td>\n",
       "      <td>1</td>\n",
       "    </tr>\n",
       "    <tr>\n",
       "      <th>177</th>\n",
       "      <td>1</td>\n",
       "      <td>1891394</td>\n",
       "      <td>T</td>\n",
       "      <td>C</td>\n",
       "      <td>C</td>\n",
       "      <td>1</td>\n",
       "    </tr>\n",
       "    <tr>\n",
       "      <th>224</th>\n",
       "      <td>1</td>\n",
       "      <td>1969741</td>\n",
       "      <td>A</td>\n",
       "      <td>G</td>\n",
       "      <td>G</td>\n",
       "      <td>1</td>\n",
       "    </tr>\n",
       "  </tbody>\n",
       "</table>\n",
       "</div>"
      ],
      "text/plain": [
       "     chrom      pos ref alt  r  Ust_Ishim\n",
       "30       1  1125110   C   T  T          1\n",
       "177      1  1891394   T   C  C          1\n",
       "224      1  1969741   A   G  G          1"
      ]
     },
     "execution_count": 51,
     "metadata": {},
     "output_type": "execute_result"
    }
   ],
   "source": [
    "new_snps.query('alt == r & Ust_Ishim == 1')[['chrom', 'pos', 'ref', 'alt', 'r', 'Ust_Ishim']].head(3)"
   ]
  },
  {
   "cell_type": "code",
   "execution_count": 52,
   "metadata": {
    "collapsed": false
   },
   "outputs": [
    {
     "name": "stdout",
     "output_type": "stream",
     "text": [
      "1\t1125110\trs12124436\tT\tC\t609.72\t.\tAC=1;AF=0.5;AN=2;BaseQRankSum=0.894;DP=40;Dels=0;FS=0;HRun=0;HaplotypeScore=1.9971;MQ=37.75;MQ0=0;MQRankSum=-1.815;QD=15.24;ReadPosRankSum=-1.002;1000gALT=C;AF1000g=0.24;AFR_AF=0.02;AMR_AF=0.3;ASN_AF=0.56;EUR_AF=0.12;RM;TS=HPGOM;TSseq=T,T,T,T,N;CAnc=T;GAnc=T;OAnc=T;bSC=878;mSC=0.048;pSC=0.271;GRP=0;Map20=0.25\tGT:DP:GQ:PL:A:C:G:T:IR\t0/1:40:99:640,0,720:0,0:11,8:0,0:12,9:0\n",
      "1\t1891394\trs142334243\tC\tT\t201.87\t.\tAC=1;AF=0.5;AN=2;BaseQRankSum=-0.058;DP=15;Dels=0;FS=2.081;HRun=1;HaplotypeScore=0;MQ=37;MQ0=0;MQRankSum=-0.058;QD=13.46;ReadPosRankSum=-0.289;1000gALT=T;AF1000g=0;AFR_AF=0.02;TS=HPGOMC;TSseq=C,-,C,T,T,T;CAnc=C;GAnc=C;OAnc=T;bSC=873\tGT:DP:GQ:PL:A:C:G:T:IR\t0/1:15:99:232,0,274:0,0:5,3:0,0:3,4:0\n",
      "1\t1969741\trs76295110\tG\tA\t77.54\t.\tAC=1;AF=0.5;AN=2;BaseQRankSum=0.832;DP=32;Dels=0;FS=11.826;HRun=0;HaplotypeScore=0.9997;MQ=37;MQ0=0;MQRankSum=-2.283;QD=2.42;ReadPosRankSum=0.886;1000gALT=A;AF1000g=0.01;ASN_AF=0.03;CpG;RM;TS=HPGOMC;TSseq=G,G,G,A,A,A;CAnc=G;GAnc=G;OAnc=A;bSC=929;mSC=0;pSC=0.127;GRP=-2.68;Map20=1\tGT:DP:GQ:PL:A:C:G:T:IR\t0/1:32:99:108,0,893:0,6:0,0:13,13:0,0:0\n"
     ]
    }
   ],
   "source": [
    "%%bash \n",
    "bcftools view -H /mnt/454/Ust_Ishim/1_Extended_VCF/Ust_Ishim.hg19_1000g.1.mod.vcf.gz 1:1125110\n",
    "bcftools view -H /mnt/454/Ust_Ishim/1_Extended_VCF/Ust_Ishim.hg19_1000g.1.mod.vcf.gz 1:1891394\n",
    "bcftools view -H /mnt/454/Ust_Ishim/1_Extended_VCF/Ust_Ishim.hg19_1000g.1.mod.vcf.gz 1:1969741"
   ]
  },
  {
   "cell_type": "markdown",
   "metadata": {},
   "source": [
    "### Distribution of 0/1/9 at sites where \"true\" ref allele equals the \"ref\" in the snp file"
   ]
  },
  {
   "cell_type": "code",
   "execution_count": 68,
   "metadata": {
    "collapsed": false
   },
   "outputs": [
    {
     "data": {
      "text/plain": [
       "0    7562\n",
       "1    1237\n",
       "2     171\n",
       "9      97\n",
       "Name: Ust_Ishim, dtype: int64"
      ]
     },
     "execution_count": 68,
     "metadata": {},
     "output_type": "execute_result"
    }
   ],
   "source": [
    "new_snps.query('ref == r').Ust_Ishim.value_counts()"
   ]
  },
  {
   "cell_type": "code",
   "execution_count": 69,
   "metadata": {
    "collapsed": false
   },
   "outputs": [
    {
     "data": {
      "text/html": [
       "<div>\n",
       "<table border=\"1\" class=\"dataframe\">\n",
       "  <thead>\n",
       "    <tr style=\"text-align: right;\">\n",
       "      <th></th>\n",
       "      <th>chrom</th>\n",
       "      <th>pos</th>\n",
       "      <th>ref</th>\n",
       "      <th>alt</th>\n",
       "      <th>r</th>\n",
       "      <th>Ust_Ishim</th>\n",
       "    </tr>\n",
       "  </thead>\n",
       "  <tbody>\n",
       "    <tr>\n",
       "      <th>2726</th>\n",
       "      <td>1</td>\n",
       "      <td>7383183</td>\n",
       "      <td>T</td>\n",
       "      <td>A</td>\n",
       "      <td>T</td>\n",
       "      <td>2</td>\n",
       "    </tr>\n",
       "    <tr>\n",
       "      <th>2727</th>\n",
       "      <td>1</td>\n",
       "      <td>7383184</td>\n",
       "      <td>T</td>\n",
       "      <td>A</td>\n",
       "      <td>T</td>\n",
       "      <td>2</td>\n",
       "    </tr>\n",
       "    <tr>\n",
       "      <th>18632</th>\n",
       "      <td>1</td>\n",
       "      <td>58222892</td>\n",
       "      <td>T</td>\n",
       "      <td>G</td>\n",
       "      <td>T</td>\n",
       "      <td>2</td>\n",
       "    </tr>\n",
       "  </tbody>\n",
       "</table>\n",
       "</div>"
      ],
      "text/plain": [
       "       chrom       pos ref alt  r  Ust_Ishim\n",
       "2726       1   7383183   T   A  T          2\n",
       "2727       1   7383184   T   A  T          2\n",
       "18632      1  58222892   T   G  T          2"
      ]
     },
     "execution_count": 69,
     "metadata": {},
     "output_type": "execute_result"
    }
   ],
   "source": [
    "new_snps.query('ref == r & Ust_Ishim == 2')[['chrom', 'pos', 'ref', 'alt', 'r', 'Ust_Ishim']].head(3)"
   ]
  },
  {
   "cell_type": "markdown",
   "metadata": {},
   "source": [
    "Lets look at the first three sites"
   ]
  },
  {
   "cell_type": "code",
   "execution_count": 40,
   "metadata": {
    "collapsed": false
   },
   "outputs": [
    {
     "name": "stdout",
     "output_type": "stream",
     "text": [
      "1\t7383183\trs6686160\tT\t.\t183.49\t.\tAC=0;AF=0;AN=2;DP=52;MQ=37;MQ0=0;1000gALT=A;AF1000g=0.75;AFR_AF=0.88;AMR_AF=0.75;ASN_AF=0.82;EUR_AF=0.61;RM;UR;TS=HPGOMC;TSseq=T,T,T,T,TTTTTTA,T;CAnc=T;GAnc=T;OAnc=T;bSC=957;mSC=0.001;pSC=0.033;GRP=1.26;Map20=1\tGT:DP:GQ:PL:A:C:G:T:IR\t0/0:52:99:0,153,2014:0,0:0,0:0,0:26,26:0\n",
      "1\t7383184\trs76405761\tT\t.\t186.5\t.\tAC=0;AF=0;AN=2;DP=52;MQ=37;MQ0=0;1000gALT=A;AF1000g=0.75;AFR_AF=0.91;AMR_AF=0.75;ASN_AF=0.82;EUR_AF=0.61;RM;UR;TS=HPGOMC;TSseq=T,A,T,A,A,A;CAnc=T;GAnc=T;OAnc=A;bSC=957;mSC=0.001;pSC=0.03;GRP=-2.03;Map20=1\tGT:DP:GQ:PL:A:C:G:T:IR\t0/0:52:99:0,157,2055:0,0:0,0:0,0:26,26:0\n",
      "1\t58222892\trs3118052\tT\t.\t63.1\t.\tAC=0;AF=0;AN=2;DP=14;MQ=37.53;MQ0=0;1000gALT=G,TG;AF1000g=1;AFR_AF=1;AMR_AF=1;ASN_AF=1;EUR_AF=1;RM;UR;TS=HPGOMC;TSseq=T,G,G,G,G,A;CAnc=G;GAnc=G;OAnc=G;bSC=939;mSC=0;pSC=0.007;GRP=-1.46;Map20=1\tGT:DP:GQ:PL:A:C:G:T:IR\t0/0:14:33.11:0,33,436:0,0:0,0:0,0:7,7:0\n"
     ]
    }
   ],
   "source": [
    "%%bash \n",
    "bcftools view -H /mnt/454/Ust_Ishim/1_Extended_VCF/Ust_Ishim.hg19_1000g.1.mod.vcf.gz 1:7383183\n",
    "bcftools view -H /mnt/454/Ust_Ishim/1_Extended_VCF/Ust_Ishim.hg19_1000g.1.mod.vcf.gz 1:7383184\n",
    "bcftools view -H /mnt/454/Ust_Ishim/1_Extended_VCF/Ust_Ishim.hg19_1000g.1.mod.vcf.gz 1:58222892"
   ]
  },
  {
   "cell_type": "code",
   "execution_count": 41,
   "metadata": {
    "collapsed": false
   },
   "outputs": [
    {
     "data": {
      "text/html": [
       "<div>\n",
       "<table border=\"1\" class=\"dataframe\">\n",
       "  <thead>\n",
       "    <tr style=\"text-align: right;\">\n",
       "      <th></th>\n",
       "      <th>chrom</th>\n",
       "      <th>pos</th>\n",
       "      <th>ref</th>\n",
       "      <th>alt</th>\n",
       "      <th>r</th>\n",
       "      <th>Ust_Ishim</th>\n",
       "    </tr>\n",
       "  </thead>\n",
       "  <tbody>\n",
       "    <tr>\n",
       "      <th>393</th>\n",
       "      <td>1</td>\n",
       "      <td>2256245</td>\n",
       "      <td>A</td>\n",
       "      <td>T</td>\n",
       "      <td>A</td>\n",
       "      <td>0</td>\n",
       "    </tr>\n",
       "    <tr>\n",
       "      <th>719</th>\n",
       "      <td>1</td>\n",
       "      <td>2998934</td>\n",
       "      <td>T</td>\n",
       "      <td>C</td>\n",
       "      <td>T</td>\n",
       "      <td>0</td>\n",
       "    </tr>\n",
       "    <tr>\n",
       "      <th>720</th>\n",
       "      <td>1</td>\n",
       "      <td>2999202</td>\n",
       "      <td>T</td>\n",
       "      <td>C</td>\n",
       "      <td>T</td>\n",
       "      <td>0</td>\n",
       "    </tr>\n",
       "  </tbody>\n",
       "</table>\n",
       "</div>"
      ],
      "text/plain": [
       "     chrom      pos ref alt  r  Ust_Ishim\n",
       "393      1  2256245   A   T  A          0\n",
       "719      1  2998934   T   C  T          0\n",
       "720      1  2999202   T   C  T          0"
      ]
     },
     "execution_count": 41,
     "metadata": {},
     "output_type": "execute_result"
    }
   ],
   "source": [
    "new_snps.query('ref == r & Ust_Ishim == 0')[['chrom', 'pos', 'ref', 'alt', 'r', 'Ust_Ishim']].head(3)"
   ]
  },
  {
   "cell_type": "markdown",
   "metadata": {},
   "source": [
    "Lets look at the first three sites"
   ]
  },
  {
   "cell_type": "code",
   "execution_count": 42,
   "metadata": {
    "collapsed": false
   },
   "outputs": [
    {
     "name": "stdout",
     "output_type": "stream",
     "text": [
      "1\t2256245\trs2843148\tA\tT\t1392.14\t.\tAC=2;AF=1;AN=2;DP=36;Dels=0;FS=0;HRun=0;HaplotypeScore=0;MQ=37;MQ0=0;QD=38.67;1000gALT=T;AF1000g=0.78;AFR_AF=0.96;AMR_AF=0.6;ASN_AF=0.9;EUR_AF=0.64;TS=HPGOMC;TSseq=A,T,T,T,-,T;CAnc=T;GAnc=T;OAnc=T;bSC=923;mSC=0.002;pSC=0.011;GRP=-1.64;Map20=1\tGT:DP:GQ:PL:A:C:G:T:IR\t1/1:36:99:1425,108,0:0,0:0,0:0,0:19,17:0\n",
      "1\t2998934\trs2742686\tT\tC\t907.37\t.\tAC=2;AF=1;AN=2;DP=24;Dels=0;FS=0;HRun=1;HaplotypeScore=0;MQ=38.24;MQ0=0;QD=37.81;1000gALT=C;AF1000g=0.92;AFR_AF=0.99;AMR_AF=0.9;ASN_AF=0.97;EUR_AF=0.84;UR;TS=HPGOMC;TSseq=T,C,C,C,C,C;CAnc=C;GAnc=C;OAnc=C;bSC=980;mSC=0;pSC=0.012;GRP=-2.09;Map20=1\tGT:DP:GQ:PL:A:C:G:T:IR\t1/1:24:72.22:940,72,0:0,0:11,13:0,0:0,0:0\n",
      "1\t2999202\trs2742685\tT\tC\t793.27\t.\tAC=2;AF=1;AN=2;DP=21;Dels=0;FS=0;HRun=0;HaplotypeScore=0;MQ=37;MQ0=0;QD=37.77;1000gALT=C;AF1000g=0.93;AFR_AF=0.99;AMR_AF=0.92;ASN_AF=1;EUR_AF=0.84;CpG;UR;TS=HPGOMC;TSseq=T,C,C,C,C,T;CAnc=C;GAnc=C;OAnc=C;bSC=981;mSC=0;pSC=0.005;GRP=-4.11;Map20=1\tGT:DP:GQ:PL:A:C:G:T:IR\t1/1:21:63.2:826,63,0:0,0:12,9:0,0:0,0:0\n"
     ]
    }
   ],
   "source": [
    "%%bash \n",
    "bcftools view -H /mnt/454/Ust_Ishim/1_Extended_VCF/Ust_Ishim.hg19_1000g.1.mod.vcf.gz 1:2256245\n",
    "bcftools view -H /mnt/454/Ust_Ishim/1_Extended_VCF/Ust_Ishim.hg19_1000g.1.mod.vcf.gz 1:2998934\n",
    "bcftools view -H /mnt/454/Ust_Ishim/1_Extended_VCF/Ust_Ishim.hg19_1000g.1.mod.vcf.gz 1:2999202"
   ]
  },
  {
   "cell_type": "code",
   "execution_count": 43,
   "metadata": {
    "collapsed": false
   },
   "outputs": [
    {
     "data": {
      "text/html": [
       "<div>\n",
       "<table border=\"1\" class=\"dataframe\">\n",
       "  <thead>\n",
       "    <tr style=\"text-align: right;\">\n",
       "      <th></th>\n",
       "      <th>chrom</th>\n",
       "      <th>pos</th>\n",
       "      <th>ref</th>\n",
       "      <th>alt</th>\n",
       "      <th>r</th>\n",
       "      <th>Ust_Ishim</th>\n",
       "    </tr>\n",
       "  </thead>\n",
       "  <tbody>\n",
       "    <tr>\n",
       "      <th>2795</th>\n",
       "      <td>1</td>\n",
       "      <td>7549220</td>\n",
       "      <td>A</td>\n",
       "      <td>G</td>\n",
       "      <td>A</td>\n",
       "      <td>1</td>\n",
       "    </tr>\n",
       "    <tr>\n",
       "      <th>4997</th>\n",
       "      <td>1</td>\n",
       "      <td>14126453</td>\n",
       "      <td>C</td>\n",
       "      <td>T</td>\n",
       "      <td>C</td>\n",
       "      <td>1</td>\n",
       "    </tr>\n",
       "    <tr>\n",
       "      <th>5668</th>\n",
       "      <td>1</td>\n",
       "      <td>15433638</td>\n",
       "      <td>A</td>\n",
       "      <td>C</td>\n",
       "      <td>A</td>\n",
       "      <td>1</td>\n",
       "    </tr>\n",
       "  </tbody>\n",
       "</table>\n",
       "</div>"
      ],
      "text/plain": [
       "      chrom       pos ref alt  r  Ust_Ishim\n",
       "2795      1   7549220   A   G  A          1\n",
       "4997      1  14126453   C   T  C          1\n",
       "5668      1  15433638   A   C  A          1"
      ]
     },
     "execution_count": 43,
     "metadata": {},
     "output_type": "execute_result"
    }
   ],
   "source": [
    "new_snps.query('ref == r & Ust_Ishim == 1')[['chrom', 'pos', 'ref', 'alt', 'r', 'Ust_Ishim']].head(3)"
   ]
  },
  {
   "cell_type": "markdown",
   "metadata": {},
   "source": [
    "Lets look at the first three sites"
   ]
  },
  {
   "cell_type": "code",
   "execution_count": 44,
   "metadata": {
    "collapsed": false
   },
   "outputs": [
    {
     "name": "stdout",
     "output_type": "stream",
     "text": [
      "1\t7549220\trs1725272\tA\tG\t407.57\t.\tAC=1;AF=0.5;AN=2;BaseQRankSum=1.474;DP=28;Dels=0;FS=0;HRun=2;HaplotypeScore=0;MQ=39.09;MQ0=0;MQRankSum=0.691;QD=14.56;ReadPosRankSum=-0.553;1000gALT=G;AF1000g=0.74;AFR_AF=0.94;AMR_AF=0.66;ASN_AF=0.8;EUR_AF=0.61;CpG;TS=HPGOMC;TSseq=A,G,G,G,G,G;CAnc=G;GAnc=G;OAnc=G;bSC=955;mSC=0;pSC=0.015;GRP=-1.84;Map20=1\tGT:DP:GQ:PL:A:C:G:T:IR\t0/1:28:99:438,0,495:4,11:0,0:4,9:0,0:0\n",
      "1\t14126453\trs2014788\tC\tT\t963.19\t.\tAC=1;AF=0.5;AN=2;BaseQRankSum=0.156;DP=56;Dels=0;FS=2.277;HRun=2;HaplotypeScore=2.7881;MQ=37.36;MQ0=0;MQRankSum=0.312;QD=17.2;ReadPosRankSum=-0.729;1000gALT=T;AF1000g=0.64;AFR_AF=0.95;AMR_AF=0.62;ASN_AF=0.54;EUR_AF=0.52;RM;UR;TS=HPGOMC;TSseq=C,T,T,T,T,T;CAnc=T;GAnc=T;OAnc=T;bSC=824;mSC=0.001;pSC=0.032;GRP=0.926;Map20=1\tGT:DP:GQ:PL:A:C:G:T:IR\t0/1:56:99:993,0,829:0,1:15,10:0,0:16,14:0\n",
      "1\t15433638\trs545416\tA\tC\t479.2\t.\tAC=1;AF=0.5;AN=2;BaseQRankSum=1.002;DP=41;Dels=0;FS=0;HRun=0;HaplotypeScore=3.9061;MQ=36.64;MQ0=0;MQRankSum=1.216;QD=11.69;ReadPosRankSum=1.697;1000gALT=C;AF1000g=0.88;AFR_AF=0.93;AMR_AF=0.87;ASN_AF=0.94;EUR_AF=0.8;TS=HPGOMC;TSseq=A,A,A,A,A,A;CAnc=A;GAnc=A;OAnc=A;bSC=917;mSC=0.001;pSC=0.041;GRP=-0.627;Map20=1\tGT:DP:GQ:PL:A:C:G:T:IR\t0/1:41:99:509,0,862:11,14:7,9:0,0:0,0:0\n"
     ]
    }
   ],
   "source": [
    "%%bash \n",
    "bcftools view -H /mnt/454/Ust_Ishim/1_Extended_VCF/Ust_Ishim.hg19_1000g.1.mod.vcf.gz 1:7549220\n",
    "bcftools view -H /mnt/454/Ust_Ishim/1_Extended_VCF/Ust_Ishim.hg19_1000g.1.mod.vcf.gz 1:14126453\n",
    "bcftools view -H /mnt/454/Ust_Ishim/1_Extended_VCF/Ust_Ishim.hg19_1000g.1.mod.vcf.gz 1:15433638"
   ]
  }
 ],
 "metadata": {
  "kernelspec": {
   "display_name": "Python 3",
   "language": "python",
   "name": "python3"
  },
  "language_info": {
   "codemirror_mode": {
    "name": "ipython",
    "version": 3
   },
   "file_extension": ".py",
   "mimetype": "text/x-python",
   "name": "python",
   "nbconvert_exporter": "python",
   "pygments_lexer": "ipython3",
   "version": "3.5.2"
  }
 },
 "nbformat": 4,
 "nbformat_minor": 1
}
