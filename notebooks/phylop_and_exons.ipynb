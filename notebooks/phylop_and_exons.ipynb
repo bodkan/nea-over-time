{
 "cells": [
  {
   "cell_type": "markdown",
   "metadata": {
    "collapsed": true
   },
   "source": [
    "This notebook processes the `genosnp` file with data from the \"Ice Age\" paper into a sensible table, which can be used by other things than just ADMIXTOOLS etc."
   ]
  },
  {
   "cell_type": "code",
   "execution_count": 1,
   "metadata": {
    "collapsed": true
   },
   "outputs": [],
   "source": [
    "import pandas as pd\n",
    "import numpy as np\n",
    "import pybedtools\n",
    "from pybedtools import BedTool"
   ]
  },
  {
   "cell_type": "code",
   "execution_count": 2,
   "metadata": {
    "collapsed": true
   },
   "outputs": [],
   "source": [
    "import matplotlib.pyplot as plt"
   ]
  },
  {
   "cell_type": "code",
   "execution_count": 3,
   "metadata": {
    "collapsed": true
   },
   "outputs": [],
   "source": [
    "%matplotlib inline\n",
    "\n",
    "plt.style.use('ggplot')"
   ]
  },
  {
   "cell_type": "markdown",
   "metadata": {},
   "source": [
    "### Read the positions of sites from the archaic admixture array"
   ]
  },
  {
   "cell_type": "code",
   "execution_count": 4,
   "metadata": {
    "collapsed": false
   },
   "outputs": [],
   "source": [
    "snp_pos = pd.read_table('../clean_data/ice_age.tsv')[['chrom', 'pos']]"
   ]
  },
  {
   "cell_type": "code",
   "execution_count": 5,
   "metadata": {
    "collapsed": false
   },
   "outputs": [
    {
     "data": {
      "text/plain": [
       "945357"
      ]
     },
     "execution_count": 5,
     "metadata": {},
     "output_type": "execute_result"
    }
   ],
   "source": [
    "len(snp_pos)"
   ]
  },
  {
   "cell_type": "code",
   "execution_count": 6,
   "metadata": {
    "collapsed": false
   },
   "outputs": [
    {
     "data": {
      "text/html": [
       "<div>\n",
       "<table border=\"1\" class=\"dataframe\">\n",
       "  <thead>\n",
       "    <tr style=\"text-align: right;\">\n",
       "      <th></th>\n",
       "      <th>chrom</th>\n",
       "      <th>pos</th>\n",
       "    </tr>\n",
       "  </thead>\n",
       "  <tbody>\n",
       "    <tr>\n",
       "      <th>0</th>\n",
       "      <td>1</td>\n",
       "      <td>847983</td>\n",
       "    </tr>\n",
       "    <tr>\n",
       "      <th>1</th>\n",
       "      <td>1</td>\n",
       "      <td>853089</td>\n",
       "    </tr>\n",
       "    <tr>\n",
       "      <th>2</th>\n",
       "      <td>1</td>\n",
       "      <td>853596</td>\n",
       "    </tr>\n",
       "    <tr>\n",
       "      <th>3</th>\n",
       "      <td>1</td>\n",
       "      <td>854793</td>\n",
       "    </tr>\n",
       "    <tr>\n",
       "      <th>4</th>\n",
       "      <td>1</td>\n",
       "      <td>858862</td>\n",
       "    </tr>\n",
       "  </tbody>\n",
       "</table>\n",
       "</div>"
      ],
      "text/plain": [
       "   chrom     pos\n",
       "0      1  847983\n",
       "1      1  853089\n",
       "2      1  853596\n",
       "3      1  854793\n",
       "4      1  858862"
      ]
     },
     "execution_count": 6,
     "metadata": {},
     "output_type": "execute_result"
    }
   ],
   "source": [
    "snp_pos.head()"
   ]
  },
  {
   "cell_type": "markdown",
   "metadata": {},
   "source": [
    "# Additional SNP annotations\n",
    "\n",
    "We don't want to rely just on the B value annotations. How about using a more direct measure of this proximity?\n",
    "\n",
    "* distance to the nearest coding region\n",
    "* amount of coding sequence in a X bp window around each site\n",
    "* phyloP score"
   ]
  },
  {
   "cell_type": "markdown",
   "metadata": {},
   "source": [
    "## Exons"
   ]
  },
  {
   "cell_type": "markdown",
   "metadata": {},
   "source": [
    "Create array sites BED object:"
   ]
  },
  {
   "cell_type": "code",
   "execution_count": 7,
   "metadata": {
    "collapsed": false
   },
   "outputs": [],
   "source": [
    "snp_pos['start'] = snp_pos.pos - 1\n",
    "snp_pos['end'] = snp_pos.pos\n",
    "snp_bed = BedTool.from_dataframe(snp_pos[['chrom', 'start', 'end']]).sort()"
   ]
  },
  {
   "cell_type": "markdown",
   "metadata": {},
   "source": [
    "Download the genome annotations"
   ]
  },
  {
   "cell_type": "code",
   "execution_count": 8,
   "metadata": {
    "collapsed": false
   },
   "outputs": [],
   "source": [
    "gtf = pd.read_table('ftp://ftp.ensembl.org/pub/release-75/gtf/homo_sapiens/Homo_sapiens.GRCh37.75.gtf.gz',\n",
    "                    header=None, sep='\\t', skipinitialspace=True, skiprows=5, compression='gzip',\n",
    "                    names=['chrom', 'source', 'feature', 'start', 'end',\n",
    "                           'score', 'strand', 'frame', 'attribute'], low_memory=False)"
   ]
  },
  {
   "cell_type": "code",
   "execution_count": 9,
   "metadata": {
    "collapsed": false,
    "scrolled": true
   },
   "outputs": [
    {
     "data": {
      "text/html": [
       "<div>\n",
       "<table border=\"1\" class=\"dataframe\">\n",
       "  <thead>\n",
       "    <tr style=\"text-align: right;\">\n",
       "      <th></th>\n",
       "      <th>chrom</th>\n",
       "      <th>source</th>\n",
       "      <th>feature</th>\n",
       "      <th>start</th>\n",
       "      <th>end</th>\n",
       "      <th>score</th>\n",
       "      <th>strand</th>\n",
       "      <th>frame</th>\n",
       "      <th>attribute</th>\n",
       "    </tr>\n",
       "  </thead>\n",
       "  <tbody>\n",
       "    <tr>\n",
       "      <th>0</th>\n",
       "      <td>1</td>\n",
       "      <td>pseudogene</td>\n",
       "      <td>gene</td>\n",
       "      <td>11869</td>\n",
       "      <td>14412</td>\n",
       "      <td>.</td>\n",
       "      <td>+</td>\n",
       "      <td>.</td>\n",
       "      <td>gene_id \"ENSG00000223972\"; gene_name \"DDX11L1\"...</td>\n",
       "    </tr>\n",
       "    <tr>\n",
       "      <th>1</th>\n",
       "      <td>1</td>\n",
       "      <td>processed_transcript</td>\n",
       "      <td>transcript</td>\n",
       "      <td>11869</td>\n",
       "      <td>14409</td>\n",
       "      <td>.</td>\n",
       "      <td>+</td>\n",
       "      <td>.</td>\n",
       "      <td>gene_id \"ENSG00000223972\"; transcript_id \"ENST...</td>\n",
       "    </tr>\n",
       "    <tr>\n",
       "      <th>2</th>\n",
       "      <td>1</td>\n",
       "      <td>processed_transcript</td>\n",
       "      <td>exon</td>\n",
       "      <td>11869</td>\n",
       "      <td>12227</td>\n",
       "      <td>.</td>\n",
       "      <td>+</td>\n",
       "      <td>.</td>\n",
       "      <td>gene_id \"ENSG00000223972\"; transcript_id \"ENST...</td>\n",
       "    </tr>\n",
       "    <tr>\n",
       "      <th>3</th>\n",
       "      <td>1</td>\n",
       "      <td>processed_transcript</td>\n",
       "      <td>exon</td>\n",
       "      <td>12613</td>\n",
       "      <td>12721</td>\n",
       "      <td>.</td>\n",
       "      <td>+</td>\n",
       "      <td>.</td>\n",
       "      <td>gene_id \"ENSG00000223972\"; transcript_id \"ENST...</td>\n",
       "    </tr>\n",
       "    <tr>\n",
       "      <th>4</th>\n",
       "      <td>1</td>\n",
       "      <td>processed_transcript</td>\n",
       "      <td>exon</td>\n",
       "      <td>13221</td>\n",
       "      <td>14409</td>\n",
       "      <td>.</td>\n",
       "      <td>+</td>\n",
       "      <td>.</td>\n",
       "      <td>gene_id \"ENSG00000223972\"; transcript_id \"ENST...</td>\n",
       "    </tr>\n",
       "  </tbody>\n",
       "</table>\n",
       "</div>"
      ],
      "text/plain": [
       "  chrom                source     feature  start    end score strand frame  \\\n",
       "0     1            pseudogene        gene  11869  14412     .      +     .   \n",
       "1     1  processed_transcript  transcript  11869  14409     .      +     .   \n",
       "2     1  processed_transcript        exon  11869  12227     .      +     .   \n",
       "3     1  processed_transcript        exon  12613  12721     .      +     .   \n",
       "4     1  processed_transcript        exon  13221  14409     .      +     .   \n",
       "\n",
       "                                           attribute  \n",
       "0  gene_id \"ENSG00000223972\"; gene_name \"DDX11L1\"...  \n",
       "1  gene_id \"ENSG00000223972\"; transcript_id \"ENST...  \n",
       "2  gene_id \"ENSG00000223972\"; transcript_id \"ENST...  \n",
       "3  gene_id \"ENSG00000223972\"; transcript_id \"ENST...  \n",
       "4  gene_id \"ENSG00000223972\"; transcript_id \"ENST...  "
      ]
     },
     "execution_count": 9,
     "metadata": {},
     "output_type": "execute_result"
    }
   ],
   "source": [
    "gtf.head()"
   ]
  },
  {
   "cell_type": "markdown",
   "metadata": {},
   "source": [
    "Subset to exon annotations only and create a BED object"
   ]
  },
  {
   "cell_type": "code",
   "execution_count": 10,
   "metadata": {
    "collapsed": true
   },
   "outputs": [],
   "source": [
    "exons = BedTool.from_dataframe(\n",
    "    gtf[(gtf.source == \"protein_coding\") &\n",
    "        (gtf.feature == \"exon\")].query('end - start > 10')\n",
    ").sort().merge().sort()"
   ]
  },
  {
   "cell_type": "code",
   "execution_count": 11,
   "metadata": {
    "collapsed": false
   },
   "outputs": [
    {
     "data": {
      "text/plain": [
       "81532972"
      ]
     },
     "execution_count": 11,
     "metadata": {},
     "output_type": "execute_result"
    }
   ],
   "source": [
    "exons.total_coverage()"
   ]
  },
  {
   "cell_type": "markdown",
   "metadata": {},
   "source": [
    "### Distance to the nearest exon"
   ]
  },
  {
   "cell_type": "code",
   "execution_count": 12,
   "metadata": {
    "collapsed": false
   },
   "outputs": [],
   "source": [
    "closest = snp_bed.closest(exons, t='first', d=True).to_dataframe()"
   ]
  },
  {
   "cell_type": "code",
   "execution_count": 13,
   "metadata": {
    "collapsed": false
   },
   "outputs": [],
   "source": [
    "snp_pos = snp_pos.merge(closest, on=[\"chrom\", \"start\", \"end\"])[[\"chrom\", \"pos\", \"start\", \"end\", \"thickStart\"]] \\\n",
    "       .rename(columns={\"thickStart\": \"exon_distance\"})"
   ]
  },
  {
   "cell_type": "code",
   "execution_count": 14,
   "metadata": {
    "collapsed": false
   },
   "outputs": [
    {
     "data": {
      "text/html": [
       "<div>\n",
       "<table border=\"1\" class=\"dataframe\">\n",
       "  <thead>\n",
       "    <tr style=\"text-align: right;\">\n",
       "      <th></th>\n",
       "      <th>chrom</th>\n",
       "      <th>pos</th>\n",
       "      <th>start</th>\n",
       "      <th>end</th>\n",
       "      <th>exon_distance</th>\n",
       "    </tr>\n",
       "  </thead>\n",
       "  <tbody>\n",
       "    <tr>\n",
       "      <th>0</th>\n",
       "      <td>1</td>\n",
       "      <td>847983</td>\n",
       "      <td>847982</td>\n",
       "      <td>847983</td>\n",
       "      <td>12277</td>\n",
       "    </tr>\n",
       "    <tr>\n",
       "      <th>1</th>\n",
       "      <td>1</td>\n",
       "      <td>853089</td>\n",
       "      <td>853088</td>\n",
       "      <td>853089</td>\n",
       "      <td>7171</td>\n",
       "    </tr>\n",
       "    <tr>\n",
       "      <th>2</th>\n",
       "      <td>1</td>\n",
       "      <td>853596</td>\n",
       "      <td>853595</td>\n",
       "      <td>853596</td>\n",
       "      <td>6664</td>\n",
       "    </tr>\n",
       "    <tr>\n",
       "      <th>3</th>\n",
       "      <td>1</td>\n",
       "      <td>854793</td>\n",
       "      <td>854792</td>\n",
       "      <td>854793</td>\n",
       "      <td>5467</td>\n",
       "    </tr>\n",
       "    <tr>\n",
       "      <th>4</th>\n",
       "      <td>1</td>\n",
       "      <td>858862</td>\n",
       "      <td>858861</td>\n",
       "      <td>858862</td>\n",
       "      <td>1398</td>\n",
       "    </tr>\n",
       "  </tbody>\n",
       "</table>\n",
       "</div>"
      ],
      "text/plain": [
       "   chrom     pos   start     end  exon_distance\n",
       "0      1  847983  847982  847983          12277\n",
       "1      1  853089  853088  853089           7171\n",
       "2      1  853596  853595  853596           6664\n",
       "3      1  854793  854792  854793           5467\n",
       "4      1  858862  858861  858862           1398"
      ]
     },
     "execution_count": 14,
     "metadata": {},
     "output_type": "execute_result"
    }
   ],
   "source": [
    "snp_pos.head()"
   ]
  },
  {
   "cell_type": "markdown",
   "metadata": {},
   "source": [
    "### Calculate the density of exon sequence in windows upstream/downstream of each SNP"
   ]
  },
  {
   "cell_type": "code",
   "execution_count": 17,
   "metadata": {
    "collapsed": false
   },
   "outputs": [
    {
     "name": "stderr",
     "output_type": "stream",
     "text": [
      "/home/martin_petr/.pyenv/versions/3.5.2/lib/python3.5/site-packages/IPython/core/interactiveshell.py:2821: DtypeWarning: Columns (3) have mixed types. Specify dtype option on import or set low_memory=False.\n",
      "  if self.run_code(code, result):\n"
     ]
    }
   ],
   "source": [
    "# flank specifies how far upstream/downstream to extend the window\n",
    "# Window size will be (2 * flank + 1) bp\n",
    "for flank in [10000, 25000, 50000, 100000]:\n",
    "    # generate the BED object of windows flanking both sides of all SNPs\n",
    "    snp_windows = snp_bed.slop(b=flank, genome='hg19')\n",
    "    \n",
    "    # for each exon overlapping a given window, count the number of bases\n",
    "    # of the overlap -- one row for each potential exon\n",
    "    # If there are no exons overlapping a window, report 0 bp overlap\n",
    "    exon_overlaps = snp_windows.intersect(exons, wao=True)   \\\n",
    "                               .to_dataframe()[['chrom', 'start', 'end', 'thickStart']]\n",
    "        \n",
    "    # thickStart contains the number of bases overlapping each exon in\n",
    "    # a window around each SNP -- Summing up this column for each unique\n",
    "    # region using groupby (i.e. window around each SNP) gives the total\n",
    "    # number of coding sequence surrounding each SNP\n",
    "    exon_total = exon_overlaps.groupby(['chrom', 'start', 'end'])['thickStart'].sum().reset_index()['thickStart']\n",
    "    snp_pos['exon_density_' + str(flank)] = exon_total / (2 * flank + 1)"
   ]
  },
  {
   "cell_type": "code",
   "execution_count": 18,
   "metadata": {
    "collapsed": false
   },
   "outputs": [
    {
     "data": {
      "text/html": [
       "<div>\n",
       "<table border=\"1\" class=\"dataframe\">\n",
       "  <thead>\n",
       "    <tr style=\"text-align: right;\">\n",
       "      <th></th>\n",
       "      <th>chrom</th>\n",
       "      <th>pos</th>\n",
       "      <th>start</th>\n",
       "      <th>end</th>\n",
       "      <th>exon_distance</th>\n",
       "      <th>exon_density_10000</th>\n",
       "      <th>exon_density_25000</th>\n",
       "      <th>exon_density_50000</th>\n",
       "      <th>exon_density_100000</th>\n",
       "    </tr>\n",
       "  </thead>\n",
       "  <tbody>\n",
       "    <tr>\n",
       "      <th>0</th>\n",
       "      <td>1</td>\n",
       "      <td>847983</td>\n",
       "      <td>847982</td>\n",
       "      <td>847983</td>\n",
       "      <td>12277</td>\n",
       "      <td>0.000000</td>\n",
       "      <td>0.013520</td>\n",
       "      <td>0.062229</td>\n",
       "      <td>0.072560</td>\n",
       "    </tr>\n",
       "    <tr>\n",
       "      <th>1</th>\n",
       "      <td>1</td>\n",
       "      <td>853089</td>\n",
       "      <td>853088</td>\n",
       "      <td>853089</td>\n",
       "      <td>7171</td>\n",
       "      <td>0.015749</td>\n",
       "      <td>0.029219</td>\n",
       "      <td>0.080659</td>\n",
       "      <td>0.076115</td>\n",
       "    </tr>\n",
       "    <tr>\n",
       "      <th>2</th>\n",
       "      <td>1</td>\n",
       "      <td>853596</td>\n",
       "      <td>853595</td>\n",
       "      <td>853596</td>\n",
       "      <td>6664</td>\n",
       "      <td>0.015749</td>\n",
       "      <td>0.036199</td>\n",
       "      <td>0.080659</td>\n",
       "      <td>0.076115</td>\n",
       "    </tr>\n",
       "    <tr>\n",
       "      <th>3</th>\n",
       "      <td>1</td>\n",
       "      <td>854793</td>\n",
       "      <td>854792</td>\n",
       "      <td>854793</td>\n",
       "      <td>5467</td>\n",
       "      <td>0.015749</td>\n",
       "      <td>0.053019</td>\n",
       "      <td>0.080659</td>\n",
       "      <td>0.076115</td>\n",
       "    </tr>\n",
       "    <tr>\n",
       "      <th>4</th>\n",
       "      <td>1</td>\n",
       "      <td>858862</td>\n",
       "      <td>858861</td>\n",
       "      <td>858862</td>\n",
       "      <td>1398</td>\n",
       "      <td>0.027549</td>\n",
       "      <td>0.072479</td>\n",
       "      <td>0.093319</td>\n",
       "      <td>0.078680</td>\n",
       "    </tr>\n",
       "  </tbody>\n",
       "</table>\n",
       "</div>"
      ],
      "text/plain": [
       "   chrom     pos   start     end  exon_distance  exon_density_10000  \\\n",
       "0      1  847983  847982  847983          12277            0.000000   \n",
       "1      1  853089  853088  853089           7171            0.015749   \n",
       "2      1  853596  853595  853596           6664            0.015749   \n",
       "3      1  854793  854792  854793           5467            0.015749   \n",
       "4      1  858862  858861  858862           1398            0.027549   \n",
       "\n",
       "   exon_density_25000  exon_density_50000  exon_density_100000  \n",
       "0            0.013520            0.062229             0.072560  \n",
       "1            0.029219            0.080659             0.076115  \n",
       "2            0.036199            0.080659             0.076115  \n",
       "3            0.053019            0.080659             0.076115  \n",
       "4            0.072479            0.093319             0.078680  "
      ]
     },
     "execution_count": 18,
     "metadata": {},
     "output_type": "execute_result"
    }
   ],
   "source": [
    "snp_pos.head()"
   ]
  },
  {
   "cell_type": "markdown",
   "metadata": {},
   "source": [
    "## phyloP annotation"
   ]
  },
  {
   "cell_type": "markdown",
   "metadata": {
    "collapsed": true
   },
   "source": [
    "### Process all phyloP BED files in parallel"
   ]
  },
  {
   "cell_type": "code",
   "execution_count": 21,
   "metadata": {
    "collapsed": true
   },
   "outputs": [],
   "source": [
    "import functools\n",
    "import random\n",
    "import os\n",
    "from multiprocessing import Pool"
   ]
  },
  {
   "cell_type": "code",
   "execution_count": 22,
   "metadata": {
    "collapsed": false
   },
   "outputs": [],
   "source": [
    "def process_chromosome(chrom, snps, window_size):\n",
    "    \"\"\"Process the given chromosome - calculate average phylop for each SNP,\n",
    "    and also annotate each SNP with it's estimated phylop value. Return both\n",
    "    as a pandas dataframe.\n",
    "    \"\"\"\n",
    "    # chromosome IDs need a 'chr' prefix to match phyloP data\n",
    "    snp_pos_with_chr = snps.query(\"chrom == {}\".format(chrom)).copy()\n",
    "    snp_pos_with_chr['chrom'] = \"chr\" + snp_pos_with_chr.chrom.astype(str)\n",
    "    snp_bed = BedTool.from_dataframe(snp_pos_with_chr[['chrom', 'start', 'end']])\n",
    "    \n",
    "    phylop = BedTool(\"/mnt/expressions/benjamin_vernot/phyloP_no_human/Compara.36_eutherian_mammals_EPO_LOW_COVERAGE.chr\" + str(chrom) + \"_.phyloP_no_human.SS.bed\")\n",
    "\n",
    "    # get all sites surrounding each SNP from the archaic admixture array\n",
    "    phylop_windows = snp_bed.window(phylop, w=window_size)\n",
    "\n",
    "    # calculate the average phyloP score of each SNP (based on phyloP values in windows around them)\n",
    "    phylop_snps = phylop_windows.to_dataframe().groupby(['chrom', 'start', 'end'])['thickStart'].mean().reset_index()\n",
    "\n",
    "    # rename the fields to make join with the original archaic admixture array SNP table possible\n",
    "    phylop_snps = phylop_snps.rename(columns={'thickStart': 'phylop_' + str(window_size)})\n",
    "\n",
    "    os.remove(snp_bed.fn)\n",
    "    os.remove(phylop_windows.fn)\n",
    "\n",
    "    return phylop_snps[['chrom', 'start', 'end', 'phylop_' + str(window_size)]]"
   ]
  },
  {
   "cell_type": "code",
   "execution_count": 23,
   "metadata": {
    "collapsed": true
   },
   "outputs": [],
   "source": [
    "def process_all_chromosomes(snp_pos, window_size, cores):\n",
    "    \"\"\"Process SNPs from all chromosomes, averaging PhyloP for each\n",
    "    SNP in a given window. Use the specified number of cores for\n",
    "    the computation.\"\"\"\n",
    "\n",
    "    # create a partial function used to process a given chromosome's phyloP BED file\n",
    "    fn = functools.partial(process_chromosome, snps=snp_pos, window_size=window_size)\n",
    "\n",
    "    chroms = [chrom for chrom in range(1, 23)]\n",
    "    random.shuffle(chroms)\n",
    "\n",
    "    # create a pool of workers that will process each chromosome\n",
    "    with Pool(processes=cores) as pool:\n",
    "        # map the processing function across all chromosomes\n",
    "        phylop_snps_per_chrom = pool.map(fn, chroms)\n",
    "\n",
    "        # concatenate the results into a single dataframe\n",
    "        phylop_snps = pd.concat(phylop_snps_per_chrom)\n",
    "\n",
    "        # convert to from the BED coordinates into a normal table format\n",
    "        phylop_snps = phylop_snps.rename(columns={\"end\": \"pos\"})[[\"chrom\", \"pos\", \"phylop_\" + str(window_size)]]\n",
    "\n",
    "        # remove the 'chr' prefix of chromosome IDs\n",
    "        phylop_snps.chrom.replace(to_replace='chr', value='', regex=True, inplace=True)\n",
    "        phylop_snps['chrom'] = phylop_snps.astype(int)\n",
    "        \n",
    "        # pybedtools.cleanup() leaves crap behind, let's delete tmp files directly\n",
    "        os.system('rm /tmp/pybedtools.*')\n",
    "\n",
    "    return phylop_snps"
   ]
  },
  {
   "cell_type": "code",
   "execution_count": 24,
   "metadata": {
    "collapsed": false
   },
   "outputs": [],
   "source": [
    "phylop_1k = process_all_chromosomes(snp_pos, window_size=1000, cores=15)"
   ]
  },
  {
   "cell_type": "code",
   "execution_count": 25,
   "metadata": {
    "collapsed": false
   },
   "outputs": [],
   "source": [
    "phylop_10k = process_all_chromosomes(snp_pos, window_size=10000, cores=3)"
   ]
  },
  {
   "cell_type": "code",
   "execution_count": 26,
   "metadata": {
    "collapsed": true
   },
   "outputs": [],
   "source": [
    "phylop_20k = process_all_chromosomes(snp_pos, window_size=20000, cores=1)"
   ]
  },
  {
   "cell_type": "code",
   "execution_count": 29,
   "metadata": {
    "collapsed": false
   },
   "outputs": [],
   "source": [
    "phylop_1k = phylop_1k.sort_values(by=[\"chrom\", \"pos\"])\n",
    "phylop_10k = phylop_10k.sort_values(by=[\"chrom\", \"pos\"])\n",
    "phylop_20k = phylop_20k.sort_values(by=[\"chrom\", \"pos\"])"
   ]
  },
  {
   "cell_type": "markdown",
   "metadata": {},
   "source": [
    "#### Save the phylop averages on the drive as a backup"
   ]
  },
  {
   "cell_type": "raw",
   "metadata": {
    "collapsed": true
   },
   "source": [
    "phylop_1k  = pd.read_table('../tmp/phylop_1k.tsv')\n",
    "phylop_10k = pd.read_table('../tmp/phylop_10k.tsv')\n",
    "phylop_20k = pd.read_table('../tmp/phylop_20k.tsv')"
   ]
  },
  {
   "cell_type": "code",
   "execution_count": 30,
   "metadata": {
    "collapsed": true
   },
   "outputs": [],
   "source": [
    "phylop_1k.to_csv('../tmp/phylop_1k.tsv', sep='\\t', index=False, na_rep='-')\n",
    "phylop_10k.to_csv('../tmp/phylop_10k.tsv', sep='\\t', index=False, na_rep='-')\n",
    "phylop_20k.to_csv('../tmp/phylop_20k.tsv', sep='\\t', index=False, na_rep='-')"
   ]
  },
  {
   "cell_type": "markdown",
   "metadata": {},
   "source": [
    "### Join the phyloP average tables with the rest of the data"
   ]
  },
  {
   "cell_type": "code",
   "execution_count": 22,
   "metadata": {
    "collapsed": false
   },
   "outputs": [],
   "source": [
    "merged = snp_pos \\\n",
    "    .merge(phylop_1k, how=\"outer\") \\\n",
    "    .merge(phylop_10k, how=\"outer\") \\\n",
    "    .merge(phylop_20k, how=\"outer\") \\\n",
    "    .drop([\"start\", \"end\"], axis=1)"
   ]
  },
  {
   "cell_type": "code",
   "execution_count": 23,
   "metadata": {
    "collapsed": false,
    "scrolled": true
   },
   "outputs": [
    {
     "data": {
      "text/html": [
       "<div>\n",
       "<table border=\"1\" class=\"dataframe\">\n",
       "  <thead>\n",
       "    <tr style=\"text-align: right;\">\n",
       "      <th></th>\n",
       "      <th>chrom</th>\n",
       "      <th>pos</th>\n",
       "      <th>exon_distance</th>\n",
       "      <th>exon_density_10000</th>\n",
       "      <th>exon_density_25000</th>\n",
       "      <th>exon_density_50000</th>\n",
       "      <th>exon_density_100000</th>\n",
       "      <th>phylop_1000</th>\n",
       "      <th>phylop_10000</th>\n",
       "      <th>phylop_20000</th>\n",
       "    </tr>\n",
       "  </thead>\n",
       "  <tbody>\n",
       "    <tr>\n",
       "      <th>0</th>\n",
       "      <td>1</td>\n",
       "      <td>847983</td>\n",
       "      <td>12277</td>\n",
       "      <td>0.000000</td>\n",
       "      <td>0.013520</td>\n",
       "      <td>0.062229</td>\n",
       "      <td>0.072560</td>\n",
       "      <td>-0.176853</td>\n",
       "      <td>-0.152668</td>\n",
       "      <td>-0.112630</td>\n",
       "    </tr>\n",
       "    <tr>\n",
       "      <th>1</th>\n",
       "      <td>1</td>\n",
       "      <td>853089</td>\n",
       "      <td>7171</td>\n",
       "      <td>0.015749</td>\n",
       "      <td>0.029219</td>\n",
       "      <td>0.080659</td>\n",
       "      <td>0.076115</td>\n",
       "      <td>-0.145938</td>\n",
       "      <td>-0.161705</td>\n",
       "      <td>-0.152555</td>\n",
       "    </tr>\n",
       "    <tr>\n",
       "      <th>2</th>\n",
       "      <td>1</td>\n",
       "      <td>853596</td>\n",
       "      <td>6664</td>\n",
       "      <td>0.015749</td>\n",
       "      <td>0.036199</td>\n",
       "      <td>0.080659</td>\n",
       "      <td>0.076115</td>\n",
       "      <td>-0.252323</td>\n",
       "      <td>-0.167846</td>\n",
       "      <td>-0.155230</td>\n",
       "    </tr>\n",
       "    <tr>\n",
       "      <th>3</th>\n",
       "      <td>1</td>\n",
       "      <td>854793</td>\n",
       "      <td>5467</td>\n",
       "      <td>0.015749</td>\n",
       "      <td>0.053019</td>\n",
       "      <td>0.080659</td>\n",
       "      <td>0.076115</td>\n",
       "      <td>-0.280611</td>\n",
       "      <td>-0.186692</td>\n",
       "      <td>-0.159135</td>\n",
       "    </tr>\n",
       "    <tr>\n",
       "      <th>4</th>\n",
       "      <td>1</td>\n",
       "      <td>858862</td>\n",
       "      <td>1398</td>\n",
       "      <td>0.027549</td>\n",
       "      <td>0.072479</td>\n",
       "      <td>0.093319</td>\n",
       "      <td>0.078680</td>\n",
       "      <td>-0.157188</td>\n",
       "      <td>-0.206906</td>\n",
       "      <td>-0.163019</td>\n",
       "    </tr>\n",
       "  </tbody>\n",
       "</table>\n",
       "</div>"
      ],
      "text/plain": [
       "   chrom     pos  exon_distance  exon_density_10000  exon_density_25000  \\\n",
       "0      1  847983          12277            0.000000            0.013520   \n",
       "1      1  853089           7171            0.015749            0.029219   \n",
       "2      1  853596           6664            0.015749            0.036199   \n",
       "3      1  854793           5467            0.015749            0.053019   \n",
       "4      1  858862           1398            0.027549            0.072479   \n",
       "\n",
       "   exon_density_50000  exon_density_100000  phylop_1000  phylop_10000  \\\n",
       "0            0.062229             0.072560    -0.176853     -0.152668   \n",
       "1            0.080659             0.076115    -0.145938     -0.161705   \n",
       "2            0.080659             0.076115    -0.252323     -0.167846   \n",
       "3            0.080659             0.076115    -0.280611     -0.186692   \n",
       "4            0.093319             0.078680    -0.157188     -0.206906   \n",
       "\n",
       "   phylop_20000  \n",
       "0     -0.112630  \n",
       "1     -0.152555  \n",
       "2     -0.155230  \n",
       "3     -0.159135  \n",
       "4     -0.163019  "
      ]
     },
     "execution_count": 23,
     "metadata": {},
     "output_type": "execute_result"
    }
   ],
   "source": [
    "merged.head()"
   ]
  },
  {
   "cell_type": "markdown",
   "metadata": {},
   "source": [
    "# Output the processed genosnp table in a tab-separated file"
   ]
  },
  {
   "cell_type": "code",
   "execution_count": 24,
   "metadata": {
    "collapsed": false
   },
   "outputs": [],
   "source": [
    "merged.to_csv('../clean_data/additional_annotations.tsv', sep='\\t', index=False, na_rep='-')"
   ]
  }
 ],
 "metadata": {
  "kernelspec": {
   "display_name": "Python 3",
   "language": "python",
   "name": "python3"
  },
  "language_info": {
   "codemirror_mode": {
    "name": "ipython",
    "version": 3
   },
   "file_extension": ".py",
   "mimetype": "text/x-python",
   "name": "python",
   "nbconvert_exporter": "python",
   "pygments_lexer": "ipython3",
   "version": "3.5.2"
  }
 },
 "nbformat": 4,
 "nbformat_minor": 0
}
