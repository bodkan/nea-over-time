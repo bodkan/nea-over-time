{
 "cells": [
  {
   "cell_type": "markdown",
   "metadata": {},
   "source": [
    "# Generating SLiM genomic structures and recombination map"
   ]
  },
  {
   "cell_type": "code",
   "execution_count": 1,
   "metadata": {
    "collapsed": true
   },
   "outputs": [],
   "source": [
    "from pybedtools import BedTool\n",
    "import pandas as pd"
   ]
  },
  {
   "cell_type": "code",
   "execution_count": 2,
   "metadata": {},
   "outputs": [],
   "source": [
    "!mkdir -p ../data/slim_coords"
   ]
  },
  {
   "cell_type": "markdown",
   "metadata": {},
   "source": [
    "<br><br>\n",
    "## Annotate the BED files with region coordinates & inter-region sites with recombination rate"
   ]
  },
  {
   "cell_type": "markdown",
   "metadata": {},
   "source": [
    "### First add the gap regions between inter-region sites and regions themselves"
   ]
  },
  {
   "cell_type": "code",
   "execution_count": 3,
   "metadata": {
    "collapsed": true
   },
   "outputs": [],
   "source": [
    "%%bash\n",
    "for f in ../data/bed/regions/*_regions_gap_sites.bed; do\n",
    "    python3 ../add_spacers_to_bed.py $f ${f%.*}_spacers.bed\n",
    "done"
   ]
  },
  {
   "cell_type": "markdown",
   "metadata": {},
   "source": [
    "### Then add the recombination rates for each region/site/spacer"
   ]
  },
  {
   "cell_type": "code",
   "execution_count": 4,
   "metadata": {},
   "outputs": [],
   "source": [
    "%%bash\n",
    "for f in ../data/bed/regions/*_regions_gap_sites_spacers.bed; do\n",
    "    bedmap --ec --delim '\\t' --echo --count --echo-map-score --echo-overlap-size $f ../data/genetic_map/genetic_map_GRCh37_all.txt.bed \\\n",
    "        | python ../get_window_average.py 4 \\\n",
    "        | awk '($7 != \"0.0\") && ($7 != \"0\")' \\\n",
    "        > ${f%.*}_recomb_rates.bed\n",
    "done"
   ]
  },
  {
   "cell_type": "code",
   "execution_count": 6,
   "metadata": {},
   "outputs": [
    {
     "name": "stdout",
     "output_type": "stream",
     "text": [
      "../data/bed/regions/ctcf_binding_site_regions_gap_sites_spacers_recomb_rates.bed\r\n",
      "../data/bed/regions/enhancer_regions_gap_sites_spacers_recomb_rates.bed\r\n",
      "../data/bed/regions/open_chromatin_regions_gap_sites_spacers_recomb_rates.bed\r\n",
      "../data/bed/regions/priPhastCons_regions_gap_sites_spacers_recomb_rates.bed\r\n",
      "../data/bed/regions/promoter_flank_regions_gap_sites_spacers_recomb_rates.bed\r\n",
      "../data/bed/regions/promoter_regions_gap_sites_spacers_recomb_rates.bed\r\n",
      "../data/bed/regions/protein_coding_regions_gap_sites_spacers_recomb_rates.bed\r\n",
      "../data/bed/regions/tf_binding_site_regions_gap_sites_spacers_recomb_rates.bed\r\n",
      "../data/bed/regions/tss_5k_regions_gap_sites_spacers_recomb_rates.bed\r\n",
      "../data/bed/regions/utr3_regions_gap_sites_spacers_recomb_rates.bed\r\n",
      "../data/bed/regions/utr5_regions_gap_sites_spacers_recomb_rates.bed\r\n"
     ]
    }
   ],
   "source": [
    "!ls ../data/bed/regions/*recomb_rates.bed"
   ]
  },
  {
   "cell_type": "code",
   "execution_count": 5,
   "metadata": {
    "collapsed": true
   },
   "outputs": [],
   "source": [
    "regions = [\"protein_coding\", \"utr5\", \"utr3\", \"tss_5k\", \"ctcf_binding_site\", \"enhancer\", \"open_chromatin\", \"promoter\", \"promoter_flank\", \"tf_binding_site\", \"priPhastCons\"]"
   ]
  },
  {
   "cell_type": "code",
   "execution_count": 6,
   "metadata": {},
   "outputs": [
    {
     "data": {
      "text/plain": [
       "['protein_coding',\n",
       " 'utr5',\n",
       " 'utr3',\n",
       " 'tss_5k',\n",
       " 'ctcf_binding_site',\n",
       " 'enhancer',\n",
       " 'open_chromatin',\n",
       " 'promoter',\n",
       " 'promoter_flank',\n",
       " 'tf_binding_site',\n",
       " 'priPhastCons']"
      ]
     },
     "execution_count": 6,
     "metadata": {},
     "output_type": "execute_result"
    }
   ],
   "source": [
    "regions"
   ]
  },
  {
   "cell_type": "code",
   "execution_count": 10,
   "metadata": {
    "collapsed": true
   },
   "outputs": [],
   "source": [
    "region = regions[1]"
   ]
  },
  {
   "cell_type": "markdown",
   "metadata": {},
   "source": [
    "<br><br><br>\n",
    "## Conversion of physical coordinates into SLiM-based coordinate system"
   ]
  },
  {
   "cell_type": "markdown",
   "metadata": {},
   "source": [
    "### Read the coordinates annotated with the genetic map"
   ]
  },
  {
   "cell_type": "code",
   "execution_count": 7,
   "metadata": {},
   "outputs": [],
   "source": [
    "def read_recomb_map(bed_file):\n",
    "    recomb_map = pd.read_table(bed_file, names=[\"chrom\", \"start\", \"end\", \"type\", \"xxx\", \"length\", \"recomb_rate\", \"xxx\"])[[\"chrom\", \"start\", \"end\", \"type\", \"recomb_rate\"]]\n",
    "\n",
    "    # add labels to each region/site/spacer to make debugging easier\n",
    "    # (regions of width 1 were filtered out already when the BED files were generated)\n",
    "    recomb_map.loc[(recomb_map.end - recomb_map.start > 1) & (recomb_map.type != \"spacer\"), \"type\"] = \"region\"\n",
    "    recomb_map.loc[(recomb_map.end - recomb_map.start == 1) & (recomb_map.type != \"spacer\"), \"type\"] = \"site\"\n",
    "\n",
    "    # convert the recombination rate (in cM/Mb) to format required by SLiM\n",
    "    recomb_map.recomb_rate = recomb_map.recomb_rate * 1e-8\n",
    "\n",
    "    # reduce the spacers to 1 bp (which is what we will simulate in SLiM)\n",
    "    recomb_map.loc[recomb_map.type == \"spacer\", \"end\"] = recomb_map.loc[recomb_map.type == \"spacer\"].start + 1\n",
    "    \n",
    "    return recomb_map"
   ]
  },
  {
   "cell_type": "markdown",
   "metadata": {},
   "source": [
    "### Add \"1 bp\" chromosome breaks with recombination rate of 0.5"
   ]
  },
  {
   "cell_type": "code",
   "execution_count": 8,
   "metadata": {
    "collapsed": true
   },
   "outputs": [],
   "source": [
    "def add_chrom_breaks(recomb_map):\n",
    "    chrom_maps = []\n",
    "\n",
    "    for chrom in list(range(1, 23)):\n",
    "        chrom_map = recomb_map.loc[recomb_map.chrom == \"chr\" + str(chrom)]\n",
    "\n",
    "        chrom_break = pd.DataFrame({\"chrom\": \"chr\" + str(chrom),\n",
    "                                    \"start\": list(chrom_map.end)[-1],\n",
    "                                    \"end\":   list(chrom_map.end)[-1] + 1,\n",
    "                                    \"type\":  [\"chrom_break\"],\n",
    "                                    \"recomb_rate\": [0.5]},\n",
    "                                   columns=[\"chrom\", \"start\", \"end\", \"type\", \"recomb_rate\"])\n",
    "\n",
    "        chrom_maps.append(pd.concat([chrom_map, chrom_break]).sort_values(by=['chrom', 'start']).reset_index(drop=True))\n",
    "\n",
    "    # remove the very last base of the recombination map (it has a 0.5 recombination\n",
    "    # rate anyway and there's no other chromosome after it)\n",
    "    recomb_map = pd.concat(chrom_maps)[:-1].reset_index(drop=True)\n",
    "    \n",
    "    return recomb_map"
   ]
  },
  {
   "cell_type": "markdown",
   "metadata": {},
   "source": [
    "###  Concatenate regions/sites on all chromosome as if they were directly adjacent on a single chromosome\n",
    "\n",
    "SLiM simulates everything as a single noodle - we need to concatenate everything together and change the coordinates appropriately."
   ]
  },
  {
   "cell_type": "code",
   "execution_count": 9,
   "metadata": {
    "collapsed": true
   },
   "outputs": [],
   "source": [
    "def concatenate_regions(regions):\n",
    "    concat_regions = regions.copy()\n",
    "\n",
    "    concat_regions[\"width\"] = regions.end - regions.start\n",
    "    concat_regions[\"slim_start\"] = pd.Series([0] + list(concat_regions.width[:-1])).cumsum().values\n",
    "    concat_regions[\"slim_end\"] = concat_regions.width.cumsum() - 1\n",
    "    \n",
    "    return concat_regions"
   ]
  },
  {
   "cell_type": "code",
   "execution_count": 12,
   "metadata": {},
   "outputs": [],
   "source": [
    "recomb_map_no_breaks = read_recomb_map(\"../data/bed/regions/{}_regions_gap_sites_spacers_recomb_rates.bed\".format(region))"
   ]
  },
  {
   "cell_type": "code",
   "execution_count": 13,
   "metadata": {
    "collapsed": true
   },
   "outputs": [],
   "source": [
    "recomb_map = add_chrom_breaks(recomb_map_no_breaks)"
   ]
  },
  {
   "cell_type": "markdown",
   "metadata": {},
   "source": [
    "Convert the coordinates of all regions/sites/gaps into SLiM's 0-based single segment coordinate system:"
   ]
  },
  {
   "cell_type": "code",
   "execution_count": 14,
   "metadata": {
    "collapsed": true
   },
   "outputs": [],
   "source": [
    "concat_map = concatenate_regions(recomb_map)"
   ]
  },
  {
   "cell_type": "code",
   "execution_count": 15,
   "metadata": {},
   "outputs": [
    {
     "data": {
      "text/html": [
       "<div>\n",
       "<style>\n",
       "    .dataframe thead tr:only-child th {\n",
       "        text-align: right;\n",
       "    }\n",
       "\n",
       "    .dataframe thead th {\n",
       "        text-align: left;\n",
       "    }\n",
       "\n",
       "    .dataframe tbody tr th {\n",
       "        vertical-align: top;\n",
       "    }\n",
       "</style>\n",
       "<table border=\"1\" class=\"dataframe\">\n",
       "  <thead>\n",
       "    <tr style=\"text-align: right;\">\n",
       "      <th></th>\n",
       "      <th>chrom</th>\n",
       "      <th>start</th>\n",
       "      <th>end</th>\n",
       "      <th>type</th>\n",
       "      <th>recomb_rate</th>\n",
       "      <th>width</th>\n",
       "      <th>slim_start</th>\n",
       "      <th>slim_end</th>\n",
       "    </tr>\n",
       "  </thead>\n",
       "  <tbody>\n",
       "    <tr>\n",
       "      <th>0</th>\n",
       "      <td>chr1</td>\n",
       "      <td>139309</td>\n",
       "      <td>139379</td>\n",
       "      <td>region</td>\n",
       "      <td>3.354927e-08</td>\n",
       "      <td>70</td>\n",
       "      <td>0</td>\n",
       "      <td>69</td>\n",
       "    </tr>\n",
       "    <tr>\n",
       "      <th>1</th>\n",
       "      <td>chr1</td>\n",
       "      <td>139379</td>\n",
       "      <td>139380</td>\n",
       "      <td>spacer</td>\n",
       "      <td>3.124258e-08</td>\n",
       "      <td>1</td>\n",
       "      <td>70</td>\n",
       "      <td>70</td>\n",
       "    </tr>\n",
       "    <tr>\n",
       "      <th>2</th>\n",
       "      <td>chr1</td>\n",
       "      <td>367639</td>\n",
       "      <td>367658</td>\n",
       "      <td>region</td>\n",
       "      <td>2.887498e-08</td>\n",
       "      <td>19</td>\n",
       "      <td>71</td>\n",
       "      <td>89</td>\n",
       "    </tr>\n",
       "    <tr>\n",
       "      <th>3</th>\n",
       "      <td>chr1</td>\n",
       "      <td>367658</td>\n",
       "      <td>367659</td>\n",
       "      <td>spacer</td>\n",
       "      <td>2.838626e-08</td>\n",
       "      <td>1</td>\n",
       "      <td>90</td>\n",
       "      <td>90</td>\n",
       "    </tr>\n",
       "    <tr>\n",
       "      <th>4</th>\n",
       "      <td>chr1</td>\n",
       "      <td>622034</td>\n",
       "      <td>622053</td>\n",
       "      <td>region</td>\n",
       "      <td>2.655176e-08</td>\n",
       "      <td>19</td>\n",
       "      <td>91</td>\n",
       "      <td>109</td>\n",
       "    </tr>\n",
       "  </tbody>\n",
       "</table>\n",
       "</div>"
      ],
      "text/plain": [
       "  chrom   start     end    type   recomb_rate  width  slim_start  slim_end\n",
       "0  chr1  139309  139379  region  3.354927e-08     70           0        69\n",
       "1  chr1  139379  139380  spacer  3.124258e-08      1          70        70\n",
       "2  chr1  367639  367658  region  2.887498e-08     19          71        89\n",
       "3  chr1  367658  367659  spacer  2.838626e-08      1          90        90\n",
       "4  chr1  622034  622053  region  2.655176e-08     19          91       109"
      ]
     },
     "execution_count": 15,
     "metadata": {},
     "output_type": "execute_result"
    }
   ],
   "source": [
    "concat_map.head()"
   ]
  },
  {
   "cell_type": "code",
   "execution_count": 16,
   "metadata": {},
   "outputs": [
    {
     "data": {
      "text/html": [
       "<div>\n",
       "<style>\n",
       "    .dataframe thead tr:only-child th {\n",
       "        text-align: right;\n",
       "    }\n",
       "\n",
       "    .dataframe thead th {\n",
       "        text-align: left;\n",
       "    }\n",
       "\n",
       "    .dataframe tbody tr th {\n",
       "        vertical-align: top;\n",
       "    }\n",
       "</style>\n",
       "<table border=\"1\" class=\"dataframe\">\n",
       "  <thead>\n",
       "    <tr style=\"text-align: right;\">\n",
       "      <th></th>\n",
       "      <th>chrom</th>\n",
       "      <th>start</th>\n",
       "      <th>end</th>\n",
       "      <th>type</th>\n",
       "      <th>recomb_rate</th>\n",
       "      <th>width</th>\n",
       "      <th>slim_start</th>\n",
       "      <th>slim_end</th>\n",
       "    </tr>\n",
       "  </thead>\n",
       "  <tbody>\n",
       "    <tr>\n",
       "      <th>210709</th>\n",
       "      <td>chr22</td>\n",
       "      <td>51220722</td>\n",
       "      <td>51220779</td>\n",
       "      <td>region</td>\n",
       "      <td>6.487070e-09</td>\n",
       "      <td>57</td>\n",
       "      <td>10471876</td>\n",
       "      <td>10471932</td>\n",
       "    </tr>\n",
       "    <tr>\n",
       "      <th>210710</th>\n",
       "      <td>chr22</td>\n",
       "      <td>51220779</td>\n",
       "      <td>51220780</td>\n",
       "      <td>spacer</td>\n",
       "      <td>6.487070e-09</td>\n",
       "      <td>1</td>\n",
       "      <td>10471933</td>\n",
       "      <td>10471933</td>\n",
       "    </tr>\n",
       "    <tr>\n",
       "      <th>210711</th>\n",
       "      <td>chr22</td>\n",
       "      <td>51221196</td>\n",
       "      <td>51221714</td>\n",
       "      <td>region</td>\n",
       "      <td>6.487070e-09</td>\n",
       "      <td>518</td>\n",
       "      <td>10471934</td>\n",
       "      <td>10472451</td>\n",
       "    </tr>\n",
       "    <tr>\n",
       "      <th>210712</th>\n",
       "      <td>chr22</td>\n",
       "      <td>51221714</td>\n",
       "      <td>51221715</td>\n",
       "      <td>spacer</td>\n",
       "      <td>6.487070e-09</td>\n",
       "      <td>1</td>\n",
       "      <td>10472452</td>\n",
       "      <td>10472452</td>\n",
       "    </tr>\n",
       "    <tr>\n",
       "      <th>210713</th>\n",
       "      <td>chr22</td>\n",
       "      <td>51221928</td>\n",
       "      <td>51222091</td>\n",
       "      <td>region</td>\n",
       "      <td>6.487070e-09</td>\n",
       "      <td>163</td>\n",
       "      <td>10472453</td>\n",
       "      <td>10472615</td>\n",
       "    </tr>\n",
       "  </tbody>\n",
       "</table>\n",
       "</div>"
      ],
      "text/plain": [
       "        chrom     start       end    type   recomb_rate  width  slim_start  \\\n",
       "210709  chr22  51220722  51220779  region  6.487070e-09     57    10471876   \n",
       "210710  chr22  51220779  51220780  spacer  6.487070e-09      1    10471933   \n",
       "210711  chr22  51221196  51221714  region  6.487070e-09    518    10471934   \n",
       "210712  chr22  51221714  51221715  spacer  6.487070e-09      1    10472452   \n",
       "210713  chr22  51221928  51222091  region  6.487070e-09    163    10472453   \n",
       "\n",
       "        slim_end  \n",
       "210709  10471932  \n",
       "210710  10471933  \n",
       "210711  10472451  \n",
       "210712  10472452  \n",
       "210713  10472615  "
      ]
     },
     "execution_count": 16,
     "metadata": {},
     "output_type": "execute_result"
    }
   ],
   "source": [
    "concat_map.tail()"
   ]
  },
  {
   "cell_type": "markdown",
   "metadata": {},
   "source": [
    "Save the recombination map in a SLiM-friendly format (end-positions of regions and spacers, without the positions of informative sites since they don't have recombination rates themselves - the \"spacers\" around them do):"
   ]
  },
  {
   "cell_type": "code",
   "execution_count": 17,
   "metadata": {
    "collapsed": true
   },
   "outputs": [],
   "source": [
    "concat_map.query(\"type != 'site'\") \\\n",
    "          .to_csv(\"../data/slim_coords/{}_recomb_map.bed\".format(region), sep=\"\\t\", index=False)"
   ]
  },
  {
   "cell_type": "markdown",
   "metadata": {},
   "source": [
    "<br><br><br>\n",
    "## Save SLiM coordinates of all sites from the archaic admixture array\n",
    "\n",
    "**Both sites in gaps and sites within the simulated regions of interest.**\n",
    "\n",
    "Recombination map includes only positions of sites that fall outside of exonic regions. However, in order to simulate the sites from the archaic admixture array, we have to know the positions of sites _within_ exons too.\n",
    "\n",
    "SLiM simulates all exons and individual sites as one continuous segment of concatenated regions, with coordinates of exons and sites shifted appropriately. To obtain the coordinates of array sites within exons, we need to find out, for each site, which exon does it fall in and calculate its position relative to the start of that exon."
   ]
  },
  {
   "cell_type": "markdown",
   "metadata": {},
   "source": [
    "Take the subset of array sites that lie inside exons:"
   ]
  },
  {
   "cell_type": "code",
   "execution_count": 18,
   "metadata": {},
   "outputs": [],
   "source": [
    "region_sites = pd.read_table(\"../data/bed/regions/{}_sites.bed\".format(region), names=[\"chrom\", \"start\", \"end\"])"
   ]
  },
  {
   "cell_type": "markdown",
   "metadata": {},
   "source": [
    "Get a DataFrame of the coordinates of exons that contain a site from the admixture array (will contain multiple copies of one exon if more than one site falls within that exon)."
   ]
  },
  {
   "cell_type": "code",
   "execution_count": 19,
   "metadata": {},
   "outputs": [],
   "source": [
    "regions_with_sites = BedTool.from_dataframe(concat_map.query(\"type == 'region'\")) \\\n",
    "                            .intersect(BedTool.from_dataframe(region_sites), wa=True) \\\n",
    "                            .to_dataframe() \\\n",
    "                            .rename(columns={\"name\": \"type\",\n",
    "                                             \"score\": 'recomb_rate',\n",
    "                                             \"strand\": 'width',\n",
    "                                             \"thickStart\": \"slim_start\",\n",
    "                                             \"thickEnd\": \"slim_end\"})\n",
    "\n",
    "# some regions had a recombination rate equal to 0 and were filtered out\n",
    "# we have to filter out sites that fall within these regions (since we\n",
    "# couldn't simulate them anyway)\n",
    "region_sites = BedTool.from_dataframe(region_sites) \\\n",
    "                      .intersect(BedTool.from_dataframe(concat_map.query(\"type == 'region'\")), wa=True) \\\n",
    "                      .to_dataframe()"
   ]
  },
  {
   "cell_type": "markdown",
   "metadata": {},
   "source": [
    "Calculate the position of each site relative to the start of \"its\" exon and convert this position into a SLiM single-segment coordinate (i.e. relative the the position 0 of the simulated segment):"
   ]
  },
  {
   "cell_type": "code",
   "execution_count": 20,
   "metadata": {},
   "outputs": [],
   "source": [
    "region_sites[\"slim_start\"] = region_sites.start - regions_with_sites.start + regions_with_sites.slim_start\n",
    "region_sites[\"slim_end\"] = region_sites.slim_start"
   ]
  },
  {
   "cell_type": "code",
   "execution_count": 21,
   "metadata": {},
   "outputs": [],
   "source": [
    "gap_sites = concat_map.query(\"type == 'site'\").drop([\"type\", \"recomb_rate\", \"width\"], axis=1)"
   ]
  },
  {
   "cell_type": "code",
   "execution_count": 22,
   "metadata": {},
   "outputs": [],
   "source": [
    "sites = pd.concat([gap_sites, region_sites]).sort_values(\"slim_start\").reset_index(drop=True)"
   ]
  },
  {
   "cell_type": "code",
   "execution_count": 25,
   "metadata": {
    "collapsed": true
   },
   "outputs": [],
   "source": [
    "sites.to_csv(\"../data/slim_coords/{}_sites.bed\".format(region), sep=\"\\t\", index=False)"
   ]
  },
  {
   "cell_type": "markdown",
   "metadata": {},
   "source": [
    "## Save SLiM coordinates of exonic regions only\n",
    "\n",
    "This is required for specification for the `initializeGenomicElement` function in SLiM."
   ]
  },
  {
   "cell_type": "code",
   "execution_count": 27,
   "metadata": {},
   "outputs": [],
   "source": [
    "concat_map.query(\"type == 'region'\") \\\n",
    "          .to_csv(\"../data/slim_coords/{}_regions.bed\".format(region), sep='\\t', index=False)"
   ]
  },
  {
   "cell_type": "markdown",
   "metadata": {},
   "source": [
    "<br><br><br><br><br>\n",
    "# Testing of the recombination map building functions"
   ]
  },
  {
   "cell_type": "markdown",
   "metadata": {},
   "source": [
    "Sample 5 exons/sites for each chromosome to make a testing data set."
   ]
  },
  {
   "cell_type": "code",
   "execution_count": 47,
   "metadata": {},
   "outputs": [],
   "source": [
    "test_data = recomb_map.groupby('chrom') \\\n",
    "                           .apply(pd.DataFrame.head) \\\n",
    "                           .reset_index(drop=True)"
   ]
  },
  {
   "cell_type": "code",
   "execution_count": 48,
   "metadata": {},
   "outputs": [
    {
     "data": {
      "text/html": [
       "<div>\n",
       "<style>\n",
       "    .dataframe thead tr:only-child th {\n",
       "        text-align: right;\n",
       "    }\n",
       "\n",
       "    .dataframe thead th {\n",
       "        text-align: left;\n",
       "    }\n",
       "\n",
       "    .dataframe tbody tr th {\n",
       "        vertical-align: top;\n",
       "    }\n",
       "</style>\n",
       "<table border=\"1\" class=\"dataframe\">\n",
       "  <thead>\n",
       "    <tr style=\"text-align: right;\">\n",
       "      <th></th>\n",
       "      <th>chrom</th>\n",
       "      <th>start</th>\n",
       "      <th>end</th>\n",
       "      <th>type</th>\n",
       "      <th>recomb_rate</th>\n",
       "    </tr>\n",
       "  </thead>\n",
       "  <tbody>\n",
       "    <tr>\n",
       "      <th>0</th>\n",
       "      <td>chr1</td>\n",
       "      <td>139309</td>\n",
       "      <td>139379</td>\n",
       "      <td>region</td>\n",
       "      <td>3.354927e-08</td>\n",
       "    </tr>\n",
       "    <tr>\n",
       "      <th>1</th>\n",
       "      <td>chr1</td>\n",
       "      <td>139379</td>\n",
       "      <td>139380</td>\n",
       "      <td>spacer</td>\n",
       "      <td>3.124258e-08</td>\n",
       "    </tr>\n",
       "    <tr>\n",
       "      <th>2</th>\n",
       "      <td>chr1</td>\n",
       "      <td>367639</td>\n",
       "      <td>367658</td>\n",
       "      <td>region</td>\n",
       "      <td>2.887498e-08</td>\n",
       "    </tr>\n",
       "    <tr>\n",
       "      <th>3</th>\n",
       "      <td>chr1</td>\n",
       "      <td>367658</td>\n",
       "      <td>367659</td>\n",
       "      <td>spacer</td>\n",
       "      <td>2.838626e-08</td>\n",
       "    </tr>\n",
       "    <tr>\n",
       "      <th>4</th>\n",
       "      <td>chr1</td>\n",
       "      <td>622034</td>\n",
       "      <td>622053</td>\n",
       "      <td>region</td>\n",
       "      <td>2.655176e-08</td>\n",
       "    </tr>\n",
       "  </tbody>\n",
       "</table>\n",
       "</div>"
      ],
      "text/plain": [
       "  chrom   start     end    type   recomb_rate\n",
       "0  chr1  139309  139379  region  3.354927e-08\n",
       "1  chr1  139379  139380  spacer  3.124258e-08\n",
       "2  chr1  367639  367658  region  2.887498e-08\n",
       "3  chr1  367658  367659  spacer  2.838626e-08\n",
       "4  chr1  622034  622053  region  2.655176e-08"
      ]
     },
     "execution_count": 48,
     "metadata": {},
     "output_type": "execute_result"
    }
   ],
   "source": [
    "test_data.head()"
   ]
  },
  {
   "cell_type": "markdown",
   "metadata": {},
   "source": [
    "#### Test `add_chrom_breaks`\n",
    "\n",
    "The function should add a 1bp spacer with a 0.5 recombination rate between chromosomes:"
   ]
  },
  {
   "cell_type": "code",
   "execution_count": 49,
   "metadata": {},
   "outputs": [
    {
     "data": {
      "text/html": [
       "<div>\n",
       "<style>\n",
       "    .dataframe thead tr:only-child th {\n",
       "        text-align: right;\n",
       "    }\n",
       "\n",
       "    .dataframe thead th {\n",
       "        text-align: left;\n",
       "    }\n",
       "\n",
       "    .dataframe tbody tr th {\n",
       "        vertical-align: top;\n",
       "    }\n",
       "</style>\n",
       "<table border=\"1\" class=\"dataframe\">\n",
       "  <thead>\n",
       "    <tr style=\"text-align: right;\">\n",
       "      <th></th>\n",
       "      <th>chrom</th>\n",
       "      <th>start</th>\n",
       "      <th>end</th>\n",
       "      <th>type</th>\n",
       "      <th>recomb_rate</th>\n",
       "    </tr>\n",
       "  </thead>\n",
       "  <tbody>\n",
       "    <tr>\n",
       "      <th>5</th>\n",
       "      <td>chr1</td>\n",
       "      <td>622053</td>\n",
       "      <td>622054</td>\n",
       "      <td>chrom_break</td>\n",
       "      <td>0.5</td>\n",
       "    </tr>\n",
       "    <tr>\n",
       "      <th>11</th>\n",
       "      <td>chr2</td>\n",
       "      <td>243562</td>\n",
       "      <td>243563</td>\n",
       "      <td>chrom_break</td>\n",
       "      <td>0.5</td>\n",
       "    </tr>\n",
       "    <tr>\n",
       "      <th>17</th>\n",
       "      <td>chr3</td>\n",
       "      <td>238746</td>\n",
       "      <td>238747</td>\n",
       "      <td>chrom_break</td>\n",
       "      <td>0.5</td>\n",
       "    </tr>\n",
       "    <tr>\n",
       "      <th>23</th>\n",
       "      <td>chr4</td>\n",
       "      <td>331772</td>\n",
       "      <td>331773</td>\n",
       "      <td>chrom_break</td>\n",
       "      <td>0.5</td>\n",
       "    </tr>\n",
       "    <tr>\n",
       "      <th>29</th>\n",
       "      <td>chr5</td>\n",
       "      <td>217333</td>\n",
       "      <td>217334</td>\n",
       "      <td>chrom_break</td>\n",
       "      <td>0.5</td>\n",
       "    </tr>\n",
       "    <tr>\n",
       "      <th>35</th>\n",
       "      <td>chr6</td>\n",
       "      <td>292560</td>\n",
       "      <td>292561</td>\n",
       "      <td>chrom_break</td>\n",
       "      <td>0.5</td>\n",
       "    </tr>\n",
       "    <tr>\n",
       "      <th>41</th>\n",
       "      <td>chr7</td>\n",
       "      <td>229557</td>\n",
       "      <td>229558</td>\n",
       "      <td>chrom_break</td>\n",
       "      <td>0.5</td>\n",
       "    </tr>\n",
       "    <tr>\n",
       "      <th>47</th>\n",
       "      <td>chr8</td>\n",
       "      <td>150563</td>\n",
       "      <td>150564</td>\n",
       "      <td>chrom_break</td>\n",
       "      <td>0.5</td>\n",
       "    </tr>\n",
       "    <tr>\n",
       "      <th>53</th>\n",
       "      <td>chr9</td>\n",
       "      <td>179072</td>\n",
       "      <td>179073</td>\n",
       "      <td>chrom_break</td>\n",
       "      <td>0.5</td>\n",
       "    </tr>\n",
       "    <tr>\n",
       "      <th>59</th>\n",
       "      <td>chr10</td>\n",
       "      <td>95241</td>\n",
       "      <td>95242</td>\n",
       "      <td>chrom_break</td>\n",
       "      <td>0.5</td>\n",
       "    </tr>\n",
       "    <tr>\n",
       "      <th>65</th>\n",
       "      <td>chr11</td>\n",
       "      <td>197304</td>\n",
       "      <td>197305</td>\n",
       "      <td>chrom_break</td>\n",
       "      <td>0.5</td>\n",
       "    </tr>\n",
       "    <tr>\n",
       "      <th>71</th>\n",
       "      <td>chr12</td>\n",
       "      <td>208380</td>\n",
       "      <td>208381</td>\n",
       "      <td>chrom_break</td>\n",
       "      <td>0.5</td>\n",
       "    </tr>\n",
       "    <tr>\n",
       "      <th>77</th>\n",
       "      <td>chr13</td>\n",
       "      <td>19759449</td>\n",
       "      <td>19759450</td>\n",
       "      <td>chrom_break</td>\n",
       "      <td>0.5</td>\n",
       "    </tr>\n",
       "    <tr>\n",
       "      <th>83</th>\n",
       "      <td>chr14</td>\n",
       "      <td>20020272</td>\n",
       "      <td>20020273</td>\n",
       "      <td>chrom_break</td>\n",
       "      <td>0.5</td>\n",
       "    </tr>\n",
       "    <tr>\n",
       "      <th>89</th>\n",
       "      <td>chr15</td>\n",
       "      <td>22082822</td>\n",
       "      <td>22082823</td>\n",
       "      <td>chrom_break</td>\n",
       "      <td>0.5</td>\n",
       "    </tr>\n",
       "    <tr>\n",
       "      <th>95</th>\n",
       "      <td>chr16</td>\n",
       "      <td>115037</td>\n",
       "      <td>115038</td>\n",
       "      <td>chrom_break</td>\n",
       "      <td>0.5</td>\n",
       "    </tr>\n",
       "    <tr>\n",
       "      <th>101</th>\n",
       "      <td>chr17</td>\n",
       "      <td>101638</td>\n",
       "      <td>101639</td>\n",
       "      <td>chrom_break</td>\n",
       "      <td>0.5</td>\n",
       "    </tr>\n",
       "    <tr>\n",
       "      <th>107</th>\n",
       "      <td>chr18</td>\n",
       "      <td>158714</td>\n",
       "      <td>158715</td>\n",
       "      <td>chrom_break</td>\n",
       "      <td>0.5</td>\n",
       "    </tr>\n",
       "    <tr>\n",
       "      <th>113</th>\n",
       "      <td>chr19</td>\n",
       "      <td>288171</td>\n",
       "      <td>288172</td>\n",
       "      <td>chrom_break</td>\n",
       "      <td>0.5</td>\n",
       "    </tr>\n",
       "    <tr>\n",
       "      <th>119</th>\n",
       "      <td>chr20</td>\n",
       "      <td>170322</td>\n",
       "      <td>170323</td>\n",
       "      <td>chrom_break</td>\n",
       "      <td>0.5</td>\n",
       "    </tr>\n",
       "    <tr>\n",
       "      <th>125</th>\n",
       "      <td>chr21</td>\n",
       "      <td>10987877</td>\n",
       "      <td>10987878</td>\n",
       "      <td>chrom_break</td>\n",
       "      <td>0.5</td>\n",
       "    </tr>\n",
       "  </tbody>\n",
       "</table>\n",
       "</div>"
      ],
      "text/plain": [
       "     chrom     start       end         type  recomb_rate\n",
       "5     chr1    622053    622054  chrom_break          0.5\n",
       "11    chr2    243562    243563  chrom_break          0.5\n",
       "17    chr3    238746    238747  chrom_break          0.5\n",
       "23    chr4    331772    331773  chrom_break          0.5\n",
       "29    chr5    217333    217334  chrom_break          0.5\n",
       "35    chr6    292560    292561  chrom_break          0.5\n",
       "41    chr7    229557    229558  chrom_break          0.5\n",
       "47    chr8    150563    150564  chrom_break          0.5\n",
       "53    chr9    179072    179073  chrom_break          0.5\n",
       "59   chr10     95241     95242  chrom_break          0.5\n",
       "65   chr11    197304    197305  chrom_break          0.5\n",
       "71   chr12    208380    208381  chrom_break          0.5\n",
       "77   chr13  19759449  19759450  chrom_break          0.5\n",
       "83   chr14  20020272  20020273  chrom_break          0.5\n",
       "89   chr15  22082822  22082823  chrom_break          0.5\n",
       "95   chr16    115037    115038  chrom_break          0.5\n",
       "101  chr17    101638    101639  chrom_break          0.5\n",
       "107  chr18    158714    158715  chrom_break          0.5\n",
       "113  chr19    288171    288172  chrom_break          0.5\n",
       "119  chr20    170322    170323  chrom_break          0.5\n",
       "125  chr21  10987877  10987878  chrom_break          0.5"
      ]
     },
     "execution_count": 49,
     "metadata": {},
     "output_type": "execute_result"
    }
   ],
   "source": [
    "add_chrom_breaks(test_data).query(\"type == 'chrom_break'\")"
   ]
  },
  {
   "cell_type": "markdown",
   "metadata": {},
   "source": [
    "#### Test `concatenate_regions`\n",
    "\n",
    "The function should concatenate all regions into a single continuous segment. This segment should start at 0 and its last position should be equal to the total length of all regions - 1."
   ]
  },
  {
   "cell_type": "code",
   "execution_count": 51,
   "metadata": {},
   "outputs": [
    {
     "data": {
      "text/html": [
       "<div>\n",
       "<style>\n",
       "    .dataframe thead tr:only-child th {\n",
       "        text-align: right;\n",
       "    }\n",
       "\n",
       "    .dataframe thead th {\n",
       "        text-align: left;\n",
       "    }\n",
       "\n",
       "    .dataframe tbody tr th {\n",
       "        vertical-align: top;\n",
       "    }\n",
       "</style>\n",
       "<table border=\"1\" class=\"dataframe\">\n",
       "  <thead>\n",
       "    <tr style=\"text-align: right;\">\n",
       "      <th></th>\n",
       "      <th>chrom</th>\n",
       "      <th>start</th>\n",
       "      <th>end</th>\n",
       "      <th>type</th>\n",
       "      <th>recomb_rate</th>\n",
       "      <th>width</th>\n",
       "      <th>slim_start</th>\n",
       "      <th>slim_end</th>\n",
       "    </tr>\n",
       "  </thead>\n",
       "  <tbody>\n",
       "    <tr>\n",
       "      <th>0</th>\n",
       "      <td>chr1</td>\n",
       "      <td>139309</td>\n",
       "      <td>139379</td>\n",
       "      <td>region</td>\n",
       "      <td>3.354927e-08</td>\n",
       "      <td>70</td>\n",
       "      <td>0</td>\n",
       "      <td>69</td>\n",
       "    </tr>\n",
       "    <tr>\n",
       "      <th>1</th>\n",
       "      <td>chr1</td>\n",
       "      <td>139379</td>\n",
       "      <td>139380</td>\n",
       "      <td>spacer</td>\n",
       "      <td>3.124258e-08</td>\n",
       "      <td>1</td>\n",
       "      <td>70</td>\n",
       "      <td>70</td>\n",
       "    </tr>\n",
       "    <tr>\n",
       "      <th>2</th>\n",
       "      <td>chr1</td>\n",
       "      <td>367639</td>\n",
       "      <td>367658</td>\n",
       "      <td>region</td>\n",
       "      <td>2.887498e-08</td>\n",
       "      <td>19</td>\n",
       "      <td>71</td>\n",
       "      <td>89</td>\n",
       "    </tr>\n",
       "    <tr>\n",
       "      <th>3</th>\n",
       "      <td>chr1</td>\n",
       "      <td>367658</td>\n",
       "      <td>367659</td>\n",
       "      <td>spacer</td>\n",
       "      <td>2.838626e-08</td>\n",
       "      <td>1</td>\n",
       "      <td>90</td>\n",
       "      <td>90</td>\n",
       "    </tr>\n",
       "    <tr>\n",
       "      <th>4</th>\n",
       "      <td>chr1</td>\n",
       "      <td>622034</td>\n",
       "      <td>622053</td>\n",
       "      <td>region</td>\n",
       "      <td>2.655176e-08</td>\n",
       "      <td>19</td>\n",
       "      <td>91</td>\n",
       "      <td>109</td>\n",
       "    </tr>\n",
       "    <tr>\n",
       "      <th>55</th>\n",
       "      <td>chr2</td>\n",
       "      <td>140690</td>\n",
       "      <td>140691</td>\n",
       "      <td>site</td>\n",
       "      <td>6.352500e-10</td>\n",
       "      <td>1</td>\n",
       "      <td>110</td>\n",
       "      <td>110</td>\n",
       "    </tr>\n",
       "    <tr>\n",
       "      <th>56</th>\n",
       "      <td>chr2</td>\n",
       "      <td>140691</td>\n",
       "      <td>140692</td>\n",
       "      <td>spacer</td>\n",
       "      <td>3.147195e-09</td>\n",
       "      <td>1</td>\n",
       "      <td>111</td>\n",
       "      <td>111</td>\n",
       "    </tr>\n",
       "    <tr>\n",
       "      <th>57</th>\n",
       "      <td>chr2</td>\n",
       "      <td>242800</td>\n",
       "      <td>242871</td>\n",
       "      <td>region</td>\n",
       "      <td>2.159700e-10</td>\n",
       "      <td>71</td>\n",
       "      <td>112</td>\n",
       "      <td>182</td>\n",
       "    </tr>\n",
       "    <tr>\n",
       "      <th>58</th>\n",
       "      <td>chr2</td>\n",
       "      <td>242871</td>\n",
       "      <td>242872</td>\n",
       "      <td>spacer</td>\n",
       "      <td>2.159700e-10</td>\n",
       "      <td>1</td>\n",
       "      <td>183</td>\n",
       "      <td>183</td>\n",
       "    </tr>\n",
       "    <tr>\n",
       "      <th>59</th>\n",
       "      <td>chr2</td>\n",
       "      <td>243502</td>\n",
       "      <td>243562</td>\n",
       "      <td>region</td>\n",
       "      <td>2.159700e-10</td>\n",
       "      <td>60</td>\n",
       "      <td>184</td>\n",
       "      <td>243</td>\n",
       "    </tr>\n",
       "  </tbody>\n",
       "</table>\n",
       "</div>"
      ],
      "text/plain": [
       "   chrom   start     end    type   recomb_rate  width  slim_start  slim_end\n",
       "0   chr1  139309  139379  region  3.354927e-08     70           0        69\n",
       "1   chr1  139379  139380  spacer  3.124258e-08      1          70        70\n",
       "2   chr1  367639  367658  region  2.887498e-08     19          71        89\n",
       "3   chr1  367658  367659  spacer  2.838626e-08      1          90        90\n",
       "4   chr1  622034  622053  region  2.655176e-08     19          91       109\n",
       "55  chr2  140690  140691    site  6.352500e-10      1         110       110\n",
       "56  chr2  140691  140692  spacer  3.147195e-09      1         111       111\n",
       "57  chr2  242800  242871  region  2.159700e-10     71         112       182\n",
       "58  chr2  242871  242872  spacer  2.159700e-10      1         183       183\n",
       "59  chr2  243502  243562  region  2.159700e-10     60         184       243"
      ]
     },
     "execution_count": 51,
     "metadata": {},
     "output_type": "execute_result"
    }
   ],
   "source": [
    "concatenate_regions(test_data.query(\"chrom == 'chr1' | chrom == 'chr2'\"))"
   ]
  },
  {
   "cell_type": "markdown",
   "metadata": {},
   "source": [
    "What is the correct end of the single continuous segment?"
   ]
  },
  {
   "cell_type": "code",
   "execution_count": 52,
   "metadata": {},
   "outputs": [
    {
     "data": {
      "text/plain": [
       "243"
      ]
     },
     "execution_count": 52,
     "metadata": {},
     "output_type": "execute_result"
    }
   ],
   "source": [
    "sum((test_data.query(\"chrom == 'chr1' | chrom == 'chr2'\")).end -\n",
    "    (test_data.query(\"chrom == 'chr1' | chrom == 'chr2'\")).start) - 1"
   ]
  },
  {
   "cell_type": "markdown",
   "metadata": {},
   "source": [
    "This value matches the `slim_end` value in the last row."
   ]
  }
 ],
 "metadata": {
  "kernelspec": {
   "display_name": "Python 3",
   "language": "python",
   "name": "python3"
  },
  "language_info": {
   "codemirror_mode": {
    "name": "ipython",
    "version": 3
   },
   "file_extension": ".py",
   "mimetype": "text/x-python",
   "name": "python",
   "nbconvert_exporter": "python",
   "pygments_lexer": "ipython3",
   "version": "3.6.1"
  }
 },
 "nbformat": 4,
 "nbformat_minor": 1
}
