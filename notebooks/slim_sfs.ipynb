{
 "cells": [
  {
   "cell_type": "code",
   "execution_count": 1,
   "metadata": {
    "collapsed": false,
    "deletable": true,
    "editable": true
   },
   "outputs": [
    {
     "name": "stderr",
     "output_type": "stream",
     "text": [
      "Conflicts with tidy packages ---------------------------------------------------\n"
     ]
    }
   ],
   "source": [
    "suppressPackageStartupMessages(library(tidyverse))\n",
    "\n",
    "suppressPackageStartupMessages(source(\"../R/process_slim_output.R\"))"
   ]
  },
  {
   "cell_type": "code",
   "execution_count": 4,
   "metadata": {
    "collapsed": true,
    "deletable": true,
    "editable": true
   },
   "outputs": [],
   "source": [
    "sim_dir <- \"../simulations/different_models\""
   ]
  },
  {
   "cell_type": "code",
   "execution_count": 6,
   "metadata": {
    "collapsed": true
   },
   "outputs": [],
   "source": [
    "get_nea_sfs <- function(sim_dir, model, h, gen) {\n",
    "    # load the whole SLiM output file first\n",
    "    slim_file <- read_slim_file(file.path(traject_dir,\n",
    "                                          paste0(model,\n",
    "                                                 \"__h_\", h,\n",
    "                                                 \"__init_nea_0.1__rep_1__dump_gen_\",\n",
    "                                                 gen,\n",
    "                                                 \".txt\")))\n",
    "\n",
    "    # get the Ne of modern humans in this generation\n",
    "    N <- filter(read_populations(slim_file), pop_id == \"p3\")$pop_size\n",
    "\n",
    "    neutral_exonic <-\n",
    "        read_mutations(slim_file, \"m1\", \"p2\") %>%\n",
    "        mutate(model=model, kind=\"exonic\", gen=gen, freq=freq / (2 * N))\n",
    "    \n",
    "    neutral_nonexonic <-\n",
    "        read_mutations(slim_file, \"m1\", \"p3\") %>%\n",
    "        mutate(model=model, kind=\"nonexonic\", gen=gen, freq=freq / (2 * N))\n",
    "    \n",
    "    bind_rows(neutral_exonic, neutral_nonexonic)\n",
    "}"
   ]
  }
 ],
 "metadata": {
  "kernelspec": {
   "display_name": "R",
   "language": "R",
   "name": "ir"
  },
  "language_info": {
   "codemirror_mode": "r",
   "file_extension": ".r",
   "mimetype": "text/x-r-source",
   "name": "R",
   "pygments_lexer": "r",
   "version": "3.3.2"
  }
 },
 "nbformat": 4,
 "nbformat_minor": 0
}
