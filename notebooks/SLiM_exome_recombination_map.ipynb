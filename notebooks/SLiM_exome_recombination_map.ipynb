{
 "cells": [
  {
   "cell_type": "markdown",
   "metadata": {},
   "source": [
    "# Generating SLiM exome recombination map from GTF annotations"
   ]
  },
  {
   "cell_type": "code",
   "execution_count": 1,
   "metadata": {
    "collapsed": true
   },
   "outputs": [],
   "source": [
    "from pybedtools import BedTool\n",
    "import pandas as pd"
   ]
  },
  {
   "cell_type": "code",
   "execution_count": 2,
   "metadata": {
    "collapsed": true
   },
   "outputs": [],
   "source": [
    "RECOMB_RATE = 1e-8 # crossovers per bp per generation"
   ]
  },
  {
   "cell_type": "markdown",
   "metadata": {},
   "source": [
    "### Download the GTF annotations"
   ]
  },
  {
   "cell_type": "code",
   "execution_count": 3,
   "metadata": {
    "collapsed": false
   },
   "outputs": [],
   "source": [
    "gtf = pd.read_table('ftp://ftp.ensembl.org/pub/release-75/gtf/homo_sapiens/Homo_sapiens.GRCh37.75.gtf.gz',\n",
    "                    header=None, sep='\\t', skipinitialspace=True, skiprows=5, compression='gzip',\n",
    "                    names=['chrom', 'source', 'feature', 'start', 'end',\n",
    "                           'score', 'strand', 'frame', 'attribute'], low_memory=False)"
   ]
  },
  {
   "cell_type": "code",
   "execution_count": 4,
   "metadata": {
    "collapsed": false
   },
   "outputs": [
    {
     "data": {
      "text/html": [
       "<div>\n",
       "<table border=\"1\" class=\"dataframe\">\n",
       "  <thead>\n",
       "    <tr style=\"text-align: right;\">\n",
       "      <th></th>\n",
       "      <th>chrom</th>\n",
       "      <th>source</th>\n",
       "      <th>feature</th>\n",
       "      <th>start</th>\n",
       "      <th>end</th>\n",
       "      <th>score</th>\n",
       "      <th>strand</th>\n",
       "      <th>frame</th>\n",
       "      <th>attribute</th>\n",
       "    </tr>\n",
       "  </thead>\n",
       "  <tbody>\n",
       "    <tr>\n",
       "      <th>0</th>\n",
       "      <td>1</td>\n",
       "      <td>pseudogene</td>\n",
       "      <td>gene</td>\n",
       "      <td>11869</td>\n",
       "      <td>14412</td>\n",
       "      <td>.</td>\n",
       "      <td>+</td>\n",
       "      <td>.</td>\n",
       "      <td>gene_id \"ENSG00000223972\"; gene_name \"DDX11L1\"...</td>\n",
       "    </tr>\n",
       "    <tr>\n",
       "      <th>1</th>\n",
       "      <td>1</td>\n",
       "      <td>processed_transcript</td>\n",
       "      <td>transcript</td>\n",
       "      <td>11869</td>\n",
       "      <td>14409</td>\n",
       "      <td>.</td>\n",
       "      <td>+</td>\n",
       "      <td>.</td>\n",
       "      <td>gene_id \"ENSG00000223972\"; transcript_id \"ENST...</td>\n",
       "    </tr>\n",
       "    <tr>\n",
       "      <th>2</th>\n",
       "      <td>1</td>\n",
       "      <td>processed_transcript</td>\n",
       "      <td>exon</td>\n",
       "      <td>11869</td>\n",
       "      <td>12227</td>\n",
       "      <td>.</td>\n",
       "      <td>+</td>\n",
       "      <td>.</td>\n",
       "      <td>gene_id \"ENSG00000223972\"; transcript_id \"ENST...</td>\n",
       "    </tr>\n",
       "    <tr>\n",
       "      <th>3</th>\n",
       "      <td>1</td>\n",
       "      <td>processed_transcript</td>\n",
       "      <td>exon</td>\n",
       "      <td>12613</td>\n",
       "      <td>12721</td>\n",
       "      <td>.</td>\n",
       "      <td>+</td>\n",
       "      <td>.</td>\n",
       "      <td>gene_id \"ENSG00000223972\"; transcript_id \"ENST...</td>\n",
       "    </tr>\n",
       "    <tr>\n",
       "      <th>4</th>\n",
       "      <td>1</td>\n",
       "      <td>processed_transcript</td>\n",
       "      <td>exon</td>\n",
       "      <td>13221</td>\n",
       "      <td>14409</td>\n",
       "      <td>.</td>\n",
       "      <td>+</td>\n",
       "      <td>.</td>\n",
       "      <td>gene_id \"ENSG00000223972\"; transcript_id \"ENST...</td>\n",
       "    </tr>\n",
       "  </tbody>\n",
       "</table>\n",
       "</div>"
      ],
      "text/plain": [
       "  chrom                source     feature  start    end score strand frame  \\\n",
       "0     1            pseudogene        gene  11869  14412     .      +     .   \n",
       "1     1  processed_transcript  transcript  11869  14409     .      +     .   \n",
       "2     1  processed_transcript        exon  11869  12227     .      +     .   \n",
       "3     1  processed_transcript        exon  12613  12721     .      +     .   \n",
       "4     1  processed_transcript        exon  13221  14409     .      +     .   \n",
       "\n",
       "                                           attribute  \n",
       "0  gene_id \"ENSG00000223972\"; gene_name \"DDX11L1\"...  \n",
       "1  gene_id \"ENSG00000223972\"; transcript_id \"ENST...  \n",
       "2  gene_id \"ENSG00000223972\"; transcript_id \"ENST...  \n",
       "3  gene_id \"ENSG00000223972\"; transcript_id \"ENST...  \n",
       "4  gene_id \"ENSG00000223972\"; transcript_id \"ENST...  "
      ]
     },
     "execution_count": 4,
     "metadata": {},
     "output_type": "execute_result"
    }
   ],
   "source": [
    "gtf.head()"
   ]
  },
  {
   "cell_type": "markdown",
   "metadata": {},
   "source": [
    "### Take only autosomal exonic regions from the GTF file"
   ]
  },
  {
   "cell_type": "code",
   "execution_count": 5,
   "metadata": {
    "collapsed": false
   },
   "outputs": [],
   "source": [
    "AUTOSOMES = [str(i + 1) for i in range(22)]"
   ]
  },
  {
   "cell_type": "code",
   "execution_count": 6,
   "metadata": {
    "collapsed": false
   },
   "outputs": [],
   "source": [
    "exons = gtf[gtf.chrom.isin(AUTOSOMES) &\n",
    "           (gtf.source == \"protein_coding\") &\n",
    "           (gtf.feature == \"exon\")]"
   ]
  },
  {
   "cell_type": "markdown",
   "metadata": {},
   "source": [
    "### Merge the overlapping exons"
   ]
  },
  {
   "cell_type": "code",
   "execution_count": 7,
   "metadata": {
    "collapsed": true
   },
   "outputs": [],
   "source": [
    "exons = BedTool.from_dataframe(exons).sort().merge().to_dataframe()"
   ]
  },
  {
   "cell_type": "code",
   "execution_count": 8,
   "metadata": {
    "collapsed": true
   },
   "outputs": [],
   "source": [
    "exons.reset_index(inplace=True, drop=True)"
   ]
  },
  {
   "cell_type": "markdown",
   "metadata": {},
   "source": [
    "### Convert chromosome IDs to integers and sort exons by chromosome"
   ]
  },
  {
   "cell_type": "code",
   "execution_count": 9,
   "metadata": {
    "collapsed": false
   },
   "outputs": [],
   "source": [
    "exons.chrom = exons.chrom.astype(int)\n",
    "exons.sort_values(by=['chrom', 'start'], inplace=True)"
   ]
  },
  {
   "cell_type": "markdown",
   "metadata": {},
   "source": [
    "## Generating the recombination map"
   ]
  },
  {
   "cell_type": "markdown",
   "metadata": {},
   "source": [
    "Recombination rate within exons is $10^{-8}$:"
   ]
  },
  {
   "cell_type": "code",
   "execution_count": 10,
   "metadata": {
    "collapsed": true
   },
   "outputs": [],
   "source": [
    "exons['recomb_rate'] = RECOMB_RATE"
   ]
  },
  {
   "cell_type": "markdown",
   "metadata": {},
   "source": [
    "Recombination rate between exons is implemented by inserting a 1 bp \"gap\" between each pair of adjacent exons and setting the recombination rate at these positions to $L \\times 1\\cdot10^{-8}$ crossovers per generation ($L$ is the distance between adjacent exons).\n",
    "\n",
    "The recombination rate of the \"gap\" between the last exon on one chromosome and the first exon on another chromosome will be 0.5."
   ]
  },
  {
   "cell_type": "code",
   "execution_count": 11,
   "metadata": {
    "collapsed": true
   },
   "outputs": [],
   "source": [
    "def create_recomb_map(exons):\n",
    "    \"\"\"Create recombination map from a given DataFrame of exon coordinates.\"\"\"\n",
    "    # create a new DataFrame with coordinates of 1 bp inter-exonic gaps\n",
    "    gaps = pd.DataFrame({'chrom'       : exons.chrom.values,\n",
    "                         'start'       : exons.end.values,\n",
    "                         'end'         : exons.end.values + 1,\n",
    "                         'recomb_rate' : list(RECOMB_RATE * (exons.start[1:].values - exons.end[:-1].values)) + [0.5]},\n",
    "                        columns=['chrom', 'start', 'end', 'recomb_rate'])\n",
    "    \n",
    "    # merge the dataframes of exon and gap coordinates\n",
    "    exons_and_gaps = pd.concat([exons, gaps]).sort_values(by=['chrom', 'start']).reset_index(drop=True)\n",
    "    \n",
    "    # calculate the end position of each simulated exon/gap region\n",
    "    # (this is how a recombination map is specified for SLiM)\n",
    "    exons_and_gaps['interval_end'] = (exons_and_gaps.end - exons_and_gaps.start).cumsum()\n",
    "    \n",
    "    return exons_and_gaps[['chrom', 'start', 'end', 'interval_end', 'recomb_rate']]"
   ]
  },
  {
   "cell_type": "markdown",
   "metadata": {},
   "source": [
    "SLiM simulates the whole genome as one segment. Therefore, all exons on all chromosomes have to be concatenated and all coordinates have to be shifted appropriately (i.e. first coordinate on the chromosome 2 has to be incremented by a last coordinate of the chromosome 1)."
   ]
  },
  {
   "cell_type": "code",
   "execution_count": 12,
   "metadata": {
    "collapsed": false
   },
   "outputs": [],
   "source": [
    "recomb_map = {}\n",
    "previous_end = 0\n",
    "\n",
    "for chrom in AUTOSOMES:\n",
    "    # generate SLiM format recombination map for this chromosome\n",
    "    recomb_map[chrom] = create_recomb_map(exons.query('chrom == {}'.format(chrom)))\n",
    "    \n",
    "    # increment the positions of the recombination map based on the\n",
    "    # last position on the previous chromosome\n",
    "    recomb_map[chrom].interval_end += previous_end\n",
    "\n",
    "    # get the currently last position of the\n",
    "    previous_end = max(recomb_map[chrom].interval_end)"
   ]
  },
  {
   "cell_type": "code",
   "execution_count": 13,
   "metadata": {
    "collapsed": false
   },
   "outputs": [],
   "source": [
    "recomb_map = pd.concat(recomb_map, ignore_index=True).sort_values(by='interval_end')"
   ]
  },
  {
   "cell_type": "markdown",
   "metadata": {},
   "source": [
    "Remove the very last base of the recombination map because it has a 0.5 recombination rate anyway and there's no other chromosome after it."
   ]
  },
  {
   "cell_type": "code",
   "execution_count": 14,
   "metadata": {
    "collapsed": false
   },
   "outputs": [
    {
     "data": {
      "text/plain": [
       "428386"
      ]
     },
     "execution_count": 14,
     "metadata": {},
     "output_type": "execute_result"
    }
   ],
   "source": [
    "len(recomb_map)"
   ]
  },
  {
   "cell_type": "code",
   "execution_count": 15,
   "metadata": {
    "collapsed": true
   },
   "outputs": [],
   "source": [
    "recomb_map = recomb_map[:-1]"
   ]
  },
  {
   "cell_type": "markdown",
   "metadata": {},
   "source": [
    "### The final recombination map to use in SLiM"
   ]
  },
  {
   "cell_type": "code",
   "execution_count": 16,
   "metadata": {
    "collapsed": false
   },
   "outputs": [
    {
     "data": {
      "text/html": [
       "<div>\n",
       "<table border=\"1\" class=\"dataframe\">\n",
       "  <thead>\n",
       "    <tr style=\"text-align: right;\">\n",
       "      <th></th>\n",
       "      <th>chrom</th>\n",
       "      <th>start</th>\n",
       "      <th>end</th>\n",
       "      <th>interval_end</th>\n",
       "      <th>recomb_rate</th>\n",
       "    </tr>\n",
       "  </thead>\n",
       "  <tbody>\n",
       "    <tr>\n",
       "      <th>0</th>\n",
       "      <td>1</td>\n",
       "      <td>69090</td>\n",
       "      <td>70008</td>\n",
       "      <td>918</td>\n",
       "      <td>1.000000e-08</td>\n",
       "    </tr>\n",
       "    <tr>\n",
       "      <th>1</th>\n",
       "      <td>1</td>\n",
       "      <td>70008</td>\n",
       "      <td>70009</td>\n",
       "      <td>919</td>\n",
       "      <td>6.489200e-04</td>\n",
       "    </tr>\n",
       "    <tr>\n",
       "      <th>2</th>\n",
       "      <td>1</td>\n",
       "      <td>134900</td>\n",
       "      <td>135802</td>\n",
       "      <td>1821</td>\n",
       "      <td>1.000000e-08</td>\n",
       "    </tr>\n",
       "    <tr>\n",
       "      <th>3</th>\n",
       "      <td>1</td>\n",
       "      <td>135802</td>\n",
       "      <td>135803</td>\n",
       "      <td>1822</td>\n",
       "      <td>1.818000e-05</td>\n",
       "    </tr>\n",
       "    <tr>\n",
       "      <th>4</th>\n",
       "      <td>1</td>\n",
       "      <td>137620</td>\n",
       "      <td>139379</td>\n",
       "      <td>3581</td>\n",
       "      <td>1.000000e-08</td>\n",
       "    </tr>\n",
       "  </tbody>\n",
       "</table>\n",
       "</div>"
      ],
      "text/plain": [
       "   chrom   start     end  interval_end   recomb_rate\n",
       "0      1   69090   70008           918  1.000000e-08\n",
       "1      1   70008   70009           919  6.489200e-04\n",
       "2      1  134900  135802          1821  1.000000e-08\n",
       "3      1  135802  135803          1822  1.818000e-05\n",
       "4      1  137620  139379          3581  1.000000e-08"
      ]
     },
     "execution_count": 16,
     "metadata": {},
     "output_type": "execute_result"
    }
   ],
   "source": [
    "recomb_map.head()"
   ]
  },
  {
   "cell_type": "code",
   "execution_count": 17,
   "metadata": {
    "collapsed": false
   },
   "outputs": [
    {
     "data": {
      "text/html": [
       "<div>\n",
       "<table border=\"1\" class=\"dataframe\">\n",
       "  <thead>\n",
       "    <tr style=\"text-align: right;\">\n",
       "      <th></th>\n",
       "      <th>chrom</th>\n",
       "      <th>start</th>\n",
       "      <th>end</th>\n",
       "      <th>interval_end</th>\n",
       "      <th>recomb_rate</th>\n",
       "    </tr>\n",
       "  </thead>\n",
       "  <tbody>\n",
       "    <tr>\n",
       "      <th>288596</th>\n",
       "      <td>22</td>\n",
       "      <td>51220615</td>\n",
       "      <td>51220779</td>\n",
       "      <td>72548207</td>\n",
       "      <td>1.000000e-08</td>\n",
       "    </tr>\n",
       "    <tr>\n",
       "      <th>288597</th>\n",
       "      <td>22</td>\n",
       "      <td>51220779</td>\n",
       "      <td>51220780</td>\n",
       "      <td>72548208</td>\n",
       "      <td>4.170000e-06</td>\n",
       "    </tr>\n",
       "    <tr>\n",
       "      <th>288598</th>\n",
       "      <td>22</td>\n",
       "      <td>51221196</td>\n",
       "      <td>51221714</td>\n",
       "      <td>72548726</td>\n",
       "      <td>1.000000e-08</td>\n",
       "    </tr>\n",
       "    <tr>\n",
       "      <th>288599</th>\n",
       "      <td>22</td>\n",
       "      <td>51221714</td>\n",
       "      <td>51221715</td>\n",
       "      <td>72548727</td>\n",
       "      <td>2.140000e-06</td>\n",
       "    </tr>\n",
       "    <tr>\n",
       "      <th>288600</th>\n",
       "      <td>22</td>\n",
       "      <td>51221928</td>\n",
       "      <td>51222091</td>\n",
       "      <td>72548890</td>\n",
       "      <td>1.000000e-08</td>\n",
       "    </tr>\n",
       "  </tbody>\n",
       "</table>\n",
       "</div>"
      ],
      "text/plain": [
       "        chrom     start       end  interval_end   recomb_rate\n",
       "288596     22  51220615  51220779      72548207  1.000000e-08\n",
       "288597     22  51220779  51220780      72548208  4.170000e-06\n",
       "288598     22  51221196  51221714      72548726  1.000000e-08\n",
       "288599     22  51221714  51221715      72548727  2.140000e-06\n",
       "288600     22  51221928  51222091      72548890  1.000000e-08"
      ]
     },
     "execution_count": 17,
     "metadata": {},
     "output_type": "execute_result"
    }
   ],
   "source": [
    "recomb_map.tail()"
   ]
  },
  {
   "cell_type": "markdown",
   "metadata": {},
   "source": [
    "## Output the result in a format suitable for import into SLiM"
   ]
  },
  {
   "cell_type": "code",
   "execution_count": 18,
   "metadata": {
    "collapsed": true
   },
   "outputs": [],
   "source": [
    "!mkdir -p ../input"
   ]
  },
  {
   "cell_type": "code",
   "execution_count": 19,
   "metadata": {
    "collapsed": false
   },
   "outputs": [],
   "source": [
    "recomb_map[['interval_end', 'recomb_rate']].to_csv('../input/exons.txt', sep='\\t', index=False, header=False)"
   ]
  }
 ],
 "metadata": {
  "kernelspec": {
   "display_name": "Python 3",
   "language": "python",
   "name": "python3"
  },
  "language_info": {
   "codemirror_mode": {
    "name": "ipython",
    "version": 3
   },
   "file_extension": ".py",
   "mimetype": "text/x-python",
   "name": "python",
   "nbconvert_exporter": "python",
   "pygments_lexer": "ipython3",
   "version": "3.5.1"
  }
 },
 "nbformat": 4,
 "nbformat_minor": 0
}
