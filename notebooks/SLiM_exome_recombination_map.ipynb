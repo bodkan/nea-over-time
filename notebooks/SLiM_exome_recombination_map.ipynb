{
 "cells": [
  {
   "cell_type": "markdown",
   "metadata": {},
   "source": [
    "# Generating SLiM exome recombination maps\n",
    "\n",
    "This notebook generates three sets of recombination map files for SLiM.\n",
    "\n",
    "1. Recombination rates between individual sites from the archaic admixture array.\n",
    "\n",
    "2. Recombination rates between exonic regions.\n",
    "\n",
    "3. Recombination rates between exonic regions and sites from the archaic admixture array."
   ]
  },
  {
   "cell_type": "code",
   "execution_count": 1,
   "metadata": {
    "collapsed": true
   },
   "outputs": [],
   "source": [
    "from pybedtools import BedTool\n",
    "import pandas as pd\n",
    "import matplotlib.pyplot as plt"
   ]
  },
  {
   "cell_type": "code",
   "execution_count": 2,
   "metadata": {
    "collapsed": true
   },
   "outputs": [],
   "source": [
    "%matplotlib inline\n",
    "plt.style.use('ggplot')"
   ]
  },
  {
   "cell_type": "code",
   "execution_count": 3,
   "metadata": {
    "collapsed": true
   },
   "outputs": [],
   "source": [
    "RECOMB_RATE = 1e-8 # crossovers per bp per generation"
   ]
  },
  {
   "cell_type": "markdown",
   "metadata": {},
   "source": [
    "## Exon coordinates processing"
   ]
  },
  {
   "cell_type": "markdown",
   "metadata": {},
   "source": [
    "First download the GTF annotations:"
   ]
  },
  {
   "cell_type": "code",
   "execution_count": 4,
   "metadata": {
    "collapsed": false
   },
   "outputs": [],
   "source": [
    "gtf = pd.read_table('ftp://ftp.ensembl.org/pub/release-75/gtf/homo_sapiens/Homo_sapiens.GRCh37.75.gtf.gz',\n",
    "                    header=None, sep='\\t', skipinitialspace=True, skiprows=5, compression='gzip',\n",
    "                    names=['chrom', 'source', 'feature', 'start', 'end',\n",
    "                           'score', 'strand', 'frame', 'attribute'], low_memory=False)"
   ]
  },
  {
   "cell_type": "markdown",
   "metadata": {},
   "source": [
    "How does the data look like?"
   ]
  },
  {
   "cell_type": "code",
   "execution_count": 5,
   "metadata": {
    "collapsed": false
   },
   "outputs": [
    {
     "data": {
      "text/html": [
       "<div>\n",
       "<table border=\"1\" class=\"dataframe\">\n",
       "  <thead>\n",
       "    <tr style=\"text-align: right;\">\n",
       "      <th></th>\n",
       "      <th>chrom</th>\n",
       "      <th>source</th>\n",
       "      <th>feature</th>\n",
       "      <th>start</th>\n",
       "      <th>end</th>\n",
       "      <th>score</th>\n",
       "      <th>strand</th>\n",
       "      <th>frame</th>\n",
       "      <th>attribute</th>\n",
       "    </tr>\n",
       "  </thead>\n",
       "  <tbody>\n",
       "    <tr>\n",
       "      <th>0</th>\n",
       "      <td>1</td>\n",
       "      <td>pseudogene</td>\n",
       "      <td>gene</td>\n",
       "      <td>11869</td>\n",
       "      <td>14412</td>\n",
       "      <td>.</td>\n",
       "      <td>+</td>\n",
       "      <td>.</td>\n",
       "      <td>gene_id \"ENSG00000223972\"; gene_name \"DDX11L1\"...</td>\n",
       "    </tr>\n",
       "    <tr>\n",
       "      <th>1</th>\n",
       "      <td>1</td>\n",
       "      <td>processed_transcript</td>\n",
       "      <td>transcript</td>\n",
       "      <td>11869</td>\n",
       "      <td>14409</td>\n",
       "      <td>.</td>\n",
       "      <td>+</td>\n",
       "      <td>.</td>\n",
       "      <td>gene_id \"ENSG00000223972\"; transcript_id \"ENST...</td>\n",
       "    </tr>\n",
       "    <tr>\n",
       "      <th>2</th>\n",
       "      <td>1</td>\n",
       "      <td>processed_transcript</td>\n",
       "      <td>exon</td>\n",
       "      <td>11869</td>\n",
       "      <td>12227</td>\n",
       "      <td>.</td>\n",
       "      <td>+</td>\n",
       "      <td>.</td>\n",
       "      <td>gene_id \"ENSG00000223972\"; transcript_id \"ENST...</td>\n",
       "    </tr>\n",
       "    <tr>\n",
       "      <th>3</th>\n",
       "      <td>1</td>\n",
       "      <td>processed_transcript</td>\n",
       "      <td>exon</td>\n",
       "      <td>12613</td>\n",
       "      <td>12721</td>\n",
       "      <td>.</td>\n",
       "      <td>+</td>\n",
       "      <td>.</td>\n",
       "      <td>gene_id \"ENSG00000223972\"; transcript_id \"ENST...</td>\n",
       "    </tr>\n",
       "    <tr>\n",
       "      <th>4</th>\n",
       "      <td>1</td>\n",
       "      <td>processed_transcript</td>\n",
       "      <td>exon</td>\n",
       "      <td>13221</td>\n",
       "      <td>14409</td>\n",
       "      <td>.</td>\n",
       "      <td>+</td>\n",
       "      <td>.</td>\n",
       "      <td>gene_id \"ENSG00000223972\"; transcript_id \"ENST...</td>\n",
       "    </tr>\n",
       "  </tbody>\n",
       "</table>\n",
       "</div>"
      ],
      "text/plain": [
       "  chrom                source     feature  start    end score strand frame  \\\n",
       "0     1            pseudogene        gene  11869  14412     .      +     .   \n",
       "1     1  processed_transcript  transcript  11869  14409     .      +     .   \n",
       "2     1  processed_transcript        exon  11869  12227     .      +     .   \n",
       "3     1  processed_transcript        exon  12613  12721     .      +     .   \n",
       "4     1  processed_transcript        exon  13221  14409     .      +     .   \n",
       "\n",
       "                                           attribute  \n",
       "0  gene_id \"ENSG00000223972\"; gene_name \"DDX11L1\"...  \n",
       "1  gene_id \"ENSG00000223972\"; transcript_id \"ENST...  \n",
       "2  gene_id \"ENSG00000223972\"; transcript_id \"ENST...  \n",
       "3  gene_id \"ENSG00000223972\"; transcript_id \"ENST...  \n",
       "4  gene_id \"ENSG00000223972\"; transcript_id \"ENST...  "
      ]
     },
     "execution_count": 5,
     "metadata": {},
     "output_type": "execute_result"
    }
   ],
   "source": [
    "gtf.head()"
   ]
  },
  {
   "cell_type": "code",
   "execution_count": 6,
   "metadata": {
    "collapsed": false
   },
   "outputs": [
    {
     "data": {
      "text/plain": [
       "protein_coding                        2001054\n",
       "nonsense_mediated_decay                293471\n",
       "processed_transcript                   173401\n",
       "retained_intron                        150034\n",
       "lincRNA                                 55928\n",
       "antisense                               45811\n",
       "processed_pseudogene                    24517\n",
       "pseudogene                              17830\n",
       "unprocessed_pseudogene                  13763\n",
       "miRNA                                   10209\n",
       "transcribed_unprocessed_pseudogene       7931\n",
       "misc_RNA                                 6554\n",
       "snRNA                                    6215\n",
       "snoRNA                                   4791\n",
       "sense_intronic                           3241\n",
       "polymorphic_pseudogene                   1906\n",
       "rRNA                                     1706\n",
       "unitary_pseudogene                       1467\n",
       "sense_overlapping                        1463\n",
       "IG_V_gene                                1277\n",
       "transcribed_processed_pseudogene         1182\n",
       "non_stop_decay                           1132\n",
       "TR_V_gene                                1019\n",
       "IG_V_pseudogene                           912\n",
       "TR_J_gene                                 328\n",
       "IG_C_gene                                 313\n",
       "IG_D_gene                                 260\n",
       "TR_V_pseudogene                           147\n",
       "3prime_overlapping_ncrna                  116\n",
       "IG_J_gene                                 102\n",
       "Mt_tRNA                                    66\n",
       "TR_C_gene                                  64\n",
       "IG_C_pseudogene                            51\n",
       "IG_J_pseudogene                            18\n",
       "TR_J_pseudogene                            12\n",
       "TR_D_gene                                  12\n",
       "Mt_rRNA                                     6\n",
       "translated_processed_pseudogene             3\n",
       "Name: source, dtype: int64"
      ]
     },
     "execution_count": 6,
     "metadata": {},
     "output_type": "execute_result"
    }
   ],
   "source": [
    "gtf.source.value_counts()"
   ]
  },
  {
   "cell_type": "code",
   "execution_count": 7,
   "metadata": {
    "collapsed": false
   },
   "outputs": [
    {
     "data": {
      "text/plain": [
       "exon              1306656\n",
       "CDS                791856\n",
       "UTR                304070\n",
       "transcript         215170\n",
       "stop_codon          73411\n",
       "start_codon         73358\n",
       "gene                63677\n",
       "Selenocysteine        114\n",
       "Name: feature, dtype: int64"
      ]
     },
     "execution_count": 7,
     "metadata": {},
     "output_type": "execute_result"
    }
   ],
   "source": [
    "gtf.feature.value_counts()"
   ]
  },
  {
   "cell_type": "markdown",
   "metadata": {},
   "source": [
    "Take only autosomal protein-coding regions, since we won't be simulating sex chromosomes:"
   ]
  },
  {
   "cell_type": "code",
   "execution_count": 8,
   "metadata": {
    "collapsed": false
   },
   "outputs": [],
   "source": [
    "AUTOSOMES = [str(i + 1) for i in range(22)]"
   ]
  },
  {
   "cell_type": "code",
   "execution_count": 9,
   "metadata": {
    "collapsed": false
   },
   "outputs": [],
   "source": [
    "exons = gtf[gtf.chrom.isin(AUTOSOMES) &\n",
    "           (gtf.source == \"protein_coding\") &\n",
    "           (gtf.feature == \"exon\")]"
   ]
  },
  {
   "cell_type": "markdown",
   "metadata": {},
   "source": [
    "Merge the overlapping exons:"
   ]
  },
  {
   "cell_type": "code",
   "execution_count": 10,
   "metadata": {
    "collapsed": true
   },
   "outputs": [],
   "source": [
    "exons = BedTool.from_dataframe(exons).sort().merge().to_dataframe()"
   ]
  },
  {
   "cell_type": "code",
   "execution_count": 11,
   "metadata": {
    "collapsed": false
   },
   "outputs": [],
   "source": [
    "exons['type'] = 'exon'"
   ]
  },
  {
   "cell_type": "markdown",
   "metadata": {},
   "source": [
    "Convert chromosome IDs to integers and sort exons by chromosome:"
   ]
  },
  {
   "cell_type": "code",
   "execution_count": 12,
   "metadata": {
    "collapsed": false
   },
   "outputs": [],
   "source": [
    "exons.chrom = exons.chrom.astype(int)\n",
    "exons.sort_values(by=['chrom', 'start'], inplace=True)"
   ]
  },
  {
   "cell_type": "markdown",
   "metadata": {},
   "source": [
    "What is the distribution of exon lengths?"
   ]
  },
  {
   "cell_type": "code",
   "execution_count": 13,
   "metadata": {
    "collapsed": false
   },
   "outputs": [
    {
     "data": {
      "text/plain": [
       "count    214193.000000\n",
       "mean        337.708039\n",
       "std         776.506070\n",
       "min           1.000000\n",
       "25%          96.000000\n",
       "50%         138.000000\n",
       "75%         217.000000\n",
       "max       24409.000000\n",
       "dtype: float64"
      ]
     },
     "execution_count": 13,
     "metadata": {},
     "output_type": "execute_result"
    }
   ],
   "source": [
    "((exons.end - exons.start)).describe()"
   ]
  },
  {
   "cell_type": "code",
   "execution_count": 14,
   "metadata": {
    "collapsed": false
   },
   "outputs": [
    {
     "data": {
      "image/png": "[encoded data removed]",
      "text/plain": [
       "<matplotlib.figure.Figure at 0x7f607b956a20>"
      ]
     },
     "metadata": {},
     "output_type": "display_data"
    }
   ],
   "source": [
    "plt.figure_ = plt.hist((exons.end - exons.start), bins=100)"
   ]
  },
  {
   "cell_type": "markdown",
   "metadata": {},
   "source": [
    "Filter out some very small exons:"
   ]
  },
  {
   "cell_type": "code",
   "execution_count": 15,
   "metadata": {
    "collapsed": false
   },
   "outputs": [],
   "source": [
    "exons = exons[(exons.end - exons.start) > 5]"
   ]
  },
  {
   "cell_type": "markdown",
   "metadata": {},
   "source": [
    "Specify the recombination rate within exons:"
   ]
  },
  {
   "cell_type": "code",
   "execution_count": 16,
   "metadata": {
    "collapsed": false
   },
   "outputs": [],
   "source": [
    "exons.ix[exons.type == 'exon', 'recomb_rate'] = RECOMB_RATE"
   ]
  },
  {
   "cell_type": "code",
   "execution_count": 39,
   "metadata": {
    "collapsed": false
   },
   "outputs": [
    {
     "data": {
      "text/html": [
       "<div>\n",
       "<table border=\"1\" class=\"dataframe\">\n",
       "  <thead>\n",
       "    <tr style=\"text-align: right;\">\n",
       "      <th></th>\n",
       "      <th>chrom</th>\n",
       "      <th>start</th>\n",
       "      <th>end</th>\n",
       "      <th>type</th>\n",
       "      <th>recomb_rate</th>\n",
       "    </tr>\n",
       "  </thead>\n",
       "  <tbody>\n",
       "    <tr>\n",
       "      <th>0</th>\n",
       "      <td>1</td>\n",
       "      <td>69090</td>\n",
       "      <td>70008</td>\n",
       "      <td>exon</td>\n",
       "      <td>1.000000e-08</td>\n",
       "    </tr>\n",
       "    <tr>\n",
       "      <th>1</th>\n",
       "      <td>1</td>\n",
       "      <td>134900</td>\n",
       "      <td>135802</td>\n",
       "      <td>exon</td>\n",
       "      <td>1.000000e-08</td>\n",
       "    </tr>\n",
       "    <tr>\n",
       "      <th>2</th>\n",
       "      <td>1</td>\n",
       "      <td>137620</td>\n",
       "      <td>139379</td>\n",
       "      <td>exon</td>\n",
       "      <td>1.000000e-08</td>\n",
       "    </tr>\n",
       "    <tr>\n",
       "      <th>3</th>\n",
       "      <td>1</td>\n",
       "      <td>367639</td>\n",
       "      <td>368634</td>\n",
       "      <td>exon</td>\n",
       "      <td>1.000000e-08</td>\n",
       "    </tr>\n",
       "    <tr>\n",
       "      <th>4</th>\n",
       "      <td>1</td>\n",
       "      <td>621058</td>\n",
       "      <td>622053</td>\n",
       "      <td>exon</td>\n",
       "      <td>1.000000e-08</td>\n",
       "    </tr>\n",
       "  </tbody>\n",
       "</table>\n",
       "</div>"
      ],
      "text/plain": [
       "   chrom   start     end  type   recomb_rate\n",
       "0      1   69090   70008  exon  1.000000e-08\n",
       "1      1  134900  135802  exon  1.000000e-08\n",
       "2      1  137620  139379  exon  1.000000e-08\n",
       "3      1  367639  368634  exon  1.000000e-08\n",
       "4      1  621058  622053  exon  1.000000e-08"
      ]
     },
     "execution_count": 39,
     "metadata": {},
     "output_type": "execute_result"
    }
   ],
   "source": [
    "exons.head()"
   ]
  },
  {
   "cell_type": "markdown",
   "metadata": {},
   "source": [
    "## Process positions from the archaic admixture array"
   ]
  },
  {
   "cell_type": "markdown",
   "metadata": {},
   "source": [
    "Load the coordinates of sites from the archaic admixture array:"
   ]
  },
  {
   "cell_type": "code",
   "execution_count": 17,
   "metadata": {
    "collapsed": true
   },
   "outputs": [],
   "source": [
    "array_sites = pd.read_table('../raw_data/ice_age/filter.gz', names=['chrom', 'end', 'set_1', 'set_2'])"
   ]
  },
  {
   "cell_type": "markdown",
   "metadata": {},
   "source": [
    "Subset to sites in the so called \"Set 1\" (see `raw_data/ice_age/README.md` for more information):"
   ]
  },
  {
   "cell_type": "code",
   "execution_count": 18,
   "metadata": {
    "collapsed": true
   },
   "outputs": [],
   "source": [
    "array_sites = array_sites[array_sites.set_1 == 1]"
   ]
  },
  {
   "cell_type": "markdown",
   "metadata": {},
   "source": [
    "Find sites that don't fall within exonic regions. These will be simulated individually when building the recombination map. The ones within the exons will be recombining simply as part of the exons:"
   ]
  },
  {
   "cell_type": "code",
   "execution_count": 19,
   "metadata": {
    "collapsed": true
   },
   "outputs": [],
   "source": [
    "array_sites['start'] = array_sites.end - 1"
   ]
  },
  {
   "cell_type": "code",
   "execution_count": 20,
   "metadata": {
    "collapsed": false
   },
   "outputs": [],
   "source": [
    "array_sites = array_sites[['chrom', 'start', 'end']]"
   ]
  },
  {
   "cell_type": "code",
   "execution_count": 21,
   "metadata": {
    "collapsed": false
   },
   "outputs": [],
   "source": [
    "array_sites['type'] = 'snp'"
   ]
  },
  {
   "cell_type": "markdown",
   "metadata": {},
   "source": [
    "## Create a union of exon regions with admixture array informative positions\n",
    "\n",
    "Informative sites within exons will be simulated simply as part of the exons. Inter-exon informative sites will be simulated individually, with an appropriate recombination rate set between them and both adjacent exons or other informative sites."
   ]
  },
  {
   "cell_type": "code",
   "execution_count": 22,
   "metadata": {
    "collapsed": true
   },
   "outputs": [],
   "source": [
    "exome = BedTool.from_dataframe(exons)\n",
    "\n",
    "# take subset of array sites that lie outside exons\n",
    "array = BedTool.from_dataframe(array_sites).intersect(exome, v=True)"
   ]
  },
  {
   "cell_type": "code",
   "execution_count": 23,
   "metadata": {
    "collapsed": false
   },
   "outputs": [],
   "source": [
    "exons_and_sites = pd.concat([exome.to_dataframe(),\n",
    "                             array.to_dataframe()]).sort_values(by=['chrom', 'start']).reset_index(drop=True)"
   ]
  },
  {
   "cell_type": "code",
   "execution_count": 24,
   "metadata": {
    "collapsed": false
   },
   "outputs": [],
   "source": [
    "# rename and rearrange columns\n",
    "exons_and_sites = exons_and_sites.rename(columns={'name': 'type', 'score': 'recomb_rate'})[['chrom', 'start', 'end', 'type', 'recomb_rate']]"
   ]
  },
  {
   "cell_type": "markdown",
   "metadata": {},
   "source": [
    "## Generating the recombination map"
   ]
  },
  {
   "cell_type": "markdown",
   "metadata": {},
   "source": [
    "Recombination rate between exons and/or informative positions is implemented by inserting a 1 bp \"gap\" between each adjacent region/site and setting the recombination rate at these positions to $L \\times 1\\cdot10^{-8}$ crossovers per generation ($L$ is the distance between exons/sites).\n",
    "\n",
    "The recombination rate of the \"gap\" between the last feature on one chromosome and the first feature on another chromosome will be 0.5."
   ]
  },
  {
   "cell_type": "code",
   "execution_count": 25,
   "metadata": {
    "collapsed": false
   },
   "outputs": [],
   "source": [
    "def add_recombination_gaps(regions):\n",
    "    \"\"\"Add 1 bp \"recombination gaps\" between each record in\n",
    "    a given DataFrame.\n",
    "    \"\"\"\n",
    "    # create a new DataFrame with coordinates of 1 bp gaps\n",
    "    gaps = pd.DataFrame({'chrom'       : regions.chrom.values,\n",
    "                         'start'       : regions.end.values,\n",
    "                         'end'         : regions.end.values + 1,\n",
    "                         'recomb_rate' : list(RECOMB_RATE * (regions.start[1:].values - regions.end[:-1].values)) + [0.5],\n",
    "                         'type'        : 'gap'},\n",
    "                        columns=['chrom', 'start', 'end', 'recomb_rate', 'type'])\n",
    "\n",
    "    # merge the dataframes of regions and gap coordinates\n",
    "    regions_and_gaps = pd.concat([regions.query('type != \"snp\"'), gaps]).sort_values(by=['chrom', 'start']).reset_index(drop=True)\n",
    "    \n",
    "    # calculate the end position of each simulated region and gap\n",
    "    # (this is how a recombination map is specified for SLiM)\n",
    "    regions_and_gaps['interval_end'] = (regions_and_gaps.end - regions_and_gaps.start).cumsum()\n",
    "    \n",
    "    # return recombination map between regions and admixture array sites\n",
    "    # (snp records can be ignored, since they were used only to place\n",
    "    # 1 bp \"gaps\" in between)\n",
    "    return regions_and_gaps[['chrom', 'start', 'end', 'type', 'interval_end', 'recomb_rate']]\n",
    "\n",
    "\n",
    "def create_genome_recomb_map(regions):\n",
    "    \"\"\"Create recombination map for all chromosomes.\n",
    "    \n",
    "    SLiM simulates the whole genome as one segment. Therefore, all\n",
    "    exons on all chromosomes have to be concatenated and all coordinates\n",
    "    have to be shifted appropriately (i.e. first coordinate on the chromosome 2\n",
    "    has to be incremented by a last coordinate of the chromosome 1).\n",
    "    \"\"\"\n",
    "    recomb_map = {}\n",
    "    previous_end = 0\n",
    "\n",
    "    for chrom in AUTOSOMES:\n",
    "        # add recombination gaps between regions on this chromosome\n",
    "        recomb_map[chrom] = add_recombination_gaps(regions.query('chrom == {}'.format(chrom)))\n",
    "\n",
    "        # increment the positions of the recombination map based on the\n",
    "        # last position on the previous chromosome\n",
    "        recomb_map[chrom].interval_end += previous_end\n",
    "\n",
    "        # get the currently last position of the\n",
    "        previous_end = max(recomb_map[chrom].interval_end)\n",
    "        \n",
    "    # concatenate exome recombination maps of all chromosomes\n",
    "    recomb_map = pd.concat(recomb_map, ignore_index=True).sort_values(by='interval_end')\n",
    "\n",
    "    # remove the very last base of the recombination map\n",
    "    # (it has a 0.5 recombination rate anyway and there's no other chromosome\n",
    "    # after it)\n",
    "    recomb_map = recomb_map[:-1]\n",
    "    \n",
    "    return recomb_map"
   ]
  },
  {
   "cell_type": "markdown",
   "metadata": {},
   "source": [
    "### Recombination map of informative positions from the admixture array"
   ]
  },
  {
   "cell_type": "code",
   "execution_count": 26,
   "metadata": {
    "collapsed": false
   },
   "outputs": [],
   "source": [
    "sites_recomb_map = create_genome_recomb_map(array_sites)"
   ]
  },
  {
   "cell_type": "code",
   "execution_count": 27,
   "metadata": {
    "collapsed": false
   },
   "outputs": [
    {
     "data": {
      "text/html": [
       "<div>\n",
       "<table border=\"1\" class=\"dataframe\">\n",
       "  <thead>\n",
       "    <tr style=\"text-align: right;\">\n",
       "      <th></th>\n",
       "      <th>chrom</th>\n",
       "      <th>start</th>\n",
       "      <th>end</th>\n",
       "      <th>type</th>\n",
       "      <th>interval_end</th>\n",
       "      <th>recomb_rate</th>\n",
       "    </tr>\n",
       "  </thead>\n",
       "  <tbody>\n",
       "    <tr>\n",
       "      <th>436719</th>\n",
       "      <td>22</td>\n",
       "      <td>51147735</td>\n",
       "      <td>51147736</td>\n",
       "      <td>gap</td>\n",
       "      <td>783969</td>\n",
       "      <td>0.000051</td>\n",
       "    </tr>\n",
       "    <tr>\n",
       "      <th>436720</th>\n",
       "      <td>22</td>\n",
       "      <td>51152866</td>\n",
       "      <td>51152867</td>\n",
       "      <td>gap</td>\n",
       "      <td>783970</td>\n",
       "      <td>0.000020</td>\n",
       "    </tr>\n",
       "    <tr>\n",
       "      <th>436721</th>\n",
       "      <td>22</td>\n",
       "      <td>51154908</td>\n",
       "      <td>51154909</td>\n",
       "      <td>gap</td>\n",
       "      <td>783971</td>\n",
       "      <td>0.000187</td>\n",
       "    </tr>\n",
       "    <tr>\n",
       "      <th>436722</th>\n",
       "      <td>22</td>\n",
       "      <td>51173632</td>\n",
       "      <td>51173633</td>\n",
       "      <td>gap</td>\n",
       "      <td>783972</td>\n",
       "      <td>0.000005</td>\n",
       "    </tr>\n",
       "    <tr>\n",
       "      <th>436723</th>\n",
       "      <td>22</td>\n",
       "      <td>51174091</td>\n",
       "      <td>51174092</td>\n",
       "      <td>gap</td>\n",
       "      <td>783973</td>\n",
       "      <td>0.000032</td>\n",
       "    </tr>\n",
       "  </tbody>\n",
       "</table>\n",
       "</div>"
      ],
      "text/plain": [
       "        chrom     start       end type  interval_end  recomb_rate\n",
       "436719     22  51147735  51147736  gap        783969     0.000051\n",
       "436720     22  51152866  51152867  gap        783970     0.000020\n",
       "436721     22  51154908  51154909  gap        783971     0.000187\n",
       "436722     22  51173632  51173633  gap        783972     0.000005\n",
       "436723     22  51174091  51174092  gap        783973     0.000032"
      ]
     },
     "execution_count": 27,
     "metadata": {},
     "output_type": "execute_result"
    }
   ],
   "source": [
    "sites_recomb_map.tail()"
   ]
  },
  {
   "cell_type": "code",
   "execution_count": 28,
   "metadata": {
    "collapsed": false
   },
   "outputs": [
    {
     "data": {
      "text/html": [
       "<div>\n",
       "<table border=\"1\" class=\"dataframe\">\n",
       "  <thead>\n",
       "    <tr style=\"text-align: right;\">\n",
       "      <th></th>\n",
       "      <th>chrom</th>\n",
       "      <th>start</th>\n",
       "      <th>end</th>\n",
       "      <th>type</th>\n",
       "    </tr>\n",
       "  </thead>\n",
       "  <tbody>\n",
       "    <tr>\n",
       "      <th>954450</th>\n",
       "      <td>22</td>\n",
       "      <td>51152865</td>\n",
       "      <td>51152866</td>\n",
       "      <td>snp</td>\n",
       "    </tr>\n",
       "    <tr>\n",
       "      <th>954451</th>\n",
       "      <td>22</td>\n",
       "      <td>51154907</td>\n",
       "      <td>51154908</td>\n",
       "      <td>snp</td>\n",
       "    </tr>\n",
       "    <tr>\n",
       "      <th>954453</th>\n",
       "      <td>22</td>\n",
       "      <td>51173631</td>\n",
       "      <td>51173632</td>\n",
       "      <td>snp</td>\n",
       "    </tr>\n",
       "    <tr>\n",
       "      <th>954454</th>\n",
       "      <td>22</td>\n",
       "      <td>51174090</td>\n",
       "      <td>51174091</td>\n",
       "      <td>snp</td>\n",
       "    </tr>\n",
       "    <tr>\n",
       "      <th>954455</th>\n",
       "      <td>22</td>\n",
       "      <td>51177247</td>\n",
       "      <td>51177248</td>\n",
       "      <td>snp</td>\n",
       "    </tr>\n",
       "  </tbody>\n",
       "</table>\n",
       "</div>"
      ],
      "text/plain": [
       "        chrom     start       end type\n",
       "954450     22  51152865  51152866  snp\n",
       "954451     22  51154907  51154908  snp\n",
       "954453     22  51173631  51173632  snp\n",
       "954454     22  51174090  51174091  snp\n",
       "954455     22  51177247  51177248  snp"
      ]
     },
     "execution_count": 28,
     "metadata": {},
     "output_type": "execute_result"
    }
   ],
   "source": [
    "array_sites.tail()"
   ]
  },
  {
   "cell_type": "markdown",
   "metadata": {},
   "source": [
    "#### Recombination map with exons only\n",
    "\n",
    "This will be used in the mutation accumulation phase."
   ]
  },
  {
   "cell_type": "code",
   "execution_count": 29,
   "metadata": {
    "collapsed": false
   },
   "outputs": [],
   "source": [
    "exons_recomb_map = create_genome_recomb_map(exons)"
   ]
  },
  {
   "cell_type": "code",
   "execution_count": 30,
   "metadata": {
    "collapsed": false
   },
   "outputs": [
    {
     "data": {
      "text/html": [
       "<div>\n",
       "<table border=\"1\" class=\"dataframe\">\n",
       "  <thead>\n",
       "    <tr style=\"text-align: right;\">\n",
       "      <th></th>\n",
       "      <th>chrom</th>\n",
       "      <th>start</th>\n",
       "      <th>end</th>\n",
       "      <th>type</th>\n",
       "      <th>interval_end</th>\n",
       "      <th>recomb_rate</th>\n",
       "    </tr>\n",
       "  </thead>\n",
       "  <tbody>\n",
       "    <tr>\n",
       "      <th>288404</th>\n",
       "      <td>22</td>\n",
       "      <td>51220615</td>\n",
       "      <td>51220779</td>\n",
       "      <td>exon</td>\n",
       "      <td>72547537</td>\n",
       "      <td>1.000000e-08</td>\n",
       "    </tr>\n",
       "    <tr>\n",
       "      <th>288405</th>\n",
       "      <td>22</td>\n",
       "      <td>51220779</td>\n",
       "      <td>51220780</td>\n",
       "      <td>gap</td>\n",
       "      <td>72547538</td>\n",
       "      <td>4.170000e-06</td>\n",
       "    </tr>\n",
       "    <tr>\n",
       "      <th>288406</th>\n",
       "      <td>22</td>\n",
       "      <td>51221196</td>\n",
       "      <td>51221714</td>\n",
       "      <td>exon</td>\n",
       "      <td>72548056</td>\n",
       "      <td>1.000000e-08</td>\n",
       "    </tr>\n",
       "    <tr>\n",
       "      <th>288407</th>\n",
       "      <td>22</td>\n",
       "      <td>51221714</td>\n",
       "      <td>51221715</td>\n",
       "      <td>gap</td>\n",
       "      <td>72548057</td>\n",
       "      <td>2.140000e-06</td>\n",
       "    </tr>\n",
       "    <tr>\n",
       "      <th>288408</th>\n",
       "      <td>22</td>\n",
       "      <td>51221928</td>\n",
       "      <td>51222091</td>\n",
       "      <td>exon</td>\n",
       "      <td>72548220</td>\n",
       "      <td>1.000000e-08</td>\n",
       "    </tr>\n",
       "  </tbody>\n",
       "</table>\n",
       "</div>"
      ],
      "text/plain": [
       "        chrom     start       end  type  interval_end   recomb_rate\n",
       "288404     22  51220615  51220779  exon      72547537  1.000000e-08\n",
       "288405     22  51220779  51220780   gap      72547538  4.170000e-06\n",
       "288406     22  51221196  51221714  exon      72548056  1.000000e-08\n",
       "288407     22  51221714  51221715   gap      72548057  2.140000e-06\n",
       "288408     22  51221928  51222091  exon      72548220  1.000000e-08"
      ]
     },
     "execution_count": 30,
     "metadata": {},
     "output_type": "execute_result"
    }
   ],
   "source": [
    "exons_recomb_map.tail()"
   ]
  },
  {
   "cell_type": "code",
   "execution_count": 31,
   "metadata": {
    "collapsed": false
   },
   "outputs": [
    {
     "data": {
      "text/html": [
       "<div>\n",
       "<table border=\"1\" class=\"dataframe\">\n",
       "  <thead>\n",
       "    <tr style=\"text-align: right;\">\n",
       "      <th></th>\n",
       "      <th>chrom</th>\n",
       "      <th>start</th>\n",
       "      <th>end</th>\n",
       "      <th>type</th>\n",
       "      <th>recomb_rate</th>\n",
       "    </tr>\n",
       "  </thead>\n",
       "  <tbody>\n",
       "    <tr>\n",
       "      <th>144296</th>\n",
       "      <td>22</td>\n",
       "      <td>51215097</td>\n",
       "      <td>51215177</td>\n",
       "      <td>exon</td>\n",
       "      <td>1.000000e-08</td>\n",
       "    </tr>\n",
       "    <tr>\n",
       "      <th>144297</th>\n",
       "      <td>22</td>\n",
       "      <td>51216379</td>\n",
       "      <td>51216409</td>\n",
       "      <td>exon</td>\n",
       "      <td>1.000000e-08</td>\n",
       "    </tr>\n",
       "    <tr>\n",
       "      <th>144298</th>\n",
       "      <td>22</td>\n",
       "      <td>51220615</td>\n",
       "      <td>51220779</td>\n",
       "      <td>exon</td>\n",
       "      <td>1.000000e-08</td>\n",
       "    </tr>\n",
       "    <tr>\n",
       "      <th>144299</th>\n",
       "      <td>22</td>\n",
       "      <td>51221196</td>\n",
       "      <td>51221714</td>\n",
       "      <td>exon</td>\n",
       "      <td>1.000000e-08</td>\n",
       "    </tr>\n",
       "    <tr>\n",
       "      <th>144300</th>\n",
       "      <td>22</td>\n",
       "      <td>51221928</td>\n",
       "      <td>51222091</td>\n",
       "      <td>exon</td>\n",
       "      <td>1.000000e-08</td>\n",
       "    </tr>\n",
       "  </tbody>\n",
       "</table>\n",
       "</div>"
      ],
      "text/plain": [
       "        chrom     start       end  type   recomb_rate\n",
       "144296     22  51215097  51215177  exon  1.000000e-08\n",
       "144297     22  51216379  51216409  exon  1.000000e-08\n",
       "144298     22  51220615  51220779  exon  1.000000e-08\n",
       "144299     22  51221196  51221714  exon  1.000000e-08\n",
       "144300     22  51221928  51222091  exon  1.000000e-08"
      ]
     },
     "execution_count": 31,
     "metadata": {},
     "output_type": "execute_result"
    }
   ],
   "source": [
    "exons.tail()"
   ]
  },
  {
   "cell_type": "markdown",
   "metadata": {},
   "source": [
    "#### Recombination map of exons and informative positions from the admixture array\n",
    "\n",
    "This will be used to simulate the fate of introgressed sequence after Neanderthal admixture."
   ]
  },
  {
   "cell_type": "code",
   "execution_count": 32,
   "metadata": {
    "collapsed": true
   },
   "outputs": [],
   "source": [
    "exons_and_sites_recomb_map = create_genome_recomb_map(exons_and_sites)"
   ]
  },
  {
   "cell_type": "code",
   "execution_count": 33,
   "metadata": {
    "collapsed": false
   },
   "outputs": [
    {
     "data": {
      "text/html": [
       "<div>\n",
       "<table border=\"1\" class=\"dataframe\">\n",
       "  <thead>\n",
       "    <tr style=\"text-align: right;\">\n",
       "      <th></th>\n",
       "      <th>chrom</th>\n",
       "      <th>start</th>\n",
       "      <th>end</th>\n",
       "      <th>type</th>\n",
       "      <th>interval_end</th>\n",
       "      <th>recomb_rate</th>\n",
       "    </tr>\n",
       "  </thead>\n",
       "  <tbody>\n",
       "    <tr>\n",
       "      <th>712341</th>\n",
       "      <td>22</td>\n",
       "      <td>51220615</td>\n",
       "      <td>51220779</td>\n",
       "      <td>exon</td>\n",
       "      <td>73312246</td>\n",
       "      <td>1.000000e-08</td>\n",
       "    </tr>\n",
       "    <tr>\n",
       "      <th>712342</th>\n",
       "      <td>22</td>\n",
       "      <td>51220779</td>\n",
       "      <td>51220780</td>\n",
       "      <td>gap</td>\n",
       "      <td>73312247</td>\n",
       "      <td>4.170000e-06</td>\n",
       "    </tr>\n",
       "    <tr>\n",
       "      <th>712343</th>\n",
       "      <td>22</td>\n",
       "      <td>51221196</td>\n",
       "      <td>51221714</td>\n",
       "      <td>exon</td>\n",
       "      <td>73312765</td>\n",
       "      <td>1.000000e-08</td>\n",
       "    </tr>\n",
       "    <tr>\n",
       "      <th>712344</th>\n",
       "      <td>22</td>\n",
       "      <td>51221714</td>\n",
       "      <td>51221715</td>\n",
       "      <td>gap</td>\n",
       "      <td>73312766</td>\n",
       "      <td>2.140000e-06</td>\n",
       "    </tr>\n",
       "    <tr>\n",
       "      <th>712345</th>\n",
       "      <td>22</td>\n",
       "      <td>51221928</td>\n",
       "      <td>51222091</td>\n",
       "      <td>exon</td>\n",
       "      <td>73312929</td>\n",
       "      <td>1.000000e-08</td>\n",
       "    </tr>\n",
       "  </tbody>\n",
       "</table>\n",
       "</div>"
      ],
      "text/plain": [
       "        chrom     start       end  type  interval_end   recomb_rate\n",
       "712341     22  51220615  51220779  exon      73312246  1.000000e-08\n",
       "712342     22  51220779  51220780   gap      73312247  4.170000e-06\n",
       "712343     22  51221196  51221714  exon      73312765  1.000000e-08\n",
       "712344     22  51221714  51221715   gap      73312766  2.140000e-06\n",
       "712345     22  51221928  51222091  exon      73312929  1.000000e-08"
      ]
     },
     "execution_count": 33,
     "metadata": {},
     "output_type": "execute_result"
    }
   ],
   "source": [
    "exons_and_sites_recomb_map.tail()"
   ]
  },
  {
   "cell_type": "code",
   "execution_count": 34,
   "metadata": {
    "collapsed": false
   },
   "outputs": [
    {
     "data": {
      "text/html": [
       "<div>\n",
       "<table border=\"1\" class=\"dataframe\">\n",
       "  <thead>\n",
       "    <tr style=\"text-align: right;\">\n",
       "      <th></th>\n",
       "      <th>chrom</th>\n",
       "      <th>start</th>\n",
       "      <th>end</th>\n",
       "      <th>type</th>\n",
       "      <th>recomb_rate</th>\n",
       "    </tr>\n",
       "  </thead>\n",
       "  <tbody>\n",
       "    <tr>\n",
       "      <th>978742</th>\n",
       "      <td>22</td>\n",
       "      <td>51215097</td>\n",
       "      <td>51215177</td>\n",
       "      <td>exon</td>\n",
       "      <td>1.000000e-08</td>\n",
       "    </tr>\n",
       "    <tr>\n",
       "      <th>978743</th>\n",
       "      <td>22</td>\n",
       "      <td>51216379</td>\n",
       "      <td>51216409</td>\n",
       "      <td>exon</td>\n",
       "      <td>1.000000e-08</td>\n",
       "    </tr>\n",
       "    <tr>\n",
       "      <th>978744</th>\n",
       "      <td>22</td>\n",
       "      <td>51220615</td>\n",
       "      <td>51220779</td>\n",
       "      <td>exon</td>\n",
       "      <td>1.000000e-08</td>\n",
       "    </tr>\n",
       "    <tr>\n",
       "      <th>978745</th>\n",
       "      <td>22</td>\n",
       "      <td>51221196</td>\n",
       "      <td>51221714</td>\n",
       "      <td>exon</td>\n",
       "      <td>1.000000e-08</td>\n",
       "    </tr>\n",
       "    <tr>\n",
       "      <th>978746</th>\n",
       "      <td>22</td>\n",
       "      <td>51221928</td>\n",
       "      <td>51222091</td>\n",
       "      <td>exon</td>\n",
       "      <td>1.000000e-08</td>\n",
       "    </tr>\n",
       "  </tbody>\n",
       "</table>\n",
       "</div>"
      ],
      "text/plain": [
       "        chrom     start       end  type   recomb_rate\n",
       "978742     22  51215097  51215177  exon  1.000000e-08\n",
       "978743     22  51216379  51216409  exon  1.000000e-08\n",
       "978744     22  51220615  51220779  exon  1.000000e-08\n",
       "978745     22  51221196  51221714  exon  1.000000e-08\n",
       "978746     22  51221928  51222091  exon  1.000000e-08"
      ]
     },
     "execution_count": 34,
     "metadata": {},
     "output_type": "execute_result"
    }
   ],
   "source": [
    "exons_and_sites.tail()"
   ]
  },
  {
   "cell_type": "markdown",
   "metadata": {},
   "source": [
    "## Output the results in a format suitable for import into SLiM"
   ]
  },
  {
   "cell_type": "code",
   "execution_count": 35,
   "metadata": {
    "collapsed": true
   },
   "outputs": [],
   "source": [
    "!mkdir -p ../clean_data"
   ]
  },
  {
   "cell_type": "code",
   "execution_count": 36,
   "metadata": {
    "collapsed": false
   },
   "outputs": [],
   "source": [
    "sites_recomb_map[['interval_end', 'recomb_rate']].to_csv('../clean_data/recomb_map__array_sites.txt', sep='\\t', index=False, header=False)"
   ]
  },
  {
   "cell_type": "code",
   "execution_count": 37,
   "metadata": {
    "collapsed": false
   },
   "outputs": [],
   "source": [
    "exons_recomb_map[['interval_end', 'recomb_rate']].to_csv('../clean_data/recomb_map__exome.txt', sep='\\t', index=False, header=False)"
   ]
  },
  {
   "cell_type": "code",
   "execution_count": 38,
   "metadata": {
    "collapsed": false
   },
   "outputs": [],
   "source": [
    "exons_and_sites_recomb_map[['interval_end', 'recomb_rate']].to_csv('../clean_data/recomb_map__exome_with_array_sites.txt', sep='\\t', index=False, header=False)"
   ]
  }
 ],
 "metadata": {
  "kernelspec": {
   "display_name": "Python 3",
   "language": "python",
   "name": "python3"
  },
  "language_info": {
   "codemirror_mode": {
    "name": "ipython",
    "version": 3
   },
   "file_extension": ".py",
   "mimetype": "text/x-python",
   "name": "python",
   "nbconvert_exporter": "python",
   "pygments_lexer": "ipython3",
   "version": "3.5.1"
  }
 },
 "nbformat": 4,
 "nbformat_minor": 0
}
