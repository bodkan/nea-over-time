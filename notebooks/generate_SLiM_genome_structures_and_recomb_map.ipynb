{
 "cells": [
  {
   "cell_type": "markdown",
   "metadata": {},
   "source": [
    "# Generating SLiM genomic structures and recombination map"
   ]
  },
  {
   "cell_type": "code",
   "execution_count": 2,
   "metadata": {
    "collapsed": true
   },
   "outputs": [],
   "source": [
    "from pybedtools import BedTool\n",
    "import pandas as pd"
   ]
  },
  {
   "cell_type": "code",
   "execution_count": 2,
   "metadata": {
    "collapsed": true
   },
   "outputs": [],
   "source": [
    "!mkdir -p ../data/slim_coords"
   ]
  },
  {
   "cell_type": "markdown",
   "metadata": {},
   "source": [
    "<br><br>\n",
    "## Annotate the BED files with region coordinates & inter-region sites with recombination rate"
   ]
  },
  {
   "cell_type": "markdown",
   "metadata": {},
   "source": [
    "### First add the gap regions between inter-region sites and regions themselves"
   ]
  },
  {
   "cell_type": "code",
   "execution_count": 3,
   "metadata": {
    "collapsed": true
   },
   "outputs": [],
   "source": [
    "%%bash\n",
    "for f in ../data/bed/regions/*_regions_gap_sites.bed; do\n",
    "    python3 ../add_spacers_to_bed.py $f ${f%.*}_spacers.bed\n",
    "done"
   ]
  },
  {
   "cell_type": "markdown",
   "metadata": {},
   "source": [
    "### Add the recombination rates for each region/site/spacer"
   ]
  },
  {
   "cell_type": "code",
   "execution_count": 4,
   "metadata": {
    "collapsed": true
   },
   "outputs": [],
   "source": [
    "%%bash\n",
    "for f in ../data/bed/regions/*_regions_gap_sites_spacers.bed; do\n",
    "    bedmap --ec --delim '\\t' --echo --count --echo-map-score --echo-overlap-size $f ../data/genetic_map/genetic_map_GRCh37_all.txt.bed \\\n",
    "        | python ../get_window_average.py 4 \\\n",
    "        | awk '($7 != \"0.0\") && ($7 != \"0\")' \\\n",
    "        > ${f%.*}_recomb_rates.bed\n",
    "done"
   ]
  },
  {
   "cell_type": "markdown",
   "metadata": {},
   "source": [
    "<br><br><br>\n",
    "## Conversion of physical coordinates into SLiM-based coordinate system"
   ]
  },
  {
   "cell_type": "markdown",
   "metadata": {},
   "source": [
    "### Read the coordinates annotated with the genetic map"
   ]
  },
  {
   "cell_type": "code",
   "execution_count": 5,
   "metadata": {
    "collapsed": true
   },
   "outputs": [],
   "source": [
    "def read_recomb_map(bed_file):\n",
    "    recomb_map = pd.read_table(bed_file, names=[\"chrom\", \"start\", \"end\", \"type\", \"xxx\", \"length\", \"recomb_rate\", \"xxx\"])[[\"chrom\", \"start\", \"end\", \"type\", \"recomb_rate\"]]\n",
    "\n",
    "    # add labels to each region/site/spacer to make debugging easier\n",
    "    # (regions of width 1 were filtered out already when the BED files were generated)\n",
    "    recomb_map.loc[(recomb_map.end - recomb_map.start > 1) & (recomb_map.type != \"spacer\"), \"type\"] = \"region\"\n",
    "    recomb_map.loc[(recomb_map.end - recomb_map.start == 1) & (recomb_map.type != \"spacer\"), \"type\"] = \"site\"\n",
    "\n",
    "    # convert the recombination rate (in cM/Mb) to format required by SLiM\n",
    "    recomb_map.recomb_rate = recomb_map.recomb_rate * 1e-8\n",
    "\n",
    "    # reduce the spacers to 1 bp (which is what we will simulate in SLiM)\n",
    "    recomb_map.loc[recomb_map.type == \"spacer\", \"end\"] = recomb_map.loc[recomb_map.type == \"spacer\"].start + 1\n",
    "    \n",
    "    return recomb_map"
   ]
  },
  {
   "cell_type": "markdown",
   "metadata": {},
   "source": [
    "### Add \"1 bp\" chromosome breaks with recombination rate of 0.5"
   ]
  },
  {
   "cell_type": "code",
   "execution_count": 6,
   "metadata": {
    "collapsed": true
   },
   "outputs": [],
   "source": [
    "def add_chrom_breaks(recomb_map):\n",
    "    chrom_maps = []\n",
    "\n",
    "    for chrom in list(range(1, 23)):\n",
    "        chrom_map = recomb_map.loc[recomb_map.chrom == \"chr\" + str(chrom)]\n",
    "\n",
    "        chrom_break = pd.DataFrame({\"chrom\": \"chr\" + str(chrom),\n",
    "                                    \"start\": list(chrom_map.end)[-1],\n",
    "                                    \"end\":   list(chrom_map.end)[-1] + 1,\n",
    "                                    \"type\":  [\"chrom_break\"],\n",
    "                                    \"recomb_rate\": [0.5]},\n",
    "                                   columns=[\"chrom\", \"start\", \"end\", \"type\", \"recomb_rate\"])\n",
    "\n",
    "        chrom_maps.append(pd.concat([chrom_map, chrom_break]).sort_values(by=['chrom', 'start']).reset_index(drop=True))\n",
    "\n",
    "    # remove the very last base of the recombination map (it has a 0.5 recombination\n",
    "    # rate anyway and there's no other chromosome after it)\n",
    "    recomb_map = pd.concat(chrom_maps)[:-1].reset_index(drop=True)\n",
    "    \n",
    "    return recomb_map"
   ]
  },
  {
   "cell_type": "markdown",
   "metadata": {},
   "source": [
    "###  Concatenate regions/sites on all chromosome as if they were directly adjacent on a single chromosome\n",
    "\n",
    "SLiM simulates everything as a single noodle - we need to concatenate everything together and change the coordinates appropriately."
   ]
  },
  {
   "cell_type": "code",
   "execution_count": 7,
   "metadata": {
    "collapsed": true
   },
   "outputs": [],
   "source": [
    "def concatenate_regions(regions):\n",
    "    concat_regions = regions.copy()\n",
    "\n",
    "    concat_regions[\"width\"] = regions.end - regions.start\n",
    "    concat_regions[\"slim_start\"] = pd.Series([0] + list(concat_regions.width[:-1])).cumsum().values\n",
    "    concat_regions[\"slim_end\"] = concat_regions.width.cumsum() - 1\n",
    "    \n",
    "    return concat_regions"
   ]
  },
  {
   "cell_type": "code",
   "execution_count": 13,
   "metadata": {
    "collapsed": true
   },
   "outputs": [],
   "source": [
    "regions = [\"protein_coding\", \"utr5\", \"utr3\", \"tss_5k\", \"ctcf_binding_site\", \"enhancer\", \"open_chromatin\", \"promoter\", \"promoter_flank\", \"tf_binding_site\", \"priPhastCons\"]"
   ]
  },
  {
   "cell_type": "code",
   "execution_count": 14,
   "metadata": {
    "collapsed": true
   },
   "outputs": [],
   "source": [
    "for region in regions:\n",
    "    # load the recombination map of regions and \"gap sites\"\n",
    "    recomb_map_no_breaks = read_recomb_map(\"../data/bed/regions/{}_regions_gap_sites_spacers_recomb_rates.bed\".format(region))\n",
    "    recomb_map = add_chrom_breaks(recomb_map_no_breaks)\n",
    "    \n",
    "    # convert all coordinates into SLiM's 0-based coordinate system\n",
    "    # (all chromosomes concatenated into a single continuous segment)\n",
    "    concat_map = concatenate_regions(recomb_map)\n",
    "    \n",
    "    # save the recombination map (just regions and spacers, without\n",
    "    # the informative sites since they don't have recombination rates\n",
    "    # themselves - the \"spacers\" around them do)\n",
    "    concat_map.query(\"type != 'site'\") \\\n",
    "              .to_csv(\"../data/slim_coords/{}_recomb_map.bed\".format(region), sep=\"\\t\", index=False)\n",
    "    \n",
    "    # load the subset of array sites that lie inside a region of interest\n",
    "    region_sites = pd.read_table(\"../data/bed/regions/{}_sites.bed\".format(region), names=[\"chrom\", \"start\", \"end\"])\n",
    "    \n",
    "    # get a DataFrame of the coordinates of regions that contain sites from\n",
    "    # the admixture array (will contain multiple copies of one region if more\n",
    "    # than one site falls within that exon)\n",
    "    regions_with_sites = BedTool.from_dataframe(concat_map.query(\"type == 'region'\")) \\\n",
    "                                .intersect(BedTool.from_dataframe(region_sites), wa=True) \\\n",
    "                                .to_dataframe() \\\n",
    "                                .rename(columns={\"name\": \"type\",\n",
    "                                                 \"score\": 'recomb_rate',\n",
    "                                                 \"strand\": 'width',\n",
    "                                                 \"thickStart\": \"slim_start\",\n",
    "                                                 \"thickEnd\": \"slim_end\"})\n",
    "    \n",
    "    # some regions had a recombination rate equal to 0 and were filtered out\n",
    "    # and sites that fall within these regions have to be filtered out (since\n",
    "    # they can't be simulated anyway)\n",
    "    region_sites = BedTool.from_dataframe(region_sites) \\\n",
    "                          .intersect(BedTool.from_dataframe(concat_map.query(\"type == 'region'\")), wa=True) \\\n",
    "                          .to_dataframe()\n",
    "    \n",
    "    # calculate the position of each site relative to the start of \"its\" region\n",
    "    # and convert this position into SLiM's single-segment coordinate system\n",
    "    # (i.e. relative the the position 0 of the simulated segment)\n",
    "    region_sites[\"slim_start\"] = region_sites.start - regions_with_sites.start + regions_with_sites.slim_start\n",
    "    region_sites[\"slim_end\"] = region_sites.slim_start\n",
    "\n",
    "    # concatenate the converted gap sites and region sites and save their coordinates\n",
    "    gap_sites = concat_map.query(\"type == 'site'\").drop([\"type\", \"recomb_rate\", \"width\"], axis=1)\n",
    "    pd.concat([gap_sites, region_sites]) \\\n",
    "      .sort_values(\"slim_start\") \\\n",
    "      .reset_index(drop=True) \\\n",
    "      .to_csv(\"../data/slim_coords/{}_sites.bed\".format(region), sep=\"\\t\", index=False)\n",
    "    \n",
    "    # save SLiM coordinates of the regions themselves (will be used for calling\n",
    "    # initializeGenomicElement function in SLiM)\n",
    "    concat_map.query(\"type == 'region'\") \\\n",
    "              .to_csv(\"../data/slim_coords/{}_regions.bed\".format(region), sep='\\t', index=False)"
   ]
  },
  {
   "cell_type": "markdown",
   "metadata": {},
   "source": [
    "<br><br><br><br><br>\n",
    "# Testing of the recombination map building functions"
   ]
  },
  {
   "cell_type": "markdown",
   "metadata": {},
   "source": [
    "Sample 5 exons/sites for each chromosome to make a testing data set."
   ]
  },
  {
   "cell_type": "code",
   "execution_count": 15,
   "metadata": {
    "collapsed": true
   },
   "outputs": [],
   "source": [
    "test_data = recomb_map.groupby('chrom') \\\n",
    "                           .apply(pd.DataFrame.head) \\\n",
    "                           .reset_index(drop=True)"
   ]
  },
  {
   "cell_type": "code",
   "execution_count": 16,
   "metadata": {},
   "outputs": [
    {
     "data": {
      "text/html": [
       "<div>\n",
       "<style>\n",
       "    .dataframe thead tr:only-child th {\n",
       "        text-align: right;\n",
       "    }\n",
       "\n",
       "    .dataframe thead th {\n",
       "        text-align: left;\n",
       "    }\n",
       "\n",
       "    .dataframe tbody tr th {\n",
       "        vertical-align: top;\n",
       "    }\n",
       "</style>\n",
       "<table border=\"1\" class=\"dataframe\">\n",
       "  <thead>\n",
       "    <tr style=\"text-align: right;\">\n",
       "      <th></th>\n",
       "      <th>chrom</th>\n",
       "      <th>start</th>\n",
       "      <th>end</th>\n",
       "      <th>type</th>\n",
       "      <th>recomb_rate</th>\n",
       "    </tr>\n",
       "  </thead>\n",
       "  <tbody>\n",
       "    <tr>\n",
       "      <th>0</th>\n",
       "      <td>chr1</td>\n",
       "      <td>63422</td>\n",
       "      <td>63598</td>\n",
       "      <td>region</td>\n",
       "      <td>2.082414e-08</td>\n",
       "    </tr>\n",
       "    <tr>\n",
       "      <th>1</th>\n",
       "      <td>chr1</td>\n",
       "      <td>63598</td>\n",
       "      <td>63599</td>\n",
       "      <td>spacer</td>\n",
       "      <td>2.082414e-08</td>\n",
       "    </tr>\n",
       "    <tr>\n",
       "      <th>2</th>\n",
       "      <td>chr1</td>\n",
       "      <td>69093</td>\n",
       "      <td>69446</td>\n",
       "      <td>region</td>\n",
       "      <td>2.082414e-08</td>\n",
       "    </tr>\n",
       "    <tr>\n",
       "      <th>3</th>\n",
       "      <td>chr1</td>\n",
       "      <td>69446</td>\n",
       "      <td>69447</td>\n",
       "      <td>spacer</td>\n",
       "      <td>2.082414e-08</td>\n",
       "    </tr>\n",
       "    <tr>\n",
       "      <th>4</th>\n",
       "      <td>chr1</td>\n",
       "      <td>69511</td>\n",
       "      <td>69745</td>\n",
       "      <td>region</td>\n",
       "      <td>2.082414e-08</td>\n",
       "    </tr>\n",
       "  </tbody>\n",
       "</table>\n",
       "</div>"
      ],
      "text/plain": [
       "  chrom  start    end    type   recomb_rate\n",
       "0  chr1  63422  63598  region  2.082414e-08\n",
       "1  chr1  63598  63599  spacer  2.082414e-08\n",
       "2  chr1  69093  69446  region  2.082414e-08\n",
       "3  chr1  69446  69447  spacer  2.082414e-08\n",
       "4  chr1  69511  69745  region  2.082414e-08"
      ]
     },
     "execution_count": 16,
     "metadata": {},
     "output_type": "execute_result"
    }
   ],
   "source": [
    "test_data.head()"
   ]
  },
  {
   "cell_type": "markdown",
   "metadata": {},
   "source": [
    "#### Test `add_chrom_breaks`\n",
    "\n",
    "The function should add a 1bp spacer with a 0.5 recombination rate between chromosomes:"
   ]
  },
  {
   "cell_type": "code",
   "execution_count": 17,
   "metadata": {},
   "outputs": [
    {
     "data": {
      "text/html": [
       "<div>\n",
       "<style>\n",
       "    .dataframe thead tr:only-child th {\n",
       "        text-align: right;\n",
       "    }\n",
       "\n",
       "    .dataframe thead th {\n",
       "        text-align: left;\n",
       "    }\n",
       "\n",
       "    .dataframe tbody tr th {\n",
       "        vertical-align: top;\n",
       "    }\n",
       "</style>\n",
       "<table border=\"1\" class=\"dataframe\">\n",
       "  <thead>\n",
       "    <tr style=\"text-align: right;\">\n",
       "      <th></th>\n",
       "      <th>chrom</th>\n",
       "      <th>start</th>\n",
       "      <th>end</th>\n",
       "      <th>type</th>\n",
       "      <th>recomb_rate</th>\n",
       "    </tr>\n",
       "  </thead>\n",
       "  <tbody>\n",
       "    <tr>\n",
       "      <th>5</th>\n",
       "      <td>chr1</td>\n",
       "      <td>69745</td>\n",
       "      <td>69746</td>\n",
       "      <td>chrom_break</td>\n",
       "      <td>0.5</td>\n",
       "    </tr>\n",
       "    <tr>\n",
       "      <th>11</th>\n",
       "      <td>chr2</td>\n",
       "      <td>175363</td>\n",
       "      <td>175364</td>\n",
       "      <td>chrom_break</td>\n",
       "      <td>0.5</td>\n",
       "    </tr>\n",
       "    <tr>\n",
       "      <th>17</th>\n",
       "      <td>chr3</td>\n",
       "      <td>85124</td>\n",
       "      <td>85125</td>\n",
       "      <td>chrom_break</td>\n",
       "      <td>0.5</td>\n",
       "    </tr>\n",
       "    <tr>\n",
       "      <th>23</th>\n",
       "      <td>chr4</td>\n",
       "      <td>367479</td>\n",
       "      <td>367480</td>\n",
       "      <td>chrom_break</td>\n",
       "      <td>0.5</td>\n",
       "    </tr>\n",
       "    <tr>\n",
       "      <th>29</th>\n",
       "      <td>chr5</td>\n",
       "      <td>192177</td>\n",
       "      <td>192178</td>\n",
       "      <td>chrom_break</td>\n",
       "      <td>0.5</td>\n",
       "    </tr>\n",
       "    <tr>\n",
       "      <th>35</th>\n",
       "      <td>chr6</td>\n",
       "      <td>200612</td>\n",
       "      <td>200613</td>\n",
       "      <td>chrom_break</td>\n",
       "      <td>0.5</td>\n",
       "    </tr>\n",
       "    <tr>\n",
       "      <th>41</th>\n",
       "      <td>chr7</td>\n",
       "      <td>92357</td>\n",
       "      <td>92358</td>\n",
       "      <td>chrom_break</td>\n",
       "      <td>0.5</td>\n",
       "    </tr>\n",
       "    <tr>\n",
       "      <th>47</th>\n",
       "      <td>chr8</td>\n",
       "      <td>116987</td>\n",
       "      <td>116988</td>\n",
       "      <td>chrom_break</td>\n",
       "      <td>0.5</td>\n",
       "    </tr>\n",
       "    <tr>\n",
       "      <th>53</th>\n",
       "      <td>chr9</td>\n",
       "      <td>17792</td>\n",
       "      <td>17793</td>\n",
       "      <td>chrom_break</td>\n",
       "      <td>0.5</td>\n",
       "    </tr>\n",
       "    <tr>\n",
       "      <th>59</th>\n",
       "      <td>chr10</td>\n",
       "      <td>181860</td>\n",
       "      <td>181861</td>\n",
       "      <td>chrom_break</td>\n",
       "      <td>0.5</td>\n",
       "    </tr>\n",
       "    <tr>\n",
       "      <th>65</th>\n",
       "      <td>chr11</td>\n",
       "      <td>197731</td>\n",
       "      <td>197732</td>\n",
       "      <td>chrom_break</td>\n",
       "      <td>0.5</td>\n",
       "    </tr>\n",
       "    <tr>\n",
       "      <th>71</th>\n",
       "      <td>chr12</td>\n",
       "      <td>176607</td>\n",
       "      <td>176608</td>\n",
       "      <td>chrom_break</td>\n",
       "      <td>0.5</td>\n",
       "    </tr>\n",
       "    <tr>\n",
       "      <th>77</th>\n",
       "      <td>chr13</td>\n",
       "      <td>19293349</td>\n",
       "      <td>19293350</td>\n",
       "      <td>chrom_break</td>\n",
       "      <td>0.5</td>\n",
       "    </tr>\n",
       "    <tr>\n",
       "      <th>83</th>\n",
       "      <td>chr14</td>\n",
       "      <td>19851000</td>\n",
       "      <td>19851001</td>\n",
       "      <td>chrom_break</td>\n",
       "      <td>0.5</td>\n",
       "    </tr>\n",
       "    <tr>\n",
       "      <th>89</th>\n",
       "      <td>chr15</td>\n",
       "      <td>20577149</td>\n",
       "      <td>20577150</td>\n",
       "      <td>chrom_break</td>\n",
       "      <td>0.5</td>\n",
       "    </tr>\n",
       "    <tr>\n",
       "      <th>95</th>\n",
       "      <td>chr16</td>\n",
       "      <td>101669</td>\n",
       "      <td>101670</td>\n",
       "      <td>chrom_break</td>\n",
       "      <td>0.5</td>\n",
       "    </tr>\n",
       "    <tr>\n",
       "      <th>101</th>\n",
       "      <td>chr17</td>\n",
       "      <td>11985</td>\n",
       "      <td>11986</td>\n",
       "      <td>chrom_break</td>\n",
       "      <td>0.5</td>\n",
       "    </tr>\n",
       "    <tr>\n",
       "      <th>107</th>\n",
       "      <td>chr18</td>\n",
       "      <td>118550</td>\n",
       "      <td>118551</td>\n",
       "      <td>chrom_break</td>\n",
       "      <td>0.5</td>\n",
       "    </tr>\n",
       "    <tr>\n",
       "      <th>113</th>\n",
       "      <td>chr19</td>\n",
       "      <td>111541</td>\n",
       "      <td>111542</td>\n",
       "      <td>chrom_break</td>\n",
       "      <td>0.5</td>\n",
       "    </tr>\n",
       "    <tr>\n",
       "      <th>119</th>\n",
       "      <td>chr20</td>\n",
       "      <td>123378</td>\n",
       "      <td>123379</td>\n",
       "      <td>chrom_break</td>\n",
       "      <td>0.5</td>\n",
       "    </tr>\n",
       "    <tr>\n",
       "      <th>125</th>\n",
       "      <td>chr21</td>\n",
       "      <td>10377142</td>\n",
       "      <td>10377143</td>\n",
       "      <td>chrom_break</td>\n",
       "      <td>0.5</td>\n",
       "    </tr>\n",
       "  </tbody>\n",
       "</table>\n",
       "</div>"
      ],
      "text/plain": [
       "     chrom     start       end         type  recomb_rate\n",
       "5     chr1     69745     69746  chrom_break          0.5\n",
       "11    chr2    175363    175364  chrom_break          0.5\n",
       "17    chr3     85124     85125  chrom_break          0.5\n",
       "23    chr4    367479    367480  chrom_break          0.5\n",
       "29    chr5    192177    192178  chrom_break          0.5\n",
       "35    chr6    200612    200613  chrom_break          0.5\n",
       "41    chr7     92357     92358  chrom_break          0.5\n",
       "47    chr8    116987    116988  chrom_break          0.5\n",
       "53    chr9     17792     17793  chrom_break          0.5\n",
       "59   chr10    181860    181861  chrom_break          0.5\n",
       "65   chr11    197731    197732  chrom_break          0.5\n",
       "71   chr12    176607    176608  chrom_break          0.5\n",
       "77   chr13  19293349  19293350  chrom_break          0.5\n",
       "83   chr14  19851000  19851001  chrom_break          0.5\n",
       "89   chr15  20577149  20577150  chrom_break          0.5\n",
       "95   chr16    101669    101670  chrom_break          0.5\n",
       "101  chr17     11985     11986  chrom_break          0.5\n",
       "107  chr18    118550    118551  chrom_break          0.5\n",
       "113  chr19    111541    111542  chrom_break          0.5\n",
       "119  chr20    123378    123379  chrom_break          0.5\n",
       "125  chr21  10377142  10377143  chrom_break          0.5"
      ]
     },
     "execution_count": 17,
     "metadata": {},
     "output_type": "execute_result"
    }
   ],
   "source": [
    "add_chrom_breaks(test_data).query(\"type == 'chrom_break'\")"
   ]
  },
  {
   "cell_type": "markdown",
   "metadata": {},
   "source": [
    "#### Test `concatenate_regions`\n",
    "\n",
    "The function should concatenate all regions into a single continuous segment. This segment should start at 0 and its last position should be equal to the total length of all regions - 1."
   ]
  },
  {
   "cell_type": "code",
   "execution_count": 18,
   "metadata": {},
   "outputs": [
    {
     "data": {
      "text/html": [
       "<div>\n",
       "<style>\n",
       "    .dataframe thead tr:only-child th {\n",
       "        text-align: right;\n",
       "    }\n",
       "\n",
       "    .dataframe thead th {\n",
       "        text-align: left;\n",
       "    }\n",
       "\n",
       "    .dataframe tbody tr th {\n",
       "        vertical-align: top;\n",
       "    }\n",
       "</style>\n",
       "<table border=\"1\" class=\"dataframe\">\n",
       "  <thead>\n",
       "    <tr style=\"text-align: right;\">\n",
       "      <th></th>\n",
       "      <th>chrom</th>\n",
       "      <th>start</th>\n",
       "      <th>end</th>\n",
       "      <th>type</th>\n",
       "      <th>recomb_rate</th>\n",
       "      <th>width</th>\n",
       "      <th>slim_start</th>\n",
       "      <th>slim_end</th>\n",
       "    </tr>\n",
       "  </thead>\n",
       "  <tbody>\n",
       "    <tr>\n",
       "      <th>0</th>\n",
       "      <td>chr1</td>\n",
       "      <td>63422</td>\n",
       "      <td>63598</td>\n",
       "      <td>region</td>\n",
       "      <td>2.082414e-08</td>\n",
       "      <td>176</td>\n",
       "      <td>0</td>\n",
       "      <td>175</td>\n",
       "    </tr>\n",
       "    <tr>\n",
       "      <th>1</th>\n",
       "      <td>chr1</td>\n",
       "      <td>63598</td>\n",
       "      <td>63599</td>\n",
       "      <td>spacer</td>\n",
       "      <td>2.082414e-08</td>\n",
       "      <td>1</td>\n",
       "      <td>176</td>\n",
       "      <td>176</td>\n",
       "    </tr>\n",
       "    <tr>\n",
       "      <th>2</th>\n",
       "      <td>chr1</td>\n",
       "      <td>69093</td>\n",
       "      <td>69446</td>\n",
       "      <td>region</td>\n",
       "      <td>2.082414e-08</td>\n",
       "      <td>353</td>\n",
       "      <td>177</td>\n",
       "      <td>529</td>\n",
       "    </tr>\n",
       "    <tr>\n",
       "      <th>3</th>\n",
       "      <td>chr1</td>\n",
       "      <td>69446</td>\n",
       "      <td>69447</td>\n",
       "      <td>spacer</td>\n",
       "      <td>2.082414e-08</td>\n",
       "      <td>1</td>\n",
       "      <td>530</td>\n",
       "      <td>530</td>\n",
       "    </tr>\n",
       "    <tr>\n",
       "      <th>4</th>\n",
       "      <td>chr1</td>\n",
       "      <td>69511</td>\n",
       "      <td>69745</td>\n",
       "      <td>region</td>\n",
       "      <td>2.082414e-08</td>\n",
       "      <td>234</td>\n",
       "      <td>531</td>\n",
       "      <td>764</td>\n",
       "    </tr>\n",
       "    <tr>\n",
       "      <th>55</th>\n",
       "      <td>chr2</td>\n",
       "      <td>45489</td>\n",
       "      <td>45578</td>\n",
       "      <td>region</td>\n",
       "      <td>2.508050e-09</td>\n",
       "      <td>89</td>\n",
       "      <td>765</td>\n",
       "      <td>853</td>\n",
       "    </tr>\n",
       "    <tr>\n",
       "      <th>56</th>\n",
       "      <td>chr2</td>\n",
       "      <td>45578</td>\n",
       "      <td>45579</td>\n",
       "      <td>spacer</td>\n",
       "      <td>4.067903e-09</td>\n",
       "      <td>1</td>\n",
       "      <td>854</td>\n",
       "      <td>854</td>\n",
       "    </tr>\n",
       "    <tr>\n",
       "      <th>57</th>\n",
       "      <td>chr2</td>\n",
       "      <td>140690</td>\n",
       "      <td>140691</td>\n",
       "      <td>site</td>\n",
       "      <td>6.352500e-10</td>\n",
       "      <td>1</td>\n",
       "      <td>855</td>\n",
       "      <td>855</td>\n",
       "    </tr>\n",
       "    <tr>\n",
       "      <th>58</th>\n",
       "      <td>chr2</td>\n",
       "      <td>140691</td>\n",
       "      <td>140692</td>\n",
       "      <td>spacer</td>\n",
       "      <td>2.034159e-09</td>\n",
       "      <td>1</td>\n",
       "      <td>856</td>\n",
       "      <td>856</td>\n",
       "    </tr>\n",
       "    <tr>\n",
       "      <th>59</th>\n",
       "      <td>chr2</td>\n",
       "      <td>175333</td>\n",
       "      <td>175363</td>\n",
       "      <td>region</td>\n",
       "      <td>3.065850e-09</td>\n",
       "      <td>30</td>\n",
       "      <td>857</td>\n",
       "      <td>886</td>\n",
       "    </tr>\n",
       "  </tbody>\n",
       "</table>\n",
       "</div>"
      ],
      "text/plain": [
       "   chrom   start     end    type   recomb_rate  width  slim_start  slim_end\n",
       "0   chr1   63422   63598  region  2.082414e-08    176           0       175\n",
       "1   chr1   63598   63599  spacer  2.082414e-08      1         176       176\n",
       "2   chr1   69093   69446  region  2.082414e-08    353         177       529\n",
       "3   chr1   69446   69447  spacer  2.082414e-08      1         530       530\n",
       "4   chr1   69511   69745  region  2.082414e-08    234         531       764\n",
       "55  chr2   45489   45578  region  2.508050e-09     89         765       853\n",
       "56  chr2   45578   45579  spacer  4.067903e-09      1         854       854\n",
       "57  chr2  140690  140691    site  6.352500e-10      1         855       855\n",
       "58  chr2  140691  140692  spacer  2.034159e-09      1         856       856\n",
       "59  chr2  175333  175363  region  3.065850e-09     30         857       886"
      ]
     },
     "execution_count": 18,
     "metadata": {},
     "output_type": "execute_result"
    }
   ],
   "source": [
    "concatenate_regions(test_data.query(\"chrom == 'chr1' | chrom == 'chr2'\"))"
   ]
  },
  {
   "cell_type": "markdown",
   "metadata": {},
   "source": [
    "What is the correct end of the single continuous segment?"
   ]
  },
  {
   "cell_type": "code",
   "execution_count": 19,
   "metadata": {},
   "outputs": [
    {
     "data": {
      "text/plain": [
       "886"
      ]
     },
     "execution_count": 19,
     "metadata": {},
     "output_type": "execute_result"
    }
   ],
   "source": [
    "sum((test_data.query(\"chrom == 'chr1' | chrom == 'chr2'\")).end -\n",
    "    (test_data.query(\"chrom == 'chr1' | chrom == 'chr2'\")).start) - 1"
   ]
  },
  {
   "cell_type": "markdown",
   "metadata": {},
   "source": [
    "This value matches the `slim_end` value in the last row."
   ]
  },
  {
   "cell_type": "markdown",
   "metadata": {},
   "source": [
    "<br><br><br><br><br>\n",
    "# Building an artificial fake genome structure"
   ]
  },
  {
   "cell_type": "code",
   "execution_count": 181,
   "metadata": {
    "collapsed": true
   },
   "outputs": [],
   "source": [
    "!mkdir -p ../data/slim_coords/toy_genome"
   ]
  },
  {
   "cell_type": "markdown",
   "metadata": {},
   "source": [
    "### Several \"independent haplotypes\"\n",
    "\n",
    "* 1kb in size\n",
    "* 0.5 recombination rate between them\n",
    "* a single informative site in the middle of each\n",
    "\n",
    "https://biology.stackexchange.com/a/19011/27272"
   ]
  },
  {
   "cell_type": "code",
   "execution_count": 182,
   "metadata": {
    "collapsed": true
   },
   "outputs": [],
   "source": [
    "from collections import defaultdict\n",
    "\n",
    "N = 1000\n",
    "size = 1000\n",
    "\n",
    "haps = defaultdict(list)\n",
    "sites = []\n",
    "\n",
    "for i in range(N):\n",
    "    haps[\"slim_start\"].append(i * size)\n",
    "    haps[\"slim_end\"].append((i + 1) * size - 1)\n",
    "    sites.append(i * size + size / 2)\n",
    "\n",
    "sites = pd.DataFrame({\"slim_start\": sites}, dtype=int)\n",
    "\n",
    "haps = pd.DataFrame(haps)[[\"slim_start\", \"slim_end\"]]\n",
    "haps[\"recomb_rate\"] = 1e-8\n",
    "haps[\"type\"] = \"region\"\n",
    "\n",
    "breaks = pd.DataFrame({\"slim_start\": haps.slim_end[:-1].values,\n",
    "                       \"slim_end\": haps.slim_start[1:].values,\n",
    "                       \"recomb_rate\": 0.5,\n",
    "                       \"type\": \"break\"})[[\"slim_start\", \"slim_end\", \"recomb_rate\", \"type\"]]\n",
    "\n",
    "recomb_map = pd.concat([haps, breaks]).sort_values(\"slim_start\").reset_index(drop=True)"
   ]
  },
  {
   "cell_type": "code",
   "execution_count": 183,
   "metadata": {},
   "outputs": [
    {
     "data": {
      "text/html": [
       "<div>\n",
       "<style>\n",
       "    .dataframe thead tr:only-child th {\n",
       "        text-align: right;\n",
       "    }\n",
       "\n",
       "    .dataframe thead th {\n",
       "        text-align: left;\n",
       "    }\n",
       "\n",
       "    .dataframe tbody tr th {\n",
       "        vertical-align: top;\n",
       "    }\n",
       "</style>\n",
       "<table border=\"1\" class=\"dataframe\">\n",
       "  <thead>\n",
       "    <tr style=\"text-align: right;\">\n",
       "      <th></th>\n",
       "      <th>slim_start</th>\n",
       "      <th>slim_end</th>\n",
       "      <th>recomb_rate</th>\n",
       "      <th>type</th>\n",
       "    </tr>\n",
       "  </thead>\n",
       "  <tbody>\n",
       "    <tr>\n",
       "      <th>1996</th>\n",
       "      <td>998000</td>\n",
       "      <td>998999</td>\n",
       "      <td>1.000000e-08</td>\n",
       "      <td>region</td>\n",
       "    </tr>\n",
       "    <tr>\n",
       "      <th>1997</th>\n",
       "      <td>998999</td>\n",
       "      <td>999000</td>\n",
       "      <td>5.000000e-01</td>\n",
       "      <td>break</td>\n",
       "    </tr>\n",
       "    <tr>\n",
       "      <th>1998</th>\n",
       "      <td>999000</td>\n",
       "      <td>999999</td>\n",
       "      <td>1.000000e-08</td>\n",
       "      <td>region</td>\n",
       "    </tr>\n",
       "  </tbody>\n",
       "</table>\n",
       "</div>"
      ],
      "text/plain": [
       "      slim_start  slim_end   recomb_rate    type\n",
       "1996      998000    998999  1.000000e-08  region\n",
       "1997      998999    999000  5.000000e-01   break\n",
       "1998      999000    999999  1.000000e-08  region"
      ]
     },
     "execution_count": 183,
     "metadata": {},
     "output_type": "execute_result"
    }
   ],
   "source": [
    "recomb_map.tail(3)"
   ]
  },
  {
   "cell_type": "code",
   "execution_count": 184,
   "metadata": {},
   "outputs": [
    {
     "data": {
      "text/html": [
       "<div>\n",
       "<style>\n",
       "    .dataframe thead tr:only-child th {\n",
       "        text-align: right;\n",
       "    }\n",
       "\n",
       "    .dataframe thead th {\n",
       "        text-align: left;\n",
       "    }\n",
       "\n",
       "    .dataframe tbody tr th {\n",
       "        vertical-align: top;\n",
       "    }\n",
       "</style>\n",
       "<table border=\"1\" class=\"dataframe\">\n",
       "  <thead>\n",
       "    <tr style=\"text-align: right;\">\n",
       "      <th></th>\n",
       "      <th>slim_start</th>\n",
       "    </tr>\n",
       "  </thead>\n",
       "  <tbody>\n",
       "    <tr>\n",
       "      <th>997</th>\n",
       "      <td>997500</td>\n",
       "    </tr>\n",
       "    <tr>\n",
       "      <th>998</th>\n",
       "      <td>998500</td>\n",
       "    </tr>\n",
       "    <tr>\n",
       "      <th>999</th>\n",
       "      <td>999500</td>\n",
       "    </tr>\n",
       "  </tbody>\n",
       "</table>\n",
       "</div>"
      ],
      "text/plain": [
       "     slim_start\n",
       "997      997500\n",
       "998      998500\n",
       "999      999500"
      ]
     },
     "execution_count": 184,
     "metadata": {},
     "output_type": "execute_result"
    }
   ],
   "source": [
    "sites.tail(3)"
   ]
  },
  {
   "cell_type": "markdown",
   "metadata": {},
   "source": [
    "Save the recombination map:"
   ]
  },
  {
   "cell_type": "code",
   "execution_count": 185,
   "metadata": {
    "collapsed": true
   },
   "outputs": [],
   "source": [
    "recomb_map.to_csv(\"../data/slim_coords/toy_genome/independent_haps_recomb_map.bed\", sep=\"\\t\", index=False)"
   ]
  },
  {
   "cell_type": "markdown",
   "metadata": {},
   "source": [
    "Save the informative sites:"
   ]
  },
  {
   "cell_type": "code",
   "execution_count": 186,
   "metadata": {
    "collapsed": true
   },
   "outputs": [],
   "source": [
    "sites.to_csv(\"../data/slim_coords/toy_genome/independent_haps_sites.bed\", sep=\"\\t\", index=False)"
   ]
  },
  {
   "cell_type": "markdown",
   "metadata": {},
   "source": [
    "Save the regions:"
   ]
  },
  {
   "cell_type": "code",
   "execution_count": 187,
   "metadata": {
    "collapsed": true
   },
   "outputs": [],
   "source": [
    "recomb_map.query(\"type == 'region'\") \\\n",
    "          .to_csv(\"../data/slim_coords/toy_genome/independent_haps_regions.bed\", sep='\\t', index=False)"
   ]
  },
  {
   "cell_type": "markdown",
   "metadata": {},
   "source": [
    "### Several \"independent haplotypes\"\n",
    "\n",
    "* 1kb in size\n",
    "* 0.5 recombination rate between them\n",
    "* a single informative site in the middle of each\n",
    "\n",
    "https://biology.stackexchange.com/a/19011/27272"
   ]
  },
  {
   "cell_type": "code",
   "execution_count": 194,
   "metadata": {},
   "outputs": [],
   "source": [
    "chrom_len = 100_000_000\n",
    "gap_len = int(chrom_len / N - size)"
   ]
  },
  {
   "cell_type": "code",
   "execution_count": 195,
   "metadata": {},
   "outputs": [],
   "source": [
    "linked_recomb_map = recomb_map.copy()"
   ]
  },
  {
   "cell_type": "code",
   "execution_count": 196,
   "metadata": {},
   "outputs": [
    {
     "data": {
      "text/html": [
       "<div>\n",
       "<style>\n",
       "    .dataframe thead tr:only-child th {\n",
       "        text-align: right;\n",
       "    }\n",
       "\n",
       "    .dataframe thead th {\n",
       "        text-align: left;\n",
       "    }\n",
       "\n",
       "    .dataframe tbody tr th {\n",
       "        vertical-align: top;\n",
       "    }\n",
       "</style>\n",
       "<table border=\"1\" class=\"dataframe\">\n",
       "  <thead>\n",
       "    <tr style=\"text-align: right;\">\n",
       "      <th></th>\n",
       "      <th>slim_start</th>\n",
       "      <th>slim_end</th>\n",
       "      <th>recomb_rate</th>\n",
       "      <th>type</th>\n",
       "    </tr>\n",
       "  </thead>\n",
       "  <tbody>\n",
       "    <tr>\n",
       "      <th>0</th>\n",
       "      <td>0</td>\n",
       "      <td>999</td>\n",
       "      <td>1.000000e-08</td>\n",
       "      <td>region</td>\n",
       "    </tr>\n",
       "    <tr>\n",
       "      <th>1</th>\n",
       "      <td>999</td>\n",
       "      <td>1000</td>\n",
       "      <td>9.900000e-04</td>\n",
       "      <td>break</td>\n",
       "    </tr>\n",
       "    <tr>\n",
       "      <th>2</th>\n",
       "      <td>1000</td>\n",
       "      <td>1999</td>\n",
       "      <td>1.000000e-08</td>\n",
       "      <td>region</td>\n",
       "    </tr>\n",
       "    <tr>\n",
       "      <th>3</th>\n",
       "      <td>1999</td>\n",
       "      <td>2000</td>\n",
       "      <td>9.900000e-04</td>\n",
       "      <td>break</td>\n",
       "    </tr>\n",
       "    <tr>\n",
       "      <th>4</th>\n",
       "      <td>2000</td>\n",
       "      <td>2999</td>\n",
       "      <td>1.000000e-08</td>\n",
       "      <td>region</td>\n",
       "    </tr>\n",
       "  </tbody>\n",
       "</table>\n",
       "</div>"
      ],
      "text/plain": [
       "   slim_start  slim_end   recomb_rate    type\n",
       "0           0       999  1.000000e-08  region\n",
       "1         999      1000  9.900000e-04   break\n",
       "2        1000      1999  1.000000e-08  region\n",
       "3        1999      2000  9.900000e-04   break\n",
       "4        2000      2999  1.000000e-08  region"
      ]
     },
     "execution_count": 196,
     "metadata": {},
     "output_type": "execute_result"
    }
   ],
   "source": [
    "linked_recomb_map.loc[recomb_map.type == \"break\", \"recomb_rate\"] = gap_len * 1e-8\n",
    "linked_recomb_map.head()"
   ]
  },
  {
   "cell_type": "code",
   "execution_count": 197,
   "metadata": {
    "collapsed": true
   },
   "outputs": [],
   "source": [
    "linked_recomb_map.to_csv(\"../data/slim_coords/toy_genome/linked_haps_recomb_map.bed\", sep=\"\\t\", index=False)"
   ]
  },
  {
   "cell_type": "markdown",
   "metadata": {},
   "source": [
    "Save the informative sites:"
   ]
  },
  {
   "cell_type": "code",
   "execution_count": 198,
   "metadata": {
    "collapsed": true
   },
   "outputs": [],
   "source": [
    "sites.to_csv(\"../data/slim_coords/toy_genome/linked_haps_sites.bed\", sep=\"\\t\", index=False)"
   ]
  },
  {
   "cell_type": "markdown",
   "metadata": {},
   "source": [
    "Save the regions:"
   ]
  },
  {
   "cell_type": "code",
   "execution_count": 199,
   "metadata": {
    "collapsed": true
   },
   "outputs": [],
   "source": [
    "linked_recomb_map.query(\"type == 'region'\") \\\n",
    "                 .to_csv(\"../data/slim_coords/toy_genome/linked_haps_regions.bed\", sep='\\t', index=False)"
   ]
  }
 ],
 "metadata": {
  "kernelspec": {
   "display_name": "Python 3",
   "language": "python",
   "name": "python3"
  },
  "language_info": {
   "codemirror_mode": {
    "name": "ipython",
    "version": 3
   },
   "file_extension": ".py",
   "mimetype": "text/x-python",
   "name": "python",
   "nbconvert_exporter": "python",
   "pygments_lexer": "ipython3",
   "version": "3.6.2"
  }
 },
 "nbformat": 4,
 "nbformat_minor": 1
}
