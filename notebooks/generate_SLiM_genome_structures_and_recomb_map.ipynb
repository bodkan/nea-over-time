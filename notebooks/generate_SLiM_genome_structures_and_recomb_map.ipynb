{
 "cells": [
  {
   "cell_type": "markdown",
   "metadata": {},
   "source": [
    "# Generating SLiM genomic structures and recombination map"
   ]
  },
  {
   "cell_type": "code",
   "execution_count": 1,
   "metadata": {
    "collapsed": true
   },
   "outputs": [],
   "source": [
    "from pybedtools import BedTool\n",
    "import pandas as pd"
   ]
  },
  {
   "cell_type": "code",
   "execution_count": 2,
   "metadata": {},
   "outputs": [],
   "source": [
    "!mkdir -p ../data/slim_coords"
   ]
  },
  {
   "cell_type": "markdown",
   "metadata": {},
   "source": [
    "<br><br>\n",
    "## Annotate the BED files with region coordinates & inter-region sites with recombination rate"
   ]
  },
  {
   "cell_type": "markdown",
   "metadata": {},
   "source": [
    "### First add the gap regions between inter-region sites and regions themselves"
   ]
  },
  {
   "cell_type": "code",
   "execution_count": 3,
   "metadata": {
    "collapsed": true
   },
   "outputs": [],
   "source": [
    "%%bash\n",
    "for f in ../data/bed/regions/*_regions_gap_sites.bed; do\n",
    "    python3 ../add_spacers_to_bed.py $f ${f%.*}_spacers.bed\n",
    "done"
   ]
  },
  {
   "cell_type": "markdown",
   "metadata": {},
   "source": [
    "### Add the recombination rates for each region/site/spacer"
   ]
  },
  {
   "cell_type": "code",
   "execution_count": 4,
   "metadata": {},
   "outputs": [],
   "source": [
    "%%bash\n",
    "for f in ../data/bed/regions/*_regions_gap_sites_spacers.bed; do\n",
    "    bedmap --ec --delim '\\t' --echo --count --echo-map-score --echo-overlap-size $f ../data/genetic_map/genetic_map_GRCh37_all.txt.bed \\\n",
    "        | python ../get_window_average.py 4 \\\n",
    "        | awk '($7 != \"0.0\") && ($7 != \"0\")' \\\n",
    "        > ${f%.*}_recomb_rates.bed\n",
    "done"
   ]
  },
  {
   "cell_type": "markdown",
   "metadata": {},
   "source": [
    "<br><br><br>\n",
    "## Conversion of physical coordinates into SLiM-based coordinate system"
   ]
  },
  {
   "cell_type": "markdown",
   "metadata": {},
   "source": [
    "### Read the coordinates annotated with the genetic map"
   ]
  },
  {
   "cell_type": "code",
   "execution_count": 5,
   "metadata": {
    "collapsed": true
   },
   "outputs": [],
   "source": [
    "def read_recomb_map(bed_file):\n",
    "    recomb_map = pd.read_table(bed_file, names=[\"chrom\", \"start\", \"end\", \"type\", \"xxx\", \"length\", \"recomb_rate\", \"xxx\"])[[\"chrom\", \"start\", \"end\", \"type\", \"recomb_rate\"]]\n",
    "\n",
    "    # add labels to each region/site/spacer to make debugging easier\n",
    "    # (regions of width 1 were filtered out already when the BED files were generated)\n",
    "    recomb_map.loc[(recomb_map.end - recomb_map.start > 1) & (recomb_map.type != \"spacer\"), \"type\"] = \"region\"\n",
    "    recomb_map.loc[(recomb_map.end - recomb_map.start == 1) & (recomb_map.type != \"spacer\"), \"type\"] = \"site\"\n",
    "\n",
    "    # convert the recombination rate (in cM/Mb) to format required by SLiM\n",
    "    recomb_map.recomb_rate = recomb_map.recomb_rate * 1e-8\n",
    "\n",
    "    # reduce the spacers to 1 bp (which is what we will simulate in SLiM)\n",
    "    recomb_map.loc[recomb_map.type == \"spacer\", \"end\"] = recomb_map.loc[recomb_map.type == \"spacer\"].start + 1\n",
    "    \n",
    "    return recomb_map"
   ]
  },
  {
   "cell_type": "markdown",
   "metadata": {},
   "source": [
    "### Add \"1 bp\" chromosome breaks with recombination rate of 0.5"
   ]
  },
  {
   "cell_type": "code",
   "execution_count": 6,
   "metadata": {
    "collapsed": true
   },
   "outputs": [],
   "source": [
    "def add_chrom_breaks(recomb_map):\n",
    "    chrom_maps = []\n",
    "\n",
    "    for chrom in list(range(1, 23)):\n",
    "        chrom_map = recomb_map.loc[recomb_map.chrom == \"chr\" + str(chrom)]\n",
    "\n",
    "        chrom_break = pd.DataFrame({\"chrom\": \"chr\" + str(chrom),\n",
    "                                    \"start\": list(chrom_map.end)[-1],\n",
    "                                    \"end\":   list(chrom_map.end)[-1] + 1,\n",
    "                                    \"type\":  [\"chrom_break\"],\n",
    "                                    \"recomb_rate\": [0.5]},\n",
    "                                   columns=[\"chrom\", \"start\", \"end\", \"type\", \"recomb_rate\"])\n",
    "\n",
    "        chrom_maps.append(pd.concat([chrom_map, chrom_break]).sort_values(by=['chrom', 'start']).reset_index(drop=True))\n",
    "\n",
    "    # remove the very last base of the recombination map (it has a 0.5 recombination\n",
    "    # rate anyway and there's no other chromosome after it)\n",
    "    recomb_map = pd.concat(chrom_maps)[:-1].reset_index(drop=True)\n",
    "    \n",
    "    return recomb_map"
   ]
  },
  {
   "cell_type": "markdown",
   "metadata": {},
   "source": [
    "###  Concatenate regions/sites on all chromosome as if they were directly adjacent on a single chromosome\n",
    "\n",
    "SLiM simulates everything as a single noodle - we need to concatenate everything together and change the coordinates appropriately."
   ]
  },
  {
   "cell_type": "code",
   "execution_count": 7,
   "metadata": {
    "collapsed": true
   },
   "outputs": [],
   "source": [
    "def concatenate_regions(regions):\n",
    "    concat_regions = regions.copy()\n",
    "\n",
    "    concat_regions[\"width\"] = regions.end - regions.start\n",
    "    concat_regions[\"slim_start\"] = pd.Series([0] + list(concat_regions.width[:-1])).cumsum().values\n",
    "    concat_regions[\"slim_end\"] = concat_regions.width.cumsum() - 1\n",
    "    \n",
    "    return concat_regions"
   ]
  },
  {
   "cell_type": "code",
   "execution_count": 8,
   "metadata": {
    "collapsed": true
   },
   "outputs": [],
   "source": [
    "regions = [\"protein_coding\", \"utr5\", \"utr3\", \"tss_5k\", \"ctcf_binding_site\", \"enhancer\", \"open_chromatin\", \"promoter\", \"promoter_flank\", \"tf_binding_site\", \"priPhastCons\"]"
   ]
  },
  {
   "cell_type": "code",
   "execution_count": 9,
   "metadata": {},
   "outputs": [],
   "source": [
    "region = regions[0]"
   ]
  },
  {
   "cell_type": "code",
   "execution_count": 10,
   "metadata": {
    "collapsed": true
   },
   "outputs": [],
   "source": [
    "for region in regions:\n",
    "    # load the recombination map of regions and \"gap sites\"\n",
    "    recomb_map_no_breaks = read_recomb_map(\"../data/bed/regions/{}_regions_gap_sites_spacers_recomb_rates.bed\".format(region))\n",
    "    recomb_map = add_chrom_breaks(recomb_map_no_breaks)\n",
    "    \n",
    "    # convert all coordinates into SLiM's 0-based coordinate system\n",
    "    # (all chromosomes concatenated into a single continuous segment)\n",
    "    concat_map = concatenate_regions(recomb_map)\n",
    "    \n",
    "    # save the recombination map (just regions and spacers, without\n",
    "    # the informative sites since they don't have recombination rates\n",
    "    # themselves - the \"spacers\" around them do)\n",
    "    concat_map.query(\"type != 'site'\") \\\n",
    "              .to_csv(\"../data/slim_coords/{}_recomb_map.bed\".format(region), sep=\"\\t\", index=False)\n",
    "    \n",
    "    # load the subset of array sites that lie inside a region of interest\n",
    "    region_sites = pd.read_table(\"../data/bed/regions/{}_sites.bed\".format(region), names=[\"chrom\", \"start\", \"end\"])\n",
    "    \n",
    "    # get a DataFrame of the coordinates of regions that contain sites from\n",
    "    # the admixture array (will contain multiple copies of one region if more\n",
    "    # than one site falls within that exon)\n",
    "    regions_with_sites = BedTool.from_dataframe(concat_map.query(\"type == 'region'\")) \\\n",
    "                                .intersect(BedTool.from_dataframe(region_sites), wa=True) \\\n",
    "                                .to_dataframe() \\\n",
    "                                .rename(columns={\"name\": \"type\",\n",
    "                                                 \"score\": 'recomb_rate',\n",
    "                                                 \"strand\": 'width',\n",
    "                                                 \"thickStart\": \"slim_start\",\n",
    "                                                 \"thickEnd\": \"slim_end\"})\n",
    "    \n",
    "    # some regions had a recombination rate equal to 0 and were filtered out\n",
    "    # and sites that fall within these regions have to be filtered out (since\n",
    "    # they can't be simulated anyway)\n",
    "    region_sites = BedTool.from_dataframe(region_sites) \\\n",
    "                          .intersect(BedTool.from_dataframe(concat_map.query(\"type == 'region'\")), wa=True) \\\n",
    "                          .to_dataframe()\n",
    "    \n",
    "    # calculate the position of each site relative to the start of \"its\" region\n",
    "    # and convert this position into SLiM's single-segment coordinate system\n",
    "    # (i.e. relative the the position 0 of the simulated segment)\n",
    "    region_sites[\"slim_start\"] = region_sites.start - regions_with_sites.start + regions_with_sites.slim_start\n",
    "    region_sites[\"slim_end\"] = region_sites.slim_start\n",
    "\n",
    "    # concatenate the converted gap sites and region sites and save their coordinates\n",
    "    gap_sites = concat_map.query(\"type == 'site'\").drop([\"type\", \"recomb_rate\", \"width\"], axis=1)\n",
    "    pd.concat([gap_sites, region_sites]) \\\n",
    "      .sort_values(\"slim_start\") \\\n",
    "      .reset_index(drop=True) \\\n",
    "      .to_csv(\"../data/slim_coords/{}_sites.bed\".format(region), sep=\"\\t\", index=False)\n",
    "    \n",
    "    # save SLiM coordinates of the regions themselves (will be used for calling\n",
    "    # initializeGenomicElement function in SLiM)\n",
    "    concat_map.query(\"type == 'region'\") \\\n",
    "              .to_csv(\"../data/slim_coords/{}_regions.bed\".format(region), sep='\\t', index=False)"
   ]
  },
  {
   "cell_type": "markdown",
   "metadata": {},
   "source": [
    "<br><br><br><br><br>\n",
    "# Testing of the recombination map building functions"
   ]
  },
  {
   "cell_type": "markdown",
   "metadata": {},
   "source": [
    "Sample 5 exons/sites for each chromosome to make a testing data set."
   ]
  },
  {
   "cell_type": "code",
   "execution_count": 23,
   "metadata": {},
   "outputs": [],
   "source": [
    "test_data = recomb_map.groupby('chrom') \\\n",
    "                           .apply(pd.DataFrame.head) \\\n",
    "                           .reset_index(drop=True)"
   ]
  },
  {
   "cell_type": "code",
   "execution_count": 24,
   "metadata": {},
   "outputs": [
    {
     "data": {
      "text/html": [
       "<div>\n",
       "<style>\n",
       "    .dataframe thead tr:only-child th {\n",
       "        text-align: right;\n",
       "    }\n",
       "\n",
       "    .dataframe thead th {\n",
       "        text-align: left;\n",
       "    }\n",
       "\n",
       "    .dataframe tbody tr th {\n",
       "        vertical-align: top;\n",
       "    }\n",
       "</style>\n",
       "<table border=\"1\" class=\"dataframe\">\n",
       "  <thead>\n",
       "    <tr style=\"text-align: right;\">\n",
       "      <th></th>\n",
       "      <th>chrom</th>\n",
       "      <th>start</th>\n",
       "      <th>end</th>\n",
       "      <th>type</th>\n",
       "      <th>recomb_rate</th>\n",
       "    </tr>\n",
       "  </thead>\n",
       "  <tbody>\n",
       "    <tr>\n",
       "      <th>0</th>\n",
       "      <td>chr1</td>\n",
       "      <td>69090</td>\n",
       "      <td>70008</td>\n",
       "      <td>region</td>\n",
       "      <td>2.082414e-08</td>\n",
       "    </tr>\n",
       "    <tr>\n",
       "      <th>1</th>\n",
       "      <td>chr1</td>\n",
       "      <td>70008</td>\n",
       "      <td>70009</td>\n",
       "      <td>spacer</td>\n",
       "      <td>3.017570e-08</td>\n",
       "    </tr>\n",
       "    <tr>\n",
       "      <th>2</th>\n",
       "      <td>chr1</td>\n",
       "      <td>138529</td>\n",
       "      <td>139309</td>\n",
       "      <td>region</td>\n",
       "      <td>3.354927e-08</td>\n",
       "    </tr>\n",
       "    <tr>\n",
       "      <th>3</th>\n",
       "      <td>chr1</td>\n",
       "      <td>139309</td>\n",
       "      <td>139310</td>\n",
       "      <td>spacer</td>\n",
       "      <td>3.124309e-08</td>\n",
       "    </tr>\n",
       "    <tr>\n",
       "      <th>4</th>\n",
       "      <td>chr1</td>\n",
       "      <td>367658</td>\n",
       "      <td>368597</td>\n",
       "      <td>region</td>\n",
       "      <td>2.887498e-08</td>\n",
       "    </tr>\n",
       "  </tbody>\n",
       "</table>\n",
       "</div>"
      ],
      "text/plain": [
       "  chrom   start     end    type   recomb_rate\n",
       "0  chr1   69090   70008  region  2.082414e-08\n",
       "1  chr1   70008   70009  spacer  3.017570e-08\n",
       "2  chr1  138529  139309  region  3.354927e-08\n",
       "3  chr1  139309  139310  spacer  3.124309e-08\n",
       "4  chr1  367658  368597  region  2.887498e-08"
      ]
     },
     "execution_count": 24,
     "metadata": {},
     "output_type": "execute_result"
    }
   ],
   "source": [
    "test_data.head()"
   ]
  },
  {
   "cell_type": "markdown",
   "metadata": {},
   "source": [
    "#### Test `add_chrom_breaks`\n",
    "\n",
    "The function should add a 1bp spacer with a 0.5 recombination rate between chromosomes:"
   ]
  },
  {
   "cell_type": "code",
   "execution_count": 25,
   "metadata": {},
   "outputs": [
    {
     "data": {
      "text/html": [
       "<div>\n",
       "<style>\n",
       "    .dataframe thead tr:only-child th {\n",
       "        text-align: right;\n",
       "    }\n",
       "\n",
       "    .dataframe thead th {\n",
       "        text-align: left;\n",
       "    }\n",
       "\n",
       "    .dataframe tbody tr th {\n",
       "        vertical-align: top;\n",
       "    }\n",
       "</style>\n",
       "<table border=\"1\" class=\"dataframe\">\n",
       "  <thead>\n",
       "    <tr style=\"text-align: right;\">\n",
       "      <th></th>\n",
       "      <th>chrom</th>\n",
       "      <th>start</th>\n",
       "      <th>end</th>\n",
       "      <th>type</th>\n",
       "      <th>recomb_rate</th>\n",
       "    </tr>\n",
       "  </thead>\n",
       "  <tbody>\n",
       "    <tr>\n",
       "      <th>5</th>\n",
       "      <td>chr1</td>\n",
       "      <td>368597</td>\n",
       "      <td>368598</td>\n",
       "      <td>chrom_break</td>\n",
       "      <td>0.5</td>\n",
       "    </tr>\n",
       "    <tr>\n",
       "      <th>11</th>\n",
       "      <td>chr2</td>\n",
       "      <td>140691</td>\n",
       "      <td>140692</td>\n",
       "      <td>chrom_break</td>\n",
       "      <td>0.5</td>\n",
       "    </tr>\n",
       "    <tr>\n",
       "      <th>17</th>\n",
       "      <td>chr3</td>\n",
       "      <td>239611</td>\n",
       "      <td>239612</td>\n",
       "      <td>chrom_break</td>\n",
       "      <td>0.5</td>\n",
       "    </tr>\n",
       "    <tr>\n",
       "      <th>23</th>\n",
       "      <td>chr4</td>\n",
       "      <td>60050</td>\n",
       "      <td>60051</td>\n",
       "      <td>chrom_break</td>\n",
       "      <td>0.5</td>\n",
       "    </tr>\n",
       "    <tr>\n",
       "      <th>29</th>\n",
       "      <td>chr5</td>\n",
       "      <td>143618</td>\n",
       "      <td>143619</td>\n",
       "      <td>chrom_break</td>\n",
       "      <td>0.5</td>\n",
       "    </tr>\n",
       "    <tr>\n",
       "      <th>35</th>\n",
       "      <td>chr6</td>\n",
       "      <td>304661</td>\n",
       "      <td>304662</td>\n",
       "      <td>chrom_break</td>\n",
       "      <td>0.5</td>\n",
       "    </tr>\n",
       "    <tr>\n",
       "      <th>41</th>\n",
       "      <td>chr7</td>\n",
       "      <td>197428</td>\n",
       "      <td>197429</td>\n",
       "      <td>chrom_break</td>\n",
       "      <td>0.5</td>\n",
       "    </tr>\n",
       "    <tr>\n",
       "      <th>47</th>\n",
       "      <td>chr8</td>\n",
       "      <td>142298</td>\n",
       "      <td>142299</td>\n",
       "      <td>chrom_break</td>\n",
       "      <td>0.5</td>\n",
       "    </tr>\n",
       "    <tr>\n",
       "      <th>53</th>\n",
       "      <td>chr9</td>\n",
       "      <td>122090</td>\n",
       "      <td>122091</td>\n",
       "      <td>chrom_break</td>\n",
       "      <td>0.5</td>\n",
       "    </tr>\n",
       "    <tr>\n",
       "      <th>59</th>\n",
       "      <td>chr10</td>\n",
       "      <td>94852</td>\n",
       "      <td>94853</td>\n",
       "      <td>chrom_break</td>\n",
       "      <td>0.5</td>\n",
       "    </tr>\n",
       "    <tr>\n",
       "      <th>65</th>\n",
       "      <td>chr11</td>\n",
       "      <td>193154</td>\n",
       "      <td>193155</td>\n",
       "      <td>chrom_break</td>\n",
       "      <td>0.5</td>\n",
       "    </tr>\n",
       "    <tr>\n",
       "      <th>71</th>\n",
       "      <td>chr12</td>\n",
       "      <td>176602</td>\n",
       "      <td>176603</td>\n",
       "      <td>chrom_break</td>\n",
       "      <td>0.5</td>\n",
       "    </tr>\n",
       "    <tr>\n",
       "      <th>77</th>\n",
       "      <td>chr13</td>\n",
       "      <td>19752534</td>\n",
       "      <td>19752535</td>\n",
       "      <td>chrom_break</td>\n",
       "      <td>0.5</td>\n",
       "    </tr>\n",
       "    <tr>\n",
       "      <th>83</th>\n",
       "      <td>chr14</td>\n",
       "      <td>19558831</td>\n",
       "      <td>19558832</td>\n",
       "      <td>chrom_break</td>\n",
       "      <td>0.5</td>\n",
       "    </tr>\n",
       "    <tr>\n",
       "      <th>89</th>\n",
       "      <td>chr15</td>\n",
       "      <td>20742152</td>\n",
       "      <td>20742153</td>\n",
       "      <td>chrom_break</td>\n",
       "      <td>0.5</td>\n",
       "    </tr>\n",
       "    <tr>\n",
       "      <th>95</th>\n",
       "      <td>chr16</td>\n",
       "      <td>65633</td>\n",
       "      <td>65634</td>\n",
       "      <td>chrom_break</td>\n",
       "      <td>0.5</td>\n",
       "    </tr>\n",
       "    <tr>\n",
       "      <th>101</th>\n",
       "      <td>chr17</td>\n",
       "      <td>11981</td>\n",
       "      <td>11982</td>\n",
       "      <td>chrom_break</td>\n",
       "      <td>0.5</td>\n",
       "    </tr>\n",
       "    <tr>\n",
       "      <th>107</th>\n",
       "      <td>chr18</td>\n",
       "      <td>49557</td>\n",
       "      <td>49558</td>\n",
       "      <td>chrom_break</td>\n",
       "      <td>0.5</td>\n",
       "    </tr>\n",
       "    <tr>\n",
       "      <th>113</th>\n",
       "      <td>chr19</td>\n",
       "      <td>282310</td>\n",
       "      <td>282311</td>\n",
       "      <td>chrom_break</td>\n",
       "      <td>0.5</td>\n",
       "    </tr>\n",
       "    <tr>\n",
       "      <th>119</th>\n",
       "      <td>chr20</td>\n",
       "      <td>123327</td>\n",
       "      <td>123328</td>\n",
       "      <td>chrom_break</td>\n",
       "      <td>0.5</td>\n",
       "    </tr>\n",
       "    <tr>\n",
       "      <th>125</th>\n",
       "      <td>chr21</td>\n",
       "      <td>10910399</td>\n",
       "      <td>10910400</td>\n",
       "      <td>chrom_break</td>\n",
       "      <td>0.5</td>\n",
       "    </tr>\n",
       "  </tbody>\n",
       "</table>\n",
       "</div>"
      ],
      "text/plain": [
       "     chrom     start       end         type  recomb_rate\n",
       "5     chr1    368597    368598  chrom_break          0.5\n",
       "11    chr2    140691    140692  chrom_break          0.5\n",
       "17    chr3    239611    239612  chrom_break          0.5\n",
       "23    chr4     60050     60051  chrom_break          0.5\n",
       "29    chr5    143618    143619  chrom_break          0.5\n",
       "35    chr6    304661    304662  chrom_break          0.5\n",
       "41    chr7    197428    197429  chrom_break          0.5\n",
       "47    chr8    142298    142299  chrom_break          0.5\n",
       "53    chr9    122090    122091  chrom_break          0.5\n",
       "59   chr10     94852     94853  chrom_break          0.5\n",
       "65   chr11    193154    193155  chrom_break          0.5\n",
       "71   chr12    176602    176603  chrom_break          0.5\n",
       "77   chr13  19752534  19752535  chrom_break          0.5\n",
       "83   chr14  19558831  19558832  chrom_break          0.5\n",
       "89   chr15  20742152  20742153  chrom_break          0.5\n",
       "95   chr16     65633     65634  chrom_break          0.5\n",
       "101  chr17     11981     11982  chrom_break          0.5\n",
       "107  chr18     49557     49558  chrom_break          0.5\n",
       "113  chr19    282310    282311  chrom_break          0.5\n",
       "119  chr20    123327    123328  chrom_break          0.5\n",
       "125  chr21  10910399  10910400  chrom_break          0.5"
      ]
     },
     "execution_count": 25,
     "metadata": {},
     "output_type": "execute_result"
    }
   ],
   "source": [
    "add_chrom_breaks(test_data).query(\"type == 'chrom_break'\")"
   ]
  },
  {
   "cell_type": "markdown",
   "metadata": {},
   "source": [
    "#### Test `concatenate_regions`\n",
    "\n",
    "The function should concatenate all regions into a single continuous segment. This segment should start at 0 and its last position should be equal to the total length of all regions - 1."
   ]
  },
  {
   "cell_type": "code",
   "execution_count": 26,
   "metadata": {},
   "outputs": [
    {
     "data": {
      "text/html": [
       "<div>\n",
       "<style>\n",
       "    .dataframe thead tr:only-child th {\n",
       "        text-align: right;\n",
       "    }\n",
       "\n",
       "    .dataframe thead th {\n",
       "        text-align: left;\n",
       "    }\n",
       "\n",
       "    .dataframe tbody tr th {\n",
       "        vertical-align: top;\n",
       "    }\n",
       "</style>\n",
       "<table border=\"1\" class=\"dataframe\">\n",
       "  <thead>\n",
       "    <tr style=\"text-align: right;\">\n",
       "      <th></th>\n",
       "      <th>chrom</th>\n",
       "      <th>start</th>\n",
       "      <th>end</th>\n",
       "      <th>type</th>\n",
       "      <th>recomb_rate</th>\n",
       "      <th>width</th>\n",
       "      <th>slim_start</th>\n",
       "      <th>slim_end</th>\n",
       "    </tr>\n",
       "  </thead>\n",
       "  <tbody>\n",
       "    <tr>\n",
       "      <th>0</th>\n",
       "      <td>chr1</td>\n",
       "      <td>69090</td>\n",
       "      <td>70008</td>\n",
       "      <td>region</td>\n",
       "      <td>2.082414e-08</td>\n",
       "      <td>918</td>\n",
       "      <td>0</td>\n",
       "      <td>917</td>\n",
       "    </tr>\n",
       "    <tr>\n",
       "      <th>1</th>\n",
       "      <td>chr1</td>\n",
       "      <td>70008</td>\n",
       "      <td>70009</td>\n",
       "      <td>spacer</td>\n",
       "      <td>3.017570e-08</td>\n",
       "      <td>1</td>\n",
       "      <td>918</td>\n",
       "      <td>918</td>\n",
       "    </tr>\n",
       "    <tr>\n",
       "      <th>2</th>\n",
       "      <td>chr1</td>\n",
       "      <td>138529</td>\n",
       "      <td>139309</td>\n",
       "      <td>region</td>\n",
       "      <td>3.354927e-08</td>\n",
       "      <td>780</td>\n",
       "      <td>919</td>\n",
       "      <td>1698</td>\n",
       "    </tr>\n",
       "    <tr>\n",
       "      <th>3</th>\n",
       "      <td>chr1</td>\n",
       "      <td>139309</td>\n",
       "      <td>139310</td>\n",
       "      <td>spacer</td>\n",
       "      <td>3.124309e-08</td>\n",
       "      <td>1</td>\n",
       "      <td>1699</td>\n",
       "      <td>1699</td>\n",
       "    </tr>\n",
       "    <tr>\n",
       "      <th>4</th>\n",
       "      <td>chr1</td>\n",
       "      <td>367658</td>\n",
       "      <td>368597</td>\n",
       "      <td>region</td>\n",
       "      <td>2.887498e-08</td>\n",
       "      <td>939</td>\n",
       "      <td>1700</td>\n",
       "      <td>2638</td>\n",
       "    </tr>\n",
       "    <tr>\n",
       "      <th>55</th>\n",
       "      <td>chr2</td>\n",
       "      <td>41607</td>\n",
       "      <td>41627</td>\n",
       "      <td>region</td>\n",
       "      <td>2.508050e-09</td>\n",
       "      <td>20</td>\n",
       "      <td>2639</td>\n",
       "      <td>2658</td>\n",
       "    </tr>\n",
       "    <tr>\n",
       "      <th>56</th>\n",
       "      <td>chr2</td>\n",
       "      <td>41627</td>\n",
       "      <td>41628</td>\n",
       "      <td>spacer</td>\n",
       "      <td>2.508050e-09</td>\n",
       "      <td>1</td>\n",
       "      <td>2659</td>\n",
       "      <td>2659</td>\n",
       "    </tr>\n",
       "    <tr>\n",
       "      <th>57</th>\n",
       "      <td>chr2</td>\n",
       "      <td>45439</td>\n",
       "      <td>46385</td>\n",
       "      <td>region</td>\n",
       "      <td>2.508050e-09</td>\n",
       "      <td>946</td>\n",
       "      <td>2660</td>\n",
       "      <td>3605</td>\n",
       "    </tr>\n",
       "    <tr>\n",
       "      <th>58</th>\n",
       "      <td>chr2</td>\n",
       "      <td>46385</td>\n",
       "      <td>46386</td>\n",
       "      <td>spacer</td>\n",
       "      <td>4.081251e-09</td>\n",
       "      <td>1</td>\n",
       "      <td>3606</td>\n",
       "      <td>3606</td>\n",
       "    </tr>\n",
       "    <tr>\n",
       "      <th>59</th>\n",
       "      <td>chr2</td>\n",
       "      <td>140690</td>\n",
       "      <td>140691</td>\n",
       "      <td>site</td>\n",
       "      <td>6.352500e-10</td>\n",
       "      <td>1</td>\n",
       "      <td>3607</td>\n",
       "      <td>3607</td>\n",
       "    </tr>\n",
       "  </tbody>\n",
       "</table>\n",
       "</div>"
      ],
      "text/plain": [
       "   chrom   start     end    type   recomb_rate  width  slim_start  slim_end\n",
       "0   chr1   69090   70008  region  2.082414e-08    918           0       917\n",
       "1   chr1   70008   70009  spacer  3.017570e-08      1         918       918\n",
       "2   chr1  138529  139309  region  3.354927e-08    780         919      1698\n",
       "3   chr1  139309  139310  spacer  3.124309e-08      1        1699      1699\n",
       "4   chr1  367658  368597  region  2.887498e-08    939        1700      2638\n",
       "55  chr2   41607   41627  region  2.508050e-09     20        2639      2658\n",
       "56  chr2   41627   41628  spacer  2.508050e-09      1        2659      2659\n",
       "57  chr2   45439   46385  region  2.508050e-09    946        2660      3605\n",
       "58  chr2   46385   46386  spacer  4.081251e-09      1        3606      3606\n",
       "59  chr2  140690  140691    site  6.352500e-10      1        3607      3607"
      ]
     },
     "execution_count": 26,
     "metadata": {},
     "output_type": "execute_result"
    }
   ],
   "source": [
    "concatenate_regions(test_data.query(\"chrom == 'chr1' | chrom == 'chr2'\"))"
   ]
  },
  {
   "cell_type": "markdown",
   "metadata": {},
   "source": [
    "What is the correct end of the single continuous segment?"
   ]
  },
  {
   "cell_type": "code",
   "execution_count": 27,
   "metadata": {},
   "outputs": [
    {
     "data": {
      "text/plain": [
       "3607"
      ]
     },
     "execution_count": 27,
     "metadata": {},
     "output_type": "execute_result"
    }
   ],
   "source": [
    "sum((test_data.query(\"chrom == 'chr1' | chrom == 'chr2'\")).end -\n",
    "    (test_data.query(\"chrom == 'chr1' | chrom == 'chr2'\")).start) - 1"
   ]
  },
  {
   "cell_type": "markdown",
   "metadata": {},
   "source": [
    "This value matches the `slim_end` value in the last row."
   ]
  }
 ],
 "metadata": {
  "kernelspec": {
   "display_name": "Python 3",
   "language": "python",
   "name": "python3"
  },
  "language_info": {
   "codemirror_mode": {
    "name": "ipython",
    "version": 3
   },
   "file_extension": ".py",
   "mimetype": "text/x-python",
   "name": "python",
   "nbconvert_exporter": "python",
   "pygments_lexer": "ipython3",
   "version": "3.6.1"
  }
 },
 "nbformat": 4,
 "nbformat_minor": 1
}
