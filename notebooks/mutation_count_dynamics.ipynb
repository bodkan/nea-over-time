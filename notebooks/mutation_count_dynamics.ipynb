{
 "cells": [
  {
   "cell_type": "markdown",
   "metadata": {},
   "source": [
    "# Dynamics of # of mutations over time"
   ]
  },
  {
   "cell_type": "code",
   "execution_count": 1,
   "metadata": {
    "collapsed": false
   },
   "outputs": [],
   "source": [
    "suppressPackageStartupMessages(library(tidyverse))\n",
    "suppressPackageStartupMessages(library(lazyeval))\n",
    "suppressPackageStartupMessages(library(reshape2))\n",
    "\n",
    "suppressPackageStartupMessages(source(\"../R/process_slim_output.R\"))"
   ]
  },
  {
   "cell_type": "code",
   "execution_count": 2,
   "metadata": {
    "collapsed": true
   },
   "outputs": [],
   "source": [
    "traject_dir <- \"../simulations/different_models\""
   ]
  },
  {
   "cell_type": "markdown",
   "metadata": {},
   "source": [
    "## Numbers of deleterious mutations per haploid exome just before introgression"
   ]
  },
  {
   "cell_type": "code",
   "execution_count": 3,
   "metadata": {
    "collapsed": true
   },
   "outputs": [],
   "source": [
    "slim_file <- read_slim_file(\"../simulations/exome_and_sites__h_0.5__seed_6977220333793.txt\")\n",
    "\n",
    "nea_muts <- read_mutations(slim_file, \"m0\", \"p2\")         %>% mutate(freq=count / (2 * 1000), mutations=\"Nea\")\n",
    "mh_muts <- read_mutations(slim_file, \"m0\", \"p1\", t=50000) %>% mutate(freq=count / (2 * (10000 + 1861)), mutations=\"AMH\")\n",
    "\n",
    "before_admixture <- rbind(mh_muts, nea_muts)"
   ]
  },
  {
   "cell_type": "markdown",
   "metadata": {},
   "source": [
    "Total number of mutations in the population:"
   ]
  },
  {
   "cell_type": "code",
   "execution_count": 4,
   "metadata": {
    "collapsed": false
   },
   "outputs": [
    {
     "data": {
      "text/html": [
       "12558"
      ],
      "text/latex": [
       "12558"
      ],
      "text/markdown": [
       "12558"
      ],
      "text/plain": [
       "[1] 12558"
      ]
     },
     "metadata": {},
     "output_type": "display_data"
    },
    {
     "data": {
      "text/html": [
       "107666"
      ],
      "text/latex": [
       "107666"
      ],
      "text/markdown": [
       "107666"
      ],
      "text/plain": [
       "[1] 107666"
      ]
     },
     "metadata": {},
     "output_type": "display_data"
    }
   ],
   "source": [
    "nrow(nea_muts)\n",
    "nrow(mh_muts)"
   ]
  },
  {
   "cell_type": "markdown",
   "metadata": {},
   "source": [
    "Total number of fixed mutations:"
   ]
  },
  {
   "cell_type": "code",
   "execution_count": 5,
   "metadata": {
    "collapsed": false
   },
   "outputs": [
    {
     "data": {
      "text/html": [
       "2139"
      ],
      "text/latex": [
       "2139"
      ],
      "text/markdown": [
       "2139"
      ],
      "text/plain": [
       "[1] 2139"
      ]
     },
     "metadata": {},
     "output_type": "display_data"
    },
    {
     "data": {
      "text/html": [
       "29"
      ],
      "text/latex": [
       "29"
      ],
      "text/markdown": [
       "29"
      ],
      "text/plain": [
       "[1] 29"
      ]
     },
     "metadata": {},
     "output_type": "display_data"
    }
   ],
   "source": [
    "nrow(filter(nea_muts, freq == 1.0))\n",
    "nrow(filter(mh_muts, freq == 1.0))"
   ]
  },
  {
   "cell_type": "markdown",
   "metadata": {},
   "source": [
    "SFS of deleterious mutations accumulated on the AMH and Nea. lineages"
   ]
  },
  {
   "cell_type": "code",
   "execution_count": 7,
   "metadata": {
    "collapsed": false
   },
   "outputs": [
    {
     "data": {},
     "metadata": {},
     "output_type": "display_data"
    },
    {
     "data": {
      "image/png": "[encoded data removed]",
      "text/plain": [
       "plot without title"
      ]
     },
     "metadata": {},
     "output_type": "display_data"
    }
   ],
   "source": [
    "options(repr.plot.width=10, repr.plot.height=3)\n",
    "\n",
    "ggplot(before_admixture, aes(freq, fill=mutations)) + geom_histogram(bins=100) + facet_wrap(~ mutations, scales=\"free\")"
   ]
  },
  {
   "cell_type": "code",
   "execution_count": 26,
   "metadata": {
    "collapsed": true
   },
   "outputs": [],
   "source": [
    "# read Neanderthal genomes\n",
    "nea_indivs  <- read_individuals(slim_file, \"p2\")\n",
    "nea_genomes <- read_genomes(slim_file, \"p2\")\n",
    "\n",
    "# read AMH genomes\n",
    "mh_indivs   <- read_individuals(slim_file, \"p3\")\n",
    "mh_genomes  <- read_genomes(slim_file, \"p3\")\n",
    "\n",
    "# match each mutation in each individual genome against its\n",
    "# SLiM description\n",
    "nea_muts_per_genome <- left_join(nea_genomes, nea_muts, by=\"mut_id\")\n",
    "mh_muts_per_genome <- left_join(mh_genomes, mh_muts, by=\"mut_id\")"
   ]
  },
  {
   "cell_type": "code",
   "execution_count": 27,
   "metadata": {
    "collapsed": false
   },
   "outputs": [],
   "source": [
    "nea_mut_count <- group_by(nea_muts_per_genome, genome_id) %>% summarise(count=sum(!is.na(mut_type)))\n",
    "mh_mut_count <- group_by(mh_muts_per_genome, genome_id) %>% summarise(count=sum(!is.na(mut_type)))"
   ]
  },
  {
   "cell_type": "code",
   "execution_count": 28,
   "metadata": {
    "collapsed": false
   },
   "outputs": [
    {
     "data": {},
     "metadata": {},
     "output_type": "display_data"
    },
    {
     "data": {
      "image/png": "[encoded data removed]",
      "text/plain": [
       "plot without title"
      ]
     },
     "metadata": {},
     "output_type": "display_data"
    }
   ],
   "source": [
    "bind_rows(\n",
    "    nea_mut_count %>% mutate(pop=\"Nea\"),\n",
    "    mh_mut_count %>% mutate(pop=\"AMH\")\n",
    ") %>%\n",
    "ggplot(aes(count, fill=pop)) +\n",
    "geom_histogram(bins=100) +\n",
    "    ggtitle(\"Numbers of deleterious derived mutations per haploid exome\")"
   ]
  },
  {
   "cell_type": "markdown",
   "metadata": {},
   "source": [
    "Neanderthal exome carries on average 1000 more deleterious mutations than an anatomically modern human exome - consistent with Sergi's exome study."
   ]
  },
  {
   "cell_type": "markdown",
   "metadata": {},
   "source": [
    "## Numbers of deleterious mutations per haploid exome over time"
   ]
  },
  {
   "cell_type": "code",
   "execution_count": 35,
   "metadata": {
    "collapsed": true
   },
   "outputs": [],
   "source": [
    "library(parallel)"
   ]
  },
  {
   "cell_type": "code",
   "execution_count": 36,
   "metadata": {
    "collapsed": false
   },
   "outputs": [
    {
     "data": {
      "text/html": [
       "<ol class=list-inline>\n",
       "\t<li>1</li>\n",
       "\t<li>2</li>\n",
       "\t<li>3</li>\n",
       "\t<li>4</li>\n",
       "\t<li>5</li>\n",
       "\t<li>6</li>\n",
       "\t<li>7</li>\n",
       "\t<li>8</li>\n",
       "\t<li>9</li>\n",
       "\t<li>10</li>\n",
       "\t<li>11</li>\n",
       "\t<li>12</li>\n",
       "\t<li>13</li>\n",
       "\t<li>14</li>\n",
       "\t<li>15</li>\n",
       "\t<li>16</li>\n",
       "\t<li>17</li>\n",
       "\t<li>18</li>\n",
       "\t<li>19</li>\n",
       "\t<li>20</li>\n",
       "\t<li>21</li>\n",
       "\t<li>22</li>\n",
       "\t<li>23</li>\n",
       "\t<li>24</li>\n",
       "\t<li>25</li>\n",
       "\t<li>26</li>\n",
       "\t<li>27</li>\n",
       "\t<li>28</li>\n",
       "\t<li>29</li>\n",
       "\t<li>30</li>\n",
       "\t<li>100</li>\n",
       "\t<li>400</li>\n",
       "\t<li>700</li>\n",
       "\t<li>1000</li>\n",
       "\t<li>1300</li>\n",
       "\t<li>1600</li>\n",
       "\t<li>1900</li>\n",
       "\t<li>2200</li>\n",
       "</ol>\n"
      ],
      "text/latex": [
       "\\begin{enumerate*}\n",
       "\\item 1\n",
       "\\item 2\n",
       "\\item 3\n",
       "\\item 4\n",
       "\\item 5\n",
       "\\item 6\n",
       "\\item 7\n",
       "\\item 8\n",
       "\\item 9\n",
       "\\item 10\n",
       "\\item 11\n",
       "\\item 12\n",
       "\\item 13\n",
       "\\item 14\n",
       "\\item 15\n",
       "\\item 16\n",
       "\\item 17\n",
       "\\item 18\n",
       "\\item 19\n",
       "\\item 20\n",
       "\\item 21\n",
       "\\item 22\n",
       "\\item 23\n",
       "\\item 24\n",
       "\\item 25\n",
       "\\item 26\n",
       "\\item 27\n",
       "\\item 28\n",
       "\\item 29\n",
       "\\item 30\n",
       "\\item 100\n",
       "\\item 400\n",
       "\\item 700\n",
       "\\item 1000\n",
       "\\item 1300\n",
       "\\item 1600\n",
       "\\item 1900\n",
       "\\item 2200\n",
       "\\end{enumerate*}\n"
      ],
      "text/markdown": [
       "1. 1\n",
       "2. 2\n",
       "3. 3\n",
       "4. 4\n",
       "5. 5\n",
       "6. 6\n",
       "7. 7\n",
       "8. 8\n",
       "9. 9\n",
       "10. 10\n",
       "11. 11\n",
       "12. 12\n",
       "13. 13\n",
       "14. 14\n",
       "15. 15\n",
       "16. 16\n",
       "17. 17\n",
       "18. 18\n",
       "19. 19\n",
       "20. 20\n",
       "21. 21\n",
       "22. 22\n",
       "23. 23\n",
       "24. 24\n",
       "25. 25\n",
       "26. 26\n",
       "27. 27\n",
       "28. 28\n",
       "29. 29\n",
       "30. 30\n",
       "31. 100\n",
       "32. 400\n",
       "33. 700\n",
       "34. 1000\n",
       "35. 1300\n",
       "36. 1600\n",
       "37. 1900\n",
       "38. 2200\n",
       "\n",
       "\n"
      ],
      "text/plain": [
       " [1]    1    2    3    4    5    6    7    8    9   10   11   12   13   14   15\n",
       "[16]   16   17   18   19   20   21   22   23   24   25   26   27   28   29   30\n",
       "[31]  100  400  700 1000 1300 1600 1900 2200"
      ]
     },
     "metadata": {},
     "output_type": "display_data"
    },
    {
     "data": {
      "text/html": [
       "<ol class=list-inline>\n",
       "\t<li>'gravel'</li>\n",
       "\t<li>'constant'</li>\n",
       "</ol>\n"
      ],
      "text/latex": [
       "\\begin{enumerate*}\n",
       "\\item 'gravel'\n",
       "\\item 'constant'\n",
       "\\end{enumerate*}\n"
      ],
      "text/markdown": [
       "1. 'gravel'\n",
       "2. 'constant'\n",
       "\n",
       "\n"
      ],
      "text/plain": [
       "[1] \"gravel\"   \"constant\""
      ]
     },
     "metadata": {},
     "output_type": "display_data"
    },
    {
     "data": {
      "text/html": [
       "'0.5'"
      ],
      "text/latex": [
       "'0.5'"
      ],
      "text/markdown": [
       "'0.5'"
      ],
      "text/plain": [
       "[1] \"0.5\""
      ]
     },
     "metadata": {},
     "output_type": "display_data"
    }
   ],
   "source": [
    "(gens <- c(1:30, seq(100, 2200, 300))) \n",
    "(models <- c(\"gravel\", \"constant\"))\n",
    "(dominances <- c(\"0.5\"))"
   ]
  },
  {
   "cell_type": "code",
   "execution_count": 37,
   "metadata": {
    "collapsed": false
   },
   "outputs": [],
   "source": [
    "combinations <- expand.grid(gen=gens, model=models, h=dominances)"
   ]
  },
  {
   "cell_type": "code",
   "execution_count": 38,
   "metadata": {
    "collapsed": false
   },
   "outputs": [],
   "source": [
    "if (!file.exists(\"../tmp/deleterious_mutation_per_genome.Rds\")) {\n",
    "\n",
    "counts_list <-\n",
    "    mclapply(\n",
    "        1 : nrow(combinations),\n",
    "        function(i) {\n",
    "            model <- combinations[i, \"model\"]\n",
    "            gen <- as.integer(combinations[i, \"gen\"])\n",
    "            h <- combinations[i, \"h\"]\n",
    "\n",
    "            # load the whole SLiM output file first\n",
    "            slim_file <- read_slim_file(file.path(traject_dir,\n",
    "                                                  paste0(model,\n",
    "                                                         \"__h_\",\n",
    "                                                         h,\n",
    "                                                         \"__init_nea_0.1__rep_1__dump_gen_\",\n",
    "                                                         gen,\n",
    "                                                         \".txt\")))\n",
    "\n",
    "            # load Neanderthal- and MH-specific deleterious variants segregating\n",
    "            # in the MH population\n",
    "            nea_muts <- read_mutations(slim_file, \"m0\", \"p2\")\n",
    "            mh_muts <- bind_rows(read_mutations(slim_file, \"m0\", \"p1\", t=50000),\n",
    "                                 read_mutations(slim_file, \"m0\", \"p3\"))\n",
    "\n",
    "            # load tables with IDs of all MH individuals and their genomes\n",
    "            mh_indivs <- read_individuals(slim_file, \"p3\")\n",
    "            mh_genomes <- read_genomes(slim_file, \"p3\")\n",
    "\n",
    "            # match each mutation in each individual genome against its\n",
    "            # selection coefficient and other data\n",
    "            nea_muts_per_genome <- left_join(mh_genomes, nea_muts, by=\"mut_id\")\n",
    "            mh_muts_per_genome <- left_join(mh_genomes, mh_muts, by=\"mut_id\")\n",
    "\n",
    "            nea_mut_count <- group_by(nea_muts_per_genome, genome_id) %>% summarise(count=sum(!is.na(mut_type))) %>% mutate(mutation=\"Nea\")\n",
    "            mh_mut_count <- group_by(mh_muts_per_genome, genome_id) %>% summarise(count=sum(!is.na(mut_type))) %>% mutate(mutation=\"AMH\")\n",
    "\n",
    "            bind_rows(nea_mut_count, mh_mut_count) %>% mutate(gen=gen, model=model, h=h)\n",
    "            \n",
    "        },\n",
    "        mc.cores=40\n",
    "    )\n",
    "\n",
    "counts <- bind_rows(counts_list) %>% mutate(gen=factor(gen))\n",
    "saveRDS(counts, \"../tmp/deleterious_mutation_per_genome.Rds\")\n",
    "\n",
    "} else {\n",
    "    \n",
    "counts <- readRDS(\"../tmp/deleterious_mutation_per_genome.Rds\")\n",
    "\n",
    "}"
   ]
  },
  {
   "cell_type": "code",
   "execution_count": 52,
   "metadata": {
    "collapsed": false
   },
   "outputs": [
    {
     "data": {},
     "metadata": {},
     "output_type": "display_data"
    },
    {
     "data": {
      "image/png": "[encoded data removed]",
      "text/plain": [
       "plot without title"
      ]
     },
     "metadata": {},
     "output_type": "display_data"
    }
   ],
   "source": [
    "options(repr.plot.width=10, repr.plot.height=3)\n",
    "\n",
    "counts %>% filter(model == \"gravel\") %>% \n",
    "group_by(gen, mutation, model) %>% \n",
    "summarise(count=mean(count)) %>%\n",
    "ggplot(aes(gen, count, color=mutation, group=mutation)) +\n",
    "    geom_line() +\n",
    "    ylim(0, 2500) +\n",
    "    facet_grid(model ~ .) +\n",
    "    ggtitle(\"Number of deleterious derived mutations per haploid exome\") +\n",
    "    theme(axis.text.x = element_text(angle = 45, hjust = 1))"
   ]
  },
  {
   "cell_type": "markdown",
   "metadata": {},
   "source": [
    "Mean number of deleterious mutations in each generation:"
   ]
  },
  {
   "cell_type": "code",
   "execution_count": 46,
   "metadata": {
    "collapsed": false
   },
   "outputs": [
    {
     "data": {
      "text/html": [
       "<table>\n",
       "<thead><tr><th scope=col>gen</th><th scope=col>AMH</th><th scope=col>Nea</th></tr></thead>\n",
       "<tbody>\n",
       "\t<tr><td>1        </td><td>2009.941 </td><td>286.29581</td></tr>\n",
       "\t<tr><td>2        </td><td>2097.953 </td><td>175.16846</td></tr>\n",
       "\t<tr><td>3        </td><td>2127.912 </td><td>137.93471</td></tr>\n",
       "\t<tr><td>4        </td><td>2144.164 </td><td>117.43740</td></tr>\n",
       "\t<tr><td>5        </td><td>2146.239 </td><td>114.92638</td></tr>\n",
       "\t<tr><td>6        </td><td>2149.896 </td><td>109.47797</td></tr>\n",
       "\t<tr><td>7        </td><td>2153.194 </td><td>103.55051</td></tr>\n",
       "\t<tr><td>8        </td><td>2155.177 </td><td>102.07818</td></tr>\n",
       "\t<tr><td>9        </td><td>2159.351 </td><td> 98.29957</td></tr>\n",
       "\t<tr><td>10       </td><td>2160.147 </td><td> 98.16577</td></tr>\n",
       "\t<tr><td>11       </td><td>2160.388 </td><td> 97.96695</td></tr>\n",
       "\t<tr><td>12       </td><td>2162.065 </td><td> 95.77620</td></tr>\n",
       "\t<tr><td>13       </td><td>2161.077 </td><td> 96.91161</td></tr>\n",
       "\t<tr><td>14       </td><td>2160.872 </td><td> 96.90785</td></tr>\n",
       "\t<tr><td>15       </td><td>2162.354 </td><td> 96.39441</td></tr>\n",
       "\t<tr><td>16       </td><td>2162.554 </td><td> 96.42370</td></tr>\n",
       "\t<tr><td>17       </td><td>2161.586 </td><td> 96.00484</td></tr>\n",
       "\t<tr><td>18       </td><td>2162.618 </td><td> 95.51236</td></tr>\n",
       "\t<tr><td>19       </td><td>2161.572 </td><td> 95.79044</td></tr>\n",
       "\t<tr><td>20       </td><td>2159.946 </td><td> 96.14052</td></tr>\n",
       "\t<tr><td>21       </td><td>2160.414 </td><td> 95.59807</td></tr>\n",
       "\t<tr><td>22       </td><td>2161.053 </td><td> 94.94788</td></tr>\n",
       "\t<tr><td>23       </td><td>2161.293 </td><td> 94.87668</td></tr>\n",
       "\t<tr><td>24       </td><td>2160.397 </td><td> 95.21682</td></tr>\n",
       "\t<tr><td>25       </td><td>2160.206 </td><td> 95.11768</td></tr>\n",
       "\t<tr><td>26       </td><td>2159.275 </td><td> 95.57818</td></tr>\n",
       "\t<tr><td>27       </td><td>2160.402 </td><td> 95.58839</td></tr>\n",
       "\t<tr><td>28       </td><td>2159.388 </td><td> 94.97340</td></tr>\n",
       "\t<tr><td>29       </td><td>2159.157 </td><td> 95.11311</td></tr>\n",
       "\t<tr><td>30       </td><td>2158.799 </td><td> 95.50349</td></tr>\n",
       "\t<tr><td>100      </td><td>2174.569 </td><td> 89.68404</td></tr>\n",
       "\t<tr><td>400      </td><td>2190.470 </td><td> 79.80602</td></tr>\n",
       "\t<tr><td>700      </td><td>2171.103 </td><td> 80.03305</td></tr>\n",
       "\t<tr><td>1000     </td><td>2194.978 </td><td> 79.77915</td></tr>\n",
       "\t<tr><td>1300     </td><td>2189.530 </td><td> 75.71563</td></tr>\n",
       "\t<tr><td>1600     </td><td>2159.242 </td><td> 74.47314</td></tr>\n",
       "\t<tr><td>1900     </td><td>2172.606 </td><td> 72.99968</td></tr>\n",
       "\t<tr><td>2200     </td><td>2198.988 </td><td> 72.61431</td></tr>\n",
       "</tbody>\n",
       "</table>\n"
      ],
      "text/latex": [
       "\\begin{tabular}{r|lll}\n",
       " gen & AMH & Nea\\\\\n",
       "\\hline\n",
       "\t 1         & 2009.941  & 286.29581\\\\\n",
       "\t 2         & 2097.953  & 175.16846\\\\\n",
       "\t 3         & 2127.912  & 137.93471\\\\\n",
       "\t 4         & 2144.164  & 117.43740\\\\\n",
       "\t 5         & 2146.239  & 114.92638\\\\\n",
       "\t 6         & 2149.896  & 109.47797\\\\\n",
       "\t 7         & 2153.194  & 103.55051\\\\\n",
       "\t 8         & 2155.177  & 102.07818\\\\\n",
       "\t 9         & 2159.351  &  98.29957\\\\\n",
       "\t 10        & 2160.147  &  98.16577\\\\\n",
       "\t 11        & 2160.388  &  97.96695\\\\\n",
       "\t 12        & 2162.065  &  95.77620\\\\\n",
       "\t 13        & 2161.077  &  96.91161\\\\\n",
       "\t 14        & 2160.872  &  96.90785\\\\\n",
       "\t 15        & 2162.354  &  96.39441\\\\\n",
       "\t 16        & 2162.554  &  96.42370\\\\\n",
       "\t 17        & 2161.586  &  96.00484\\\\\n",
       "\t 18        & 2162.618  &  95.51236\\\\\n",
       "\t 19        & 2161.572  &  95.79044\\\\\n",
       "\t 20        & 2159.946  &  96.14052\\\\\n",
       "\t 21        & 2160.414  &  95.59807\\\\\n",
       "\t 22        & 2161.053  &  94.94788\\\\\n",
       "\t 23        & 2161.293  &  94.87668\\\\\n",
       "\t 24        & 2160.397  &  95.21682\\\\\n",
       "\t 25        & 2160.206  &  95.11768\\\\\n",
       "\t 26        & 2159.275  &  95.57818\\\\\n",
       "\t 27        & 2160.402  &  95.58839\\\\\n",
       "\t 28        & 2159.388  &  94.97340\\\\\n",
       "\t 29        & 2159.157  &  95.11311\\\\\n",
       "\t 30        & 2158.799  &  95.50349\\\\\n",
       "\t 100       & 2174.569  &  89.68404\\\\\n",
       "\t 400       & 2190.470  &  79.80602\\\\\n",
       "\t 700       & 2171.103  &  80.03305\\\\\n",
       "\t 1000      & 2194.978  &  79.77915\\\\\n",
       "\t 1300      & 2189.530  &  75.71563\\\\\n",
       "\t 1600      & 2159.242  &  74.47314\\\\\n",
       "\t 1900      & 2172.606  &  72.99968\\\\\n",
       "\t 2200      & 2198.988  &  72.61431\\\\\n",
       "\\end{tabular}\n"
      ],
      "text/markdown": [
       "\n",
       "gen | AMH | Nea | \n",
       "|---|---|---|---|---|---|---|---|---|---|---|---|---|---|---|---|---|---|---|---|---|---|---|---|---|---|---|---|---|---|---|---|---|---|---|---|---|---|\n",
       "| 1         | 2009.941  | 286.29581 | \n",
       "| 2         | 2097.953  | 175.16846 | \n",
       "| 3         | 2127.912  | 137.93471 | \n",
       "| 4         | 2144.164  | 117.43740 | \n",
       "| 5         | 2146.239  | 114.92638 | \n",
       "| 6         | 2149.896  | 109.47797 | \n",
       "| 7         | 2153.194  | 103.55051 | \n",
       "| 8         | 2155.177  | 102.07818 | \n",
       "| 9         | 2159.351  |  98.29957 | \n",
       "| 10        | 2160.147  |  98.16577 | \n",
       "| 11        | 2160.388  |  97.96695 | \n",
       "| 12        | 2162.065  |  95.77620 | \n",
       "| 13        | 2161.077  |  96.91161 | \n",
       "| 14        | 2160.872  |  96.90785 | \n",
       "| 15        | 2162.354  |  96.39441 | \n",
       "| 16        | 2162.554  |  96.42370 | \n",
       "| 17        | 2161.586  |  96.00484 | \n",
       "| 18        | 2162.618  |  95.51236 | \n",
       "| 19        | 2161.572  |  95.79044 | \n",
       "| 20        | 2159.946  |  96.14052 | \n",
       "| 21        | 2160.414  |  95.59807 | \n",
       "| 22        | 2161.053  |  94.94788 | \n",
       "| 23        | 2161.293  |  94.87668 | \n",
       "| 24        | 2160.397  |  95.21682 | \n",
       "| 25        | 2160.206  |  95.11768 | \n",
       "| 26        | 2159.275  |  95.57818 | \n",
       "| 27        | 2160.402  |  95.58839 | \n",
       "| 28        | 2159.388  |  94.97340 | \n",
       "| 29        | 2159.157  |  95.11311 | \n",
       "| 30        | 2158.799  |  95.50349 | \n",
       "| 100       | 2174.569  |  89.68404 | \n",
       "| 400       | 2190.470  |  79.80602 | \n",
       "| 700       | 2171.103  |  80.03305 | \n",
       "| 1000      | 2194.978  |  79.77915 | \n",
       "| 1300      | 2189.530  |  75.71563 | \n",
       "| 1600      | 2159.242  |  74.47314 | \n",
       "| 1900      | 2172.606  |  72.99968 | \n",
       "| 2200      | 2198.988  |  72.61431 | \n",
       "\n",
       "\n"
      ],
      "text/plain": [
       "   gen  AMH      Nea      \n",
       "1  1    2009.941 286.29581\n",
       "2  2    2097.953 175.16846\n",
       "3  3    2127.912 137.93471\n",
       "4  4    2144.164 117.43740\n",
       "5  5    2146.239 114.92638\n",
       "6  6    2149.896 109.47797\n",
       "7  7    2153.194 103.55051\n",
       "8  8    2155.177 102.07818\n",
       "9  9    2159.351  98.29957\n",
       "10 10   2160.147  98.16577\n",
       "11 11   2160.388  97.96695\n",
       "12 12   2162.065  95.77620\n",
       "13 13   2161.077  96.91161\n",
       "14 14   2160.872  96.90785\n",
       "15 15   2162.354  96.39441\n",
       "16 16   2162.554  96.42370\n",
       "17 17   2161.586  96.00484\n",
       "18 18   2162.618  95.51236\n",
       "19 19   2161.572  95.79044\n",
       "20 20   2159.946  96.14052\n",
       "21 21   2160.414  95.59807\n",
       "22 22   2161.053  94.94788\n",
       "23 23   2161.293  94.87668\n",
       "24 24   2160.397  95.21682\n",
       "25 25   2160.206  95.11768\n",
       "26 26   2159.275  95.57818\n",
       "27 27   2160.402  95.58839\n",
       "28 28   2159.388  94.97340\n",
       "29 29   2159.157  95.11311\n",
       "30 30   2158.799  95.50349\n",
       "31 100  2174.569  89.68404\n",
       "32 400  2190.470  79.80602\n",
       "33 700  2171.103  80.03305\n",
       "34 1000 2194.978  79.77915\n",
       "35 1300 2189.530  75.71563\n",
       "36 1600 2159.242  74.47314\n",
       "37 1900 2172.606  72.99968\n",
       "38 2200 2198.988  72.61431"
      ]
     },
     "metadata": {},
     "output_type": "display_data"
    }
   ],
   "source": [
    "group_by(filter(counts, model == \"gravel\"), mutation, gen) %>% summarise(mean=mean(count)) %>% spread(mutation, mean)"
   ]
  },
  {
   "cell_type": "markdown",
   "metadata": {},
   "source": [
    "## Numbers of deleterious mutations in the whole population"
   ]
  },
  {
   "cell_type": "code",
   "execution_count": 61,
   "metadata": {
    "collapsed": true
   },
   "outputs": [],
   "source": [
    "library(parallel)"
   ]
  },
  {
   "cell_type": "code",
   "execution_count": 62,
   "metadata": {
    "collapsed": false
   },
   "outputs": [
    {
     "data": {
      "text/html": [
       "<ol class=list-inline>\n",
       "\t<li>1</li>\n",
       "\t<li>2</li>\n",
       "\t<li>3</li>\n",
       "\t<li>4</li>\n",
       "\t<li>5</li>\n",
       "\t<li>6</li>\n",
       "\t<li>7</li>\n",
       "\t<li>8</li>\n",
       "\t<li>9</li>\n",
       "\t<li>10</li>\n",
       "\t<li>11</li>\n",
       "\t<li>12</li>\n",
       "\t<li>13</li>\n",
       "\t<li>14</li>\n",
       "\t<li>15</li>\n",
       "\t<li>16</li>\n",
       "\t<li>17</li>\n",
       "\t<li>18</li>\n",
       "\t<li>19</li>\n",
       "\t<li>20</li>\n",
       "\t<li>21</li>\n",
       "\t<li>22</li>\n",
       "\t<li>23</li>\n",
       "\t<li>24</li>\n",
       "\t<li>25</li>\n",
       "\t<li>26</li>\n",
       "\t<li>27</li>\n",
       "\t<li>28</li>\n",
       "\t<li>29</li>\n",
       "\t<li>30</li>\n",
       "\t<li>100</li>\n",
       "\t<li>400</li>\n",
       "\t<li>700</li>\n",
       "\t<li>1000</li>\n",
       "\t<li>1300</li>\n",
       "\t<li>1600</li>\n",
       "\t<li>1900</li>\n",
       "\t<li>2200</li>\n",
       "</ol>\n"
      ],
      "text/latex": [
       "\\begin{enumerate*}\n",
       "\\item 1\n",
       "\\item 2\n",
       "\\item 3\n",
       "\\item 4\n",
       "\\item 5\n",
       "\\item 6\n",
       "\\item 7\n",
       "\\item 8\n",
       "\\item 9\n",
       "\\item 10\n",
       "\\item 11\n",
       "\\item 12\n",
       "\\item 13\n",
       "\\item 14\n",
       "\\item 15\n",
       "\\item 16\n",
       "\\item 17\n",
       "\\item 18\n",
       "\\item 19\n",
       "\\item 20\n",
       "\\item 21\n",
       "\\item 22\n",
       "\\item 23\n",
       "\\item 24\n",
       "\\item 25\n",
       "\\item 26\n",
       "\\item 27\n",
       "\\item 28\n",
       "\\item 29\n",
       "\\item 30\n",
       "\\item 100\n",
       "\\item 400\n",
       "\\item 700\n",
       "\\item 1000\n",
       "\\item 1300\n",
       "\\item 1600\n",
       "\\item 1900\n",
       "\\item 2200\n",
       "\\end{enumerate*}\n"
      ],
      "text/markdown": [
       "1. 1\n",
       "2. 2\n",
       "3. 3\n",
       "4. 4\n",
       "5. 5\n",
       "6. 6\n",
       "7. 7\n",
       "8. 8\n",
       "9. 9\n",
       "10. 10\n",
       "11. 11\n",
       "12. 12\n",
       "13. 13\n",
       "14. 14\n",
       "15. 15\n",
       "16. 16\n",
       "17. 17\n",
       "18. 18\n",
       "19. 19\n",
       "20. 20\n",
       "21. 21\n",
       "22. 22\n",
       "23. 23\n",
       "24. 24\n",
       "25. 25\n",
       "26. 26\n",
       "27. 27\n",
       "28. 28\n",
       "29. 29\n",
       "30. 30\n",
       "31. 100\n",
       "32. 400\n",
       "33. 700\n",
       "34. 1000\n",
       "35. 1300\n",
       "36. 1600\n",
       "37. 1900\n",
       "38. 2200\n",
       "\n",
       "\n"
      ],
      "text/plain": [
       " [1]    1    2    3    4    5    6    7    8    9   10   11   12   13   14   15\n",
       "[16]   16   17   18   19   20   21   22   23   24   25   26   27   28   29   30\n",
       "[31]  100  400  700 1000 1300 1600 1900 2200"
      ]
     },
     "metadata": {},
     "output_type": "display_data"
    },
    {
     "data": {
      "text/html": [
       "'gravel'"
      ],
      "text/latex": [
       "'gravel'"
      ],
      "text/markdown": [
       "'gravel'"
      ],
      "text/plain": [
       "[1] \"gravel\""
      ]
     },
     "metadata": {},
     "output_type": "display_data"
    },
    {
     "data": {
      "text/html": [
       "'0.5'"
      ],
      "text/latex": [
       "'0.5'"
      ],
      "text/markdown": [
       "'0.5'"
      ],
      "text/plain": [
       "[1] \"0.5\""
      ]
     },
     "metadata": {},
     "output_type": "display_data"
    }
   ],
   "source": [
    "(gens <- c(1:30, seq(100, 2200, 300))) \n",
    "(models <- c(\"gravel\"))\n",
    "(dominances <- c(\"0.5\"))"
   ]
  },
  {
   "cell_type": "code",
   "execution_count": 63,
   "metadata": {
    "collapsed": false
   },
   "outputs": [],
   "source": [
    "combinations <- expand.grid(gen=gens, model=models, h=dominances)"
   ]
  },
  {
   "cell_type": "code",
   "execution_count": 64,
   "metadata": {
    "collapsed": false
   },
   "outputs": [],
   "source": [
    "counts_list <-\n",
    "    mclapply(\n",
    "        1 : nrow(combinations),\n",
    "        function(i) {\n",
    "            model <- combinations[i, \"model\"]\n",
    "            gen <- as.integer(combinations[i, \"gen\"])\n",
    "            h <- combinations[i, \"h\"]\n",
    "\n",
    "            # load the whole SLiM output file first\n",
    "            slim_file <- read_slim_file(file.path(traject_dir,\n",
    "                                                  paste0(model,\n",
    "                                                         \"__h_\",\n",
    "                                                         h,\n",
    "                                                         \"__init_nea_0.1__rep_1__dump_gen_\",\n",
    "                                                         gen,\n",
    "                                                         \".txt\")))\n",
    "\n",
    "            # load Neanderthal- and MH-specific deleterious variants segregating\n",
    "            # in the MH population\n",
    "            nea_muts <- read_mutations(slim_file, \"m0\", \"p2\")\n",
    "            mh_muts <- bind_rows(read_mutations(slim_file, \"m0\", \"p1\", t=50000),\n",
    "                                 read_mutations(slim_file, \"m0\", \"p3\"))\n",
    "\n",
    "            list(gen=gen,\n",
    "                 model=model,\n",
    "                 nea_count=nrow(nea_muts),\n",
    "                 mh_count=nrow(mh_muts))\n",
    "            \n",
    "        },\n",
    "        mc.cores=40\n",
    "    )"
   ]
  },
  {
   "cell_type": "code",
   "execution_count": 66,
   "metadata": {
    "collapsed": false
   },
   "outputs": [
    {
     "data": {
      "text/html": [
       "<table>\n",
       "<thead><tr><th scope=col>gen</th><th scope=col>model</th><th scope=col>nea_count</th><th scope=col>mh_count</th></tr></thead>\n",
       "<tbody>\n",
       "\t<tr><td>1     </td><td>gravel</td><td>9358  </td><td>63741 </td></tr>\n",
       "\t<tr><td>2     </td><td>gravel</td><td>8001  </td><td>61313 </td></tr>\n",
       "\t<tr><td>3     </td><td>gravel</td><td>7331  </td><td>59083 </td></tr>\n",
       "\t<tr><td>4     </td><td>gravel</td><td>6831  </td><td>57498 </td></tr>\n",
       "\t<tr><td>5     </td><td>gravel</td><td>6468  </td><td>56204 </td></tr>\n",
       "\t<tr><td>6     </td><td>gravel</td><td>6199  </td><td>55132 </td></tr>\n",
       "</tbody>\n",
       "</table>\n"
      ],
      "text/latex": [
       "\\begin{tabular}{r|llll}\n",
       " gen & model & nea\\_count & mh\\_count\\\\\n",
       "\\hline\n",
       "\t 1      & gravel & 9358   & 63741 \\\\\n",
       "\t 2      & gravel & 8001   & 61313 \\\\\n",
       "\t 3      & gravel & 7331   & 59083 \\\\\n",
       "\t 4      & gravel & 6831   & 57498 \\\\\n",
       "\t 5      & gravel & 6468   & 56204 \\\\\n",
       "\t 6      & gravel & 6199   & 55132 \\\\\n",
       "\\end{tabular}\n"
      ],
      "text/markdown": [
       "\n",
       "gen | model | nea_count | mh_count | \n",
       "|---|---|---|---|---|---|\n",
       "| 1      | gravel | 9358   | 63741  | \n",
       "| 2      | gravel | 8001   | 61313  | \n",
       "| 3      | gravel | 7331   | 59083  | \n",
       "| 4      | gravel | 6831   | 57498  | \n",
       "| 5      | gravel | 6468   | 56204  | \n",
       "| 6      | gravel | 6199   | 55132  | \n",
       "\n",
       "\n"
      ],
      "text/plain": [
       "  gen model  nea_count mh_count\n",
       "1 1   gravel 9358      63741   \n",
       "2 2   gravel 8001      61313   \n",
       "3 3   gravel 7331      59083   \n",
       "4 4   gravel 6831      57498   \n",
       "5 5   gravel 6468      56204   \n",
       "6 6   gravel 6199      55132   "
      ]
     },
     "metadata": {},
     "output_type": "display_data"
    },
    {
     "data": {
      "text/html": [
       "<table>\n",
       "<thead><tr><th></th><th scope=col>gen</th><th scope=col>model</th><th scope=col>nea_count</th><th scope=col>mh_count</th></tr></thead>\n",
       "<tbody>\n",
       "\t<tr><th scope=row>33</th><td> 700  </td><td>gravel</td><td>780   </td><td> 25907</td></tr>\n",
       "\t<tr><th scope=row>34</th><td>1000  </td><td>gravel</td><td>558   </td><td> 24741</td></tr>\n",
       "\t<tr><th scope=row>35</th><td>1300  </td><td>gravel</td><td>411   </td><td> 18681</td></tr>\n",
       "\t<tr><th scope=row>36</th><td>1600  </td><td>gravel</td><td>341   </td><td> 34661</td></tr>\n",
       "\t<tr><th scope=row>37</th><td>1900  </td><td>gravel</td><td>320   </td><td> 92860</td></tr>\n",
       "\t<tr><th scope=row>38</th><td>2200  </td><td>gravel</td><td>313   </td><td>275521</td></tr>\n",
       "</tbody>\n",
       "</table>\n"
      ],
      "text/latex": [
       "\\begin{tabular}{r|llll}\n",
       "  & gen & model & nea\\_count & mh\\_count\\\\\n",
       "\\hline\n",
       "\t33 &  700   & gravel & 780    &  25907\\\\\n",
       "\t34 & 1000   & gravel & 558    &  24741\\\\\n",
       "\t35 & 1300   & gravel & 411    &  18681\\\\\n",
       "\t36 & 1600   & gravel & 341    &  34661\\\\\n",
       "\t37 & 1900   & gravel & 320    &  92860\\\\\n",
       "\t38 & 2200   & gravel & 313    & 275521\\\\\n",
       "\\end{tabular}\n"
      ],
      "text/markdown": [
       "\n",
       "| <!--/--> | gen | model | nea_count | mh_count | \n",
       "|---|---|---|---|---|---|\n",
       "| 33 |  700   | gravel | 780    |  25907 | \n",
       "| 34 | 1000   | gravel | 558    |  24741 | \n",
       "| 35 | 1300   | gravel | 411    |  18681 | \n",
       "| 36 | 1600   | gravel | 341    |  34661 | \n",
       "| 37 | 1900   | gravel | 320    |  92860 | \n",
       "| 38 | 2200   | gravel | 313    | 275521 | \n",
       "\n",
       "\n"
      ],
      "text/plain": [
       "   gen  model  nea_count mh_count\n",
       "33  700 gravel 780        25907  \n",
       "34 1000 gravel 558        24741  \n",
       "35 1300 gravel 411        18681  \n",
       "36 1600 gravel 341        34661  \n",
       "37 1900 gravel 320        92860  \n",
       "38 2200 gravel 313       275521  "
      ]
     },
     "metadata": {},
     "output_type": "display_data"
    }
   ],
   "source": [
    "bind_rows(lapply(counts_list, data.frame)) %>% head\n",
    "bind_rows(lapply(counts_list, data.frame)) %>% tail"
   ]
  },
  {
   "cell_type": "code",
   "execution_count": 30,
   "metadata": {
    "collapsed": false
   },
   "outputs": [
    {
     "data": {},
     "metadata": {},
     "output_type": "display_data"
    },
    {
     "data": {
      "image/png": "[encoded data removed]",
      "text/plain": [
       "plot without title"
      ]
     },
     "metadata": {},
     "output_type": "display_data"
    }
   ],
   "source": [
    "options(repr.plot.width=10, repr.plot.height=3)\n",
    "\n",
    "bind_rows(lapply(counts_list, data.frame)) %>% gather(mutation, count, -gen) %>%\n",
    "ggplot(aes(gen, count, color=mutation)) +\n",
    "    geom_line() +\n",
    "    ggtitle(\"Number of deleterious derived mutations in the population\") +\n",
    "    theme(axis.text.x = element_text(angle = 45, hjust = 1))"
   ]
  },
  {
   "cell_type": "markdown",
   "metadata": {
    "collapsed": true
   },
   "source": [
    "### A test of the code on the neutral Nea. mutations\n",
    "\n",
    "This should give the same results as the Nea. trajectory analysis of mean Nea. average ancestries."
   ]
  },
  {
   "cell_type": "code",
   "execution_count": 40,
   "metadata": {
    "collapsed": true
   },
   "outputs": [],
   "source": [
    "library(parallel)"
   ]
  },
  {
   "cell_type": "code",
   "execution_count": 41,
   "metadata": {
    "collapsed": false
   },
   "outputs": [
    {
     "data": {
      "text/html": [
       "<ol class=list-inline>\n",
       "\t<li>1</li>\n",
       "\t<li>2</li>\n",
       "\t<li>3</li>\n",
       "\t<li>4</li>\n",
       "\t<li>5</li>\n",
       "\t<li>6</li>\n",
       "\t<li>7</li>\n",
       "\t<li>8</li>\n",
       "\t<li>9</li>\n",
       "\t<li>10</li>\n",
       "\t<li>11</li>\n",
       "\t<li>12</li>\n",
       "\t<li>13</li>\n",
       "\t<li>14</li>\n",
       "\t<li>15</li>\n",
       "\t<li>16</li>\n",
       "\t<li>17</li>\n",
       "\t<li>18</li>\n",
       "\t<li>19</li>\n",
       "\t<li>20</li>\n",
       "\t<li>21</li>\n",
       "\t<li>22</li>\n",
       "\t<li>23</li>\n",
       "\t<li>24</li>\n",
       "\t<li>25</li>\n",
       "\t<li>26</li>\n",
       "\t<li>27</li>\n",
       "\t<li>28</li>\n",
       "\t<li>29</li>\n",
       "\t<li>30</li>\n",
       "\t<li>100</li>\n",
       "\t<li>400</li>\n",
       "\t<li>700</li>\n",
       "\t<li>1000</li>\n",
       "\t<li>1300</li>\n",
       "\t<li>1600</li>\n",
       "\t<li>1900</li>\n",
       "\t<li>2200</li>\n",
       "</ol>\n"
      ],
      "text/latex": [
       "\\begin{enumerate*}\n",
       "\\item 1\n",
       "\\item 2\n",
       "\\item 3\n",
       "\\item 4\n",
       "\\item 5\n",
       "\\item 6\n",
       "\\item 7\n",
       "\\item 8\n",
       "\\item 9\n",
       "\\item 10\n",
       "\\item 11\n",
       "\\item 12\n",
       "\\item 13\n",
       "\\item 14\n",
       "\\item 15\n",
       "\\item 16\n",
       "\\item 17\n",
       "\\item 18\n",
       "\\item 19\n",
       "\\item 20\n",
       "\\item 21\n",
       "\\item 22\n",
       "\\item 23\n",
       "\\item 24\n",
       "\\item 25\n",
       "\\item 26\n",
       "\\item 27\n",
       "\\item 28\n",
       "\\item 29\n",
       "\\item 30\n",
       "\\item 100\n",
       "\\item 400\n",
       "\\item 700\n",
       "\\item 1000\n",
       "\\item 1300\n",
       "\\item 1600\n",
       "\\item 1900\n",
       "\\item 2200\n",
       "\\end{enumerate*}\n"
      ],
      "text/markdown": [
       "1. 1\n",
       "2. 2\n",
       "3. 3\n",
       "4. 4\n",
       "5. 5\n",
       "6. 6\n",
       "7. 7\n",
       "8. 8\n",
       "9. 9\n",
       "10. 10\n",
       "11. 11\n",
       "12. 12\n",
       "13. 13\n",
       "14. 14\n",
       "15. 15\n",
       "16. 16\n",
       "17. 17\n",
       "18. 18\n",
       "19. 19\n",
       "20. 20\n",
       "21. 21\n",
       "22. 22\n",
       "23. 23\n",
       "24. 24\n",
       "25. 25\n",
       "26. 26\n",
       "27. 27\n",
       "28. 28\n",
       "29. 29\n",
       "30. 30\n",
       "31. 100\n",
       "32. 400\n",
       "33. 700\n",
       "34. 1000\n",
       "35. 1300\n",
       "36. 1600\n",
       "37. 1900\n",
       "38. 2200\n",
       "\n",
       "\n"
      ],
      "text/plain": [
       " [1]    1    2    3    4    5    6    7    8    9   10   11   12   13   14   15\n",
       "[16]   16   17   18   19   20   21   22   23   24   25   26   27   28   29   30\n",
       "[31]  100  400  700 1000 1300 1600 1900 2200"
      ]
     },
     "metadata": {},
     "output_type": "display_data"
    },
    {
     "data": {
      "text/html": [
       "'gravel'"
      ],
      "text/latex": [
       "'gravel'"
      ],
      "text/markdown": [
       "'gravel'"
      ],
      "text/plain": [
       "[1] \"gravel\""
      ]
     },
     "metadata": {},
     "output_type": "display_data"
    },
    {
     "data": {
      "text/html": [
       "'0.5'"
      ],
      "text/latex": [
       "'0.5'"
      ],
      "text/markdown": [
       "'0.5'"
      ],
      "text/plain": [
       "[1] \"0.5\""
      ]
     },
     "metadata": {},
     "output_type": "display_data"
    }
   ],
   "source": [
    "(gens <- c(1:30, seq(100, 2200, 300))) \n",
    "(models <- c(\"gravel\"))\n",
    "(dominances <- c(\"0.5\"))"
   ]
  },
  {
   "cell_type": "code",
   "execution_count": 42,
   "metadata": {
    "collapsed": false
   },
   "outputs": [],
   "source": [
    "combinations <- expand.grid(gen=gens, model=models, h=dominances)"
   ]
  },
  {
   "cell_type": "code",
   "execution_count": 53,
   "metadata": {
    "collapsed": false
   },
   "outputs": [],
   "source": [
    "if (!file.exists(\"../tmp/neutral_mutation_counts.Rds\")) {\n",
    "\n",
    "counts_list <-\n",
    "    mclapply(\n",
    "        1 : nrow(combinations),\n",
    "        function(i) {\n",
    "            model <- combinations[i, \"model\"]\n",
    "            gen <- as.integer(combinations[i, \"gen\"])\n",
    "            h <- combinations[i, \"h\"]\n",
    "\n",
    "            # load the whole SLiM output file first\n",
    "            slim_file <- read_slim_file(file.path(traject_dir,\n",
    "                                                  paste0(model,\n",
    "                                                         \"__h_\",\n",
    "                                                         h,\n",
    "                                                         \"__init_nea_0.1__rep_1__dump_gen_\",\n",
    "                                                         gen,\n",
    "                                                         \".txt\")))\n",
    "\n",
    "            # load Neanderthal- and MH-specific deleterious variants segregating\n",
    "            # in the MH population\n",
    "            nea_muts <- read_mutations(slim_file, \"m2\", \"p2\")\n",
    "\n",
    "            # load tables with IDs of all MH individuals and their genomes\n",
    "            mh_indivs <- read_individuals(slim_file, \"p3\")\n",
    "            mh_genomes <- read_genomes(slim_file, \"p3\")\n",
    "\n",
    "            # match each mutation in each individual genome against its\n",
    "            # selection coefficient and other data\n",
    "            nea_muts_per_genome <- left_join(mh_genomes, nea_muts, by=\"mut_id\")\n",
    "\n",
    "            nea_mut_count <- group_by(nea_muts_per_genome, genome_id) %>% summarise(count=sum(!is.na(mut_type))) %>% mutate(mutation=\"Nea\")\n",
    "\n",
    "            nea_mut_count %>% mutate(gen=gen, model=model, h=h)\n",
    "            \n",
    "        },\n",
    "        mc.cores=40\n",
    "    )\n",
    "\n",
    "counts <- bind_rows(counts_list) %>% mutate(gen=factor(gen))\n",
    "saveRDS(counts, \"../tmp/neutral_mutation_counts.Rds\")\n",
    "\n",
    "} else {\n",
    "    \n",
    "counts <- readRDS(\"../tmp/neutral_mutation_counts.Rds\")\n",
    "\n",
    "}"
   ]
  },
  {
   "cell_type": "code",
   "execution_count": 57,
   "metadata": {
    "collapsed": false
   },
   "outputs": [
    {
     "data": {},
     "metadata": {},
     "output_type": "display_data"
    },
    {
     "data": {
      "image/png": "[encoded data removed]",
      "text/plain": [
       "plot without title"
      ]
     },
     "metadata": {},
     "output_type": "display_data"
    }
   ],
   "source": [
    "options(repr.plot.width=10, repr.plot.height=3)\n",
    "\n",
    "counts %>%\n",
    "group_by(gen) %>% \n",
    "summarise(count=mean(count)) %>%\n",
    "ggplot(aes(gen, count, group=1)) +\n",
    "    geom_line() +\n",
    "    ylim(0, 4100) +\n",
    "    ggtitle(\"Number of Nea. neutral mutations per haploid genome\") +\n",
    "    theme(axis.text.x = element_text(angle = 45, hjust = 1))"
   ]
  },
  {
   "cell_type": "code",
   "execution_count": 59,
   "metadata": {
    "collapsed": false
   },
   "outputs": [
    {
     "data": {},
     "metadata": {},
     "output_type": "display_data"
    },
    {
     "data": {
      "image/png": "[encoded data removed]",
      "text/plain": [
       "plot without title"
      ]
     },
     "metadata": {},
     "output_type": "display_data"
    }
   ],
   "source": [
    "options(repr.plot.width=10, repr.plot.height=3)\n",
    "\n",
    "counts %>%\n",
    "group_by(gen) %>% \n",
    "summarise(count=mean(count / 40000)) %>%\n",
    "ggplot(aes(gen, count, group=1)) +\n",
    "    geom_line() +\n",
    "    ylim(0, 0.12) +\n",
    "    ggtitle(\"Number of Nea. neutral mutations per haploid genome\") +\n",
    "    theme(axis.text.x = element_text(angle = 45, hjust = 1))"
   ]
  }
 ],
 "metadata": {
  "kernelspec": {
   "display_name": "R",
   "language": "R",
   "name": "ir"
  },
  "language_info": {
   "codemirror_mode": "r",
   "file_extension": ".r",
   "mimetype": "text/x-r-source",
   "name": "R",
   "pygments_lexer": "r",
   "version": "3.3.1"
  }
 },
 "nbformat": 4,
 "nbformat_minor": 0
}
