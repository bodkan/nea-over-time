{
 "cells": [
  {
   "cell_type": "code",
   "execution_count": 91,
   "metadata": {
    "collapsed": true
   },
   "outputs": [],
   "source": [
    "import pandas as pd"
   ]
  },
  {
   "cell_type": "code",
   "execution_count": 92,
   "metadata": {
    "collapsed": false
   },
   "outputs": [],
   "source": [
    "recomb_map = pd.read_table('../slim/recombination_map.txt')"
   ]
  },
  {
   "cell_type": "code",
   "execution_count": 93,
   "metadata": {
    "collapsed": false
   },
   "outputs": [
    {
     "data": {
      "text/plain": [
       "1181577"
      ]
     },
     "execution_count": 93,
     "metadata": {},
     "output_type": "execute_result"
    }
   ],
   "source": [
    "len(recomb_map)"
   ]
  },
  {
   "cell_type": "code",
   "execution_count": 94,
   "metadata": {
    "collapsed": false
   },
   "outputs": [],
   "source": [
    "recomb_str = '\\n'.join('{}\\t{}'.format(end, rate)\n",
    "                       for end, rate in zip(recomb_map.slim_end,\n",
    "                                            recomb_map.recomb_rate))"
   ]
  },
  {
   "cell_type": "code",
   "execution_count": 95,
   "metadata": {
    "collapsed": true
   },
   "outputs": [],
   "source": [
    "slim_config = \"\"\"#MUTATION TYPES  \n",
    "m1 0.1 g -0.043 0.23\n",
    "\n",
    "#MUTATION RATE \n",
    "7e-9\n",
    "\n",
    "#GENOMIC ELEMENT TYPES \n",
    "g1 m1 1.0\n",
    "\n",
    "#CHROMOSOME ORGANIZATION\n",
    "g1 1 {last_base}\n",
    "\n",
    "#RECOMBINATION RATE \n",
    "{recomb_map}\n",
    "\n",
    "#GENERATIONS \n",
    "60000\n",
    "\n",
    "#DEMOGRAPHY AND STRUCTURE\n",
    "1 P p1 10000\n",
    "44000 P p2 1000 p1\n",
    "\n",
    "#SEED\n",
    "1346284673\n",
    "\"\"\""
   ]
  },
  {
   "cell_type": "code",
   "execution_count": 96,
   "metadata": {
    "collapsed": false
   },
   "outputs": [],
   "source": [
    "with open('../tmp/old_slim.txt', 'w') as config_file:\n",
    "    print(slim_config.format(last_base=max(recomb_map.slim_end), recomb_map=recomb_str), file=config_file)"
   ]
  }
 ],
 "metadata": {
  "kernelspec": {
   "display_name": "Python 3",
   "language": "python",
   "name": "python3"
  },
  "language_info": {
   "codemirror_mode": {
    "name": "ipython",
    "version": 3
   },
   "file_extension": ".py",
   "mimetype": "text/x-python",
   "name": "python",
   "nbconvert_exporter": "python",
   "pygments_lexer": "ipython3",
   "version": "3.5.1"
  }
 },
 "nbformat": 4,
 "nbformat_minor": 0
}
