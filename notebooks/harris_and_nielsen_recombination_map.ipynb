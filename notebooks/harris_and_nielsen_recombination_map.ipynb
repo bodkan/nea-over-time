{
 "cells": [
  {
   "cell_type": "code",
   "execution_count": 1,
   "metadata": {
    "collapsed": false
   },
   "outputs": [],
   "source": [
    "# \"kelly.map\" is a table extracted from the \"execute_mut_accum_partially_recessive.slim\"\n",
    "# SLiM configuration file\n",
    "recomb_map <- read.table(\"../kelly.map\", col.names=c(\"pos\", \"rate\"))"
   ]
  },
  {
   "cell_type": "code",
   "execution_count": 2,
   "metadata": {
    "collapsed": false
   },
   "outputs": [
    {
     "data": {
      "text/html": [
       "<table>\n",
       "<thead><tr><th></th><th scope=col>pos</th><th scope=col>rate</th></tr></thead>\n",
       "<tbody>\n",
       "\t<tr><th scope=row>1</th><td>7490641</td><td>1e-08</td></tr>\n",
       "\t<tr><th scope=row>2</th><td>7490643</td><td>1.906e-05</td></tr>\n",
       "\t<tr><th scope=row>3</th><td>7491792</td><td>1e-08</td></tr>\n",
       "\t<tr><th scope=row>4</th><td>7491794</td><td>0.000857735</td></tr>\n",
       "\t<tr><th scope=row>5</th><td>7492660</td><td>1e-08</td></tr>\n",
       "\t<tr><th scope=row>6</th><td>7492662</td><td>2.931e-05</td></tr>\n",
       "</tbody>\n",
       "</table>\n"
      ],
      "text/latex": [
       "\\begin{tabular}{r|ll}\n",
       "  & pos & rate\\\\\n",
       "\\hline\n",
       "\t1 & 7490641 & 1e-08\\\\\n",
       "\t2 & 7490643 & 1.906e-05\\\\\n",
       "\t3 & 7491792 & 1e-08\\\\\n",
       "\t4 & 7491794 & 0.000857735\\\\\n",
       "\t5 & 7492660 & 1e-08\\\\\n",
       "\t6 & 7492662 & 2.931e-05\\\\\n",
       "\\end{tabular}\n"
      ],
      "text/plain": [
       "      pos        rate\n",
       "1 7490641 0.000000010\n",
       "2 7490643 0.000019060\n",
       "3 7491792 0.000000010\n",
       "4 7491794 0.000857735\n",
       "5 7492660 0.000000010\n",
       "6 7492662 0.000029310"
      ]
     },
     "execution_count": 2,
     "metadata": {},
     "output_type": "execute_result"
    }
   ],
   "source": [
    "head(recomb_map)"
   ]
  },
  {
   "cell_type": "markdown",
   "metadata": {},
   "source": [
    "### Issue #1\n",
    "Why does the first region end at position 7490641? Based on the recombination map config format required by SLiM this would make the first exon 7490641 bp long."
   ]
  },
  {
   "cell_type": "markdown",
   "metadata": {},
   "source": [
    "### Issue #2\n",
    "\n",
    "#### From the paper\n",
    "\n",
    "> Specifically, for each pair of adjacent exons separated by a gap of b base pairs, we represent this gap as a single base pair with recombination rate b × 10−8 per generation. Similarly, each boundary between two chromosomes is encoded as a single base pair with a recombination rate of 0.5 crossovers per generation."
   ]
  },
  {
   "cell_type": "markdown",
   "metadata": {},
   "source": [
    "#### What is the minimum recombination rate for any region in the map?\n",
    "\n",
    "Based on what's written in the paper, this shouldn't be less than 1e-8 (which corresponds to the recombination rate of a 1 bp \"region\" of the genome)."
   ]
  },
  {
   "cell_type": "code",
   "execution_count": 3,
   "metadata": {
    "collapsed": false
   },
   "outputs": [
    {
     "data": {
      "text/html": [
       "5e-09"
      ],
      "text/latex": [
       "5e-09"
      ],
      "text/markdown": [
       "5e-09"
      ],
      "text/plain": [
       "[1] 5e-09"
      ]
     },
     "execution_count": 3,
     "metadata": {},
     "output_type": "execute_result"
    }
   ],
   "source": [
    "min(recomb_map$rate)"
   ]
  },
  {
   "cell_type": "markdown",
   "metadata": {},
   "source": [
    "How many of such sites are in the recombination map?"
   ]
  },
  {
   "cell_type": "code",
   "execution_count": 4,
   "metadata": {
    "collapsed": false
   },
   "outputs": [
    {
     "data": {
      "text/html": [
       "55"
      ],
      "text/latex": [
       "55"
      ],
      "text/markdown": [
       "55"
      ],
      "text/plain": [
       "[1] 55"
      ]
     },
     "execution_count": 4,
     "metadata": {},
     "output_type": "execute_result"
    }
   ],
   "source": [
    "sum(recomb_map$rate < 1e-8)"
   ]
  },
  {
   "cell_type": "markdown",
   "metadata": {},
   "source": [
    "#### What is the maximum recombination rate for any region in the map?\n",
    "\n",
    "It shouldn't be higher than 0.5, which is the case for alleles that are completely unlinked (e.g. alleles on separate chromosomes that have a 50% chance of recombination).\n",
    "\n",
    "Based on the information from the paper, there should be 21 positions with recombination rate of 0.5 (one for each pair of \"adjacent\" chromosomes)."
   ]
  },
  {
   "cell_type": "code",
   "execution_count": 5,
   "metadata": {
    "collapsed": false
   },
   "outputs": [
    {
     "data": {
      "text/html": [
       "0"
      ],
      "text/latex": [
       "0"
      ],
      "text/markdown": [
       "0"
      ],
      "text/plain": [
       "[1] 0"
      ]
     },
     "execution_count": 5,
     "metadata": {},
     "output_type": "execute_result"
    }
   ],
   "source": [
    "sum(recomb_map$rate > 0.49)"
   ]
  },
  {
   "cell_type": "markdown",
   "metadata": {},
   "source": [
    "There's no region with a recombination rate of 0.5, what's the maximum value then?"
   ]
  },
  {
   "cell_type": "code",
   "execution_count": 6,
   "metadata": {
    "collapsed": false
   },
   "outputs": [
    {
     "data": {
      "text/html": [
       "0.093210565"
      ],
      "text/latex": [
       "0.093210565"
      ],
      "text/markdown": [
       "0.093210565"
      ],
      "text/plain": [
       "[1] 0.09321056"
      ]
     },
     "execution_count": 6,
     "metadata": {},
     "output_type": "execute_result"
    }
   ],
   "source": [
    "max(recomb_map$rate)"
   ]
  }
 ],
 "metadata": {
  "kernelspec": {
   "display_name": "R",
   "language": "R",
   "name": "ir"
  },
  "language_info": {
   "codemirror_mode": "r",
   "file_extension": ".r",
   "mimetype": "text/x-r-source",
   "name": "R",
   "pygments_lexer": "r",
   "version": "3.2.3"
  }
 },
 "nbformat": 4,
 "nbformat_minor": 0
}
