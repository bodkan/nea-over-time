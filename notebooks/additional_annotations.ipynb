{
 "cells": [
  {
   "cell_type": "markdown",
   "metadata": {
    "collapsed": true
   },
   "source": [
    "This notebook processes the `genosnp` file with data from the \"Ice Age\" paper into a sensible table, which can be used by other things than just ADMIXTOOLS etc."
   ]
  },
  {
   "cell_type": "code",
   "execution_count": 1,
   "metadata": {
    "collapsed": true
   },
   "outputs": [],
   "source": [
    "import pandas as pd\n",
    "import numpy as np\n",
    "from pybedtools import BedTool"
   ]
  },
  {
   "cell_type": "code",
   "execution_count": 2,
   "metadata": {
    "collapsed": true
   },
   "outputs": [],
   "source": [
    "import matplotlib.pyplot as plt"
   ]
  },
  {
   "cell_type": "code",
   "execution_count": 3,
   "metadata": {
    "collapsed": true
   },
   "outputs": [],
   "source": [
    "%matplotlib inline\n",
    "\n",
    "plt.style.use('ggplot')"
   ]
  },
  {
   "cell_type": "markdown",
   "metadata": {},
   "source": [
    "### Read the positions of sites from the archaic admixture array"
   ]
  },
  {
   "cell_type": "code",
   "execution_count": 4,
   "metadata": {
    "collapsed": false
   },
   "outputs": [],
   "source": [
    "snp_pos = pd.read_table('../tests/cadd/clean_data/ice_age.tsv')[['chrom', 'pos']]"
   ]
  },
  {
   "cell_type": "code",
   "execution_count": 5,
   "metadata": {
    "collapsed": false
   },
   "outputs": [
    {
     "data": {
      "text/plain": [
       "945357"
      ]
     },
     "execution_count": 5,
     "metadata": {},
     "output_type": "execute_result"
    }
   ],
   "source": [
    "len(snp_pos)"
   ]
  },
  {
   "cell_type": "code",
   "execution_count": 6,
   "metadata": {
    "collapsed": false
   },
   "outputs": [
    {
     "data": {
      "text/html": [
       "<div>\n",
       "<table border=\"1\" class=\"dataframe\">\n",
       "  <thead>\n",
       "    <tr style=\"text-align: right;\">\n",
       "      <th></th>\n",
       "      <th>chrom</th>\n",
       "      <th>pos</th>\n",
       "    </tr>\n",
       "  </thead>\n",
       "  <tbody>\n",
       "    <tr>\n",
       "      <th>0</th>\n",
       "      <td>1</td>\n",
       "      <td>847983</td>\n",
       "    </tr>\n",
       "    <tr>\n",
       "      <th>1</th>\n",
       "      <td>1</td>\n",
       "      <td>853089</td>\n",
       "    </tr>\n",
       "    <tr>\n",
       "      <th>2</th>\n",
       "      <td>1</td>\n",
       "      <td>853596</td>\n",
       "    </tr>\n",
       "    <tr>\n",
       "      <th>3</th>\n",
       "      <td>1</td>\n",
       "      <td>854793</td>\n",
       "    </tr>\n",
       "    <tr>\n",
       "      <th>4</th>\n",
       "      <td>1</td>\n",
       "      <td>858862</td>\n",
       "    </tr>\n",
       "  </tbody>\n",
       "</table>\n",
       "</div>"
      ],
      "text/plain": [
       "   chrom     pos\n",
       "0      1  847983\n",
       "1      1  853089\n",
       "2      1  853596\n",
       "3      1  854793\n",
       "4      1  858862"
      ]
     },
     "execution_count": 6,
     "metadata": {},
     "output_type": "execute_result"
    }
   ],
   "source": [
    "snp_pos.head()"
   ]
  },
  {
   "cell_type": "markdown",
   "metadata": {},
   "source": [
    "# Additional SNP annotations\n",
    "\n",
    "We don't want to rely just on the B value annotations. Since they are used as a measure of proximity to functional regions, how about using a more direct measure of this proximity?\n",
    "\n",
    "* distance to the nearest coding region\n",
    "* amount of coding sequence in a X bp window around each site\n",
    "* phyloP score"
   ]
  },
  {
   "cell_type": "markdown",
   "metadata": {},
   "source": [
    "## Exons"
   ]
  },
  {
   "cell_type": "markdown",
   "metadata": {},
   "source": [
    "Create array sites BED object:"
   ]
  },
  {
   "cell_type": "code",
   "execution_count": 7,
   "metadata": {
    "collapsed": false
   },
   "outputs": [],
   "source": [
    "snp_pos['start'] = snp_pos.pos - 1\n",
    "snp_pos['end'] = snp_pos.pos\n",
    "snp_bed = BedTool.from_dataframe(snp_pos[['chrom', 'start', 'end']]).sort()"
   ]
  },
  {
   "cell_type": "markdown",
   "metadata": {},
   "source": [
    "Download the genome annotations"
   ]
  },
  {
   "cell_type": "code",
   "execution_count": 8,
   "metadata": {
    "collapsed": false
   },
   "outputs": [],
   "source": [
    "gtf = pd.read_table('../tmp/gtf.gz',\n",
    "                    header=None, sep='\\t', skipinitialspace=True, skiprows=5, compression='gzip',\n",
    "                    names=['chrom', 'source', 'feature', 'start', 'end',\n",
    "                           'score', 'strand', 'frame', 'attribute'], low_memory=False)"
   ]
  },
  {
   "cell_type": "code",
   "execution_count": 9,
   "metadata": {
    "collapsed": false,
    "scrolled": true
   },
   "outputs": [
    {
     "data": {
      "text/html": [
       "<div>\n",
       "<table border=\"1\" class=\"dataframe\">\n",
       "  <thead>\n",
       "    <tr style=\"text-align: right;\">\n",
       "      <th></th>\n",
       "      <th>chrom</th>\n",
       "      <th>source</th>\n",
       "      <th>feature</th>\n",
       "      <th>start</th>\n",
       "      <th>end</th>\n",
       "      <th>score</th>\n",
       "      <th>strand</th>\n",
       "      <th>frame</th>\n",
       "      <th>attribute</th>\n",
       "    </tr>\n",
       "  </thead>\n",
       "  <tbody>\n",
       "    <tr>\n",
       "      <th>0</th>\n",
       "      <td>1</td>\n",
       "      <td>pseudogene</td>\n",
       "      <td>gene</td>\n",
       "      <td>11869</td>\n",
       "      <td>14412</td>\n",
       "      <td>.</td>\n",
       "      <td>+</td>\n",
       "      <td>.</td>\n",
       "      <td>gene_id \"ENSG00000223972\"; gene_name \"DDX11L1\"...</td>\n",
       "    </tr>\n",
       "    <tr>\n",
       "      <th>1</th>\n",
       "      <td>1</td>\n",
       "      <td>processed_transcript</td>\n",
       "      <td>transcript</td>\n",
       "      <td>11869</td>\n",
       "      <td>14409</td>\n",
       "      <td>.</td>\n",
       "      <td>+</td>\n",
       "      <td>.</td>\n",
       "      <td>gene_id \"ENSG00000223972\"; transcript_id \"ENST...</td>\n",
       "    </tr>\n",
       "    <tr>\n",
       "      <th>2</th>\n",
       "      <td>1</td>\n",
       "      <td>processed_transcript</td>\n",
       "      <td>exon</td>\n",
       "      <td>11869</td>\n",
       "      <td>12227</td>\n",
       "      <td>.</td>\n",
       "      <td>+</td>\n",
       "      <td>.</td>\n",
       "      <td>gene_id \"ENSG00000223972\"; transcript_id \"ENST...</td>\n",
       "    </tr>\n",
       "    <tr>\n",
       "      <th>3</th>\n",
       "      <td>1</td>\n",
       "      <td>processed_transcript</td>\n",
       "      <td>exon</td>\n",
       "      <td>12613</td>\n",
       "      <td>12721</td>\n",
       "      <td>.</td>\n",
       "      <td>+</td>\n",
       "      <td>.</td>\n",
       "      <td>gene_id \"ENSG00000223972\"; transcript_id \"ENST...</td>\n",
       "    </tr>\n",
       "    <tr>\n",
       "      <th>4</th>\n",
       "      <td>1</td>\n",
       "      <td>processed_transcript</td>\n",
       "      <td>exon</td>\n",
       "      <td>13221</td>\n",
       "      <td>14409</td>\n",
       "      <td>.</td>\n",
       "      <td>+</td>\n",
       "      <td>.</td>\n",
       "      <td>gene_id \"ENSG00000223972\"; transcript_id \"ENST...</td>\n",
       "    </tr>\n",
       "  </tbody>\n",
       "</table>\n",
       "</div>"
      ],
      "text/plain": [
       "  chrom                source     feature  start    end score strand frame  \\\n",
       "0     1            pseudogene        gene  11869  14412     .      +     .   \n",
       "1     1  processed_transcript  transcript  11869  14409     .      +     .   \n",
       "2     1  processed_transcript        exon  11869  12227     .      +     .   \n",
       "3     1  processed_transcript        exon  12613  12721     .      +     .   \n",
       "4     1  processed_transcript        exon  13221  14409     .      +     .   \n",
       "\n",
       "                                           attribute  \n",
       "0  gene_id \"ENSG00000223972\"; gene_name \"DDX11L1\"...  \n",
       "1  gene_id \"ENSG00000223972\"; transcript_id \"ENST...  \n",
       "2  gene_id \"ENSG00000223972\"; transcript_id \"ENST...  \n",
       "3  gene_id \"ENSG00000223972\"; transcript_id \"ENST...  \n",
       "4  gene_id \"ENSG00000223972\"; transcript_id \"ENST...  "
      ]
     },
     "execution_count": 9,
     "metadata": {},
     "output_type": "execute_result"
    }
   ],
   "source": [
    "gtf.head()"
   ]
  },
  {
   "cell_type": "markdown",
   "metadata": {},
   "source": [
    "Subset to exon annotations only and create a BED object"
   ]
  },
  {
   "cell_type": "code",
   "execution_count": 10,
   "metadata": {
    "collapsed": true
   },
   "outputs": [],
   "source": [
    "exons = BedTool.from_dataframe(\n",
    "    gtf[(gtf.source == \"protein_coding\") &\n",
    "        (gtf.feature == \"exon\")].query('end - start > 10')\n",
    ").sort().merge().sort()"
   ]
  },
  {
   "cell_type": "code",
   "execution_count": 11,
   "metadata": {
    "collapsed": false
   },
   "outputs": [
    {
     "data": {
      "text/plain": [
       "81532972"
      ]
     },
     "execution_count": 11,
     "metadata": {},
     "output_type": "execute_result"
    }
   ],
   "source": [
    "exons.total_coverage()"
   ]
  },
  {
   "cell_type": "markdown",
   "metadata": {},
   "source": [
    "### Distance to the nearest exon"
   ]
  },
  {
   "cell_type": "code",
   "execution_count": 12,
   "metadata": {
    "collapsed": false
   },
   "outputs": [],
   "source": [
    "closest = snp_bed.closest(exons, t='first', d=True).to_dataframe()"
   ]
  },
  {
   "cell_type": "code",
   "execution_count": 13,
   "metadata": {
    "collapsed": false
   },
   "outputs": [],
   "source": [
    "snp_pos = snp_pos.merge(closest, on=[\"chrom\", \"start\", \"end\"])[[\"chrom\", \"pos\", \"start\", \"end\", \"thickStart\"]] \\\n",
    "       .rename(columns={\"thickStart\": \"exon_distance\"})"
   ]
  },
  {
   "cell_type": "code",
   "execution_count": 14,
   "metadata": {
    "collapsed": false
   },
   "outputs": [
    {
     "data": {
      "text/html": [
       "<div>\n",
       "<table border=\"1\" class=\"dataframe\">\n",
       "  <thead>\n",
       "    <tr style=\"text-align: right;\">\n",
       "      <th></th>\n",
       "      <th>chrom</th>\n",
       "      <th>pos</th>\n",
       "      <th>start</th>\n",
       "      <th>end</th>\n",
       "      <th>exon_distance</th>\n",
       "    </tr>\n",
       "  </thead>\n",
       "  <tbody>\n",
       "    <tr>\n",
       "      <th>0</th>\n",
       "      <td>1</td>\n",
       "      <td>847983</td>\n",
       "      <td>847982</td>\n",
       "      <td>847983</td>\n",
       "      <td>12277</td>\n",
       "    </tr>\n",
       "    <tr>\n",
       "      <th>1</th>\n",
       "      <td>1</td>\n",
       "      <td>853089</td>\n",
       "      <td>853088</td>\n",
       "      <td>853089</td>\n",
       "      <td>7171</td>\n",
       "    </tr>\n",
       "    <tr>\n",
       "      <th>2</th>\n",
       "      <td>1</td>\n",
       "      <td>853596</td>\n",
       "      <td>853595</td>\n",
       "      <td>853596</td>\n",
       "      <td>6664</td>\n",
       "    </tr>\n",
       "    <tr>\n",
       "      <th>3</th>\n",
       "      <td>1</td>\n",
       "      <td>854793</td>\n",
       "      <td>854792</td>\n",
       "      <td>854793</td>\n",
       "      <td>5467</td>\n",
       "    </tr>\n",
       "    <tr>\n",
       "      <th>4</th>\n",
       "      <td>1</td>\n",
       "      <td>858862</td>\n",
       "      <td>858861</td>\n",
       "      <td>858862</td>\n",
       "      <td>1398</td>\n",
       "    </tr>\n",
       "  </tbody>\n",
       "</table>\n",
       "</div>"
      ],
      "text/plain": [
       "   chrom     pos   start     end  exon_distance\n",
       "0      1  847983  847982  847983          12277\n",
       "1      1  853089  853088  853089           7171\n",
       "2      1  853596  853595  853596           6664\n",
       "3      1  854793  854792  854793           5467\n",
       "4      1  858862  858861  858862           1398"
      ]
     },
     "execution_count": 14,
     "metadata": {},
     "output_type": "execute_result"
    }
   ],
   "source": [
    "snp_pos.head()"
   ]
  },
  {
   "cell_type": "markdown",
   "metadata": {},
   "source": [
    "### Amount of exon sequence in a 20 kb window upstream/downstream of the SNP"
   ]
  },
  {
   "cell_type": "markdown",
   "metadata": {},
   "source": [
    "How far upstream/downstream to extend the window? Window size will be `(2 * flank + 1)` bp."
   ]
  },
  {
   "cell_type": "code",
   "execution_count": 15,
   "metadata": {
    "collapsed": true
   },
   "outputs": [],
   "source": [
    "flank = 10000"
   ]
  },
  {
   "cell_type": "markdown",
   "metadata": {},
   "source": [
    "Generate the BED object of windows flanking both sides of all SNPs:"
   ]
  },
  {
   "cell_type": "code",
   "execution_count": 16,
   "metadata": {
    "collapsed": false
   },
   "outputs": [],
   "source": [
    "snp_windows = snp_bed.slop(b=flank, genome='hg19')"
   ]
  },
  {
   "cell_type": "markdown",
   "metadata": {},
   "source": [
    "For each exon overlapping a given window, count the number of bases of the overlap. One row for each potential exon. If there are no exons overlapping a window, report 0 bp overlap."
   ]
  },
  {
   "cell_type": "code",
   "execution_count": 17,
   "metadata": {
    "collapsed": false
   },
   "outputs": [],
   "source": [
    "exon_overlaps = snp_windows.intersect(exons, wao=True)   \\\n",
    "                           .to_dataframe()[['chrom', 'start', 'end', 'thickStart']]"
   ]
  },
  {
   "cell_type": "code",
   "execution_count": 18,
   "metadata": {
    "collapsed": false
   },
   "outputs": [
    {
     "data": {
      "text/html": [
       "<div>\n",
       "<table border=\"1\" class=\"dataframe\">\n",
       "  <thead>\n",
       "    <tr style=\"text-align: right;\">\n",
       "      <th></th>\n",
       "      <th>chrom</th>\n",
       "      <th>start</th>\n",
       "      <th>end</th>\n",
       "      <th>thickStart</th>\n",
       "    </tr>\n",
       "  </thead>\n",
       "  <tbody>\n",
       "    <tr>\n",
       "      <th>0</th>\n",
       "      <td>1</td>\n",
       "      <td>837982</td>\n",
       "      <td>857983</td>\n",
       "      <td>0</td>\n",
       "    </tr>\n",
       "    <tr>\n",
       "      <th>1</th>\n",
       "      <td>1</td>\n",
       "      <td>843088</td>\n",
       "      <td>863089</td>\n",
       "      <td>69</td>\n",
       "    </tr>\n",
       "    <tr>\n",
       "      <th>2</th>\n",
       "      <td>1</td>\n",
       "      <td>843088</td>\n",
       "      <td>863089</td>\n",
       "      <td>40</td>\n",
       "    </tr>\n",
       "    <tr>\n",
       "      <th>3</th>\n",
       "      <td>1</td>\n",
       "      <td>843088</td>\n",
       "      <td>863089</td>\n",
       "      <td>63</td>\n",
       "    </tr>\n",
       "    <tr>\n",
       "      <th>4</th>\n",
       "      <td>1</td>\n",
       "      <td>843088</td>\n",
       "      <td>863089</td>\n",
       "      <td>143</td>\n",
       "    </tr>\n",
       "  </tbody>\n",
       "</table>\n",
       "</div>"
      ],
      "text/plain": [
       "   chrom   start     end  thickStart\n",
       "0      1  837982  857983           0\n",
       "1      1  843088  863089          69\n",
       "2      1  843088  863089          40\n",
       "3      1  843088  863089          63\n",
       "4      1  843088  863089         143"
      ]
     },
     "execution_count": 18,
     "metadata": {},
     "output_type": "execute_result"
    }
   ],
   "source": [
    "exon_overlaps.head()"
   ]
  },
  {
   "cell_type": "markdown",
   "metadata": {},
   "source": [
    "`thickStart` contains the number of bases overlapping with each exon in a window around each SNP. Summing up these column for each unique region using `groupby` (i.e. window around each SNP) gives the total number of coding sequence surrounding each SNP."
   ]
  },
  {
   "cell_type": "code",
   "execution_count": 19,
   "metadata": {
    "collapsed": false
   },
   "outputs": [],
   "source": [
    "exon_total = exon_overlaps.groupby(['chrom', 'start', 'end'])['thickStart'].sum().reset_index()['thickStart']\n",
    "snp_pos['exon_density'] = exon_total / (2 * flank + 1)"
   ]
  },
  {
   "cell_type": "code",
   "execution_count": 20,
   "metadata": {
    "collapsed": false
   },
   "outputs": [
    {
     "data": {
      "text/html": [
       "<div>\n",
       "<table border=\"1\" class=\"dataframe\">\n",
       "  <thead>\n",
       "    <tr style=\"text-align: right;\">\n",
       "      <th></th>\n",
       "      <th>chrom</th>\n",
       "      <th>pos</th>\n",
       "      <th>start</th>\n",
       "      <th>end</th>\n",
       "      <th>exon_distance</th>\n",
       "      <th>exon_density</th>\n",
       "    </tr>\n",
       "  </thead>\n",
       "  <tbody>\n",
       "    <tr>\n",
       "      <th>0</th>\n",
       "      <td>1</td>\n",
       "      <td>847983</td>\n",
       "      <td>847982</td>\n",
       "      <td>847983</td>\n",
       "      <td>12277</td>\n",
       "      <td>0.000000</td>\n",
       "    </tr>\n",
       "    <tr>\n",
       "      <th>1</th>\n",
       "      <td>1</td>\n",
       "      <td>853089</td>\n",
       "      <td>853088</td>\n",
       "      <td>853089</td>\n",
       "      <td>7171</td>\n",
       "      <td>0.015749</td>\n",
       "    </tr>\n",
       "    <tr>\n",
       "      <th>2</th>\n",
       "      <td>1</td>\n",
       "      <td>853596</td>\n",
       "      <td>853595</td>\n",
       "      <td>853596</td>\n",
       "      <td>6664</td>\n",
       "      <td>0.015749</td>\n",
       "    </tr>\n",
       "    <tr>\n",
       "      <th>3</th>\n",
       "      <td>1</td>\n",
       "      <td>854793</td>\n",
       "      <td>854792</td>\n",
       "      <td>854793</td>\n",
       "      <td>5467</td>\n",
       "      <td>0.015749</td>\n",
       "    </tr>\n",
       "    <tr>\n",
       "      <th>4</th>\n",
       "      <td>1</td>\n",
       "      <td>858862</td>\n",
       "      <td>858861</td>\n",
       "      <td>858862</td>\n",
       "      <td>1398</td>\n",
       "      <td>0.027549</td>\n",
       "    </tr>\n",
       "  </tbody>\n",
       "</table>\n",
       "</div>"
      ],
      "text/plain": [
       "   chrom     pos   start     end  exon_distance  exon_density\n",
       "0      1  847983  847982  847983          12277      0.000000\n",
       "1      1  853089  853088  853089           7171      0.015749\n",
       "2      1  853596  853595  853596           6664      0.015749\n",
       "3      1  854793  854792  854793           5467      0.015749\n",
       "4      1  858862  858861  858862           1398      0.027549"
      ]
     },
     "execution_count": 20,
     "metadata": {},
     "output_type": "execute_result"
    }
   ],
   "source": [
    "snp_pos.head()"
   ]
  },
  {
   "cell_type": "markdown",
   "metadata": {},
   "source": [
    "## phyloP annotation\n",
    "\n",
    "Conservation score calculated without human data (more suitable to study Nea. introgression)."
   ]
  },
  {
   "cell_type": "markdown",
   "metadata": {},
   "source": [
    "Create array sites BED object:"
   ]
  },
  {
   "cell_type": "code",
   "execution_count": 127,
   "metadata": {
    "collapsed": false
   },
   "outputs": [],
   "source": [
    "# chromosome IDs need a 'chr' prefix to match phyloP data\n",
    "snp_pos_with_chr = snp_pos.copy()\n",
    "snp_pos_with_chr['chrom'] = \"chr\" + snp_pos.chrom.astype(str)\n",
    "\n",
    "snp_bed = BedTool.from_dataframe(snp_pos_with_chr[['chrom', 'start', 'end']]).sort()"
   ]
  },
  {
   "cell_type": "markdown",
   "metadata": {},
   "source": [
    "Size of the window around each SNP, in which to calculate average phyloP score:"
   ]
  },
  {
   "cell_type": "code",
   "execution_count": 128,
   "metadata": {
    "collapsed": true
   },
   "outputs": [],
   "source": [
    "WINDOW_SIZE = 1000"
   ]
  },
  {
   "cell_type": "code",
   "execution_count": 129,
   "metadata": {
    "collapsed": false
   },
   "outputs": [],
   "source": [
    "def process_chromosome(chrom, snps, window_size):\n",
    "    phylop = BedTool(\"/mnt/expressions/benjamin_vernot/phyloP_no_human/Compara.36_eutherian_mammals_EPO_LOW_COVERAGE.chr\" + str(chrom) + \"_.phyloP_no_human.SS.bed\")\n",
    "    \n",
    "    # get all sites surrounding each SNP from the archaic admixture array\n",
    "    phylop_windows = snps.window(phylop, w=window_size).to_dataframe()\n",
    "    \n",
    "    # calculate the average phyloP score of each SNP (based on phyloP values in windows around them)\n",
    "    avg_phylop = phylop_windows.groupby(['chrom', 'start', 'end'])['thickStart'].mean().reset_index()\n",
    "    del phylop_windows\n",
    "\n",
    "    # rename the fields to make join with the original archaic admixture array SNP table possible\n",
    "    avg_phylop = avg_phylop.rename(columns={'end': 'pos', 'thickStart': 'phylop_avg'})[['chrom', 'pos', 'phylop_avg']]\n",
    "\n",
    "    # remove the 'chr' prefix of chromosome IDs\n",
    "    avg_phylop.chrom.replace(to_replace='chr', value='', regex=True, inplace=True)\n",
    "    avg_phylop['chrom'] = avg_phylop.astype(int)\n",
    "    \n",
    "    return avg_phylop"
   ]
  },
  {
   "cell_type": "code",
   "execution_count": 130,
   "metadata": {
    "collapsed": false
   },
   "outputs": [],
   "source": [
    "def process_chromosome(chrom, snps, window_size):\n",
    "    \"\"\"Process the given chromosome - calculate average phylop for each SNP,\n",
    "    and also annotate each SNP with it's estimated phylop value. Return both\n",
    "    as a pandas dataframe.\n",
    "    \"\"\"\n",
    "    phylop = BedTool(\"/mnt/expressions/benjamin_vernot/phyloP_no_human/Compara.36_eutherian_mammals_EPO_LOW_COVERAGE.chr\" + str(chrom) + \"_.phyloP_no_human.SS.bed\")\n",
    "    \n",
    "    # get all sites surrounding each SNP from the archaic admixture array\n",
    "    phylop_windows = snps.window(phylop, w=window_size).to_dataframe()\n",
    "    \n",
    "    # calculate the average phyloP score of each SNP (based on phyloP values in windows around them)\n",
    "    phylop_snps = phylop_windows.groupby(['chrom', 'start', 'end'])['thickStart'].mean().reset_index()\n",
    "    del phylop_windows\n",
    "\n",
    "    # rename the fields to make join with the original archaic admixture array SNP table possible\n",
    "    phylop_snps = phylop_snps.rename(columns={'thickStart': 'phylop_avg'})\n",
    "\n",
    "    # get phylop value for each site\n",
    "    phylop_per_site = snps.intersect(phylop, wb=True) \\\n",
    "                          .to_dataframe()[[\"chrom\", \"start\", \"end\", \"thickStart\"]] \\\n",
    "                          .rename(columns={\"thickStart\": \"phylop\"})\n",
    "    \n",
    "    # merge the tables with per-site phylop and phylop averages in windows\n",
    "    phylop_snps = phylop_snps.merge(phylop_per_site,\n",
    "                                    on=[\"chrom\", \"start\", \"end\"])\n",
    "    \n",
    "    # remove the 'chr' prefix of chromosome IDs\n",
    "    phylop_snps.chrom.replace(to_replace='chr', value='', regex=True, inplace=True)\n",
    "    phylop_snps['chrom'] = phylop_snps.astype(int)\n",
    "    \n",
    "    return phylop_snps[['chrom', 'start', 'end', 'phylop', 'phylop_avg']]"
   ]
  },
  {
   "cell_type": "markdown",
   "metadata": {
    "collapsed": true
   },
   "source": [
    "### Process all phyloP BED files in parallel"
   ]
  },
  {
   "cell_type": "code",
   "execution_count": 131,
   "metadata": {
    "collapsed": false
   },
   "outputs": [],
   "source": [
    "import functools\n",
    "\n",
    "# create a partial function used to process a given chromosome's phyloP BED file\n",
    "fn = functools.partial(process_chromosome, snps=snp_bed, window_size=WINDOW_SIZE)"
   ]
  },
  {
   "cell_type": "code",
   "execution_count": 133,
   "metadata": {
    "collapsed": false
   },
   "outputs": [],
   "source": [
    "# shuffle so that the biggest chromosomes are not processed all\n",
    "# at the same time\n",
    "import random\n",
    "chroms = [chrom for chrom in range(1, 23)]\n",
    "random.shuffle(chroms)"
   ]
  },
  {
   "cell_type": "code",
   "execution_count": 135,
   "metadata": {
    "collapsed": false
   },
   "outputs": [],
   "source": [
    "from multiprocessing import Pool\n",
    "\n",
    "# create a pool of 22 workers that will process each chromosome\n",
    "with Pool(processes=11) as pool:\n",
    "    # map the processing function across all chromosomes\n",
    "    phylop_snps_per_chrom = pool.map(fn, chroms)\n",
    "\n",
    "    # concatenate the results into a single dataframe\n",
    "    phylop_snps = pd.concat(phylop_snps_per_chrom)\n",
    "    \n",
    "    # convert to from the BED coordinates into a normal table format\n",
    "    phylop_snps = phylop_snps.rename(columns={\"end\": \"pos\"})[[\"chrom\", \"pos\", \"phylop\", \"phylop_avg\"]]"
   ]
  },
  {
   "cell_type": "markdown",
   "metadata": {},
   "source": [
    "### Join the phyloP averages with the rest of the data"
   ]
  },
  {
   "cell_type": "code",
   "execution_count": 147,
   "metadata": {
    "collapsed": false
   },
   "outputs": [],
   "source": [
    "snp_pos = snp_pos.merge(phylop_snps, on=['chrom', 'pos'])[['chrom', 'pos', 'exon_distance', 'exon_density', 'phylop', 'phylop_avg']]"
   ]
  },
  {
   "cell_type": "code",
   "execution_count": 148,
   "metadata": {
    "collapsed": false,
    "scrolled": true
   },
   "outputs": [
    {
     "data": {
      "text/html": [
       "<div>\n",
       "<table border=\"1\" class=\"dataframe\">\n",
       "  <thead>\n",
       "    <tr style=\"text-align: right;\">\n",
       "      <th></th>\n",
       "      <th>chrom</th>\n",
       "      <th>pos</th>\n",
       "      <th>exon_distance</th>\n",
       "      <th>exon_density</th>\n",
       "      <th>phylop</th>\n",
       "      <th>phylop_avg</th>\n",
       "    </tr>\n",
       "  </thead>\n",
       "  <tbody>\n",
       "    <tr>\n",
       "      <th>0</th>\n",
       "      <td>1</td>\n",
       "      <td>847983</td>\n",
       "      <td>12277</td>\n",
       "      <td>0.000000</td>\n",
       "      <td>1.303</td>\n",
       "      <td>-0.176853</td>\n",
       "    </tr>\n",
       "    <tr>\n",
       "      <th>1</th>\n",
       "      <td>1</td>\n",
       "      <td>853089</td>\n",
       "      <td>7171</td>\n",
       "      <td>0.015749</td>\n",
       "      <td>-0.365</td>\n",
       "      <td>-0.145938</td>\n",
       "    </tr>\n",
       "    <tr>\n",
       "      <th>2</th>\n",
       "      <td>1</td>\n",
       "      <td>853596</td>\n",
       "      <td>6664</td>\n",
       "      <td>0.015749</td>\n",
       "      <td>-0.645</td>\n",
       "      <td>-0.252323</td>\n",
       "    </tr>\n",
       "    <tr>\n",
       "      <th>3</th>\n",
       "      <td>1</td>\n",
       "      <td>854793</td>\n",
       "      <td>5467</td>\n",
       "      <td>0.015749</td>\n",
       "      <td>-1.678</td>\n",
       "      <td>-0.280611</td>\n",
       "    </tr>\n",
       "    <tr>\n",
       "      <th>4</th>\n",
       "      <td>1</td>\n",
       "      <td>858862</td>\n",
       "      <td>1398</td>\n",
       "      <td>0.027549</td>\n",
       "      <td>0.197</td>\n",
       "      <td>-0.157188</td>\n",
       "    </tr>\n",
       "  </tbody>\n",
       "</table>\n",
       "</div>"
      ],
      "text/plain": [
       "   chrom     pos  exon_distance  exon_density  phylop  phylop_avg\n",
       "0      1  847983          12277      0.000000   1.303   -0.176853\n",
       "1      1  853089           7171      0.015749  -0.365   -0.145938\n",
       "2      1  853596           6664      0.015749  -0.645   -0.252323\n",
       "3      1  854793           5467      0.015749  -1.678   -0.280611\n",
       "4      1  858862           1398      0.027549   0.197   -0.157188"
      ]
     },
     "execution_count": 148,
     "metadata": {},
     "output_type": "execute_result"
    }
   ],
   "source": [
    "snp_pos.head()"
   ]
  },
  {
   "cell_type": "markdown",
   "metadata": {},
   "source": [
    "# Output the processed genosnp table in a tab-separated file"
   ]
  },
  {
   "cell_type": "code",
   "execution_count": 149,
   "metadata": {
    "collapsed": false
   },
   "outputs": [],
   "source": [
    "snp_pos.to_csv('../tests/cadd/clean_data/more_annotations.tsv', sep='\\t', index=False, na_rep='-')"
   ]
  }
 ],
 "metadata": {
  "kernelspec": {
   "display_name": "Python 3",
   "language": "python",
   "name": "python3"
  },
  "language_info": {
   "codemirror_mode": {
    "name": "ipython",
    "version": 3
   },
   "file_extension": ".py",
   "mimetype": "text/x-python",
   "name": "python",
   "nbconvert_exporter": "python",
   "pygments_lexer": "ipython3",
   "version": "3.5.2"
  }
 },
 "nbformat": 4,
 "nbformat_minor": 0
}
