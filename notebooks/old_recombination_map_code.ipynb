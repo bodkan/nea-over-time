{
 "cells": [
  {
   "cell_type": "markdown",
   "metadata": {},
   "source": [
    "# Generating SLiM exome recombination maps\n",
    "\n",
    "This notebook generates a recombination map for SLiM that implements a realistic exome structure and includes the positions of sites from the archaic admixture array. It also saves the positions of array sites and coordinates of exons separately."
   ]
  },
  {
   "cell_type": "code",
   "execution_count": 1,
   "metadata": {},
   "outputs": [],
   "source": [
    "from pybedtools import BedTool\n",
    "import pandas as pd\n",
    "import matplotlib.pyplot as plt"
   ]
  },
  {
   "cell_type": "code",
   "execution_count": 2,
   "metadata": {},
   "outputs": [],
   "source": [
    "%matplotlib inline\n",
    "plt.style.use('ggplot')"
   ]
  },
  {
   "cell_type": "code",
   "execution_count": 3,
   "metadata": {},
   "outputs": [],
   "source": [
    "RECOMB_RATE = 1e-8 # crossovers per bp per generation"
   ]
  },
  {
   "cell_type": "markdown",
   "metadata": {},
   "source": [
    "## Exon coordinates processing"
   ]
  },
  {
   "cell_type": "markdown",
   "metadata": {},
   "source": [
    "First download the GTF annotations:"
   ]
  },
  {
   "cell_type": "code",
   "execution_count": 4,
   "metadata": {},
   "outputs": [],
   "source": [
    "recmap = pd.read_table('../data/bed/regions/protein_coding_regions_gap_sites_spacers_recomb_rates.bed', names=[\"chrom\", \"start\", \"end\", \"type\", \"width\", \"length\", \"recomb_rate\", \"xxx\"])[[\"chrom\", \"start\", \"end\", \"length\", \"type\", \"recomb_rate\"]]"
   ]
  },
  {
   "cell_type": "code",
   "execution_count": 5,
   "metadata": {},
   "outputs": [
    {
     "data": {
      "text/html": [
       "<div>\n",
       "<style scoped>\n",
       "    .dataframe tbody tr th:only-of-type {\n",
       "        vertical-align: middle;\n",
       "    }\n",
       "\n",
       "    .dataframe tbody tr th {\n",
       "        vertical-align: top;\n",
       "    }\n",
       "\n",
       "    .dataframe thead th {\n",
       "        text-align: right;\n",
       "    }\n",
       "</style>\n",
       "<table border=\"1\" class=\"dataframe\">\n",
       "  <thead>\n",
       "    <tr style=\"text-align: right;\">\n",
       "      <th></th>\n",
       "      <th>chrom</th>\n",
       "      <th>start</th>\n",
       "      <th>end</th>\n",
       "      <th>length</th>\n",
       "      <th>type</th>\n",
       "      <th>recomb_rate</th>\n",
       "    </tr>\n",
       "  </thead>\n",
       "  <tbody>\n",
       "    <tr>\n",
       "      <th>0</th>\n",
       "      <td>chr1</td>\n",
       "      <td>69090</td>\n",
       "      <td>70008</td>\n",
       "      <td>918</td>\n",
       "      <td>original</td>\n",
       "      <td>2.082414</td>\n",
       "    </tr>\n",
       "    <tr>\n",
       "      <th>1</th>\n",
       "      <td>chr1</td>\n",
       "      <td>70008</td>\n",
       "      <td>138529</td>\n",
       "      <td>68521</td>\n",
       "      <td>spacer</td>\n",
       "      <td>3.017570</td>\n",
       "    </tr>\n",
       "    <tr>\n",
       "      <th>2</th>\n",
       "      <td>chr1</td>\n",
       "      <td>138529</td>\n",
       "      <td>139309</td>\n",
       "      <td>780</td>\n",
       "      <td>original</td>\n",
       "      <td>3.354927</td>\n",
       "    </tr>\n",
       "    <tr>\n",
       "      <th>3</th>\n",
       "      <td>chr1</td>\n",
       "      <td>139309</td>\n",
       "      <td>367658</td>\n",
       "      <td>228349</td>\n",
       "      <td>spacer</td>\n",
       "      <td>3.124309</td>\n",
       "    </tr>\n",
       "    <tr>\n",
       "      <th>4</th>\n",
       "      <td>chr1</td>\n",
       "      <td>367658</td>\n",
       "      <td>368597</td>\n",
       "      <td>939</td>\n",
       "      <td>original</td>\n",
       "      <td>2.887498</td>\n",
       "    </tr>\n",
       "  </tbody>\n",
       "</table>\n",
       "</div>"
      ],
      "text/plain": [
       "  chrom   start     end  length      type  recomb_rate\n",
       "0  chr1   69090   70008     918  original     2.082414\n",
       "1  chr1   70008  138529   68521    spacer     3.017570\n",
       "2  chr1  138529  139309     780  original     3.354927\n",
       "3  chr1  139309  367658  228349    spacer     3.124309\n",
       "4  chr1  367658  368597     939  original     2.887498"
      ]
     },
     "execution_count": 5,
     "metadata": {},
     "output_type": "execute_result"
    }
   ],
   "source": [
    "recmap.head()"
   ]
  },
  {
   "cell_type": "code",
   "execution_count": 6,
   "metadata": {},
   "outputs": [],
   "source": [
    "exons = recmap.query(\"type == 'original'\").query(\"end - start > 1\")[[\"chrom\", \"start\", \"end\"]]"
   ]
  },
  {
   "cell_type": "code",
   "execution_count": 7,
   "metadata": {},
   "outputs": [],
   "source": [
    "exons.chrom.replace(regex=True, to_replace=\"chr\", value=\"\", inplace=True)\n",
    "exons.chrom = exons.chrom.astype(int)\n",
    "exons = exons.sort_values([\"chrom\", \"start\"])"
   ]
  },
  {
   "cell_type": "code",
   "execution_count": 8,
   "metadata": {},
   "outputs": [
    {
     "data": {
      "text/plain": [
       "33741600"
      ]
     },
     "execution_count": 8,
     "metadata": {},
     "output_type": "execute_result"
    }
   ],
   "source": [
    "BedTool.from_dataframe(exons).sort().merge().total_coverage()"
   ]
  },
  {
   "cell_type": "code",
   "execution_count": 9,
   "metadata": {},
   "outputs": [],
   "source": [
    "exons = BedTool.from_dataframe(exons).sort().merge().to_dataframe()"
   ]
  },
  {
   "cell_type": "code",
   "execution_count": 10,
   "metadata": {},
   "outputs": [
    {
     "data": {
      "text/plain": [
       "33741600"
      ]
     },
     "execution_count": 10,
     "metadata": {},
     "output_type": "execute_result"
    }
   ],
   "source": [
    "BedTool.from_dataframe(exons).sort().merge().total_coverage()"
   ]
  },
  {
   "cell_type": "code",
   "execution_count": 11,
   "metadata": {},
   "outputs": [],
   "source": [
    "exons['type'] = 'region'"
   ]
  },
  {
   "cell_type": "code",
   "execution_count": 35,
   "metadata": {},
   "outputs": [
    {
     "data": {
      "text/plain": [
       "200323"
      ]
     },
     "execution_count": 35,
     "metadata": {},
     "output_type": "execute_result"
    }
   ],
   "source": [
    "len(exons)"
   ]
  },
  {
   "cell_type": "markdown",
   "metadata": {},
   "source": [
    "Convert chromosome IDs to integers and sort coordinates:"
   ]
  },
  {
   "cell_type": "code",
   "execution_count": 12,
   "metadata": {},
   "outputs": [],
   "source": [
    "lengths = exons.end - exons.start"
   ]
  },
  {
   "cell_type": "code",
   "execution_count": 13,
   "metadata": {},
   "outputs": [
    {
     "data": {
      "text/plain": [
       "count    200323.000000\n",
       "mean        168.435976\n",
       "std         279.273197\n",
       "min           2.000000\n",
       "25%          82.000000\n",
       "50%         122.000000\n",
       "75%         171.000000\n",
       "max       21693.000000\n",
       "dtype: float64"
      ]
     },
     "execution_count": 13,
     "metadata": {},
     "output_type": "execute_result"
    }
   ],
   "source": [
    "lengths.describe()"
   ]
  },
  {
   "cell_type": "markdown",
   "metadata": {},
   "source": [
    "Specify the recombination rate within exons:"
   ]
  },
  {
   "cell_type": "code",
   "execution_count": 14,
   "metadata": {},
   "outputs": [],
   "source": [
    "exons.loc[exons.type == 'region', 'recomb_rate'] = RECOMB_RATE"
   ]
  },
  {
   "cell_type": "markdown",
   "metadata": {},
   "source": [
    "The modified dataframe:"
   ]
  },
  {
   "cell_type": "code",
   "execution_count": 15,
   "metadata": {},
   "outputs": [
    {
     "data": {
      "text/html": [
       "<div>\n",
       "<style scoped>\n",
       "    .dataframe tbody tr th:only-of-type {\n",
       "        vertical-align: middle;\n",
       "    }\n",
       "\n",
       "    .dataframe tbody tr th {\n",
       "        vertical-align: top;\n",
       "    }\n",
       "\n",
       "    .dataframe thead th {\n",
       "        text-align: right;\n",
       "    }\n",
       "</style>\n",
       "<table border=\"1\" class=\"dataframe\">\n",
       "  <thead>\n",
       "    <tr style=\"text-align: right;\">\n",
       "      <th></th>\n",
       "      <th>chrom</th>\n",
       "      <th>start</th>\n",
       "      <th>end</th>\n",
       "      <th>type</th>\n",
       "      <th>recomb_rate</th>\n",
       "    </tr>\n",
       "  </thead>\n",
       "  <tbody>\n",
       "    <tr>\n",
       "      <th>0</th>\n",
       "      <td>1</td>\n",
       "      <td>69090</td>\n",
       "      <td>70008</td>\n",
       "      <td>region</td>\n",
       "      <td>1.000000e-08</td>\n",
       "    </tr>\n",
       "    <tr>\n",
       "      <th>1</th>\n",
       "      <td>1</td>\n",
       "      <td>138529</td>\n",
       "      <td>139309</td>\n",
       "      <td>region</td>\n",
       "      <td>1.000000e-08</td>\n",
       "    </tr>\n",
       "    <tr>\n",
       "      <th>2</th>\n",
       "      <td>1</td>\n",
       "      <td>367658</td>\n",
       "      <td>368597</td>\n",
       "      <td>region</td>\n",
       "      <td>1.000000e-08</td>\n",
       "    </tr>\n",
       "    <tr>\n",
       "      <th>3</th>\n",
       "      <td>1</td>\n",
       "      <td>621095</td>\n",
       "      <td>622034</td>\n",
       "      <td>region</td>\n",
       "      <td>1.000000e-08</td>\n",
       "    </tr>\n",
       "    <tr>\n",
       "      <th>4</th>\n",
       "      <td>1</td>\n",
       "      <td>738531</td>\n",
       "      <td>738618</td>\n",
       "      <td>region</td>\n",
       "      <td>1.000000e-08</td>\n",
       "    </tr>\n",
       "  </tbody>\n",
       "</table>\n",
       "</div>"
      ],
      "text/plain": [
       "   chrom   start     end    type   recomb_rate\n",
       "0      1   69090   70008  region  1.000000e-08\n",
       "1      1  138529  139309  region  1.000000e-08\n",
       "2      1  367658  368597  region  1.000000e-08\n",
       "3      1  621095  622034  region  1.000000e-08\n",
       "4      1  738531  738618  region  1.000000e-08"
      ]
     },
     "execution_count": 15,
     "metadata": {},
     "output_type": "execute_result"
    }
   ],
   "source": [
    "exons.head()"
   ]
  },
  {
   "cell_type": "markdown",
   "metadata": {},
   "source": [
    "## Process positions from the archaic admixture array"
   ]
  },
  {
   "cell_type": "markdown",
   "metadata": {},
   "source": [
    "Load the coordinates of sites from the archaic admixture array:"
   ]
  },
  {
   "cell_type": "code",
   "execution_count": 16,
   "metadata": {},
   "outputs": [],
   "source": [
    "array_sites = recmap.loc[(recmap.end - recmap.start == 1) & (recmap.type != \"spacer\")][[\"chrom\", \"start\", \"end\"]]"
   ]
  },
  {
   "cell_type": "code",
   "execution_count": 17,
   "metadata": {},
   "outputs": [
    {
     "data": {
      "text/plain": [
       "49990"
      ]
     },
     "execution_count": 17,
     "metadata": {},
     "output_type": "execute_result"
    }
   ],
   "source": [
    "len(array_sites)"
   ]
  },
  {
   "cell_type": "code",
   "execution_count": 18,
   "metadata": {},
   "outputs": [],
   "source": [
    "array_sites.chrom.replace(regex=True, to_replace=\"chr\", value=\"\", inplace=True)\n",
    "array_sites.chrom = array_sites.chrom.astype(int)"
   ]
  },
  {
   "cell_type": "code",
   "execution_count": 19,
   "metadata": {},
   "outputs": [],
   "source": [
    "array_sites = array_sites.sort_values([\"chrom\", \"start\"])"
   ]
  },
  {
   "cell_type": "code",
   "execution_count": 20,
   "metadata": {},
   "outputs": [],
   "source": [
    "array_sites['type'] = 'site'"
   ]
  },
  {
   "cell_type": "code",
   "execution_count": 21,
   "metadata": {},
   "outputs": [
    {
     "data": {
      "text/html": [
       "<div>\n",
       "<style scoped>\n",
       "    .dataframe tbody tr th:only-of-type {\n",
       "        vertical-align: middle;\n",
       "    }\n",
       "\n",
       "    .dataframe tbody tr th {\n",
       "        vertical-align: top;\n",
       "    }\n",
       "\n",
       "    .dataframe thead th {\n",
       "        text-align: right;\n",
       "    }\n",
       "</style>\n",
       "<table border=\"1\" class=\"dataframe\">\n",
       "  <thead>\n",
       "    <tr style=\"text-align: right;\">\n",
       "      <th></th>\n",
       "      <th>chrom</th>\n",
       "      <th>start</th>\n",
       "      <th>end</th>\n",
       "      <th>type</th>\n",
       "    </tr>\n",
       "  </thead>\n",
       "  <tbody>\n",
       "    <tr>\n",
       "      <th>325075</th>\n",
       "      <td>22</td>\n",
       "      <td>50546466</td>\n",
       "      <td>50546467</td>\n",
       "      <td>site</td>\n",
       "    </tr>\n",
       "    <tr>\n",
       "      <th>325157</th>\n",
       "      <td>22</td>\n",
       "      <td>50641435</td>\n",
       "      <td>50641436</td>\n",
       "      <td>site</td>\n",
       "    </tr>\n",
       "    <tr>\n",
       "      <th>325217</th>\n",
       "      <td>22</td>\n",
       "      <td>50666506</td>\n",
       "      <td>50666507</td>\n",
       "      <td>site</td>\n",
       "    </tr>\n",
       "    <tr>\n",
       "      <th>325223</th>\n",
       "      <td>22</td>\n",
       "      <td>50677478</td>\n",
       "      <td>50677479</td>\n",
       "      <td>site</td>\n",
       "    </tr>\n",
       "    <tr>\n",
       "      <th>325747</th>\n",
       "      <td>22</td>\n",
       "      <td>51028230</td>\n",
       "      <td>51028231</td>\n",
       "      <td>site</td>\n",
       "    </tr>\n",
       "  </tbody>\n",
       "</table>\n",
       "</div>"
      ],
      "text/plain": [
       "        chrom     start       end  type\n",
       "325075     22  50546466  50546467  site\n",
       "325157     22  50641435  50641436  site\n",
       "325217     22  50666506  50666507  site\n",
       "325223     22  50677478  50677479  site\n",
       "325747     22  51028230  51028231  site"
      ]
     },
     "execution_count": 21,
     "metadata": {},
     "output_type": "execute_result"
    }
   ],
   "source": [
    "array_sites.tail()"
   ]
  },
  {
   "cell_type": "markdown",
   "metadata": {},
   "source": [
    "## Create a union of exon regions with admixture array informative positions\n",
    "\n",
    "Inter-exon informative sites will be simulated individually, with an appropriate recombination rate set between them and adjacent exons or other informative sites. Intra-exon sites will be ignored when building the recombination map (they will be recombining as a part of the exons)."
   ]
  },
  {
   "cell_type": "markdown",
   "metadata": {},
   "source": [
    "Take the subset of array sites that lie outside exons:"
   ]
  },
  {
   "cell_type": "code",
   "execution_count": 22,
   "metadata": {},
   "outputs": [],
   "source": [
    "exome = BedTool.from_dataframe(exons)\n",
    "sites_outside_exons = BedTool.from_dataframe(array_sites).intersect(exome, v=True).to_dataframe().rename(columns={'name': 'type'})"
   ]
  },
  {
   "cell_type": "code",
   "execution_count": 23,
   "metadata": {},
   "outputs": [],
   "source": [
    "exons_and_sites = pd.concat([sites_outside_exons,\n",
    "                             exons]).sort_values(by=['chrom', 'start']).reset_index(drop=True)\n",
    "exons_and_sites = exons_and_sites[['chrom', 'start', 'end', 'type', 'recomb_rate']]"
   ]
  },
  {
   "cell_type": "code",
   "execution_count": 24,
   "metadata": {},
   "outputs": [
    {
     "data": {
      "text/html": [
       "<div>\n",
       "<style scoped>\n",
       "    .dataframe tbody tr th:only-of-type {\n",
       "        vertical-align: middle;\n",
       "    }\n",
       "\n",
       "    .dataframe tbody tr th {\n",
       "        vertical-align: top;\n",
       "    }\n",
       "\n",
       "    .dataframe thead th {\n",
       "        text-align: right;\n",
       "    }\n",
       "</style>\n",
       "<table border=\"1\" class=\"dataframe\">\n",
       "  <thead>\n",
       "    <tr style=\"text-align: right;\">\n",
       "      <th></th>\n",
       "      <th>chrom</th>\n",
       "      <th>start</th>\n",
       "      <th>end</th>\n",
       "      <th>type</th>\n",
       "      <th>recomb_rate</th>\n",
       "    </tr>\n",
       "  </thead>\n",
       "  <tbody>\n",
       "    <tr>\n",
       "      <th>0</th>\n",
       "      <td>1</td>\n",
       "      <td>69090</td>\n",
       "      <td>70008</td>\n",
       "      <td>region</td>\n",
       "      <td>1.000000e-08</td>\n",
       "    </tr>\n",
       "    <tr>\n",
       "      <th>1</th>\n",
       "      <td>1</td>\n",
       "      <td>138529</td>\n",
       "      <td>139309</td>\n",
       "      <td>region</td>\n",
       "      <td>1.000000e-08</td>\n",
       "    </tr>\n",
       "    <tr>\n",
       "      <th>2</th>\n",
       "      <td>1</td>\n",
       "      <td>367658</td>\n",
       "      <td>368597</td>\n",
       "      <td>region</td>\n",
       "      <td>1.000000e-08</td>\n",
       "    </tr>\n",
       "    <tr>\n",
       "      <th>3</th>\n",
       "      <td>1</td>\n",
       "      <td>621095</td>\n",
       "      <td>622034</td>\n",
       "      <td>region</td>\n",
       "      <td>1.000000e-08</td>\n",
       "    </tr>\n",
       "    <tr>\n",
       "      <th>4</th>\n",
       "      <td>1</td>\n",
       "      <td>738531</td>\n",
       "      <td>738618</td>\n",
       "      <td>region</td>\n",
       "      <td>1.000000e-08</td>\n",
       "    </tr>\n",
       "  </tbody>\n",
       "</table>\n",
       "</div>"
      ],
      "text/plain": [
       "   chrom   start     end    type   recomb_rate\n",
       "0      1   69090   70008  region  1.000000e-08\n",
       "1      1  138529  139309  region  1.000000e-08\n",
       "2      1  367658  368597  region  1.000000e-08\n",
       "3      1  621095  622034  region  1.000000e-08\n",
       "4      1  738531  738618  region  1.000000e-08"
      ]
     },
     "execution_count": 24,
     "metadata": {},
     "output_type": "execute_result"
    }
   ],
   "source": [
    "exons_and_sites.head()"
   ]
  },
  {
   "cell_type": "code",
   "execution_count": 25,
   "metadata": {},
   "outputs": [
    {
     "data": {
      "text/plain": [
       "250313"
      ]
     },
     "execution_count": 25,
     "metadata": {},
     "output_type": "execute_result"
    }
   ],
   "source": [
    "len(exons_and_sites)"
   ]
  },
  {
   "cell_type": "markdown",
   "metadata": {},
   "source": [
    "## Generating the recombination map of exons and archaic admixture array sites"
   ]
  },
  {
   "cell_type": "code",
   "execution_count": 26,
   "metadata": {},
   "outputs": [],
   "source": [
    "AUTOSOMES = [i for i in range(1, 23)]"
   ]
  },
  {
   "cell_type": "code",
   "execution_count": 27,
   "metadata": {},
   "outputs": [],
   "source": [
    "def add_recombination_gaps(regions):\n",
    "    \"\"\"Add 1 bp \"recombination gap\" between each record in\n",
    "    a given DataFrame of exon and snp coordinates.\n",
    "    \"\"\"\n",
    "    # create a new DataFrame with coordinates of 1 bp gaps\n",
    "    gaps = pd.DataFrame({'chrom'       : regions.chrom.values,\n",
    "                         'start'       : regions.end.values,\n",
    "                         'end'         : regions.end.values + 1,\n",
    "                         'recomb_rate' : list(RECOMB_RATE * (regions.start[1:].values -  # between exons/sites\n",
    "                                                             regions.end[:-1].values)) +\n",
    "                                         [0.5], # between chromosomes\n",
    "                         'type'        : 'spacer'},\n",
    "                        columns=['chrom', 'start', 'end', 'recomb_rate', 'type'])\n",
    "\n",
    "    # merge the dataframes of regions and gap coordinates\n",
    "    regions_and_gaps = pd.concat([regions, gaps]).sort_values(by=['chrom', 'start']).reset_index(drop=True)\n",
    "\n",
    "    return regions_and_gaps[['chrom', 'start', 'end', 'type', 'recomb_rate']]\n",
    "\n",
    "\n",
    "def concatenate_regions(regions):\n",
    "    \"\"\"Concatenate regions/sites on all chromosome as if they were\n",
    "    directly adjacent on a single chromosome, changing the coordinates\n",
    "    accordingly.\n",
    "    \"\"\"\n",
    "    concat_regions = regions.copy()\n",
    "\n",
    "    concat_regions['width'] = regions.end - regions.start\n",
    "    concat_regions['slim_start'] = pd.Series([0] + list(concat_regions.width[:-1])).cumsum().values\n",
    "    concat_regions['slim_end'] = concat_regions.width.cumsum() - 1\n",
    "    \n",
    "    return concat_regions\n",
    "\n",
    "\n",
    "def create_recomb_map(regions):\n",
    "    \"\"\"Create recombination map for all regions/sites on all chromosomes.\"\"\"\n",
    "    recomb_map = []\n",
    "\n",
    "    for chrom in AUTOSOMES:\n",
    "        # add recombination gaps between regions on this chromosome\n",
    "        recomb_map.append(add_recombination_gaps(regions.query('chrom == {}'.format(chrom))))\n",
    "        \n",
    "    # concatenate exome recombination maps of all chromosomes\n",
    "    recomb_map = pd.concat(recomb_map, ignore_index=True).sort_values(by=['chrom', 'start']).reset_index(drop=True)\n",
    "\n",
    "    # remove the very last base of the recombination map\n",
    "    # (it has a 0.5 recombination rate anyway and there's no other chromosome\n",
    "    # after it)\n",
    "    recomb_map = recomb_map[:-1]\n",
    "    \n",
    "    return recomb_map"
   ]
  },
  {
   "cell_type": "markdown",
   "metadata": {},
   "source": [
    "Recombination rate between exons and/or informative positions is implemented by inserting a 1 bp \"gap\" between each adjacent region/site and setting the recombination rate at these positions to $L \\times 1\\cdot10^{-8}$ crossovers per generation ($L$ is the distance between exons/sites).\n",
    "\n",
    "The recombination rate of the \"gap\" between the last feature on one chromosome and the first feature on another chromosome will be 0.5."
   ]
  },
  {
   "cell_type": "markdown",
   "metadata": {},
   "source": [
    "Create a recombination map of exons and informative sites:"
   ]
  },
  {
   "cell_type": "code",
   "execution_count": 28,
   "metadata": {},
   "outputs": [],
   "source": [
    "recomb_map = create_recomb_map(exons_and_sites)"
   ]
  },
  {
   "cell_type": "code",
   "execution_count": 29,
   "metadata": {},
   "outputs": [
    {
     "data": {
      "text/html": [
       "<div>\n",
       "<style scoped>\n",
       "    .dataframe tbody tr th:only-of-type {\n",
       "        vertical-align: middle;\n",
       "    }\n",
       "\n",
       "    .dataframe tbody tr th {\n",
       "        vertical-align: top;\n",
       "    }\n",
       "\n",
       "    .dataframe thead th {\n",
       "        text-align: right;\n",
       "    }\n",
       "</style>\n",
       "<table border=\"1\" class=\"dataframe\">\n",
       "  <thead>\n",
       "    <tr style=\"text-align: right;\">\n",
       "      <th></th>\n",
       "      <th>chrom</th>\n",
       "      <th>start</th>\n",
       "      <th>end</th>\n",
       "      <th>type</th>\n",
       "      <th>recomb_rate</th>\n",
       "    </tr>\n",
       "  </thead>\n",
       "  <tbody>\n",
       "    <tr>\n",
       "      <th>0</th>\n",
       "      <td>1</td>\n",
       "      <td>69090</td>\n",
       "      <td>70008</td>\n",
       "      <td>region</td>\n",
       "      <td>1.000000e-08</td>\n",
       "    </tr>\n",
       "    <tr>\n",
       "      <th>1</th>\n",
       "      <td>1</td>\n",
       "      <td>70008</td>\n",
       "      <td>70009</td>\n",
       "      <td>spacer</td>\n",
       "      <td>6.852100e-04</td>\n",
       "    </tr>\n",
       "    <tr>\n",
       "      <th>2</th>\n",
       "      <td>1</td>\n",
       "      <td>138529</td>\n",
       "      <td>139309</td>\n",
       "      <td>region</td>\n",
       "      <td>1.000000e-08</td>\n",
       "    </tr>\n",
       "    <tr>\n",
       "      <th>3</th>\n",
       "      <td>1</td>\n",
       "      <td>139309</td>\n",
       "      <td>139310</td>\n",
       "      <td>spacer</td>\n",
       "      <td>2.283490e-03</td>\n",
       "    </tr>\n",
       "    <tr>\n",
       "      <th>4</th>\n",
       "      <td>1</td>\n",
       "      <td>367658</td>\n",
       "      <td>368597</td>\n",
       "      <td>region</td>\n",
       "      <td>1.000000e-08</td>\n",
       "    </tr>\n",
       "  </tbody>\n",
       "</table>\n",
       "</div>"
      ],
      "text/plain": [
       "   chrom   start     end    type   recomb_rate\n",
       "0      1   69090   70008  region  1.000000e-08\n",
       "1      1   70008   70009  spacer  6.852100e-04\n",
       "2      1  138529  139309  region  1.000000e-08\n",
       "3      1  139309  139310  spacer  2.283490e-03\n",
       "4      1  367658  368597  region  1.000000e-08"
      ]
     },
     "execution_count": 29,
     "metadata": {},
     "output_type": "execute_result"
    }
   ],
   "source": [
    "recomb_map.head()"
   ]
  },
  {
   "cell_type": "markdown",
   "metadata": {},
   "source": [
    "Filter out \"gaps\" between directly adjacent features:"
   ]
  },
  {
   "cell_type": "code",
   "execution_count": 30,
   "metadata": {},
   "outputs": [],
   "source": [
    "recomb_map = recomb_map.query('(type == \"site\") | (recomb_rate > 0)')"
   ]
  },
  {
   "cell_type": "markdown",
   "metadata": {},
   "source": [
    "Convert the coordinates of all regions/sites/gaps into SLiM's 0-based single segment coordinate system:"
   ]
  },
  {
   "cell_type": "code",
   "execution_count": 31,
   "metadata": {},
   "outputs": [],
   "source": [
    "concat_map = concatenate_regions(recomb_map)"
   ]
  },
  {
   "cell_type": "code",
   "execution_count": 32,
   "metadata": {},
   "outputs": [
    {
     "data": {
      "text/html": [
       "<div>\n",
       "<style scoped>\n",
       "    .dataframe tbody tr th:only-of-type {\n",
       "        vertical-align: middle;\n",
       "    }\n",
       "\n",
       "    .dataframe tbody tr th {\n",
       "        vertical-align: top;\n",
       "    }\n",
       "\n",
       "    .dataframe thead th {\n",
       "        text-align: right;\n",
       "    }\n",
       "</style>\n",
       "<table border=\"1\" class=\"dataframe\">\n",
       "  <thead>\n",
       "    <tr style=\"text-align: right;\">\n",
       "      <th></th>\n",
       "      <th>chrom</th>\n",
       "      <th>start</th>\n",
       "      <th>end</th>\n",
       "      <th>type</th>\n",
       "      <th>recomb_rate</th>\n",
       "      <th>width</th>\n",
       "      <th>slim_start</th>\n",
       "      <th>slim_end</th>\n",
       "    </tr>\n",
       "  </thead>\n",
       "  <tbody>\n",
       "    <tr>\n",
       "      <th>0</th>\n",
       "      <td>1</td>\n",
       "      <td>69090</td>\n",
       "      <td>70008</td>\n",
       "      <td>region</td>\n",
       "      <td>1.000000e-08</td>\n",
       "      <td>918</td>\n",
       "      <td>0</td>\n",
       "      <td>917</td>\n",
       "    </tr>\n",
       "    <tr>\n",
       "      <th>1</th>\n",
       "      <td>1</td>\n",
       "      <td>70008</td>\n",
       "      <td>70009</td>\n",
       "      <td>spacer</td>\n",
       "      <td>6.852100e-04</td>\n",
       "      <td>1</td>\n",
       "      <td>918</td>\n",
       "      <td>918</td>\n",
       "    </tr>\n",
       "    <tr>\n",
       "      <th>2</th>\n",
       "      <td>1</td>\n",
       "      <td>138529</td>\n",
       "      <td>139309</td>\n",
       "      <td>region</td>\n",
       "      <td>1.000000e-08</td>\n",
       "      <td>780</td>\n",
       "      <td>919</td>\n",
       "      <td>1698</td>\n",
       "    </tr>\n",
       "    <tr>\n",
       "      <th>3</th>\n",
       "      <td>1</td>\n",
       "      <td>139309</td>\n",
       "      <td>139310</td>\n",
       "      <td>spacer</td>\n",
       "      <td>2.283490e-03</td>\n",
       "      <td>1</td>\n",
       "      <td>1699</td>\n",
       "      <td>1699</td>\n",
       "    </tr>\n",
       "    <tr>\n",
       "      <th>4</th>\n",
       "      <td>1</td>\n",
       "      <td>367658</td>\n",
       "      <td>368597</td>\n",
       "      <td>region</td>\n",
       "      <td>1.000000e-08</td>\n",
       "      <td>939</td>\n",
       "      <td>1700</td>\n",
       "      <td>2638</td>\n",
       "    </tr>\n",
       "  </tbody>\n",
       "</table>\n",
       "</div>"
      ],
      "text/plain": [
       "   chrom   start     end    type   recomb_rate  width  slim_start  slim_end\n",
       "0      1   69090   70008  region  1.000000e-08    918           0       917\n",
       "1      1   70008   70009  spacer  6.852100e-04      1         918       918\n",
       "2      1  138529  139309  region  1.000000e-08    780         919      1698\n",
       "3      1  139309  139310  spacer  2.283490e-03      1        1699      1699\n",
       "4      1  367658  368597  region  1.000000e-08    939        1700      2638"
      ]
     },
     "execution_count": 32,
     "metadata": {},
     "output_type": "execute_result"
    }
   ],
   "source": [
    "concat_map.head()"
   ]
  },
  {
   "cell_type": "code",
   "execution_count": 33,
   "metadata": {},
   "outputs": [
    {
     "data": {
      "text/html": [
       "<div>\n",
       "<style scoped>\n",
       "    .dataframe tbody tr th:only-of-type {\n",
       "        vertical-align: middle;\n",
       "    }\n",
       "\n",
       "    .dataframe tbody tr th {\n",
       "        vertical-align: top;\n",
       "    }\n",
       "\n",
       "    .dataframe thead th {\n",
       "        text-align: right;\n",
       "    }\n",
       "</style>\n",
       "<table border=\"1\" class=\"dataframe\">\n",
       "  <thead>\n",
       "    <tr style=\"text-align: right;\">\n",
       "      <th></th>\n",
       "      <th>chrom</th>\n",
       "      <th>start</th>\n",
       "      <th>end</th>\n",
       "      <th>type</th>\n",
       "      <th>recomb_rate</th>\n",
       "      <th>width</th>\n",
       "      <th>slim_start</th>\n",
       "      <th>slim_end</th>\n",
       "    </tr>\n",
       "  </thead>\n",
       "  <tbody>\n",
       "    <tr>\n",
       "      <th>500620</th>\n",
       "      <td>22</td>\n",
       "      <td>51216379</td>\n",
       "      <td>51216409</td>\n",
       "      <td>region</td>\n",
       "      <td>1.000000e-08</td>\n",
       "      <td>30</td>\n",
       "      <td>34041699</td>\n",
       "      <td>34041728</td>\n",
       "    </tr>\n",
       "    <tr>\n",
       "      <th>500621</th>\n",
       "      <td>22</td>\n",
       "      <td>51216409</td>\n",
       "      <td>51216410</td>\n",
       "      <td>spacer</td>\n",
       "      <td>2.724000e-05</td>\n",
       "      <td>1</td>\n",
       "      <td>34041729</td>\n",
       "      <td>34041729</td>\n",
       "    </tr>\n",
       "    <tr>\n",
       "      <th>500622</th>\n",
       "      <td>22</td>\n",
       "      <td>51219133</td>\n",
       "      <td>51219146</td>\n",
       "      <td>region</td>\n",
       "      <td>1.000000e-08</td>\n",
       "      <td>13</td>\n",
       "      <td>34041730</td>\n",
       "      <td>34041742</td>\n",
       "    </tr>\n",
       "    <tr>\n",
       "      <th>500623</th>\n",
       "      <td>22</td>\n",
       "      <td>51219146</td>\n",
       "      <td>51219147</td>\n",
       "      <td>spacer</td>\n",
       "      <td>1.469000e-05</td>\n",
       "      <td>1</td>\n",
       "      <td>34041743</td>\n",
       "      <td>34041743</td>\n",
       "    </tr>\n",
       "    <tr>\n",
       "      <th>500624</th>\n",
       "      <td>22</td>\n",
       "      <td>51220615</td>\n",
       "      <td>51220722</td>\n",
       "      <td>region</td>\n",
       "      <td>1.000000e-08</td>\n",
       "      <td>107</td>\n",
       "      <td>34041744</td>\n",
       "      <td>34041850</td>\n",
       "    </tr>\n",
       "  </tbody>\n",
       "</table>\n",
       "</div>"
      ],
      "text/plain": [
       "        chrom     start       end    type   recomb_rate  width  slim_start  \\\n",
       "500620     22  51216379  51216409  region  1.000000e-08     30    34041699   \n",
       "500621     22  51216409  51216410  spacer  2.724000e-05      1    34041729   \n",
       "500622     22  51219133  51219146  region  1.000000e-08     13    34041730   \n",
       "500623     22  51219146  51219147  spacer  1.469000e-05      1    34041743   \n",
       "500624     22  51220615  51220722  region  1.000000e-08    107    34041744   \n",
       "\n",
       "        slim_end  \n",
       "500620  34041728  \n",
       "500621  34041729  \n",
       "500622  34041742  \n",
       "500623  34041743  \n",
       "500624  34041850  "
      ]
     },
     "execution_count": 33,
     "metadata": {},
     "output_type": "execute_result"
    }
   ],
   "source": [
    "concat_map.tail()"
   ]
  },
  {
   "cell_type": "markdown",
   "metadata": {},
   "source": [
    "Save the recombination map in a SLiM-friendly format (end-positions of exons and gaps, without the positions of SNPs since they don't have recombination rates themselves):"
   ]
  },
  {
   "cell_type": "code",
   "execution_count": 34,
   "metadata": {},
   "outputs": [],
   "source": [
    "concat_map.query('type != \"site\"').to_csv('../zzz_recmap.txt', sep='\\t', index=False)"
   ]
  },
  {
   "cell_type": "code",
   "execution_count": null,
   "metadata": {},
   "outputs": [],
   "source": []
  },
  {
   "cell_type": "code",
   "execution_count": null,
   "metadata": {},
   "outputs": [],
   "source": []
  },
  {
   "cell_type": "code",
   "execution_count": null,
   "metadata": {},
   "outputs": [],
   "source": []
  },
  {
   "cell_type": "code",
   "execution_count": null,
   "metadata": {},
   "outputs": [],
   "source": []
  },
  {
   "cell_type": "code",
   "execution_count": null,
   "metadata": {},
   "outputs": [],
   "source": []
  },
  {
   "cell_type": "code",
   "execution_count": null,
   "metadata": {},
   "outputs": [],
   "source": []
  },
  {
   "cell_type": "code",
   "execution_count": null,
   "metadata": {},
   "outputs": [],
   "source": []
  },
  {
   "cell_type": "code",
   "execution_count": null,
   "metadata": {},
   "outputs": [],
   "source": []
  },
  {
   "cell_type": "code",
   "execution_count": null,
   "metadata": {},
   "outputs": [],
   "source": []
  },
  {
   "cell_type": "code",
   "execution_count": null,
   "metadata": {},
   "outputs": [],
   "source": []
  },
  {
   "cell_type": "code",
   "execution_count": null,
   "metadata": {},
   "outputs": [],
   "source": []
  },
  {
   "cell_type": "markdown",
   "metadata": {},
   "source": [
    "## Generating recombination map of exons only (ignoring admixture array sites)"
   ]
  },
  {
   "cell_type": "code",
   "execution_count": 35,
   "metadata": {},
   "outputs": [],
   "source": [
    "recomb_map_exons_only = create_recomb_map(exons_and_sites.query('type != \"snp\"'))"
   ]
  },
  {
   "cell_type": "code",
   "execution_count": 36,
   "metadata": {},
   "outputs": [],
   "source": [
    "concat_map_exons_only = concatenate_regions(recomb_map_exons_only)"
   ]
  },
  {
   "cell_type": "code",
   "execution_count": 37,
   "metadata": {},
   "outputs": [
    {
     "ename": "FileNotFoundError",
     "evalue": "[Errno 2] No such file or directory: '../clean_data/exome_only_recombination_map.txt'",
     "output_type": "error",
     "traceback": [
      "\u001b[0;31m---------------------------------------------------------------------------\u001b[0m",
      "\u001b[0;31mFileNotFoundError\u001b[0m                         Traceback (most recent call last)",
      "\u001b[0;32m<ipython-input-37-c5601979ca04>\u001b[0m in \u001b[0;36m<module>\u001b[0;34m()\u001b[0m\n\u001b[0;32m----> 1\u001b[0;31m \u001b[0mconcat_map_exons_only\u001b[0m\u001b[0;34m[\u001b[0m\u001b[0;34m[\u001b[0m\u001b[0;34m'slim_end'\u001b[0m\u001b[0;34m,\u001b[0m \u001b[0;34m'recomb_rate'\u001b[0m\u001b[0;34m]\u001b[0m\u001b[0;34m]\u001b[0m\u001b[0;34m.\u001b[0m\u001b[0mto_csv\u001b[0m\u001b[0;34m(\u001b[0m\u001b[0;34m'../clean_data/exome_only_recombination_map.txt'\u001b[0m\u001b[0;34m,\u001b[0m \u001b[0msep\u001b[0m\u001b[0;34m=\u001b[0m\u001b[0;34m'\\t'\u001b[0m\u001b[0;34m,\u001b[0m \u001b[0mindex\u001b[0m\u001b[0;34m=\u001b[0m\u001b[0;32mFalse\u001b[0m\u001b[0;34m)\u001b[0m\u001b[0;34m\u001b[0m\u001b[0m\n\u001b[0m",
      "\u001b[0;32m~/.pyenv/versions/3.6.2/lib/python3.6/site-packages/pandas/core/frame.py\u001b[0m in \u001b[0;36mto_csv\u001b[0;34m(self, path_or_buf, sep, na_rep, float_format, columns, header, index, index_label, mode, encoding, compression, quoting, quotechar, line_terminator, chunksize, tupleize_cols, date_format, doublequote, escapechar, decimal)\u001b[0m\n\u001b[1;32m   1522\u001b[0m                                      \u001b[0mdoublequote\u001b[0m\u001b[0;34m=\u001b[0m\u001b[0mdoublequote\u001b[0m\u001b[0;34m,\u001b[0m\u001b[0;34m\u001b[0m\u001b[0m\n\u001b[1;32m   1523\u001b[0m                                      escapechar=escapechar, decimal=decimal)\n\u001b[0;32m-> 1524\u001b[0;31m         \u001b[0mformatter\u001b[0m\u001b[0;34m.\u001b[0m\u001b[0msave\u001b[0m\u001b[0;34m(\u001b[0m\u001b[0;34m)\u001b[0m\u001b[0;34m\u001b[0m\u001b[0m\n\u001b[0m\u001b[1;32m   1525\u001b[0m \u001b[0;34m\u001b[0m\u001b[0m\n\u001b[1;32m   1526\u001b[0m         \u001b[0;32mif\u001b[0m \u001b[0mpath_or_buf\u001b[0m \u001b[0;32mis\u001b[0m \u001b[0;32mNone\u001b[0m\u001b[0;34m:\u001b[0m\u001b[0;34m\u001b[0m\u001b[0m\n",
      "\u001b[0;32m~/.pyenv/versions/3.6.2/lib/python3.6/site-packages/pandas/io/formats/format.py\u001b[0m in \u001b[0;36msave\u001b[0;34m(self)\u001b[0m\n\u001b[1;32m   1627\u001b[0m             f, handles = _get_handle(self.path_or_buf, self.mode,\n\u001b[1;32m   1628\u001b[0m                                      \u001b[0mencoding\u001b[0m\u001b[0;34m=\u001b[0m\u001b[0mencoding\u001b[0m\u001b[0;34m,\u001b[0m\u001b[0;34m\u001b[0m\u001b[0m\n\u001b[0;32m-> 1629\u001b[0;31m                                      compression=self.compression)\n\u001b[0m\u001b[1;32m   1630\u001b[0m             \u001b[0mclose\u001b[0m \u001b[0;34m=\u001b[0m \u001b[0;32mTrue\u001b[0m\u001b[0;34m\u001b[0m\u001b[0m\n\u001b[1;32m   1631\u001b[0m \u001b[0;34m\u001b[0m\u001b[0m\n",
      "\u001b[0;32m~/.pyenv/versions/3.6.2/lib/python3.6/site-packages/pandas/io/common.py\u001b[0m in \u001b[0;36m_get_handle\u001b[0;34m(path_or_buf, mode, encoding, compression, memory_map, is_text)\u001b[0m\n\u001b[1;32m    388\u001b[0m         \u001b[0;32melif\u001b[0m \u001b[0mencoding\u001b[0m\u001b[0;34m:\u001b[0m\u001b[0;34m\u001b[0m\u001b[0m\n\u001b[1;32m    389\u001b[0m             \u001b[0;31m# Python 3 and encoding\u001b[0m\u001b[0;34m\u001b[0m\u001b[0;34m\u001b[0m\u001b[0m\n\u001b[0;32m--> 390\u001b[0;31m             \u001b[0mf\u001b[0m \u001b[0;34m=\u001b[0m \u001b[0mopen\u001b[0m\u001b[0;34m(\u001b[0m\u001b[0mpath_or_buf\u001b[0m\u001b[0;34m,\u001b[0m \u001b[0mmode\u001b[0m\u001b[0;34m,\u001b[0m \u001b[0mencoding\u001b[0m\u001b[0;34m=\u001b[0m\u001b[0mencoding\u001b[0m\u001b[0;34m)\u001b[0m\u001b[0;34m\u001b[0m\u001b[0m\n\u001b[0m\u001b[1;32m    391\u001b[0m         \u001b[0;32melif\u001b[0m \u001b[0mis_text\u001b[0m\u001b[0;34m:\u001b[0m\u001b[0;34m\u001b[0m\u001b[0m\n\u001b[1;32m    392\u001b[0m             \u001b[0;31m# Python 3 and no explicit encoding\u001b[0m\u001b[0;34m\u001b[0m\u001b[0;34m\u001b[0m\u001b[0m\n",
      "\u001b[0;31mFileNotFoundError\u001b[0m: [Errno 2] No such file or directory: '../clean_data/exome_only_recombination_map.txt'"
     ]
    }
   ],
   "source": [
    "concat_map_exons_only[['slim_end', 'recomb_rate']].to_csv('../clean_data/exome_only_recombination_map.txt', sep='\\t', index=False)"
   ]
  },
  {
   "cell_type": "code",
   "execution_count": null,
   "metadata": {},
   "outputs": [],
   "source": [
    "concat_map_exons_only.tail()"
   ]
  },
  {
   "cell_type": "markdown",
   "metadata": {},
   "source": [
    "## Save SLiM coordinates of exons only (ignoring admixture array sites)"
   ]
  },
  {
   "cell_type": "code",
   "execution_count": null,
   "metadata": {},
   "outputs": [],
   "source": [
    "concat_map_exons_only.query('type == \"exon\"')[['slim_start', 'slim_end']].to_csv('../clean_data/exome_only_exon_coordinates.txt', sep='\\t', index=False)"
   ]
  },
  {
   "cell_type": "markdown",
   "metadata": {},
   "source": [
    "<br><br><br>\n",
    "## Save SLiM coordinates of all sites from the archaic admixture array\n",
    "\n",
    "Recombination map includes only positions of sites that fall outside of exonic regions. However, in order to simulate the sites from the archaic admixture array, we have to know the positions of sites _within_ exons too.\n",
    "\n",
    "SLiM simulates all exons and individual sites as one continuous segment of concatenated regions, with coordinates of exons and sites shifted appropriately. To obtain the coordinates of array sites within exons, we need to find out, for each site, which exon does it fall in and calculate its position relative to the start of that exon."
   ]
  },
  {
   "cell_type": "markdown",
   "metadata": {},
   "source": [
    "Take the subset of array sites that lie inside exons:"
   ]
  },
  {
   "cell_type": "code",
   "execution_count": 39,
   "metadata": {
    "collapsed": true
   },
   "outputs": [],
   "source": [
    "sites_within_exons = BedTool.from_dataframe(array_sites).intersect(exome).to_dataframe()"
   ]
  },
  {
   "cell_type": "code",
   "execution_count": 40,
   "metadata": {},
   "outputs": [],
   "source": [
    "sites_within_exons = sites_within_exons.rename(columns={'name': 'type'})"
   ]
  },
  {
   "cell_type": "markdown",
   "metadata": {},
   "source": [
    "Get a DataFrame of the coordinates of exons that contain a site from the admixture array (will contain multiple copies of one exon if more than one site falls within that exon):"
   ]
  },
  {
   "cell_type": "code",
   "execution_count": 41,
   "metadata": {},
   "outputs": [],
   "source": [
    "exons_with_sites = BedTool.from_dataframe(concat_map.query('type == \"exon\"')).intersect(BedTool.from_dataframe(sites_within_exons), wa=True).to_dataframe()\n",
    "\n",
    "\n",
    "# rename and subset columns\n",
    "exons_with_sites = exons_with_sites.rename(columns={'name': 'type',\n",
    "                                                    'score': 'recomb_rate',\n",
    "                                                    'strand': 'width',\n",
    "                                                    'thickStart': 'slim_start',\n",
    "                                                    'thickEnd': 'slim_end'})[['chrom', 'start', 'end', 'type', 'recomb_rate', 'width', 'slim_start', 'slim_end']]"
   ]
  },
  {
   "cell_type": "markdown",
   "metadata": {},
   "source": [
    "Calculate the position of each site relative to the start of \"its\" exon and convert this position into a SLiM single-segment coordinate (i.e. relative the the position 0 of the simulated segment):"
   ]
  },
  {
   "cell_type": "code",
   "execution_count": 42,
   "metadata": {},
   "outputs": [],
   "source": [
    "sites_within_exons['width'] = 1\n",
    "sites_within_exons['slim_start'] = sites_within_exons.start - exons_with_sites.start + exons_with_sites.slim_start\n",
    "sites_within_exons['slim_end'] = sites_within_exons.slim_start"
   ]
  },
  {
   "cell_type": "markdown",
   "metadata": {},
   "source": [
    "Output the coordinates of subsampled sites:"
   ]
  },
  {
   "cell_type": "code",
   "execution_count": 43,
   "metadata": {
    "collapsed": true
   },
   "outputs": [],
   "source": [
    "subsampled_exonic_sites = sites_within_exons.sample(10000).sort_values(by=['slim_start']).reset_index(drop=True)"
   ]
  },
  {
   "cell_type": "code",
   "execution_count": 44,
   "metadata": {
    "collapsed": true
   },
   "outputs": [],
   "source": [
    "subsampled_exonic_sites['slim_start'].to_csv('../clean_data/admixture_array_coordinates_exonic.txt', index=False)\n",
    "concat_map.query('type == \"snp\"')['slim_start'].to_csv('../clean_data/admixture_array_coordinates_nonexonic.txt', index=False)"
   ]
  },
  {
   "cell_type": "markdown",
   "metadata": {},
   "source": [
    "## Save SLiM coordinates of exonic regions only\n",
    "\n",
    "This is required for specification for the `initializeGenomicElement` function in SLiM."
   ]
  },
  {
   "cell_type": "code",
   "execution_count": 45,
   "metadata": {},
   "outputs": [],
   "source": [
    "concat_map.query('type == \"exon\"')[['slim_start', 'slim_end']].to_csv('../clean_data/exome_and_sites_exon_coordinates.txt', sep='\\t', index=False)"
   ]
  }
 ],
 "metadata": {
  "kernelspec": {
   "display_name": "Python 3",
   "language": "python",
   "name": "python3"
  },
  "language_info": {
   "codemirror_mode": {
    "name": "ipython",
    "version": 3
   },
   "file_extension": ".py",
   "mimetype": "text/x-python",
   "name": "python",
   "nbconvert_exporter": "python",
   "pygments_lexer": "ipython3",
   "version": "3.6.2"
  }
 },
 "nbformat": 4,
 "nbformat_minor": 1
}
