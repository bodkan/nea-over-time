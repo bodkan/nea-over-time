{
 "cells": [
  {
   "cell_type": "markdown",
   "metadata": {},
   "source": [
    "# Generating SLiM exome recombination map with admixture array sites"
   ]
  },
  {
   "cell_type": "code",
   "execution_count": 1,
   "metadata": {
    "collapsed": true
   },
   "outputs": [],
   "source": [
    "from pybedtools import BedTool\n",
    "import pandas as pd\n",
    "import matplotlib.pyplot as plt"
   ]
  },
  {
   "cell_type": "code",
   "execution_count": 2,
   "metadata": {
    "collapsed": true
   },
   "outputs": [],
   "source": [
    "%matplotlib inline\n",
    "plt.style.use('ggplot')"
   ]
  },
  {
   "cell_type": "code",
   "execution_count": 3,
   "metadata": {
    "collapsed": true
   },
   "outputs": [],
   "source": [
    "RECOMB_RATE = 1e-8 # crossovers per bp per generation"
   ]
  },
  {
   "cell_type": "markdown",
   "metadata": {},
   "source": [
    "## Exon coordinates processing"
   ]
  },
  {
   "cell_type": "markdown",
   "metadata": {},
   "source": [
    "First download the GTF annotations:"
   ]
  },
  {
   "cell_type": "code",
   "execution_count": 4,
   "metadata": {
    "collapsed": false
   },
   "outputs": [],
   "source": [
    "gtf = pd.read_table('ftp://ftp.ensembl.org/pub/release-75/gtf/homo_sapiens/Homo_sapiens.GRCh37.75.gtf.gz',\n",
    "                    header=None, sep='\\t', skipinitialspace=True, skiprows=5, compression='gzip',\n",
    "                    names=['chrom', 'source', 'feature', 'start', 'end',\n",
    "                           'score', 'strand', 'frame', 'attribute'], low_memory=False)"
   ]
  },
  {
   "cell_type": "markdown",
   "metadata": {},
   "source": [
    "How does the data look like?"
   ]
  },
  {
   "cell_type": "code",
   "execution_count": 5,
   "metadata": {
    "collapsed": false
   },
   "outputs": [
    {
     "data": {
      "text/html": [
       "<div>\n",
       "<table border=\"1\" class=\"dataframe\">\n",
       "  <thead>\n",
       "    <tr style=\"text-align: right;\">\n",
       "      <th></th>\n",
       "      <th>chrom</th>\n",
       "      <th>source</th>\n",
       "      <th>feature</th>\n",
       "      <th>start</th>\n",
       "      <th>end</th>\n",
       "      <th>score</th>\n",
       "      <th>strand</th>\n",
       "      <th>frame</th>\n",
       "      <th>attribute</th>\n",
       "    </tr>\n",
       "  </thead>\n",
       "  <tbody>\n",
       "    <tr>\n",
       "      <th>0</th>\n",
       "      <td>1</td>\n",
       "      <td>pseudogene</td>\n",
       "      <td>gene</td>\n",
       "      <td>11869</td>\n",
       "      <td>14412</td>\n",
       "      <td>.</td>\n",
       "      <td>+</td>\n",
       "      <td>.</td>\n",
       "      <td>gene_id \"ENSG00000223972\"; gene_name \"DDX11L1\"...</td>\n",
       "    </tr>\n",
       "    <tr>\n",
       "      <th>1</th>\n",
       "      <td>1</td>\n",
       "      <td>processed_transcript</td>\n",
       "      <td>transcript</td>\n",
       "      <td>11869</td>\n",
       "      <td>14409</td>\n",
       "      <td>.</td>\n",
       "      <td>+</td>\n",
       "      <td>.</td>\n",
       "      <td>gene_id \"ENSG00000223972\"; transcript_id \"ENST...</td>\n",
       "    </tr>\n",
       "    <tr>\n",
       "      <th>2</th>\n",
       "      <td>1</td>\n",
       "      <td>processed_transcript</td>\n",
       "      <td>exon</td>\n",
       "      <td>11869</td>\n",
       "      <td>12227</td>\n",
       "      <td>.</td>\n",
       "      <td>+</td>\n",
       "      <td>.</td>\n",
       "      <td>gene_id \"ENSG00000223972\"; transcript_id \"ENST...</td>\n",
       "    </tr>\n",
       "    <tr>\n",
       "      <th>3</th>\n",
       "      <td>1</td>\n",
       "      <td>processed_transcript</td>\n",
       "      <td>exon</td>\n",
       "      <td>12613</td>\n",
       "      <td>12721</td>\n",
       "      <td>.</td>\n",
       "      <td>+</td>\n",
       "      <td>.</td>\n",
       "      <td>gene_id \"ENSG00000223972\"; transcript_id \"ENST...</td>\n",
       "    </tr>\n",
       "    <tr>\n",
       "      <th>4</th>\n",
       "      <td>1</td>\n",
       "      <td>processed_transcript</td>\n",
       "      <td>exon</td>\n",
       "      <td>13221</td>\n",
       "      <td>14409</td>\n",
       "      <td>.</td>\n",
       "      <td>+</td>\n",
       "      <td>.</td>\n",
       "      <td>gene_id \"ENSG00000223972\"; transcript_id \"ENST...</td>\n",
       "    </tr>\n",
       "  </tbody>\n",
       "</table>\n",
       "</div>"
      ],
      "text/plain": [
       "  chrom                source     feature  start    end score strand frame  \\\n",
       "0     1            pseudogene        gene  11869  14412     .      +     .   \n",
       "1     1  processed_transcript  transcript  11869  14409     .      +     .   \n",
       "2     1  processed_transcript        exon  11869  12227     .      +     .   \n",
       "3     1  processed_transcript        exon  12613  12721     .      +     .   \n",
       "4     1  processed_transcript        exon  13221  14409     .      +     .   \n",
       "\n",
       "                                           attribute  \n",
       "0  gene_id \"ENSG00000223972\"; gene_name \"DDX11L1\"...  \n",
       "1  gene_id \"ENSG00000223972\"; transcript_id \"ENST...  \n",
       "2  gene_id \"ENSG00000223972\"; transcript_id \"ENST...  \n",
       "3  gene_id \"ENSG00000223972\"; transcript_id \"ENST...  \n",
       "4  gene_id \"ENSG00000223972\"; transcript_id \"ENST...  "
      ]
     },
     "execution_count": 5,
     "metadata": {},
     "output_type": "execute_result"
    }
   ],
   "source": [
    "gtf.head()"
   ]
  },
  {
   "cell_type": "code",
   "execution_count": 6,
   "metadata": {
    "collapsed": false
   },
   "outputs": [
    {
     "data": {
      "text/plain": [
       "protein_coding                        2001054\n",
       "nonsense_mediated_decay                293471\n",
       "processed_transcript                   173401\n",
       "retained_intron                        150034\n",
       "lincRNA                                 55928\n",
       "antisense                               45811\n",
       "processed_pseudogene                    24517\n",
       "pseudogene                              17830\n",
       "unprocessed_pseudogene                  13763\n",
       "miRNA                                   10209\n",
       "transcribed_unprocessed_pseudogene       7931\n",
       "misc_RNA                                 6554\n",
       "snRNA                                    6215\n",
       "snoRNA                                   4791\n",
       "sense_intronic                           3241\n",
       "polymorphic_pseudogene                   1906\n",
       "rRNA                                     1706\n",
       "unitary_pseudogene                       1467\n",
       "sense_overlapping                        1463\n",
       "IG_V_gene                                1277\n",
       "transcribed_processed_pseudogene         1182\n",
       "non_stop_decay                           1132\n",
       "TR_V_gene                                1019\n",
       "IG_V_pseudogene                           912\n",
       "TR_J_gene                                 328\n",
       "IG_C_gene                                 313\n",
       "IG_D_gene                                 260\n",
       "TR_V_pseudogene                           147\n",
       "3prime_overlapping_ncrna                  116\n",
       "IG_J_gene                                 102\n",
       "Mt_tRNA                                    66\n",
       "TR_C_gene                                  64\n",
       "IG_C_pseudogene                            51\n",
       "IG_J_pseudogene                            18\n",
       "TR_D_gene                                  12\n",
       "TR_J_pseudogene                            12\n",
       "Mt_rRNA                                     6\n",
       "translated_processed_pseudogene             3\n",
       "Name: source, dtype: int64"
      ]
     },
     "execution_count": 6,
     "metadata": {},
     "output_type": "execute_result"
    }
   ],
   "source": [
    "gtf.source.value_counts()"
   ]
  },
  {
   "cell_type": "code",
   "execution_count": 7,
   "metadata": {
    "collapsed": false
   },
   "outputs": [
    {
     "data": {
      "text/plain": [
       "exon              1306656\n",
       "CDS                791856\n",
       "UTR                304070\n",
       "transcript         215170\n",
       "stop_codon          73411\n",
       "start_codon         73358\n",
       "gene                63677\n",
       "Selenocysteine        114\n",
       "Name: feature, dtype: int64"
      ]
     },
     "execution_count": 7,
     "metadata": {},
     "output_type": "execute_result"
    }
   ],
   "source": [
    "gtf.feature.value_counts()"
   ]
  },
  {
   "cell_type": "markdown",
   "metadata": {},
   "source": [
    "Take only autosomal protein-coding regions, since we won't be simulating sex chromosomes:"
   ]
  },
  {
   "cell_type": "code",
   "execution_count": 8,
   "metadata": {
    "collapsed": false
   },
   "outputs": [],
   "source": [
    "AUTOSOMES = [str(i + 1) for i in range(22)]"
   ]
  },
  {
   "cell_type": "code",
   "execution_count": 9,
   "metadata": {
    "collapsed": false
   },
   "outputs": [],
   "source": [
    "exons = gtf[gtf.chrom.isin(AUTOSOMES) &\n",
    "           (gtf.source == \"protein_coding\") &\n",
    "           (gtf.feature == \"exon\")]"
   ]
  },
  {
   "cell_type": "markdown",
   "metadata": {},
   "source": [
    "Merge the overlapping exons:"
   ]
  },
  {
   "cell_type": "code",
   "execution_count": 10,
   "metadata": {
    "collapsed": true
   },
   "outputs": [],
   "source": [
    "exons = BedTool.from_dataframe(exons).sort().merge().to_dataframe()"
   ]
  },
  {
   "cell_type": "code",
   "execution_count": 11,
   "metadata": {
    "collapsed": false
   },
   "outputs": [],
   "source": [
    "exons['name'] = 'exon'"
   ]
  },
  {
   "cell_type": "markdown",
   "metadata": {},
   "source": [
    "Convert chromosome IDs to integers and sort exons by chromosome:"
   ]
  },
  {
   "cell_type": "code",
   "execution_count": 12,
   "metadata": {
    "collapsed": false
   },
   "outputs": [],
   "source": [
    "exons.chrom = exons.chrom.astype(int)\n",
    "exons.sort_values(by=['chrom', 'start'], inplace=True)"
   ]
  },
  {
   "cell_type": "markdown",
   "metadata": {},
   "source": [
    "What is the distribution of exon lengths?"
   ]
  },
  {
   "cell_type": "code",
   "execution_count": 13,
   "metadata": {
    "collapsed": false
   },
   "outputs": [
    {
     "data": {
      "text/plain": [
       "count    214193.000000\n",
       "mean        337.708039\n",
       "std         776.506070\n",
       "min           1.000000\n",
       "25%          96.000000\n",
       "50%         138.000000\n",
       "75%         217.000000\n",
       "max       24409.000000\n",
       "dtype: float64"
      ]
     },
     "execution_count": 13,
     "metadata": {},
     "output_type": "execute_result"
    }
   ],
   "source": [
    "((exons.end - exons.start)).describe()"
   ]
  },
  {
   "cell_type": "code",
   "execution_count": 14,
   "metadata": {
    "collapsed": false
   },
   "outputs": [
    {
     "data": {
      "image/png": "[encoded data removed]",
      "text/plain": [
       "<matplotlib.figure.Figure at 0x7f5ecabcf358>"
      ]
     },
     "metadata": {},
     "output_type": "display_data"
    }
   ],
   "source": [
    "plt.figure_ = plt.hist((exons.end - exons.start), bins=100)"
   ]
  },
  {
   "cell_type": "markdown",
   "metadata": {},
   "source": [
    "Filter out some riduculously small exons:"
   ]
  },
  {
   "cell_type": "code",
   "execution_count": 15,
   "metadata": {
    "collapsed": false
   },
   "outputs": [],
   "source": [
    "exons = exons[(exons.end - exons.start) > 10]"
   ]
  },
  {
   "cell_type": "markdown",
   "metadata": {},
   "source": [
    "## Process positions from the archaic admixture array"
   ]
  },
  {
   "cell_type": "markdown",
   "metadata": {},
   "source": [
    "Load the coordinates of sites from the archaic admixture array:"
   ]
  },
  {
   "cell_type": "code",
   "execution_count": 16,
   "metadata": {
    "collapsed": true
   },
   "outputs": [],
   "source": [
    "array_sites = pd.read_table('../raw_data/ice_age/filter.gz', names=['chrom', 'end', 'set_1', 'set_2'])"
   ]
  },
  {
   "cell_type": "markdown",
   "metadata": {},
   "source": [
    "Subset to sites in the so called \"Set 1\" (see `raw_data/ice_age/README.md` for more information):"
   ]
  },
  {
   "cell_type": "code",
   "execution_count": 17,
   "metadata": {
    "collapsed": true
   },
   "outputs": [],
   "source": [
    "array_sites = array_sites[array_sites.set_1 == 1]"
   ]
  },
  {
   "cell_type": "markdown",
   "metadata": {},
   "source": [
    "Find sites that don't fall withing exonic regions. These will be simulated individually when building the recombination map. The ones within the exons will be recombining simply as part of the exons:"
   ]
  },
  {
   "cell_type": "code",
   "execution_count": 18,
   "metadata": {
    "collapsed": true
   },
   "outputs": [],
   "source": [
    "array_sites['start'] = array_sites.end - 1"
   ]
  },
  {
   "cell_type": "code",
   "execution_count": 19,
   "metadata": {
    "collapsed": false
   },
   "outputs": [],
   "source": [
    "array_sites = array_sites[['chrom', 'start', 'end']]"
   ]
  },
  {
   "cell_type": "code",
   "execution_count": 20,
   "metadata": {
    "collapsed": false
   },
   "outputs": [],
   "source": [
    "array_sites['name'] = 'snp'"
   ]
  },
  {
   "cell_type": "markdown",
   "metadata": {},
   "source": [
    "## Create a union of exon regions with admixture array informative positions\n",
    "\n",
    "Informative sites within exons will be simulated simply as part of the exons. Inter-exon informative sites will be simulated individually, with an appropriate recombination rate set between them and both adjacent exons or other informative sites."
   ]
  },
  {
   "cell_type": "code",
   "execution_count": 21,
   "metadata": {
    "collapsed": true
   },
   "outputs": [],
   "source": [
    "exome = BedTool.from_dataframe(exons)\n",
    "\n",
    "# take subset of array sites that lie outside exons\n",
    "array = BedTool.from_dataframe(array_sites).intersect(exome, v=True)"
   ]
  },
  {
   "cell_type": "code",
   "execution_count": 22,
   "metadata": {
    "collapsed": false
   },
   "outputs": [],
   "source": [
    "exons_and_sites = pd.concat([exome.to_dataframe(),\n",
    "                             array.to_dataframe()]).sort_values(by=['chrom', 'start']).reset_index(drop=True)"
   ]
  },
  {
   "cell_type": "markdown",
   "metadata": {},
   "source": [
    "## Generating the recombination map"
   ]
  },
  {
   "cell_type": "markdown",
   "metadata": {},
   "source": [
    "Recombination rate between exons is implemented by inserting a 1 bp \"gap\" between each pair of adjacent exons and setting the recombination rate at these positions to $L \\times 1\\cdot10^{-8}$ crossovers per generation ($L$ is the distance between adjacent exons).\n",
    "\n",
    "The recombination rate of the \"gap\" between the last exon on one chromosome and the first exon on another chromosome will be 0.5."
   ]
  },
  {
   "cell_type": "markdown",
   "metadata": {},
   "source": [
    "Specify the recombination rate for exons ($10^{-8}$):"
   ]
  },
  {
   "cell_type": "code",
   "execution_count": 23,
   "metadata": {
    "collapsed": false
   },
   "outputs": [],
   "source": [
    "exons_and_sites.ix[exons_and_sites.name == 'exon', 'recomb_rate'] = RECOMB_RATE"
   ]
  },
  {
   "cell_type": "code",
   "execution_count": 24,
   "metadata": {
    "collapsed": false
   },
   "outputs": [],
   "source": [
    "def add_recombination_gaps(regions):\n",
    "    \"\"\"Add 1 bp \"recombination gaps\" between each region/site in the given\n",
    "    DataFrame.\n",
    "    \"\"\"\n",
    "    # create a new DataFrame with coordinates of 1 bp inter-exonic gaps\n",
    "    gaps = pd.DataFrame({'chrom'       : regions.chrom.values,\n",
    "                         'start'       : regions.end.values,\n",
    "                         'end'         : regions.end.values + 1,\n",
    "                         'recomb_rate' : list(RECOMB_RATE * (regions.start[1:].values - regions.end[:-1].values)) + [0.5],\n",
    "                         'name'        : 'gap'},\n",
    "                        columns=['chrom', 'start', 'end', 'recomb_rate', 'name'])\n",
    "    \n",
    "    # merge the dataframes of exon and gap coordinates\n",
    "    regions_and_gaps = pd.concat([regions, gaps]).sort_values(by=['chrom', 'start']).reset_index(drop=True)\n",
    "    \n",
    "    # calculate the end position of each simulated region and gap\n",
    "    # (this is how a recombination map is specified for SLiM)\n",
    "    regions_and_gaps['interval_end'] = (regions_and_gaps.end - regions_and_gaps.start).cumsum()\n",
    "    \n",
    "    # return recombination map between exons and admixture array sites\n",
    "    # (snp records can be ignored, since they were used only to place\n",
    "    # 1 bp \"gaps\" inbetween)\n",
    "    return regions_and_gaps.query('name != \"snp\"')[['chrom', 'start', 'end', 'name', 'interval_end', 'recomb_rate']]\n",
    "\n",
    "\n",
    "def create_genome_recomb_map(regions):\n",
    "    \"\"\"Create recombination map for all chromosomes.\n",
    "    \n",
    "    SLiM simulates the whole genome as one segment. Therefore, all\n",
    "    exons on all chromosomes have to be concatenated and all coordinates\n",
    "    have to be shifted appropriately (i.e. first coordinate on the chromosome 2\n",
    "    has to be incremented by a last coordinate of the chromosome 1).\n",
    "    \"\"\"\n",
    "    recomb_map = {}\n",
    "    previous_end = 0\n",
    "\n",
    "    for chrom in AUTOSOMES:\n",
    "        # add recombination gaps between regions on this chromosome\n",
    "        recomb_map[chrom] = add_recombination_gaps(regions.query('chrom == {}'.format(chrom)))\n",
    "\n",
    "        # increment the positions of the recombination map based on the\n",
    "        # last position on the previous chromosome\n",
    "        recomb_map[chrom].interval_end += previous_end\n",
    "\n",
    "        # get the currently last position of the\n",
    "        previous_end = max(recomb_map[chrom].interval_end)\n",
    "        \n",
    "    # concatenate exome recombination maps of all chromosomes\n",
    "    recomb_map = pd.concat(recomb_map, ignore_index=True).sort_values(by='interval_end')\n",
    "    \n",
    "    # convert interval end coordinates to 0-based indexing as required by SLiM\n",
    "    recomb_map.interval_end -= 1\n",
    "\n",
    "    # remove the very last base of the recombination map\n",
    "    # (it has a 0.5 recombination rate anyway and there's no other chromosome\n",
    "    # after it)\n",
    "    recomb_map = recomb_map[:-1]\n",
    "    \n",
    "    return recomb_map"
   ]
  },
  {
   "cell_type": "code",
   "execution_count": 25,
   "metadata": {
    "collapsed": false
   },
   "outputs": [],
   "source": [
    "recomb_map = create_genome_recomb_map(exons_and_sites)"
   ]
  },
  {
   "cell_type": "markdown",
   "metadata": {},
   "source": [
    "### The final recombination map to use in SLiM"
   ]
  },
  {
   "cell_type": "code",
   "execution_count": 26,
   "metadata": {
    "collapsed": false
   },
   "outputs": [
    {
     "data": {
      "text/html": [
       "<div>\n",
       "<table border=\"1\" class=\"dataframe\">\n",
       "  <thead>\n",
       "    <tr style=\"text-align: right;\">\n",
       "      <th></th>\n",
       "      <th>chrom</th>\n",
       "      <th>start</th>\n",
       "      <th>end</th>\n",
       "      <th>name</th>\n",
       "      <th>interval_end</th>\n",
       "      <th>recomb_rate</th>\n",
       "    </tr>\n",
       "  </thead>\n",
       "  <tbody>\n",
       "    <tr>\n",
       "      <th>0</th>\n",
       "      <td>1</td>\n",
       "      <td>69090</td>\n",
       "      <td>70008</td>\n",
       "      <td>exon</td>\n",
       "      <td>917</td>\n",
       "      <td>1.000000e-08</td>\n",
       "    </tr>\n",
       "    <tr>\n",
       "      <th>1</th>\n",
       "      <td>1</td>\n",
       "      <td>70008</td>\n",
       "      <td>70009</td>\n",
       "      <td>gap</td>\n",
       "      <td>918</td>\n",
       "      <td>6.489200e-04</td>\n",
       "    </tr>\n",
       "    <tr>\n",
       "      <th>2</th>\n",
       "      <td>1</td>\n",
       "      <td>134900</td>\n",
       "      <td>135802</td>\n",
       "      <td>exon</td>\n",
       "      <td>1820</td>\n",
       "      <td>1.000000e-08</td>\n",
       "    </tr>\n",
       "    <tr>\n",
       "      <th>3</th>\n",
       "      <td>1</td>\n",
       "      <td>135802</td>\n",
       "      <td>135803</td>\n",
       "      <td>gap</td>\n",
       "      <td>1821</td>\n",
       "      <td>1.818000e-05</td>\n",
       "    </tr>\n",
       "    <tr>\n",
       "      <th>4</th>\n",
       "      <td>1</td>\n",
       "      <td>137620</td>\n",
       "      <td>139379</td>\n",
       "      <td>exon</td>\n",
       "      <td>3580</td>\n",
       "      <td>1.000000e-08</td>\n",
       "    </tr>\n",
       "    <tr>\n",
       "      <th>5</th>\n",
       "      <td>1</td>\n",
       "      <td>139379</td>\n",
       "      <td>139380</td>\n",
       "      <td>gap</td>\n",
       "      <td>3581</td>\n",
       "      <td>2.282600e-03</td>\n",
       "    </tr>\n",
       "    <tr>\n",
       "      <th>6</th>\n",
       "      <td>1</td>\n",
       "      <td>367639</td>\n",
       "      <td>368634</td>\n",
       "      <td>exon</td>\n",
       "      <td>4576</td>\n",
       "      <td>1.000000e-08</td>\n",
       "    </tr>\n",
       "    <tr>\n",
       "      <th>7</th>\n",
       "      <td>1</td>\n",
       "      <td>368634</td>\n",
       "      <td>368635</td>\n",
       "      <td>gap</td>\n",
       "      <td>4577</td>\n",
       "      <td>2.524240e-03</td>\n",
       "    </tr>\n",
       "    <tr>\n",
       "      <th>8</th>\n",
       "      <td>1</td>\n",
       "      <td>621058</td>\n",
       "      <td>622053</td>\n",
       "      <td>exon</td>\n",
       "      <td>5572</td>\n",
       "      <td>1.000000e-08</td>\n",
       "    </tr>\n",
       "    <tr>\n",
       "      <th>9</th>\n",
       "      <td>1</td>\n",
       "      <td>622053</td>\n",
       "      <td>622054</td>\n",
       "      <td>gap</td>\n",
       "      <td>5573</td>\n",
       "      <td>1.164780e-03</td>\n",
       "    </tr>\n",
       "    <tr>\n",
       "      <th>10</th>\n",
       "      <td>1</td>\n",
       "      <td>738531</td>\n",
       "      <td>738618</td>\n",
       "      <td>exon</td>\n",
       "      <td>5660</td>\n",
       "      <td>1.000000e-08</td>\n",
       "    </tr>\n",
       "    <tr>\n",
       "      <th>11</th>\n",
       "      <td>1</td>\n",
       "      <td>738618</td>\n",
       "      <td>738619</td>\n",
       "      <td>gap</td>\n",
       "      <td>5661</td>\n",
       "      <td>1.690000e-06</td>\n",
       "    </tr>\n",
       "    <tr>\n",
       "      <th>12</th>\n",
       "      <td>1</td>\n",
       "      <td>738787</td>\n",
       "      <td>738812</td>\n",
       "      <td>exon</td>\n",
       "      <td>5686</td>\n",
       "      <td>1.000000e-08</td>\n",
       "    </tr>\n",
       "    <tr>\n",
       "      <th>13</th>\n",
       "      <td>1</td>\n",
       "      <td>738812</td>\n",
       "      <td>738813</td>\n",
       "      <td>gap</td>\n",
       "      <td>5687</td>\n",
       "      <td>3.080000e-06</td>\n",
       "    </tr>\n",
       "    <tr>\n",
       "      <th>14</th>\n",
       "      <td>1</td>\n",
       "      <td>739120</td>\n",
       "      <td>739137</td>\n",
       "      <td>exon</td>\n",
       "      <td>5704</td>\n",
       "      <td>1.000000e-08</td>\n",
       "    </tr>\n",
       "    <tr>\n",
       "      <th>15</th>\n",
       "      <td>1</td>\n",
       "      <td>739137</td>\n",
       "      <td>739138</td>\n",
       "      <td>gap</td>\n",
       "      <td>5705</td>\n",
       "      <td>7.890500e-04</td>\n",
       "    </tr>\n",
       "    <tr>\n",
       "      <th>16</th>\n",
       "      <td>1</td>\n",
       "      <td>818042</td>\n",
       "      <td>818058</td>\n",
       "      <td>exon</td>\n",
       "      <td>5721</td>\n",
       "      <td>1.000000e-08</td>\n",
       "    </tr>\n",
       "    <tr>\n",
       "      <th>17</th>\n",
       "      <td>1</td>\n",
       "      <td>818058</td>\n",
       "      <td>818059</td>\n",
       "      <td>gap</td>\n",
       "      <td>5722</td>\n",
       "      <td>1.437000e-05</td>\n",
       "    </tr>\n",
       "    <tr>\n",
       "      <th>18</th>\n",
       "      <td>1</td>\n",
       "      <td>819495</td>\n",
       "      <td>819513</td>\n",
       "      <td>exon</td>\n",
       "      <td>5740</td>\n",
       "      <td>1.000000e-08</td>\n",
       "    </tr>\n",
       "    <tr>\n",
       "      <th>19</th>\n",
       "      <td>1</td>\n",
       "      <td>819513</td>\n",
       "      <td>819514</td>\n",
       "      <td>gap</td>\n",
       "      <td>5741</td>\n",
       "      <td>4.470000e-06</td>\n",
       "    </tr>\n",
       "    <tr>\n",
       "      <th>20</th>\n",
       "      <td>1</td>\n",
       "      <td>819960</td>\n",
       "      <td>819983</td>\n",
       "      <td>exon</td>\n",
       "      <td>5764</td>\n",
       "      <td>1.000000e-08</td>\n",
       "    </tr>\n",
       "    <tr>\n",
       "      <th>21</th>\n",
       "      <td>1</td>\n",
       "      <td>819983</td>\n",
       "      <td>819984</td>\n",
       "      <td>gap</td>\n",
       "      <td>5765</td>\n",
       "      <td>2.799900e-04</td>\n",
       "    </tr>\n",
       "    <tr>\n",
       "      <th>22</th>\n",
       "      <td>1</td>\n",
       "      <td>847983</td>\n",
       "      <td>847984</td>\n",
       "      <td>gap</td>\n",
       "      <td>5767</td>\n",
       "      <td>5.105000e-05</td>\n",
       "    </tr>\n",
       "    <tr>\n",
       "      <th>23</th>\n",
       "      <td>1</td>\n",
       "      <td>853089</td>\n",
       "      <td>853090</td>\n",
       "      <td>gap</td>\n",
       "      <td>5769</td>\n",
       "      <td>5.060000e-06</td>\n",
       "    </tr>\n",
       "    <tr>\n",
       "      <th>24</th>\n",
       "      <td>1</td>\n",
       "      <td>853596</td>\n",
       "      <td>853597</td>\n",
       "      <td>gap</td>\n",
       "      <td>5771</td>\n",
       "      <td>1.196000e-05</td>\n",
       "    </tr>\n",
       "  </tbody>\n",
       "</table>\n",
       "</div>"
      ],
      "text/plain": [
       "    chrom   start     end  name  interval_end   recomb_rate\n",
       "0       1   69090   70008  exon           917  1.000000e-08\n",
       "1       1   70008   70009   gap           918  6.489200e-04\n",
       "2       1  134900  135802  exon          1820  1.000000e-08\n",
       "3       1  135802  135803   gap          1821  1.818000e-05\n",
       "4       1  137620  139379  exon          3580  1.000000e-08\n",
       "5       1  139379  139380   gap          3581  2.282600e-03\n",
       "6       1  367639  368634  exon          4576  1.000000e-08\n",
       "7       1  368634  368635   gap          4577  2.524240e-03\n",
       "8       1  621058  622053  exon          5572  1.000000e-08\n",
       "9       1  622053  622054   gap          5573  1.164780e-03\n",
       "10      1  738531  738618  exon          5660  1.000000e-08\n",
       "11      1  738618  738619   gap          5661  1.690000e-06\n",
       "12      1  738787  738812  exon          5686  1.000000e-08\n",
       "13      1  738812  738813   gap          5687  3.080000e-06\n",
       "14      1  739120  739137  exon          5704  1.000000e-08\n",
       "15      1  739137  739138   gap          5705  7.890500e-04\n",
       "16      1  818042  818058  exon          5721  1.000000e-08\n",
       "17      1  818058  818059   gap          5722  1.437000e-05\n",
       "18      1  819495  819513  exon          5740  1.000000e-08\n",
       "19      1  819513  819514   gap          5741  4.470000e-06\n",
       "20      1  819960  819983  exon          5764  1.000000e-08\n",
       "21      1  819983  819984   gap          5765  2.799900e-04\n",
       "22      1  847983  847984   gap          5767  5.105000e-05\n",
       "23      1  853089  853090   gap          5769  5.060000e-06\n",
       "24      1  853596  853597   gap          5771  1.196000e-05"
      ]
     },
     "execution_count": 26,
     "metadata": {},
     "output_type": "execute_result"
    }
   ],
   "source": [
    "recomb_map.head(25)"
   ]
  },
  {
   "cell_type": "code",
   "execution_count": 27,
   "metadata": {
    "collapsed": false
   },
   "outputs": [
    {
     "data": {
      "text/html": [
       "<div>\n",
       "<table border=\"1\" class=\"dataframe\">\n",
       "  <thead>\n",
       "    <tr style=\"text-align: right;\">\n",
       "      <th></th>\n",
       "      <th>chrom</th>\n",
       "      <th>start</th>\n",
       "      <th>end</th>\n",
       "      <th>name</th>\n",
       "      <th>interval_end</th>\n",
       "      <th>recomb_rate</th>\n",
       "    </tr>\n",
       "  </thead>\n",
       "  <tbody>\n",
       "    <tr>\n",
       "      <th>711983</th>\n",
       "      <td>22</td>\n",
       "      <td>51182488</td>\n",
       "      <td>51182634</td>\n",
       "      <td>exon</td>\n",
       "      <td>74070161</td>\n",
       "      <td>1.000000e-08</td>\n",
       "    </tr>\n",
       "    <tr>\n",
       "      <th>711984</th>\n",
       "      <td>22</td>\n",
       "      <td>51182634</td>\n",
       "      <td>51182635</td>\n",
       "      <td>gap</td>\n",
       "      <td>74070162</td>\n",
       "      <td>4.460000e-06</td>\n",
       "    </tr>\n",
       "    <tr>\n",
       "      <th>711985</th>\n",
       "      <td>22</td>\n",
       "      <td>51183080</td>\n",
       "      <td>51183762</td>\n",
       "      <td>exon</td>\n",
       "      <td>74070844</td>\n",
       "      <td>1.000000e-08</td>\n",
       "    </tr>\n",
       "    <tr>\n",
       "      <th>711986</th>\n",
       "      <td>22</td>\n",
       "      <td>51183762</td>\n",
       "      <td>51183763</td>\n",
       "      <td>gap</td>\n",
       "      <td>74070845</td>\n",
       "      <td>2.216600e-04</td>\n",
       "    </tr>\n",
       "    <tr>\n",
       "      <th>711987</th>\n",
       "      <td>22</td>\n",
       "      <td>51205928</td>\n",
       "      <td>51207302</td>\n",
       "      <td>exon</td>\n",
       "      <td>74072219</td>\n",
       "      <td>1.000000e-08</td>\n",
       "    </tr>\n",
       "    <tr>\n",
       "      <th>711988</th>\n",
       "      <td>22</td>\n",
       "      <td>51207302</td>\n",
       "      <td>51207303</td>\n",
       "      <td>gap</td>\n",
       "      <td>74072220</td>\n",
       "      <td>1.660000e-06</td>\n",
       "    </tr>\n",
       "    <tr>\n",
       "      <th>711989</th>\n",
       "      <td>22</td>\n",
       "      <td>51207468</td>\n",
       "      <td>51207552</td>\n",
       "      <td>exon</td>\n",
       "      <td>74072304</td>\n",
       "      <td>1.000000e-08</td>\n",
       "    </tr>\n",
       "    <tr>\n",
       "      <th>711990</th>\n",
       "      <td>22</td>\n",
       "      <td>51207552</td>\n",
       "      <td>51207553</td>\n",
       "      <td>gap</td>\n",
       "      <td>74072305</td>\n",
       "      <td>3.000000e-06</td>\n",
       "    </tr>\n",
       "    <tr>\n",
       "      <th>711991</th>\n",
       "      <td>22</td>\n",
       "      <td>51207852</td>\n",
       "      <td>51207980</td>\n",
       "      <td>exon</td>\n",
       "      <td>74072433</td>\n",
       "      <td>1.000000e-08</td>\n",
       "    </tr>\n",
       "    <tr>\n",
       "      <th>711992</th>\n",
       "      <td>22</td>\n",
       "      <td>51207980</td>\n",
       "      <td>51207981</td>\n",
       "      <td>gap</td>\n",
       "      <td>74072434</td>\n",
       "      <td>3.520000e-06</td>\n",
       "    </tr>\n",
       "    <tr>\n",
       "      <th>711993</th>\n",
       "      <td>22</td>\n",
       "      <td>51208332</td>\n",
       "      <td>51208444</td>\n",
       "      <td>exon</td>\n",
       "      <td>74072546</td>\n",
       "      <td>1.000000e-08</td>\n",
       "    </tr>\n",
       "    <tr>\n",
       "      <th>711994</th>\n",
       "      <td>22</td>\n",
       "      <td>51208444</td>\n",
       "      <td>51208445</td>\n",
       "      <td>gap</td>\n",
       "      <td>74072547</td>\n",
       "      <td>1.193000e-05</td>\n",
       "    </tr>\n",
       "    <tr>\n",
       "      <th>711995</th>\n",
       "      <td>22</td>\n",
       "      <td>51209637</td>\n",
       "      <td>51211537</td>\n",
       "      <td>exon</td>\n",
       "      <td>74074447</td>\n",
       "      <td>1.000000e-08</td>\n",
       "    </tr>\n",
       "    <tr>\n",
       "      <th>711996</th>\n",
       "      <td>22</td>\n",
       "      <td>51211537</td>\n",
       "      <td>51211538</td>\n",
       "      <td>gap</td>\n",
       "      <td>74074448</td>\n",
       "      <td>2.662000e-05</td>\n",
       "    </tr>\n",
       "    <tr>\n",
       "      <th>711997</th>\n",
       "      <td>22</td>\n",
       "      <td>51214199</td>\n",
       "      <td>51214279</td>\n",
       "      <td>exon</td>\n",
       "      <td>74074528</td>\n",
       "      <td>1.000000e-08</td>\n",
       "    </tr>\n",
       "    <tr>\n",
       "      <th>711998</th>\n",
       "      <td>22</td>\n",
       "      <td>51214279</td>\n",
       "      <td>51214280</td>\n",
       "      <td>gap</td>\n",
       "      <td>74074529</td>\n",
       "      <td>8.180000e-06</td>\n",
       "    </tr>\n",
       "    <tr>\n",
       "      <th>711999</th>\n",
       "      <td>22</td>\n",
       "      <td>51215097</td>\n",
       "      <td>51215177</td>\n",
       "      <td>exon</td>\n",
       "      <td>74074609</td>\n",
       "      <td>1.000000e-08</td>\n",
       "    </tr>\n",
       "    <tr>\n",
       "      <th>712000</th>\n",
       "      <td>22</td>\n",
       "      <td>51215177</td>\n",
       "      <td>51215178</td>\n",
       "      <td>gap</td>\n",
       "      <td>74074610</td>\n",
       "      <td>1.202000e-05</td>\n",
       "    </tr>\n",
       "    <tr>\n",
       "      <th>712001</th>\n",
       "      <td>22</td>\n",
       "      <td>51216379</td>\n",
       "      <td>51216409</td>\n",
       "      <td>exon</td>\n",
       "      <td>74074640</td>\n",
       "      <td>1.000000e-08</td>\n",
       "    </tr>\n",
       "    <tr>\n",
       "      <th>712002</th>\n",
       "      <td>22</td>\n",
       "      <td>51216409</td>\n",
       "      <td>51216410</td>\n",
       "      <td>gap</td>\n",
       "      <td>74074641</td>\n",
       "      <td>4.206000e-05</td>\n",
       "    </tr>\n",
       "    <tr>\n",
       "      <th>712003</th>\n",
       "      <td>22</td>\n",
       "      <td>51220615</td>\n",
       "      <td>51220779</td>\n",
       "      <td>exon</td>\n",
       "      <td>74074805</td>\n",
       "      <td>1.000000e-08</td>\n",
       "    </tr>\n",
       "    <tr>\n",
       "      <th>712004</th>\n",
       "      <td>22</td>\n",
       "      <td>51220779</td>\n",
       "      <td>51220780</td>\n",
       "      <td>gap</td>\n",
       "      <td>74074806</td>\n",
       "      <td>4.170000e-06</td>\n",
       "    </tr>\n",
       "    <tr>\n",
       "      <th>712005</th>\n",
       "      <td>22</td>\n",
       "      <td>51221196</td>\n",
       "      <td>51221714</td>\n",
       "      <td>exon</td>\n",
       "      <td>74075324</td>\n",
       "      <td>1.000000e-08</td>\n",
       "    </tr>\n",
       "    <tr>\n",
       "      <th>712006</th>\n",
       "      <td>22</td>\n",
       "      <td>51221714</td>\n",
       "      <td>51221715</td>\n",
       "      <td>gap</td>\n",
       "      <td>74075325</td>\n",
       "      <td>2.140000e-06</td>\n",
       "    </tr>\n",
       "    <tr>\n",
       "      <th>712007</th>\n",
       "      <td>22</td>\n",
       "      <td>51221928</td>\n",
       "      <td>51222091</td>\n",
       "      <td>exon</td>\n",
       "      <td>74075488</td>\n",
       "      <td>1.000000e-08</td>\n",
       "    </tr>\n",
       "  </tbody>\n",
       "</table>\n",
       "</div>"
      ],
      "text/plain": [
       "        chrom     start       end  name  interval_end   recomb_rate\n",
       "711983     22  51182488  51182634  exon      74070161  1.000000e-08\n",
       "711984     22  51182634  51182635   gap      74070162  4.460000e-06\n",
       "711985     22  51183080  51183762  exon      74070844  1.000000e-08\n",
       "711986     22  51183762  51183763   gap      74070845  2.216600e-04\n",
       "711987     22  51205928  51207302  exon      74072219  1.000000e-08\n",
       "711988     22  51207302  51207303   gap      74072220  1.660000e-06\n",
       "711989     22  51207468  51207552  exon      74072304  1.000000e-08\n",
       "711990     22  51207552  51207553   gap      74072305  3.000000e-06\n",
       "711991     22  51207852  51207980  exon      74072433  1.000000e-08\n",
       "711992     22  51207980  51207981   gap      74072434  3.520000e-06\n",
       "711993     22  51208332  51208444  exon      74072546  1.000000e-08\n",
       "711994     22  51208444  51208445   gap      74072547  1.193000e-05\n",
       "711995     22  51209637  51211537  exon      74074447  1.000000e-08\n",
       "711996     22  51211537  51211538   gap      74074448  2.662000e-05\n",
       "711997     22  51214199  51214279  exon      74074528  1.000000e-08\n",
       "711998     22  51214279  51214280   gap      74074529  8.180000e-06\n",
       "711999     22  51215097  51215177  exon      74074609  1.000000e-08\n",
       "712000     22  51215177  51215178   gap      74074610  1.202000e-05\n",
       "712001     22  51216379  51216409  exon      74074640  1.000000e-08\n",
       "712002     22  51216409  51216410   gap      74074641  4.206000e-05\n",
       "712003     22  51220615  51220779  exon      74074805  1.000000e-08\n",
       "712004     22  51220779  51220780   gap      74074806  4.170000e-06\n",
       "712005     22  51221196  51221714  exon      74075324  1.000000e-08\n",
       "712006     22  51221714  51221715   gap      74075325  2.140000e-06\n",
       "712007     22  51221928  51222091  exon      74075488  1.000000e-08"
      ]
     },
     "execution_count": 27,
     "metadata": {},
     "output_type": "execute_result"
    }
   ],
   "source": [
    "recomb_map.tail(25)"
   ]
  },
  {
   "cell_type": "markdown",
   "metadata": {},
   "source": [
    "## Output the result in a format suitable for import into SLiM"
   ]
  },
  {
   "cell_type": "code",
   "execution_count": 28,
   "metadata": {
    "collapsed": true
   },
   "outputs": [],
   "source": [
    "!mkdir -p ../clean_data"
   ]
  },
  {
   "cell_type": "code",
   "execution_count": 29,
   "metadata": {
    "collapsed": false
   },
   "outputs": [],
   "source": [
    "recomb_map[['interval_end', 'recomb_rate']].to_csv('../clean_data/recomb_map_exome_with_array_sites.txt', sep='\\t', index=False, header=False)"
   ]
  }
 ],
 "metadata": {
  "kernelspec": {
   "display_name": "Python 3",
   "language": "python",
   "name": "python3"
  },
  "language_info": {
   "codemirror_mode": {
    "name": "ipython",
    "version": 3
   },
   "file_extension": ".py",
   "mimetype": "text/x-python",
   "name": "python",
   "nbconvert_exporter": "python",
   "pygments_lexer": "ipython3",
   "version": "3.5.1"
  }
 },
 "nbformat": 4,
 "nbformat_minor": 0
}
