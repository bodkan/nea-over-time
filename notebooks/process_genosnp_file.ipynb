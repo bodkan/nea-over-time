{
 "cells": [
  {
   "cell_type": "markdown",
   "metadata": {
    "collapsed": true
   },
   "source": [
    "This notebook processes the `genosnp` file with data from the \"Ice Age\" paper into a sensible table, which can be used by other things than just ADMIXTOOLS etc."
   ]
  },
  {
   "cell_type": "code",
   "execution_count": 1,
   "metadata": {
    "collapsed": true
   },
   "outputs": [],
   "source": [
    "import pandas as pd\n",
    "import numpy as np\n",
    "from pybedtools import BedTool"
   ]
  },
  {
   "cell_type": "code",
   "execution_count": 2,
   "metadata": {
    "collapsed": true
   },
   "outputs": [],
   "source": [
    "import matplotlib.pyplot as plt"
   ]
  },
  {
   "cell_type": "code",
   "execution_count": 3,
   "metadata": {
    "collapsed": true
   },
   "outputs": [],
   "source": [
    "%matplotlib inline\n",
    "\n",
    "plt.style.use('ggplot')"
   ]
  },
  {
   "cell_type": "markdown",
   "metadata": {},
   "source": [
    "### Read the table of individuals"
   ]
  },
  {
   "cell_type": "code",
   "execution_count": 4,
   "metadata": {
    "collapsed": false
   },
   "outputs": [
    {
     "name": "stdout",
     "output_type": "stream",
     "text": [
      "Index\tSample.ID\tName.In.Paper\tDate\tListed.in.TableS1\tUsed.In.Regression\r",
      "\r\n",
      "0\tAG2\tAfontovaGora2\t16710\t1\t1\r",
      "\r\n",
      "1\tAfontovaGora3\tAfontovaGora3\t17000\t1\t1\r",
      "\r\n",
      "2\tAltai\tAltai\t70000\t0\t0\r",
      "\r\n",
      "3\tB_Australian-4\tAustralian\t0\t1\t0\r",
      "\r\n",
      "4\tChimp\tChimp\t0\t0\t0\r",
      "\r\n",
      "5\tContinenza\tContinenza\t10860\t1\t1\r",
      "\r\n",
      "6\tB_Dai-4\tDai\t0\t1\t1\r",
      "\r\n",
      "7\tDenisova\tDenisovan\t70000\t0\t0\r",
      "\r\n",
      "8\tB_Dinka-3\tDinka\t0\t0\t0\r",
      "\r\n"
     ]
    }
   ],
   "source": [
    "!head ../raw_data/ice_age/individuals"
   ]
  },
  {
   "cell_type": "code",
   "execution_count": 5,
   "metadata": {
    "collapsed": false
   },
   "outputs": [
    {
     "data": {
      "text/html": [
       "<div>\n",
       "<table border=\"1\" class=\"dataframe\">\n",
       "  <thead>\n",
       "    <tr style=\"text-align: right;\">\n",
       "      <th></th>\n",
       "      <th>sample_id</th>\n",
       "      <th>name</th>\n",
       "      <th>date</th>\n",
       "      <th>in_table_s1</th>\n",
       "      <th>in_regression</th>\n",
       "    </tr>\n",
       "  </thead>\n",
       "  <tbody>\n",
       "    <tr>\n",
       "      <th>0</th>\n",
       "      <td>AG2</td>\n",
       "      <td>AfontovaGora2</td>\n",
       "      <td>16710</td>\n",
       "      <td>1</td>\n",
       "      <td>1</td>\n",
       "    </tr>\n",
       "    <tr>\n",
       "      <th>1</th>\n",
       "      <td>AfontovaGora3</td>\n",
       "      <td>AfontovaGora3</td>\n",
       "      <td>17000</td>\n",
       "      <td>1</td>\n",
       "      <td>1</td>\n",
       "    </tr>\n",
       "    <tr>\n",
       "      <th>2</th>\n",
       "      <td>Altai</td>\n",
       "      <td>Altai</td>\n",
       "      <td>70000</td>\n",
       "      <td>0</td>\n",
       "      <td>0</td>\n",
       "    </tr>\n",
       "    <tr>\n",
       "      <th>3</th>\n",
       "      <td>B_Australian-4</td>\n",
       "      <td>Australian</td>\n",
       "      <td>0</td>\n",
       "      <td>1</td>\n",
       "      <td>0</td>\n",
       "    </tr>\n",
       "    <tr>\n",
       "      <th>4</th>\n",
       "      <td>Chimp</td>\n",
       "      <td>Chimp</td>\n",
       "      <td>0</td>\n",
       "      <td>0</td>\n",
       "      <td>0</td>\n",
       "    </tr>\n",
       "  </tbody>\n",
       "</table>\n",
       "</div>"
      ],
      "text/plain": [
       "        sample_id           name   date  in_table_s1  in_regression\n",
       "0             AG2  AfontovaGora2  16710            1              1\n",
       "1   AfontovaGora3  AfontovaGora3  17000            1              1\n",
       "2           Altai          Altai  70000            0              0\n",
       "3  B_Australian-4     Australian      0            1              0\n",
       "4           Chimp          Chimp      0            0              0"
      ]
     },
     "execution_count": 5,
     "metadata": {},
     "output_type": "execute_result"
    }
   ],
   "source": [
    "individuals = pd.read_table('../raw_data/ice_age/individuals',\n",
    "                            names=['sample_id', 'name', 'date',\n",
    "                                     'in_table_s1', 'in_regression'],\n",
    "                            skiprows=1, index_col=0)\n",
    "individuals.head()"
   ]
  },
  {
   "cell_type": "markdown",
   "metadata": {},
   "source": [
    "Replace unallowed characters with underscores:"
   ]
  },
  {
   "cell_type": "code",
   "execution_count": 6,
   "metadata": {
    "collapsed": true
   },
   "outputs": [],
   "source": [
    "individuals.sample_id = individuals.sample_id.apply(lambda s: s.replace('-', '_'))"
   ]
  },
  {
   "cell_type": "markdown",
   "metadata": {},
   "source": [
    "### Read the positions of sites from the archaic admixture array"
   ]
  },
  {
   "cell_type": "code",
   "execution_count": 7,
   "metadata": {
    "collapsed": true
   },
   "outputs": [],
   "source": [
    "array_sites = pd.read_table('../raw_data/ice_age/filter.gz', names=['chrom', 'end', 'set_1', 'set_2'])"
   ]
  },
  {
   "cell_type": "code",
   "execution_count": 8,
   "metadata": {
    "collapsed": false
   },
   "outputs": [
    {
     "data": {
      "text/html": [
       "<div>\n",
       "<table border=\"1\" class=\"dataframe\">\n",
       "  <thead>\n",
       "    <tr style=\"text-align: right;\">\n",
       "      <th></th>\n",
       "      <th>chrom</th>\n",
       "      <th>end</th>\n",
       "      <th>set_1</th>\n",
       "      <th>set_2</th>\n",
       "    </tr>\n",
       "  </thead>\n",
       "  <tbody>\n",
       "    <tr>\n",
       "      <th>0</th>\n",
       "      <td>1</td>\n",
       "      <td>847983</td>\n",
       "      <td>1</td>\n",
       "      <td>1</td>\n",
       "    </tr>\n",
       "    <tr>\n",
       "      <th>1</th>\n",
       "      <td>1</td>\n",
       "      <td>853089</td>\n",
       "      <td>1</td>\n",
       "      <td>1</td>\n",
       "    </tr>\n",
       "    <tr>\n",
       "      <th>2</th>\n",
       "      <td>1</td>\n",
       "      <td>853596</td>\n",
       "      <td>1</td>\n",
       "      <td>1</td>\n",
       "    </tr>\n",
       "    <tr>\n",
       "      <th>3</th>\n",
       "      <td>1</td>\n",
       "      <td>854793</td>\n",
       "      <td>1</td>\n",
       "      <td>1</td>\n",
       "    </tr>\n",
       "    <tr>\n",
       "      <th>4</th>\n",
       "      <td>1</td>\n",
       "      <td>858862</td>\n",
       "      <td>0</td>\n",
       "      <td>0</td>\n",
       "    </tr>\n",
       "  </tbody>\n",
       "</table>\n",
       "</div>"
      ],
      "text/plain": [
       "   chrom     end  set_1  set_2\n",
       "0      1  847983      1      1\n",
       "1      1  853089      1      1\n",
       "2      1  853596      1      1\n",
       "3      1  854793      1      1\n",
       "4      1  858862      0      0"
      ]
     },
     "execution_count": 8,
     "metadata": {},
     "output_type": "execute_result"
    }
   ],
   "source": [
    "array_sites.head()"
   ]
  },
  {
   "cell_type": "markdown",
   "metadata": {},
   "source": [
    "### Process the genosnp file"
   ]
  },
  {
   "cell_type": "code",
   "execution_count": 9,
   "metadata": {
    "collapsed": true
   },
   "outputs": [],
   "source": [
    "genosnp = pd.concat([pd.read_table('../raw_data/ice_age/genosnp_first_500000.gz', sep=' ', header=None, na_values='-'),\n",
    "                     pd.read_table('../raw_data/ice_age/genosnp_last_454456.gz', sep=' ', header=None, na_values='-')])\n",
    "genosnp.columns = ['chrom', 'pos', 'id', 'genpos', 'allele0', 'allele1', 'bin', 'gt_string', 'bvalue']"
   ]
  },
  {
   "cell_type": "code",
   "execution_count": 10,
   "metadata": {
    "collapsed": false
   },
   "outputs": [
    {
     "data": {
      "text/html": [
       "<div>\n",
       "<table border=\"1\" class=\"dataframe\">\n",
       "  <thead>\n",
       "    <tr style=\"text-align: right;\">\n",
       "      <th></th>\n",
       "      <th>chrom</th>\n",
       "      <th>pos</th>\n",
       "      <th>id</th>\n",
       "      <th>genpos</th>\n",
       "      <th>allele0</th>\n",
       "      <th>allele1</th>\n",
       "      <th>bin</th>\n",
       "      <th>gt_string</th>\n",
       "      <th>bvalue</th>\n",
       "    </tr>\n",
       "  </thead>\n",
       "  <tbody>\n",
       "    <tr>\n",
       "      <th>0</th>\n",
       "      <td>1</td>\n",
       "      <td>847983</td>\n",
       "      <td>1_847983</td>\n",
       "      <td>0.008480</td>\n",
       "      <td>T</td>\n",
       "      <td>C</td>\n",
       "      <td>8.0</td>\n",
       "      <td>901009000990900900000900000009099999909000010009</td>\n",
       "      <td>958</td>\n",
       "    </tr>\n",
       "    <tr>\n",
       "      <th>1</th>\n",
       "      <td>1</td>\n",
       "      <td>853089</td>\n",
       "      <td>1_853089</td>\n",
       "      <td>0.008531</td>\n",
       "      <td>C</td>\n",
       "      <td>G</td>\n",
       "      <td>8.0</td>\n",
       "      <td>991009000999990000900900000009099999909000990009</td>\n",
       "      <td>958</td>\n",
       "    </tr>\n",
       "    <tr>\n",
       "      <th>2</th>\n",
       "      <td>1</td>\n",
       "      <td>853596</td>\n",
       "      <td>1_853596</td>\n",
       "      <td>0.008536</td>\n",
       "      <td>G</td>\n",
       "      <td>A</td>\n",
       "      <td>8.0</td>\n",
       "      <td>901019000999990900990900009009999999909000990009</td>\n",
       "      <td>958</td>\n",
       "    </tr>\n",
       "    <tr>\n",
       "      <th>3</th>\n",
       "      <td>1</td>\n",
       "      <td>854793</td>\n",
       "      <td>1_854793</td>\n",
       "      <td>0.008548</td>\n",
       "      <td>C</td>\n",
       "      <td>A</td>\n",
       "      <td>8.0</td>\n",
       "      <td>991009000999990900900900009001099999909000990009</td>\n",
       "      <td>958</td>\n",
       "    </tr>\n",
       "    <tr>\n",
       "      <th>4</th>\n",
       "      <td>1</td>\n",
       "      <td>858862</td>\n",
       "      <td>1_858862</td>\n",
       "      <td>0.008589</td>\n",
       "      <td>C</td>\n",
       "      <td>G</td>\n",
       "      <td>7.0</td>\n",
       "      <td>990009000999990900990900900009099999909000000009</td>\n",
       "      <td>952</td>\n",
       "    </tr>\n",
       "  </tbody>\n",
       "</table>\n",
       "</div>"
      ],
      "text/plain": [
       "   chrom     pos        id    genpos allele0 allele1  bin  \\\n",
       "0      1  847983  1_847983  0.008480       T       C  8.0   \n",
       "1      1  853089  1_853089  0.008531       C       G  8.0   \n",
       "2      1  853596  1_853596  0.008536       G       A  8.0   \n",
       "3      1  854793  1_854793  0.008548       C       A  8.0   \n",
       "4      1  858862  1_858862  0.008589       C       G  7.0   \n",
       "\n",
       "                                          gt_string  bvalue  \n",
       "0  901009000990900900000900000009099999909000010009     958  \n",
       "1  991009000999990000900900000009099999909000990009     958  \n",
       "2  901019000999990900990900009009999999909000990009     958  \n",
       "3  991009000999990900900900009001099999909000990009     958  \n",
       "4  990009000999990900990900900009099999909000000009     952  "
      ]
     },
     "execution_count": 10,
     "metadata": {},
     "output_type": "execute_result"
    }
   ],
   "source": [
    "genosnp.head()"
   ]
  },
  {
   "cell_type": "markdown",
   "metadata": {},
   "source": [
    "Convert the concatenated string of randomly called alleles to a DataFrame of integer values:"
   ]
  },
  {
   "cell_type": "code",
   "execution_count": 11,
   "metadata": {
    "collapsed": false
   },
   "outputs": [],
   "source": [
    "random_calls = pd.DataFrame([list(s) for s in list(genosnp.gt_string)], \n",
    "                            columns=individuals.sample_id.values, dtype=int,\n",
    "                            index=genosnp.index)"
   ]
  },
  {
   "cell_type": "code",
   "execution_count": 12,
   "metadata": {
    "collapsed": false
   },
   "outputs": [
    {
     "data": {
      "text/html": [
       "<div>\n",
       "<table border=\"1\" class=\"dataframe\">\n",
       "  <thead>\n",
       "    <tr style=\"text-align: right;\">\n",
       "      <th></th>\n",
       "      <th>AG2</th>\n",
       "      <th>AfontovaGora3</th>\n",
       "      <th>Altai</th>\n",
       "      <th>B_Australian_4</th>\n",
       "      <th>Chimp</th>\n",
       "      <th>Continenza</th>\n",
       "      <th>B_Dai_4</th>\n",
       "      <th>Denisova</th>\n",
       "      <th>B_Dinka_3</th>\n",
       "      <th>Dolni13</th>\n",
       "      <th>...</th>\n",
       "      <th>Pavlov1</th>\n",
       "      <th>B_Sardinian_3</th>\n",
       "      <th>Stuttgart</th>\n",
       "      <th>Ust_Ishim</th>\n",
       "      <th>Villabruna</th>\n",
       "      <th>Vi_merge</th>\n",
       "      <th>B_Yoruba_3</th>\n",
       "      <th>Bichon</th>\n",
       "      <th>KK1</th>\n",
       "      <th>SATP</th>\n",
       "    </tr>\n",
       "  </thead>\n",
       "  <tbody>\n",
       "    <tr>\n",
       "      <th>0</th>\n",
       "      <td>9</td>\n",
       "      <td>0</td>\n",
       "      <td>1</td>\n",
       "      <td>0</td>\n",
       "      <td>0</td>\n",
       "      <td>9</td>\n",
       "      <td>0</td>\n",
       "      <td>0</td>\n",
       "      <td>0</td>\n",
       "      <td>9</td>\n",
       "      <td>...</td>\n",
       "      <td>9</td>\n",
       "      <td>0</td>\n",
       "      <td>0</td>\n",
       "      <td>0</td>\n",
       "      <td>0</td>\n",
       "      <td>1</td>\n",
       "      <td>0</td>\n",
       "      <td>0</td>\n",
       "      <td>0</td>\n",
       "      <td>9</td>\n",
       "    </tr>\n",
       "    <tr>\n",
       "      <th>1</th>\n",
       "      <td>9</td>\n",
       "      <td>9</td>\n",
       "      <td>1</td>\n",
       "      <td>0</td>\n",
       "      <td>0</td>\n",
       "      <td>9</td>\n",
       "      <td>0</td>\n",
       "      <td>0</td>\n",
       "      <td>0</td>\n",
       "      <td>9</td>\n",
       "      <td>...</td>\n",
       "      <td>9</td>\n",
       "      <td>0</td>\n",
       "      <td>0</td>\n",
       "      <td>0</td>\n",
       "      <td>9</td>\n",
       "      <td>9</td>\n",
       "      <td>0</td>\n",
       "      <td>0</td>\n",
       "      <td>0</td>\n",
       "      <td>9</td>\n",
       "    </tr>\n",
       "    <tr>\n",
       "      <th>2</th>\n",
       "      <td>9</td>\n",
       "      <td>0</td>\n",
       "      <td>1</td>\n",
       "      <td>0</td>\n",
       "      <td>1</td>\n",
       "      <td>9</td>\n",
       "      <td>0</td>\n",
       "      <td>0</td>\n",
       "      <td>0</td>\n",
       "      <td>9</td>\n",
       "      <td>...</td>\n",
       "      <td>9</td>\n",
       "      <td>0</td>\n",
       "      <td>0</td>\n",
       "      <td>0</td>\n",
       "      <td>9</td>\n",
       "      <td>9</td>\n",
       "      <td>0</td>\n",
       "      <td>0</td>\n",
       "      <td>0</td>\n",
       "      <td>9</td>\n",
       "    </tr>\n",
       "    <tr>\n",
       "      <th>3</th>\n",
       "      <td>9</td>\n",
       "      <td>9</td>\n",
       "      <td>1</td>\n",
       "      <td>0</td>\n",
       "      <td>0</td>\n",
       "      <td>9</td>\n",
       "      <td>0</td>\n",
       "      <td>0</td>\n",
       "      <td>0</td>\n",
       "      <td>9</td>\n",
       "      <td>...</td>\n",
       "      <td>9</td>\n",
       "      <td>0</td>\n",
       "      <td>0</td>\n",
       "      <td>0</td>\n",
       "      <td>9</td>\n",
       "      <td>9</td>\n",
       "      <td>0</td>\n",
       "      <td>0</td>\n",
       "      <td>0</td>\n",
       "      <td>9</td>\n",
       "    </tr>\n",
       "    <tr>\n",
       "      <th>4</th>\n",
       "      <td>9</td>\n",
       "      <td>9</td>\n",
       "      <td>0</td>\n",
       "      <td>0</td>\n",
       "      <td>0</td>\n",
       "      <td>9</td>\n",
       "      <td>0</td>\n",
       "      <td>0</td>\n",
       "      <td>0</td>\n",
       "      <td>9</td>\n",
       "      <td>...</td>\n",
       "      <td>9</td>\n",
       "      <td>0</td>\n",
       "      <td>0</td>\n",
       "      <td>0</td>\n",
       "      <td>0</td>\n",
       "      <td>0</td>\n",
       "      <td>0</td>\n",
       "      <td>0</td>\n",
       "      <td>0</td>\n",
       "      <td>9</td>\n",
       "    </tr>\n",
       "  </tbody>\n",
       "</table>\n",
       "<p>5 rows × 48 columns</p>\n",
       "</div>"
      ],
      "text/plain": [
       "   AG2  AfontovaGora3  Altai  B_Australian_4  Chimp  Continenza  B_Dai_4  \\\n",
       "0    9              0      1               0      0           9        0   \n",
       "1    9              9      1               0      0           9        0   \n",
       "2    9              0      1               0      1           9        0   \n",
       "3    9              9      1               0      0           9        0   \n",
       "4    9              9      0               0      0           9        0   \n",
       "\n",
       "   Denisova  B_Dinka_3  Dolni13  ...   Pavlov1  B_Sardinian_3  Stuttgart  \\\n",
       "0         0          0        9  ...         9              0          0   \n",
       "1         0          0        9  ...         9              0          0   \n",
       "2         0          0        9  ...         9              0          0   \n",
       "3         0          0        9  ...         9              0          0   \n",
       "4         0          0        9  ...         9              0          0   \n",
       "\n",
       "   Ust_Ishim  Villabruna  Vi_merge  B_Yoruba_3  Bichon  KK1  SATP  \n",
       "0          0           0         1           0       0    0     9  \n",
       "1          0           9         9           0       0    0     9  \n",
       "2          0           9         9           0       0    0     9  \n",
       "3          0           9         9           0       0    0     9  \n",
       "4          0           0         0           0       0    0     9  \n",
       "\n",
       "[5 rows x 48 columns]"
      ]
     },
     "execution_count": 12,
     "metadata": {},
     "output_type": "execute_result"
    }
   ],
   "source": [
    "random_calls.head()"
   ]
  },
  {
   "cell_type": "markdown",
   "metadata": {},
   "source": [
    "Combine both into one table of randomly called alleles and their positions, B-values, etc...:"
   ]
  },
  {
   "cell_type": "code",
   "execution_count": 13,
   "metadata": {
    "collapsed": false,
    "scrolled": true
   },
   "outputs": [],
   "source": [
    "snp_data = pd.concat([genosnp[['chrom', 'pos', 'bvalue']],\n",
    "                      random_calls], axis=1, ignore_index=True)\n",
    "snp_data.columns = ['chrom', 'pos', 'bvalue'] + list(individuals.sample_id)"
   ]
  },
  {
   "cell_type": "markdown",
   "metadata": {},
   "source": [
    "Subset to the `783,974` sites used in the Ice Age paper:"
   ]
  },
  {
   "cell_type": "code",
   "execution_count": 14,
   "metadata": {
    "collapsed": false
   },
   "outputs": [],
   "source": [
    "snp_data = snp_data[(array_sites.set_1 == 1).values]"
   ]
  },
  {
   "cell_type": "markdown",
   "metadata": {},
   "source": [
    "Subset to sites which have a B-value assigned:"
   ]
  },
  {
   "cell_type": "code",
   "execution_count": 15,
   "metadata": {
    "collapsed": false
   },
   "outputs": [
    {
     "data": {
      "text/plain": [
       "783747"
      ]
     },
     "execution_count": 15,
     "metadata": {},
     "output_type": "execute_result"
    }
   ],
   "source": [
    "snp_data = snp_data[snp_data.bvalue != -1]\n",
    "len(snp_data)"
   ]
  },
  {
   "cell_type": "markdown",
   "metadata": {},
   "source": [
    "Check the result:"
   ]
  },
  {
   "cell_type": "code",
   "execution_count": 16,
   "metadata": {
    "collapsed": false,
    "scrolled": false
   },
   "outputs": [
    {
     "data": {
      "text/html": [
       "<div>\n",
       "<table border=\"1\" class=\"dataframe\">\n",
       "  <thead>\n",
       "    <tr style=\"text-align: right;\">\n",
       "      <th></th>\n",
       "      <th>chrom</th>\n",
       "      <th>pos</th>\n",
       "      <th>bvalue</th>\n",
       "      <th>AG2</th>\n",
       "      <th>AfontovaGora3</th>\n",
       "      <th>Altai</th>\n",
       "      <th>B_Australian_4</th>\n",
       "      <th>Chimp</th>\n",
       "      <th>Continenza</th>\n",
       "      <th>B_Dai_4</th>\n",
       "      <th>...</th>\n",
       "      <th>Pavlov1</th>\n",
       "      <th>B_Sardinian_3</th>\n",
       "      <th>Stuttgart</th>\n",
       "      <th>Ust_Ishim</th>\n",
       "      <th>Villabruna</th>\n",
       "      <th>Vi_merge</th>\n",
       "      <th>B_Yoruba_3</th>\n",
       "      <th>Bichon</th>\n",
       "      <th>KK1</th>\n",
       "      <th>SATP</th>\n",
       "    </tr>\n",
       "  </thead>\n",
       "  <tbody>\n",
       "    <tr>\n",
       "      <th>0</th>\n",
       "      <td>1</td>\n",
       "      <td>847983</td>\n",
       "      <td>958</td>\n",
       "      <td>9</td>\n",
       "      <td>0</td>\n",
       "      <td>1</td>\n",
       "      <td>0</td>\n",
       "      <td>0</td>\n",
       "      <td>9</td>\n",
       "      <td>0</td>\n",
       "      <td>...</td>\n",
       "      <td>9</td>\n",
       "      <td>0</td>\n",
       "      <td>0</td>\n",
       "      <td>0</td>\n",
       "      <td>0</td>\n",
       "      <td>1</td>\n",
       "      <td>0</td>\n",
       "      <td>0</td>\n",
       "      <td>0</td>\n",
       "      <td>9</td>\n",
       "    </tr>\n",
       "    <tr>\n",
       "      <th>1</th>\n",
       "      <td>1</td>\n",
       "      <td>853089</td>\n",
       "      <td>958</td>\n",
       "      <td>9</td>\n",
       "      <td>9</td>\n",
       "      <td>1</td>\n",
       "      <td>0</td>\n",
       "      <td>0</td>\n",
       "      <td>9</td>\n",
       "      <td>0</td>\n",
       "      <td>...</td>\n",
       "      <td>9</td>\n",
       "      <td>0</td>\n",
       "      <td>0</td>\n",
       "      <td>0</td>\n",
       "      <td>9</td>\n",
       "      <td>9</td>\n",
       "      <td>0</td>\n",
       "      <td>0</td>\n",
       "      <td>0</td>\n",
       "      <td>9</td>\n",
       "    </tr>\n",
       "    <tr>\n",
       "      <th>2</th>\n",
       "      <td>1</td>\n",
       "      <td>853596</td>\n",
       "      <td>958</td>\n",
       "      <td>9</td>\n",
       "      <td>0</td>\n",
       "      <td>1</td>\n",
       "      <td>0</td>\n",
       "      <td>1</td>\n",
       "      <td>9</td>\n",
       "      <td>0</td>\n",
       "      <td>...</td>\n",
       "      <td>9</td>\n",
       "      <td>0</td>\n",
       "      <td>0</td>\n",
       "      <td>0</td>\n",
       "      <td>9</td>\n",
       "      <td>9</td>\n",
       "      <td>0</td>\n",
       "      <td>0</td>\n",
       "      <td>0</td>\n",
       "      <td>9</td>\n",
       "    </tr>\n",
       "    <tr>\n",
       "      <th>3</th>\n",
       "      <td>1</td>\n",
       "      <td>854793</td>\n",
       "      <td>958</td>\n",
       "      <td>9</td>\n",
       "      <td>9</td>\n",
       "      <td>1</td>\n",
       "      <td>0</td>\n",
       "      <td>0</td>\n",
       "      <td>9</td>\n",
       "      <td>0</td>\n",
       "      <td>...</td>\n",
       "      <td>9</td>\n",
       "      <td>0</td>\n",
       "      <td>0</td>\n",
       "      <td>0</td>\n",
       "      <td>9</td>\n",
       "      <td>9</td>\n",
       "      <td>0</td>\n",
       "      <td>0</td>\n",
       "      <td>0</td>\n",
       "      <td>9</td>\n",
       "    </tr>\n",
       "    <tr>\n",
       "      <th>5</th>\n",
       "      <td>1</td>\n",
       "      <td>867151</td>\n",
       "      <td>946</td>\n",
       "      <td>9</td>\n",
       "      <td>9</td>\n",
       "      <td>1</td>\n",
       "      <td>0</td>\n",
       "      <td>9</td>\n",
       "      <td>9</td>\n",
       "      <td>0</td>\n",
       "      <td>...</td>\n",
       "      <td>9</td>\n",
       "      <td>0</td>\n",
       "      <td>0</td>\n",
       "      <td>0</td>\n",
       "      <td>0</td>\n",
       "      <td>9</td>\n",
       "      <td>0</td>\n",
       "      <td>0</td>\n",
       "      <td>0</td>\n",
       "      <td>0</td>\n",
       "    </tr>\n",
       "  </tbody>\n",
       "</table>\n",
       "<p>5 rows × 51 columns</p>\n",
       "</div>"
      ],
      "text/plain": [
       "   chrom     pos  bvalue  AG2  AfontovaGora3  Altai  B_Australian_4  Chimp  \\\n",
       "0      1  847983     958    9              0      1               0      0   \n",
       "1      1  853089     958    9              9      1               0      0   \n",
       "2      1  853596     958    9              0      1               0      1   \n",
       "3      1  854793     958    9              9      1               0      0   \n",
       "5      1  867151     946    9              9      1               0      9   \n",
       "\n",
       "   Continenza  B_Dai_4  ...   Pavlov1  B_Sardinian_3  Stuttgart  Ust_Ishim  \\\n",
       "0           9        0  ...         9              0          0          0   \n",
       "1           9        0  ...         9              0          0          0   \n",
       "2           9        0  ...         9              0          0          0   \n",
       "3           9        0  ...         9              0          0          0   \n",
       "5           9        0  ...         9              0          0          0   \n",
       "\n",
       "   Villabruna  Vi_merge  B_Yoruba_3  Bichon  KK1  SATP  \n",
       "0           0         1           0       0    0     9  \n",
       "1           9         9           0       0    0     9  \n",
       "2           9         9           0       0    0     9  \n",
       "3           9         9           0       0    0     9  \n",
       "5           0         9           0       0    0     0  \n",
       "\n",
       "[5 rows x 51 columns]"
      ]
     },
     "execution_count": 16,
     "metadata": {},
     "output_type": "execute_result"
    }
   ],
   "source": [
    "snp_data.head()"
   ]
  },
  {
   "cell_type": "markdown",
   "metadata": {},
   "source": [
    "# Additional SNP annotations\n",
    "\n",
    "We don't want to rely just on the B value annotations. Since they are used as a measure of proximity to functional regions, how about using a more direct measure of this proximity?\n",
    "\n",
    "* distance to the nearest exon\n",
    "* amount of coding sequence in a X bp window around each site\n",
    "* phyloP score"
   ]
  },
  {
   "cell_type": "markdown",
   "metadata": {},
   "source": [
    "## Exonic annotations"
   ]
  },
  {
   "cell_type": "markdown",
   "metadata": {},
   "source": [
    "Create array sites BED object:"
   ]
  },
  {
   "cell_type": "code",
   "execution_count": 17,
   "metadata": {
    "collapsed": false
   },
   "outputs": [],
   "source": [
    "snp_bed = snp_data[['chrom', 'pos']].copy()\n",
    "snp_bed['start'] = snp_bed.pos - 1\n",
    "snp_bed.rename(columns={'pos': 'end'}, inplace=True)\n",
    "\n",
    "snps = BedTool.from_dataframe(snp_bed[['chrom', 'start', 'end']]).sort()"
   ]
  },
  {
   "cell_type": "markdown",
   "metadata": {},
   "source": [
    "Download the genome annotations and subset to exons only:"
   ]
  },
  {
   "cell_type": "code",
   "execution_count": 18,
   "metadata": {
    "collapsed": true
   },
   "outputs": [],
   "source": [
    "gtf = pd.read_table('ftp://ftp.ensembl.org/pub/release-75/gtf/homo_sapiens/Homo_sapiens.GRCh37.75.gtf.gz',\n",
    "                    header=None, sep='\\t', skipinitialspace=True, skiprows=5, compression='gzip',\n",
    "                    names=['chrom', 'source', 'feature', 'start', 'end',\n",
    "                           'score', 'strand', 'frame', 'attribute'], low_memory=False)"
   ]
  },
  {
   "cell_type": "code",
   "execution_count": 19,
   "metadata": {
    "collapsed": false
   },
   "outputs": [
    {
     "data": {
      "text/html": [
       "<div>\n",
       "<table border=\"1\" class=\"dataframe\">\n",
       "  <thead>\n",
       "    <tr style=\"text-align: right;\">\n",
       "      <th></th>\n",
       "      <th>chrom</th>\n",
       "      <th>source</th>\n",
       "      <th>feature</th>\n",
       "      <th>start</th>\n",
       "      <th>end</th>\n",
       "      <th>score</th>\n",
       "      <th>strand</th>\n",
       "      <th>frame</th>\n",
       "      <th>attribute</th>\n",
       "    </tr>\n",
       "  </thead>\n",
       "  <tbody>\n",
       "    <tr>\n",
       "      <th>0</th>\n",
       "      <td>1</td>\n",
       "      <td>pseudogene</td>\n",
       "      <td>gene</td>\n",
       "      <td>11869</td>\n",
       "      <td>14412</td>\n",
       "      <td>.</td>\n",
       "      <td>+</td>\n",
       "      <td>.</td>\n",
       "      <td>gene_id \"ENSG00000223972\"; gene_name \"DDX11L1\"...</td>\n",
       "    </tr>\n",
       "    <tr>\n",
       "      <th>1</th>\n",
       "      <td>1</td>\n",
       "      <td>processed_transcript</td>\n",
       "      <td>transcript</td>\n",
       "      <td>11869</td>\n",
       "      <td>14409</td>\n",
       "      <td>.</td>\n",
       "      <td>+</td>\n",
       "      <td>.</td>\n",
       "      <td>gene_id \"ENSG00000223972\"; transcript_id \"ENST...</td>\n",
       "    </tr>\n",
       "    <tr>\n",
       "      <th>2</th>\n",
       "      <td>1</td>\n",
       "      <td>processed_transcript</td>\n",
       "      <td>exon</td>\n",
       "      <td>11869</td>\n",
       "      <td>12227</td>\n",
       "      <td>.</td>\n",
       "      <td>+</td>\n",
       "      <td>.</td>\n",
       "      <td>gene_id \"ENSG00000223972\"; transcript_id \"ENST...</td>\n",
       "    </tr>\n",
       "    <tr>\n",
       "      <th>3</th>\n",
       "      <td>1</td>\n",
       "      <td>processed_transcript</td>\n",
       "      <td>exon</td>\n",
       "      <td>12613</td>\n",
       "      <td>12721</td>\n",
       "      <td>.</td>\n",
       "      <td>+</td>\n",
       "      <td>.</td>\n",
       "      <td>gene_id \"ENSG00000223972\"; transcript_id \"ENST...</td>\n",
       "    </tr>\n",
       "    <tr>\n",
       "      <th>4</th>\n",
       "      <td>1</td>\n",
       "      <td>processed_transcript</td>\n",
       "      <td>exon</td>\n",
       "      <td>13221</td>\n",
       "      <td>14409</td>\n",
       "      <td>.</td>\n",
       "      <td>+</td>\n",
       "      <td>.</td>\n",
       "      <td>gene_id \"ENSG00000223972\"; transcript_id \"ENST...</td>\n",
       "    </tr>\n",
       "  </tbody>\n",
       "</table>\n",
       "</div>"
      ],
      "text/plain": [
       "  chrom                source     feature  start    end score strand frame  \\\n",
       "0     1            pseudogene        gene  11869  14412     .      +     .   \n",
       "1     1  processed_transcript  transcript  11869  14409     .      +     .   \n",
       "2     1  processed_transcript        exon  11869  12227     .      +     .   \n",
       "3     1  processed_transcript        exon  12613  12721     .      +     .   \n",
       "4     1  processed_transcript        exon  13221  14409     .      +     .   \n",
       "\n",
       "                                           attribute  \n",
       "0  gene_id \"ENSG00000223972\"; gene_name \"DDX11L1\"...  \n",
       "1  gene_id \"ENSG00000223972\"; transcript_id \"ENST...  \n",
       "2  gene_id \"ENSG00000223972\"; transcript_id \"ENST...  \n",
       "3  gene_id \"ENSG00000223972\"; transcript_id \"ENST...  \n",
       "4  gene_id \"ENSG00000223972\"; transcript_id \"ENST...  "
      ]
     },
     "execution_count": 19,
     "metadata": {},
     "output_type": "execute_result"
    }
   ],
   "source": [
    "gtf.head()"
   ]
  },
  {
   "cell_type": "code",
   "execution_count": 20,
   "metadata": {
    "collapsed": false
   },
   "outputs": [
    {
     "data": {
      "text/plain": [
       "exon              1306656\n",
       "CDS                791856\n",
       "UTR                304070\n",
       "transcript         215170\n",
       "stop_codon          73411\n",
       "start_codon         73358\n",
       "gene                63677\n",
       "Selenocysteine        114\n",
       "Name: feature, dtype: int64"
      ]
     },
     "execution_count": 20,
     "metadata": {},
     "output_type": "execute_result"
    }
   ],
   "source": [
    "gtf.feature.value_counts()"
   ]
  },
  {
   "cell_type": "markdown",
   "metadata": {},
   "source": [
    "Create exons BED object:"
   ]
  },
  {
   "cell_type": "code",
   "execution_count": 21,
   "metadata": {
    "collapsed": true
   },
   "outputs": [],
   "source": [
    "exons = BedTool.from_dataframe(\n",
    "    gtf[(gtf.source == \"protein_coding\") &\n",
    "        (gtf.feature == \"exon\")]\n",
    ").sort().merge()"
   ]
  },
  {
   "cell_type": "markdown",
   "metadata": {},
   "source": [
    "### Distance to the nearest exon"
   ]
  },
  {
   "cell_type": "markdown",
   "metadata": {},
   "source": [
    "Find the distance of each site from the admixture array to the nearest exon:"
   ]
  },
  {
   "cell_type": "code",
   "execution_count": 22,
   "metadata": {
    "collapsed": false
   },
   "outputs": [],
   "source": [
    "distances = snps.closest(exons, t='first', d=True).to_dataframe()[[-1]].values\n",
    "snp_data['exon_distance'] = distances"
   ]
  },
  {
   "cell_type": "markdown",
   "metadata": {},
   "source": [
    "### Amount of coding sequence in a 100 kb window upstream/downstream of the SNP"
   ]
  },
  {
   "cell_type": "markdown",
   "metadata": {},
   "source": [
    "How far upstream/downstream to extend the window? Window size will be `(2 * flank + 1)` bp."
   ]
  },
  {
   "cell_type": "code",
   "execution_count": 23,
   "metadata": {
    "collapsed": true
   },
   "outputs": [],
   "source": [
    "flank = 100000"
   ]
  },
  {
   "cell_type": "markdown",
   "metadata": {},
   "source": [
    "Generate the BED object of windows flanking both sides of all SNPs:"
   ]
  },
  {
   "cell_type": "code",
   "execution_count": 24,
   "metadata": {
    "collapsed": false
   },
   "outputs": [],
   "source": [
    "snp_windows = snps.slop(b=flank, genome='hg19')"
   ]
  },
  {
   "cell_type": "markdown",
   "metadata": {},
   "source": [
    "For each exon overlapping a given window, count the number of bases of the overlap. One row for each potential exon. If there are no exons overlapping a window, report 0 bp overlap."
   ]
  },
  {
   "cell_type": "code",
   "execution_count": 25,
   "metadata": {
    "collapsed": false
   },
   "outputs": [
    {
     "name": "stderr",
     "output_type": "stream",
     "text": [
      "/home/martin_petr/.pyenv/versions/3.5.2/lib/python3.5/site-packages/IPython/core/interactiveshell.py:2821: DtypeWarning: Columns (3) have mixed types. Specify dtype option on import or set low_memory=False.\n",
      "  if self.run_code(code, result):\n"
     ]
    }
   ],
   "source": [
    "exon_overlaps = snp_windows.intersect(exons, wao=True)   \\\n",
    "                           .to_dataframe()[['chrom', 'start', 'end', 'thickStart']]"
   ]
  },
  {
   "cell_type": "markdown",
   "metadata": {},
   "source": [
    "`thickStart` contains the number of bases overlapping with each exon in a window around each SNP. Summing up these column for each unique region using `groupby` (i.e. window around each SNP) gives the total number of coding sequence surrounding each SNP."
   ]
  },
  {
   "cell_type": "code",
   "execution_count": 26,
   "metadata": {
    "collapsed": true
   },
   "outputs": [],
   "source": [
    "total_overlaps = exon_overlaps.groupby(['chrom', 'start', 'end'])['thickStart'].sum().reset_index()['thickStart']"
   ]
  },
  {
   "cell_type": "markdown",
   "metadata": {},
   "source": [
    "Save the proportion of each window occupied by exonic sequence:"
   ]
  },
  {
   "cell_type": "code",
   "execution_count": 27,
   "metadata": {
    "collapsed": false
   },
   "outputs": [],
   "source": [
    "snp_data['exon_overlap'] = total_overlaps / (2 * flank + 1)"
   ]
  },
  {
   "cell_type": "markdown",
   "metadata": {},
   "source": [
    "## phyloP annotation\n",
    "\n",
    "Conservation score calculated without human data (more suitable to study Nea. introgression)."
   ]
  },
  {
   "cell_type": "markdown",
   "metadata": {},
   "source": [
    "Create array sites BED object:"
   ]
  },
  {
   "cell_type": "code",
   "execution_count": 28,
   "metadata": {
    "collapsed": true
   },
   "outputs": [],
   "source": [
    "snp_bed = snp_data[['chrom', 'pos']].copy()\n",
    "snp_bed['start'] = snp_bed.pos - 1\n",
    "snp_bed.rename(columns={'pos': 'end'}, inplace=True)\n",
    "\n",
    "# chromosome IDs need a 'chr' prefix to match phyloP data\n",
    "snp_bed['chrom'] = \"chr\" + snp_bed.chrom.astype(str)\n",
    "\n",
    "snps = BedTool.from_dataframe(snp_bed[['chrom', 'start', 'end']]).sort()"
   ]
  },
  {
   "cell_type": "markdown",
   "metadata": {},
   "source": [
    "Size of the window around each SNP, in which to calculate average phyloP score:"
   ]
  },
  {
   "cell_type": "code",
   "execution_count": 29,
   "metadata": {
    "collapsed": true
   },
   "outputs": [],
   "source": [
    "WINDOW_SIZE = 1000"
   ]
  },
  {
   "cell_type": "code",
   "execution_count": 30,
   "metadata": {
    "collapsed": false
   },
   "outputs": [],
   "source": [
    "def process_chromosome(chrom, snps, window_size):\n",
    "    phylop = BedTool(\"/mnt/expressions/benjamin_vernot/phyloP_no_human/Compara.36_eutherian_mammals_EPO_LOW_COVERAGE.chr\" + str(chrom) + \"_.phyloP_no_human.SS.bed\")\n",
    "    \n",
    "    # get all sites surrounding each SNP from the archaic admixture array\n",
    "    phylop_windows = snps.window(phylop, w=window_size).to_dataframe()\n",
    "    \n",
    "    # calculate the average phyloP score of each SNP (based on phyloP values in windows around them)\n",
    "    avg_phylop = phylop_windows.groupby(['chrom', 'start', 'end'])['thickStart'].mean().reset_index()\n",
    "    del phylop_windows\n",
    "\n",
    "    # rename the fields to make join with the original archaic admixture array SNP table possible\n",
    "    avg_phylop = avg_phylop.rename(columns={'end': 'pos', 'thickStart': 'phylop'})[['chrom', 'pos', 'phylop']]\n",
    "\n",
    "    # remove the 'chr' prefix of chromosome IDs\n",
    "    avg_phylop.chrom.replace(to_replace='chr', value='', regex=True, inplace=True)\n",
    "    avg_phylop['chrom'] = avg_phylop.astype(int)\n",
    "    \n",
    "    return avg_phylop"
   ]
  },
  {
   "cell_type": "markdown",
   "metadata": {
    "collapsed": true
   },
   "source": [
    "### Process all phyloP BED files in parallel"
   ]
  },
  {
   "cell_type": "code",
   "execution_count": 31,
   "metadata": {
    "collapsed": false
   },
   "outputs": [],
   "source": [
    "import functools\n",
    "\n",
    "# create a partial function used to process a given chromosome's phyloP BED file\n",
    "fn = functools.partial(process_chromosome, snps=snps, window_size=WINDOW_SIZE)"
   ]
  },
  {
   "cell_type": "code",
   "execution_count": 32,
   "metadata": {
    "collapsed": false
   },
   "outputs": [],
   "source": [
    "import random\n",
    "chroms = [chrom for chrom in range(1, 23)]\n",
    "random.shuffle(chroms)"
   ]
  },
  {
   "cell_type": "code",
   "execution_count": 33,
   "metadata": {
    "collapsed": false
   },
   "outputs": [],
   "source": [
    "from multiprocessing import Pool\n",
    "\n",
    "# create a pool of 22 workers that will process each chromosome\n",
    "with Pool(processes=10) as pool:\n",
    "    # map the processing function across all chromosomes\n",
    "    phylop_snps_per_chrom = pool.map(fn, chroms)\n",
    "\n",
    "    # concatenate the results into a single dataframe\n",
    "    phylop_snps = pd.concat(phylop_snps_per_chrom)"
   ]
  },
  {
   "cell_type": "markdown",
   "metadata": {},
   "source": [
    "### Join the phyloP averages with the rest of the data"
   ]
  },
  {
   "cell_type": "code",
   "execution_count": 34,
   "metadata": {
    "collapsed": true
   },
   "outputs": [],
   "source": [
    "snp_data = snp_data.merge(phylop_snps, how='left', on=['chrom', 'pos'])"
   ]
  },
  {
   "cell_type": "code",
   "execution_count": 35,
   "metadata": {
    "collapsed": false
   },
   "outputs": [
    {
     "data": {
      "text/html": [
       "<div>\n",
       "<table border=\"1\" class=\"dataframe\">\n",
       "  <thead>\n",
       "    <tr style=\"text-align: right;\">\n",
       "      <th></th>\n",
       "      <th>chrom</th>\n",
       "      <th>pos</th>\n",
       "      <th>bvalue</th>\n",
       "      <th>AG2</th>\n",
       "      <th>AfontovaGora3</th>\n",
       "      <th>Altai</th>\n",
       "      <th>B_Australian_4</th>\n",
       "      <th>Chimp</th>\n",
       "      <th>Continenza</th>\n",
       "      <th>B_Dai_4</th>\n",
       "      <th>...</th>\n",
       "      <th>Ust_Ishim</th>\n",
       "      <th>Villabruna</th>\n",
       "      <th>Vi_merge</th>\n",
       "      <th>B_Yoruba_3</th>\n",
       "      <th>Bichon</th>\n",
       "      <th>KK1</th>\n",
       "      <th>SATP</th>\n",
       "      <th>exon_distance</th>\n",
       "      <th>exon_overlap</th>\n",
       "      <th>phylop</th>\n",
       "    </tr>\n",
       "  </thead>\n",
       "  <tbody>\n",
       "    <tr>\n",
       "      <th>764619</th>\n",
       "      <td>21</td>\n",
       "      <td>15499641</td>\n",
       "      <td>929</td>\n",
       "      <td>9</td>\n",
       "      <td>9</td>\n",
       "      <td>1</td>\n",
       "      <td>0</td>\n",
       "      <td>0</td>\n",
       "      <td>9</td>\n",
       "      <td>0</td>\n",
       "      <td>...</td>\n",
       "      <td>0</td>\n",
       "      <td>9</td>\n",
       "      <td>1</td>\n",
       "      <td>0</td>\n",
       "      <td>0</td>\n",
       "      <td>0</td>\n",
       "      <td>0</td>\n",
       "      <td>69083</td>\n",
       "      <td>0.0</td>\n",
       "      <td>0.030273</td>\n",
       "    </tr>\n",
       "    <tr>\n",
       "      <th>764620</th>\n",
       "      <td>21</td>\n",
       "      <td>15499796</td>\n",
       "      <td>929</td>\n",
       "      <td>9</td>\n",
       "      <td>9</td>\n",
       "      <td>1</td>\n",
       "      <td>0</td>\n",
       "      <td>0</td>\n",
       "      <td>9</td>\n",
       "      <td>0</td>\n",
       "      <td>...</td>\n",
       "      <td>0</td>\n",
       "      <td>9</td>\n",
       "      <td>9</td>\n",
       "      <td>0</td>\n",
       "      <td>1</td>\n",
       "      <td>0</td>\n",
       "      <td>0</td>\n",
       "      <td>68987</td>\n",
       "      <td>0.0</td>\n",
       "      <td>0.020055</td>\n",
       "    </tr>\n",
       "    <tr>\n",
       "      <th>764621</th>\n",
       "      <td>21</td>\n",
       "      <td>15500371</td>\n",
       "      <td>929</td>\n",
       "      <td>9</td>\n",
       "      <td>9</td>\n",
       "      <td>1</td>\n",
       "      <td>0</td>\n",
       "      <td>0</td>\n",
       "      <td>9</td>\n",
       "      <td>0</td>\n",
       "      <td>...</td>\n",
       "      <td>0</td>\n",
       "      <td>9</td>\n",
       "      <td>9</td>\n",
       "      <td>0</td>\n",
       "      <td>0</td>\n",
       "      <td>0</td>\n",
       "      <td>9</td>\n",
       "      <td>68859</td>\n",
       "      <td>0.0</td>\n",
       "      <td>-0.023501</td>\n",
       "    </tr>\n",
       "    <tr>\n",
       "      <th>764622</th>\n",
       "      <td>21</td>\n",
       "      <td>15502912</td>\n",
       "      <td>929</td>\n",
       "      <td>9</td>\n",
       "      <td>9</td>\n",
       "      <td>1</td>\n",
       "      <td>0</td>\n",
       "      <td>0</td>\n",
       "      <td>9</td>\n",
       "      <td>0</td>\n",
       "      <td>...</td>\n",
       "      <td>0</td>\n",
       "      <td>1</td>\n",
       "      <td>1</td>\n",
       "      <td>0</td>\n",
       "      <td>1</td>\n",
       "      <td>0</td>\n",
       "      <td>0</td>\n",
       "      <td>63949</td>\n",
       "      <td>0.0</td>\n",
       "      <td>0.024461</td>\n",
       "    </tr>\n",
       "    <tr>\n",
       "      <th>764623</th>\n",
       "      <td>21</td>\n",
       "      <td>15507966</td>\n",
       "      <td>929</td>\n",
       "      <td>9</td>\n",
       "      <td>0</td>\n",
       "      <td>1</td>\n",
       "      <td>0</td>\n",
       "      <td>0</td>\n",
       "      <td>9</td>\n",
       "      <td>0</td>\n",
       "      <td>...</td>\n",
       "      <td>0</td>\n",
       "      <td>9</td>\n",
       "      <td>9</td>\n",
       "      <td>0</td>\n",
       "      <td>1</td>\n",
       "      <td>0</td>\n",
       "      <td>0</td>\n",
       "      <td>62056</td>\n",
       "      <td>0.0</td>\n",
       "      <td>0.054961</td>\n",
       "    </tr>\n",
       "  </tbody>\n",
       "</table>\n",
       "<p>5 rows × 54 columns</p>\n",
       "</div>"
      ],
      "text/plain": [
       "        chrom       pos  bvalue  AG2  AfontovaGora3  Altai  B_Australian_4  \\\n",
       "764619     21  15499641     929    9              9      1               0   \n",
       "764620     21  15499796     929    9              9      1               0   \n",
       "764621     21  15500371     929    9              9      1               0   \n",
       "764622     21  15502912     929    9              9      1               0   \n",
       "764623     21  15507966     929    9              0      1               0   \n",
       "\n",
       "        Chimp  Continenza  B_Dai_4    ...     Ust_Ishim  Villabruna  Vi_merge  \\\n",
       "764619      0           9        0    ...             0           9         1   \n",
       "764620      0           9        0    ...             0           9         9   \n",
       "764621      0           9        0    ...             0           9         9   \n",
       "764622      0           9        0    ...             0           1         1   \n",
       "764623      0           9        0    ...             0           9         9   \n",
       "\n",
       "        B_Yoruba_3  Bichon  KK1  SATP  exon_distance  exon_overlap    phylop  \n",
       "764619           0       0    0     0          69083           0.0  0.030273  \n",
       "764620           0       1    0     0          68987           0.0  0.020055  \n",
       "764621           0       0    0     9          68859           0.0 -0.023501  \n",
       "764622           0       1    0     0          63949           0.0  0.024461  \n",
       "764623           0       1    0     0          62056           0.0  0.054961  \n",
       "\n",
       "[5 rows x 54 columns]"
      ]
     },
     "execution_count": 35,
     "metadata": {},
     "output_type": "execute_result"
    }
   ],
   "source": [
    "snp_data.query(\"chrom == 21\").head()"
   ]
  },
  {
   "cell_type": "markdown",
   "metadata": {},
   "source": [
    "# Output the processed genosnp table in a tab-separated file"
   ]
  },
  {
   "cell_type": "code",
   "execution_count": 36,
   "metadata": {
    "collapsed": false
   },
   "outputs": [],
   "source": [
    "snp_data[['chrom', 'pos', 'bvalue', 'phylop', 'exon_distance', 'exon_overlap'] +\n",
    "         list(individuals.sample_id)].to_csv('../clean_data/ice_age.tsv', sep='\\t', index=False, na_rep='-')"
   ]
  }
 ],
 "metadata": {
  "kernelspec": {
   "display_name": "Python 3",
   "language": "python",
   "name": "python3"
  },
  "language_info": {
   "codemirror_mode": {
    "name": "ipython",
    "version": 3
   },
   "file_extension": ".py",
   "mimetype": "text/x-python",
   "name": "python",
   "nbconvert_exporter": "python",
   "pygments_lexer": "ipython3",
   "version": "3.5.2"
  }
 },
 "nbformat": 4,
 "nbformat_minor": 0
}
