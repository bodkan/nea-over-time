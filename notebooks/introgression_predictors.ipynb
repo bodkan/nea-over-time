{
 "cells": [
  {
   "cell_type": "markdown",
   "metadata": {},
   "source": [
    "The basic idea is to find out which categories of genomic regions (exons, promoters, enhancers, etc) contribute the most to the Nea. ancestry observed in present day Europeans. For example: have coding regions or enhancers been the main drivers of selection against Nea. introgression?"
   ]
  },
  {
   "cell_type": "markdown",
   "metadata": {},
   "source": [
    "Links:\n",
    "\n",
    "* info about different coordinate types: https://groups.google.com/forum/#!msg/biomart-users/OtQbAx3y9CA/wrF19ID1AgAJ\n",
    "* https://www.biostars.org/p/2005/\n",
    "* http://www.bioconductor.org/packages/release/bioc/vignettes/biomaRt/inst/doc/biomaRt.html#attribute-pages\n",
    "* http://www.ensembl.org/info/data/biomart/biomart_r_package.html\n",
    "* http://www.ensembl.info/blog/2015/06/01/biomart-or-how-to-access-the-ensembl-data-from-r/\n",
    "* for checking with manually downloaded data: http://www.ensembl.org/info/data/biomart/how_to_use_biomart.html"
   ]
  },
  {
   "cell_type": "raw",
   "metadata": {},
   "source": [
    "source(\"http://bioconductor.org/biocLite.R\")\n",
    "biocLite(\"biomaRt\")"
   ]
  },
  {
   "cell_type": "markdown",
   "metadata": {},
   "source": [
    "Following [this](http://www.ensembl.org/info/data/biomart/biomart_r_package.html) tutorial, I want to extract coordinates of exonic and regulatory regions from the Ensembl database and then calculate the density of such regions in a defined window around each SNP.\n",
    "\n",
    "These densities will they be used as predictors in a linear model, predicting the Nea. ancestry at each site.\n",
    "\n",
    "Alternatively, I could just test if the distribution of densities for different regions differ based on frequency of Nea. alleles at each site."
   ]
  },
  {
   "cell_type": "code",
   "execution_count": 1,
   "metadata": {},
   "outputs": [
    {
     "name": "stderr",
     "output_type": "stream",
     "text": [
      "Loading tidyverse: ggplot2\n",
      "Loading tidyverse: tibble\n",
      "Loading tidyverse: tidyr\n",
      "Loading tidyverse: readr\n",
      "Loading tidyverse: purrr\n",
      "Loading tidyverse: dplyr\n",
      "Conflicts with tidy packages ---------------------------------------------------\n",
      "filter(): dplyr, stats\n",
      "lag():    dplyr, stats\n",
      "\n",
      "Attaching package: ‘magrittr’\n",
      "\n",
      "The following object is masked from ‘package:purrr’:\n",
      "\n",
      "    set_names\n",
      "\n",
      "The following object is masked from ‘package:tidyr’:\n",
      "\n",
      "    extract\n",
      "\n"
     ]
    }
   ],
   "source": [
    "library(tidyverse)\n",
    "library(stringr)\n",
    "library(magrittr)\n",
    "library(parallel)"
   ]
  },
  {
   "cell_type": "code",
   "execution_count": 2,
   "metadata": {},
   "outputs": [
    {
     "name": "stderr",
     "output_type": "stream",
     "text": [
      "Loading required package: GenomicRanges\n",
      "Loading required package: BiocGenerics\n",
      "\n",
      "Attaching package: ‘BiocGenerics’\n",
      "\n",
      "The following objects are masked from ‘package:parallel’:\n",
      "\n",
      "    clusterApply, clusterApplyLB, clusterCall, clusterEvalQ,\n",
      "    clusterExport, clusterMap, parApply, parCapply, parLapply,\n",
      "    parLapplyLB, parRapply, parSapply, parSapplyLB\n",
      "\n",
      "The following objects are masked from ‘package:dplyr’:\n",
      "\n",
      "    combine, intersect, setdiff, union\n",
      "\n",
      "The following objects are masked from ‘package:stats’:\n",
      "\n",
      "    IQR, mad, xtabs\n",
      "\n",
      "The following objects are masked from ‘package:base’:\n",
      "\n",
      "    anyDuplicated, append, as.data.frame, cbind, colnames, do.call,\n",
      "    duplicated, eval, evalq, Filter, Find, get, grep, grepl, intersect,\n",
      "    is.unsorted, lapply, lengths, Map, mapply, match, mget, order,\n",
      "    paste, pmax, pmax.int, pmin, pmin.int, Position, rank, rbind,\n",
      "    Reduce, rownames, sapply, setdiff, sort, table, tapply, union,\n",
      "    unique, unsplit\n",
      "\n",
      "Loading required package: S4Vectors\n",
      "Loading required package: stats4\n",
      "\n",
      "Attaching package: ‘S4Vectors’\n",
      "\n",
      "The following objects are masked from ‘package:dplyr’:\n",
      "\n",
      "    first, rename\n",
      "\n",
      "The following object is masked from ‘package:tidyr’:\n",
      "\n",
      "    expand\n",
      "\n",
      "The following objects are masked from ‘package:base’:\n",
      "\n",
      "    colMeans, colSums, expand.grid, rowMeans, rowSums\n",
      "\n",
      "Loading required package: IRanges\n",
      "\n",
      "Attaching package: ‘IRanges’\n",
      "\n",
      "The following objects are masked from ‘package:dplyr’:\n",
      "\n",
      "    collapse, desc, slice\n",
      "\n",
      "The following objects are masked from ‘package:purrr’:\n",
      "\n",
      "    reduce, simplify\n",
      "\n",
      "Loading required package: GenomeInfoDb\n",
      "Loading required package: BSgenome\n",
      "Loading required package: Biostrings\n",
      "Loading required package: XVector\n",
      "\n",
      "Attaching package: ‘XVector’\n",
      "\n",
      "The following object is masked from ‘package:purrr’:\n",
      "\n",
      "    compact\n",
      "\n"
     ]
    }
   ],
   "source": [
    "library(biomaRt)\n",
    "library(rtracklayer)\n",
    "library(BSgenome.Hsapiens.UCSC.hg19)"
   ]
  },
  {
   "cell_type": "markdown",
   "metadata": {},
   "source": [
    "## Get coordinates of admixture array sites"
   ]
  },
  {
   "cell_type": "code",
   "execution_count": 3,
   "metadata": {
    "collapsed": true
   },
   "outputs": [],
   "source": [
    "source(\"../R/utils.R\")"
   ]
  },
  {
   "cell_type": "code",
   "execution_count": 4,
   "metadata": {},
   "outputs": [
    {
     "name": "stderr",
     "output_type": "stream",
     "text": [
      "Warning message:\n",
      "“Missing column names filled in: 'X12' [12], 'X13' [13], 'X14' [14], 'X15' [15], 'X16' [16], 'X17' [17], 'X18' [18], 'X19' [19], 'X20' [20], 'X21' [21], 'X22' [22], 'X23' [23], 'X24' [24]”Parsed with column specification:\n",
      "cols(\n",
      "  .default = col_character(),\n",
      "  Latitude = col_double(),\n",
      "  Longitude = col_double(),\n",
      "  Coverage = col_integer(),\n",
      "  HetRateAuto = col_double()\n",
      ")\n",
      "See spec(...) for full column specifications.\n",
      "Parsed with column specification:\n",
      "cols(\n",
      "  .default = col_integer(),\n",
      "  ref = col_character(),\n",
      "  alt = col_character()\n",
      ")\n",
      "See spec(...) for full column specifications.\n",
      "Parsed with column specification:\n",
      "cols(\n",
      "  .default = col_integer(),\n",
      "  ref = col_character(),\n",
      "  alt = col_character()\n",
      ")\n",
      "See spec(...) for full column specifications.\n",
      "Parsed with column specification:\n",
      "cols(\n",
      "  chrom = col_integer(),\n",
      "  pos = col_integer(),\n",
      "  ref = col_character(),\n",
      "  alt = col_character(),\n",
      "  Altai = col_integer(),\n",
      "  Vindija = col_integer(),\n",
      "  Denisovan = col_integer()\n",
      ")\n",
      "Joining, by = c(\"chrom\", \"pos\", \"ref\", \"alt\")\n",
      "Joining, by = c(\"chrom\", \"pos\", \"ref\", \"alt\")\n"
     ]
    }
   ],
   "source": [
    "european_ids <- get_european_ids(\"../raw_data/10_24_2014_SGDP_metainformation_update.txt\")\n",
    "\n",
    "europeans <-\n",
    "    load_dataset(\"../clean_data/ice_age.tsv\", \"../clean_data/sgdp.tsv\", \"../clean_data/archaics.tsv\") %>%\n",
    "    dplyr::select(c(\"chrom\", \"pos\", european_ids)) %>% \n",
    "    dplyr::mutate(chrom=paste0(\"chr\", chrom), start=pos, end=pos)"
   ]
  },
  {
   "cell_type": "code",
   "execution_count": 5,
   "metadata": {
    "collapsed": true
   },
   "outputs": [],
   "source": [
    "sites <- makeGRangesFromDataFrame(europeans)\n",
    "seqinfo(sites) <- seqinfo(BSgenome.Hsapiens.UCSC.hg19)"
   ]
  },
  {
   "cell_type": "code",
   "execution_count": 6,
   "metadata": {},
   "outputs": [
    {
     "data": {
      "text/html": [
       "484016"
      ],
      "text/latex": [
       "484016"
      ],
      "text/markdown": [
       "484016"
      ],
      "text/plain": [
       "[1] 484016"
      ]
     },
     "metadata": {},
     "output_type": "display_data"
    }
   ],
   "source": [
    "length(sites)"
   ]
  },
  {
   "cell_type": "code",
   "execution_count": 7,
   "metadata": {},
   "outputs": [
    {
     "data": {
      "text/plain": [
       "GRanges object with 6 ranges and 0 metadata columns:\n",
       "      seqnames           ranges strand\n",
       "         <Rle>        <IRanges>  <Rle>\n",
       "  [1]     chr1 [847983, 847983]      *\n",
       "  [2]     chr1 [853089, 853089]      *\n",
       "  [3]     chr1 [853596, 853596]      *\n",
       "  [4]     chr1 [854793, 854793]      *\n",
       "  [5]     chr1 [867552, 867552]      *\n",
       "  [6]     chr1 [871401, 871401]      *\n",
       "  -------\n",
       "  seqinfo: 93 sequences (1 circular) from hg19 genome"
      ]
     },
     "metadata": {},
     "output_type": "display_data"
    }
   ],
   "source": [
    "head(sites)"
   ]
  },
  {
   "cell_type": "markdown",
   "metadata": {},
   "source": [
    "## Calculate the overlap of each window with each annotation feature"
   ]
  },
  {
   "cell_type": "markdown",
   "metadata": {},
   "source": [
    "Those black magic GRanges overlap tricks are from [here](https://support.bioconductor.org/p/56880/)."
   ]
  },
  {
   "cell_type": "markdown",
   "metadata": {},
   "source": [
    "### Developing the code on a simple test example"
   ]
  },
  {
   "cell_type": "markdown",
   "metadata": {},
   "source": [
    "Testing sites, testing windows and testing exons"
   ]
  },
  {
   "cell_type": "code",
   "execution_count": 8,
   "metadata": {
    "collapsed": true
   },
   "outputs": [],
   "source": [
    "WINDOW_SIZE <- 10"
   ]
  },
  {
   "cell_type": "code",
   "execution_count": 9,
   "metadata": {},
   "outputs": [
    {
     "data": {
      "text/plain": [
       "GRanges object with 4 ranges and 0 metadata columns:\n",
       "      seqnames     ranges strand\n",
       "         <Rle>  <IRanges>  <Rle>\n",
       "  [1]     chr1 [ 10,  10]      *\n",
       "  [2]     chr1 [ 16,  16]      *\n",
       "  [3]     chr1 [ 22,  22]      *\n",
       "  [4]     chr1 [100, 100]      *\n",
       "  -------\n",
       "  seqinfo: 1 sequence from an unspecified genome; no seqlengths"
      ]
     },
     "metadata": {},
     "output_type": "display_data"
    },
    {
     "data": {
      "text/plain": [
       "GRanges object with 4 ranges and 0 metadata columns:\n",
       "      seqnames    ranges strand\n",
       "         <Rle> <IRanges>  <Rle>\n",
       "  [1]     chr1 [ 5,  14]      *\n",
       "  [2]     chr1 [11,  20]      *\n",
       "  [3]     chr1 [17,  26]      *\n",
       "  [4]     chr1 [95, 104]      *\n",
       "  -------\n",
       "  seqinfo: 93 sequences (1 circular) from hg19 genome"
      ]
     },
     "metadata": {},
     "output_type": "display_data"
    },
    {
     "data": {
      "text/plain": [
       "GRanges object with 4 ranges and 0 metadata columns:\n",
       "      seqnames     ranges strand\n",
       "         <Rle>  <IRanges>  <Rle>\n",
       "  [1]     chr1 [  7,   9]      *\n",
       "  [2]     chr1 [ 12,  13]      *\n",
       "  [3]     chr1 [ 16,  21]      *\n",
       "  [4]     chr1 [200, 220]      *\n",
       "  -------\n",
       "  seqinfo: 1 sequence from an unspecified genome; no seqlengths"
      ]
     },
     "metadata": {},
     "output_type": "display_data"
    }
   ],
   "source": [
    "# sites\n",
    "(s <- GRanges(seqnames=\"chr1\", ranges=IRanges(c(10, 16, 22, 100), width=1)))\n",
    "seqinfo(s) <- seqinfo(BSgenome.Hsapiens.UCSC.hg19)\n",
    "\n",
    "# windows around sites\n",
    "(w <- flank(s, as.integer(WINDOW_SIZE / 2), both=TRUE))\n",
    "seqinfo(w) <- seqinfo(BSgenome.Hsapiens.UCSC.hg19)\n",
    "\n",
    "# regions of interest (like exons)\n",
    "(r <- GRanges(seqnames=\"chr1\", ranges=IRanges(start=c(7, 12, 16, 200), end=c(9, 13, 21, 220))))\n",
    "seqinfo(r) <- seqinfo(BSgenome.Hsapiens.UCSC.hg19)"
   ]
  },
  {
   "cell_type": "markdown",
   "metadata": {},
   "source": [
    "The densities in windows around the 4 testing sites are supposed to be 0.5, 0.7, 0.5 and 0."
   ]
  },
  {
   "cell_type": "code",
   "execution_count": 10,
   "metadata": {
    "collapsed": true
   },
   "outputs": [],
   "source": [
    "WINDOW_SIZE <- 10"
   ]
  },
  {
   "cell_type": "markdown",
   "metadata": {},
   "source": [
    "Calculate the # of overlapping bases for each window:"
   ]
  },
  {
   "cell_type": "code",
   "execution_count": 11,
   "metadata": {},
   "outputs": [
    {
     "data": {
      "text/plain": [
       "Hits object with 5 hits and 0 metadata columns:\n",
       "      queryHits subjectHits\n",
       "      <integer>   <integer>\n",
       "  [1]         1           1\n",
       "  [2]         1           2\n",
       "  [3]         2           2\n",
       "  [4]         2           3\n",
       "  [5]         3           3\n",
       "  -------\n",
       "  queryLength: 4 / subjectLength: 4"
      ]
     },
     "metadata": {},
     "output_type": "display_data"
    }
   ],
   "source": [
    "# get the hit table between windows and regions they overlap with\n",
    "(hits <- findOverlaps(w, r))"
   ]
  },
  {
   "cell_type": "code",
   "execution_count": 12,
   "metadata": {},
   "outputs": [
    {
     "data": {
      "text/plain": [
       "GRanges object with 5 ranges and 1 metadata column:\n",
       "      seqnames    ranges strand |       hit\n",
       "         <Rle> <IRanges>  <Rle> | <logical>\n",
       "  [1]     chr1  [ 7,  9]      * |      TRUE\n",
       "  [2]     chr1  [12, 13]      * |      TRUE\n",
       "  [3]     chr1  [12, 13]      * |      TRUE\n",
       "  [4]     chr1  [16, 20]      * |      TRUE\n",
       "  [5]     chr1  [17, 21]      * |      TRUE\n",
       "  -------\n",
       "  seqinfo: 93 sequences (1 circular) from hg19 genome"
      ]
     },
     "metadata": {},
     "output_type": "display_data"
    }
   ],
   "source": [
    "# get all overlapping regions (duplicates for regions\n",
    "# overlapping several windows/sites)\n",
    "(w_over <- pintersect(w[queryHits(hits)], r[subjectHits(hits)]))"
   ]
  },
  {
   "cell_type": "code",
   "execution_count": 13,
   "metadata": {},
   "outputs": [
    {
     "data": {
      "text/html": [
       "<dl class=dl-horizontal>\n",
       "\t<dt>1</dt>\n",
       "\t\t<dd>5</dd>\n",
       "\t<dt>2</dt>\n",
       "\t\t<dd>7</dd>\n",
       "\t<dt>3</dt>\n",
       "\t\t<dd>5</dd>\n",
       "</dl>\n"
      ],
      "text/plain": [
       "1 2 3 \n",
       "5 7 5 "
      ]
     },
     "metadata": {},
     "output_type": "display_data"
    }
   ],
   "source": [
    "# for each window count the number of overlapping bases in regions\n",
    "# as an integer vector\n",
    "(w_counts <- tapply(w_over, queryHits(hits), FUN=function(x) sum(width(x))))"
   ]
  },
  {
   "cell_type": "code",
   "execution_count": 14,
   "metadata": {},
   "outputs": [
    {
     "data": {
      "text/plain": [
       "GRanges object with 4 ranges and 1 metadata column:\n",
       "      seqnames     ranges strand |   overlap\n",
       "         <Rle>  <IRanges>  <Rle> | <numeric>\n",
       "  [1]     chr1 [ 10,  10]      * |       0.5\n",
       "  [2]     chr1 [ 16,  16]      * |       0.7\n",
       "  [3]     chr1 [ 22,  22]      * |       0.5\n",
       "  [4]     chr1 [100, 100]      * |         0\n",
       "  -------\n",
       "  seqinfo: 93 sequences (1 circular) from hg19 genome"
      ]
     },
     "metadata": {},
     "output_type": "display_data"
    }
   ],
   "source": [
    "# add the column with % overlap to the original sites object\n",
    "s$overlap <- 0\n",
    "s$overlap[as.numeric(names(w_counts))] <- unname(w_counts) / WINDOW_SIZE\n",
    "s"
   ]
  },
  {
   "cell_type": "markdown",
   "metadata": {},
   "source": [
    "### The code seems to work, let's construct a function:"
   ]
  },
  {
   "cell_type": "code",
   "execution_count": 15,
   "metadata": {
    "collapsed": true
   },
   "outputs": [],
   "source": [
    "calc_window_overlaps <- function(sites, regions, window_size) {\n",
    "    # construct windows around each site\n",
    "    windows <- flank(sites, as.integer(window_size / 2), both=TRUE)\n",
    "    seqinfo(windows) <- seqinfo(sites)\n",
    "\n",
    "    # get the hit table between windows and regions they overlap with\n",
    "    hits <- findOverlaps(windows, regions)\n",
    "\n",
    "    # get the all overlapping regions (duplicates for regions\n",
    "    # overlapping several windows/sites)\n",
    "    w_over <- pintersect(windows[queryHits(hits)], regions[subjectHits(hits)])\n",
    "\n",
    "    # for each window count the number of overlapping bases in regions\n",
    "    # as an integer vector\n",
    "    w_counts <- tapply(w_over, queryHits(hits), FUN=function(x) { sum(width(x)) })\n",
    "\n",
    "    # add the column with % overlap to the original sites object\n",
    "    sites$overlap <- 0 # by default zero overlap for each site\n",
    "    sites$overlap[as.numeric(names(w_counts))] <- unname(w_counts) / window_size\n",
    "\n",
    "    sites\n",
    "}"
   ]
  },
  {
   "cell_type": "markdown",
   "metadata": {},
   "source": [
    "Test of this function on the toy dataset from above:"
   ]
  },
  {
   "cell_type": "code",
   "execution_count": 16,
   "metadata": {},
   "outputs": [
    {
     "data": {
      "text/plain": [
       "GRanges object with 4 ranges and 1 metadata column:\n",
       "      seqnames     ranges strand |   overlap\n",
       "         <Rle>  <IRanges>  <Rle> | <numeric>\n",
       "  [1]     chr1 [ 10,  10]      * |       0.5\n",
       "  [2]     chr1 [ 16,  16]      * |       0.7\n",
       "  [3]     chr1 [ 22,  22]      * |       0.5\n",
       "  [4]     chr1 [100, 100]      * |         0\n",
       "  -------\n",
       "  seqinfo: 93 sequences (1 circular) from hg19 genome"
      ]
     },
     "metadata": {},
     "output_type": "display_data"
    }
   ],
   "source": [
    "calc_window_overlaps(granges(s), r, WINDOW_SIZE)"
   ]
  },
  {
   "cell_type": "markdown",
   "metadata": {},
   "source": [
    "It works!"
   ]
  },
  {
   "cell_type": "markdown",
   "metadata": {},
   "source": [
    "## Getting exon coordinates"
   ]
  },
  {
   "cell_type": "markdown",
   "metadata": {},
   "source": [
    "Show all the available biomarts for hg19:"
   ]
  },
  {
   "cell_type": "code",
   "execution_count": 17,
   "metadata": {},
   "outputs": [
    {
     "data": {
      "text/html": [
       "<table>\n",
       "<thead><tr><th scope=col>biomart</th><th scope=col>version</th></tr></thead>\n",
       "<tbody>\n",
       "\t<tr><td>ENSEMBL_MART_ENSEMBL </td><td>Ensembl Genes 89     </td></tr>\n",
       "\t<tr><td>ENSEMBL_MART_SNP     </td><td>Ensembl Variation 89 </td></tr>\n",
       "\t<tr><td>ENSEMBL_MART_FUNCGEN </td><td>Ensembl Regulation 89</td></tr>\n",
       "</tbody>\n",
       "</table>\n"
      ],
      "text/latex": [
       "\\begin{tabular}{r|ll}\n",
       " biomart & version\\\\\n",
       "\\hline\n",
       "\t ENSEMBL\\_MART\\_ENSEMBL & Ensembl Genes 89        \\\\\n",
       "\t ENSEMBL\\_MART\\_SNP     & Ensembl Variation 89    \\\\\n",
       "\t ENSEMBL\\_MART\\_FUNCGEN & Ensembl Regulation 89   \\\\\n",
       "\\end{tabular}\n"
      ],
      "text/markdown": [
       "\n",
       "biomart | version | \n",
       "|---|---|---|\n",
       "| ENSEMBL_MART_ENSEMBL  | Ensembl Genes 89      | \n",
       "| ENSEMBL_MART_SNP      | Ensembl Variation 89  | \n",
       "| ENSEMBL_MART_FUNCGEN  | Ensembl Regulation 89 | \n",
       "\n",
       "\n"
      ],
      "text/plain": [
       "  biomart              version              \n",
       "1 ENSEMBL_MART_ENSEMBL Ensembl Genes 89     \n",
       "2 ENSEMBL_MART_SNP     Ensembl Variation 89 \n",
       "3 ENSEMBL_MART_FUNCGEN Ensembl Regulation 89"
      ]
     },
     "metadata": {},
     "output_type": "display_data"
    }
   ],
   "source": [
    "listMarts(host=\"grch37.ensembl.org\")"
   ]
  },
  {
   "cell_type": "markdown",
   "metadata": {},
   "source": [
    "Connect to the human gene Ensembl dataset:"
   ]
  },
  {
   "cell_type": "code",
   "execution_count": 18,
   "metadata": {},
   "outputs": [
    {
     "data": {
      "text/html": [
       "<table>\n",
       "<thead><tr><th scope=col>dataset</th><th scope=col>description</th><th scope=col>version</th></tr></thead>\n",
       "<tbody>\n",
       "\t<tr><td>hsapiens_gene_ensembl   </td><td>Human genes (GRCh37.p13)</td><td>GRCh37.p13              </td></tr>\n",
       "</tbody>\n",
       "</table>\n"
      ],
      "text/latex": [
       "\\begin{tabular}{r|lll}\n",
       " dataset & description & version\\\\\n",
       "\\hline\n",
       "\t hsapiens\\_gene\\_ensembl & Human genes (GRCh37.p13)  & GRCh37.p13               \\\\\n",
       "\\end{tabular}\n"
      ],
      "text/markdown": [
       "\n",
       "dataset | description | version | \n",
       "|---|\n",
       "| hsapiens_gene_ensembl    | Human genes (GRCh37.p13) | GRCh37.p13               | \n",
       "\n",
       "\n"
      ],
      "text/plain": [
       "  dataset               description              version   \n",
       "1 hsapiens_gene_ensembl Human genes (GRCh37.p13) GRCh37.p13"
      ]
     },
     "metadata": {},
     "output_type": "display_data"
    }
   ],
   "source": [
    "ensembl_mart_genes <- useMart(\"ENSEMBL_MART_ENSEMBL\", host=\"grch37.ensembl.org\")\n",
    "listDatasets(ensembl_mart_genes) %>% filter(str_detect(dataset, \"sapiens\"))"
   ]
  },
  {
   "cell_type": "code",
   "execution_count": 19,
   "metadata": {
    "collapsed": true
   },
   "outputs": [],
   "source": [
    "genes <- useDataset(dataset=\"hsapiens_gene_ensembl\", mart=ensembl_mart_genes)"
   ]
  },
  {
   "cell_type": "markdown",
   "metadata": {},
   "source": [
    "Get coordinates of exons from the gene annotation database:"
   ]
  },
  {
   "cell_type": "code",
   "execution_count": 20,
   "metadata": {
    "collapsed": true
   },
   "outputs": [],
   "source": [
    "exons_df <-\n",
    "    getBM((listAttributes(genes) %>% filter(page==\"structure\"))$name,    # get all attributes\n",
    "          filters=c(\"chromosome_name\", \"biotype\"),                       # filter for chromosome and biotype\n",
    "          values=list(1:22, \"protein_coding\"),                           # chromosomes 1:22 and \"protein_coding\"\n",
    "          mart=genes)\n",
    "\n",
    "exons_gr <- \n",
    "    dplyr::select(exons_df, chromosome_name, exon_chrom_start, exon_chrom_end) %>%\n",
    "    setNames(c(\"chrom\", \"start\", \"end\")) %>%                             # rename the columns to BED names\n",
    "    mutate(chrom=paste0(\"chr\", chrom)) %>%                               # convert chromosome IDs to USCS format\n",
    "    makeGRangesFromDataFrame %>%                                         # convert to GRanges object\n",
    "    reduce                                                               # merge overlapping exons"
   ]
  },
  {
   "cell_type": "code",
   "execution_count": 21,
   "metadata": {
    "collapsed": true
   },
   "outputs": [],
   "source": [
    "seqinfo(exons_gr) <- seqinfo(BSgenome.Hsapiens.UCSC.hg19)"
   ]
  },
  {
   "cell_type": "markdown",
   "metadata": {},
   "source": [
    "How many exons did I get? What is the total length of the exonic sequence (in Mb) that we extracted?\n",
    "\n",
    "Bioinformatic databases are a mess - are the numbers I get reasonable?"
   ]
  },
  {
   "cell_type": "code",
   "execution_count": 22,
   "metadata": {},
   "outputs": [
    {
     "data": {
      "text/html": [
       "222587"
      ],
      "text/latex": [
       "222587"
      ],
      "text/markdown": [
       "222587"
      ],
      "text/plain": [
       "[1] 222587"
      ]
     },
     "metadata": {},
     "output_type": "display_data"
    },
    {
     "data": {
      "text/html": [
       "89.81306"
      ],
      "text/latex": [
       "89.81306"
      ],
      "text/markdown": [
       "89.81306"
      ],
      "text/plain": [
       "[1] 89.81306"
      ]
     },
     "metadata": {},
     "output_type": "display_data"
    }
   ],
   "source": [
    "length(exons_gr)\n",
    "sum(width(exons_gr)) / 1e6"
   ]
  },
  {
   "cell_type": "code",
   "execution_count": 24,
   "metadata": {},
   "outputs": [],
   "source": [
    "WINDOW_SIZE <- 100000\n",
    "\n",
    "exon_densities <-\n",
    "    mclapply(paste0(\"chr\", 1:22),\n",
    "             function(chr) {\n",
    "                 calc_window_overlaps(sites[seqnames(sites) == chr], exons_gr, WINDOW_SIZE)\n",
    "             }, mc.cores=22) %>%\n",
    "    do.call(c, .)"
   ]
  },
  {
   "cell_type": "markdown",
   "metadata": {},
   "source": [
    "How does the new exon density metric compare to the old one?"
   ]
  },
  {
   "cell_type": "code",
   "execution_count": 25,
   "metadata": {},
   "outputs": [
    {
     "name": "stderr",
     "output_type": "stream",
     "text": [
      "Parsed with column specification:\n",
      "cols(\n",
      "  chrom = col_integer(),\n",
      "  start = col_integer(),\n",
      "  end = col_integer(),\n",
      "  overlap = col_double()\n",
      ")\n",
      "Joining, by = c(\"chrom\", \"start\", \"end\")\n"
     ]
    },
    {
     "data": {},
     "metadata": {},
     "output_type": "display_data"
    },
    {
     "data": {
      "text/plain": [
       "\n",
       "\tPearson's product-moment correlation\n",
       "\n",
       "data:  old_exon_densities_from_gtf$overlap and exon_densities$overlap\n",
       "t = 2763.2, df = 484010, p-value < 2.2e-16\n",
       "alternative hypothesis: true correlation is not equal to 0\n",
       "95 percent confidence interval:\n",
       " 0.9695676 0.9699034\n",
       "sample estimates:\n",
       "     cor \n",
       "0.969736 \n"
      ]
     },
     "metadata": {},
     "output_type": "display_data"
    },
    {
     "data": {
      "image/png": "[encoded data removed]",
      "text/plain": [
       "plot without title"
      ]
     },
     "metadata": {},
     "output_type": "display_data"
    }
   ],
   "source": [
    "# old exon densities\n",
    "x <- read_tsv(\"../clean_data/annotations/exon_density__100000bp.bed\",\n",
    "              col_names=c(\"chrom\", \"start\", \"end\", \"overlap\")) %>% mutate(chrom=paste0(\"chr\", chrom))\n",
    "e <- mutate(europeans, start=pos-1, end=pos) %>% dplyr::select(chrom, start, end)\n",
    "\n",
    "old_exon_densities_from_gtf <- inner_join(x, e)\n",
    "\n",
    "options(repr.plot.width=4, repr.plot.height=4)\n",
    "qplot(x=old_exon_densities_from_gtf$overlap, y=exon_densities$overlap)\n",
    "\n",
    "cor.test(old_exon_densities_from_gtf$overlap, exon_densities$overlap)"
   ]
  },
  {
   "cell_type": "markdown",
   "metadata": {},
   "source": [
    "## Getting coordinates of regulatory features"
   ]
  },
  {
   "cell_type": "markdown",
   "metadata": {},
   "source": [
    "It took forever to find out, how to get the regulatory features. In the end I found it totally by accident in some bugreport mail :( https://support.bioconductor.org/p/39545/"
   ]
  },
  {
   "cell_type": "markdown",
   "metadata": {},
   "source": [
    "Show all the available biomarts for hg19:"
   ]
  },
  {
   "cell_type": "code",
   "execution_count": 26,
   "metadata": {},
   "outputs": [
    {
     "data": {
      "text/html": [
       "<table>\n",
       "<thead><tr><th scope=col>biomart</th><th scope=col>version</th></tr></thead>\n",
       "<tbody>\n",
       "\t<tr><td>ENSEMBL_MART_ENSEMBL </td><td>Ensembl Genes 89     </td></tr>\n",
       "\t<tr><td>ENSEMBL_MART_SNP     </td><td>Ensembl Variation 89 </td></tr>\n",
       "\t<tr><td>ENSEMBL_MART_FUNCGEN </td><td>Ensembl Regulation 89</td></tr>\n",
       "</tbody>\n",
       "</table>\n"
      ],
      "text/latex": [
       "\\begin{tabular}{r|ll}\n",
       " biomart & version\\\\\n",
       "\\hline\n",
       "\t ENSEMBL\\_MART\\_ENSEMBL & Ensembl Genes 89        \\\\\n",
       "\t ENSEMBL\\_MART\\_SNP     & Ensembl Variation 89    \\\\\n",
       "\t ENSEMBL\\_MART\\_FUNCGEN & Ensembl Regulation 89   \\\\\n",
       "\\end{tabular}\n"
      ],
      "text/markdown": [
       "\n",
       "biomart | version | \n",
       "|---|---|---|\n",
       "| ENSEMBL_MART_ENSEMBL  | Ensembl Genes 89      | \n",
       "| ENSEMBL_MART_SNP      | Ensembl Variation 89  | \n",
       "| ENSEMBL_MART_FUNCGEN  | Ensembl Regulation 89 | \n",
       "\n",
       "\n"
      ],
      "text/plain": [
       "  biomart              version              \n",
       "1 ENSEMBL_MART_ENSEMBL Ensembl Genes 89     \n",
       "2 ENSEMBL_MART_SNP     Ensembl Variation 89 \n",
       "3 ENSEMBL_MART_FUNCGEN Ensembl Regulation 89"
      ]
     },
     "metadata": {},
     "output_type": "display_data"
    }
   ],
   "source": [
    "listMarts(host=\"grch37.ensembl.org\")"
   ]
  },
  {
   "cell_type": "markdown",
   "metadata": {},
   "source": [
    "Connect to the human gene Ensembl dataset:"
   ]
  },
  {
   "cell_type": "code",
   "execution_count": 32,
   "metadata": {},
   "outputs": [
    {
     "data": {
      "text/html": [
       "<table>\n",
       "<thead><tr><th scope=col>dataset</th><th scope=col>description</th><th scope=col>version</th></tr></thead>\n",
       "<tbody>\n",
       "\t<tr><td>hsapiens_annotated_feature                 </td><td>Human Regulatory Evidence (GRCh37.p13)     </td><td>GRCh37.p13                                 </td></tr>\n",
       "\t<tr><td>hsapiens_external_feature                  </td><td>Human Other Regulatory Regions (GRCh37.p13)</td><td>GRCh37.p13                                 </td></tr>\n",
       "\t<tr><td>hsapiens_mirna_target_feature              </td><td>Human miRNA Target Regions (GRCh37.p13)    </td><td>GRCh37.p13                                 </td></tr>\n",
       "\t<tr><td>hsapiens_regulatory_feature                </td><td>Human Regulatory Features (GRCh37.p13)     </td><td>GRCh37.p13                                 </td></tr>\n",
       "\t<tr><td>hsapiens_motif_feature                     </td><td>Human Binding Motifs (GRCh37.p13)          </td><td>GRCh37.p13                                 </td></tr>\n",
       "</tbody>\n",
       "</table>\n"
      ],
      "text/latex": [
       "\\begin{tabular}{r|lll}\n",
       " dataset & description & version\\\\\n",
       "\\hline\n",
       "\t hsapiens\\_annotated\\_feature              & Human Regulatory Evidence (GRCh37.p13)      & GRCh37.p13                                 \\\\\n",
       "\t hsapiens\\_external\\_feature               & Human Other Regulatory Regions (GRCh37.p13) & GRCh37.p13                                 \\\\\n",
       "\t hsapiens\\_mirna\\_target\\_feature         & Human miRNA Target Regions (GRCh37.p13)     & GRCh37.p13                                 \\\\\n",
       "\t hsapiens\\_regulatory\\_feature             & Human Regulatory Features (GRCh37.p13)      & GRCh37.p13                                 \\\\\n",
       "\t hsapiens\\_motif\\_feature                  & Human Binding Motifs (GRCh37.p13)           & GRCh37.p13                                 \\\\\n",
       "\\end{tabular}\n"
      ],
      "text/markdown": [
       "\n",
       "dataset | description | version | \n",
       "|---|---|---|---|---|\n",
       "| hsapiens_annotated_feature                  | Human Regulatory Evidence (GRCh37.p13)      | GRCh37.p13                                  | \n",
       "| hsapiens_external_feature                   | Human Other Regulatory Regions (GRCh37.p13) | GRCh37.p13                                  | \n",
       "| hsapiens_mirna_target_feature               | Human miRNA Target Regions (GRCh37.p13)     | GRCh37.p13                                  | \n",
       "| hsapiens_regulatory_feature                 | Human Regulatory Features (GRCh37.p13)      | GRCh37.p13                                  | \n",
       "| hsapiens_motif_feature                      | Human Binding Motifs (GRCh37.p13)           | GRCh37.p13                                  | \n",
       "\n",
       "\n"
      ],
      "text/plain": [
       "  dataset                       description                                \n",
       "1 hsapiens_annotated_feature    Human Regulatory Evidence (GRCh37.p13)     \n",
       "2 hsapiens_external_feature     Human Other Regulatory Regions (GRCh37.p13)\n",
       "3 hsapiens_mirna_target_feature Human miRNA Target Regions (GRCh37.p13)    \n",
       "4 hsapiens_regulatory_feature   Human Regulatory Features (GRCh37.p13)     \n",
       "5 hsapiens_motif_feature        Human Binding Motifs (GRCh37.p13)          \n",
       "  version   \n",
       "1 GRCh37.p13\n",
       "2 GRCh37.p13\n",
       "3 GRCh37.p13\n",
       "4 GRCh37.p13\n",
       "5 GRCh37.p13"
      ]
     },
     "metadata": {},
     "output_type": "display_data"
    }
   ],
   "source": [
    "ensembl_mart_funcgen <- useMart(\"ENSEMBL_MART_FUNCGEN\", host=\"grch37.ensembl.org\")\n",
    "listDatasets(ensembl_mart_funcgen) %>% filter(str_detect(dataset, \"sapiens\"))"
   ]
  },
  {
   "cell_type": "code",
   "execution_count": 33,
   "metadata": {
    "collapsed": true
   },
   "outputs": [],
   "source": [
    "regulation <- useDataset(dataset=\"hsapiens_regulatory_feature\", mart=ensembl_mart_funcgen)"
   ]
  },
  {
   "cell_type": "markdown",
   "metadata": {},
   "source": [
    "Download the dataframe from Biomart:"
   ]
  },
  {
   "cell_type": "code",
   "execution_count": 34,
   "metadata": {
    "collapsed": true,
    "scrolled": true
   },
   "outputs": [],
   "source": [
    "regulatory_features_df <-\n",
    "    getBM(attributes=c(\"chromosome_name\", \"chromosome_start\", \"chromosome_end\", \"feature_type_name\"),\n",
    "          filters=\"chromosome_name\",\n",
    "          values=1:22,\n",
    "          mart=regulation)"
   ]
  },
  {
   "cell_type": "markdown",
   "metadata": {},
   "source": [
    "Convert it into a GRanges object:"
   ]
  },
  {
   "cell_type": "code",
   "execution_count": 37,
   "metadata": {},
   "outputs": [],
   "source": [
    "regulatory_features_gr <-\n",
    "    dplyr::rename(regulatory_features_df,\n",
    "                  chrom=chromosome_name, start=chromosome_start, end=chromosome_end,\n",
    "                  feature=feature_type_name) %>%\n",
    "    arrange(chrom, start) %>% \n",
    "    mutate(chrom=paste0(\"chr\", chrom)) %>%\n",
    "    makeGRangesFromDataFrame(keep.extra.columns=TRUE)"
   ]
  },
  {
   "cell_type": "code",
   "execution_count": 38,
   "metadata": {
    "collapsed": true
   },
   "outputs": [],
   "source": [
    "seqinfo(regulatory_features_gr) <- seqinfo(BSgenome.Hsapiens.UCSC.hg19)"
   ]
  },
  {
   "cell_type": "code",
   "execution_count": 39,
   "metadata": {},
   "outputs": [
    {
     "data": {
      "text/html": [
       "272163"
      ],
      "text/latex": [
       "272163"
      ],
      "text/markdown": [
       "272163"
      ],
      "text/plain": [
       "[1] 272163"
      ]
     },
     "metadata": {},
     "output_type": "display_data"
    }
   ],
   "source": [
    "length(regulatory_features_gr)"
   ]
  }
 ],
 "metadata": {
  "kernelspec": {
   "display_name": "R",
   "language": "R",
   "name": "ir"
  },
  "language_info": {
   "codemirror_mode": "r",
   "file_extension": ".r",
   "mimetype": "text/x-r-source",
   "name": "R",
   "pygments_lexer": "r",
   "version": "3.3.1"
  }
 },
 "nbformat": 4,
 "nbformat_minor": 2
}
