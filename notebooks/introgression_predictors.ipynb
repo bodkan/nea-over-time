{
 "cells": [
  {
   "cell_type": "markdown",
   "metadata": {},
   "source": [
    "The basic idea is to find out which categories of genomic regions (exons, promoters, enhancers, etc) contribute the most to the Nea. ancestry observed in present day Europeans. For example: have coding regions or enhancers been the main drivers of selection against Nea. introgression?"
   ]
  },
  {
   "cell_type": "markdown",
   "metadata": {},
   "source": [
    "Links:\n",
    "\n",
    "* info about different coordinate types: https://groups.google.com/forum/#!msg/biomart-users/OtQbAx3y9CA/wrF19ID1AgAJ\n",
    "* https://www.biostars.org/p/2005/\n",
    "* http://www.bioconductor.org/packages/release/bioc/vignettes/biomaRt/inst/doc/biomaRt.html#attribute-pages\n",
    "* http://www.ensembl.org/info/data/biomart/biomart_r_package.html\n",
    "* http://www.ensembl.info/blog/2015/06/01/biomart-or-how-to-access-the-ensembl-data-from-r/\n",
    "* for checking with manually downloaded data: http://www.ensembl.org/info/data/biomart/how_to_use_biomart.html"
   ]
  },
  {
   "cell_type": "raw",
   "metadata": {},
   "source": [
    "source(\"http://bioconductor.org/biocLite.R\")\n",
    "biocLite(\"biomaRt\")"
   ]
  },
  {
   "cell_type": "markdown",
   "metadata": {},
   "source": [
    "Following [this](http://www.ensembl.org/info/data/biomart/biomart_r_package.html) tutorial, I want to extract coordinates of exonic and regulatory regions from the Ensembl database and then calculate the density of such regions in a defined window around each SNP.\n",
    "\n",
    "These densities will they be used as predictors in a linear model, predicting the Nea. ancestry at each site.\n",
    "\n",
    "Alternatively, I could just test if the distribution of densities for different regions differ based on frequency of Nea. alleles at each site."
   ]
  },
  {
   "cell_type": "code",
   "execution_count": 96,
   "metadata": {},
   "outputs": [],
   "source": [
    "library(tidyverse)\n",
    "library(stringr)\n",
    "library(magrittr)\n",
    "library(parallel)"
   ]
  },
  {
   "cell_type": "code",
   "execution_count": 11,
   "metadata": {
    "collapsed": true
   },
   "outputs": [],
   "source": [
    "library(biomaRt)\n",
    "library(rtracklayer)\n",
    "library(BSgenome.Hsapiens.UCSC.hg19)"
   ]
  },
  {
   "cell_type": "markdown",
   "metadata": {},
   "source": [
    "## Get coordinates of admixture array sites"
   ]
  },
  {
   "cell_type": "code",
   "execution_count": 15,
   "metadata": {
    "collapsed": true
   },
   "outputs": [],
   "source": [
    "source(\"../R/utils.R\")"
   ]
  },
  {
   "cell_type": "code",
   "execution_count": 48,
   "metadata": {},
   "outputs": [
    {
     "name": "stderr",
     "output_type": "stream",
     "text": [
      "Warning message:\n",
      "“Missing column names filled in: 'X12' [12], 'X13' [13], 'X14' [14], 'X15' [15], 'X16' [16], 'X17' [17], 'X18' [18], 'X19' [19], 'X20' [20], 'X21' [21], 'X22' [22], 'X23' [23], 'X24' [24]”Parsed with column specification:\n",
      "cols(\n",
      "  .default = col_character(),\n",
      "  Latitude = col_double(),\n",
      "  Longitude = col_double(),\n",
      "  Coverage = col_integer(),\n",
      "  HetRateAuto = col_double()\n",
      ")\n",
      "See spec(...) for full column specifications.\n",
      "Parsed with column specification:\n",
      "cols(\n",
      "  .default = col_integer(),\n",
      "  ref = col_character(),\n",
      "  alt = col_character()\n",
      ")\n",
      "See spec(...) for full column specifications.\n",
      "Parsed with column specification:\n",
      "cols(\n",
      "  .default = col_integer(),\n",
      "  ref = col_character(),\n",
      "  alt = col_character()\n",
      ")\n",
      "See spec(...) for full column specifications.\n",
      "Parsed with column specification:\n",
      "cols(\n",
      "  chrom = col_integer(),\n",
      "  pos = col_integer(),\n",
      "  ref = col_character(),\n",
      "  alt = col_character(),\n",
      "  Altai = col_integer(),\n",
      "  Vindija = col_integer(),\n",
      "  Denisovan = col_integer()\n",
      ")\n",
      "Joining, by = c(\"chrom\", \"pos\", \"ref\", \"alt\")\n",
      "Joining, by = c(\"chrom\", \"pos\", \"ref\", \"alt\")\n"
     ]
    }
   ],
   "source": [
    "european_ids <- get_european_ids(\"../raw_data/10_24_2014_SGDP_metainformation_update.txt\")\n",
    "\n",
    "europeans <-\n",
    "    load_dataset(\"../clean_data/ice_age.tsv\", \"../clean_data/sgdp.tsv\", \"../clean_data/archaics.tsv\") %>%\n",
    "    dplyr::select(c(\"chrom\", \"pos\", european_ids)) %>% \n",
    "    dplyr::mutate(chrom=paste0(\"chr\", chrom), start=pos, end=pos)"
   ]
  },
  {
   "cell_type": "code",
   "execution_count": 49,
   "metadata": {},
   "outputs": [],
   "source": [
    "sites <- makeGRangesFromDataFrame(europeans)\n",
    "seqinfo(sites) <- seqinfo(BSgenome.Hsapiens.UCSC.hg19)"
   ]
  },
  {
   "cell_type": "code",
   "execution_count": 18,
   "metadata": {},
   "outputs": [
    {
     "data": {
      "text/html": [
       "484016"
      ],
      "text/latex": [
       "484016"
      ],
      "text/markdown": [
       "484016"
      ],
      "text/plain": [
       "[1] 484016"
      ]
     },
     "metadata": {},
     "output_type": "display_data"
    }
   ],
   "source": [
    "length(sites)"
   ]
  },
  {
   "cell_type": "code",
   "execution_count": 50,
   "metadata": {},
   "outputs": [
    {
     "data": {
      "text/plain": [
       "GRanges object with 6 ranges and 0 metadata columns:\n",
       "      seqnames           ranges strand\n",
       "         <Rle>        <IRanges>  <Rle>\n",
       "  [1]     chr1 [847983, 847983]      *\n",
       "  [2]     chr1 [853089, 853089]      *\n",
       "  [3]     chr1 [853596, 853596]      *\n",
       "  [4]     chr1 [854793, 854793]      *\n",
       "  [5]     chr1 [867552, 867552]      *\n",
       "  [6]     chr1 [871401, 871401]      *\n",
       "  -------\n",
       "  seqinfo: 93 sequences (1 circular) from hg19 genome"
      ]
     },
     "metadata": {},
     "output_type": "display_data"
    }
   ],
   "source": [
    "head(sites)"
   ]
  },
  {
   "cell_type": "markdown",
   "metadata": {},
   "source": [
    "## Extracting data from biomart"
   ]
  },
  {
   "cell_type": "code",
   "execution_count": 12,
   "metadata": {},
   "outputs": [
    {
     "data": {
      "text/html": [
       "<table>\n",
       "<thead><tr><th scope=col>biomart</th><th scope=col>version</th></tr></thead>\n",
       "<tbody>\n",
       "\t<tr><td>ensembl              </td><td>Ensembl Genes 75     </td></tr>\n",
       "\t<tr><td>snp                  </td><td>Ensembl Variation 75 </td></tr>\n",
       "\t<tr><td>regulation           </td><td>Ensembl Regulation 75</td></tr>\n",
       "\t<tr><td>vega                 </td><td>Vega 55              </td></tr>\n",
       "\t<tr><td>pride                </td><td>PRIDE (EBI UK)       </td></tr>\n",
       "</tbody>\n",
       "</table>\n"
      ],
      "text/latex": [
       "\\begin{tabular}{r|ll}\n",
       " biomart & version\\\\\n",
       "\\hline\n",
       "\t ensembl               & Ensembl Genes 75     \\\\\n",
       "\t snp                   & Ensembl Variation 75 \\\\\n",
       "\t regulation            & Ensembl Regulation 75\\\\\n",
       "\t vega                  & Vega 55              \\\\\n",
       "\t pride                 & PRIDE (EBI UK)       \\\\\n",
       "\\end{tabular}\n"
      ],
      "text/markdown": [
       "\n",
       "biomart | version | \n",
       "|---|---|---|---|---|\n",
       "| ensembl               | Ensembl Genes 75      | \n",
       "| snp                   | Ensembl Variation 75  | \n",
       "| regulation            | Ensembl Regulation 75 | \n",
       "| vega                  | Vega 55               | \n",
       "| pride                 | PRIDE (EBI UK)        | \n",
       "\n",
       "\n"
      ],
      "text/plain": [
       "  biomart    version              \n",
       "1 ensembl    Ensembl Genes 75     \n",
       "2 snp        Ensembl Variation 75 \n",
       "3 regulation Ensembl Regulation 75\n",
       "4 vega       Vega 55              \n",
       "5 pride      PRIDE (EBI UK)       "
      ]
     },
     "metadata": {},
     "output_type": "display_data"
    }
   ],
   "source": [
    "listEnsembl(version=\"75\")"
   ]
  },
  {
   "cell_type": "code",
   "execution_count": 13,
   "metadata": {
    "collapsed": true
   },
   "outputs": [],
   "source": [
    "ensembl <- useEnsembl(biomart=\"ensembl\", version=75)"
   ]
  },
  {
   "cell_type": "markdown",
   "metadata": {},
   "source": [
    "Find the name of the _H. sapiens_ dataset:"
   ]
  },
  {
   "cell_type": "code",
   "execution_count": 14,
   "metadata": {
    "scrolled": false
   },
   "outputs": [
    {
     "data": {
      "text/html": [
       "<table>\n",
       "<thead><tr><th scope=col>dataset</th><th scope=col>description</th><th scope=col>version</th></tr></thead>\n",
       "<tbody>\n",
       "\t<tr><td>hsapiens_gene_ensembl          </td><td>Homo sapiens genes (GRCh37.p13)</td><td>GRCh37.p13                     </td></tr>\n",
       "</tbody>\n",
       "</table>\n"
      ],
      "text/latex": [
       "\\begin{tabular}{r|lll}\n",
       " dataset & description & version\\\\\n",
       "\\hline\n",
       "\t hsapiens\\_gene\\_ensembl       & Homo sapiens genes (GRCh37.p13) & GRCh37.p13                     \\\\\n",
       "\\end{tabular}\n"
      ],
      "text/markdown": [
       "\n",
       "dataset | description | version | \n",
       "|---|\n",
       "| hsapiens_gene_ensembl           | Homo sapiens genes (GRCh37.p13) | GRCh37.p13                      | \n",
       "\n",
       "\n"
      ],
      "text/plain": [
       "  dataset               description                     version   \n",
       "1 hsapiens_gene_ensembl Homo sapiens genes (GRCh37.p13) GRCh37.p13"
      ]
     },
     "metadata": {},
     "output_type": "display_data"
    }
   ],
   "source": [
    "listDatasets(ensembl) %>% filter(str_detect(dataset, \"sapiens\"))"
   ]
  },
  {
   "cell_type": "markdown",
   "metadata": {},
   "source": [
    "## Getting exon coordinates"
   ]
  },
  {
   "cell_type": "markdown",
   "metadata": {},
   "source": [
    "Connect to the human gene Ensembl dataset:"
   ]
  },
  {
   "cell_type": "code",
   "execution_count": 19,
   "metadata": {
    "collapsed": true
   },
   "outputs": [],
   "source": [
    "genes <- useDataset(dataset=\"hsapiens_gene_ensembl\", mart=ensembl)"
   ]
  },
  {
   "cell_type": "markdown",
   "metadata": {},
   "source": [
    "Show all available attributes that can be pulled out of biomart:"
   ]
  },
  {
   "cell_type": "code",
   "execution_count": 20,
   "metadata": {},
   "outputs": [
    {
     "data": {
      "text/html": [
       "<table>\n",
       "<thead><tr><th scope=col>name</th><th scope=col>description</th><th scope=col>page</th></tr></thead>\n",
       "<tbody>\n",
       "\t<tr><td>ensembl_gene_id        </td><td>Ensembl Gene ID        </td><td>structure              </td></tr>\n",
       "\t<tr><td>ensembl_transcript_id  </td><td>Ensembl Transcript ID  </td><td>structure              </td></tr>\n",
       "\t<tr><td>ensembl_peptide_id     </td><td>Ensembl Protein ID     </td><td>structure              </td></tr>\n",
       "\t<tr><td>chromosome_name        </td><td>Chromosome Name        </td><td>structure              </td></tr>\n",
       "\t<tr><td>start_position         </td><td>Gene Start (bp)        </td><td>structure              </td></tr>\n",
       "\t<tr><td>end_position           </td><td>Gene End (bp)          </td><td>structure              </td></tr>\n",
       "\t<tr><td>transcript_start       </td><td>Transcript Start (bp)  </td><td>structure              </td></tr>\n",
       "\t<tr><td>transcript_end         </td><td>Transcript End (bp)    </td><td>structure              </td></tr>\n",
       "\t<tr><td>strand                 </td><td>Strand                 </td><td>structure              </td></tr>\n",
       "\t<tr><td>external_gene_id       </td><td>Associated Gene Name   </td><td>structure              </td></tr>\n",
       "\t<tr><td>external_gene_db       </td><td>Associated Gene DB     </td><td>structure              </td></tr>\n",
       "\t<tr><td>5_utr_start            </td><td>5' UTR Start           </td><td>structure              </td></tr>\n",
       "\t<tr><td>5_utr_end              </td><td>5' UTR End             </td><td>structure              </td></tr>\n",
       "\t<tr><td>3_utr_start            </td><td>3' UTR Start           </td><td>structure              </td></tr>\n",
       "\t<tr><td>3_utr_end              </td><td>3' UTR End             </td><td>structure              </td></tr>\n",
       "\t<tr><td>cds_length             </td><td>CDS Length             </td><td>structure              </td></tr>\n",
       "\t<tr><td>transcript_count       </td><td>Transcript count       </td><td>structure              </td></tr>\n",
       "\t<tr><td>description            </td><td>Description            </td><td>structure              </td></tr>\n",
       "\t<tr><td>gene_biotype           </td><td>Gene Biotype           </td><td>structure              </td></tr>\n",
       "\t<tr><td>exon_chrom_start       </td><td>Exon Chr Start (bp)    </td><td>structure              </td></tr>\n",
       "\t<tr><td>exon_chrom_end         </td><td>Exon Chr End (bp)      </td><td>structure              </td></tr>\n",
       "\t<tr><td>is_constitutive        </td><td>Constitutive Exon      </td><td>structure              </td></tr>\n",
       "\t<tr><td>rank                   </td><td>Exon Rank in Transcript</td><td>structure              </td></tr>\n",
       "\t<tr><td>phase                  </td><td>phase                  </td><td>structure              </td></tr>\n",
       "\t<tr><td>cdna_coding_start      </td><td>cDNA coding start      </td><td>structure              </td></tr>\n",
       "\t<tr><td>cdna_coding_end        </td><td>cDNA coding end        </td><td>structure              </td></tr>\n",
       "\t<tr><td>genomic_coding_start   </td><td>Genomic coding start   </td><td>structure              </td></tr>\n",
       "\t<tr><td>genomic_coding_end     </td><td>Genomic coding end     </td><td>structure              </td></tr>\n",
       "\t<tr><td>ensembl_exon_id        </td><td>Ensembl Exon ID        </td><td>structure              </td></tr>\n",
       "\t<tr><td>cds_start              </td><td>CDS Start              </td><td>structure              </td></tr>\n",
       "\t<tr><td>cds_end                </td><td>CDS End                </td><td>structure              </td></tr>\n",
       "</tbody>\n",
       "</table>\n"
      ],
      "text/latex": [
       "\\begin{tabular}{r|lll}\n",
       " name & description & page\\\\\n",
       "\\hline\n",
       "\t ensembl\\_gene\\_id       & Ensembl Gene ID           & structure                \\\\\n",
       "\t ensembl\\_transcript\\_id & Ensembl Transcript ID     & structure                \\\\\n",
       "\t ensembl\\_peptide\\_id    & Ensembl Protein ID        & structure                \\\\\n",
       "\t chromosome\\_name       & Chromosome Name         & structure              \\\\\n",
       "\t start\\_position        & Gene Start (bp)         & structure              \\\\\n",
       "\t end\\_position          & Gene End (bp)           & structure              \\\\\n",
       "\t transcript\\_start      & Transcript Start (bp)   & structure              \\\\\n",
       "\t transcript\\_end        & Transcript End (bp)     & structure              \\\\\n",
       "\t strand                  & Strand                  & structure              \\\\\n",
       "\t external\\_gene\\_id      & Associated Gene Name      & structure                \\\\\n",
       "\t external\\_gene\\_db      & Associated Gene DB        & structure                \\\\\n",
       "\t 5\\_utr\\_start           & 5' UTR Start              & structure                \\\\\n",
       "\t 5\\_utr\\_end             & 5' UTR End                & structure                \\\\\n",
       "\t 3\\_utr\\_start           & 3' UTR Start              & structure                \\\\\n",
       "\t 3\\_utr\\_end             & 3' UTR End                & structure                \\\\\n",
       "\t cds\\_length            & CDS Length              & structure              \\\\\n",
       "\t transcript\\_count      & Transcript count        & structure              \\\\\n",
       "\t description             & Description             & structure              \\\\\n",
       "\t gene\\_biotype          & Gene Biotype            & structure              \\\\\n",
       "\t exon\\_chrom\\_start      & Exon Chr Start (bp)       & structure                \\\\\n",
       "\t exon\\_chrom\\_end        & Exon Chr End (bp)         & structure                \\\\\n",
       "\t is\\_constitutive       & Constitutive Exon       & structure              \\\\\n",
       "\t rank                    & Exon Rank in Transcript & structure              \\\\\n",
       "\t phase                   & phase                   & structure              \\\\\n",
       "\t cdna\\_coding\\_start     & cDNA coding start         & structure                \\\\\n",
       "\t cdna\\_coding\\_end       & cDNA coding end           & structure                \\\\\n",
       "\t genomic\\_coding\\_start  & Genomic coding start      & structure                \\\\\n",
       "\t genomic\\_coding\\_end    & Genomic coding end        & structure                \\\\\n",
       "\t ensembl\\_exon\\_id       & Ensembl Exon ID           & structure                \\\\\n",
       "\t cds\\_start             & CDS Start               & structure              \\\\\n",
       "\t cds\\_end               & CDS End                 & structure              \\\\\n",
       "\\end{tabular}\n"
      ],
      "text/markdown": [
       "\n",
       "name | description | page | \n",
       "|---|---|---|---|---|---|---|---|---|---|---|---|---|---|---|---|---|---|---|---|---|---|---|---|---|---|---|---|---|---|---|\n",
       "| ensembl_gene_id         | Ensembl Gene ID         | structure               | \n",
       "| ensembl_transcript_id   | Ensembl Transcript ID   | structure               | \n",
       "| ensembl_peptide_id      | Ensembl Protein ID      | structure               | \n",
       "| chromosome_name         | Chromosome Name         | structure               | \n",
       "| start_position          | Gene Start (bp)         | structure               | \n",
       "| end_position            | Gene End (bp)           | structure               | \n",
       "| transcript_start        | Transcript Start (bp)   | structure               | \n",
       "| transcript_end          | Transcript End (bp)     | structure               | \n",
       "| strand                  | Strand                  | structure               | \n",
       "| external_gene_id        | Associated Gene Name    | structure               | \n",
       "| external_gene_db        | Associated Gene DB      | structure               | \n",
       "| 5_utr_start             | 5' UTR Start            | structure               | \n",
       "| 5_utr_end               | 5' UTR End              | structure               | \n",
       "| 3_utr_start             | 3' UTR Start            | structure               | \n",
       "| 3_utr_end               | 3' UTR End              | structure               | \n",
       "| cds_length              | CDS Length              | structure               | \n",
       "| transcript_count        | Transcript count        | structure               | \n",
       "| description             | Description             | structure               | \n",
       "| gene_biotype            | Gene Biotype            | structure               | \n",
       "| exon_chrom_start        | Exon Chr Start (bp)     | structure               | \n",
       "| exon_chrom_end          | Exon Chr End (bp)       | structure               | \n",
       "| is_constitutive         | Constitutive Exon       | structure               | \n",
       "| rank                    | Exon Rank in Transcript | structure               | \n",
       "| phase                   | phase                   | structure               | \n",
       "| cdna_coding_start       | cDNA coding start       | structure               | \n",
       "| cdna_coding_end         | cDNA coding end         | structure               | \n",
       "| genomic_coding_start    | Genomic coding start    | structure               | \n",
       "| genomic_coding_end      | Genomic coding end      | structure               | \n",
       "| ensembl_exon_id         | Ensembl Exon ID         | structure               | \n",
       "| cds_start               | CDS Start               | structure               | \n",
       "| cds_end                 | CDS End                 | structure               | \n",
       "\n",
       "\n"
      ],
      "text/plain": [
       "   name                  description             page     \n",
       "1  ensembl_gene_id       Ensembl Gene ID         structure\n",
       "2  ensembl_transcript_id Ensembl Transcript ID   structure\n",
       "3  ensembl_peptide_id    Ensembl Protein ID      structure\n",
       "4  chromosome_name       Chromosome Name         structure\n",
       "5  start_position        Gene Start (bp)         structure\n",
       "6  end_position          Gene End (bp)           structure\n",
       "7  transcript_start      Transcript Start (bp)   structure\n",
       "8  transcript_end        Transcript End (bp)     structure\n",
       "9  strand                Strand                  structure\n",
       "10 external_gene_id      Associated Gene Name    structure\n",
       "11 external_gene_db      Associated Gene DB      structure\n",
       "12 5_utr_start           5' UTR Start            structure\n",
       "13 5_utr_end             5' UTR End              structure\n",
       "14 3_utr_start           3' UTR Start            structure\n",
       "15 3_utr_end             3' UTR End              structure\n",
       "16 cds_length            CDS Length              structure\n",
       "17 transcript_count      Transcript count        structure\n",
       "18 description           Description             structure\n",
       "19 gene_biotype          Gene Biotype            structure\n",
       "20 exon_chrom_start      Exon Chr Start (bp)     structure\n",
       "21 exon_chrom_end        Exon Chr End (bp)       structure\n",
       "22 is_constitutive       Constitutive Exon       structure\n",
       "23 rank                  Exon Rank in Transcript structure\n",
       "24 phase                 phase                   structure\n",
       "25 cdna_coding_start     cDNA coding start       structure\n",
       "26 cdna_coding_end       cDNA coding end         structure\n",
       "27 genomic_coding_start  Genomic coding start    structure\n",
       "28 genomic_coding_end    Genomic coding end      structure\n",
       "29 ensembl_exon_id       Ensembl Exon ID         structure\n",
       "30 cds_start             CDS Start               structure\n",
       "31 cds_end               CDS End                 structure"
      ]
     },
     "metadata": {},
     "output_type": "display_data"
    }
   ],
   "source": [
    "listAttributes(genes) %>% filter(page==\"structure\")"
   ]
  },
  {
   "cell_type": "markdown",
   "metadata": {},
   "source": [
    "Show the available filters for extracting protein coding genes from the given mart:"
   ]
  },
  {
   "cell_type": "code",
   "execution_count": 21,
   "metadata": {},
   "outputs": [
    {
     "data": {
      "text/html": [
       "<table>\n",
       "<thead><tr><th scope=col>name</th><th scope=col>description</th></tr></thead>\n",
       "<tbody>\n",
       "\t<tr><td>type                          </td><td>Type                          </td></tr>\n",
       "\t<tr><td>with_exp_est_celltype         </td><td>with Expression est cell type </td></tr>\n",
       "\t<tr><td>with_exp_atlas_celltype       </td><td>with GNF/Atlas cell type ID(s)</td></tr>\n",
       "\t<tr><td>biotype                       </td><td>Type                          </td></tr>\n",
       "\t<tr><td>phenotype_description         </td><td>Phenotype description         </td></tr>\n",
       "\t<tr><td>event_type                    </td><td>Event Type                    </td></tr>\n",
       "\t<tr><td>cell_type_term                </td><td>Cell type                     </td></tr>\n",
       "\t<tr><td>atlas_celltype                </td><td>                              </td></tr>\n",
       "</tbody>\n",
       "</table>\n"
      ],
      "text/latex": [
       "\\begin{tabular}{r|ll}\n",
       " name & description\\\\\n",
       "\\hline\n",
       "\t type                           & Type                          \\\\\n",
       "\t with\\_exp\\_est\\_celltype    & with Expression est cell type \\\\\n",
       "\t with\\_exp\\_atlas\\_celltype  & with GNF/Atlas cell type ID(s)\\\\\n",
       "\t biotype                        & Type                          \\\\\n",
       "\t phenotype\\_description        & Phenotype description         \\\\\n",
       "\t event\\_type                   & Event Type                    \\\\\n",
       "\t cell\\_type\\_term             & Cell type                     \\\\\n",
       "\t atlas\\_celltype               &                               \\\\\n",
       "\\end{tabular}\n"
      ],
      "text/markdown": [
       "\n",
       "name | description | \n",
       "|---|---|---|---|---|---|---|---|\n",
       "| type                           | Type                           | \n",
       "| with_exp_est_celltype          | with Expression est cell type  | \n",
       "| with_exp_atlas_celltype        | with GNF/Atlas cell type ID(s) | \n",
       "| biotype                        | Type                           | \n",
       "| phenotype_description          | Phenotype description          | \n",
       "| event_type                     | Event Type                     | \n",
       "| cell_type_term                 | Cell type                      | \n",
       "| atlas_celltype                 |                                | \n",
       "\n",
       "\n"
      ],
      "text/plain": [
       "  name                    description                   \n",
       "1 type                    Type                          \n",
       "2 with_exp_est_celltype   with Expression est cell type \n",
       "3 with_exp_atlas_celltype with GNF/Atlas cell type ID(s)\n",
       "4 biotype                 Type                          \n",
       "5 phenotype_description   Phenotype description         \n",
       "6 event_type              Event Type                    \n",
       "7 cell_type_term          Cell type                     \n",
       "8 atlas_celltype                                        "
      ]
     },
     "metadata": {},
     "output_type": "display_data"
    }
   ],
   "source": [
    "listFilters(genes) %>% filter(str_detect(name, \"type\"))"
   ]
  },
  {
   "cell_type": "markdown",
   "metadata": {},
   "source": [
    "The \"biotype\" filter is what we are interested in, specifically its \"protein_coding\" subset:"
   ]
  },
  {
   "cell_type": "code",
   "execution_count": 29,
   "metadata": {
    "collapsed": true
   },
   "outputs": [],
   "source": [
    "exons <-\n",
    "    getBM((listAttributes(genes) %>% filter(page==\"structure\"))$name,    # get all attributes\n",
    "          filters=c(\"chromosome_name\", \"biotype\"),                       # filter for chromosome and biotype\n",
    "          values=list(1:22, \"protein_coding\"),                           # chromosomes 1:22 and \"protein_coding\"\n",
    "          mart=genes) %>%\n",
    "    dplyr::select(chromosome_name, exon_chrom_start, exon_chrom_end) %>% # take only exon coordinates\n",
    "    setNames(c(\"chrom\", \"start\", \"end\")) %>%                             # rename the columns to BED names\n",
    "    mutate(chrom=paste0(\"chr\", chrom)) %>%                               # convert chromosome IDs to USCS format\n",
    "    makeGRangesFromDataFrame %>%                                         # convert to GRanges object\n",
    "    reduce                                                               # merge overlapping exons"
   ]
  },
  {
   "cell_type": "code",
   "execution_count": 31,
   "metadata": {
    "collapsed": true
   },
   "outputs": [],
   "source": [
    "seqinfo(exons) <- seqinfo(BSgenome.Hsapiens.UCSC.hg19)"
   ]
  },
  {
   "cell_type": "markdown",
   "metadata": {},
   "source": [
    "How many exons did I get? What is the total length of the exonic sequence (in Mb) that we extracted?\n",
    "\n",
    "Bioinformatic databases are a mess - are the numbers I got reasonable?"
   ]
  },
  {
   "cell_type": "code",
   "execution_count": 32,
   "metadata": {},
   "outputs": [
    {
     "data": {
      "text/html": [
       "186343"
      ],
      "text/latex": [
       "186343"
      ],
      "text/markdown": [
       "186343"
      ],
      "text/plain": [
       "[1] 186343"
      ]
     },
     "metadata": {},
     "output_type": "display_data"
    },
    {
     "data": {
      "text/html": [
       "75.235862"
      ],
      "text/latex": [
       "75.235862"
      ],
      "text/markdown": [
       "75.235862"
      ],
      "text/plain": [
       "[1] 75.23586"
      ]
     },
     "metadata": {},
     "output_type": "display_data"
    }
   ],
   "source": [
    "length(exons)\n",
    "sum(width(exons)) / 1e6"
   ]
  },
  {
   "cell_type": "markdown",
   "metadata": {},
   "source": [
    "## Calculate the overlap of each window with each annotation feature"
   ]
  },
  {
   "cell_type": "markdown",
   "metadata": {},
   "source": [
    "Those black magic GRanges overlap tricks are from [here](https://support.bioconductor.org/p/56880/)."
   ]
  },
  {
   "cell_type": "markdown",
   "metadata": {},
   "source": [
    "### Developing the code on a simple test example"
   ]
  },
  {
   "cell_type": "markdown",
   "metadata": {},
   "source": [
    "Testing sites, testing windows and testing exons"
   ]
  },
  {
   "cell_type": "code",
   "execution_count": 78,
   "metadata": {},
   "outputs": [
    {
     "data": {
      "text/plain": [
       "GRanges object with 4 ranges and 0 metadata columns:\n",
       "      seqnames     ranges strand\n",
       "         <Rle>  <IRanges>  <Rle>\n",
       "  [1]     chr1 [ 10,  10]      *\n",
       "  [2]     chr1 [ 16,  16]      *\n",
       "  [3]     chr1 [ 22,  22]      *\n",
       "  [4]     chr1 [100, 100]      *\n",
       "  -------\n",
       "  seqinfo: 1 sequence from an unspecified genome; no seqlengths"
      ]
     },
     "metadata": {},
     "output_type": "display_data"
    },
    {
     "data": {
      "text/plain": [
       "GRanges object with 4 ranges and 0 metadata columns:\n",
       "      seqnames    ranges strand\n",
       "         <Rle> <IRanges>  <Rle>\n",
       "  [1]     chr1 [ 5,  14]      *\n",
       "  [2]     chr1 [11,  20]      *\n",
       "  [3]     chr1 [17,  26]      *\n",
       "  [4]     chr1 [95, 104]      *\n",
       "  -------\n",
       "  seqinfo: 93 sequences (1 circular) from hg19 genome"
      ]
     },
     "metadata": {},
     "output_type": "display_data"
    },
    {
     "data": {
      "text/plain": [
       "GRanges object with 4 ranges and 0 metadata columns:\n",
       "      seqnames     ranges strand\n",
       "         <Rle>  <IRanges>  <Rle>\n",
       "  [1]     chr1 [  7,   9]      *\n",
       "  [2]     chr1 [ 12,  13]      *\n",
       "  [3]     chr1 [ 16,  21]      *\n",
       "  [4]     chr1 [200, 220]      *\n",
       "  -------\n",
       "  seqinfo: 1 sequence from an unspecified genome; no seqlengths"
      ]
     },
     "metadata": {},
     "output_type": "display_data"
    }
   ],
   "source": [
    "# sites\n",
    "(s <- GRanges(seqnames=\"chr1\", ranges=IRanges(c(10, 16, 22, 100), width=1)))\n",
    "seqinfo(s) <- seqinfo(BSgenome.Hsapiens.UCSC.hg19)\n",
    "\n",
    "# windows around sites\n",
    "(w <- flank(s, 5, both=TRUE))\n",
    "seqinfo(w) <- seqinfo(BSgenome.Hsapiens.UCSC.hg19)\n",
    "\n",
    "# regions of interest (like exons)\n",
    "(r <- GRanges(seqnames=\"chr1\", ranges=IRanges(start=c(7, 12, 16, 200), end=c(9, 13, 21, 220))))\n",
    "seqinfo(r) <- seqinfo(BSgenome.Hsapiens.UCSC.hg19)"
   ]
  },
  {
   "cell_type": "markdown",
   "metadata": {},
   "source": [
    "Calculate the # of overlapping bases for each window:"
   ]
  },
  {
   "cell_type": "code",
   "execution_count": 79,
   "metadata": {},
   "outputs": [
    {
     "data": {
      "text/plain": [
       "Hits object with 5 hits and 0 metadata columns:\n",
       "      queryHits subjectHits\n",
       "      <integer>   <integer>\n",
       "  [1]         1           1\n",
       "  [2]         1           2\n",
       "  [3]         2           2\n",
       "  [4]         2           3\n",
       "  [5]         3           3\n",
       "  -------\n",
       "  queryLength: 4 / subjectLength: 4"
      ]
     },
     "metadata": {},
     "output_type": "display_data"
    }
   ],
   "source": [
    "# get the hit table between windows and regions they overlap with\n",
    "(hits <- findOverlaps(w, r))"
   ]
  },
  {
   "cell_type": "code",
   "execution_count": 80,
   "metadata": {},
   "outputs": [
    {
     "data": {
      "text/plain": [
       "GRanges object with 5 ranges and 1 metadata column:\n",
       "      seqnames    ranges strand |       hit\n",
       "         <Rle> <IRanges>  <Rle> | <logical>\n",
       "  [1]     chr1  [ 7,  9]      * |      TRUE\n",
       "  [2]     chr1  [12, 13]      * |      TRUE\n",
       "  [3]     chr1  [12, 13]      * |      TRUE\n",
       "  [4]     chr1  [16, 20]      * |      TRUE\n",
       "  [5]     chr1  [17, 21]      * |      TRUE\n",
       "  -------\n",
       "  seqinfo: 93 sequences (1 circular) from hg19 genome"
      ]
     },
     "metadata": {},
     "output_type": "display_data"
    }
   ],
   "source": [
    "# get all overlapping regions (duplicates for regions\n",
    "# overlapping several windows/sites)\n",
    "(w_over <- pintersect(w[queryHits(hits)], r[subjectHits(hits)]))"
   ]
  },
  {
   "cell_type": "code",
   "execution_count": 81,
   "metadata": {},
   "outputs": [
    {
     "data": {
      "text/html": [
       "<dl class=dl-horizontal>\n",
       "\t<dt>1</dt>\n",
       "\t\t<dd>5</dd>\n",
       "\t<dt>2</dt>\n",
       "\t\t<dd>7</dd>\n",
       "\t<dt>3</dt>\n",
       "\t\t<dd>5</dd>\n",
       "</dl>\n"
      ],
      "text/plain": [
       "1 2 3 \n",
       "5 7 5 "
      ]
     },
     "metadata": {},
     "output_type": "display_data"
    }
   ],
   "source": [
    "# for each window count the number of overlapping bases in regions\n",
    "# as an integer vector\n",
    "(w_counts <- tapply(w_over, queryHits(hits), FUN=function(x) sum(width(x))))"
   ]
  },
  {
   "cell_type": "code",
   "execution_count": 8,
   "metadata": {},
   "outputs": [
    {
     "data": {
      "text/plain": [
       "GRanges object with 4 ranges and 1 metadata column:\n",
       "      seqnames     ranges strand |   overlap\n",
       "         <Rle>  <IRanges>  <Rle> | <numeric>\n",
       "  [1]     chr1 [ 10,  10]      * |       0.5\n",
       "  [2]     chr1 [ 16,  16]      * |       0.7\n",
       "  [3]     chr1 [ 22,  22]      * |       0.5\n",
       "  [4]     chr1 [100, 100]      * |         0\n",
       "  -------\n",
       "  seqinfo: 93 sequences (1 circular) from hg19 genome"
      ]
     },
     "metadata": {},
     "output_type": "display_data"
    }
   ],
   "source": [
    "# add the column with % overlap to the original sites object\n",
    "s$overlap <- 0\n",
    "s$overlap[as.numeric(names(w_counts))] <- unname(w_counts) / WINDOW_SIZE\n",
    "s"
   ]
  },
  {
   "cell_type": "markdown",
   "metadata": {},
   "source": [
    "The code seems to work, let's construct a function:"
   ]
  },
  {
   "cell_type": "code",
   "execution_count": 38,
   "metadata": {
    "collapsed": true
   },
   "outputs": [],
   "source": [
    "calc_window_overlaps <- function(sites, regions, window_size) {\n",
    "    # construct windows around each site\n",
    "    windows <- flank(sites, window_size, both=TRUE)\n",
    "    seqinfo(windows) <- seqinfo(sites)\n",
    "\n",
    "    # get the hit table between windows and regions they overlap with\n",
    "    hits <- findOverlaps(windows, regions)\n",
    "\n",
    "    # get the all overlapping regions (duplicates for regions\n",
    "    # overlapping several windows/sites)\n",
    "    w_over <- pintersect(windows[queryHits(hits)], regions[subjectHits(hits)])\n",
    "\n",
    "    # for each window count the number of overlapping bases in regions\n",
    "    # as an integer vector\n",
    "    w_counts <- tapply(w_over, queryHits(hits), FUN=function(x) { sum(width(x)) })\n",
    "\n",
    "    # add the column with % overlap to the original sites object\n",
    "    sites$overlap <- 0 # by default zero overlap for each site\n",
    "    sites$overlap[as.numeric(names(w_counts))] <- unname(w_counts) / window_size\n",
    "\n",
    "    mcols\n",
    "}"
   ]
  },
  {
   "cell_type": "markdown",
   "metadata": {},
   "source": [
    "Test of this function on the toy dataset from above:"
   ]
  },
  {
   "cell_type": "code",
   "execution_count": 39,
   "metadata": {},
   "outputs": [
    {
     "data": {
      "text/plain": [
       "GRanges object with 4 ranges and 1 metadata column:\n",
       "      seqnames     ranges strand |   overlap\n",
       "         <Rle>  <IRanges>  <Rle> | <numeric>\n",
       "  [1]     chr1 [ 10,  10]      * |         1\n",
       "  [2]     chr1 [ 16,  16]      * |       1.4\n",
       "  [3]     chr1 [ 22,  22]      * |         1\n",
       "  [4]     chr1 [100, 100]      * |         0\n",
       "  -------\n",
       "  seqinfo: 93 sequences (1 circular) from hg19 genome"
      ]
     },
     "metadata": {},
     "output_type": "display_data"
    }
   ],
   "source": [
    "calc_window_overlaps(s, r, 5)"
   ]
  },
  {
   "cell_type": "code",
   "execution_count": 147,
   "metadata": {},
   "outputs": [],
   "source": [
    "WINDOW_SIZE <- 100000\n",
    "\n",
    "exon_densities <-\n",
    "    mclapply(paste0(\"chr\", 1:22),\n",
    "             function(chr) {\n",
    "                 calc_window_overlaps(sites[seqnames(sites) == chr], exons, WINDOW_SIZE)\n",
    "             }, mc.cores=22) %>%\n",
    "    do.call(c, .)"
   ]
  },
  {
   "cell_type": "code",
   "execution_count": 74,
   "metadata": {},
   "outputs": [
    {
     "data": {
      "text/plain": [
       "   Min. 1st Qu.  Median    Mean 3rd Qu.    Max. \n",
       "0.00000 0.00709 0.07943 0.09700 0.15620 0.64220 "
      ]
     },
     "metadata": {},
     "output_type": "display_data"
    }
   ],
   "source": [
    "summary(mcols(x)$overlap)"
   ]
  },
  {
   "cell_type": "code",
   "execution_count": 75,
   "metadata": {},
   "outputs": [
    {
     "name": "stderr",
     "output_type": "stream",
     "text": [
      "`stat_bin()` using `bins = 30`. Pick better value with `binwidth`.\n"
     ]
    },
    {
     "data": {},
     "metadata": {},
     "output_type": "display_data"
    },
    {
     "data": {
      "image/png": "[encoded data removed]",
      "text/plain": [
       "plot without title"
      ]
     },
     "metadata": {},
     "output_type": "display_data"
    }
   ],
   "source": [
    "qplot(mcols(x)$overlap, xlim=c(0, 1))"
   ]
  },
  {
   "cell_type": "code",
   "execution_count": null,
   "metadata": {
    "collapsed": true
   },
   "outputs": [],
   "source": []
  }
 ],
 "metadata": {
  "kernelspec": {
   "display_name": "R",
   "language": "R",
   "name": "ir"
  },
  "language_info": {
   "codemirror_mode": "r",
   "file_extension": ".r",
   "mimetype": "text/x-r-source",
   "name": "R",
   "pygments_lexer": "r",
   "version": "3.3.1"
  }
 },
 "nbformat": 4,
 "nbformat_minor": 2
}
