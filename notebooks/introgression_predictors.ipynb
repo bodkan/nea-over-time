{
 "cells": [
  {
   "cell_type": "markdown",
   "metadata": {},
   "source": [
    "**TODO** select non-overlapping windows only (to avoid the non-independence between sites)"
   ]
  },
  {
   "cell_type": "markdown",
   "metadata": {},
   "source": [
    "The basic idea is to find out which categories of genomic regions (exons, promoters, enhancers, etc) contribute the most to the Nea. ancestry observed in present day Europeans. For example: have coding regions or enhancers been the main drivers of selection against Nea. introgression?"
   ]
  },
  {
   "cell_type": "markdown",
   "metadata": {},
   "source": [
    "Links:\n",
    "\n",
    "* info about different coordinate types: https://groups.google.com/forum/#!msg/biomart-users/OtQbAx3y9CA/wrF19ID1AgAJ\n",
    "* https://www.biostars.org/p/2005/\n",
    "* http://www.bioconductor.org/packages/release/bioc/vignettes/biomaRt/inst/doc/biomaRt.html#attribute-pages\n",
    "* http://www.ensembl.org/info/data/biomart/biomart_r_package.html\n",
    "* http://www.ensembl.info/blog/2015/06/01/biomart-or-how-to-access-the-ensembl-data-from-r/\n",
    "* for checking with manually downloaded data: http://www.ensembl.org/info/data/biomart/how_to_use_biomart.html"
   ]
  },
  {
   "cell_type": "raw",
   "metadata": {},
   "source": [
    "source(\"http://bioconductor.org/biocLite.R\")\n",
    "biocLite(\"biomaRt\")"
   ]
  },
  {
   "cell_type": "markdown",
   "metadata": {},
   "source": [
    "Following [this](http://www.ensembl.org/info/data/biomart/biomart_r_package.html) tutorial, I want to extract coordinates of exonic and regulatory regions from the Ensembl database and then calculate the density of such regions in a defined window around each SNP.\n",
    "\n",
    "These densities will they be used as predictors in a linear model, predicting the Nea. ancestry at each site.\n",
    "\n",
    "Alternatively, I could just test if the distribution of densities for different regions differ based on frequency of Nea. alleles at each site."
   ]
  },
  {
   "cell_type": "code",
   "execution_count": 1,
   "metadata": {},
   "outputs": [
    {
     "name": "stderr",
     "output_type": "stream",
     "text": [
      "Loading required package: GenomicRanges\n",
      "Loading required package: BiocGenerics\n",
      "Loading required package: parallel\n",
      "\n",
      "Attaching package: ‘BiocGenerics’\n",
      "\n",
      "The following objects are masked from ‘package:parallel’:\n",
      "\n",
      "    clusterApply, clusterApplyLB, clusterCall, clusterEvalQ,\n",
      "    clusterExport, clusterMap, parApply, parCapply, parLapply,\n",
      "    parLapplyLB, parRapply, parSapply, parSapplyLB\n",
      "\n",
      "The following objects are masked from ‘package:stats’:\n",
      "\n",
      "    IQR, mad, xtabs\n",
      "\n",
      "The following objects are masked from ‘package:base’:\n",
      "\n",
      "    anyDuplicated, append, as.data.frame, cbind, colnames, do.call,\n",
      "    duplicated, eval, evalq, Filter, Find, get, grep, grepl, intersect,\n",
      "    is.unsorted, lapply, lengths, Map, mapply, match, mget, order,\n",
      "    paste, pmax, pmax.int, pmin, pmin.int, Position, rank, rbind,\n",
      "    Reduce, rownames, sapply, setdiff, sort, table, tapply, union,\n",
      "    unique, unsplit\n",
      "\n",
      "Loading required package: S4Vectors\n",
      "Loading required package: stats4\n",
      "\n",
      "Attaching package: ‘S4Vectors’\n",
      "\n",
      "The following objects are masked from ‘package:base’:\n",
      "\n",
      "    colMeans, colSums, expand.grid, rowMeans, rowSums\n",
      "\n",
      "Loading required package: IRanges\n",
      "Loading required package: GenomeInfoDb\n",
      "Loading required package: BSgenome\n",
      "Loading required package: Biostrings\n",
      "Loading required package: XVector\n"
     ]
    }
   ],
   "source": [
    "library(biomaRt)\n",
    "library(rtracklayer)\n",
    "library(BSgenome.Hsapiens.UCSC.hg19)"
   ]
  },
  {
   "cell_type": "code",
   "execution_count": 2,
   "metadata": {},
   "outputs": [
    {
     "name": "stderr",
     "output_type": "stream",
     "text": [
      "Loading tidyverse: ggplot2\n",
      "Loading tidyverse: tibble\n",
      "Loading tidyverse: tidyr\n",
      "Loading tidyverse: readr\n",
      "Loading tidyverse: purrr\n",
      "Loading tidyverse: dplyr\n",
      "Conflicts with tidy packages ---------------------------------------------------\n",
      "collapse(): dplyr, Biostrings, IRanges\n",
      "combine():  dplyr, BiocGenerics\n",
      "compact():  purrr, XVector\n",
      "desc():     dplyr, IRanges\n",
      "expand():   tidyr, S4Vectors\n",
      "filter():   dplyr, stats\n",
      "first():    dplyr, S4Vectors\n",
      "lag():      dplyr, stats\n",
      "Position(): ggplot2, BiocGenerics, base\n",
      "reduce():   purrr, GenomicRanges, IRanges\n",
      "rename():   dplyr, S4Vectors\n",
      "select():   dplyr, biomaRt\n",
      "simplify(): purrr, IRanges\n",
      "slice():    dplyr, XVector, IRanges\n",
      "\n",
      "Attaching package: ‘magrittr’\n",
      "\n",
      "The following object is masked from ‘package:purrr’:\n",
      "\n",
      "    set_names\n",
      "\n",
      "The following object is masked from ‘package:tidyr’:\n",
      "\n",
      "    extract\n",
      "\n"
     ]
    }
   ],
   "source": [
    "library(tidyverse)\n",
    "library(stringr)\n",
    "library(magrittr)\n",
    "library(parallel)"
   ]
  },
  {
   "cell_type": "markdown",
   "metadata": {},
   "source": [
    "## Get coordinates of admixture array sites"
   ]
  },
  {
   "cell_type": "code",
   "execution_count": 3,
   "metadata": {},
   "outputs": [],
   "source": [
    "source(\"../R/utils.R\")"
   ]
  },
  {
   "cell_type": "code",
   "execution_count": 4,
   "metadata": {},
   "outputs": [
    {
     "name": "stderr",
     "output_type": "stream",
     "text": [
      "Warning message:\n",
      "“Missing column names filled in: 'X12' [12], 'X13' [13], 'X14' [14], 'X15' [15], 'X16' [16], 'X17' [17], 'X18' [18], 'X19' [19], 'X20' [20], 'X21' [21], 'X22' [22], 'X23' [23], 'X24' [24]”Parsed with column specification:\n",
      "cols(\n",
      "  .default = col_character(),\n",
      "  Latitude = col_double(),\n",
      "  Longitude = col_double(),\n",
      "  Coverage = col_integer(),\n",
      "  HetRateAuto = col_double()\n",
      ")\n",
      "See spec(...) for full column specifications.\n",
      "Parsed with column specification:\n",
      "cols(\n",
      "  .default = col_integer(),\n",
      "  ref = col_character(),\n",
      "  alt = col_character()\n",
      ")\n",
      "See spec(...) for full column specifications.\n",
      "Parsed with column specification:\n",
      "cols(\n",
      "  .default = col_integer(),\n",
      "  ref = col_character(),\n",
      "  alt = col_character()\n",
      ")\n",
      "See spec(...) for full column specifications.\n",
      "Parsed with column specification:\n",
      "cols(\n",
      "  chrom = col_integer(),\n",
      "  pos = col_integer(),\n",
      "  ref = col_character(),\n",
      "  alt = col_character(),\n",
      "  Altai = col_integer(),\n",
      "  Vindija = col_integer(),\n",
      "  Denisovan = col_integer()\n",
      ")\n",
      "Joining, by = c(\"chrom\", \"pos\", \"ref\", \"alt\")\n",
      "Joining, by = c(\"chrom\", \"pos\", \"ref\", \"alt\")\n"
     ]
    }
   ],
   "source": [
    "european_ids <- get_european_ids(\"../raw_data/10_24_2014_SGDP_metainformation_update.txt\")\n",
    "\n",
    "europeans <-\n",
    "    load_dataset(\"../clean_data/ice_age.tsv\", \"../clean_data/sgdp.tsv\", \"../clean_data/archaics.tsv\",\n",
    "                 random_sample=FALSE) %>%\n",
    "    dplyr::select(c(\"chrom\", \"pos\", european_ids)) %>% \n",
    "    dplyr::mutate(chrom=paste0(\"chr\", chrom), start=pos, end=pos)"
   ]
  },
  {
   "cell_type": "code",
   "execution_count": 5,
   "metadata": {
    "collapsed": true
   },
   "outputs": [],
   "source": [
    "sites <- makeGRangesFromDataFrame(europeans)\n",
    "seqinfo(sites) <- seqinfo(BSgenome.Hsapiens.UCSC.hg19)"
   ]
  },
  {
   "cell_type": "code",
   "execution_count": 6,
   "metadata": {},
   "outputs": [
    {
     "data": {
      "text/html": [
       "484016"
      ],
      "text/latex": [
       "484016"
      ],
      "text/markdown": [
       "484016"
      ],
      "text/plain": [
       "[1] 484016"
      ]
     },
     "metadata": {},
     "output_type": "display_data"
    }
   ],
   "source": [
    "length(sites)"
   ]
  },
  {
   "cell_type": "code",
   "execution_count": 7,
   "metadata": {},
   "outputs": [
    {
     "data": {
      "text/plain": [
       "GRanges object with 6 ranges and 0 metadata columns:\n",
       "      seqnames           ranges strand\n",
       "         <Rle>        <IRanges>  <Rle>\n",
       "  [1]     chr1 [847983, 847983]      *\n",
       "  [2]     chr1 [853089, 853089]      *\n",
       "  [3]     chr1 [853596, 853596]      *\n",
       "  [4]     chr1 [854793, 854793]      *\n",
       "  [5]     chr1 [867552, 867552]      *\n",
       "  [6]     chr1 [871401, 871401]      *\n",
       "  -------\n",
       "  seqinfo: 93 sequences (1 circular) from hg19 genome"
      ]
     },
     "metadata": {},
     "output_type": "display_data"
    }
   ],
   "source": [
    "head(sites)"
   ]
  },
  {
   "cell_type": "markdown",
   "metadata": {},
   "source": [
    "## Calculate the overlap of each window with each annotation feature"
   ]
  },
  {
   "cell_type": "markdown",
   "metadata": {},
   "source": [
    "Those black magic GRanges overlap tricks are from [here](https://support.bioconductor.org/p/56880/)."
   ]
  },
  {
   "cell_type": "markdown",
   "metadata": {},
   "source": [
    "### Developing the code on a simple test example"
   ]
  },
  {
   "cell_type": "markdown",
   "metadata": {},
   "source": [
    "Testing sites, testing windows and testing exons"
   ]
  },
  {
   "cell_type": "code",
   "execution_count": 8,
   "metadata": {
    "collapsed": true
   },
   "outputs": [],
   "source": [
    "WINDOW_SIZE <- 10"
   ]
  },
  {
   "cell_type": "code",
   "execution_count": 9,
   "metadata": {},
   "outputs": [
    {
     "data": {
      "text/plain": [
       "GRanges object with 4 ranges and 0 metadata columns:\n",
       "      seqnames     ranges strand\n",
       "         <Rle>  <IRanges>  <Rle>\n",
       "  [1]     chr1 [ 10,  10]      *\n",
       "  [2]     chr1 [ 16,  16]      *\n",
       "  [3]     chr1 [ 22,  22]      *\n",
       "  [4]     chr1 [100, 100]      *\n",
       "  -------\n",
       "  seqinfo: 1 sequence from an unspecified genome; no seqlengths"
      ]
     },
     "metadata": {},
     "output_type": "display_data"
    },
    {
     "data": {
      "text/plain": [
       "GRanges object with 4 ranges and 0 metadata columns:\n",
       "      seqnames    ranges strand\n",
       "         <Rle> <IRanges>  <Rle>\n",
       "  [1]     chr1 [ 5,  14]      *\n",
       "  [2]     chr1 [11,  20]      *\n",
       "  [3]     chr1 [17,  26]      *\n",
       "  [4]     chr1 [95, 104]      *\n",
       "  -------\n",
       "  seqinfo: 93 sequences (1 circular) from hg19 genome"
      ]
     },
     "metadata": {},
     "output_type": "display_data"
    },
    {
     "data": {
      "text/plain": [
       "GRanges object with 4 ranges and 0 metadata columns:\n",
       "      seqnames     ranges strand\n",
       "         <Rle>  <IRanges>  <Rle>\n",
       "  [1]     chr1 [  7,   9]      *\n",
       "  [2]     chr1 [ 12,  13]      *\n",
       "  [3]     chr1 [ 16,  21]      *\n",
       "  [4]     chr1 [200, 220]      *\n",
       "  -------\n",
       "  seqinfo: 1 sequence from an unspecified genome; no seqlengths"
      ]
     },
     "metadata": {},
     "output_type": "display_data"
    }
   ],
   "source": [
    "# sites\n",
    "(s <- GRanges(seqnames=\"chr1\", ranges=IRanges(c(10, 16, 22, 100), width=1)))\n",
    "seqinfo(s) <- seqinfo(BSgenome.Hsapiens.UCSC.hg19)\n",
    "\n",
    "# windows around sites\n",
    "(w <- flank(s, as.integer(WINDOW_SIZE / 2), both=TRUE))\n",
    "seqinfo(w) <- seqinfo(BSgenome.Hsapiens.UCSC.hg19)\n",
    "\n",
    "# regions of interest (like exons)\n",
    "(r <- GRanges(seqnames=\"chr1\", ranges=IRanges(start=c(7, 12, 16, 200), end=c(9, 13, 21, 220))))\n",
    "seqinfo(r) <- seqinfo(BSgenome.Hsapiens.UCSC.hg19)"
   ]
  },
  {
   "cell_type": "markdown",
   "metadata": {},
   "source": [
    "The densities in windows around the 4 testing sites are supposed to be 0.5, 0.7, 0.5 and 0."
   ]
  },
  {
   "cell_type": "code",
   "execution_count": 10,
   "metadata": {
    "collapsed": true
   },
   "outputs": [],
   "source": [
    "WINDOW_SIZE <- 10"
   ]
  },
  {
   "cell_type": "markdown",
   "metadata": {},
   "source": [
    "Calculate the # of overlapping bases for each window:"
   ]
  },
  {
   "cell_type": "code",
   "execution_count": 11,
   "metadata": {},
   "outputs": [
    {
     "data": {
      "text/plain": [
       "Hits object with 5 hits and 0 metadata columns:\n",
       "      queryHits subjectHits\n",
       "      <integer>   <integer>\n",
       "  [1]         1           1\n",
       "  [2]         1           2\n",
       "  [3]         2           2\n",
       "  [4]         2           3\n",
       "  [5]         3           3\n",
       "  -------\n",
       "  queryLength: 4 / subjectLength: 4"
      ]
     },
     "metadata": {},
     "output_type": "display_data"
    }
   ],
   "source": [
    "# get the hit table between windows and regions they overlap with\n",
    "(hits <- findOverlaps(w, r))"
   ]
  },
  {
   "cell_type": "code",
   "execution_count": 12,
   "metadata": {},
   "outputs": [
    {
     "data": {
      "text/plain": [
       "GRanges object with 5 ranges and 1 metadata column:\n",
       "      seqnames    ranges strand |       hit\n",
       "         <Rle> <IRanges>  <Rle> | <logical>\n",
       "  [1]     chr1  [ 7,  9]      * |      TRUE\n",
       "  [2]     chr1  [12, 13]      * |      TRUE\n",
       "  [3]     chr1  [12, 13]      * |      TRUE\n",
       "  [4]     chr1  [16, 20]      * |      TRUE\n",
       "  [5]     chr1  [17, 21]      * |      TRUE\n",
       "  -------\n",
       "  seqinfo: 93 sequences (1 circular) from hg19 genome"
      ]
     },
     "metadata": {},
     "output_type": "display_data"
    }
   ],
   "source": [
    "# get all overlapping regions (duplicates for regions\n",
    "# overlapping several windows/sites)\n",
    "(w_over <- pintersect(w[queryHits(hits)], r[subjectHits(hits)]))"
   ]
  },
  {
   "cell_type": "code",
   "execution_count": 13,
   "metadata": {},
   "outputs": [
    {
     "data": {
      "text/html": [
       "<dl class=dl-horizontal>\n",
       "\t<dt>1</dt>\n",
       "\t\t<dd>5</dd>\n",
       "\t<dt>2</dt>\n",
       "\t\t<dd>7</dd>\n",
       "\t<dt>3</dt>\n",
       "\t\t<dd>5</dd>\n",
       "</dl>\n"
      ],
      "text/plain": [
       "1 2 3 \n",
       "5 7 5 "
      ]
     },
     "metadata": {},
     "output_type": "display_data"
    }
   ],
   "source": [
    "# for each window count the number of overlapping bases in regions\n",
    "# as an integer vector\n",
    "(w_counts <- tapply(w_over, queryHits(hits), FUN=function(x) sum(width(x))))"
   ]
  },
  {
   "cell_type": "code",
   "execution_count": 14,
   "metadata": {},
   "outputs": [
    {
     "data": {
      "text/plain": [
       "GRanges object with 4 ranges and 1 metadata column:\n",
       "      seqnames     ranges strand |   overlap\n",
       "         <Rle>  <IRanges>  <Rle> | <numeric>\n",
       "  [1]     chr1 [ 10,  10]      * |       0.5\n",
       "  [2]     chr1 [ 16,  16]      * |       0.7\n",
       "  [3]     chr1 [ 22,  22]      * |       0.5\n",
       "  [4]     chr1 [100, 100]      * |         0\n",
       "  -------\n",
       "  seqinfo: 93 sequences (1 circular) from hg19 genome"
      ]
     },
     "metadata": {},
     "output_type": "display_data"
    }
   ],
   "source": [
    "# add the column with % overlap to the original sites object\n",
    "s$overlap <- 0\n",
    "s$overlap[as.numeric(names(w_counts))] <- unname(w_counts) / WINDOW_SIZE\n",
    "s"
   ]
  },
  {
   "cell_type": "markdown",
   "metadata": {},
   "source": [
    "### The code seems to work, let's construct a function:"
   ]
  },
  {
   "cell_type": "code",
   "execution_count": 15,
   "metadata": {
    "collapsed": true
   },
   "outputs": [],
   "source": [
    "calc_window_overlaps <- function(sites, regions, window_size) {\n",
    "    # construct windows around each site\n",
    "    windows <- flank(sites, as.integer(window_size / 2), both=TRUE)\n",
    "    seqinfo(windows) <- seqinfo(sites)\n",
    "\n",
    "    # get the hit table between windows and regions they overlap with\n",
    "    hits <- findOverlaps(windows, regions)\n",
    "\n",
    "    # get the all overlapping regions (duplicates for regions\n",
    "    # overlapping several windows/sites)\n",
    "    w_over <- pintersect(windows[queryHits(hits)], regions[subjectHits(hits)])\n",
    "\n",
    "    # for each window count the number of overlapping bases in regions\n",
    "    # as an integer vector\n",
    "    w_counts <- tapply(w_over, queryHits(hits), FUN=function(x) { sum(width(x)) })\n",
    "\n",
    "    # add the column with % overlap to the original sites object\n",
    "    sites$overlap <- 0 # by default zero overlap for each site\n",
    "    sites$overlap[as.numeric(names(w_counts))] <- unname(w_counts) / window_size\n",
    "\n",
    "    sites$overlap\n",
    "}"
   ]
  },
  {
   "cell_type": "markdown",
   "metadata": {},
   "source": [
    "Test of this function on the toy dataset from above:"
   ]
  },
  {
   "cell_type": "code",
   "execution_count": 16,
   "metadata": {},
   "outputs": [
    {
     "data": {
      "text/html": [
       "<ol class=list-inline>\n",
       "\t<li>0.5</li>\n",
       "\t<li>0.7</li>\n",
       "\t<li>0.5</li>\n",
       "\t<li>0</li>\n",
       "</ol>\n"
      ],
      "text/latex": [
       "\\begin{enumerate*}\n",
       "\\item 0.5\n",
       "\\item 0.7\n",
       "\\item 0.5\n",
       "\\item 0\n",
       "\\end{enumerate*}\n"
      ],
      "text/markdown": [
       "1. 0.5\n",
       "2. 0.7\n",
       "3. 0.5\n",
       "4. 0\n",
       "\n",
       "\n"
      ],
      "text/plain": [
       "[1] 0.5 0.7 0.5 0.0"
      ]
     },
     "metadata": {},
     "output_type": "display_data"
    }
   ],
   "source": [
    "calc_window_overlaps(granges(s), r, WINDOW_SIZE)"
   ]
  },
  {
   "cell_type": "markdown",
   "metadata": {},
   "source": [
    "It works!"
   ]
  },
  {
   "cell_type": "markdown",
   "metadata": {},
   "source": [
    "# Fetching genome annotation data"
   ]
  },
  {
   "cell_type": "code",
   "execution_count": 17,
   "metadata": {
    "collapsed": true
   },
   "outputs": [],
   "source": [
    "regions <- list()"
   ]
  },
  {
   "cell_type": "markdown",
   "metadata": {},
   "source": [
    "## Exons"
   ]
  },
  {
   "cell_type": "markdown",
   "metadata": {},
   "source": [
    "Show all the available biomarts for hg19:"
   ]
  },
  {
   "cell_type": "code",
   "execution_count": 18,
   "metadata": {},
   "outputs": [
    {
     "data": {
      "text/html": [
       "<table>\n",
       "<thead><tr><th scope=col>biomart</th><th scope=col>version</th></tr></thead>\n",
       "<tbody>\n",
       "\t<tr><td>ENSEMBL_MART_ENSEMBL </td><td>Ensembl Genes 89     </td></tr>\n",
       "\t<tr><td>ENSEMBL_MART_SNP     </td><td>Ensembl Variation 89 </td></tr>\n",
       "\t<tr><td>ENSEMBL_MART_FUNCGEN </td><td>Ensembl Regulation 89</td></tr>\n",
       "</tbody>\n",
       "</table>\n"
      ],
      "text/latex": [
       "\\begin{tabular}{r|ll}\n",
       " biomart & version\\\\\n",
       "\\hline\n",
       "\t ENSEMBL\\_MART\\_ENSEMBL & Ensembl Genes 89        \\\\\n",
       "\t ENSEMBL\\_MART\\_SNP     & Ensembl Variation 89    \\\\\n",
       "\t ENSEMBL\\_MART\\_FUNCGEN & Ensembl Regulation 89   \\\\\n",
       "\\end{tabular}\n"
      ],
      "text/markdown": [
       "\n",
       "biomart | version | \n",
       "|---|---|---|\n",
       "| ENSEMBL_MART_ENSEMBL  | Ensembl Genes 89      | \n",
       "| ENSEMBL_MART_SNP      | Ensembl Variation 89  | \n",
       "| ENSEMBL_MART_FUNCGEN  | Ensembl Regulation 89 | \n",
       "\n",
       "\n"
      ],
      "text/plain": [
       "  biomart              version              \n",
       "1 ENSEMBL_MART_ENSEMBL Ensembl Genes 89     \n",
       "2 ENSEMBL_MART_SNP     Ensembl Variation 89 \n",
       "3 ENSEMBL_MART_FUNCGEN Ensembl Regulation 89"
      ]
     },
     "metadata": {},
     "output_type": "display_data"
    }
   ],
   "source": [
    "listMarts(host=\"grch37.ensembl.org\")"
   ]
  },
  {
   "cell_type": "markdown",
   "metadata": {},
   "source": [
    "Connect to the human gene Ensembl dataset:"
   ]
  },
  {
   "cell_type": "code",
   "execution_count": 19,
   "metadata": {},
   "outputs": [
    {
     "data": {
      "text/html": [
       "<table>\n",
       "<thead><tr><th scope=col>dataset</th><th scope=col>description</th><th scope=col>version</th></tr></thead>\n",
       "<tbody>\n",
       "\t<tr><td>hsapiens_gene_ensembl   </td><td>Human genes (GRCh37.p13)</td><td>GRCh37.p13              </td></tr>\n",
       "</tbody>\n",
       "</table>\n"
      ],
      "text/latex": [
       "\\begin{tabular}{r|lll}\n",
       " dataset & description & version\\\\\n",
       "\\hline\n",
       "\t hsapiens\\_gene\\_ensembl & Human genes (GRCh37.p13)  & GRCh37.p13               \\\\\n",
       "\\end{tabular}\n"
      ],
      "text/markdown": [
       "\n",
       "dataset | description | version | \n",
       "|---|\n",
       "| hsapiens_gene_ensembl    | Human genes (GRCh37.p13) | GRCh37.p13               | \n",
       "\n",
       "\n"
      ],
      "text/plain": [
       "  dataset               description              version   \n",
       "1 hsapiens_gene_ensembl Human genes (GRCh37.p13) GRCh37.p13"
      ]
     },
     "metadata": {},
     "output_type": "display_data"
    }
   ],
   "source": [
    "ensembl_mart_genes <- useMart(\"ENSEMBL_MART_ENSEMBL\", host=\"grch37.ensembl.org\")\n",
    "listDatasets(ensembl_mart_genes) %>% filter(str_detect(dataset, \"sapiens\"))"
   ]
  },
  {
   "cell_type": "code",
   "execution_count": 20,
   "metadata": {
    "collapsed": true
   },
   "outputs": [],
   "source": [
    "genes <- useDataset(dataset=\"hsapiens_gene_ensembl\", mart=ensembl_mart_genes)"
   ]
  },
  {
   "cell_type": "markdown",
   "metadata": {},
   "source": [
    "Get coordinates of exons from the gene annotation database:"
   ]
  },
  {
   "cell_type": "code",
   "execution_count": 21,
   "metadata": {},
   "outputs": [],
   "source": [
    "regions[[\"exon\"]] <-\n",
    "    getBM((listAttributes(genes) %>% filter(page==\"structure\"))$name,    # get all attributes\n",
    "          filters=c(\"chromosome_name\", \"biotype\"),                       # filter for chromosome and biotype\n",
    "          values=list(1:22, \"protein_coding\"),                           # chromosomes 1:22 and \"protein_coding\"\n",
    "          mart=genes) %>%\n",
    "    dplyr::select(chromosome_name, exon_chrom_start, exon_chrom_end) %>%\n",
    "    setNames(c(\"chrom\", \"start\", \"end\")) %>%                             # rename the columns to BED names\n",
    "    arrange(chrom, start) %>% \n",
    "    mutate(chrom=paste0(\"chr\", chrom)) %>% \n",
    "    makeGRangesFromDataFrame %>%                                         # convert to GRanges object\n",
    "    IRanges::reduce()                                                    # merge overlapping exons"
   ]
  },
  {
   "cell_type": "markdown",
   "metadata": {},
   "source": [
    "How many exons did I get? What is the total length of the exonic sequence (in Mb) that we extracted?\n",
    "\n",
    "Bioinformatic databases are a mess - are the numbers I get reasonable?"
   ]
  },
  {
   "cell_type": "code",
   "execution_count": 22,
   "metadata": {},
   "outputs": [
    {
     "name": "stdout",
     "output_type": "stream",
     "text": [
      "number of exons:  222587 \n",
      "total amount of exonic sequence: 89.81306 Mb"
     ]
    }
   ],
   "source": [
    "cat(\"number of exons: \", length(regions[[\"exon\"]]), \"\\n\");\n",
    "cat(\"total amount of exonic sequence:\", sum(width(regions[[\"exon\"]])) / 1e6, \"Mb\");"
   ]
  },
  {
   "cell_type": "markdown",
   "metadata": {},
   "source": [
    "## Getting coordinates of regulatory features"
   ]
  },
  {
   "cell_type": "markdown",
   "metadata": {},
   "source": [
    "It took forever to find out, how to get the regulatory features. In the end I found it totally by accident in some bugreport mail :( https://support.bioconductor.org/p/39545/"
   ]
  },
  {
   "cell_type": "markdown",
   "metadata": {},
   "source": [
    "Show all the available biomarts for hg19:"
   ]
  },
  {
   "cell_type": "code",
   "execution_count": 23,
   "metadata": {},
   "outputs": [
    {
     "data": {
      "text/html": [
       "<table>\n",
       "<thead><tr><th scope=col>biomart</th><th scope=col>version</th></tr></thead>\n",
       "<tbody>\n",
       "\t<tr><td>ENSEMBL_MART_ENSEMBL </td><td>Ensembl Genes 89     </td></tr>\n",
       "\t<tr><td>ENSEMBL_MART_SNP     </td><td>Ensembl Variation 89 </td></tr>\n",
       "\t<tr><td>ENSEMBL_MART_FUNCGEN </td><td>Ensembl Regulation 89</td></tr>\n",
       "</tbody>\n",
       "</table>\n"
      ],
      "text/latex": [
       "\\begin{tabular}{r|ll}\n",
       " biomart & version\\\\\n",
       "\\hline\n",
       "\t ENSEMBL\\_MART\\_ENSEMBL & Ensembl Genes 89        \\\\\n",
       "\t ENSEMBL\\_MART\\_SNP     & Ensembl Variation 89    \\\\\n",
       "\t ENSEMBL\\_MART\\_FUNCGEN & Ensembl Regulation 89   \\\\\n",
       "\\end{tabular}\n"
      ],
      "text/markdown": [
       "\n",
       "biomart | version | \n",
       "|---|---|---|\n",
       "| ENSEMBL_MART_ENSEMBL  | Ensembl Genes 89      | \n",
       "| ENSEMBL_MART_SNP      | Ensembl Variation 89  | \n",
       "| ENSEMBL_MART_FUNCGEN  | Ensembl Regulation 89 | \n",
       "\n",
       "\n"
      ],
      "text/plain": [
       "  biomart              version              \n",
       "1 ENSEMBL_MART_ENSEMBL Ensembl Genes 89     \n",
       "2 ENSEMBL_MART_SNP     Ensembl Variation 89 \n",
       "3 ENSEMBL_MART_FUNCGEN Ensembl Regulation 89"
      ]
     },
     "metadata": {},
     "output_type": "display_data"
    }
   ],
   "source": [
    "listMarts(host=\"grch37.ensembl.org\")"
   ]
  },
  {
   "cell_type": "markdown",
   "metadata": {},
   "source": [
    "Connect to the human gene Ensembl dataset:"
   ]
  },
  {
   "cell_type": "code",
   "execution_count": 24,
   "metadata": {},
   "outputs": [
    {
     "data": {
      "text/html": [
       "<table>\n",
       "<thead><tr><th scope=col>dataset</th><th scope=col>description</th><th scope=col>version</th></tr></thead>\n",
       "<tbody>\n",
       "\t<tr><td>hsapiens_annotated_feature                 </td><td>Human Regulatory Evidence (GRCh37.p13)     </td><td>GRCh37.p13                                 </td></tr>\n",
       "\t<tr><td>hsapiens_external_feature                  </td><td>Human Other Regulatory Regions (GRCh37.p13)</td><td>GRCh37.p13                                 </td></tr>\n",
       "\t<tr><td>hsapiens_mirna_target_feature              </td><td>Human miRNA Target Regions (GRCh37.p13)    </td><td>GRCh37.p13                                 </td></tr>\n",
       "\t<tr><td>hsapiens_regulatory_feature                </td><td>Human Regulatory Features (GRCh37.p13)     </td><td>GRCh37.p13                                 </td></tr>\n",
       "\t<tr><td>hsapiens_motif_feature                     </td><td>Human Binding Motifs (GRCh37.p13)          </td><td>GRCh37.p13                                 </td></tr>\n",
       "</tbody>\n",
       "</table>\n"
      ],
      "text/latex": [
       "\\begin{tabular}{r|lll}\n",
       " dataset & description & version\\\\\n",
       "\\hline\n",
       "\t hsapiens\\_annotated\\_feature              & Human Regulatory Evidence (GRCh37.p13)      & GRCh37.p13                                 \\\\\n",
       "\t hsapiens\\_external\\_feature               & Human Other Regulatory Regions (GRCh37.p13) & GRCh37.p13                                 \\\\\n",
       "\t hsapiens\\_mirna\\_target\\_feature         & Human miRNA Target Regions (GRCh37.p13)     & GRCh37.p13                                 \\\\\n",
       "\t hsapiens\\_regulatory\\_feature             & Human Regulatory Features (GRCh37.p13)      & GRCh37.p13                                 \\\\\n",
       "\t hsapiens\\_motif\\_feature                  & Human Binding Motifs (GRCh37.p13)           & GRCh37.p13                                 \\\\\n",
       "\\end{tabular}\n"
      ],
      "text/markdown": [
       "\n",
       "dataset | description | version | \n",
       "|---|---|---|---|---|\n",
       "| hsapiens_annotated_feature                  | Human Regulatory Evidence (GRCh37.p13)      | GRCh37.p13                                  | \n",
       "| hsapiens_external_feature                   | Human Other Regulatory Regions (GRCh37.p13) | GRCh37.p13                                  | \n",
       "| hsapiens_mirna_target_feature               | Human miRNA Target Regions (GRCh37.p13)     | GRCh37.p13                                  | \n",
       "| hsapiens_regulatory_feature                 | Human Regulatory Features (GRCh37.p13)      | GRCh37.p13                                  | \n",
       "| hsapiens_motif_feature                      | Human Binding Motifs (GRCh37.p13)           | GRCh37.p13                                  | \n",
       "\n",
       "\n"
      ],
      "text/plain": [
       "  dataset                       description                                \n",
       "1 hsapiens_annotated_feature    Human Regulatory Evidence (GRCh37.p13)     \n",
       "2 hsapiens_external_feature     Human Other Regulatory Regions (GRCh37.p13)\n",
       "3 hsapiens_mirna_target_feature Human miRNA Target Regions (GRCh37.p13)    \n",
       "4 hsapiens_regulatory_feature   Human Regulatory Features (GRCh37.p13)     \n",
       "5 hsapiens_motif_feature        Human Binding Motifs (GRCh37.p13)          \n",
       "  version   \n",
       "1 GRCh37.p13\n",
       "2 GRCh37.p13\n",
       "3 GRCh37.p13\n",
       "4 GRCh37.p13\n",
       "5 GRCh37.p13"
      ]
     },
     "metadata": {},
     "output_type": "display_data"
    }
   ],
   "source": [
    "ensembl_mart_funcgen <- useMart(\"ENSEMBL_MART_FUNCGEN\", host=\"grch37.ensembl.org\")\n",
    "listDatasets(ensembl_mart_funcgen) %>% filter(str_detect(dataset, \"sapiens\"))"
   ]
  },
  {
   "cell_type": "code",
   "execution_count": 25,
   "metadata": {
    "collapsed": true
   },
   "outputs": [],
   "source": [
    "regulation <- useDataset(dataset=\"hsapiens_regulatory_feature\", mart=ensembl_mart_funcgen)"
   ]
  },
  {
   "cell_type": "markdown",
   "metadata": {},
   "source": [
    "Download the dataframe from Biomart:"
   ]
  },
  {
   "cell_type": "code",
   "execution_count": 26,
   "metadata": {
    "scrolled": false
   },
   "outputs": [],
   "source": [
    "regulatory_features_df <-\n",
    "    getBM(attributes=c(\"chromosome_name\", \"chromosome_start\", \"chromosome_end\", \"feature_type_name\"),\n",
    "          filters=\"chromosome_name\",\n",
    "          values=1:22,\n",
    "          mart=regulation) %>%\n",
    "    setNames(c(\"chrom\", \"start\", \"end\", \"feature\")) %>%  # rename the columns to BED names\n",
    "    filter(feature != \"Open chromatin\") %>% \n",
    "    mutate(feature=str_replace_all(tolower(feature), \" \", \"_\")) %>% \n",
    "    arrange(chrom, start) %>%\n",
    "    mutate(chrom=paste0(\"chr\", chrom))"
   ]
  },
  {
   "cell_type": "code",
   "execution_count": 27,
   "metadata": {},
   "outputs": [
    {
     "data": {
      "text/plain": [
       "\n",
       "       ctcf_binding_site                 enhancer                 promoter \n",
       "                   55194                    27577                    14287 \n",
       "promoter_flanking_region          tf_binding_site \n",
       "                   45496                    22376 "
      ]
     },
     "metadata": {},
     "output_type": "display_data"
    }
   ],
   "source": [
    "table(regulatory_features_df$feature)"
   ]
  },
  {
   "cell_type": "markdown",
   "metadata": {},
   "source": [
    "Split the regulatory features dataframes into a list of multiple dataframes, convert them to `GRanges` objects and merge with the exons `GRanges` object into a single list."
   ]
  },
  {
   "cell_type": "code",
   "execution_count": 28,
   "metadata": {},
   "outputs": [],
   "source": [
    "regions <- c(regions,\n",
    "             lapply(split(regulatory_features_df, regulatory_features_df$feature),\n",
    "                    makeGRangesFromDataFrame))"
   ]
  },
  {
   "cell_type": "code",
   "execution_count": 29,
   "metadata": {},
   "outputs": [
    {
     "data": {
      "text/html": [
       "<ol class=list-inline>\n",
       "\t<li>'exon'</li>\n",
       "\t<li>'ctcf_binding_site'</li>\n",
       "\t<li>'enhancer'</li>\n",
       "\t<li>'promoter'</li>\n",
       "\t<li>'promoter_flanking_region'</li>\n",
       "\t<li>'tf_binding_site'</li>\n",
       "</ol>\n"
      ],
      "text/latex": [
       "\\begin{enumerate*}\n",
       "\\item 'exon'\n",
       "\\item 'ctcf\\_binding\\_site'\n",
       "\\item 'enhancer'\n",
       "\\item 'promoter'\n",
       "\\item 'promoter\\_flanking\\_region'\n",
       "\\item 'tf\\_binding\\_site'\n",
       "\\end{enumerate*}\n"
      ],
      "text/markdown": [
       "1. 'exon'\n",
       "2. 'ctcf_binding_site'\n",
       "3. 'enhancer'\n",
       "4. 'promoter'\n",
       "5. 'promoter_flanking_region'\n",
       "6. 'tf_binding_site'\n",
       "\n",
       "\n"
      ],
      "text/plain": [
       "[1] \"exon\"                     \"ctcf_binding_site\"       \n",
       "[3] \"enhancer\"                 \"promoter\"                \n",
       "[5] \"promoter_flanking_region\" \"tf_binding_site\"         "
      ]
     },
     "metadata": {},
     "output_type": "display_data"
    }
   ],
   "source": [
    "names(regions)"
   ]
  },
  {
   "cell_type": "markdown",
   "metadata": {},
   "source": [
    "## Calculating the density of windows per SNP covered by different classes of regions"
   ]
  },
  {
   "cell_type": "code",
   "execution_count": 30,
   "metadata": {},
   "outputs": [],
   "source": [
    "WINDOW_SIZE <- 100000\n",
    "\n",
    "for (r in names(regions)) {\n",
    "    overlaps_per_chr <- mclapply(paste0(\"chr\", 1:22),\n",
    "                                 function(chr) {\n",
    "                                     calc_window_overlaps(sites[seqnames(sites) == chr],\n",
    "                                                          regions[[r]],\n",
    "                                                          WINDOW_SIZE)\n",
    "                                 }, mc.cores=22)\n",
    "\n",
    "    mcols(sites)[[r]] <- do.call(c, overlaps_per_chr)\n",
    "}"
   ]
  },
  {
   "cell_type": "markdown",
   "metadata": {},
   "source": [
    "## Calculate Neanderthal allele frequency at each locus"
   ]
  },
  {
   "cell_type": "code",
   "execution_count": 31,
   "metadata": {},
   "outputs": [],
   "source": [
    "mcols(sites)[[\"freq\"]] <-\n",
    "    dplyr::select(europeans, -c(chrom, pos, start, end)) %>% # select only the genotype columns\n",
    "    { apply(., 1, mean, na.rm=TRUE) / 2}                     # calculate Nea. allele frequency"
   ]
  },
  {
   "cell_type": "code",
   "execution_count": 32,
   "metadata": {},
   "outputs": [
    {
     "data": {
      "text/plain": [
       "GRanges object with 484016 ranges and 7 metadata columns:\n",
       "           seqnames               ranges strand |      exon ctcf_binding_site\n",
       "              <Rle>            <IRanges>  <Rle> | <numeric>         <numeric>\n",
       "       [1]     chr1     [847983, 847983]      * |   0.09822           0.13582\n",
       "       [2]     chr1     [853089, 853089]      * |    0.1211             0.168\n",
       "       [3]     chr1     [853596, 853596]      * |    0.1211             0.168\n",
       "       [4]     chr1     [854793, 854793]      * |    0.1211           0.16208\n",
       "       [5]     chr1     [867552, 867552]      * |   0.17652           0.23551\n",
       "       ...      ...                  ...    ... .       ...               ...\n",
       "  [484012]    chr22 [51142979, 51142979]      * |   0.09574             0.182\n",
       "  [484013]    chr22 [51145136, 51145136]      * |   0.09574             0.178\n",
       "  [484014]    chr22 [51154908, 51154908]      * |   0.09574              0.17\n",
       "  [484015]    chr22 [51174091, 51174091]      * |   0.14187             0.156\n",
       "  [484016]    chr22 [51177248, 51177248]      * |   0.14187             0.156\n",
       "            enhancer  promoter promoter_flanking_region tf_binding_site\n",
       "           <numeric> <numeric>                <numeric>       <numeric>\n",
       "       [1]         0   0.04408                  0.10117         0.00836\n",
       "       [2]         0    0.0501                  0.10117         0.00836\n",
       "       [3]         0    0.0501                  0.10117         0.00836\n",
       "       [4]         0    0.0501                  0.10117         0.00836\n",
       "       [5]         0    0.0501                  0.13523         0.01122\n",
       "       ...       ...       ...                      ...             ...\n",
       "  [484012]     0.014   0.01202                  0.01992         0.02165\n",
       "  [484013]   0.00465   0.01202                  0.01992         0.02165\n",
       "  [484014]         0   0.02003                  0.01992         0.02165\n",
       "  [484015]         0   0.02203                  0.01992          0.0256\n",
       "  [484016]   0.00402   0.02203                  0.01992          0.0256\n",
       "                         freq\n",
       "                    <numeric>\n",
       "       [1]                  0\n",
       "       [2]                  0\n",
       "       [3]                  0\n",
       "       [4]                  0\n",
       "       [5]                  0\n",
       "       ...                ...\n",
       "  [484012] 0.0581395348837209\n",
       "  [484013] 0.0813953488372093\n",
       "  [484014]                  0\n",
       "  [484015]                  0\n",
       "  [484016]                  0\n",
       "  -------\n",
       "  seqinfo: 93 sequences (1 circular) from hg19 genome"
      ]
     },
     "metadata": {},
     "output_type": "display_data"
    }
   ],
   "source": [
    "sites"
   ]
  },
  {
   "cell_type": "markdown",
   "metadata": {},
   "source": [
    "A couple of sanity checks - do we get an expected average Nea. allele frequency of around 1.8% in Europeans?"
   ]
  },
  {
   "cell_type": "code",
   "execution_count": 33,
   "metadata": {},
   "outputs": [
    {
     "data": {
      "text/plain": [
       "   Min. 1st Qu.  Median    Mean 3rd Qu.    Max.    NA's \n",
       "0.00000 0.00000 0.00000 0.01890 0.01163 1.00000       4 "
      ]
     },
     "metadata": {},
     "output_type": "display_data"
    }
   ],
   "source": [
    "summary(sites$freq)"
   ]
  },
  {
   "cell_type": "code",
   "execution_count": 34,
   "metadata": {},
   "outputs": [
    {
     "name": "stderr",
     "output_type": "stream",
     "text": [
      "Warning message:\n",
      "“Removed 4 rows containing non-finite values (stat_bin).”"
     ]
    },
    {
     "data": {},
     "metadata": {},
     "output_type": "display_data"
    },
    {
     "data": {
      "image/png": "[encoded data removed]",
      "text/plain": [
       "plot without title"
      ]
     },
     "metadata": {},
     "output_type": "display_data"
    }
   ],
   "source": [
    "options(repr.plot.widht=6, repr.plot.height=3)\n",
    "\n",
    "qplot(sites$freq / 2, bins=ncol(europeans) - 4, main=\"Neanderthal AFS in Europeans\")"
   ]
  },
  {
   "cell_type": "markdown",
   "metadata": {},
   "source": [
    "Everything looks reasonable."
   ]
  },
  {
   "cell_type": "markdown",
   "metadata": {},
   "source": [
    "## Convert the final `GRanges` object to normal data frame"
   ]
  },
  {
   "cell_type": "code",
   "execution_count": 36,
   "metadata": {
    "collapsed": true
   },
   "outputs": [],
   "source": [
    "tbl <- as.data.frame(sites) %>%\n",
    "    dplyr::select(-width, -strand, -ends_with(\"bins\")) %>%\n",
    "    dplyr::rename(chrom=seqnames)"
   ]
  },
  {
   "cell_type": "code",
   "execution_count": 37,
   "metadata": {},
   "outputs": [
    {
     "data": {
      "text/html": [
       "<table>\n",
       "<thead><tr><th scope=col>chrom</th><th scope=col>start</th><th scope=col>end</th><th scope=col>exon</th><th scope=col>ctcf_binding_site</th><th scope=col>enhancer</th><th scope=col>promoter</th><th scope=col>promoter_flanking_region</th><th scope=col>tf_binding_site</th><th scope=col>freq</th></tr></thead>\n",
       "<tbody>\n",
       "\t<tr><td>chr1   </td><td>847983 </td><td>847983 </td><td>0.09822</td><td>0.13582</td><td>0      </td><td>0.04408</td><td>0.10117</td><td>0.00836</td><td>0      </td></tr>\n",
       "\t<tr><td>chr1   </td><td>853089 </td><td>853089 </td><td>0.12110</td><td>0.16800</td><td>0      </td><td>0.05010</td><td>0.10117</td><td>0.00836</td><td>0      </td></tr>\n",
       "\t<tr><td>chr1   </td><td>853596 </td><td>853596 </td><td>0.12110</td><td>0.16800</td><td>0      </td><td>0.05010</td><td>0.10117</td><td>0.00836</td><td>0      </td></tr>\n",
       "\t<tr><td>chr1   </td><td>854793 </td><td>854793 </td><td>0.12110</td><td>0.16208</td><td>0      </td><td>0.05010</td><td>0.10117</td><td>0.00836</td><td>0      </td></tr>\n",
       "\t<tr><td>chr1   </td><td>867552 </td><td>867552 </td><td>0.17652</td><td>0.23551</td><td>0      </td><td>0.05010</td><td>0.13523</td><td>0.01122</td><td>0      </td></tr>\n",
       "\t<tr><td>chr1   </td><td>871401 </td><td>871401 </td><td>0.17595</td><td>0.25000</td><td>0      </td><td>0.05010</td><td>0.13523</td><td>0.01532</td><td>0      </td></tr>\n",
       "</tbody>\n",
       "</table>\n"
      ],
      "text/latex": [
       "\\begin{tabular}{r|llllllllll}\n",
       " chrom & start & end & exon & ctcf\\_binding\\_site & enhancer & promoter & promoter\\_flanking\\_region & tf\\_binding\\_site & freq\\\\\n",
       "\\hline\n",
       "\t chr1    & 847983  & 847983  & 0.09822 & 0.13582 & 0       & 0.04408 & 0.10117 & 0.00836 & 0      \\\\\n",
       "\t chr1    & 853089  & 853089  & 0.12110 & 0.16800 & 0       & 0.05010 & 0.10117 & 0.00836 & 0      \\\\\n",
       "\t chr1    & 853596  & 853596  & 0.12110 & 0.16800 & 0       & 0.05010 & 0.10117 & 0.00836 & 0      \\\\\n",
       "\t chr1    & 854793  & 854793  & 0.12110 & 0.16208 & 0       & 0.05010 & 0.10117 & 0.00836 & 0      \\\\\n",
       "\t chr1    & 867552  & 867552  & 0.17652 & 0.23551 & 0       & 0.05010 & 0.13523 & 0.01122 & 0      \\\\\n",
       "\t chr1    & 871401  & 871401  & 0.17595 & 0.25000 & 0       & 0.05010 & 0.13523 & 0.01532 & 0      \\\\\n",
       "\\end{tabular}\n"
      ],
      "text/markdown": [
       "\n",
       "chrom | start | end | exon | ctcf_binding_site | enhancer | promoter | promoter_flanking_region | tf_binding_site | freq | \n",
       "|---|---|---|---|---|---|\n",
       "| chr1    | 847983  | 847983  | 0.09822 | 0.13582 | 0       | 0.04408 | 0.10117 | 0.00836 | 0       | \n",
       "| chr1    | 853089  | 853089  | 0.12110 | 0.16800 | 0       | 0.05010 | 0.10117 | 0.00836 | 0       | \n",
       "| chr1    | 853596  | 853596  | 0.12110 | 0.16800 | 0       | 0.05010 | 0.10117 | 0.00836 | 0       | \n",
       "| chr1    | 854793  | 854793  | 0.12110 | 0.16208 | 0       | 0.05010 | 0.10117 | 0.00836 | 0       | \n",
       "| chr1    | 867552  | 867552  | 0.17652 | 0.23551 | 0       | 0.05010 | 0.13523 | 0.01122 | 0       | \n",
       "| chr1    | 871401  | 871401  | 0.17595 | 0.25000 | 0       | 0.05010 | 0.13523 | 0.01532 | 0       | \n",
       "\n",
       "\n"
      ],
      "text/plain": [
       "  chrom start  end    exon    ctcf_binding_site enhancer promoter\n",
       "1 chr1  847983 847983 0.09822 0.13582           0        0.04408 \n",
       "2 chr1  853089 853089 0.12110 0.16800           0        0.05010 \n",
       "3 chr1  853596 853596 0.12110 0.16800           0        0.05010 \n",
       "4 chr1  854793 854793 0.12110 0.16208           0        0.05010 \n",
       "5 chr1  867552 867552 0.17652 0.23551           0        0.05010 \n",
       "6 chr1  871401 871401 0.17595 0.25000           0        0.05010 \n",
       "  promoter_flanking_region tf_binding_site freq\n",
       "1 0.10117                  0.00836         0   \n",
       "2 0.10117                  0.00836         0   \n",
       "3 0.10117                  0.00836         0   \n",
       "4 0.10117                  0.00836         0   \n",
       "5 0.13523                  0.01122         0   \n",
       "6 0.13523                  0.01532         0   "
      ]
     },
     "metadata": {},
     "output_type": "display_data"
    }
   ],
   "source": [
    "head(tbl)"
   ]
  },
  {
   "cell_type": "code",
   "execution_count": 38,
   "metadata": {
    "collapsed": true
   },
   "outputs": [],
   "source": [
    "save(europeans, regions, sites, tbl,\n",
    "     file=\"../RData/annotations.RData\")"
   ]
  },
  {
   "cell_type": "markdown",
   "metadata": {},
   "source": [
    "## Assign sites to extremes of each distribution"
   ]
  },
  {
   "cell_type": "code",
   "execution_count": 44,
   "metadata": {
    "collapsed": true
   },
   "outputs": [],
   "source": [
    "# Assign each site to either of the two extremes of each distribution.\n",
    "# Sites that fall in the center of the distribution will be NA.\n",
    "distr_extremes <- function(sites, track, lower_q=0.025, upper_q=0.975) {\n",
    "    vals <- mcols(sites)[[track]]\n",
    "\n",
    "    qs <- quantile(vals, probs=c(lower_q, upper_q))\n",
    "\n",
    "    bins <- ifelse(vals <= qs[1], \"low_density\",\n",
    "            ifelse(vals > qs[2], \"high_density\", NA))\n",
    "    \n",
    "    bins\n",
    "}"
   ]
  },
  {
   "cell_type": "code",
   "execution_count": 45,
   "metadata": {},
   "outputs": [],
   "source": [
    "for (r in names(regions)) {\n",
    "    mcols(sites)[[paste(r, \"bins\", sep=\"_\")]] <- distr_extremes(sites, r)\n",
    "}"
   ]
  },
  {
   "cell_type": "markdown",
   "metadata": {},
   "source": [
    "## Modeling the dependence of Nea. frequency on functional predictors"
   ]
  },
  {
   "cell_type": "code",
   "execution_count": 1,
   "metadata": {},
   "outputs": [
    {
     "name": "stderr",
     "output_type": "stream",
     "text": [
      "Loading tidyverse: ggplot2\n",
      "Loading tidyverse: tibble\n",
      "Loading tidyverse: tidyr\n",
      "Loading tidyverse: readr\n",
      "Loading tidyverse: purrr\n",
      "Loading tidyverse: dplyr\n",
      "Conflicts with tidy packages ---------------------------------------------------\n",
      "filter(): dplyr, stats\n",
      "lag():    dplyr, stats\n"
     ]
    }
   ],
   "source": [
    "library(tidyverse)"
   ]
  },
  {
   "cell_type": "code",
   "execution_count": 28,
   "metadata": {
    "collapsed": true
   },
   "outputs": [],
   "source": [
    "load(\"../RData/annotations.RData\")"
   ]
  },
  {
   "cell_type": "code",
   "execution_count": 4,
   "metadata": {},
   "outputs": [
    {
     "data": {
      "text/plain": [
       "\n",
       "Call:\n",
       "lm(formula = freq ~ exon, data = tbl)\n",
       "\n",
       "Residuals:\n",
       "     Min       1Q   Median       3Q      Max \n",
       "-0.01931 -0.01931 -0.01884 -0.00757  0.98146 \n",
       "\n",
       "Coefficients:\n",
       "              Estimate Std. Error t value Pr(>|t|)    \n",
       "(Intercept)  1.931e-02  8.556e-05 225.707   <2e-16 ***\n",
       "exon        -1.328e-02  1.468e-03  -9.047   <2e-16 ***\n",
       "---\n",
       "Signif. codes:  0 ‘***’ 0.001 ‘**’ 0.01 ‘*’ 0.05 ‘.’ 0.1 ‘ ’ 1\n",
       "\n",
       "Residual standard error: 0.05026 on 484010 degrees of freedom\n",
       "  (4 observations deleted due to missingness)\n",
       "Multiple R-squared:  0.0001691,\tAdjusted R-squared:  0.000167 \n",
       "F-statistic: 81.86 on 1 and 484010 DF,  p-value: < 2.2e-16\n"
      ]
     },
     "metadata": {},
     "output_type": "display_data"
    }
   ],
   "source": [
    "summary(res <- lm(freq ~ exon, data=tbl))"
   ]
  },
  {
   "cell_type": "code",
   "execution_count": 93,
   "metadata": {},
   "outputs": [
    {
     "data": {
      "image/png": "[encoded data removed]",
      "text/plain": [
       "Plot with title “Histogram of residuals(res)”"
      ]
     },
     "metadata": {},
     "output_type": "display_data"
    }
   ],
   "source": [
    "hist(residuals(res), probability=TRUE)"
   ]
  },
  {
   "cell_type": "code",
   "execution_count": 6,
   "metadata": {},
   "outputs": [
    {
     "data": {
      "image/png": "[encoded data removed]",
      "text/plain": [
       "Plot with title “Normal Q-Q Plot”"
      ]
     },
     "metadata": {},
     "output_type": "display_data"
    }
   ],
   "source": [
    "qqnorm(sample(residuals(res), 1000))"
   ]
  },
  {
   "cell_type": "code",
   "execution_count": null,
   "metadata": {
    "collapsed": true
   },
   "outputs": [],
   "source": []
  },
  {
   "cell_type": "code",
   "execution_count": null,
   "metadata": {
    "collapsed": true
   },
   "outputs": [],
   "source": []
  },
  {
   "cell_type": "code",
   "execution_count": null,
   "metadata": {
    "collapsed": true
   },
   "outputs": [],
   "source": []
  },
  {
   "cell_type": "code",
   "execution_count": null,
   "metadata": {
    "collapsed": true
   },
   "outputs": [],
   "source": []
  },
  {
   "cell_type": "markdown",
   "metadata": {},
   "source": [
    "## Nea. allele frequency in different regions of the genome"
   ]
  },
  {
   "cell_type": "code",
   "execution_count": 17,
   "metadata": {},
   "outputs": [],
   "source": [
    "freq_region <-\n",
    "    mcols(sites) %>%\n",
    "    as.data.frame %>%\n",
    "    as_tibble %>%\n",
    "    sample_frac(size=0.05) %>% \n",
    "    gather(region, overlap, -freq)"
   ]
  },
  {
   "cell_type": "code",
   "execution_count": 18,
   "metadata": {},
   "outputs": [
    {
     "data": {
      "text/html": [
       "<table>\n",
       "<thead><tr><th scope=col>freq</th><th scope=col>region</th><th scope=col>overlap</th></tr></thead>\n",
       "<tbody>\n",
       "\t<tr><td>0.01162791</td><td>exon      </td><td>0.00000   </td></tr>\n",
       "\t<tr><td>0.01162791</td><td>exon      </td><td>0.00976   </td></tr>\n",
       "\t<tr><td>0.06976744</td><td>exon      </td><td>0.00000   </td></tr>\n",
       "\t<tr><td>0.00000000</td><td>exon      </td><td>0.04895   </td></tr>\n",
       "\t<tr><td>0.03488372</td><td>exon      </td><td>0.00000   </td></tr>\n",
       "\t<tr><td>0.00000000</td><td>exon      </td><td>0.09298   </td></tr>\n",
       "</tbody>\n",
       "</table>\n"
      ],
      "text/latex": [
       "\\begin{tabular}{r|lll}\n",
       " freq & region & overlap\\\\\n",
       "\\hline\n",
       "\t 0.01162791 & exon       & 0.00000   \\\\\n",
       "\t 0.01162791 & exon       & 0.00976   \\\\\n",
       "\t 0.06976744 & exon       & 0.00000   \\\\\n",
       "\t 0.00000000 & exon       & 0.04895   \\\\\n",
       "\t 0.03488372 & exon       & 0.00000   \\\\\n",
       "\t 0.00000000 & exon       & 0.09298   \\\\\n",
       "\\end{tabular}\n"
      ],
      "text/markdown": [
       "\n",
       "freq | region | overlap | \n",
       "|---|---|---|---|---|---|\n",
       "| 0.01162791 | exon       | 0.00000    | \n",
       "| 0.01162791 | exon       | 0.00976    | \n",
       "| 0.06976744 | exon       | 0.00000    | \n",
       "| 0.00000000 | exon       | 0.04895    | \n",
       "| 0.03488372 | exon       | 0.00000    | \n",
       "| 0.00000000 | exon       | 0.09298    | \n",
       "\n",
       "\n"
      ],
      "text/plain": [
       "  freq       region overlap\n",
       "1 0.01162791 exon   0.00000\n",
       "2 0.01162791 exon   0.00976\n",
       "3 0.06976744 exon   0.00000\n",
       "4 0.00000000 exon   0.04895\n",
       "5 0.03488372 exon   0.00000\n",
       "6 0.00000000 exon   0.09298"
      ]
     },
     "metadata": {},
     "output_type": "display_data"
    }
   ],
   "source": [
    "head(freq_region)"
   ]
  },
  {
   "cell_type": "code",
   "execution_count": 75,
   "metadata": {},
   "outputs": [
    {
     "data": {},
     "metadata": {},
     "output_type": "display_data"
    },
    {
     "data": {
      "image/png": "[encoded data removed]",
      "text/plain": [
       "plot without title"
      ]
     },
     "metadata": {},
     "output_type": "display_data"
    }
   ],
   "source": [
    "options(repr.plot.width=5, repr.plot.height=5)\n",
    "\n",
    "ggplot(sample_n(freq_region, 1000), aes(overlap, freq, color=region)) +\n",
    "    geom_point() +\n",
    "    theme(legend.position=\"bottom\")"
   ]
  },
  {
   "cell_type": "code",
   "execution_count": null,
   "metadata": {
    "collapsed": true
   },
   "outputs": [],
   "source": []
  },
  {
   "cell_type": "code",
   "execution_count": null,
   "metadata": {
    "collapsed": true
   },
   "outputs": [],
   "source": []
  },
  {
   "cell_type": "code",
   "execution_count": null,
   "metadata": {
    "collapsed": true
   },
   "outputs": [],
   "source": []
  },
  {
   "cell_type": "markdown",
   "metadata": {},
   "source": [
    "## Conservation tracks"
   ]
  },
  {
   "cell_type": "markdown",
   "metadata": {},
   "source": [
    "How to retrieve them: https://support.bioconductor.org/p/25587/\n",
    "Per-base vs elements: https://www.biostars.org/p/2129/#2143"
   ]
  },
  {
   "cell_type": "code",
   "execution_count": 32,
   "metadata": {
    "collapsed": true
   },
   "outputs": [],
   "source": [
    "library(rtracklayer)"
   ]
  },
  {
   "cell_type": "code",
   "execution_count": 37,
   "metadata": {
    "collapsed": true
   },
   "outputs": [],
   "source": [
    "session <- browserSession()\n",
    "genome(session) <- \"hg19\""
   ]
  },
  {
   "cell_type": "markdown",
   "metadata": {},
   "source": [
    "there is \"neandertalMethylation\" in here - ha!"
   ]
  },
  {
   "cell_type": "code",
   "execution_count": 38,
   "metadata": {},
   "outputs": [
    {
     "data": {
      "text/html": [
       "<dl class=dl-horizontal>\n",
       "\t<dt>Base Position</dt>\n",
       "\t\t<dd>'ruler'</dd>\n",
       "\t<dt>Alt Haplotypes</dt>\n",
       "\t\t<dd>'altLocations'</dd>\n",
       "\t<dt>Assembly</dt>\n",
       "\t\t<dd>'gold'</dd>\n",
       "\t<dt>BAC End Pairs</dt>\n",
       "\t\t<dd>'bacEndPairs'</dd>\n",
       "\t<dt>BU ORChID</dt>\n",
       "\t\t<dd>'wgEncodeBuOrchid'</dd>\n",
       "\t<dt>Chromosome Band</dt>\n",
       "\t\t<dd>'cytoBand'</dd>\n",
       "\t<dt>deCODE Recomb</dt>\n",
       "\t\t<dd>'decodeRmap'</dd>\n",
       "\t<dt>ENCODE Pilot</dt>\n",
       "\t\t<dd>'encodeRegions'</dd>\n",
       "\t<dt>FISH Clones</dt>\n",
       "\t\t<dd>'fishClones'</dd>\n",
       "\t<dt>Fosmid End Pairs</dt>\n",
       "\t\t<dd>'fosEndPairs'</dd>\n",
       "\t<dt>Gap</dt>\n",
       "\t\t<dd>'gap'</dd>\n",
       "\t<dt>GC Percent</dt>\n",
       "\t\t<dd>'gc5Base'</dd>\n",
       "\t<dt>GRC Incident</dt>\n",
       "\t\t<dd>'grcIncidentDb'</dd>\n",
       "\t<dt>GRC Map Contigs</dt>\n",
       "\t\t<dd>'ctgPos2'</dd>\n",
       "\t<dt>GRC Patch Release</dt>\n",
       "\t\t<dd>'altSeqComposite10'</dd>\n",
       "\t<dt>Hg18 Diff</dt>\n",
       "\t\t<dd>'hg19ContigDiff'</dd>\n",
       "\t<dt>Hg38 Diff</dt>\n",
       "\t\t<dd>'hg38ContigDiff'</dd>\n",
       "\t<dt>Hi Seq Depth</dt>\n",
       "\t\t<dd>'hiSeqDepth'</dd>\n",
       "\t<dt>INSDC</dt>\n",
       "\t\t<dd>'ucscToINSDC'</dd>\n",
       "\t<dt>LRG Regions</dt>\n",
       "\t\t<dd>'lrg'</dd>\n",
       "\t<dt>Map Contigs</dt>\n",
       "\t\t<dd>'ctgPos'</dd>\n",
       "\t<dt>Mappability</dt>\n",
       "\t\t<dd>'wgEncodeMapability'</dd>\n",
       "\t<dt>Recomb Rate</dt>\n",
       "\t\t<dd>'recombRate'</dd>\n",
       "\t<dt>Restr Enzymes</dt>\n",
       "\t\t<dd>'cutters'</dd>\n",
       "\t<dt>Short Match</dt>\n",
       "\t\t<dd>'oligoMatch'</dd>\n",
       "\t<dt>STS Markers</dt>\n",
       "\t\t<dd>'stsMap'</dd>\n",
       "\t<dt>UCSC Genes</dt>\n",
       "\t\t<dd>'knownGene'</dd>\n",
       "\t<dt>RefSeq Genes</dt>\n",
       "\t\t<dd>'refGene'</dd>\n",
       "\t<dt>AceView Genes</dt>\n",
       "\t\t<dd>'acembly'</dd>\n",
       "\t<dt>AUGUSTUS</dt>\n",
       "\t\t<dd>'augustusGene'</dd>\n",
       "\t<dt>CCDS</dt>\n",
       "\t\t<dd>'ccdsGene'</dd>\n",
       "\t<dt>CRISPR...</dt>\n",
       "\t\t<dd>'crispr'</dd>\n",
       "\t<dt>Ensembl Genes</dt>\n",
       "\t\t<dd>'ensGene'</dd>\n",
       "\t<dt>EvoFold</dt>\n",
       "\t\t<dd>'evofold'</dd>\n",
       "\t<dt>Exoniphy</dt>\n",
       "\t\t<dd>'exoniphy'</dd>\n",
       "\t<dt>GENCODE...</dt>\n",
       "\t\t<dd>'wgEncodeGencodeSuper'</dd>\n",
       "\t<dt>Geneid Genes</dt>\n",
       "\t\t<dd>'geneid'</dd>\n",
       "\t<dt>Genscan Genes</dt>\n",
       "\t\t<dd>'genscan'</dd>\n",
       "\t<dt>H-Inv 7.0</dt>\n",
       "\t\t<dd>'hinv70Composite'</dd>\n",
       "\t<dt>IKMC Genes Mapped</dt>\n",
       "\t\t<dd>'hgIkmc'</dd>\n",
       "\t<dt>lincRNAs...</dt>\n",
       "\t\t<dd>'lincRNAs'</dd>\n",
       "\t<dt>LRG Transcripts</dt>\n",
       "\t\t<dd>'lrgTranscriptAli'</dd>\n",
       "\t<dt>MGC Genes</dt>\n",
       "\t\t<dd>'mgcFullMrna'</dd>\n",
       "\t<dt>N-SCAN</dt>\n",
       "\t\t<dd>'nscanGene'</dd>\n",
       "\t<dt>Old UCSC Genes</dt>\n",
       "\t\t<dd>'knownGeneOld6'</dd>\n",
       "\t<dt>ORFeome Clones</dt>\n",
       "\t\t<dd>'orfeomeMrna'</dd>\n",
       "\t<dt>Other RefSeq</dt>\n",
       "\t\t<dd>'xenoRefGene'</dd>\n",
       "\t<dt>Pfam in UCSC Gene</dt>\n",
       "\t\t<dd>'ucscGenePfam'</dd>\n",
       "\t<dt>Retroposed Genes</dt>\n",
       "\t\t<dd>'ucscRetroAli5'</dd>\n",
       "\t<dt>SGP Genes</dt>\n",
       "\t\t<dd>'sgpGene'</dd>\n",
       "\t<dt>SIB Genes</dt>\n",
       "\t\t<dd>'sibGene'</dd>\n",
       "\t<dt>sno/miRNA</dt>\n",
       "\t\t<dd>'wgRna'</dd>\n",
       "\t<dt>TransMap...</dt>\n",
       "\t\t<dd>'transMapV4'</dd>\n",
       "\t<dt>tRNA Genes</dt>\n",
       "\t\t<dd>'tRNAs'</dd>\n",
       "\t<dt>UCSC Alt Events</dt>\n",
       "\t\t<dd>'knownAlt'</dd>\n",
       "\t<dt>UniProt</dt>\n",
       "\t\t<dd>'spUniprot'</dd>\n",
       "\t<dt>Vega Genes</dt>\n",
       "\t\t<dd>'vegaGeneComposite'</dd>\n",
       "\t<dt>Yale Pseudo60</dt>\n",
       "\t\t<dd>'pseudoYale60'</dd>\n",
       "\t<dt>Publications</dt>\n",
       "\t\t<dd>'pubs'</dd>\n",
       "\t<dt>ClinGen CNVs</dt>\n",
       "\t\t<dd>'iscaComposite'</dd>\n",
       "\t<dt>ClinVar Variants</dt>\n",
       "\t\t<dd>'clinvar'</dd>\n",
       "\t<dt>Coriell CNVs</dt>\n",
       "\t\t<dd>'coriellDelDup'</dd>\n",
       "\t<dt>COSMIC</dt>\n",
       "\t\t<dd>'cosmic'</dd>\n",
       "\t<dt>DECIPHER</dt>\n",
       "\t\t<dd>'decipher'</dd>\n",
       "\t<dt>Development Delay</dt>\n",
       "\t\t<dd>'cnvDevDelay'</dd>\n",
       "\t<dt>GAD View</dt>\n",
       "\t\t<dd>'gad'</dd>\n",
       "\t<dt>Gene Interactions</dt>\n",
       "\t\t<dd>'interactions'</dd>\n",
       "\t<dt>GeneReviews</dt>\n",
       "\t\t<dd>'geneReviews'</dd>\n",
       "\t<dt>GWAS Catalog</dt>\n",
       "\t\t<dd>'gwasCatalog'</dd>\n",
       "\t<dt>HGMD Variants</dt>\n",
       "\t\t<dd>'hgmd'</dd>\n",
       "\t<dt>Lens Patents</dt>\n",
       "\t\t<dd>'patSeq'</dd>\n",
       "\t<dt>LOVD Variants</dt>\n",
       "\t\t<dd>'lovd'</dd>\n",
       "\t<dt>MGI Mouse QTL</dt>\n",
       "\t\t<dd>'jaxQtlMapped'</dd>\n",
       "\t<dt>OMIM Alleles</dt>\n",
       "\t\t<dd>'omimAvSnp'</dd>\n",
       "\t<dt>OMIM Genes</dt>\n",
       "\t\t<dd>'omimGene2'</dd>\n",
       "\t<dt>OMIM Pheno Loci</dt>\n",
       "\t\t<dd>'omimLocation'</dd>\n",
       "\t<dt>RGD Human QTL</dt>\n",
       "\t\t<dd>'rgdQtl'</dd>\n",
       "\t<dt>RGD Rat QTL</dt>\n",
       "\t\t<dd>'rgdRatQtl'</dd>\n",
       "\t<dt>UniProt Variants</dt>\n",
       "\t\t<dd>'spMut'</dd>\n",
       "\t<dt>Web Sequences</dt>\n",
       "\t\t<dd>'pubsBingBlat'</dd>\n",
       "\t<dt>CGAP SAGE</dt>\n",
       "\t\t<dd>'cgapSage'</dd>\n",
       "\t<dt>Gene Bounds</dt>\n",
       "\t\t<dd>'rnaCluster'</dd>\n",
       "\t<dt>H-Inv</dt>\n",
       "\t\t<dd>'HInvGeneMrna'</dd>\n",
       "\t<dt>Human ESTs</dt>\n",
       "\t\t<dd>'est'</dd>\n",
       "\t<dt>Human mRNAs</dt>\n",
       "\t\t<dd>'mrna'</dd>\n",
       "\t<dt>Human RNA Editing</dt>\n",
       "\t\t<dd>'darned'</dd>\n",
       "\t<dt>Other ESTs</dt>\n",
       "\t\t<dd>'xenoEst'</dd>\n",
       "\t<dt>Other mRNAs</dt>\n",
       "\t\t<dd>'xenoMrna'</dd>\n",
       "\t<dt>Poly(A)</dt>\n",
       "\t\t<dd>'polyA'</dd>\n",
       "\t<dt>PolyA-Seq</dt>\n",
       "\t\t<dd>'polyASeqSites'</dd>\n",
       "\t<dt>SIB Alt-Splicing</dt>\n",
       "\t\t<dd>'sibTxGraph'</dd>\n",
       "\t<dt>Spliced ESTs</dt>\n",
       "\t\t<dd>'intronEst'</dd>\n",
       "\t<dt>UniGene</dt>\n",
       "\t\t<dd>'uniGene_3'</dd>\n",
       "\t<dt>GTEx</dt>\n",
       "\t\t<dd>'gtexGene'</dd>\n",
       "\t<dt>Affy Exon Array</dt>\n",
       "\t\t<dd>'affyExonArray'</dd>\n",
       "\t<dt>Affy GNF1H</dt>\n",
       "\t\t<dd>'affyGnf1h'</dd>\n",
       "\t<dt>Affy RNA Loc</dt>\n",
       "\t\t<dd>'wgEncodeAffyRnaChip'</dd>\n",
       "\t<dt>Affy U95</dt>\n",
       "\t\t<dd>'affyU95'</dd>\n",
       "\t<dt>Affy U133</dt>\n",
       "\t\t<dd>'affyU133'</dd>\n",
       "\t<dt>Affy U133Plus2</dt>\n",
       "\t\t<dd>'affyU133Plus2'</dd>\n",
       "\t<dt>Allen Brain</dt>\n",
       "\t\t<dd>'allenBrainAli'</dd>\n",
       "\t<dt>Burge RNA-seq</dt>\n",
       "\t\t<dd>'burgeRnaSeqGemMapperAlign'</dd>\n",
       "\t<dt>CSHL Small RNA-seq</dt>\n",
       "\t\t<dd>'wgEncodeCshlShortRnaSeq'</dd>\n",
       "\t<dt>ENC Exon Array...</dt>\n",
       "\t\t<dd>'wgEncodeExonArraySuper'</dd>\n",
       "\t<dt>ENC ProtGeno...</dt>\n",
       "\t\t<dd>'wgEncodeProtGenoSuper'</dd>\n",
       "\t<dt>ENC RNA-seq...</dt>\n",
       "\t\t<dd>'wgEncodeRnaSeqSuper'</dd>\n",
       "\t<dt>GIS RNA PET</dt>\n",
       "\t\t<dd>'wgEncodeGisRnaPet'</dd>\n",
       "\t<dt>GNF Atlas 2</dt>\n",
       "\t\t<dd>'gnfAtlas2'</dd>\n",
       "\t<dt>GWIPS-viz Riboseq</dt>\n",
       "\t\t<dd>'gwipsvizRiboseq'</dd>\n",
       "\t<dt>Illumina WG-6</dt>\n",
       "\t\t<dd>'illuminaProbes'</dd>\n",
       "\t<dt>PeptideAtlas</dt>\n",
       "\t\t<dd>'peptideAtlas2014'</dd>\n",
       "\t<dt>qPCR Primers</dt>\n",
       "\t\t<dd>'qPcrPrimers'</dd>\n",
       "\t<dt>RIKEN CAGE Loc</dt>\n",
       "\t\t<dd>'wgEncodeRikenCage'</dd>\n",
       "\t<dt>Sestan Brain</dt>\n",
       "\t\t<dd>'sestanBrainAtlas'</dd>\n",
       "\t<dt>ENCODE Regulation...</dt>\n",
       "\t\t<dd>'wgEncodeReg'</dd>\n",
       "\t<dt>CD34 DnaseI</dt>\n",
       "\t\t<dd>'eioJcviNAS'</dd>\n",
       "\t<dt>CpG Islands...</dt>\n",
       "\t\t<dd>'cpgIslandSuper'</dd>\n",
       "\t<dt>ENC Chromatin...</dt>\n",
       "\t\t<dd>'wgEncodeChromSuper'</dd>\n",
       "\t<dt>ENC DNA Methyl...</dt>\n",
       "\t\t<dd>'wgEncodeDnaMethylSuper'</dd>\n",
       "\t<dt>ENC DNase/FAIRE...</dt>\n",
       "\t\t<dd>'wgEncodeDNAseSuper'</dd>\n",
       "\t<dt>ENC Histone...</dt>\n",
       "\t\t<dd>'wgEncodeHistoneSuper'</dd>\n",
       "\t<dt>ENC RNA Binding...</dt>\n",
       "\t\t<dd>'wgEncodeRbpSuper'</dd>\n",
       "\t<dt>ENC TF Binding...</dt>\n",
       "\t\t<dd>'wgEncodeTfBindingSuper'</dd>\n",
       "\t<dt>FSU Repli-chip</dt>\n",
       "\t\t<dd>'wgEncodeFsuRepliChip'</dd>\n",
       "\t<dt>Genome Segments</dt>\n",
       "\t\t<dd>'wgEncodeAwgSegmentation'</dd>\n",
       "\t<dt>NKI Nuc Lamina...</dt>\n",
       "\t\t<dd>'laminB1Super'</dd>\n",
       "\t<dt>ORegAnno</dt>\n",
       "\t\t<dd>'oreganno'</dd>\n",
       "\t<dt>Stanf Nucleosome</dt>\n",
       "\t\t<dd>'wgEncodeSydhNsome'</dd>\n",
       "\t<dt>SUNY SwitchGear</dt>\n",
       "\t\t<dd>'wgEncodeSunySwitchgear'</dd>\n",
       "\t<dt>SwitchGear TSS</dt>\n",
       "\t\t<dd>'switchDbTss'</dd>\n",
       "\t<dt>TFBS Conserved</dt>\n",
       "\t\t<dd>'tfbsConsSites'</dd>\n",
       "\t<dt>TS miRNA sites</dt>\n",
       "\t\t<dd>'targetScanS'</dd>\n",
       "\t<dt>UCSF Brain Methyl</dt>\n",
       "\t\t<dd>'ucsfBrainMethyl'</dd>\n",
       "\t<dt>UMMS Brain Hist</dt>\n",
       "\t\t<dd>'uMassBrainHistone'</dd>\n",
       "\t<dt>UW Repli-seq</dt>\n",
       "\t\t<dd>'wgEncodeUwRepliSeq'</dd>\n",
       "\t<dt>Vista Enhancers</dt>\n",
       "\t\t<dd>'vistaEnhancers'</dd>\n",
       "\t<dt>Conservation</dt>\n",
       "\t\t<dd>'cons100way'</dd>\n",
       "\t<dt>Cons 46-Way</dt>\n",
       "\t\t<dd>'cons46way'</dd>\n",
       "\t<dt>Cons Indels MmCf</dt>\n",
       "\t\t<dd>'consIndelsHgMmCanFam'</dd>\n",
       "\t<dt>Evo Cpg</dt>\n",
       "\t\t<dd>'evoCpg'</dd>\n",
       "\t<dt>GERP</dt>\n",
       "\t\t<dd>'allHg19RS_BW'</dd>\n",
       "\t<dt>phastBias gBGC</dt>\n",
       "\t\t<dd>'phastBias'</dd>\n",
       "\t<dt>Primate Chain/Net</dt>\n",
       "\t\t<dd>'primateChainNet'</dd>\n",
       "\t<dt>Placental Chain/Net</dt>\n",
       "\t\t<dd>'placentalChainNet'</dd>\n",
       "\t<dt>Vertebrate Chain/Net</dt>\n",
       "\t\t<dd>'vertebrateChainNet'</dd>\n",
       "\t<dt>5% Lowest S</dt>\n",
       "\t\t<dd>'ntSssTop5p'</dd>\n",
       "\t<dt>H-C Coding Diffs</dt>\n",
       "\t\t<dd>'ntHumChimpCodingDiff'</dd>\n",
       "\t<dt>Neandertal Methyl</dt>\n",
       "\t\t<dd>'neandertalMethylation'</dd>\n",
       "\t<dt>Neandertal Seq</dt>\n",
       "\t\t<dd>'ntSeqReads'</dd>\n",
       "\t<dt>S SNPs</dt>\n",
       "\t\t<dd>'ntSssSnps'</dd>\n",
       "\t<dt>Sel Swp Scan (S)</dt>\n",
       "\t\t<dd>'ntSssZScorePMVar'</dd>\n",
       "\t<dt>Denisova Methyl</dt>\n",
       "\t\t<dd>'denisovaMethylation'</dd>\n",
       "\t<dt>Denisova Seq</dt>\n",
       "\t\t<dd>'dhcBamDenisova'</dd>\n",
       "\t<dt>Denisova Variants</dt>\n",
       "\t\t<dd>'dhcVcfDenisovaPinky'</dd>\n",
       "\t<dt>Mod Hum Variants</dt>\n",
       "\t\t<dd>'dhcVcfModern'</dd>\n",
       "\t<dt>Modern Derived</dt>\n",
       "\t\t<dd>'dhcHumDerDenAnc'</dd>\n",
       "\t<dt>Common SNPs(147)</dt>\n",
       "\t\t<dd>'snp147Common'</dd>\n",
       "\t<dt>DGV Struct Var</dt>\n",
       "\t\t<dd>'dgvPlus'</dd>\n",
       "\t<dt>1000G Ph1 Accsbl</dt>\n",
       "\t\t<dd>'tgpPhase1Accessibility'</dd>\n",
       "\t<dt>1000G Ph1 Vars</dt>\n",
       "\t\t<dd>'tgpPhase1'</dd>\n",
       "\t<dt>1000G Ph3 Accsbl</dt>\n",
       "\t\t<dd>'tgpPhase3Accessibility'</dd>\n",
       "\t<dt>1000G Ph3 Vars</dt>\n",
       "\t\t<dd>'tgpPhase3'</dd>\n",
       "\t<dt>All SNPs(147)</dt>\n",
       "\t\t<dd>'snp147'</dd>\n",
       "\t<dt>All SNPs(146)</dt>\n",
       "\t\t<dd>'snp146'</dd>\n",
       "\t<dt>All SNPs(144)</dt>\n",
       "\t\t<dd>'snp144'</dd>\n",
       "\t<dt>All SNPs(142)</dt>\n",
       "\t\t<dd>'snp142'</dd>\n",
       "\t<dt>All SNPs(141)</dt>\n",
       "\t\t<dd>'snp141'</dd>\n",
       "\t<dt>All SNPs(138)</dt>\n",
       "\t\t<dd>'snp138'</dd>\n",
       "\t<dt>Common SNPs(146)</dt>\n",
       "\t\t<dd>'snp146Common'</dd>\n",
       "\t<dt>Common SNPs(144)</dt>\n",
       "\t\t<dd>'snp144Common'</dd>\n",
       "\t<dt>Common SNPs(142)</dt>\n",
       "\t\t<dd>'snp142Common'</dd>\n",
       "\t<dt>Common SNPs(141)</dt>\n",
       "\t\t<dd>'snp141Common'</dd>\n",
       "\t<dt>Common SNPs(138)</dt>\n",
       "\t\t<dd>'snp138Common'</dd>\n",
       "\t<dt>EVS Variants</dt>\n",
       "\t\t<dd>'evsEsp6500'</dd>\n",
       "\t<dt>ExAC</dt>\n",
       "\t\t<dd>'exac'</dd>\n",
       "\t<dt>Flagged SNPs(147)</dt>\n",
       "\t\t<dd>'snp147Flagged'</dd>\n",
       "\t<dt>Flagged SNPs(146)</dt>\n",
       "\t\t<dd>'snp146Flagged'</dd>\n",
       "\t<dt>Flagged SNPs(144)</dt>\n",
       "\t\t<dd>'snp144Flagged'</dd>\n",
       "\t<dt>Flagged SNPs(142)</dt>\n",
       "\t\t<dd>'snp142Flagged'</dd>\n",
       "\t<dt>Flagged SNPs(141)</dt>\n",
       "\t\t<dd>'snp141Flagged'</dd>\n",
       "\t<dt>Flagged SNPs(138)</dt>\n",
       "\t\t<dd>'snp138Flagged'</dd>\n",
       "\t<dt>Genome Variants</dt>\n",
       "\t\t<dd>'pgSnp'</dd>\n",
       "\t<dt>GIS DNA PET</dt>\n",
       "\t\t<dd>'wgEncodeGisDnaPet'</dd>\n",
       "\t<dt>HAIB Genotype</dt>\n",
       "\t\t<dd>'wgEncodeHaibGenotype'</dd>\n",
       "\t<dt>HapMap SNPs</dt>\n",
       "\t\t<dd>'hapmapSnps'</dd>\n",
       "\t<dt>HGDP Allele Freq</dt>\n",
       "\t\t<dd>'hgdpGeo'</dd>\n",
       "\t<dt>Mult. SNPs(147)</dt>\n",
       "\t\t<dd>'snp147Mult'</dd>\n",
       "\t<dt>Mult. SNPs(146)</dt>\n",
       "\t\t<dd>'snp146Mult'</dd>\n",
       "\t<dt>Mult. SNPs(144)</dt>\n",
       "\t\t<dd>'snp144Mult'</dd>\n",
       "\t<dt>Mult. SNPs(142)</dt>\n",
       "\t\t<dd>'snp142Mult'</dd>\n",
       "\t<dt>Mult. SNPs(138)</dt>\n",
       "\t\t<dd>'snp138Mult'</dd>\n",
       "\t<dt>SNP/CNV Arrays</dt>\n",
       "\t\t<dd>'genotypeArrays'</dd>\n",
       "\t<dt>RepeatMasker</dt>\n",
       "\t\t<dd>'rmsk'</dd>\n",
       "\t<dt>Interrupted Rpts</dt>\n",
       "\t\t<dd>'nestedRepeats'</dd>\n",
       "\t<dt>Microsatellite</dt>\n",
       "\t\t<dd>'microsat'</dd>\n",
       "\t<dt>NumtS Sequence</dt>\n",
       "\t\t<dd>'numtSeq'</dd>\n",
       "\t<dt>Segmental Dups</dt>\n",
       "\t\t<dd>'genomicSuperDups'</dd>\n",
       "\t<dt>Self Chain</dt>\n",
       "\t\t<dd>'chainSelf'</dd>\n",
       "\t<dt>Simple Repeats</dt>\n",
       "\t\t<dd>'simpleRepeat'</dd>\n",
       "</dl>\n"
      ],
      "text/latex": [
       "\\begin{description*}\n",
       "\\item[Base Position] 'ruler'\n",
       "\\item[Alt Haplotypes] 'altLocations'\n",
       "\\item[Assembly] 'gold'\n",
       "\\item[BAC End Pairs] 'bacEndPairs'\n",
       "\\item[BU ORChID] 'wgEncodeBuOrchid'\n",
       "\\item[Chromosome Band] 'cytoBand'\n",
       "\\item[deCODE Recomb] 'decodeRmap'\n",
       "\\item[ENCODE Pilot] 'encodeRegions'\n",
       "\\item[FISH Clones] 'fishClones'\n",
       "\\item[Fosmid End Pairs] 'fosEndPairs'\n",
       "\\item[Gap] 'gap'\n",
       "\\item[GC Percent] 'gc5Base'\n",
       "\\item[GRC Incident] 'grcIncidentDb'\n",
       "\\item[GRC Map Contigs] 'ctgPos2'\n",
       "\\item[GRC Patch Release] 'altSeqComposite10'\n",
       "\\item[Hg18 Diff] 'hg19ContigDiff'\n",
       "\\item[Hg38 Diff] 'hg38ContigDiff'\n",
       "\\item[Hi Seq Depth] 'hiSeqDepth'\n",
       "\\item[INSDC] 'ucscToINSDC'\n",
       "\\item[LRG Regions] 'lrg'\n",
       "\\item[Map Contigs] 'ctgPos'\n",
       "\\item[Mappability] 'wgEncodeMapability'\n",
       "\\item[Recomb Rate] 'recombRate'\n",
       "\\item[Restr Enzymes] 'cutters'\n",
       "\\item[Short Match] 'oligoMatch'\n",
       "\\item[STS Markers] 'stsMap'\n",
       "\\item[UCSC Genes] 'knownGene'\n",
       "\\item[RefSeq Genes] 'refGene'\n",
       "\\item[AceView Genes] 'acembly'\n",
       "\\item[AUGUSTUS] 'augustusGene'\n",
       "\\item[CCDS] 'ccdsGene'\n",
       "\\item[CRISPR...] 'crispr'\n",
       "\\item[Ensembl Genes] 'ensGene'\n",
       "\\item[EvoFold] 'evofold'\n",
       "\\item[Exoniphy] 'exoniphy'\n",
       "\\item[GENCODE...] 'wgEncodeGencodeSuper'\n",
       "\\item[Geneid Genes] 'geneid'\n",
       "\\item[Genscan Genes] 'genscan'\n",
       "\\item[H-Inv 7.0] 'hinv70Composite'\n",
       "\\item[IKMC Genes Mapped] 'hgIkmc'\n",
       "\\item[lincRNAs...] 'lincRNAs'\n",
       "\\item[LRG Transcripts] 'lrgTranscriptAli'\n",
       "\\item[MGC Genes] 'mgcFullMrna'\n",
       "\\item[N-SCAN] 'nscanGene'\n",
       "\\item[Old UCSC Genes] 'knownGeneOld6'\n",
       "\\item[ORFeome Clones] 'orfeomeMrna'\n",
       "\\item[Other RefSeq] 'xenoRefGene'\n",
       "\\item[Pfam in UCSC Gene] 'ucscGenePfam'\n",
       "\\item[Retroposed Genes] 'ucscRetroAli5'\n",
       "\\item[SGP Genes] 'sgpGene'\n",
       "\\item[SIB Genes] 'sibGene'\n",
       "\\item[sno/miRNA] 'wgRna'\n",
       "\\item[TransMap...] 'transMapV4'\n",
       "\\item[tRNA Genes] 'tRNAs'\n",
       "\\item[UCSC Alt Events] 'knownAlt'\n",
       "\\item[UniProt] 'spUniprot'\n",
       "\\item[Vega Genes] 'vegaGeneComposite'\n",
       "\\item[Yale Pseudo60] 'pseudoYale60'\n",
       "\\item[Publications] 'pubs'\n",
       "\\item[ClinGen CNVs] 'iscaComposite'\n",
       "\\item[ClinVar Variants] 'clinvar'\n",
       "\\item[Coriell CNVs] 'coriellDelDup'\n",
       "\\item[COSMIC] 'cosmic'\n",
       "\\item[DECIPHER] 'decipher'\n",
       "\\item[Development Delay] 'cnvDevDelay'\n",
       "\\item[GAD View] 'gad'\n",
       "\\item[Gene Interactions] 'interactions'\n",
       "\\item[GeneReviews] 'geneReviews'\n",
       "\\item[GWAS Catalog] 'gwasCatalog'\n",
       "\\item[HGMD Variants] 'hgmd'\n",
       "\\item[Lens Patents] 'patSeq'\n",
       "\\item[LOVD Variants] 'lovd'\n",
       "\\item[MGI Mouse QTL] 'jaxQtlMapped'\n",
       "\\item[OMIM Alleles] 'omimAvSnp'\n",
       "\\item[OMIM Genes] 'omimGene2'\n",
       "\\item[OMIM Pheno Loci] 'omimLocation'\n",
       "\\item[RGD Human QTL] 'rgdQtl'\n",
       "\\item[RGD Rat QTL] 'rgdRatQtl'\n",
       "\\item[UniProt Variants] 'spMut'\n",
       "\\item[Web Sequences] 'pubsBingBlat'\n",
       "\\item[CGAP SAGE] 'cgapSage'\n",
       "\\item[Gene Bounds] 'rnaCluster'\n",
       "\\item[H-Inv] 'HInvGeneMrna'\n",
       "\\item[Human ESTs] 'est'\n",
       "\\item[Human mRNAs] 'mrna'\n",
       "\\item[Human RNA Editing] 'darned'\n",
       "\\item[Other ESTs] 'xenoEst'\n",
       "\\item[Other mRNAs] 'xenoMrna'\n",
       "\\item[Poly(A)] 'polyA'\n",
       "\\item[PolyA-Seq] 'polyASeqSites'\n",
       "\\item[SIB Alt-Splicing] 'sibTxGraph'\n",
       "\\item[Spliced ESTs] 'intronEst'\n",
       "\\item[UniGene] 'uniGene\\_3'\n",
       "\\item[GTEx] 'gtexGene'\n",
       "\\item[Affy Exon Array] 'affyExonArray'\n",
       "\\item[Affy GNF1H] 'affyGnf1h'\n",
       "\\item[Affy RNA Loc] 'wgEncodeAffyRnaChip'\n",
       "\\item[Affy U95] 'affyU95'\n",
       "\\item[Affy U133] 'affyU133'\n",
       "\\item[Affy U133Plus2] 'affyU133Plus2'\n",
       "\\item[Allen Brain] 'allenBrainAli'\n",
       "\\item[Burge RNA-seq] 'burgeRnaSeqGemMapperAlign'\n",
       "\\item[CSHL Small RNA-seq] 'wgEncodeCshlShortRnaSeq'\n",
       "\\item[ENC Exon Array...] 'wgEncodeExonArraySuper'\n",
       "\\item[ENC ProtGeno...] 'wgEncodeProtGenoSuper'\n",
       "\\item[ENC RNA-seq...] 'wgEncodeRnaSeqSuper'\n",
       "\\item[GIS RNA PET] 'wgEncodeGisRnaPet'\n",
       "\\item[GNF Atlas 2] 'gnfAtlas2'\n",
       "\\item[GWIPS-viz Riboseq] 'gwipsvizRiboseq'\n",
       "\\item[Illumina WG-6] 'illuminaProbes'\n",
       "\\item[PeptideAtlas] 'peptideAtlas2014'\n",
       "\\item[qPCR Primers] 'qPcrPrimers'\n",
       "\\item[RIKEN CAGE Loc] 'wgEncodeRikenCage'\n",
       "\\item[Sestan Brain] 'sestanBrainAtlas'\n",
       "\\item[ENCODE Regulation...] 'wgEncodeReg'\n",
       "\\item[CD34 DnaseI] 'eioJcviNAS'\n",
       "\\item[CpG Islands...] 'cpgIslandSuper'\n",
       "\\item[ENC Chromatin...] 'wgEncodeChromSuper'\n",
       "\\item[ENC DNA Methyl...] 'wgEncodeDnaMethylSuper'\n",
       "\\item[ENC DNase/FAIRE...] 'wgEncodeDNAseSuper'\n",
       "\\item[ENC Histone...] 'wgEncodeHistoneSuper'\n",
       "\\item[ENC RNA Binding...] 'wgEncodeRbpSuper'\n",
       "\\item[ENC TF Binding...] 'wgEncodeTfBindingSuper'\n",
       "\\item[FSU Repli-chip] 'wgEncodeFsuRepliChip'\n",
       "\\item[Genome Segments] 'wgEncodeAwgSegmentation'\n",
       "\\item[NKI Nuc Lamina...] 'laminB1Super'\n",
       "\\item[ORegAnno] 'oreganno'\n",
       "\\item[Stanf Nucleosome] 'wgEncodeSydhNsome'\n",
       "\\item[SUNY SwitchGear] 'wgEncodeSunySwitchgear'\n",
       "\\item[SwitchGear TSS] 'switchDbTss'\n",
       "\\item[TFBS Conserved] 'tfbsConsSites'\n",
       "\\item[TS miRNA sites] 'targetScanS'\n",
       "\\item[UCSF Brain Methyl] 'ucsfBrainMethyl'\n",
       "\\item[UMMS Brain Hist] 'uMassBrainHistone'\n",
       "\\item[UW Repli-seq] 'wgEncodeUwRepliSeq'\n",
       "\\item[Vista Enhancers] 'vistaEnhancers'\n",
       "\\item[Conservation] 'cons100way'\n",
       "\\item[Cons 46-Way] 'cons46way'\n",
       "\\item[Cons Indels MmCf] 'consIndelsHgMmCanFam'\n",
       "\\item[Evo Cpg] 'evoCpg'\n",
       "\\item[GERP] 'allHg19RS\\_BW'\n",
       "\\item[phastBias gBGC] 'phastBias'\n",
       "\\item[Primate Chain/Net] 'primateChainNet'\n",
       "\\item[Placental Chain/Net] 'placentalChainNet'\n",
       "\\item[Vertebrate Chain/Net] 'vertebrateChainNet'\n",
       "\\item[5\\textbackslash{}\\% Lowest S] 'ntSssTop5p'\n",
       "\\item[H-C Coding Diffs] 'ntHumChimpCodingDiff'\n",
       "\\item[Neandertal Methyl] 'neandertalMethylation'\n",
       "\\item[Neandertal Seq] 'ntSeqReads'\n",
       "\\item[S SNPs] 'ntSssSnps'\n",
       "\\item[Sel Swp Scan (S)] 'ntSssZScorePMVar'\n",
       "\\item[Denisova Methyl] 'denisovaMethylation'\n",
       "\\item[Denisova Seq] 'dhcBamDenisova'\n",
       "\\item[Denisova Variants] 'dhcVcfDenisovaPinky'\n",
       "\\item[Mod Hum Variants] 'dhcVcfModern'\n",
       "\\item[Modern Derived] 'dhcHumDerDenAnc'\n",
       "\\item[Common SNPs(147)] 'snp147Common'\n",
       "\\item[DGV Struct Var] 'dgvPlus'\n",
       "\\item[1000G Ph1 Accsbl] 'tgpPhase1Accessibility'\n",
       "\\item[1000G Ph1 Vars] 'tgpPhase1'\n",
       "\\item[1000G Ph3 Accsbl] 'tgpPhase3Accessibility'\n",
       "\\item[1000G Ph3 Vars] 'tgpPhase3'\n",
       "\\item[All SNPs(147)] 'snp147'\n",
       "\\item[All SNPs(146)] 'snp146'\n",
       "\\item[All SNPs(144)] 'snp144'\n",
       "\\item[All SNPs(142)] 'snp142'\n",
       "\\item[All SNPs(141)] 'snp141'\n",
       "\\item[All SNPs(138)] 'snp138'\n",
       "\\item[Common SNPs(146)] 'snp146Common'\n",
       "\\item[Common SNPs(144)] 'snp144Common'\n",
       "\\item[Common SNPs(142)] 'snp142Common'\n",
       "\\item[Common SNPs(141)] 'snp141Common'\n",
       "\\item[Common SNPs(138)] 'snp138Common'\n",
       "\\item[EVS Variants] 'evsEsp6500'\n",
       "\\item[ExAC] 'exac'\n",
       "\\item[Flagged SNPs(147)] 'snp147Flagged'\n",
       "\\item[Flagged SNPs(146)] 'snp146Flagged'\n",
       "\\item[Flagged SNPs(144)] 'snp144Flagged'\n",
       "\\item[Flagged SNPs(142)] 'snp142Flagged'\n",
       "\\item[Flagged SNPs(141)] 'snp141Flagged'\n",
       "\\item[Flagged SNPs(138)] 'snp138Flagged'\n",
       "\\item[Genome Variants] 'pgSnp'\n",
       "\\item[GIS DNA PET] 'wgEncodeGisDnaPet'\n",
       "\\item[HAIB Genotype] 'wgEncodeHaibGenotype'\n",
       "\\item[HapMap SNPs] 'hapmapSnps'\n",
       "\\item[HGDP Allele Freq] 'hgdpGeo'\n",
       "\\item[Mult. SNPs(147)] 'snp147Mult'\n",
       "\\item[Mult. SNPs(146)] 'snp146Mult'\n",
       "\\item[Mult. SNPs(144)] 'snp144Mult'\n",
       "\\item[Mult. SNPs(142)] 'snp142Mult'\n",
       "\\item[Mult. SNPs(138)] 'snp138Mult'\n",
       "\\item[SNP/CNV Arrays] 'genotypeArrays'\n",
       "\\item[RepeatMasker] 'rmsk'\n",
       "\\item[Interrupted Rpts] 'nestedRepeats'\n",
       "\\item[Microsatellite] 'microsat'\n",
       "\\item[NumtS Sequence] 'numtSeq'\n",
       "\\item[Segmental Dups] 'genomicSuperDups'\n",
       "\\item[Self Chain] 'chainSelf'\n",
       "\\item[Simple Repeats] 'simpleRepeat'\n",
       "\\end{description*}\n"
      ],
      "text/markdown": [
       "Base Position\n",
       ":   'ruler'Alt Haplotypes\n",
       ":   'altLocations'Assembly\n",
       ":   'gold'BAC End Pairs\n",
       ":   'bacEndPairs'BU ORChID\n",
       ":   'wgEncodeBuOrchid'Chromosome Band\n",
       ":   'cytoBand'deCODE Recomb\n",
       ":   'decodeRmap'ENCODE Pilot\n",
       ":   'encodeRegions'FISH Clones\n",
       ":   'fishClones'Fosmid End Pairs\n",
       ":   'fosEndPairs'Gap\n",
       ":   'gap'GC Percent\n",
       ":   'gc5Base'GRC Incident\n",
       ":   'grcIncidentDb'GRC Map Contigs\n",
       ":   'ctgPos2'GRC Patch Release\n",
       ":   'altSeqComposite10'Hg18 Diff\n",
       ":   'hg19ContigDiff'Hg38 Diff\n",
       ":   'hg38ContigDiff'Hi Seq Depth\n",
       ":   'hiSeqDepth'INSDC\n",
       ":   'ucscToINSDC'LRG Regions\n",
       ":   'lrg'Map Contigs\n",
       ":   'ctgPos'Mappability\n",
       ":   'wgEncodeMapability'Recomb Rate\n",
       ":   'recombRate'Restr Enzymes\n",
       ":   'cutters'Short Match\n",
       ":   'oligoMatch'STS Markers\n",
       ":   'stsMap'UCSC Genes\n",
       ":   'knownGene'RefSeq Genes\n",
       ":   'refGene'AceView Genes\n",
       ":   'acembly'AUGUSTUS\n",
       ":   'augustusGene'CCDS\n",
       ":   'ccdsGene'CRISPR...\n",
       ":   'crispr'Ensembl Genes\n",
       ":   'ensGene'EvoFold\n",
       ":   'evofold'Exoniphy\n",
       ":   'exoniphy'GENCODE...\n",
       ":   'wgEncodeGencodeSuper'Geneid Genes\n",
       ":   'geneid'Genscan Genes\n",
       ":   'genscan'H-Inv 7.0\n",
       ":   'hinv70Composite'IKMC Genes Mapped\n",
       ":   'hgIkmc'lincRNAs...\n",
       ":   'lincRNAs'LRG Transcripts\n",
       ":   'lrgTranscriptAli'MGC Genes\n",
       ":   'mgcFullMrna'N-SCAN\n",
       ":   'nscanGene'Old UCSC Genes\n",
       ":   'knownGeneOld6'ORFeome Clones\n",
       ":   'orfeomeMrna'Other RefSeq\n",
       ":   'xenoRefGene'Pfam in UCSC Gene\n",
       ":   'ucscGenePfam'Retroposed Genes\n",
       ":   'ucscRetroAli5'SGP Genes\n",
       ":   'sgpGene'SIB Genes\n",
       ":   'sibGene'sno/miRNA\n",
       ":   'wgRna'TransMap...\n",
       ":   'transMapV4'tRNA Genes\n",
       ":   'tRNAs'UCSC Alt Events\n",
       ":   'knownAlt'UniProt\n",
       ":   'spUniprot'Vega Genes\n",
       ":   'vegaGeneComposite'Yale Pseudo60\n",
       ":   'pseudoYale60'Publications\n",
       ":   'pubs'ClinGen CNVs\n",
       ":   'iscaComposite'ClinVar Variants\n",
       ":   'clinvar'Coriell CNVs\n",
       ":   'coriellDelDup'COSMIC\n",
       ":   'cosmic'DECIPHER\n",
       ":   'decipher'Development Delay\n",
       ":   'cnvDevDelay'GAD View\n",
       ":   'gad'Gene Interactions\n",
       ":   'interactions'GeneReviews\n",
       ":   'geneReviews'GWAS Catalog\n",
       ":   'gwasCatalog'HGMD Variants\n",
       ":   'hgmd'Lens Patents\n",
       ":   'patSeq'LOVD Variants\n",
       ":   'lovd'MGI Mouse QTL\n",
       ":   'jaxQtlMapped'OMIM Alleles\n",
       ":   'omimAvSnp'OMIM Genes\n",
       ":   'omimGene2'OMIM Pheno Loci\n",
       ":   'omimLocation'RGD Human QTL\n",
       ":   'rgdQtl'RGD Rat QTL\n",
       ":   'rgdRatQtl'UniProt Variants\n",
       ":   'spMut'Web Sequences\n",
       ":   'pubsBingBlat'CGAP SAGE\n",
       ":   'cgapSage'Gene Bounds\n",
       ":   'rnaCluster'H-Inv\n",
       ":   'HInvGeneMrna'Human ESTs\n",
       ":   'est'Human mRNAs\n",
       ":   'mrna'Human RNA Editing\n",
       ":   'darned'Other ESTs\n",
       ":   'xenoEst'Other mRNAs\n",
       ":   'xenoMrna'Poly(A)\n",
       ":   'polyA'PolyA-Seq\n",
       ":   'polyASeqSites'SIB Alt-Splicing\n",
       ":   'sibTxGraph'Spliced ESTs\n",
       ":   'intronEst'UniGene\n",
       ":   'uniGene_3'GTEx\n",
       ":   'gtexGene'Affy Exon Array\n",
       ":   'affyExonArray'Affy GNF1H\n",
       ":   'affyGnf1h'Affy RNA Loc\n",
       ":   'wgEncodeAffyRnaChip'Affy U95\n",
       ":   'affyU95'Affy U133\n",
       ":   'affyU133'Affy U133Plus2\n",
       ":   'affyU133Plus2'Allen Brain\n",
       ":   'allenBrainAli'Burge RNA-seq\n",
       ":   'burgeRnaSeqGemMapperAlign'CSHL Small RNA-seq\n",
       ":   'wgEncodeCshlShortRnaSeq'ENC Exon Array...\n",
       ":   'wgEncodeExonArraySuper'ENC ProtGeno...\n",
       ":   'wgEncodeProtGenoSuper'ENC RNA-seq...\n",
       ":   'wgEncodeRnaSeqSuper'GIS RNA PET\n",
       ":   'wgEncodeGisRnaPet'GNF Atlas 2\n",
       ":   'gnfAtlas2'GWIPS-viz Riboseq\n",
       ":   'gwipsvizRiboseq'Illumina WG-6\n",
       ":   'illuminaProbes'PeptideAtlas\n",
       ":   'peptideAtlas2014'qPCR Primers\n",
       ":   'qPcrPrimers'RIKEN CAGE Loc\n",
       ":   'wgEncodeRikenCage'Sestan Brain\n",
       ":   'sestanBrainAtlas'ENCODE Regulation...\n",
       ":   'wgEncodeReg'CD34 DnaseI\n",
       ":   'eioJcviNAS'CpG Islands...\n",
       ":   'cpgIslandSuper'ENC Chromatin...\n",
       ":   'wgEncodeChromSuper'ENC DNA Methyl...\n",
       ":   'wgEncodeDnaMethylSuper'ENC DNase/FAIRE...\n",
       ":   'wgEncodeDNAseSuper'ENC Histone...\n",
       ":   'wgEncodeHistoneSuper'ENC RNA Binding...\n",
       ":   'wgEncodeRbpSuper'ENC TF Binding...\n",
       ":   'wgEncodeTfBindingSuper'FSU Repli-chip\n",
       ":   'wgEncodeFsuRepliChip'Genome Segments\n",
       ":   'wgEncodeAwgSegmentation'NKI Nuc Lamina...\n",
       ":   'laminB1Super'ORegAnno\n",
       ":   'oreganno'Stanf Nucleosome\n",
       ":   'wgEncodeSydhNsome'SUNY SwitchGear\n",
       ":   'wgEncodeSunySwitchgear'SwitchGear TSS\n",
       ":   'switchDbTss'TFBS Conserved\n",
       ":   'tfbsConsSites'TS miRNA sites\n",
       ":   'targetScanS'UCSF Brain Methyl\n",
       ":   'ucsfBrainMethyl'UMMS Brain Hist\n",
       ":   'uMassBrainHistone'UW Repli-seq\n",
       ":   'wgEncodeUwRepliSeq'Vista Enhancers\n",
       ":   'vistaEnhancers'Conservation\n",
       ":   'cons100way'Cons 46-Way\n",
       ":   'cons46way'Cons Indels MmCf\n",
       ":   'consIndelsHgMmCanFam'Evo Cpg\n",
       ":   'evoCpg'GERP\n",
       ":   'allHg19RS_BW'phastBias gBGC\n",
       ":   'phastBias'Primate Chain/Net\n",
       ":   'primateChainNet'Placental Chain/Net\n",
       ":   'placentalChainNet'Vertebrate Chain/Net\n",
       ":   'vertebrateChainNet'5% Lowest S\n",
       ":   'ntSssTop5p'H-C Coding Diffs\n",
       ":   'ntHumChimpCodingDiff'Neandertal Methyl\n",
       ":   'neandertalMethylation'Neandertal Seq\n",
       ":   'ntSeqReads'S SNPs\n",
       ":   'ntSssSnps'Sel Swp Scan (S)\n",
       ":   'ntSssZScorePMVar'Denisova Methyl\n",
       ":   'denisovaMethylation'Denisova Seq\n",
       ":   'dhcBamDenisova'Denisova Variants\n",
       ":   'dhcVcfDenisovaPinky'Mod Hum Variants\n",
       ":   'dhcVcfModern'Modern Derived\n",
       ":   'dhcHumDerDenAnc'Common SNPs(147)\n",
       ":   'snp147Common'DGV Struct Var\n",
       ":   'dgvPlus'1000G Ph1 Accsbl\n",
       ":   'tgpPhase1Accessibility'1000G Ph1 Vars\n",
       ":   'tgpPhase1'1000G Ph3 Accsbl\n",
       ":   'tgpPhase3Accessibility'1000G Ph3 Vars\n",
       ":   'tgpPhase3'All SNPs(147)\n",
       ":   'snp147'All SNPs(146)\n",
       ":   'snp146'All SNPs(144)\n",
       ":   'snp144'All SNPs(142)\n",
       ":   'snp142'All SNPs(141)\n",
       ":   'snp141'All SNPs(138)\n",
       ":   'snp138'Common SNPs(146)\n",
       ":   'snp146Common'Common SNPs(144)\n",
       ":   'snp144Common'Common SNPs(142)\n",
       ":   'snp142Common'Common SNPs(141)\n",
       ":   'snp141Common'Common SNPs(138)\n",
       ":   'snp138Common'EVS Variants\n",
       ":   'evsEsp6500'ExAC\n",
       ":   'exac'Flagged SNPs(147)\n",
       ":   'snp147Flagged'Flagged SNPs(146)\n",
       ":   'snp146Flagged'Flagged SNPs(144)\n",
       ":   'snp144Flagged'Flagged SNPs(142)\n",
       ":   'snp142Flagged'Flagged SNPs(141)\n",
       ":   'snp141Flagged'Flagged SNPs(138)\n",
       ":   'snp138Flagged'Genome Variants\n",
       ":   'pgSnp'GIS DNA PET\n",
       ":   'wgEncodeGisDnaPet'HAIB Genotype\n",
       ":   'wgEncodeHaibGenotype'HapMap SNPs\n",
       ":   'hapmapSnps'HGDP Allele Freq\n",
       ":   'hgdpGeo'Mult. SNPs(147)\n",
       ":   'snp147Mult'Mult. SNPs(146)\n",
       ":   'snp146Mult'Mult. SNPs(144)\n",
       ":   'snp144Mult'Mult. SNPs(142)\n",
       ":   'snp142Mult'Mult. SNPs(138)\n",
       ":   'snp138Mult'SNP/CNV Arrays\n",
       ":   'genotypeArrays'RepeatMasker\n",
       ":   'rmsk'Interrupted Rpts\n",
       ":   'nestedRepeats'Microsatellite\n",
       ":   'microsat'NumtS Sequence\n",
       ":   'numtSeq'Segmental Dups\n",
       ":   'genomicSuperDups'Self Chain\n",
       ":   'chainSelf'Simple Repeats\n",
       ":   'simpleRepeat'\n",
       "\n"
      ],
      "text/plain": [
       "              Base Position              Alt Haplotypes \n",
       "                    \"ruler\"              \"altLocations\" \n",
       "                   Assembly               BAC End Pairs \n",
       "                     \"gold\"               \"bacEndPairs\" \n",
       "                  BU ORChID             Chromosome Band \n",
       "         \"wgEncodeBuOrchid\"                  \"cytoBand\" \n",
       "              deCODE Recomb                ENCODE Pilot \n",
       "               \"decodeRmap\"             \"encodeRegions\" \n",
       "                FISH Clones            Fosmid End Pairs \n",
       "               \"fishClones\"               \"fosEndPairs\" \n",
       "                        Gap                  GC Percent \n",
       "                      \"gap\"                   \"gc5Base\" \n",
       "               GRC Incident             GRC Map Contigs \n",
       "            \"grcIncidentDb\"                   \"ctgPos2\" \n",
       "          GRC Patch Release                   Hg18 Diff \n",
       "        \"altSeqComposite10\"            \"hg19ContigDiff\" \n",
       "                  Hg38 Diff                Hi Seq Depth \n",
       "           \"hg38ContigDiff\"                \"hiSeqDepth\" \n",
       "                      INSDC                 LRG Regions \n",
       "              \"ucscToINSDC\"                       \"lrg\" \n",
       "                Map Contigs                 Mappability \n",
       "                   \"ctgPos\"        \"wgEncodeMapability\" \n",
       "                Recomb Rate               Restr Enzymes \n",
       "               \"recombRate\"                   \"cutters\" \n",
       "                Short Match                 STS Markers \n",
       "               \"oligoMatch\"                    \"stsMap\" \n",
       "                 UCSC Genes                RefSeq Genes \n",
       "                \"knownGene\"                   \"refGene\" \n",
       "              AceView Genes                    AUGUSTUS \n",
       "                  \"acembly\"              \"augustusGene\" \n",
       "                       CCDS                   CRISPR... \n",
       "                 \"ccdsGene\"                    \"crispr\" \n",
       "              Ensembl Genes                     EvoFold \n",
       "                  \"ensGene\"                   \"evofold\" \n",
       "                   Exoniphy                  GENCODE... \n",
       "                 \"exoniphy\"      \"wgEncodeGencodeSuper\" \n",
       "               Geneid Genes               Genscan Genes \n",
       "                   \"geneid\"                   \"genscan\" \n",
       "                  H-Inv 7.0           IKMC Genes Mapped \n",
       "          \"hinv70Composite\"                    \"hgIkmc\" \n",
       "                lincRNAs...             LRG Transcripts \n",
       "                 \"lincRNAs\"          \"lrgTranscriptAli\" \n",
       "                  MGC Genes                      N-SCAN \n",
       "              \"mgcFullMrna\"                 \"nscanGene\" \n",
       "             Old UCSC Genes              ORFeome Clones \n",
       "            \"knownGeneOld6\"               \"orfeomeMrna\" \n",
       "               Other RefSeq           Pfam in UCSC Gene \n",
       "              \"xenoRefGene\"              \"ucscGenePfam\" \n",
       "           Retroposed Genes                   SGP Genes \n",
       "            \"ucscRetroAli5\"                   \"sgpGene\" \n",
       "                  SIB Genes                   sno/miRNA \n",
       "                  \"sibGene\"                     \"wgRna\" \n",
       "                TransMap...                  tRNA Genes \n",
       "               \"transMapV4\"                     \"tRNAs\" \n",
       "            UCSC Alt Events                     UniProt \n",
       "                 \"knownAlt\"                 \"spUniprot\" \n",
       "                 Vega Genes               Yale Pseudo60 \n",
       "        \"vegaGeneComposite\"              \"pseudoYale60\" \n",
       "               Publications                ClinGen CNVs \n",
       "                     \"pubs\"             \"iscaComposite\" \n",
       "           ClinVar Variants                Coriell CNVs \n",
       "                  \"clinvar\"             \"coriellDelDup\" \n",
       "                     COSMIC                    DECIPHER \n",
       "                   \"cosmic\"                  \"decipher\" \n",
       "          Development Delay                    GAD View \n",
       "              \"cnvDevDelay\"                       \"gad\" \n",
       "          Gene Interactions                 GeneReviews \n",
       "             \"interactions\"               \"geneReviews\" \n",
       "               GWAS Catalog               HGMD Variants \n",
       "              \"gwasCatalog\"                      \"hgmd\" \n",
       "               Lens Patents               LOVD Variants \n",
       "                   \"patSeq\"                      \"lovd\" \n",
       "              MGI Mouse QTL                OMIM Alleles \n",
       "             \"jaxQtlMapped\"                 \"omimAvSnp\" \n",
       "                 OMIM Genes             OMIM Pheno Loci \n",
       "                \"omimGene2\"              \"omimLocation\" \n",
       "              RGD Human QTL                 RGD Rat QTL \n",
       "                   \"rgdQtl\"                 \"rgdRatQtl\" \n",
       "           UniProt Variants               Web Sequences \n",
       "                    \"spMut\"              \"pubsBingBlat\" \n",
       "                  CGAP SAGE                 Gene Bounds \n",
       "                 \"cgapSage\"                \"rnaCluster\" \n",
       "                      H-Inv                  Human ESTs \n",
       "             \"HInvGeneMrna\"                       \"est\" \n",
       "                Human mRNAs           Human RNA Editing \n",
       "                     \"mrna\"                    \"darned\" \n",
       "                 Other ESTs                 Other mRNAs \n",
       "                  \"xenoEst\"                  \"xenoMrna\" \n",
       "                    Poly(A)                   PolyA-Seq \n",
       "                    \"polyA\"             \"polyASeqSites\" \n",
       "           SIB Alt-Splicing                Spliced ESTs \n",
       "               \"sibTxGraph\"                 \"intronEst\" \n",
       "                    UniGene                        GTEx \n",
       "                \"uniGene_3\"                  \"gtexGene\" \n",
       "            Affy Exon Array                  Affy GNF1H \n",
       "            \"affyExonArray\"                 \"affyGnf1h\" \n",
       "               Affy RNA Loc                    Affy U95 \n",
       "      \"wgEncodeAffyRnaChip\"                   \"affyU95\" \n",
       "                  Affy U133              Affy U133Plus2 \n",
       "                 \"affyU133\"             \"affyU133Plus2\" \n",
       "                Allen Brain               Burge RNA-seq \n",
       "            \"allenBrainAli\" \"burgeRnaSeqGemMapperAlign\" \n",
       "         CSHL Small RNA-seq           ENC Exon Array... \n",
       "  \"wgEncodeCshlShortRnaSeq\"    \"wgEncodeExonArraySuper\" \n",
       "            ENC ProtGeno...              ENC RNA-seq... \n",
       "    \"wgEncodeProtGenoSuper\"       \"wgEncodeRnaSeqSuper\" \n",
       "                GIS RNA PET                 GNF Atlas 2 \n",
       "        \"wgEncodeGisRnaPet\"                 \"gnfAtlas2\" \n",
       "          GWIPS-viz Riboseq               Illumina WG-6 \n",
       "          \"gwipsvizRiboseq\"            \"illuminaProbes\" \n",
       "               PeptideAtlas                qPCR Primers \n",
       "         \"peptideAtlas2014\"               \"qPcrPrimers\" \n",
       "             RIKEN CAGE Loc                Sestan Brain \n",
       "        \"wgEncodeRikenCage\"          \"sestanBrainAtlas\" \n",
       "       ENCODE Regulation...                 CD34 DnaseI \n",
       "              \"wgEncodeReg\"                \"eioJcviNAS\" \n",
       "             CpG Islands...            ENC Chromatin... \n",
       "           \"cpgIslandSuper\"        \"wgEncodeChromSuper\" \n",
       "          ENC DNA Methyl...          ENC DNase/FAIRE... \n",
       "   \"wgEncodeDnaMethylSuper\"        \"wgEncodeDNAseSuper\" \n",
       "             ENC Histone...          ENC RNA Binding... \n",
       "     \"wgEncodeHistoneSuper\"          \"wgEncodeRbpSuper\" \n",
       "          ENC TF Binding...              FSU Repli-chip \n",
       "   \"wgEncodeTfBindingSuper\"      \"wgEncodeFsuRepliChip\" \n",
       "            Genome Segments           NKI Nuc Lamina... \n",
       "  \"wgEncodeAwgSegmentation\"              \"laminB1Super\" \n",
       "                   ORegAnno            Stanf Nucleosome \n",
       "                 \"oreganno\"         \"wgEncodeSydhNsome\" \n",
       "            SUNY SwitchGear              SwitchGear TSS \n",
       "   \"wgEncodeSunySwitchgear\"               \"switchDbTss\" \n",
       "             TFBS Conserved              TS miRNA sites \n",
       "            \"tfbsConsSites\"               \"targetScanS\" \n",
       "          UCSF Brain Methyl             UMMS Brain Hist \n",
       "          \"ucsfBrainMethyl\"         \"uMassBrainHistone\" \n",
       "               UW Repli-seq             Vista Enhancers \n",
       "       \"wgEncodeUwRepliSeq\"            \"vistaEnhancers\" \n",
       "               Conservation                 Cons 46-Way \n",
       "               \"cons100way\"                 \"cons46way\" \n",
       "           Cons Indels MmCf                     Evo Cpg \n",
       "     \"consIndelsHgMmCanFam\"                    \"evoCpg\" \n",
       "                       GERP              phastBias gBGC \n",
       "             \"allHg19RS_BW\"                 \"phastBias\" \n",
       "          Primate Chain/Net         Placental Chain/Net \n",
       "          \"primateChainNet\"         \"placentalChainNet\" \n",
       "       Vertebrate Chain/Net                 5% Lowest S \n",
       "       \"vertebrateChainNet\"                \"ntSssTop5p\" \n",
       "           H-C Coding Diffs           Neandertal Methyl \n",
       "     \"ntHumChimpCodingDiff\"     \"neandertalMethylation\" \n",
       "             Neandertal Seq                      S SNPs \n",
       "               \"ntSeqReads\"                 \"ntSssSnps\" \n",
       "           Sel Swp Scan (S)             Denisova Methyl \n",
       "         \"ntSssZScorePMVar\"       \"denisovaMethylation\" \n",
       "               Denisova Seq           Denisova Variants \n",
       "           \"dhcBamDenisova\"       \"dhcVcfDenisovaPinky\" \n",
       "           Mod Hum Variants              Modern Derived \n",
       "             \"dhcVcfModern\"           \"dhcHumDerDenAnc\" \n",
       "           Common SNPs(147)              DGV Struct Var \n",
       "             \"snp147Common\"                   \"dgvPlus\" \n",
       "           1000G Ph1 Accsbl              1000G Ph1 Vars \n",
       "   \"tgpPhase1Accessibility\"                 \"tgpPhase1\" \n",
       "           1000G Ph3 Accsbl              1000G Ph3 Vars \n",
       "   \"tgpPhase3Accessibility\"                 \"tgpPhase3\" \n",
       "              All SNPs(147)               All SNPs(146) \n",
       "                   \"snp147\"                    \"snp146\" \n",
       "              All SNPs(144)               All SNPs(142) \n",
       "                   \"snp144\"                    \"snp142\" \n",
       "              All SNPs(141)               All SNPs(138) \n",
       "                   \"snp141\"                    \"snp138\" \n",
       "           Common SNPs(146)            Common SNPs(144) \n",
       "             \"snp146Common\"              \"snp144Common\" \n",
       "           Common SNPs(142)            Common SNPs(141) \n",
       "             \"snp142Common\"              \"snp141Common\" \n",
       "           Common SNPs(138)                EVS Variants \n",
       "             \"snp138Common\"                \"evsEsp6500\" \n",
       "                       ExAC           Flagged SNPs(147) \n",
       "                     \"exac\"             \"snp147Flagged\" \n",
       "          Flagged SNPs(146)           Flagged SNPs(144) \n",
       "            \"snp146Flagged\"             \"snp144Flagged\" \n",
       "          Flagged SNPs(142)           Flagged SNPs(141) \n",
       "            \"snp142Flagged\"             \"snp141Flagged\" \n",
       "          Flagged SNPs(138)             Genome Variants \n",
       "            \"snp138Flagged\"                     \"pgSnp\" \n",
       "                GIS DNA PET               HAIB Genotype \n",
       "        \"wgEncodeGisDnaPet\"      \"wgEncodeHaibGenotype\" \n",
       "                HapMap SNPs            HGDP Allele Freq \n",
       "               \"hapmapSnps\"                   \"hgdpGeo\" \n",
       "            Mult. SNPs(147)             Mult. SNPs(146) \n",
       "               \"snp147Mult\"                \"snp146Mult\" \n",
       "            Mult. SNPs(144)             Mult. SNPs(142) \n",
       "               \"snp144Mult\"                \"snp142Mult\" \n",
       "            Mult. SNPs(138)              SNP/CNV Arrays \n",
       "               \"snp138Mult\"            \"genotypeArrays\" \n",
       "               RepeatMasker            Interrupted Rpts \n",
       "                     \"rmsk\"             \"nestedRepeats\" \n",
       "             Microsatellite              NumtS Sequence \n",
       "                 \"microsat\"                   \"numtSeq\" \n",
       "             Segmental Dups                  Self Chain \n",
       "         \"genomicSuperDups\"                 \"chainSelf\" \n",
       "             Simple Repeats \n",
       "             \"simpleRepeat\" "
      ]
     },
     "metadata": {},
     "output_type": "display_data"
    }
   ],
   "source": [
    "trackNames(session)"
   ]
  },
  {
   "cell_type": "code",
   "execution_count": 47,
   "metadata": {},
   "outputs": [],
   "source": [
    "query <- ucscTableQuery(session, \"cons46way\",\n",
    "                        GRangesForUCSCGenome(\"hg19\", \"chr12\",\n",
    "                                             IRanges(57795963, 57815592)))"
   ]
  },
  {
   "cell_type": "code",
   "execution_count": 48,
   "metadata": {},
   "outputs": [
    {
     "data": {
      "text/html": [
       "<ol class=list-inline>\n",
       "\t<li>'phyloP46wayPrimates'</li>\n",
       "\t<li>'phyloP46wayPlacental'</li>\n",
       "\t<li>'phyloP46wayAll'</li>\n",
       "\t<li>'phastCons46wayPrimates'</li>\n",
       "\t<li>'phastCons46wayPlacental'</li>\n",
       "\t<li>'phastCons46way'</li>\n",
       "\t<li>'phastConsElements46wayPrimates'</li>\n",
       "\t<li>'phastConsElements46wayPlacental'</li>\n",
       "\t<li>'phastConsElements46way'</li>\n",
       "\t<li>'multiz46way'</li>\n",
       "</ol>\n"
      ],
      "text/latex": [
       "\\begin{enumerate*}\n",
       "\\item 'phyloP46wayPrimates'\n",
       "\\item 'phyloP46wayPlacental'\n",
       "\\item 'phyloP46wayAll'\n",
       "\\item 'phastCons46wayPrimates'\n",
       "\\item 'phastCons46wayPlacental'\n",
       "\\item 'phastCons46way'\n",
       "\\item 'phastConsElements46wayPrimates'\n",
       "\\item 'phastConsElements46wayPlacental'\n",
       "\\item 'phastConsElements46way'\n",
       "\\item 'multiz46way'\n",
       "\\end{enumerate*}\n"
      ],
      "text/markdown": [
       "1. 'phyloP46wayPrimates'\n",
       "2. 'phyloP46wayPlacental'\n",
       "3. 'phyloP46wayAll'\n",
       "4. 'phastCons46wayPrimates'\n",
       "5. 'phastCons46wayPlacental'\n",
       "6. 'phastCons46way'\n",
       "7. 'phastConsElements46wayPrimates'\n",
       "8. 'phastConsElements46wayPlacental'\n",
       "9. 'phastConsElements46way'\n",
       "10. 'multiz46way'\n",
       "\n",
       "\n"
      ],
      "text/plain": [
       " [1] \"phyloP46wayPrimates\"             \"phyloP46wayPlacental\"           \n",
       " [3] \"phyloP46wayAll\"                  \"phastCons46wayPrimates\"         \n",
       " [5] \"phastCons46wayPlacental\"         \"phastCons46way\"                 \n",
       " [7] \"phastConsElements46wayPrimates\"  \"phastConsElements46wayPlacental\"\n",
       " [9] \"phastConsElements46way\"          \"multiz46way\"                    "
      ]
     },
     "metadata": {},
     "output_type": "display_data"
    }
   ],
   "source": [
    "tableNames(query)"
   ]
  },
  {
   "cell_type": "code",
   "execution_count": 49,
   "metadata": {},
   "outputs": [],
   "source": [
    "tableName(query) <- \"phastConsElements46way\""
   ]
  },
  {
   "cell_type": "code",
   "execution_count": 50,
   "metadata": {
    "collapsed": true
   },
   "outputs": [],
   "source": [
    "x <- track(query)"
   ]
  },
  {
   "cell_type": "code",
   "execution_count": 51,
   "metadata": {},
   "outputs": [
    {
     "data": {
      "text/plain": [
       "UCSC track 'phastConsElements46way'\n",
       "UCSCData object with 6 ranges and 2 metadata columns:\n",
       "      seqnames               ranges strand |        name     score\n",
       "         <Rle>            <IRanges>  <Rle> | <character> <numeric>\n",
       "  [1]    chr12 [57799032, 57799066]      * |      lod=14       251\n",
       "  [2]    chr12 [57799152, 57799173]      * |      lod=14       251\n",
       "  [3]    chr12 [57799221, 57799321]      * |      lod=29       329\n",
       "  [4]    chr12 [57799355, 57799425]      * |      lod=28       325\n",
       "  [5]    chr12 [57799541, 57799608]      * |      lod=31       336\n",
       "  [6]    chr12 [57799686, 57799722]      * |      lod=15       259\n",
       "  -------\n",
       "  seqinfo: 93 sequences from hg19 genome"
      ]
     },
     "metadata": {},
     "output_type": "display_data"
    }
   ],
   "source": [
    "head(x)"
   ]
  },
  {
   "cell_type": "code",
   "execution_count": null,
   "metadata": {
    "collapsed": true
   },
   "outputs": [],
   "source": []
  },
  {
   "cell_type": "code",
   "execution_count": null,
   "metadata": {
    "collapsed": true
   },
   "outputs": [],
   "source": []
  },
  {
   "cell_type": "code",
   "execution_count": null,
   "metadata": {
    "collapsed": true
   },
   "outputs": [],
   "source": []
  },
  {
   "cell_type": "markdown",
   "metadata": {},
   "source": [
    "How does the new exon density metric compare to the old one?\n",
    "\n",
    "Although both used the same data source (Ensembl - GTF from the FTP vs direct access to a database), there are some inconsistencies between the amount of exonic regions obtained from them... bioinformatics :("
   ]
  },
  {
   "cell_type": "code",
   "execution_count": 18,
   "metadata": {
    "scrolled": true
   },
   "outputs": [
    {
     "name": "stderr",
     "output_type": "stream",
     "text": [
      "Parsed with column specification:\n",
      "cols(\n",
      "  chrom = col_integer(),\n",
      "  start = col_integer(),\n",
      "  end = col_integer(),\n",
      "  overlap = col_double()\n",
      ")\n",
      "Joining, by = c(\"chrom\", \"start\", \"end\")\n"
     ]
    }
   ],
   "source": [
    "# old exon densities\n",
    "x <- read_tsv(\"../clean_data/annotations/exon_density__100000bp.bed\",\n",
    "              col_names=c(\"chrom\", \"start\", \"end\", \"overlap\")) %>% mutate(chrom=paste0(\"chr\", chrom))\n",
    "e <- mutate(europeans, start=pos-1, end=pos) %>% dplyr::select(chrom, start, end)\n",
    "\n",
    "old_exon_densities_from_gtf <- inner_join(x, e)"
   ]
  },
  {
   "cell_type": "code",
   "execution_count": 25,
   "metadata": {},
   "outputs": [
    {
     "data": {
      "text/html": [
       "484016"
      ],
      "text/latex": [
       "484016"
      ],
      "text/markdown": [
       "484016"
      ],
      "text/plain": [
       "[1] 484016"
      ]
     },
     "metadata": {},
     "output_type": "display_data"
    },
    {
     "data": {
      "text/html": [
       "0"
      ],
      "text/latex": [
       "0"
      ],
      "text/markdown": [
       "0"
      ],
      "text/plain": [
       "[1] 0"
      ]
     },
     "metadata": {},
     "output_type": "display_data"
    }
   ],
   "source": [
    "length(old_exon_densities_from_gtf$overlap)\n",
    "length(sites$exon)"
   ]
  },
  {
   "cell_type": "code",
   "execution_count": 21,
   "metadata": {},
   "outputs": [
    {
     "data": {},
     "metadata": {},
     "output_type": "display_data"
    },
    {
     "ename": "ERROR",
     "evalue": "Error in cor.test.default(old_exon_densities_from_gtf$overlap, sites$exon): 'x' and 'y' must have the same length\n",
     "output_type": "error",
     "traceback": [
      "Error in cor.test.default(old_exon_densities_from_gtf$overlap, sites$exon): 'x' and 'y' must have the same length\nTraceback:\n",
      "1. cor.test(old_exon_densities_from_gtf$overlap, sites$exon)",
      "2. cor.test.default(old_exon_densities_from_gtf$overlap, sites$exon)",
      "3. stop(\"'x' and 'y' must have the same length\")"
     ]
    },
    {
     "data": {
      "image/png": "[encoded data removed]",
      "text/plain": [
       "plot without title"
      ]
     },
     "metadata": {},
     "output_type": "display_data"
    }
   ],
   "source": [
    "options(repr.plot.width=4, repr.plot.height=4)\n",
    "qplot(x=old_exon_densities_from_gtf$overlap, sites$exon)\n",
    "\n",
    "cor.test(old_exon_densities_from_gtf$overlap, sites$exon)"
   ]
  }
 ],
 "metadata": {
  "kernelspec": {
   "display_name": "R",
   "language": "R",
   "name": "ir"
  },
  "language_info": {
   "codemirror_mode": "r",
   "file_extension": ".r",
   "mimetype": "text/x-r-source",
   "name": "R",
   "pygments_lexer": "r",
   "version": "3.3.1"
  }
 },
 "nbformat": 4,
 "nbformat_minor": 2
}
