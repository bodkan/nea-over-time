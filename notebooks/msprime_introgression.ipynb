{
 "cells": [
  {
   "cell_type": "code",
   "execution_count": 1,
   "metadata": {},
   "outputs": [],
   "source": [
    "import pandas as pd\n",
    "import numpy as np\n",
    "import msprime as msp\n",
    "import allel\n",
    "\n",
    "from IPython.display import SVG"
   ]
  },
  {
   "cell_type": "code",
   "execution_count": 2,
   "metadata": {},
   "outputs": [],
   "source": [
    "real_samples = pd.read_table(\"~/projects/nea-over-time/data/admixture_array_nea.tsv\")"
   ]
  },
  {
   "cell_type": "code",
   "execution_count": 3,
   "metadata": {},
   "outputs": [],
   "source": [
    "def plot_tree(tree):\n",
    "    colour_map = {0 : \"purple\", 1 : \"blue\", 2 : \"green\", 3 : \"red\"}\n",
    "\n",
    "    node_colours = {u: colour_map[tree.population(u)] for u in tree.nodes()}\n",
    "    node_labels = {u if tree.is_leaf(u) else \"\": u for u in tree.nodes()}\n",
    "    mut_labels = {\"\": m for m in tree.mutations()}\n",
    "    mut_colours = {\"black\": m for m in tree.mutations()}\n",
    "\n",
    "    return SVG(tree.draw(node_colours=node_colours, node_labels=node_labels, mutation_labels=mut_labels, mutation_colours=mut_colours, width=1000, height=600))"
   ]
  },
  {
   "cell_type": "code",
   "execution_count": 4,
   "metadata": {},
   "outputs": [],
   "source": [
    "def yrs_to_gen(years, gen_time=25):\n",
    "    return int(years / gen_time)"
   ]
  },
  {
   "cell_type": "code",
   "execution_count": 5,
   "metadata": {},
   "outputs": [],
   "source": [
    "EUR_ages = [yrs_to_gen(y) for y in real_samples.age]"
   ]
  },
  {
   "cell_type": "code",
   "execution_count": 6,
   "metadata": {},
   "outputs": [],
   "source": [
    "n_CH, n_AFR, n_EUR, n_NEA = 1, 100, len(EUR_ages), 4"
   ]
  },
  {
   "cell_type": "code",
   "execution_count": 7,
   "metadata": {},
   "outputs": [
    {
     "name": "stdout",
     "output_type": "stream",
     "text": [
      "==============================\n",
      "Epoch: 0 -- 2200.0 generations\n",
      "==============================\n",
      "     start     end      growth_rate |     0        1        2        3    \n",
      "   -------- --------       -------- | -------- -------- -------- -------- \n",
      "0 |  1e+04    1e+04               0 |     0        0        0        0    \n",
      "1 |  1e+04    1e+04               0 |     0        0        0        0    \n",
      "2 |  1e+04    1e+04               0 |     0        0        0        0    \n",
      "3 |  1e+03    1e+03               0 |     0        0        0        0    \n",
      "\n",
      "Events @ generation 2200.0\n",
      "   - Mass migration: lineages move from 2 to 3 with probability 0.05\n",
      "===================================\n",
      "Epoch: 2200.0 -- 2400.0 generations\n",
      "===================================\n",
      "     start     end      growth_rate |     0        1        2        3    \n",
      "   -------- --------       -------- | -------- -------- -------- -------- \n",
      "0 |  1e+04    1e+04               0 |     0        0        0        0    \n",
      "1 |  1e+04    1e+04               0 |     0        0        0        0    \n",
      "2 |  1e+04    1e+04               0 |     0        0        0        0    \n",
      "3 |  1e+03    1e+03               0 |     0        0        0        0    \n",
      "\n",
      "Events @ generation 2400.0\n",
      "   - Mass migration: lineages move from 2 to 1 with probability 1.0\n",
      "====================================\n",
      "Epoch: 2400.0 -- 24000.0 generations\n",
      "====================================\n",
      "     start     end      growth_rate |     0        1        2        3    \n",
      "   -------- --------       -------- | -------- -------- -------- -------- \n",
      "0 |  1e+04    1e+04               0 |     0        0        0        0    \n",
      "1 |  1e+04    1e+04               0 |     0        0        0        0    \n",
      "2 |  1e+04    1e+04               0 |     0        0        0        0    \n",
      "3 |  1e+03    1e+03               0 |     0        0        0        0    \n",
      "\n",
      "Events @ generation 24000.0\n",
      "   - Mass migration: lineages move from 3 to 1 with probability 1.0\n",
      "======================================\n",
      "Epoch: 24000.0 -- 240000.0 generations\n",
      "======================================\n",
      "     start     end      growth_rate |     0        1        2        3    \n",
      "   -------- --------       -------- | -------- -------- -------- -------- \n",
      "0 |  1e+04    1e+04               0 |     0        0        0        0    \n",
      "1 |  1e+04    1e+04               0 |     0        0        0        0    \n",
      "2 |  1e+04    1e+04               0 |     0        0        0        0    \n",
      "3 |  1e+03    1e+03               0 |     0        0        0        0    \n",
      "\n",
      "Events @ generation 240000.0\n",
      "   - Mass migration: lineages move from 1 to 0 with probability 1.0\n",
      "==================================\n",
      "Epoch: 240000.0 -- inf generations\n",
      "==================================\n",
      "     start     end      growth_rate |     0        1        2        3    \n",
      "   -------- --------       -------- | -------- -------- -------- -------- \n",
      "0 |  1e+04    1e+04               0 |     0        0        0        0    \n",
      "1 |  1e+04    1e+04               0 |     0        0        0        0    \n",
      "2 |  1e+04    1e+04               0 |     0        0        0        0    \n",
      "3 |  1e+03    1e+03               0 |     0        0        0        0    \n",
      "\n"
     ]
    }
   ],
   "source": [
    "# population IDs\n",
    "CH, AFR, EUR, NEA = 0, 1, 2, 3\n",
    "\n",
    "# effective population sizes at present\n",
    "Ne0 = 10000\n",
    "Ne_anc = 10000\n",
    "Ne_bottle = 2000\n",
    "Ne_NEA = 1000\n",
    "Ne_AFR = 10000\n",
    "Ne_EUR = 10000\n",
    "\n",
    "# split times\n",
    "T_split_CH = yrs_to_gen(6_000_000)\n",
    "T_split_NEA = yrs_to_gen(600_000)\n",
    "T_split_EUR = yrs_to_gen(60_000)\n",
    "\n",
    "# migration start and end times\n",
    "T_m_NEA = yrs_to_gen(55000)\n",
    "\n",
    "samples = (\n",
    "    [msp.Sample(population=CH, time=0) for _ in range(n_CH)] +\n",
    "    [msp.Sample(population=AFR, time=0) for _ in range(n_AFR)] +\n",
    "    [msp.Sample(population=EUR, time=age) for age in range(n_EUR)] +\n",
    "    [msp.Sample(population=NEA, time=yrs_to_gen(70000)) for _ in range(n_NEA)]\n",
    ")\n",
    "\n",
    "pop_config = [\n",
    "    msp.PopulationConfiguration(),\n",
    "    msp.PopulationConfiguration(initial_size=Ne_AFR),\n",
    "    msp.PopulationConfiguration(initial_size=Ne_EUR),\n",
    "    msp.PopulationConfiguration(initial_size=Ne_NEA)\n",
    "]\n",
    "\n",
    "demography = [\n",
    "    # Neanderthal admixture\n",
    "    # out of Africa migration\n",
    "    msp.MassMigration(time=T_m_NEA, source=EUR, destination=NEA, proportion=0.05),\n",
    "\n",
    "    # out of Africa migration\n",
    "    msp.MassMigration(time=T_split_EUR, source=EUR, destination=AFR, proportion=1.0),\n",
    "\n",
    "    # Neanderthal split\n",
    "    msp.MassMigration(time=T_split_NEA, source=NEA, destination=AFR, proportion=1.0),\n",
    "\n",
    "    # chimpanzee split\n",
    "    msp.MassMigration(time=T_split_CH, source=AFR, destination=CH, proportion=1.0),\n",
    "]\n",
    "\n",
    "msp.DemographyDebugger(\n",
    "    Ne=Ne0,\n",
    "    population_configurations=pop_config,\n",
    "    demographic_events=demography\n",
    ").print_history()"
   ]
  },
  {
   "cell_type": "code",
   "execution_count": 8,
   "metadata": {},
   "outputs": [
    {
     "name": "stdout",
     "output_type": "stream",
     "text": [
      "CPU times: user 6min 41s, sys: 2.82 s, total: 6min 43s\n",
      "Wall time: 6min 51s\n"
     ]
    }
   ],
   "source": [
    "%%time\n",
    "\n",
    "ts = msp.simulate(\n",
    "    length=100_000_000,\n",
    "    Ne=Ne0,\n",
    "    mutation_rate=1e-8,\n",
    "    recombination_rate=1e-8,\n",
    "    samples=samples,\n",
    "    population_configurations=pop_config,\n",
    "    demographic_events=demography\n",
    ")"
   ]
  },
  {
   "cell_type": "raw",
   "metadata": {},
   "source": [
    "tree = ts.first()\n",
    "plot_tree(tree)"
   ]
  },
  {
   "cell_type": "code",
   "execution_count": 9,
   "metadata": {},
   "outputs": [
    {
     "data": {
      "text/html": [
       "<div class=\"allel allel-DisplayAs2D\"><span>&lt;HaplotypeArray shape=(803374, 152) dtype=uint8&gt;</span><table><thead><tr><th></th><th style=\"text-align: center\">0</th><th style=\"text-align: center\">1</th><th style=\"text-align: center\">2</th><th style=\"text-align: center\">3</th><th style=\"text-align: center\">4</th><th style=\"text-align: center\">...</th><th style=\"text-align: center\">147</th><th style=\"text-align: center\">148</th><th style=\"text-align: center\">149</th><th style=\"text-align: center\">150</th><th style=\"text-align: center\">151</th></tr></thead><tbody><tr><th style=\"text-align: center; background-color: white; border-right: 1px solid black; \">0</th><td style=\"text-align: center\">1</td><td style=\"text-align: center\">0</td><td style=\"text-align: center\">0</td><td style=\"text-align: center\">0</td><td style=\"text-align: center\">0</td><td style=\"text-align: center\">...</td><td style=\"text-align: center\">0</td><td style=\"text-align: center\">0</td><td style=\"text-align: center\">0</td><td style=\"text-align: center\">0</td><td style=\"text-align: center\">0</td></tr><tr><th style=\"text-align: center; background-color: white; border-right: 1px solid black; \">1</th><td style=\"text-align: center\">1</td><td style=\"text-align: center\">0</td><td style=\"text-align: center\">0</td><td style=\"text-align: center\">0</td><td style=\"text-align: center\">0</td><td style=\"text-align: center\">...</td><td style=\"text-align: center\">0</td><td style=\"text-align: center\">0</td><td style=\"text-align: center\">0</td><td style=\"text-align: center\">0</td><td style=\"text-align: center\">0</td></tr><tr><th style=\"text-align: center; background-color: white; border-right: 1px solid black; \">2</th><td style=\"text-align: center\">0</td><td style=\"text-align: center\">1</td><td style=\"text-align: center\">1</td><td style=\"text-align: center\">1</td><td style=\"text-align: center\">1</td><td style=\"text-align: center\">...</td><td style=\"text-align: center\">1</td><td style=\"text-align: center\">1</td><td style=\"text-align: center\">1</td><td style=\"text-align: center\">1</td><td style=\"text-align: center\">1</td></tr><tr><th style=\"text-align: center; background-color: white; border-right: 1px solid black; \">...</th><td style=\"text-align: center\" colspan=\"12\">...</td></tr><tr><th style=\"text-align: center; background-color: white; border-right: 1px solid black; \">803371</th><td style=\"text-align: center\">0</td><td style=\"text-align: center\">1</td><td style=\"text-align: center\">1</td><td style=\"text-align: center\">1</td><td style=\"text-align: center\">1</td><td style=\"text-align: center\">...</td><td style=\"text-align: center\">1</td><td style=\"text-align: center\">1</td><td style=\"text-align: center\">1</td><td style=\"text-align: center\">1</td><td style=\"text-align: center\">1</td></tr><tr><th style=\"text-align: center; background-color: white; border-right: 1px solid black; \">803372</th><td style=\"text-align: center\">0</td><td style=\"text-align: center\">0</td><td style=\"text-align: center\">0</td><td style=\"text-align: center\">0</td><td style=\"text-align: center\">0</td><td style=\"text-align: center\">...</td><td style=\"text-align: center\">0</td><td style=\"text-align: center\">0</td><td style=\"text-align: center\">0</td><td style=\"text-align: center\">0</td><td style=\"text-align: center\">0</td></tr><tr><th style=\"text-align: center; background-color: white; border-right: 1px solid black; \">803373</th><td style=\"text-align: center\">0</td><td style=\"text-align: center\">0</td><td style=\"text-align: center\">1</td><td style=\"text-align: center\">0</td><td style=\"text-align: center\">0</td><td style=\"text-align: center\">...</td><td style=\"text-align: center\">0</td><td style=\"text-align: center\">0</td><td style=\"text-align: center\">0</td><td style=\"text-align: center\">0</td><td style=\"text-align: center\">0</td></tr></tbody></table></div>"
      ],
      "text/plain": [
       "<HaplotypeArray shape=(803374, 152) dtype=uint8>\n",
       "1 0 0 0 0 ... 0 0 0 0 0\n",
       "1 0 0 0 0 ... 0 0 0 0 0\n",
       "0 1 1 1 1 ... 1 1 1 1 1\n",
       "...\n",
       "0 1 1 1 1 ... 1 1 1 1 1\n",
       "0 0 0 0 0 ... 0 0 0 0 0\n",
       "0 0 1 0 0 ... 0 0 0 0 0"
      ]
     },
     "execution_count": 9,
     "metadata": {},
     "output_type": "execute_result"
    }
   ],
   "source": [
    "snps = allel.HaplotypeArray(ts.genotype_matrix())\n",
    "snps"
   ]
  },
  {
   "cell_type": "code",
   "execution_count": null,
   "metadata": {},
   "outputs": [],
   "source": [
    "def admix_array(snps):\n",
    "    "
   ]
  },
  {
   "cell_type": "code",
   "execution_count": 80,
   "metadata": {},
   "outputs": [],
   "source": [
    "def pop_ids(sample_ids, pop):\n",
    "    inds = [ind for ind in sample_ids.keys() if ind.startswith(pop)]\n",
    "    return [sample_ids[ind] for ind in inds]"
   ]
  },
  {
   "cell_type": "code",
   "execution_count": 88,
   "metadata": {},
   "outputs": [],
   "source": [
    "afr_ids = pop_ids(sample_ids, \"afr\")\n",
    "nea_ids = pop_ids(sample_ids, \"nea\")\n",
    "\n",
    "allele_counts = snps.count_alleles_subpops(subpops={\"afr\": afr_ids, \"nea\": nea_ids})"
   ]
  },
  {
   "cell_type": "code",
   "execution_count": 92,
   "metadata": {},
   "outputs": [],
   "source": [
    "afr_freq = allele_counts[\"afr\"] / len(afr_ids)\n",
    "nea_freq = allele_counts[\"nea\"] / len(nea_ids)"
   ]
  },
  {
   "cell_type": "code",
   "execution_count": 107,
   "metadata": {},
   "outputs": [],
   "source": [
    "diff_pos = ((afr_freq[:, 0] == 0) | (afr_freq[:, 0] == 1)) & \\\n",
    "           ((nea_freq[:, 0] == 0) | (nea_freq[:, 0] == 1)) & \\\n",
    "           (abs(afr_freq[:, 0] - nea_freq[:, 0] > 0.5))"
   ]
  },
  {
   "cell_type": "code",
   "execution_count": 118,
   "metadata": {},
   "outputs": [
    {
     "data": {
      "text/html": [
       "<div class=\"allel allel-DisplayAs2D\"><span>&lt;HaplotypeArray shape=(32539, 152) dtype=uint8&gt;</span><table><thead><tr><th></th><th style=\"text-align: center\">0</th><th style=\"text-align: center\">1</th><th style=\"text-align: center\">2</th><th style=\"text-align: center\">3</th><th style=\"text-align: center\">4</th><th style=\"text-align: center\">...</th><th style=\"text-align: center\">147</th><th style=\"text-align: center\">148</th><th style=\"text-align: center\">149</th><th style=\"text-align: center\">150</th><th style=\"text-align: center\">151</th></tr></thead><tbody><tr><th style=\"text-align: center; background-color: white; border-right: 1px solid black; \">0</th><td style=\"text-align: center\">0</td><td style=\"text-align: center\">0</td><td style=\"text-align: center\">0</td><td style=\"text-align: center\">0</td><td style=\"text-align: center\">0</td><td style=\"text-align: center\">...</td><td style=\"text-align: center\">0</td><td style=\"text-align: center\">1</td><td style=\"text-align: center\">1</td><td style=\"text-align: center\">1</td><td style=\"text-align: center\">1</td></tr><tr><th style=\"text-align: center; background-color: white; border-right: 1px solid black; \">1</th><td style=\"text-align: center\">0</td><td style=\"text-align: center\">0</td><td style=\"text-align: center\">0</td><td style=\"text-align: center\">0</td><td style=\"text-align: center\">0</td><td style=\"text-align: center\">...</td><td style=\"text-align: center\">0</td><td style=\"text-align: center\">1</td><td style=\"text-align: center\">1</td><td style=\"text-align: center\">1</td><td style=\"text-align: center\">1</td></tr><tr><th style=\"text-align: center; background-color: white; border-right: 1px solid black; \">2</th><td style=\"text-align: center\">0</td><td style=\"text-align: center\">0</td><td style=\"text-align: center\">0</td><td style=\"text-align: center\">0</td><td style=\"text-align: center\">0</td><td style=\"text-align: center\">...</td><td style=\"text-align: center\">0</td><td style=\"text-align: center\">1</td><td style=\"text-align: center\">1</td><td style=\"text-align: center\">1</td><td style=\"text-align: center\">1</td></tr><tr><th style=\"text-align: center; background-color: white; border-right: 1px solid black; \">...</th><td style=\"text-align: center\" colspan=\"12\">...</td></tr><tr><th style=\"text-align: center; background-color: white; border-right: 1px solid black; \">32536</th><td style=\"text-align: center\">0</td><td style=\"text-align: center\">0</td><td style=\"text-align: center\">0</td><td style=\"text-align: center\">0</td><td style=\"text-align: center\">0</td><td style=\"text-align: center\">...</td><td style=\"text-align: center\">0</td><td style=\"text-align: center\">1</td><td style=\"text-align: center\">1</td><td style=\"text-align: center\">1</td><td style=\"text-align: center\">1</td></tr><tr><th style=\"text-align: center; background-color: white; border-right: 1px solid black; \">32537</th><td style=\"text-align: center\">0</td><td style=\"text-align: center\">0</td><td style=\"text-align: center\">0</td><td style=\"text-align: center\">0</td><td style=\"text-align: center\">0</td><td style=\"text-align: center\">...</td><td style=\"text-align: center\">0</td><td style=\"text-align: center\">1</td><td style=\"text-align: center\">1</td><td style=\"text-align: center\">1</td><td style=\"text-align: center\">1</td></tr><tr><th style=\"text-align: center; background-color: white; border-right: 1px solid black; \">32538</th><td style=\"text-align: center\">0</td><td style=\"text-align: center\">0</td><td style=\"text-align: center\">0</td><td style=\"text-align: center\">0</td><td style=\"text-align: center\">0</td><td style=\"text-align: center\">...</td><td style=\"text-align: center\">0</td><td style=\"text-align: center\">1</td><td style=\"text-align: center\">1</td><td style=\"text-align: center\">1</td><td style=\"text-align: center\">1</td></tr></tbody></table></div>"
      ],
      "text/plain": [
       "<HaplotypeArray shape=(32539, 152) dtype=uint8>\n",
       "0 0 0 0 0 ... 0 1 1 1 1\n",
       "0 0 0 0 0 ... 0 1 1 1 1\n",
       "0 0 0 0 0 ... 0 1 1 1 1\n",
       "...\n",
       "0 0 0 0 0 ... 0 1 1 1 1\n",
       "0 0 0 0 0 ... 0 1 1 1 1\n",
       "0 0 0 0 0 ... 0 1 1 1 1"
      ]
     },
     "execution_count": 118,
     "metadata": {},
     "output_type": "execute_result"
    }
   ],
   "source": [
    "admix_array = snps[diff_pos]\n",
    "admix_array"
   ]
  },
  {
   "cell_type": "code",
   "execution_count": null,
   "metadata": {},
   "outputs": [],
   "source": []
  },
  {
   "cell_type": "code",
   "execution_count": 122,
   "metadata": {},
   "outputs": [
    {
     "data": {
      "text/plain": [
       "0.040413042810166264"
      ]
     },
     "execution_count": 122,
     "metadata": {},
     "output_type": "execute_result"
    }
   ],
   "source": [
    "(admix_array[:, sample_ids[\"eur0\"]] == admix_array[:, sample_ids[\"nea0\"]]).mean()"
   ]
  },
  {
   "cell_type": "code",
   "execution_count": null,
   "metadata": {},
   "outputs": [],
   "source": []
  },
  {
   "cell_type": "code",
   "execution_count": null,
   "metadata": {},
   "outputs": [],
   "source": []
  },
  {
   "cell_type": "code",
   "execution_count": null,
   "metadata": {},
   "outputs": [],
   "source": []
  },
  {
   "cell_type": "code",
   "execution_count": null,
   "metadata": {},
   "outputs": [],
   "source": []
  },
  {
   "cell_type": "code",
   "execution_count": 62,
   "metadata": {},
   "outputs": [
    {
     "data": {
      "text/html": [
       "<div class=\"allel allel-DisplayAs2D\"><span>&lt;HaplotypeArray shape=(803374, 2) dtype=uint8&gt;</span><table><thead><tr><th></th><th style=\"text-align: center\">0</th><th style=\"text-align: center\">1</th></tr></thead><tbody><tr><th style=\"text-align: center; background-color: white; border-right: 1px solid black; \">0</th><td style=\"text-align: center\">0</td><td style=\"text-align: center\">0</td></tr><tr><th style=\"text-align: center; background-color: white; border-right: 1px solid black; \">1</th><td style=\"text-align: center\">0</td><td style=\"text-align: center\">0</td></tr><tr><th style=\"text-align: center; background-color: white; border-right: 1px solid black; \">2</th><td style=\"text-align: center\">1</td><td style=\"text-align: center\">1</td></tr><tr><th style=\"text-align: center; background-color: white; border-right: 1px solid black; \">...</th><td style=\"text-align: center\" colspan=\"3\">...</td></tr><tr><th style=\"text-align: center; background-color: white; border-right: 1px solid black; \">803371</th><td style=\"text-align: center\">1</td><td style=\"text-align: center\">1</td></tr><tr><th style=\"text-align: center; background-color: white; border-right: 1px solid black; \">803372</th><td style=\"text-align: center\">0</td><td style=\"text-align: center\">0</td></tr><tr><th style=\"text-align: center; background-color: white; border-right: 1px solid black; \">803373</th><td style=\"text-align: center\">0</td><td style=\"text-align: center\">1</td></tr></tbody></table></div>"
      ],
      "text/plain": [
       "<HaplotypeArray shape=(803374, 2) dtype=uint8>\n",
       "0 0\n",
       "0 0\n",
       "1 1\n",
       "...\n",
       "1 1\n",
       "0 0\n",
       "0 1"
      ]
     },
     "execution_count": 62,
     "metadata": {},
     "output_type": "execute_result"
    }
   ],
   "source": [
    "snps[:, [sample_ids[\"afr0\"], sample_ids[\"afr1\"]]]"
   ]
  },
  {
   "cell_type": "code",
   "execution_count": 19,
   "metadata": {},
   "outputs": [],
   "source": [
    "sample_ids = {s: i for i, s in enumerate([\"chimp\" + str(i) for i in range(n_CH)] +\n",
    "                                         [\"afr\" + str(i) for i in range(n_AFR)] +\n",
    "                                         [\"eur\" + str(i) for i in range(n_EUR)] +\n",
    "                                         [\"nea\" + str(i) for i in range(n_NEA)])}"
   ]
  },
  {
   "cell_type": "code",
   "execution_count": 45,
   "metadata": {},
   "outputs": [],
   "source": [
    "def average_patterson_f4(aca, acb, acc, acd, blen):\n",
    "    # calculate per-variant values\n",
    "    num, den = allel.patterson_d(aca, acb, acc, acd)\n",
    "\n",
    "    # N.B., nans can occur if any of the populations have completely missing\n",
    "    # genotype calls at a variant (i.e., allele number is zero). Here we\n",
    "    # assume that is rare enough to be negligible.\n",
    "\n",
    "    # calculate overall estimate\n",
    "    num_avg = np.nansum(num)\n",
    "\n",
    "    # compute the numerator and denominator within each block\n",
    "    num_bsum = allel.moving_statistic(num, statistic=np.nansum, size=blen)\n",
    "\n",
    "    # estimate standard error\n",
    "    _, se, vj = allel.stats.misc.jackknife(num_bsum, statistic=lambda n: np.sum(n))\n",
    "\n",
    "    # compute Z score\n",
    "    z = num_avg / se\n",
    "\n",
    "    return num_avg, z"
   ]
  },
  {
   "cell_type": "code",
   "execution_count": 34,
   "metadata": {},
   "outputs": [],
   "source": [
    "def dstat(a, b, c, d):\n",
    "    aca = snps.count_alleles(subpop=[sample_ids[a]])\n",
    "    acb = snps.count_alleles(subpop=[sample_ids[b]])\n",
    "    acc = snps.count_alleles(subpop=[sample_ids[c]])\n",
    "    acd = snps.count_alleles(subpop=[sample_ids[d]])\n",
    "    d, se, z, vb, vj = allel.average_patterson_d(aca, acb, acc, acd, 10_000)\n",
    "    return d, z"
   ]
  },
  {
   "cell_type": "code",
   "execution_count": 49,
   "metadata": {},
   "outputs": [],
   "source": [
    "def f4(a, b, c, d):\n",
    "    aca = snps.count_alleles(subpop=[sample_ids[a]])\n",
    "    acb = snps.count_alleles(subpop=[sample_ids[b]])\n",
    "    acc = snps.count_alleles(subpop=[sample_ids[c]])\n",
    "    acd = snps.count_alleles(subpop=[sample_ids[d]])\n",
    "    num, _ = allel.patterson_d(aca, acb, acc, acd)\n",
    "    return np.mean(num)"
   ]
  },
  {
   "cell_type": "code",
   "execution_count": 41,
   "metadata": {},
   "outputs": [],
   "source": [
    "def f4_ratio(x, a, b, c, d):\n",
    "    acx = snps.count_alleles(subpop=[sample_ids[x]])\n",
    "    aca = snps.count_alleles(subpop=[sample_ids[a]])\n",
    "    acb = snps.count_alleles(subpop=[sample_ids[b]])\n",
    "    acc = snps.count_alleles(subpop=[sample_ids[c]])\n",
    "    acd = snps.count_alleles(subpop=[sample_ids[d]])\n",
    "    \n",
    "    f4num, _   = average_patterson_f4(aca, acd, acx, acc, 10000)\n",
    "    d2f4den, _ = average_patterson_f4(aca, acd, acb, acd, 10000)\n",
    "\n",
    "    return f4num / d2f4den"
   ]
  },
  {
   "cell_type": "code",
   "execution_count": 36,
   "metadata": {},
   "outputs": [
    {
     "data": {
      "text/plain": [
       "(0.3163894023413432, 7.954536060052858)"
      ]
     },
     "execution_count": 36,
     "metadata": {},
     "output_type": "execute_result"
    }
   ],
   "source": [
    "d(\"eur1\", \"afr0\", \"nea0\", \"chimp0\")"
   ]
  },
  {
   "cell_type": "code",
   "execution_count": 37,
   "metadata": {},
   "outputs": [
    {
     "data": {
      "text/plain": [
       "(0.03297644539614561, 0.6205610358085286)"
      ]
     },
     "execution_count": 37,
     "metadata": {},
     "output_type": "execute_result"
    }
   ],
   "source": [
    "d(\"eur1\", \"eur2\", \"nea0\", \"chimp0\")"
   ]
  },
  {
   "cell_type": "code",
   "execution_count": 48,
   "metadata": {},
   "outputs": [
    {
     "data": {
      "text/plain": [
       "0.0029530948161319128"
      ]
     },
     "execution_count": 48,
     "metadata": {},
     "output_type": "execute_result"
    }
   ],
   "source": [
    "f4_ratio(\"eur0\", \"nea0\", \"nea1\", \"afr0\", \"chimp0\")"
   ]
  },
  {
   "cell_type": "code",
   "execution_count": 54,
   "metadata": {},
   "outputs": [],
   "source": [
    "x = np.array([f4(\"nea0\", \"chimp0\", \"eur\" + str(i), \"afr0\") / f4(\"nea0\", \"chimp0\", \"nea1\", \"afr0\") for i in range(n_EUR)])"
   ]
  },
  {
   "cell_type": "code",
   "execution_count": 56,
   "metadata": {},
   "outputs": [
    {
     "data": {
      "text/plain": [
       "0.04005069763223921"
      ]
     },
     "execution_count": 56,
     "metadata": {},
     "output_type": "execute_result"
    }
   ],
   "source": [
    "x.mean()"
   ]
  }
 ],
 "metadata": {
  "kernelspec": {
   "display_name": "Python 3",
   "language": "python",
   "name": "python3"
  },
  "language_info": {
   "codemirror_mode": {
    "name": "ipython",
    "version": 3
   },
   "file_extension": ".py",
   "mimetype": "text/x-python",
   "name": "python",
   "nbconvert_exporter": "python",
   "pygments_lexer": "ipython3",
   "version": "3.6.4"
  }
 },
 "nbformat": 4,
 "nbformat_minor": 2
}
