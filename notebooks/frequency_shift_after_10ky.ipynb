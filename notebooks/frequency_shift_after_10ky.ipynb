{
 "cells": [
  {
   "cell_type": "markdown",
   "metadata": {
    "ein.tags": [
     "worksheet-0"
    ],
    "slideshow": {
     "slide_type": "-"
    }
   },
   "source": [
    "Looking for the most likely cause of the decrease in Nea. % over the last 10 thousand years.\n",
    "\n",
    "This is the time period for which we have 6 higher coverage EMHs, all from around 8 kya.\n",
    "\n",
    "Main idea - if we restrict to super-neutral sites and we see shift in the distribution of Nea. allele frequencies, this is an evidence of migration.\n",
    "\n",
    "If we see a significant shift at non-neutral sites *beyond* of what is observed on the super-neutral sites, this can be interpreted as selection.\n",
    "\n",
    "*Why would this work?* After > 40k years after introgression, the individual blocks should be broken down enough so that we can stop worrying about linkage so much. We can therefore have a better idea of which SNPs are super-neutral, compared to early EMHs where, due to longer haplotypes, filtering for superneutral SNPs is problematic (i.e. how far from the informative site we want to filter potential conserved regions?)\n",
    "\n",
    "**TODO:** Calculate the expected length of Nea. haplotype over time to justify this. (_\"One of the issues with modelling selection against Nea. alleles is the fact that at the time of introgression they introgressed on shared haplotypes. Therefore, the process of selection against Nea. alleles cannot be modeled under an assumption of independent sites, for example using a diffusion approximation method. Moreover, as the length of Nea. haplotypes decays over time, the linkage between these alleles is decreasing, until, at some point, each Nea. haplotype carries approximately only single allele. To circumvent the issue, we focused on samples younger than ~8kya, which is the time point at which it is reasonable to assume that most of the Nea. deleterious alleles are segregating independently of each other.\"_)\n",
    "\n",
    "**TODO**: Would it make sense to use the BAM files of the later EMHs and aggregate all the available reads to have a better idea of the actual Nea. introgressed allele frequencies or would it be too much effort?\n",
    "\n",
    "**TODO**: Make sure to use only sites for which you have sites available from all later EMHs?"
   ]
  },
  {
   "cell_type": "code",
   "execution_count": 131,
   "metadata": {
    "autoscroll": "json-false",
    "collapsed": true,
    "ein.tags": [
     "worksheet-0"
    ],
    "slideshow": {
     "slide_type": "-"
    }
   },
   "outputs": [],
   "source": [
    "suppressPackageStartupMessages({\n",
    "    library(tidyverse);\n",
    "    library(stringr);\n",
    "    library(magrittr);\n",
    "    library(modelr);\n",
    "    library(broom);\n",
    "    library(purrr)\n",
    "})\n",
    "\n",
    "source(\"../R/utils.R\")"
   ]
  },
  {
   "cell_type": "code",
   "execution_count": 132,
   "metadata": {
    "autoscroll": "json-false",
    "collapsed": true,
    "ein.tags": [
     "worksheet-0"
    ],
    "slideshow": {
     "slide_type": "-"
    }
   },
   "outputs": [],
   "source": [
    "files <- list.files(\"../clean_data/annotations/\", pattern=\"priPhCons__100000bp.bed\", full.names=TRUE)\n",
    "\n",
    "window_avgs_long <- lapply(files, function(f) {\n",
    "    read.table(f, header=FALSE) %>%\n",
    "        .[1:4] %>%\n",
    "        setNames(c(\"chrom\", \"start\", \"end\", \"value\")) %>%\n",
    "        mutate(track=str_replace(basename(f), \".bed\", \"\"))\n",
    "}) %>%\n",
    "    bind_rows %>%\n",
    "    rename(pos=end) %>% \n",
    "    select(-start)\n",
    "\n",
    "window_avgs_wide <- spread(window_avgs_long, track, value)"
   ]
  },
  {
   "cell_type": "code",
   "execution_count": 133,
   "metadata": {
    "autoscroll": "json-false",
    "ein.tags": [
     "worksheet-0"
    ],
    "slideshow": {
     "slide_type": "-"
    }
   },
   "outputs": [
    {
     "name": "stderr",
     "output_type": "stream",
     "text": [
      "Warning message:\n",
      "“673 parsing failures.\n",
      "row # A tibble: 5 x 4 col     row            col               expected  actual expected   <int>          <chr>                  <chr>   <chr> actual 1  2136 mapAbility35bp no trailing characters      .5 row 2  4607 mapAbility35bp no trailing characters .333333 col 3  5028 mapAbility35bp no trailing characters      .5 expected 4  5379 mapAbility35bp no trailing characters      .5 actual 5  5819 mapAbility35bp no trailing characters      .5\n",
      "... ................. ... ..................................................... ........ ..................................................... ...... ..................................................... ... ..................................................... ... ..................................................... ........ ..................................................... ...... .....................................................\n",
      "See problems(...) for more details.\n",
      "”"
     ]
    }
   ],
   "source": [
    "suppressMessages(\n",
    "    cadd_wide <-\n",
    "        load_annotations(\"../clean_data/annotations.tsv\") %>%\n",
    "        select(chrom, pos, bStatistic, Consequence, AnnoType)\n",
    ")"
   ]
  },
  {
   "cell_type": "code",
   "execution_count": 134,
   "metadata": {
    "autoscroll": "json-false",
    "ein.tags": [
     "worksheet-0"
    ],
    "slideshow": {
     "slide_type": "-"
    }
   },
   "outputs": [
    {
     "name": "stderr",
     "output_type": "stream",
     "text": [
      "Joining, by = c(\"chrom\", \"pos\")\n"
     ]
    }
   ],
   "source": [
    "all_annots_wide <- inner_join(window_avgs_wide, cadd_wide)"
   ]
  },
  {
   "cell_type": "code",
   "execution_count": 135,
   "metadata": {
    "autoscroll": "json-false",
    "ein.tags": [
     "worksheet-0"
    ],
    "slideshow": {
     "slide_type": "-"
    }
   },
   "outputs": [
    {
     "data": {
      "text/html": [
       "<ol class=list-inline>\n",
       "\t<li>'priPhCons__100000bp'</li>\n",
       "\t<li>'bStatistic'</li>\n",
       "\t<li>'Consequence'</li>\n",
       "\t<li>'AnnoType'</li>\n",
       "</ol>\n"
      ],
      "text/latex": [
       "\\begin{enumerate*}\n",
       "\\item 'priPhCons\\_\\_100000bp'\n",
       "\\item 'bStatistic'\n",
       "\\item 'Consequence'\n",
       "\\item 'AnnoType'\n",
       "\\end{enumerate*}\n"
      ],
      "text/markdown": [
       "1. 'priPhCons__100000bp'\n",
       "2. 'bStatistic'\n",
       "3. 'Consequence'\n",
       "4. 'AnnoType'\n",
       "\n",
       "\n"
      ],
      "text/plain": [
       "[1] \"priPhCons__100000bp\" \"bStatistic\"          \"Consequence\"        \n",
       "[4] \"AnnoType\"           "
      ]
     },
     "metadata": {},
     "output_type": "display_data"
    }
   ],
   "source": [
    "colnames(all_annots_wide)[3:ncol(all_annots_wide)]"
   ]
  },
  {
   "cell_type": "code",
   "execution_count": 136,
   "metadata": {
    "autoscroll": "json-false",
    "ein.tags": [
     "worksheet-0"
    ],
    "slideshow": {
     "slide_type": "-"
    }
   },
   "outputs": [
    {
     "data": {
      "text/plain": [
       "\n",
       "   CodingTranscript          Intergenic NonCodingTranscript   RegulatoryFeature \n",
       "               8275              440179                8398              100604 \n",
       "         Transcript \n",
       "             387901 "
      ]
     },
     "metadata": {},
     "output_type": "display_data"
    }
   ],
   "source": [
    "table(all_annots_wide$AnnoType)"
   ]
  },
  {
   "cell_type": "code",
   "execution_count": 137,
   "metadata": {
    "autoscroll": "json-false",
    "ein.tags": [
     "worksheet-0"
    ],
    "slideshow": {
     "slide_type": "-"
    }
   },
   "outputs": [
    {
     "name": "stderr",
     "output_type": "stream",
     "text": [
      "Parsed with column specification:\n",
      "cols(\n",
      "  .default = col_integer(),\n",
      "  ref = col_character(),\n",
      "  alt = col_character()\n",
      ")\n",
      "See spec(...) for full column specifications.\n",
      "Warning message:\n",
      "“Missing column names filled in: 'X12' [12], 'X13' [13], 'X14' [14], 'X15' [15], 'X16' [16], 'X17' [17], 'X18' [18], 'X19' [19], 'X20' [20], 'X21' [21], 'X22' [22], 'X23' [23], 'X24' [24]”Parsed with column specification:\n",
      "cols(\n",
      "  .default = col_character(),\n",
      "  Latitude = col_double(),\n",
      "  Longitude = col_double(),\n",
      "  Coverage = col_integer(),\n",
      "  HetRateAuto = col_double()\n",
      ")\n",
      "See spec(...) for full column specifications.\n",
      "Parsed with column specification:\n",
      "cols(\n",
      "  .default = col_integer(),\n",
      "  ref = col_character(),\n",
      "  alt = col_character()\n",
      ")\n",
      "See spec(...) for full column specifications.\n",
      "Warning message:\n",
      "“Unknown variables: `S_Australian_1`, `S_Australian_5`”Parsed with column specification:\n",
      "cols(\n",
      "  chrom = col_integer(),\n",
      "  pos = col_integer(),\n",
      "  ref = col_character(),\n",
      "  alt = col_character(),\n",
      "  Altai = col_integer(),\n",
      "  Vindija = col_integer(),\n",
      "  Denisovan = col_integer()\n",
      ")\n",
      "Joining, by = c(\"chrom\", \"pos\", \"ref\", \"alt\")\n",
      "Joining, by = c(\"chrom\", \"pos\", \"ref\", \"alt\")\n",
      "Parsed with column specification:\n",
      "cols(\n",
      "  name = col_character(),\n",
      "  age = col_integer()\n",
      ")\n",
      "Warning message:\n",
      "“Missing column names filled in: 'X12' [12], 'X13' [13], 'X14' [14], 'X15' [15], 'X16' [16], 'X17' [17], 'X18' [18], 'X19' [19], 'X20' [20], 'X21' [21], 'X22' [22], 'X23' [23], 'X24' [24]”Parsed with column specification:\n",
      "cols(\n",
      "  .default = col_character(),\n",
      "  Latitude = col_double(),\n",
      "  Longitude = col_double(),\n",
      "  Coverage = col_integer(),\n",
      "  HetRateAuto = col_double()\n",
      ")\n",
      "See spec(...) for full column specifications.\n"
     ]
    }
   ],
   "source": [
    "# read processed SNP tables of aDNA samples and SGDP individuals,\n",
    "# merge them and intersect them with the annotations data\n",
    "all_snps <- load_dataset(\"../clean_data/ice_age.tsv\",\n",
    "                         \"../clean_data/sgdp.tsv\",\n",
    "                         \"../clean_data/archaics.tsv\",\n",
    "                         filter_damage=FALSE,\n",
    "                         metadata_path=\"../raw_data/10_24_2014_SGDP_metainformation_update.txt\",\n",
    "                         random_sample=T)\n",
    "\n",
    "emh_info <- # filter out high C-T samples (mainly non-UDG treated ones and weird library preps)\n",
    "  read_delim(\"../clean_data/ages.txt\", delim=\" \") %>%\n",
    "  mutate(pop=\"EMH_Europe\") %>%\n",
    "  filter(name %in% colnames(all_snps),\n",
    "         ! name %in% c(\"AfontovaGora3\", \"GoyetQ116_1\", \"Kotias\", \"Oase1\", \"Satsurblia\", \"Villabruna\")) %>%\n",
    "  filter(age < 10000)\n",
    "  \n",
    "\n",
    "# process the SGDP metainformation table\n",
    "sgdp_info <-\n",
    "  load_sgdp_info(\"../raw_data/10_24_2014_SGDP_metainformation_update.txt\") %>%\n",
    "  mutate(name=str_replace(name, \"^S_\", \"\")) %>%\n",
    "  filter(name %in% colnames(all_snps)) %>%\n",
    "  mutate(age=0) %>%\n",
    "  rename(pop=Region) %>%\n",
    "  filter(pop == \"WestEurasia\") %>%\n",
    "  mutate(pop=\"present_Europe\") %>% \n",
    "  filter(! Country %in% c('Iran', 'Iraq', 'Jordan', 'Israel(Central)',\n",
    "                          'Israel(Carmel)', 'Israel(Negev)', 'Israel', 'Tajikistan', 'Turkey', 'Yemen',\n",
    "                          'Abkhazia', 'Armenia')) #%>% \n",
    "  #sample_n(size=nrow(emh_info))\n",
    "\n",
    "samples_info <-\n",
    "  bind_rows(emh_info, sgdp_info) %>%\n",
    "  mutate(post_admixture=55000 - age)"
   ]
  },
  {
   "cell_type": "code",
   "execution_count": 138,
   "metadata": {},
   "outputs": [
    {
     "data": {
      "text/html": [
       "484016"
      ],
      "text/latex": [
       "484016"
      ],
      "text/markdown": [
       "484016"
      ],
      "text/plain": [
       "[1] 484016"
      ]
     },
     "metadata": {},
     "output_type": "display_data"
    }
   ],
   "source": [
    "nrow(all_snps)"
   ]
  },
  {
   "cell_type": "code",
   "execution_count": 139,
   "metadata": {
    "autoscroll": "json-false",
    "ein.tags": [
     "worksheet-0"
    ],
    "slideshow": {
     "slide_type": "-"
    }
   },
   "outputs": [
    {
     "data": {
      "text/html": [
       "<table>\n",
       "<thead><tr><th scope=col>pop</th><th scope=col>n</th></tr></thead>\n",
       "<tbody>\n",
       "\t<tr><td>EMH_Europe    </td><td> 6            </td></tr>\n",
       "\t<tr><td>present_Europe</td><td>43            </td></tr>\n",
       "</tbody>\n",
       "</table>\n"
      ],
      "text/latex": [
       "\\begin{tabular}{r|ll}\n",
       " pop & n\\\\\n",
       "\\hline\n",
       "\t EMH\\_Europe     &  6              \\\\\n",
       "\t present\\_Europe & 43              \\\\\n",
       "\\end{tabular}\n"
      ],
      "text/markdown": [
       "\n",
       "pop | n | \n",
       "|---|---|\n",
       "| EMH_Europe     |  6             | \n",
       "| present_Europe | 43             | \n",
       "\n",
       "\n"
      ],
      "text/plain": [
       "  pop            n \n",
       "1 EMH_Europe      6\n",
       "2 present_Europe 43"
      ]
     },
     "metadata": {},
     "output_type": "display_data"
    }
   ],
   "source": [
    "samples_info %>% group_by(pop) %>% count()"
   ]
  },
  {
   "cell_type": "code",
   "execution_count": 140,
   "metadata": {
    "autoscroll": "json-false",
    "ein.tags": [
     "worksheet-0"
    ],
    "slideshow": {
     "slide_type": "-"
    }
   },
   "outputs": [
    {
     "data": {
      "text/html": [
       "<table>\n",
       "<thead><tr><th scope=col>name</th><th scope=col>age</th><th scope=col>pop</th></tr></thead>\n",
       "<tbody>\n",
       "\t<tr><td>Karelia      </td><td>8375         </td><td>EMH_Europe   </td></tr>\n",
       "\t<tr><td>Loschbour    </td><td>8050         </td><td>EMH_Europe   </td></tr>\n",
       "\t<tr><td>LaBrana1     </td><td>7815         </td><td>EMH_Europe   </td></tr>\n",
       "\t<tr><td>Hungarian_KO1</td><td>7660         </td><td>EMH_Europe   </td></tr>\n",
       "\t<tr><td>Motala12     </td><td>7625         </td><td>EMH_Europe   </td></tr>\n",
       "\t<tr><td>Stuttgart    </td><td>7140         </td><td>EMH_Europe   </td></tr>\n",
       "</tbody>\n",
       "</table>\n"
      ],
      "text/latex": [
       "\\begin{tabular}{r|lll}\n",
       " name & age & pop\\\\\n",
       "\\hline\n",
       "\t Karelia       & 8375          & EMH\\_Europe \\\\\n",
       "\t Loschbour     & 8050          & EMH\\_Europe \\\\\n",
       "\t LaBrana1      & 7815          & EMH\\_Europe \\\\\n",
       "\t Hungarian\\_KO1 & 7660            & EMH\\_Europe   \\\\\n",
       "\t Motala12      & 7625          & EMH\\_Europe \\\\\n",
       "\t Stuttgart     & 7140          & EMH\\_Europe \\\\\n",
       "\\end{tabular}\n"
      ],
      "text/markdown": [
       "\n",
       "name | age | pop | \n",
       "|---|---|---|---|---|---|\n",
       "| Karelia       | 8375          | EMH_Europe    | \n",
       "| Loschbour     | 8050          | EMH_Europe    | \n",
       "| LaBrana1      | 7815          | EMH_Europe    | \n",
       "| Hungarian_KO1 | 7660          | EMH_Europe    | \n",
       "| Motala12      | 7625          | EMH_Europe    | \n",
       "| Stuttgart     | 7140          | EMH_Europe    | \n",
       "\n",
       "\n"
      ],
      "text/plain": [
       "  name          age  pop       \n",
       "1 Karelia       8375 EMH_Europe\n",
       "2 Loschbour     8050 EMH_Europe\n",
       "3 LaBrana1      7815 EMH_Europe\n",
       "4 Hungarian_KO1 7660 EMH_Europe\n",
       "5 Motala12      7625 EMH_Europe\n",
       "6 Stuttgart     7140 EMH_Europe"
      ]
     },
     "metadata": {},
     "output_type": "display_data"
    }
   ],
   "source": [
    "select(filter(samples_info, pop == \"EMH_Europe\"), name, age, pop)"
   ]
  },
  {
   "cell_type": "code",
   "execution_count": 141,
   "metadata": {
    "autoscroll": "json-false",
    "ein.tags": [
     "worksheet-0"
    ],
    "slideshow": {
     "slide_type": "-"
    }
   },
   "outputs": [
    {
     "data": {
      "text/html": [
       "<ol class=list-inline>\n",
       "\t<li>'Abkhasian_2'</li>\n",
       "\t<li>'Adygei_1'</li>\n",
       "\t<li>'Adygei_2'</li>\n",
       "\t<li>'Albanian_1'</li>\n",
       "\t<li>'Basque_1'</li>\n",
       "\t<li>'Basque_2'</li>\n",
       "\t<li>'Bergamo_2'</li>\n",
       "\t<li>'Bulgarian_1'</li>\n",
       "\t<li>'Bulgarian_2'</li>\n",
       "\t<li>'Chechen_1'</li>\n",
       "\t<li>'Czech_2'</li>\n",
       "\t<li>'English_1'</li>\n",
       "\t<li>'English_2'</li>\n",
       "\t<li>'Estonian_1'</li>\n",
       "\t<li>'Estonian_2'</li>\n",
       "\t<li>'Finnish_1'</li>\n",
       "\t<li>'Finnish_2'</li>\n",
       "\t<li>'Finnish_3'</li>\n",
       "\t<li>'French_1'</li>\n",
       "\t<li>'French_2'</li>\n",
       "\t<li>'Georgian_1'</li>\n",
       "\t<li>'Georgian_2'</li>\n",
       "\t<li>'Greek_1'</li>\n",
       "\t<li>'Greek_2'</li>\n",
       "\t<li>'Hungarian_1'</li>\n",
       "\t<li>'Hungarian_2'</li>\n",
       "\t<li>'Icelandic_1'</li>\n",
       "\t<li>'Icelandic_2'</li>\n",
       "\t<li>'Lezgin_1'</li>\n",
       "\t<li>'Lezgin_2'</li>\n",
       "\t<li>'North_Ossetian_1'</li>\n",
       "\t<li>'North_Ossetian_2'</li>\n",
       "\t<li>'Orcadian_1'</li>\n",
       "\t<li>'Orcadian_2'</li>\n",
       "\t<li>'Polish_1'</li>\n",
       "\t<li>'Russian_1'</li>\n",
       "\t<li>'Russian_2'</li>\n",
       "\t<li>'Sardinian_1'</li>\n",
       "\t<li>'Sardinian_2'</li>\n",
       "\t<li>'Spanish_1'</li>\n",
       "\t<li>'Spanish_2'</li>\n",
       "\t<li>'Tuscan_1'</li>\n",
       "\t<li>'Tuscan_2'</li>\n",
       "</ol>\n"
      ],
      "text/latex": [
       "\\begin{enumerate*}\n",
       "\\item 'Abkhasian\\_2'\n",
       "\\item 'Adygei\\_1'\n",
       "\\item 'Adygei\\_2'\n",
       "\\item 'Albanian\\_1'\n",
       "\\item 'Basque\\_1'\n",
       "\\item 'Basque\\_2'\n",
       "\\item 'Bergamo\\_2'\n",
       "\\item 'Bulgarian\\_1'\n",
       "\\item 'Bulgarian\\_2'\n",
       "\\item 'Chechen\\_1'\n",
       "\\item 'Czech\\_2'\n",
       "\\item 'English\\_1'\n",
       "\\item 'English\\_2'\n",
       "\\item 'Estonian\\_1'\n",
       "\\item 'Estonian\\_2'\n",
       "\\item 'Finnish\\_1'\n",
       "\\item 'Finnish\\_2'\n",
       "\\item 'Finnish\\_3'\n",
       "\\item 'French\\_1'\n",
       "\\item 'French\\_2'\n",
       "\\item 'Georgian\\_1'\n",
       "\\item 'Georgian\\_2'\n",
       "\\item 'Greek\\_1'\n",
       "\\item 'Greek\\_2'\n",
       "\\item 'Hungarian\\_1'\n",
       "\\item 'Hungarian\\_2'\n",
       "\\item 'Icelandic\\_1'\n",
       "\\item 'Icelandic\\_2'\n",
       "\\item 'Lezgin\\_1'\n",
       "\\item 'Lezgin\\_2'\n",
       "\\item 'North\\_Ossetian\\_1'\n",
       "\\item 'North\\_Ossetian\\_2'\n",
       "\\item 'Orcadian\\_1'\n",
       "\\item 'Orcadian\\_2'\n",
       "\\item 'Polish\\_1'\n",
       "\\item 'Russian\\_1'\n",
       "\\item 'Russian\\_2'\n",
       "\\item 'Sardinian\\_1'\n",
       "\\item 'Sardinian\\_2'\n",
       "\\item 'Spanish\\_1'\n",
       "\\item 'Spanish\\_2'\n",
       "\\item 'Tuscan\\_1'\n",
       "\\item 'Tuscan\\_2'\n",
       "\\end{enumerate*}\n"
      ],
      "text/markdown": [
       "1. 'Abkhasian_2'\n",
       "2. 'Adygei_1'\n",
       "3. 'Adygei_2'\n",
       "4. 'Albanian_1'\n",
       "5. 'Basque_1'\n",
       "6. 'Basque_2'\n",
       "7. 'Bergamo_2'\n",
       "8. 'Bulgarian_1'\n",
       "9. 'Bulgarian_2'\n",
       "10. 'Chechen_1'\n",
       "11. 'Czech_2'\n",
       "12. 'English_1'\n",
       "13. 'English_2'\n",
       "14. 'Estonian_1'\n",
       "15. 'Estonian_2'\n",
       "16. 'Finnish_1'\n",
       "17. 'Finnish_2'\n",
       "18. 'Finnish_3'\n",
       "19. 'French_1'\n",
       "20. 'French_2'\n",
       "21. 'Georgian_1'\n",
       "22. 'Georgian_2'\n",
       "23. 'Greek_1'\n",
       "24. 'Greek_2'\n",
       "25. 'Hungarian_1'\n",
       "26. 'Hungarian_2'\n",
       "27. 'Icelandic_1'\n",
       "28. 'Icelandic_2'\n",
       "29. 'Lezgin_1'\n",
       "30. 'Lezgin_2'\n",
       "31. 'North_Ossetian_1'\n",
       "32. 'North_Ossetian_2'\n",
       "33. 'Orcadian_1'\n",
       "34. 'Orcadian_2'\n",
       "35. 'Polish_1'\n",
       "36. 'Russian_1'\n",
       "37. 'Russian_2'\n",
       "38. 'Sardinian_1'\n",
       "39. 'Sardinian_2'\n",
       "40. 'Spanish_1'\n",
       "41. 'Spanish_2'\n",
       "42. 'Tuscan_1'\n",
       "43. 'Tuscan_2'\n",
       "\n",
       "\n"
      ],
      "text/plain": [
       " [1] \"Abkhasian_2\"      \"Adygei_1\"         \"Adygei_2\"         \"Albanian_1\"      \n",
       " [5] \"Basque_1\"         \"Basque_2\"         \"Bergamo_2\"        \"Bulgarian_1\"     \n",
       " [9] \"Bulgarian_2\"      \"Chechen_1\"        \"Czech_2\"          \"English_1\"       \n",
       "[13] \"English_2\"        \"Estonian_1\"       \"Estonian_2\"       \"Finnish_1\"       \n",
       "[17] \"Finnish_2\"        \"Finnish_3\"        \"French_1\"         \"French_2\"        \n",
       "[21] \"Georgian_1\"       \"Georgian_2\"       \"Greek_1\"          \"Greek_2\"         \n",
       "[25] \"Hungarian_1\"      \"Hungarian_2\"      \"Icelandic_1\"      \"Icelandic_2\"     \n",
       "[29] \"Lezgin_1\"         \"Lezgin_2\"         \"North_Ossetian_1\" \"North_Ossetian_2\"\n",
       "[33] \"Orcadian_1\"       \"Orcadian_2\"       \"Polish_1\"         \"Russian_1\"       \n",
       "[37] \"Russian_2\"        \"Sardinian_1\"      \"Sardinian_2\"      \"Spanish_1\"       \n",
       "[41] \"Spanish_2\"        \"Tuscan_1\"         \"Tuscan_2\"        "
      ]
     },
     "metadata": {},
     "output_type": "display_data"
    }
   ],
   "source": [
    "select(filter(samples_info, pop == \"present_Europe\"), name, age, pop, Country)$name"
   ]
  },
  {
   "cell_type": "markdown",
   "metadata": {
    "ein.tags": [
     "worksheet-0"
    ],
    "slideshow": {
     "slide_type": "-"
    }
   },
   "source": [
    "Filter SNPs for early/present-day  European samples only:"
   ]
  },
  {
   "cell_type": "code",
   "execution_count": 12,
   "metadata": {
    "autoscroll": "json-false",
    "ein.tags": [
     "worksheet-0"
    ],
    "slideshow": {
     "slide_type": "-"
    }
   },
   "outputs": [],
   "source": [
    "eur_snps <- select(all_snps, c(chrom, pos, one_of(as.character(samples_info$name))))"
   ]
  },
  {
   "cell_type": "code",
   "execution_count": 13,
   "metadata": {},
   "outputs": [
    {
     "data": {
      "text/html": [
       "<table>\n",
       "<thead><tr><th scope=col>chrom</th><th scope=col>pos</th><th scope=col>Karelia</th><th scope=col>Loschbour</th><th scope=col>LaBrana1</th><th scope=col>Hungarian_KO1</th><th scope=col>Motala12</th><th scope=col>Stuttgart</th><th scope=col>Spanish_2</th><th scope=col>Spanish_1</th><th scope=col>Finnish_3</th><th scope=col>Bulgarian_2</th><th scope=col>Orcadian_1</th><th scope=col>Bergamo_2</th></tr></thead>\n",
       "<tbody>\n",
       "\t<tr><td>1     </td><td>847983</td><td> 0    </td><td>0     </td><td>0     </td><td> 0    </td><td> 0    </td><td>0     </td><td>0     </td><td>0     </td><td>0     </td><td>0     </td><td>0     </td><td>0     </td></tr>\n",
       "\t<tr><td>1     </td><td>853089</td><td> 0    </td><td>0     </td><td>0     </td><td>NA    </td><td> 0    </td><td>0     </td><td>0     </td><td>0     </td><td>0     </td><td>0     </td><td>0     </td><td>0     </td></tr>\n",
       "\t<tr><td>1     </td><td>853596</td><td>NA    </td><td>0     </td><td>0     </td><td>NA    </td><td>NA    </td><td>0     </td><td>0     </td><td>0     </td><td>0     </td><td>0     </td><td>0     </td><td>0     </td></tr>\n",
       "\t<tr><td>1     </td><td>854793</td><td> 0    </td><td>0     </td><td>0     </td><td>NA    </td><td> 0    </td><td>0     </td><td>0     </td><td>0     </td><td>0     </td><td>0     </td><td>0     </td><td>0     </td></tr>\n",
       "\t<tr><td>1     </td><td>867552</td><td> 0    </td><td>0     </td><td>0     </td><td>NA    </td><td> 0    </td><td>0     </td><td>0     </td><td>0     </td><td>0     </td><td>0     </td><td>0     </td><td>0     </td></tr>\n",
       "\t<tr><td>1     </td><td>871401</td><td>NA    </td><td>0     </td><td>0     </td><td>NA    </td><td> 0    </td><td>0     </td><td>0     </td><td>0     </td><td>0     </td><td>0     </td><td>0     </td><td>0     </td></tr>\n",
       "</tbody>\n",
       "</table>\n"
      ],
      "text/latex": [
       "\\begin{tabular}{r|llllllllllllll}\n",
       " chrom & pos & Karelia & Loschbour & LaBrana1 & Hungarian\\_KO1 & Motala12 & Stuttgart & Spanish\\_2 & Spanish\\_1 & Finnish\\_3 & Bulgarian\\_2 & Orcadian\\_1 & Bergamo\\_2\\\\\n",
       "\\hline\n",
       "\t 1      & 847983 &  0     & 0      & 0      &  0     &  0     & 0      & 0      & 0      & 0      & 0      & 0      & 0     \\\\\n",
       "\t 1      & 853089 &  0     & 0      & 0      & NA     &  0     & 0      & 0      & 0      & 0      & 0      & 0      & 0     \\\\\n",
       "\t 1      & 853596 & NA     & 0      & 0      & NA     & NA     & 0      & 0      & 0      & 0      & 0      & 0      & 0     \\\\\n",
       "\t 1      & 854793 &  0     & 0      & 0      & NA     &  0     & 0      & 0      & 0      & 0      & 0      & 0      & 0     \\\\\n",
       "\t 1      & 867552 &  0     & 0      & 0      & NA     &  0     & 0      & 0      & 0      & 0      & 0      & 0      & 0     \\\\\n",
       "\t 1      & 871401 & NA     & 0      & 0      & NA     &  0     & 0      & 0      & 0      & 0      & 0      & 0      & 0     \\\\\n",
       "\\end{tabular}\n"
      ],
      "text/markdown": [
       "\n",
       "chrom | pos | Karelia | Loschbour | LaBrana1 | Hungarian_KO1 | Motala12 | Stuttgart | Spanish_2 | Spanish_1 | Finnish_3 | Bulgarian_2 | Orcadian_1 | Bergamo_2 | \n",
       "|---|---|---|---|---|---|\n",
       "| 1      | 847983 |  0     | 0      | 0      |  0     |  0     | 0      | 0      | 0      | 0      | 0      | 0      | 0      | \n",
       "| 1      | 853089 |  0     | 0      | 0      | NA     |  0     | 0      | 0      | 0      | 0      | 0      | 0      | 0      | \n",
       "| 1      | 853596 | NA     | 0      | 0      | NA     | NA     | 0      | 0      | 0      | 0      | 0      | 0      | 0      | \n",
       "| 1      | 854793 |  0     | 0      | 0      | NA     |  0     | 0      | 0      | 0      | 0      | 0      | 0      | 0      | \n",
       "| 1      | 867552 |  0     | 0      | 0      | NA     |  0     | 0      | 0      | 0      | 0      | 0      | 0      | 0      | \n",
       "| 1      | 871401 | NA     | 0      | 0      | NA     |  0     | 0      | 0      | 0      | 0      | 0      | 0      | 0      | \n",
       "\n",
       "\n"
      ],
      "text/plain": [
       "  chrom pos    Karelia Loschbour LaBrana1 Hungarian_KO1 Motala12 Stuttgart\n",
       "1 1     847983  0      0         0         0             0       0        \n",
       "2 1     853089  0      0         0        NA             0       0        \n",
       "3 1     853596 NA      0         0        NA            NA       0        \n",
       "4 1     854793  0      0         0        NA             0       0        \n",
       "5 1     867552  0      0         0        NA             0       0        \n",
       "6 1     871401 NA      0         0        NA             0       0        \n",
       "  Spanish_2 Spanish_1 Finnish_3 Bulgarian_2 Orcadian_1 Bergamo_2\n",
       "1 0         0         0         0           0          0        \n",
       "2 0         0         0         0           0          0        \n",
       "3 0         0         0         0           0          0        \n",
       "4 0         0         0         0           0          0        \n",
       "5 0         0         0         0           0          0        \n",
       "6 0         0         0         0           0          0        "
      ]
     },
     "metadata": {},
     "output_type": "display_data"
    }
   ],
   "source": [
    "head(eur_snps)"
   ]
  },
  {
   "cell_type": "markdown",
   "metadata": {},
   "source": [
    "#### What are the counts of missing sites in the EMH data?"
   ]
  },
  {
   "cell_type": "code",
   "execution_count": 14,
   "metadata": {},
   "outputs": [
    {
     "data": {
      "text/plain": [
       ".\n",
       "     0      1      2      3      4      5      6 \n",
       "155614 200980  95373  25168   4010    428   2443 "
      ]
     },
     "metadata": {},
     "output_type": "display_data"
    }
   ],
   "source": [
    "select(eur_snps, Karelia:Stuttgart) %>% apply(1, function(r) sum(is.na(r))) %>% as.vector %>% table"
   ]
  },
  {
   "cell_type": "markdown",
   "metadata": {},
   "source": [
    "#### What is the missing SNP rate in the individual samples?"
   ]
  },
  {
   "cell_type": "code",
   "execution_count": 15,
   "metadata": {},
   "outputs": [
    {
     "data": {},
     "metadata": {},
     "output_type": "display_data"
    },
    {
     "data": {
      "image/png": "[encoded data removed]",
      "text/plain": [
       "plot without title"
      ]
     },
     "metadata": {},
     "output_type": "display_data"
    }
   ],
   "source": [
    "options(repr.plot.width=6, repr.plot.height=2)\n",
    "\n",
    "select(eur_snps, Karelia:Stuttgart) %>%\n",
    "summarise_all(function(i) sum(is.na(i))) %>%\n",
    "gather(sample, missing_snps) %>% \n",
    "ggplot(aes(sample, missing_snps)) + geom_bar(stat=\"identity\")"
   ]
  },
  {
   "cell_type": "markdown",
   "metadata": {},
   "source": [
    "#### What are the counts of missing sites in the present-day data?"
   ]
  },
  {
   "cell_type": "code",
   "execution_count": 16,
   "metadata": {},
   "outputs": [
    {
     "data": {
      "text/plain": [
       ".\n",
       "     0      1      2      3      4      5      6 \n",
       "483543    291     92     41     24     18      7 "
      ]
     },
     "metadata": {},
     "output_type": "display_data"
    }
   ],
   "source": [
    "select(eur_snps, 9:ncol(eur_snps)) %>% apply(1, function(r) sum(is.na(r))) %>% table"
   ]
  },
  {
   "cell_type": "markdown",
   "metadata": {},
   "source": [
    "#### Filter for sites with information from all individuals"
   ]
  },
  {
   "cell_type": "code",
   "execution_count": 17,
   "metadata": {},
   "outputs": [],
   "source": [
    "na_counts <- apply(eur_snps[3:ncol(eur_snps)], 1, function(r) sum(is.na(r)))"
   ]
  },
  {
   "cell_type": "code",
   "execution_count": 18,
   "metadata": {
    "collapsed": true
   },
   "outputs": [],
   "source": [
    "eur_snps <- eur_snps[na_counts == 0, ]"
   ]
  },
  {
   "cell_type": "code",
   "execution_count": 19,
   "metadata": {},
   "outputs": [
    {
     "data": {
      "text/html": [
       "155569"
      ],
      "text/latex": [
       "155569"
      ],
      "text/markdown": [
       "155569"
      ],
      "text/plain": [
       "[1] 155569"
      ]
     },
     "metadata": {},
     "output_type": "display_data"
    }
   ],
   "source": [
    "nrow(eur_snps) "
   ]
  },
  {
   "cell_type": "markdown",
   "metadata": {
    "ein.tags": [
     "worksheet-0"
    ],
    "slideshow": {
     "slide_type": "-"
    }
   },
   "source": [
    "Create a lookup table of sample population assignments:"
   ]
  },
  {
   "cell_type": "code",
   "execution_count": 20,
   "metadata": {
    "autoscroll": "json-false",
    "collapsed": true,
    "ein.tags": [
     "worksheet-0"
    ],
    "slideshow": {
     "slide_type": "-"
    }
   },
   "outputs": [],
   "source": [
    "pop_table <- samples_info$pop\n",
    "names(pop_table) <- samples_info$name"
   ]
  },
  {
   "cell_type": "markdown",
   "metadata": {
    "ein.tags": [
     "worksheet-0"
    ],
    "slideshow": {
     "slide_type": "-"
    }
   },
   "source": [
    "Merge annotations with SNP data and convert the DF into a long format:"
   ]
  },
  {
   "cell_type": "code",
   "execution_count": 21,
   "metadata": {},
   "outputs": [
    {
     "name": "stderr",
     "output_type": "stream",
     "text": [
      "Joining, by = c(\"chrom\", \"pos\")\n"
     ]
    }
   ],
   "source": [
    "merged <-\n",
    "    inner_join(all_annots_wide, eur_snps) %>% # merge annotations with SNP data\n",
    "    mutate(chrom=paste0(chrom, \"_\", pos)) %>% # create a SNP ID string\n",
    "    rename(site_id=chrom) %>%  select(-pos)   # remove the chrom/pos columns"
   ]
  },
  {
   "cell_type": "code",
   "execution_count": 22,
   "metadata": {},
   "outputs": [
    {
     "data": {
      "text/html": [
       "<table>\n",
       "<thead><tr><th scope=col>site_id</th><th scope=col>priPhCons__100000bp</th><th scope=col>bStatistic</th><th scope=col>Consequence</th><th scope=col>AnnoType</th><th scope=col>Karelia</th><th scope=col>Loschbour</th><th scope=col>LaBrana1</th><th scope=col>Hungarian_KO1</th><th scope=col>Motala12</th><th scope=col>Stuttgart</th><th scope=col>Spanish_2</th><th scope=col>Spanish_1</th><th scope=col>Finnish_3</th><th scope=col>Bulgarian_2</th><th scope=col>Orcadian_1</th><th scope=col>Bergamo_2</th></tr></thead>\n",
       "<tbody>\n",
       "\t<tr><td>1_847983           </td><td>0.047667           </td><td>958                </td><td>NONCODING_CHANGE   </td><td>NonCodingTranscript</td><td>0                  </td><td>0                  </td><td>0                  </td><td>0                  </td><td>0                  </td><td>0                  </td><td>0                  </td><td>0                  </td><td>0                  </td><td>0                  </td><td>0                  </td><td>0                  </td></tr>\n",
       "\t<tr><td>1_1131600          </td><td>0.031456           </td><td>873                </td><td>INTRONIC           </td><td>Transcript         </td><td>0                  </td><td>0                  </td><td>0                  </td><td>0                  </td><td>0                  </td><td>0                  </td><td>0                  </td><td>0                  </td><td>0                  </td><td>0                  </td><td>0                  </td><td>0                  </td></tr>\n",
       "\t<tr><td>1_1193746          </td><td>0.040323           </td><td>769                </td><td>REGULATORY         </td><td>RegulatoryFeature  </td><td>0                  </td><td>0                  </td><td>0                  </td><td>0                  </td><td>0                  </td><td>0                  </td><td>0                  </td><td>0                  </td><td>0                  </td><td>0                  </td><td>0                  </td><td>0                  </td></tr>\n",
       "\t<tr><td>1_1195565          </td><td>0.040551           </td><td>779                </td><td>REGULATORY         </td><td>RegulatoryFeature  </td><td>0                  </td><td>0                  </td><td>0                  </td><td>0                  </td><td>0                  </td><td>0                  </td><td>0                  </td><td>0                  </td><td>0                  </td><td>0                  </td><td>0                  </td><td>0                  </td></tr>\n",
       "\t<tr><td>1_1200468          </td><td>0.045850           </td><td>784                </td><td>REGULATORY         </td><td>RegulatoryFeature  </td><td>0                  </td><td>0                  </td><td>0                  </td><td>0                  </td><td>0                  </td><td>0                  </td><td>0                  </td><td>0                  </td><td>0                  </td><td>0                  </td><td>0                  </td><td>0                  </td></tr>\n",
       "\t<tr><td>1_1696390          </td><td>0.055556           </td><td>662                </td><td>INTRONIC           </td><td>Transcript         </td><td>0                  </td><td>0                  </td><td>0                  </td><td>0                  </td><td>0                  </td><td>0                  </td><td>0                  </td><td>0                  </td><td>0                  </td><td>0                  </td><td>0                  </td><td>0                  </td></tr>\n",
       "</tbody>\n",
       "</table>\n"
      ],
      "text/latex": [
       "\\begin{tabular}{r|lllllllllllllllll}\n",
       " site\\_id & priPhCons\\_\\_100000bp & bStatistic & Consequence & AnnoType & Karelia & Loschbour & LaBrana1 & Hungarian\\_KO1 & Motala12 & Stuttgart & Spanish\\_2 & Spanish\\_1 & Finnish\\_3 & Bulgarian\\_2 & Orcadian\\_1 & Bergamo\\_2\\\\\n",
       "\\hline\n",
       "\t 1\\_847983          & 0.047667            & 958                 & NONCODING\\_CHANGE  & NonCodingTranscript & 0                   & 0                   & 0                   & 0                   & 0                   & 0                   & 0                   & 0                   & 0                   & 0                   & 0                   & 0                  \\\\\n",
       "\t 1\\_1131600         & 0.031456            & 873                 & INTRONIC            & Transcript          & 0                   & 0                   & 0                   & 0                   & 0                   & 0                   & 0                   & 0                   & 0                   & 0                   & 0                   & 0                  \\\\\n",
       "\t 1\\_1193746         & 0.040323            & 769                 & REGULATORY          & RegulatoryFeature   & 0                   & 0                   & 0                   & 0                   & 0                   & 0                   & 0                   & 0                   & 0                   & 0                   & 0                   & 0                  \\\\\n",
       "\t 1\\_1195565         & 0.040551            & 779                 & REGULATORY          & RegulatoryFeature   & 0                   & 0                   & 0                   & 0                   & 0                   & 0                   & 0                   & 0                   & 0                   & 0                   & 0                   & 0                  \\\\\n",
       "\t 1\\_1200468         & 0.045850            & 784                 & REGULATORY          & RegulatoryFeature   & 0                   & 0                   & 0                   & 0                   & 0                   & 0                   & 0                   & 0                   & 0                   & 0                   & 0                   & 0                  \\\\\n",
       "\t 1\\_1696390         & 0.055556            & 662                 & INTRONIC            & Transcript          & 0                   & 0                   & 0                   & 0                   & 0                   & 0                   & 0                   & 0                   & 0                   & 0                   & 0                   & 0                  \\\\\n",
       "\\end{tabular}\n"
      ],
      "text/markdown": [
       "\n",
       "site_id | priPhCons__100000bp | bStatistic | Consequence | AnnoType | Karelia | Loschbour | LaBrana1 | Hungarian_KO1 | Motala12 | Stuttgart | Spanish_2 | Spanish_1 | Finnish_3 | Bulgarian_2 | Orcadian_1 | Bergamo_2 | \n",
       "|---|---|---|---|---|---|\n",
       "| 1_847983            | 0.047667            | 958                 | NONCODING_CHANGE    | NonCodingTranscript | 0                   | 0                   | 0                   | 0                   | 0                   | 0                   | 0                   | 0                   | 0                   | 0                   | 0                   | 0                   | \n",
       "| 1_1131600           | 0.031456            | 873                 | INTRONIC            | Transcript          | 0                   | 0                   | 0                   | 0                   | 0                   | 0                   | 0                   | 0                   | 0                   | 0                   | 0                   | 0                   | \n",
       "| 1_1193746           | 0.040323            | 769                 | REGULATORY          | RegulatoryFeature   | 0                   | 0                   | 0                   | 0                   | 0                   | 0                   | 0                   | 0                   | 0                   | 0                   | 0                   | 0                   | \n",
       "| 1_1195565           | 0.040551            | 779                 | REGULATORY          | RegulatoryFeature   | 0                   | 0                   | 0                   | 0                   | 0                   | 0                   | 0                   | 0                   | 0                   | 0                   | 0                   | 0                   | \n",
       "| 1_1200468           | 0.045850            | 784                 | REGULATORY          | RegulatoryFeature   | 0                   | 0                   | 0                   | 0                   | 0                   | 0                   | 0                   | 0                   | 0                   | 0                   | 0                   | 0                   | \n",
       "| 1_1696390           | 0.055556            | 662                 | INTRONIC            | Transcript          | 0                   | 0                   | 0                   | 0                   | 0                   | 0                   | 0                   | 0                   | 0                   | 0                   | 0                   | 0                   | \n",
       "\n",
       "\n"
      ],
      "text/plain": [
       "  site_id   priPhCons__100000bp bStatistic Consequence      AnnoType           \n",
       "1 1_847983  0.047667            958        NONCODING_CHANGE NonCodingTranscript\n",
       "2 1_1131600 0.031456            873        INTRONIC         Transcript         \n",
       "3 1_1193746 0.040323            769        REGULATORY       RegulatoryFeature  \n",
       "4 1_1195565 0.040551            779        REGULATORY       RegulatoryFeature  \n",
       "5 1_1200468 0.045850            784        REGULATORY       RegulatoryFeature  \n",
       "6 1_1696390 0.055556            662        INTRONIC         Transcript         \n",
       "  Karelia Loschbour LaBrana1 Hungarian_KO1 Motala12 Stuttgart Spanish_2\n",
       "1 0       0         0        0             0        0         0        \n",
       "2 0       0         0        0             0        0         0        \n",
       "3 0       0         0        0             0        0         0        \n",
       "4 0       0         0        0             0        0         0        \n",
       "5 0       0         0        0             0        0         0        \n",
       "6 0       0         0        0             0        0         0        \n",
       "  Spanish_1 Finnish_3 Bulgarian_2 Orcadian_1 Bergamo_2\n",
       "1 0         0         0           0          0        \n",
       "2 0         0         0           0          0        \n",
       "3 0         0         0           0          0        \n",
       "4 0         0         0           0          0        \n",
       "5 0         0         0           0          0        \n",
       "6 0         0         0           0          0        "
      ]
     },
     "metadata": {},
     "output_type": "display_data"
    }
   ],
   "source": [
    "head(merged)"
   ]
  },
  {
   "cell_type": "code",
   "execution_count": 23,
   "metadata": {
    "autoscroll": "json-false",
    "collapsed": true,
    "ein.tags": [
     "worksheet-0"
    ],
    "slideshow": {
     "slide_type": "-"
    }
   },
   "outputs": [],
   "source": [
    "sites <-\n",
    "    gather(merged, name, allele, -site_id, -AnnoType, -Consequence, -priPhCons__100000bp, -bStatistic) %>%\n",
    "    mutate(pop=pop_table[name],\n",
    "           allele=ifelse(allele == 2, 1, 0))\n",
    "           #allele=ifelse(allele == 0, 0, ifelse(allele == 1, 0.5, ifelse(allele == 2, 1, NA))))"
   ]
  },
  {
   "cell_type": "code",
   "execution_count": 24,
   "metadata": {},
   "outputs": [
    {
     "data": {
      "text/html": [
       "<table>\n",
       "<thead><tr><th scope=col>site_id</th><th scope=col>priPhCons__100000bp</th><th scope=col>bStatistic</th><th scope=col>Consequence</th><th scope=col>AnnoType</th><th scope=col>name</th><th scope=col>allele</th><th scope=col>pop</th></tr></thead>\n",
       "<tbody>\n",
       "\t<tr><td>1_847983           </td><td>0.047667           </td><td>958                </td><td>NONCODING_CHANGE   </td><td>NonCodingTranscript</td><td>Karelia            </td><td>0                  </td><td>EMH_Europe         </td></tr>\n",
       "\t<tr><td>1_1131600          </td><td>0.031456           </td><td>873                </td><td>INTRONIC           </td><td>Transcript         </td><td>Karelia            </td><td>0                  </td><td>EMH_Europe         </td></tr>\n",
       "\t<tr><td>1_1193746          </td><td>0.040323           </td><td>769                </td><td>REGULATORY         </td><td>RegulatoryFeature  </td><td>Karelia            </td><td>0                  </td><td>EMH_Europe         </td></tr>\n",
       "\t<tr><td>1_1195565          </td><td>0.040551           </td><td>779                </td><td>REGULATORY         </td><td>RegulatoryFeature  </td><td>Karelia            </td><td>0                  </td><td>EMH_Europe         </td></tr>\n",
       "\t<tr><td>1_1200468          </td><td>0.045850           </td><td>784                </td><td>REGULATORY         </td><td>RegulatoryFeature  </td><td>Karelia            </td><td>0                  </td><td>EMH_Europe         </td></tr>\n",
       "\t<tr><td>1_1696390          </td><td>0.055556           </td><td>662                </td><td>INTRONIC           </td><td>Transcript         </td><td>Karelia            </td><td>0                  </td><td>EMH_Europe         </td></tr>\n",
       "</tbody>\n",
       "</table>\n"
      ],
      "text/latex": [
       "\\begin{tabular}{r|llllllll}\n",
       " site\\_id & priPhCons\\_\\_100000bp & bStatistic & Consequence & AnnoType & name & allele & pop\\\\\n",
       "\\hline\n",
       "\t 1\\_847983          & 0.047667            & 958                 & NONCODING\\_CHANGE  & NonCodingTranscript & Karelia             & 0                   & EMH\\_Europe       \\\\\n",
       "\t 1\\_1131600         & 0.031456            & 873                 & INTRONIC            & Transcript          & Karelia             & 0                   & EMH\\_Europe       \\\\\n",
       "\t 1\\_1193746         & 0.040323            & 769                 & REGULATORY          & RegulatoryFeature   & Karelia             & 0                   & EMH\\_Europe       \\\\\n",
       "\t 1\\_1195565         & 0.040551            & 779                 & REGULATORY          & RegulatoryFeature   & Karelia             & 0                   & EMH\\_Europe       \\\\\n",
       "\t 1\\_1200468         & 0.045850            & 784                 & REGULATORY          & RegulatoryFeature   & Karelia             & 0                   & EMH\\_Europe       \\\\\n",
       "\t 1\\_1696390         & 0.055556            & 662                 & INTRONIC            & Transcript          & Karelia             & 0                   & EMH\\_Europe       \\\\\n",
       "\\end{tabular}\n"
      ],
      "text/markdown": [
       "\n",
       "site_id | priPhCons__100000bp | bStatistic | Consequence | AnnoType | name | allele | pop | \n",
       "|---|---|---|---|---|---|\n",
       "| 1_847983            | 0.047667            | 958                 | NONCODING_CHANGE    | NonCodingTranscript | Karelia             | 0                   | EMH_Europe          | \n",
       "| 1_1131600           | 0.031456            | 873                 | INTRONIC            | Transcript          | Karelia             | 0                   | EMH_Europe          | \n",
       "| 1_1193746           | 0.040323            | 769                 | REGULATORY          | RegulatoryFeature   | Karelia             | 0                   | EMH_Europe          | \n",
       "| 1_1195565           | 0.040551            | 779                 | REGULATORY          | RegulatoryFeature   | Karelia             | 0                   | EMH_Europe          | \n",
       "| 1_1200468           | 0.045850            | 784                 | REGULATORY          | RegulatoryFeature   | Karelia             | 0                   | EMH_Europe          | \n",
       "| 1_1696390           | 0.055556            | 662                 | INTRONIC            | Transcript          | Karelia             | 0                   | EMH_Europe          | \n",
       "\n",
       "\n"
      ],
      "text/plain": [
       "  site_id   priPhCons__100000bp bStatistic Consequence      AnnoType           \n",
       "1 1_847983  0.047667            958        NONCODING_CHANGE NonCodingTranscript\n",
       "2 1_1131600 0.031456            873        INTRONIC         Transcript         \n",
       "3 1_1193746 0.040323            769        REGULATORY       RegulatoryFeature  \n",
       "4 1_1195565 0.040551            779        REGULATORY       RegulatoryFeature  \n",
       "5 1_1200468 0.045850            784        REGULATORY       RegulatoryFeature  \n",
       "6 1_1696390 0.055556            662        INTRONIC         Transcript         \n",
       "  name    allele pop       \n",
       "1 Karelia 0      EMH_Europe\n",
       "2 Karelia 0      EMH_Europe\n",
       "3 Karelia 0      EMH_Europe\n",
       "4 Karelia 0      EMH_Europe\n",
       "5 Karelia 0      EMH_Europe\n",
       "6 Karelia 0      EMH_Europe"
      ]
     },
     "metadata": {},
     "output_type": "display_data"
    }
   ],
   "source": [
    "head(sites)"
   ]
  },
  {
   "cell_type": "code",
   "execution_count": 25,
   "metadata": {},
   "outputs": [
    {
     "name": "stdout",
     "output_type": "stream",
     "text": [
      "'data.frame':\t1866828 obs. of  8 variables:\n",
      " $ site_id            : chr  \"1_847983\" \"1_1131600\" \"1_1193746\" \"1_1195565\" ...\n",
      " $ priPhCons__100000bp: num  0.0477 0.0315 0.0403 0.0406 0.0459 ...\n",
      " $ bStatistic         : int  958 873 769 779 784 662 653 682 716 774 ...\n",
      " $ Consequence        : chr  \"NONCODING_CHANGE\" \"INTRONIC\" \"REGULATORY\" \"REGULATORY\" ...\n",
      " $ AnnoType           : chr  \"NonCodingTranscript\" \"Transcript\" \"RegulatoryFeature\" \"RegulatoryFeature\" ...\n",
      " $ name               : chr  \"Karelia\" \"Karelia\" \"Karelia\" \"Karelia\" ...\n",
      " $ allele             : num  0 0 0 0 0 0 0 0 0 0 ...\n",
      " $ pop                : Named chr  \"EMH_Europe\" \"EMH_Europe\" \"EMH_Europe\" \"EMH_Europe\" ...\n",
      "  ..- attr(*, \"names\")= chr  \"Karelia\" \"Karelia\" \"Karelia\" \"Karelia\" ...\n"
     ]
    }
   ],
   "source": [
    "str(sites)"
   ]
  },
  {
   "cell_type": "markdown",
   "metadata": {
    "ein.tags": [
     "worksheet-0"
    ],
    "slideshow": {
     "slide_type": "-"
    }
   },
   "source": [
    "Calculate the SFS of introgressed alleles at each available time point"
   ]
  },
  {
   "cell_type": "code",
   "execution_count": 26,
   "metadata": {
    "autoscroll": "json-false",
    "collapsed": true,
    "ein.tags": [
     "worksheet-0"
    ],
    "slideshow": {
     "slide_type": "-"
    }
   },
   "outputs": [],
   "source": [
    "sfs <- group_by(sites, pop, site_id, AnnoType, priPhCons__100000bp, bStatistic) %>%\n",
    "    summarise(f=mean(allele, na.rm=TRUE)) %>% \n",
    "    #summarise(f=mean(0.5 * allele)) %>% -- this is for the case of 0/1/2 alleles\n",
    "    #summarise(f=mean(allele), na.rm=TRUE) %>% -- not necessary after filtering out NA before, also no random calls\n",
    "    # filter(!is.nan(f)) %>% -- not necessary either\n",
    "    ungroup"
   ]
  },
  {
   "cell_type": "code",
   "execution_count": 27,
   "metadata": {},
   "outputs": [
    {
     "data": {
      "text/html": [
       "<table>\n",
       "<thead><tr><th scope=col>pop</th><th scope=col>site_id</th><th scope=col>AnnoType</th><th scope=col>priPhCons__100000bp</th><th scope=col>bStatistic</th><th scope=col>f</th></tr></thead>\n",
       "<tbody>\n",
       "\t<tr><td>EMH_Europe </td><td>1_100002713</td><td>Intergenic </td><td>0.112185   </td><td>815        </td><td>0          </td></tr>\n",
       "\t<tr><td>EMH_Europe </td><td>1_100030862</td><td>Intergenic </td><td>0.120319   </td><td>857        </td><td>0          </td></tr>\n",
       "\t<tr><td>EMH_Europe </td><td>1_100075381</td><td>Intergenic </td><td>0.129699   </td><td>813        </td><td>0          </td></tr>\n",
       "\t<tr><td>EMH_Europe </td><td>1_100101335</td><td>Intergenic </td><td>0.135984   </td><td>757        </td><td>0          </td></tr>\n",
       "\t<tr><td>EMH_Europe </td><td>1_100102248</td><td>Intergenic </td><td>0.136405   </td><td>753        </td><td>0          </td></tr>\n",
       "\t<tr><td>EMH_Europe </td><td>1_100105433</td><td>Intergenic </td><td>0.141346   </td><td>759        </td><td>0          </td></tr>\n",
       "</tbody>\n",
       "</table>\n"
      ],
      "text/latex": [
       "\\begin{tabular}{r|llllll}\n",
       " pop & site\\_id & AnnoType & priPhCons\\_\\_100000bp & bStatistic & f\\\\\n",
       "\\hline\n",
       "\t EMH\\_Europe  & 1\\_100002713 & Intergenic    & 0.112185      & 815           & 0            \\\\\n",
       "\t EMH\\_Europe  & 1\\_100030862 & Intergenic    & 0.120319      & 857           & 0            \\\\\n",
       "\t EMH\\_Europe  & 1\\_100075381 & Intergenic    & 0.129699      & 813           & 0            \\\\\n",
       "\t EMH\\_Europe  & 1\\_100101335 & Intergenic    & 0.135984      & 757           & 0            \\\\\n",
       "\t EMH\\_Europe  & 1\\_100102248 & Intergenic    & 0.136405      & 753           & 0            \\\\\n",
       "\t EMH\\_Europe  & 1\\_100105433 & Intergenic    & 0.141346      & 759           & 0            \\\\\n",
       "\\end{tabular}\n"
      ],
      "text/markdown": [
       "\n",
       "pop | site_id | AnnoType | priPhCons__100000bp | bStatistic | f | \n",
       "|---|---|---|---|---|---|\n",
       "| EMH_Europe  | 1_100002713 | Intergenic  | 0.112185    | 815         | 0           | \n",
       "| EMH_Europe  | 1_100030862 | Intergenic  | 0.120319    | 857         | 0           | \n",
       "| EMH_Europe  | 1_100075381 | Intergenic  | 0.129699    | 813         | 0           | \n",
       "| EMH_Europe  | 1_100101335 | Intergenic  | 0.135984    | 757         | 0           | \n",
       "| EMH_Europe  | 1_100102248 | Intergenic  | 0.136405    | 753         | 0           | \n",
       "| EMH_Europe  | 1_100105433 | Intergenic  | 0.141346    | 759         | 0           | \n",
       "\n",
       "\n"
      ],
      "text/plain": [
       "  pop        site_id     AnnoType   priPhCons__100000bp bStatistic f\n",
       "1 EMH_Europe 1_100002713 Intergenic 0.112185            815        0\n",
       "2 EMH_Europe 1_100030862 Intergenic 0.120319            857        0\n",
       "3 EMH_Europe 1_100075381 Intergenic 0.129699            813        0\n",
       "4 EMH_Europe 1_100101335 Intergenic 0.135984            757        0\n",
       "5 EMH_Europe 1_100102248 Intergenic 0.136405            753        0\n",
       "6 EMH_Europe 1_100105433 Intergenic 0.141346            759        0"
      ]
     },
     "metadata": {},
     "output_type": "display_data"
    }
   ],
   "source": [
    "head(sfs)"
   ]
  },
  {
   "cell_type": "markdown",
   "metadata": {
    "collapsed": true
   },
   "source": [
    "# Results using just the overlapping sites"
   ]
  },
  {
   "cell_type": "code",
   "execution_count": 28,
   "metadata": {
    "collapsed": true
   },
   "outputs": [],
   "source": [
    "options(repr.plot.widht=6, repr.plot.height=4)"
   ]
  },
  {
   "cell_type": "code",
   "execution_count": 29,
   "metadata": {
    "autoscroll": "json-false",
    "ein.tags": [
     "worksheet-0"
    ],
    "slideshow": {
     "slide_type": "-"
    }
   },
   "outputs": [
    {
     "data": {},
     "metadata": {},
     "output_type": "display_data"
    },
    {
     "data": {
      "image/png": "[encoded data removed]",
      "text/plain": [
       "plot without title"
      ]
     },
     "metadata": {},
     "output_type": "display_data"
    }
   ],
   "source": [
    "ggplot(sfs, aes(pop, f, group=site_id)) + geom_line(alpha=0.01) + ylim(0, 1)"
   ]
  },
  {
   "cell_type": "markdown",
   "metadata": {},
   "source": [
    "Mean of the SFS of Nea. alleles in both populations:"
   ]
  },
  {
   "cell_type": "code",
   "execution_count": 30,
   "metadata": {},
   "outputs": [
    {
     "data": {
      "text/html": [
       "<table>\n",
       "<thead><tr><th scope=col>pop</th><th scope=col>mean(f, na.rm = TRUE)</th></tr></thead>\n",
       "<tbody>\n",
       "\t<tr><td>EMH_Europe    </td><td>0.02162277    </td></tr>\n",
       "\t<tr><td>present_Europe</td><td>0.01829092    </td></tr>\n",
       "</tbody>\n",
       "</table>\n"
      ],
      "text/latex": [
       "\\begin{tabular}{r|ll}\n",
       " pop & mean(f, na.rm = TRUE)\\\\\n",
       "\\hline\n",
       "\t EMH\\_Europe     & 0.02162277      \\\\\n",
       "\t present\\_Europe & 0.01829092      \\\\\n",
       "\\end{tabular}\n"
      ],
      "text/markdown": [
       "\n",
       "pop | mean(f, na.rm = TRUE) | \n",
       "|---|---|\n",
       "| EMH_Europe     | 0.02162277     | \n",
       "| present_Europe | 0.01829092     | \n",
       "\n",
       "\n"
      ],
      "text/plain": [
       "  pop            mean(f, na.rm = TRUE)\n",
       "1 EMH_Europe     0.02162277           \n",
       "2 present_Europe 0.01829092           "
      ]
     },
     "metadata": {},
     "output_type": "display_data"
    }
   ],
   "source": [
    "group_by(sfs, pop) %>% summarise(mean(f, na.rm=TRUE))"
   ]
  },
  {
   "cell_type": "code",
   "execution_count": 31,
   "metadata": {
    "autoscroll": "json-false",
    "ein.tags": [
     "worksheet-0"
    ],
    "slideshow": {
     "slide_type": "-"
    }
   },
   "outputs": [
    {
     "data": {},
     "metadata": {},
     "output_type": "display_data"
    },
    {
     "data": {
      "image/png": "[encoded data removed]",
      "text/plain": [
       "plot without title"
      ]
     },
     "metadata": {},
     "output_type": "display_data"
    }
   ],
   "source": [
    "options(repr.plot.widht=8, repr.plot.height=2.5)\n",
    "ggplot(sfs, aes(f, fill=pop, color=pop)) + geom_density(alpha=1/2) + xlim(0, 1)"
   ]
  },
  {
   "cell_type": "markdown",
   "metadata": {},
   "source": [
    "Calculate the shift in Nea. allele frequencies between EMH and present-day Europeans:"
   ]
  },
  {
   "cell_type": "code",
   "execution_count": 32,
   "metadata": {
    "autoscroll": "json-false",
    "collapsed": true,
    "ein.tags": [
     "worksheet-0"
    ],
    "slideshow": {
     "slide_type": "-"
    }
   },
   "outputs": [],
   "source": [
    "sfs_shift <-\n",
    "    spread(sfs, pop, f) %>%\n",
    "    mutate(freq_shift=present_Europe - EMH_Europe)"
   ]
  },
  {
   "cell_type": "markdown",
   "metadata": {
    "ein.tags": [
     "worksheet-0"
    ],
    "slideshow": {
     "slide_type": "-"
    }
   },
   "source": [
    "## Genome annotation - coding/regulatory/intergenic"
   ]
  },
  {
   "cell_type": "code",
   "execution_count": 33,
   "metadata": {
    "autoscroll": "json-false",
    "collapsed": true,
    "ein.tags": [
     "worksheet-0"
    ],
    "slideshow": {
     "slide_type": "-"
    }
   },
   "outputs": [],
   "source": [
    "options(repr.plot.width=7, repr.plot.height=4)"
   ]
  },
  {
   "cell_type": "code",
   "execution_count": 34,
   "metadata": {
    "autoscroll": "json-false",
    "ein.tags": [
     "worksheet-0"
    ],
    "slideshow": {
     "slide_type": "-"
    }
   },
   "outputs": [
    {
     "data": {},
     "metadata": {},
     "output_type": "display_data"
    },
    {
     "data": {
      "image/png": "[encoded data removed]",
      "text/plain": [
       "plot without title"
      ]
     },
     "metadata": {},
     "output_type": "display_data"
    }
   ],
   "source": [
    "seg_in_emh <- filter(sfs_shift, EMH_Europe > 0, EMH_Europe < 1, present_Europe > 0, present_Europe < 1)\n",
    "\n",
    "ggplot() +\n",
    "    geom_vline(xintercept=0, linetype=2, color=\"black\") +\n",
    "\n",
    "    geom_density(data=filter(seg_in_emh, AnnoType == \"Intergenic\"), aes(freq_shift), alpha=1/3, fill=\"blue\") +\n",
    "    geom_vline(xintercept=mean(filter(seg_in_emh, AnnoType == \"Intergenic\")$freq_shift), linetype=2, color=\"blue\") +\n",
    "\n",
    "    geom_density(data=filter(seg_in_emh, AnnoType == \"CodingTranscript\"), aes(freq_shift), alpha=1/3, fill=\"red\") +\n",
    "    geom_vline(xintercept=mean(filter(seg_in_emh, AnnoType == \"CodingTranscript\")$freq_shift), linetype=2, color=\"red\") +\n",
    "\n",
    "    geom_density(data=filter(seg_in_emh, AnnoType == \"RegulatoryFeature\"), aes(freq_shift), alpha=1/3, fill=\"green\") +\n",
    "    geom_vline(xintercept=mean(filter(seg_in_emh, AnnoType == \"RegulatoryFeature\")$freq_shift), linetype=2, color=\"green\") +\n",
    "\n",
    "    xlab(\"shift in frequency from later EMHs to present-day\") +\n",
    "    ggtitle(\"blue -- intergenic SNPs, green -- regulatory SNPs, red -- coding SNPS\") +\n",
    "    xlim(-0.75, 0.75)"
   ]
  },
  {
   "cell_type": "code",
   "execution_count": 35,
   "metadata": {
    "autoscroll": "json-false",
    "ein.tags": [
     "worksheet-0"
    ],
    "slideshow": {
     "slide_type": "-"
    }
   },
   "outputs": [
    {
     "data": {
      "text/plain": [
       "    Min.  1st Qu.   Median     Mean  3rd Qu.     Max. \n",
       "-0.66670 -0.16670  0.00000 -0.02098  0.00000  0.66670 "
      ]
     },
     "metadata": {},
     "output_type": "display_data"
    }
   ],
   "source": [
    "summary(seg_in_emh$freq_shift)"
   ]
  },
  {
   "cell_type": "code",
   "execution_count": null,
   "metadata": {
    "collapsed": true
   },
   "outputs": [],
   "source": []
  },
  {
   "cell_type": "code",
   "execution_count": null,
   "metadata": {
    "collapsed": true
   },
   "outputs": [],
   "source": []
  },
  {
   "cell_type": "code",
   "execution_count": null,
   "metadata": {
    "collapsed": true
   },
   "outputs": [],
   "source": []
  },
  {
   "cell_type": "code",
   "execution_count": null,
   "metadata": {
    "collapsed": true
   },
   "outputs": [],
   "source": []
  },
  {
   "cell_type": "code",
   "execution_count": null,
   "metadata": {
    "collapsed": true
   },
   "outputs": [],
   "source": []
  },
  {
   "cell_type": "code",
   "execution_count": null,
   "metadata": {
    "collapsed": true
   },
   "outputs": [],
   "source": []
  },
  {
   "cell_type": "code",
   "execution_count": 1,
   "metadata": {
    "autoscroll": "json-false",
    "collapsed": true,
    "ein.tags": [
     "worksheet-0"
    ],
    "slideshow": {
     "slide_type": "-"
    }
   },
   "outputs": [],
   "source": [
    "suppressPackageStartupMessages({\n",
    "    library(tidyverse)\n",
    "    library(stringr)\n",
    "    library(magrittr)\n",
    "})\n",
    "\n",
    "source(\"../R/utils.R\")"
   ]
  },
  {
   "cell_type": "code",
   "execution_count": 2,
   "metadata": {
    "autoscroll": "json-false",
    "ein.tags": [
     "worksheet-0"
    ],
    "slideshow": {
     "slide_type": "-"
    }
   },
   "outputs": [],
   "source": [
    "if (! file.exists(\"../tmp/freq_shift.RData\")) {\n",
    "\n",
    "suppressWarnings(suppressMessages({\n",
    "    \n",
    "\n",
    "########################################\n",
    "# read annotation data\n",
    "#\n",
    "files <- list.files(\"../clean_data/annotations/\", pattern=\"priPhCons__100000bp.bed\", full.names=TRUE)\n",
    "\n",
    "window_avgs_long <- lapply(files, function(f) {\n",
    "    read.table(f, header=FALSE) %>%\n",
    "        .[1:4] %>%\n",
    "        setNames(c(\"chrom\", \"start\", \"end\", \"value\")) %>%\n",
    "        mutate(track=str_replace(basename(f), \".bed\", \"\"))\n",
    "}) %>%\n",
    "    bind_rows %>%\n",
    "    rename(pos=end) %>% \n",
    "    select(-start)\n",
    "\n",
    "window_avgs_wide <- spread(window_avgs_long, track, value)\n",
    "\n",
    "cadd_wide <-\n",
    "    load_annotations(\"../clean_data/annotations.tsv\") %>%\n",
    "    select(chrom, pos, bStatistic, Consequence, AnnoType)\n",
    "\n",
    "all_annots_wide <- inner_join(window_avgs_wide, cadd_wide)\n",
    "\n",
    "\n",
    "########################################\n",
    "# read processed aDNA/SGDP SNP tables\n",
    "all_snps <- load_dataset(\"../clean_data/ice_age.tsv\",\n",
    "                         \"../clean_data/sgdp.tsv\",\n",
    "                         \"../clean_data/archaics.tsv\",\n",
    "                         filter_damage=FALSE,\n",
    "                         metadata_path=\"../raw_data/10_24_2014_SGDP_metainformation_update.txt\",\n",
    "                         random_sample=T)\n",
    "    \n",
    "\n",
    "########################################\n",
    "# read sample info tables\n",
    "\n",
    "# EMH info\n",
    "emh_info <- # filter out high C-T samples (mainly non-UDG treated ones and weird library preps)\n",
    "  read_delim(\"../clean_data/ages.txt\", delim=\" \") %>%\n",
    "  mutate(pop=\"EMH_Europe\") %>%\n",
    "  filter(name %in% colnames(all_snps),\n",
    "         ! name %in% c(\"AfontovaGora3\", \"GoyetQ116_1\", \"Kotias\", \"Oase1\", \"Satsurblia\", \"Villabruna\")) %>%\n",
    "  filter(age < 10000)\n",
    "  \n",
    "\n",
    "# SGDP info\n",
    "sgdp_info <-\n",
    "  load_sgdp_info(\"../raw_data/10_24_2014_SGDP_metainformation_update.txt\") %>%\n",
    "  mutate(name=str_replace(name, \"^S_\", \"\")) %>%\n",
    "  filter(name %in% colnames(all_snps)) %>%\n",
    "  mutate(age=0) %>%\n",
    "  rename(pop=Region) %>%\n",
    "  filter(pop == \"WestEurasia\") %>%\n",
    "  mutate(pop=\"present_Europe\") %>% \n",
    "  filter(! Country %in% c('Iran', 'Iraq', 'Jordan', 'Israel(Central)',\n",
    "                          'Israel(Carmel)', 'Israel(Negev)', 'Israel', 'Tajikistan', 'Turkey', 'Yemen',\n",
    "                          'Abkhazia', 'Armenia')) #%>% \n",
    "  #sample_n(size=nrow(emh_info))\n",
    "\n",
    "# merge SGDP and EMH info\n",
    "samples_info <-\n",
    "  bind_rows(emh_info, sgdp_info) %>%\n",
    "  mutate(post_admixture=55000 - age)\n",
    "\n",
    "}))\n",
    "\n",
    "\n",
    "########################################\n",
    "# save the objects to a file\n",
    "save(all_annots_wide, all_snps, samples_info, file=\"../tmp/freq_shift.RData\")\n",
    "\n",
    "}\n",
    "\n",
    "load(\"../tmp/freq_shift.RData\")"
   ]
  },
  {
   "cell_type": "code",
   "execution_count": 3,
   "metadata": {},
   "outputs": [
    {
     "data": {
      "text/html": [
       "484016"
      ],
      "text/latex": [
       "484016"
      ],
      "text/markdown": [
       "484016"
      ],
      "text/plain": [
       "[1] 484016"
      ]
     },
     "metadata": {},
     "output_type": "display_data"
    }
   ],
   "source": [
    "nrow(all_snps)"
   ]
  },
  {
   "cell_type": "code",
   "execution_count": 4,
   "metadata": {
    "autoscroll": "json-false",
    "collapsed": true,
    "ein.tags": [
     "worksheet-0"
    ],
    "slideshow": {
     "slide_type": "-"
    }
   },
   "outputs": [],
   "source": [
    "# subsample SGDP individual to have the same number as the number\n",
    "# of EMHs\n",
    "subsample_sgdp <- function(samples_info, all_samples) {\n",
    "    # get the names of EMHs\n",
    "    emh_samples <- samples_info[samples_info$pop == \"EMH_Europe\", ]$name\n",
    "    # subsample the names of SGDP individuals\n",
    "    sgdp_samples <- samples_info[samples_info$pop == \"present_Europe\", ]$name\n",
    "    sgdp_subsample <- sample(sgdp_samples, length(emh_samples))\n",
    "\n",
    "    # return the SNP table of just the sampled individuals\n",
    "    all_samples[, c(\"chrom\", \"pos\", emh_samples, sgdp_subsample)]\n",
    "}\n",
    "\n",
    "\n",
    "# get the sites with SNP data in all samples\n",
    "get_overlapping_sites <- function(all_sites) {\n",
    "    na_counts <- apply(all_sites[3:ncol(all_sites)], 1, function(r) sum(is.na(r)))\n",
    "    overlapping <- all_sites[na_counts == 0, ]\n",
    "    \n",
    "    overlapping\n",
    "}\n",
    "\n",
    "\n",
    "# merge SNP data with functional annotations\n",
    "merge_annots <- function(snps, annotations) {\n",
    "    merged <-\n",
    "        inner_join(annotations, snps, by=c(\"chrom\", \"pos\")) %>% # merge annotations with SNP data\n",
    "        mutate(chrom=paste0(chrom, \"_\", pos)) %>%               # create a SNP ID string\n",
    "        rename(site_id=chrom) %>% select(-pos)                  # remove the chrom/pos columns\n",
    "    \n",
    "    merged\n",
    "}\n",
    "\n",
    "\n",
    "# calculate the frequencies of Nea-like SNPs at each overlapping\n",
    "# site in each of the two populations\n",
    "calc_sfs <- function(snps) {\n",
    "    # create a pop-assignment table\n",
    "    pop_table <- samples_info$pop\n",
    "    names(pop_table) <- samples_info$name\n",
    "\n",
    "    # convert wide format SNP table to a long format, assign each\n",
    "    # sample to a population and convert allele info from 2/0 to 1/0\n",
    "    sites <-\n",
    "        gather(snps, name, allele, -site_id, -AnnoType, -Consequence, -priPhCons__100000bp, -bStatistic) %>%\n",
    "        mutate(pop=pop_table[name],\n",
    "               allele=ifelse(allele == 2, 1, 0))\n",
    "\n",
    "    # calculate the SFS on the subsampled EMH and SGDP populations\n",
    "    sfs <-\n",
    "        group_by(sites, pop, site_id, AnnoType, priPhCons__100000bp, bStatistic, Consequence) %>%\n",
    "        summarise(f=mean(allele, na.rm=TRUE)) %>% \n",
    "        ungroup\n",
    "    \n",
    "    sfs\n",
    "}\n",
    "\n",
    "\n",
    "# calculate shift in allele frequencies at each site between EMH\n",
    "# and present-day Europeans\n",
    "calc_sfs_shift <- function(sfs) {\n",
    "    sfs_shift <-\n",
    "        spread(sfs, pop, f) %>%\n",
    "        mutate(freq_shift=present_Europe - EMH_Europe)\n",
    "\n",
    "    sfs_shift\n",
    "}"
   ]
  },
  {
   "cell_type": "code",
   "execution_count": 5,
   "metadata": {},
   "outputs": [],
   "source": [
    "x <-\n",
    "    subsample_sgdp(samples_info, all_snps) %>%\n",
    "    get_overlapping_sites %>%\n",
    "    merge_annots(all_annots_wide) %>%\n",
    "    calc_sfs %>%\n",
    "    calc_sfs_shift"
   ]
  },
  {
   "cell_type": "code",
   "execution_count": 6,
   "metadata": {},
   "outputs": [
    {
     "data": {
      "text/html": [
       "<table>\n",
       "<thead><tr><th scope=col>site_id</th><th scope=col>AnnoType</th><th scope=col>priPhCons__100000bp</th><th scope=col>bStatistic</th><th scope=col>Consequence</th><th scope=col>EMH_Europe</th><th scope=col>present_Europe</th><th scope=col>freq_shift</th></tr></thead>\n",
       "<tbody>\n",
       "\t<tr><td>1_100002713</td><td>Intergenic </td><td>0.112185   </td><td>815        </td><td>UPSTREAM   </td><td>0.1666667  </td><td>0          </td><td>-0.1666667 </td></tr>\n",
       "\t<tr><td>1_100030862</td><td>Intergenic </td><td>0.120319   </td><td>857        </td><td>INTERGENIC </td><td>0.1666667  </td><td>0          </td><td>-0.1666667 </td></tr>\n",
       "\t<tr><td>1_100075381</td><td>Intergenic </td><td>0.129699   </td><td>813        </td><td>INTERGENIC </td><td>0.0000000  </td><td>0          </td><td> 0.0000000 </td></tr>\n",
       "\t<tr><td>1_100101335</td><td>Intergenic </td><td>0.135984   </td><td>757        </td><td>INTERGENIC </td><td>0.0000000  </td><td>0          </td><td> 0.0000000 </td></tr>\n",
       "\t<tr><td>1_100102248</td><td>Intergenic </td><td>0.136405   </td><td>753        </td><td>INTERGENIC </td><td>0.0000000  </td><td>0          </td><td> 0.0000000 </td></tr>\n",
       "\t<tr><td>1_100105433</td><td>Intergenic </td><td>0.141346   </td><td>759        </td><td>INTERGENIC </td><td>0.0000000  </td><td>0          </td><td> 0.0000000 </td></tr>\n",
       "</tbody>\n",
       "</table>\n"
      ],
      "text/latex": [
       "\\begin{tabular}{r|llllllll}\n",
       " site\\_id & AnnoType & priPhCons\\_\\_100000bp & bStatistic & Consequence & EMH\\_Europe & present\\_Europe & freq\\_shift\\\\\n",
       "\\hline\n",
       "\t 1\\_100002713 & Intergenic    & 0.112185      & 815           & UPSTREAM      & 0.1666667     & 0             & -0.1666667   \\\\\n",
       "\t 1\\_100030862 & Intergenic    & 0.120319      & 857           & INTERGENIC    & 0.1666667     & 0             & -0.1666667   \\\\\n",
       "\t 1\\_100075381 & Intergenic    & 0.129699      & 813           & INTERGENIC    & 0.0000000     & 0             &  0.0000000   \\\\\n",
       "\t 1\\_100101335 & Intergenic    & 0.135984      & 757           & INTERGENIC    & 0.0000000     & 0             &  0.0000000   \\\\\n",
       "\t 1\\_100102248 & Intergenic    & 0.136405      & 753           & INTERGENIC    & 0.0000000     & 0             &  0.0000000   \\\\\n",
       "\t 1\\_100105433 & Intergenic    & 0.141346      & 759           & INTERGENIC    & 0.0000000     & 0             &  0.0000000   \\\\\n",
       "\\end{tabular}\n"
      ],
      "text/markdown": [
       "\n",
       "site_id | AnnoType | priPhCons__100000bp | bStatistic | Consequence | EMH_Europe | present_Europe | freq_shift | \n",
       "|---|---|---|---|---|---|\n",
       "| 1_100002713 | Intergenic  | 0.112185    | 815         | UPSTREAM    | 0.1666667   | 0           | -0.1666667  | \n",
       "| 1_100030862 | Intergenic  | 0.120319    | 857         | INTERGENIC  | 0.1666667   | 0           | -0.1666667  | \n",
       "| 1_100075381 | Intergenic  | 0.129699    | 813         | INTERGENIC  | 0.0000000   | 0           |  0.0000000  | \n",
       "| 1_100101335 | Intergenic  | 0.135984    | 757         | INTERGENIC  | 0.0000000   | 0           |  0.0000000  | \n",
       "| 1_100102248 | Intergenic  | 0.136405    | 753         | INTERGENIC  | 0.0000000   | 0           |  0.0000000  | \n",
       "| 1_100105433 | Intergenic  | 0.141346    | 759         | INTERGENIC  | 0.0000000   | 0           |  0.0000000  | \n",
       "\n",
       "\n"
      ],
      "text/plain": [
       "  site_id     AnnoType   priPhCons__100000bp bStatistic Consequence EMH_Europe\n",
       "1 1_100002713 Intergenic 0.112185            815        UPSTREAM    0.1666667 \n",
       "2 1_100030862 Intergenic 0.120319            857        INTERGENIC  0.1666667 \n",
       "3 1_100075381 Intergenic 0.129699            813        INTERGENIC  0.0000000 \n",
       "4 1_100101335 Intergenic 0.135984            757        INTERGENIC  0.0000000 \n",
       "5 1_100102248 Intergenic 0.136405            753        INTERGENIC  0.0000000 \n",
       "6 1_100105433 Intergenic 0.141346            759        INTERGENIC  0.0000000 \n",
       "  present_Europe freq_shift\n",
       "1 0              -0.1666667\n",
       "2 0              -0.1666667\n",
       "3 0               0.0000000\n",
       "4 0               0.0000000\n",
       "5 0               0.0000000\n",
       "6 0               0.0000000"
      ]
     },
     "metadata": {},
     "output_type": "display_data"
    }
   ],
   "source": [
    "head(x)"
   ]
  },
  {
   "cell_type": "code",
   "execution_count": null,
   "metadata": {
    "collapsed": true
   },
   "outputs": [],
   "source": []
  },
  {
   "cell_type": "code",
   "execution_count": null,
   "metadata": {
    "collapsed": true
   },
   "outputs": [],
   "source": []
  },
  {
   "cell_type": "code",
   "execution_count": null,
   "metadata": {
    "collapsed": true
   },
   "outputs": [],
   "source": []
  },
  {
   "cell_type": "code",
   "execution_count": null,
   "metadata": {
    "collapsed": true
   },
   "outputs": [],
   "source": []
  },
  {
   "cell_type": "code",
   "execution_count": 9,
   "metadata": {
    "autoscroll": "json-false",
    "ein.tags": [
     "worksheet-0"
    ],
    "slideshow": {
     "slide_type": "-"
    }
   },
   "outputs": [
    {
     "data": {},
     "metadata": {},
     "output_type": "display_data"
    },
    {
     "data": {
      "image/png": "[encoded data removed]",
      "text/plain": [
       "plot without title"
      ]
     },
     "metadata": {},
     "output_type": "display_data"
    }
   ],
   "source": [
    "options(repr.plot.width=7, repr.plot.height=4)\n",
    "\n",
    "seg_in_emh <- filter(x, EMH_Europe > 0, EMH_Europe < 1, present_Europe > 0, present_Europe < 1)\n",
    "\n",
    "ggplot() +\n",
    "    geom_vline(xintercept=0, linetype=2, color=\"black\") +\n",
    "\n",
    "    geom_density(data=filter(seg_in_emh, AnnoType == \"Intergenic\"), aes(freq_shift), alpha=1/3, fill=\"blue\") +\n",
    "    geom_vline(xintercept=mean(filter(seg_in_emh, AnnoType == \"Intergenic\")$freq_shift), linetype=2, color=\"blue\") +\n",
    "\n",
    "    geom_density(data=filter(seg_in_emh, AnnoType == \"CodingTranscript\"), aes(freq_shift), alpha=1/3, fill=\"red\") +\n",
    "    geom_vline(xintercept=mean(filter(seg_in_emh, AnnoType == \"CodingTranscript\")$freq_shift), linetype=2, color=\"red\") +\n",
    "\n",
    "    geom_density(data=filter(seg_in_emh, AnnoType == \"RegulatoryFeature\"), aes(freq_shift), alpha=1/3, fill=\"green\") +\n",
    "    geom_vline(xintercept=mean(filter(seg_in_emh, AnnoType == \"RegulatoryFeature\")$freq_shift), linetype=2, color=\"green\") +\n",
    "\n",
    "    xlab(\"shift in frequency from later EMHs to present-day\") +\n",
    "    ggtitle(\"blue -- intergenic SNPs, green -- regulatory SNPs, red -- coding SNPS\") +\n",
    "    xlim(-0.75, 0.75)"
   ]
  },
  {
   "cell_type": "code",
   "execution_count": 108,
   "metadata": {
    "collapsed": true
   },
   "outputs": [],
   "source": [
    "n_iter <- 100\n",
    "\n",
    "iter_sfs <- list()"
   ]
  },
  {
   "cell_type": "code",
   "execution_count": 211,
   "metadata": {
    "collapsed": true
   },
   "outputs": [],
   "source": [
    "subsampled <- subsample_sgdp(samples_info, all_snps)"
   ]
  },
  {
   "cell_type": "code",
   "execution_count": 218,
   "metadata": {
    "collapsed": true
   },
   "outputs": [],
   "source": [
    "overlapping <- get_overlapping_sites(subsampled)"
   ]
  },
  {
   "cell_type": "code",
   "execution_count": 235,
   "metadata": {
    "collapsed": true
   },
   "outputs": [],
   "source": [
    "merged <- merge_annots(overlapping, all_annots_wide)"
   ]
  },
  {
   "cell_type": "code",
   "execution_count": 110,
   "metadata": {},
   "outputs": [
    {
     "name": "stdout",
     "output_type": "stream",
     "text": [
      "1 \n",
      "2 \n",
      "3 \n",
      "4 \n",
      "5 \n",
      "6 \n",
      "7 \n",
      "8 \n",
      "9 \n",
      "10 \n",
      "11 \n",
      "12 \n",
      "13 \n",
      "14 \n",
      "15 \n",
      "16 \n",
      "17 \n",
      "18 \n",
      "19 \n",
      "20 \n",
      "21 \n",
      "22 \n",
      "23 \n",
      "24 \n",
      "25 \n",
      "26 \n",
      "27 \n",
      "28 \n",
      "29 \n",
      "30 \n",
      "31 \n",
      "32 \n",
      "33 \n",
      "34 \n",
      "35 \n",
      "36 \n",
      "37 \n",
      "38 \n",
      "39 \n",
      "40 \n",
      "41 \n",
      "42 \n",
      "43 \n",
      "44 \n",
      "45 \n",
      "46 \n",
      "47 \n",
      "48 \n",
      "49 \n",
      "50 \n",
      "51 \n",
      "52 \n",
      "53 \n",
      "54 \n",
      "55 \n",
      "56 \n",
      "57 \n",
      "58 \n",
      "59 \n",
      "60 \n",
      "61 \n",
      "62 \n",
      "63 \n",
      "64 \n",
      "65 \n",
      "66 \n",
      "67 \n",
      "68 \n",
      "69 \n",
      "70 \n",
      "71 \n",
      "72 \n",
      "73 \n",
      "74 \n",
      "75 \n",
      "76 \n",
      "77 \n",
      "78 \n",
      "79 \n",
      "80 \n",
      "81 \n",
      "82 \n",
      "83 \n",
      "84 \n",
      "85 \n",
      "86 \n",
      "87 \n",
      "88 \n",
      "89 \n",
      "90 \n",
      "91 \n",
      "92 \n",
      "93 \n",
      "94 \n",
      "95 \n",
      "96 \n",
      "97 \n",
      "98 \n",
      "99 \n",
      "100 \n"
     ]
    }
   ],
   "source": [
    "for (i in seq(n_iter)) {\n",
    "    "
   ]
  }
 ],
 "metadata": {
  "kernelspec": {
   "display_name": "R",
   "language": "R",
   "name": "ir"
  },
  "language_info": {
   "codemirror_mode": "r",
   "file_extension": ".r",
   "mimetype": "text/x-r-source",
   "name": "R",
   "pygments_lexer": "r",
   "version": "3.3.1"
  },
  "name": "frequency_shift_after_10ky.ipynb"
 },
 "nbformat": 4,
 "nbformat_minor": 1
}
