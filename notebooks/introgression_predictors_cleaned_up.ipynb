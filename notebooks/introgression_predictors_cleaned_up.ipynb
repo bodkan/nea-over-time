{
 "cells": [
  {
   "cell_type": "markdown",
   "metadata": {},
   "source": [
    "**TODO** select non-overlapping windows only (to avoid the non-independence between sites)"
   ]
  },
  {
   "cell_type": "markdown",
   "metadata": {},
   "source": [
    "The basic idea is to find out which categories of genomic regions (exons, promoters, enhancers, etc) contribute the most to the Nea. ancestry observed in present day Europeans. For example: have coding regions or enhancers been the main drivers of selection against Nea. introgression?"
   ]
  },
  {
   "cell_type": "markdown",
   "metadata": {},
   "source": [
    "Links:\n",
    "\n",
    "* info about different coordinate types: https://groups.google.com/forum/#!msg/biomart-users/OtQbAx3y9CA/wrF19ID1AgAJ\n",
    "* https://www.biostars.org/p/2005/\n",
    "* http://www.bioconductor.org/packages/release/bioc/vignettes/biomaRt/inst/doc/biomaRt.html#attribute-pages\n",
    "* http://www.ensembl.org/info/data/biomart/biomart_r_package.html\n",
    "* http://www.ensembl.info/blog/2015/06/01/biomart-or-how-to-access-the-ensembl-data-from-r/\n",
    "* for checking with manually downloaded data: http://www.ensembl.org/info/data/biomart/how_to_use_biomart.html\n",
    "* biotypes FAQ: http://www.ensembl.org/Help/Glossary"
   ]
  },
  {
   "cell_type": "raw",
   "metadata": {},
   "source": [
    "source(\"http://bioconductor.org/biocLite.R\")\n",
    "biocLite(\"biomaRt\")\n",
    "biocLite(\"rtracklayer\")\n",
    "biocLite(\"BSgenome.Hsapiens.UCSC.hg19\")\n",
    "biocLite(\"BSgenome.Hsapiens.UCSC.hg18\")"
   ]
  },
  {
   "cell_type": "markdown",
   "metadata": {},
   "source": [
    "Following [this](http://www.ensembl.org/info/data/biomart/biomart_r_package.html) tutorial, I want to extract coordinates of exonic and regulatory regions from the Ensembl database and then calculate the density of such regions in a defined window around each SNP.\n",
    "\n",
    "These densities will they be used as predictors in a linear model, predicting the Nea. ancestry at each site.\n",
    "\n",
    "Alternatively, I could just test if the distribution of densities for different regions differ based on frequency of Nea. alleles at each site."
   ]
  },
  {
   "cell_type": "code",
   "execution_count": 1,
   "metadata": {},
   "outputs": [
    {
     "name": "stderr",
     "output_type": "stream",
     "text": [
      "Loading required package: GenomicRanges\n",
      "Loading required package: BiocGenerics\n",
      "Loading required package: parallel\n",
      "\n",
      "Attaching package: ‘BiocGenerics’\n",
      "\n",
      "The following objects are masked from ‘package:parallel’:\n",
      "\n",
      "    clusterApply, clusterApplyLB, clusterCall, clusterEvalQ,\n",
      "    clusterExport, clusterMap, parApply, parCapply, parLapply,\n",
      "    parLapplyLB, parRapply, parSapply, parSapplyLB\n",
      "\n",
      "The following objects are masked from ‘package:stats’:\n",
      "\n",
      "    IQR, mad, xtabs\n",
      "\n",
      "The following objects are masked from ‘package:base’:\n",
      "\n",
      "    anyDuplicated, append, as.data.frame, cbind, colnames, do.call,\n",
      "    duplicated, eval, evalq, Filter, Find, get, grep, grepl, intersect,\n",
      "    is.unsorted, lapply, lengths, Map, mapply, match, mget, order,\n",
      "    paste, pmax, pmax.int, pmin, pmin.int, Position, rank, rbind,\n",
      "    Reduce, rownames, sapply, setdiff, sort, table, tapply, union,\n",
      "    unique, unsplit\n",
      "\n",
      "Loading required package: S4Vectors\n",
      "Loading required package: stats4\n",
      "\n",
      "Attaching package: ‘S4Vectors’\n",
      "\n",
      "The following objects are masked from ‘package:base’:\n",
      "\n",
      "    colMeans, colSums, expand.grid, rowMeans, rowSums\n",
      "\n",
      "Loading required package: IRanges\n",
      "Loading required package: GenomeInfoDb\n",
      "Loading required package: BSgenome\n",
      "Loading required package: Biostrings\n",
      "Loading required package: XVector\n"
     ]
    }
   ],
   "source": [
    "suppressWarnings({\n",
    "    library(biomaRt)\n",
    "    library(rtracklayer)\n",
    "    library(BSgenome.Hsapiens.UCSC.hg19)\n",
    "})"
   ]
  },
  {
   "cell_type": "code",
   "execution_count": 2,
   "metadata": {},
   "outputs": [
    {
     "name": "stderr",
     "output_type": "stream",
     "text": [
      "Loading tidyverse: ggplot2\n",
      "Loading tidyverse: tibble\n",
      "Loading tidyverse: tidyr\n",
      "Loading tidyverse: readr\n",
      "Loading tidyverse: purrr\n",
      "Loading tidyverse: dplyr\n",
      "Conflicts with tidy packages ---------------------------------------------------\n",
      "collapse(): dplyr, Biostrings, IRanges\n",
      "combine():  dplyr, BiocGenerics\n",
      "compact():  purrr, XVector\n",
      "desc():     dplyr, IRanges\n",
      "expand():   tidyr, S4Vectors\n",
      "filter():   dplyr, stats\n",
      "first():    dplyr, S4Vectors\n",
      "lag():      dplyr, stats\n",
      "Position(): ggplot2, BiocGenerics, base\n",
      "reduce():   purrr, GenomicRanges, IRanges\n",
      "rename():   dplyr, S4Vectors\n",
      "select():   dplyr, biomaRt\n",
      "simplify(): purrr, IRanges\n",
      "slice():    dplyr, XVector, IRanges\n",
      "\n",
      "Attaching package: ‘magrittr’\n",
      "\n",
      "The following object is masked from ‘package:purrr’:\n",
      "\n",
      "    set_names\n",
      "\n",
      "The following object is masked from ‘package:tidyr’:\n",
      "\n",
      "    extract\n",
      "\n"
     ]
    }
   ],
   "source": [
    "suppressWarnings({\n",
    "    library(tidyverse)\n",
    "    library(stringr)\n",
    "    library(magrittr)\n",
    "})"
   ]
  },
  {
   "cell_type": "markdown",
   "metadata": {},
   "source": [
    "## Get coordinates of admixture array sites"
   ]
  },
  {
   "cell_type": "code",
   "execution_count": 3,
   "metadata": {
    "collapsed": true
   },
   "outputs": [],
   "source": [
    "source(\"../R/utils.R\")"
   ]
  },
  {
   "cell_type": "code",
   "execution_count": 4,
   "metadata": {},
   "outputs": [
    {
     "name": "stderr",
     "output_type": "stream",
     "text": [
      "Warning message:\n",
      "“Missing column names filled in: 'X12' [12], 'X13' [13], 'X14' [14], 'X15' [15], 'X16' [16], 'X17' [17], 'X18' [18], 'X19' [19], 'X20' [20], 'X21' [21], 'X22' [22], 'X23' [23], 'X24' [24]”Parsed with column specification:\n",
      "cols(\n",
      "  .default = col_character(),\n",
      "  Latitude = col_double(),\n",
      "  Longitude = col_double(),\n",
      "  Coverage = col_integer(),\n",
      "  HetRateAuto = col_double()\n",
      ")\n",
      "See spec(...) for full column specifications.\n"
     ]
    }
   ],
   "source": [
    "nonafr_info <- load_sgdp_info(\"../raw_data/10_24_2014_SGDP_metainformation_update.txt\") %>% \n",
    "    filter(! Region %in% c(\"Africa\", \"Oceania\"))"
   ]
  },
  {
   "cell_type": "code",
   "execution_count": 5,
   "metadata": {},
   "outputs": [
    {
     "name": "stderr",
     "output_type": "stream",
     "text": [
      "Parsed with column specification:\n",
      "cols(\n",
      "  .default = col_integer(),\n",
      "  ref = col_character(),\n",
      "  alt = col_character()\n",
      ")\n",
      "See spec(...) for full column specifications.\n",
      "Parsed with column specification:\n",
      "cols(\n",
      "  .default = col_integer(),\n",
      "  ref = col_character(),\n",
      "  alt = col_character()\n",
      ")\n",
      "See spec(...) for full column specifications.\n",
      "Parsed with column specification:\n",
      "cols(\n",
      "  chrom = col_integer(),\n",
      "  pos = col_integer(),\n",
      "  ref = col_character(),\n",
      "  alt = col_character(),\n",
      "  Altai = col_integer(),\n",
      "  Vindija = col_integer(),\n",
      "  Denisovan = col_integer()\n",
      ")\n",
      "Joining, by = c(\"chrom\", \"pos\", \"ref\", \"alt\")\n",
      "Joining, by = c(\"chrom\", \"pos\", \"ref\", \"alt\")\n"
     ]
    }
   ],
   "source": [
    "genotypes <-\n",
    "    load_dataset(\"../clean_data/ice_age.tsv\", \"../clean_data/sgdp.tsv\", \"../clean_data/archaics.tsv\",\n",
    "                 random_sample=FALSE) %>%\n",
    "    select(c(\"chrom\", \"pos\", nonafr_info$name)) %>%\n",
    "    mutate(start=pos, end=pos) %>%\n",
    "    select(-pos) %>%\n",
    "    makeGRangesFromDataFrame(keep.extra.columns=TRUE)\n",
    "\n",
    "seqlevelsStyle(genotypes) <- \"UCSC\"\n",
    "seqinfo(genotypes) <- seqinfo(BSgenome.Hsapiens.UCSC.hg19)"
   ]
  },
  {
   "cell_type": "code",
   "execution_count": 6,
   "metadata": {
    "collapsed": true
   },
   "outputs": [],
   "source": [
    "sites <- granges(genotypes)"
   ]
  },
  {
   "cell_type": "code",
   "execution_count": 7,
   "metadata": {},
   "outputs": [
    {
     "data": {
      "text/plain": [
       "GRanges object with 484016 ranges and 0 metadata columns:\n",
       "           seqnames               ranges strand\n",
       "              <Rle>            <IRanges>  <Rle>\n",
       "       [1]     chr1     [847983, 847983]      *\n",
       "       [2]     chr1     [853089, 853089]      *\n",
       "       [3]     chr1     [853596, 853596]      *\n",
       "       [4]     chr1     [854793, 854793]      *\n",
       "       [5]     chr1     [867552, 867552]      *\n",
       "       ...      ...                  ...    ...\n",
       "  [484012]    chr22 [51142979, 51142979]      *\n",
       "  [484013]    chr22 [51145136, 51145136]      *\n",
       "  [484014]    chr22 [51154908, 51154908]      *\n",
       "  [484015]    chr22 [51174091, 51174091]      *\n",
       "  [484016]    chr22 [51177248, 51177248]      *\n",
       "  -------\n",
       "  seqinfo: 93 sequences (1 circular) from hg19 genome"
      ]
     },
     "metadata": {},
     "output_type": "display_data"
    }
   ],
   "source": [
    "sites"
   ]
  },
  {
   "cell_type": "markdown",
   "metadata": {},
   "source": [
    "# Fetch coordinates of different genomic regions"
   ]
  },
  {
   "cell_type": "code",
   "execution_count": 8,
   "metadata": {
    "collapsed": true
   },
   "outputs": [],
   "source": [
    "regions <- list()"
   ]
  },
  {
   "cell_type": "markdown",
   "metadata": {},
   "source": [
    "## Exon coordinates"
   ]
  },
  {
   "cell_type": "markdown",
   "metadata": {},
   "source": [
    "Show all the available biomarts for hg19:"
   ]
  },
  {
   "cell_type": "code",
   "execution_count": 9,
   "metadata": {},
   "outputs": [
    {
     "data": {
      "text/html": [
       "<table>\n",
       "<thead><tr><th scope=col>biomart</th><th scope=col>version</th></tr></thead>\n",
       "<tbody>\n",
       "\t<tr><td>ENSEMBL_MART_ENSEMBL </td><td>Ensembl Genes 89     </td></tr>\n",
       "\t<tr><td>ENSEMBL_MART_SNP     </td><td>Ensembl Variation 89 </td></tr>\n",
       "\t<tr><td>ENSEMBL_MART_FUNCGEN </td><td>Ensembl Regulation 89</td></tr>\n",
       "</tbody>\n",
       "</table>\n"
      ],
      "text/latex": [
       "\\begin{tabular}{r|ll}\n",
       " biomart & version\\\\\n",
       "\\hline\n",
       "\t ENSEMBL\\_MART\\_ENSEMBL & Ensembl Genes 89        \\\\\n",
       "\t ENSEMBL\\_MART\\_SNP     & Ensembl Variation 89    \\\\\n",
       "\t ENSEMBL\\_MART\\_FUNCGEN & Ensembl Regulation 89   \\\\\n",
       "\\end{tabular}\n"
      ],
      "text/markdown": [
       "\n",
       "biomart | version | \n",
       "|---|---|---|\n",
       "| ENSEMBL_MART_ENSEMBL  | Ensembl Genes 89      | \n",
       "| ENSEMBL_MART_SNP      | Ensembl Variation 89  | \n",
       "| ENSEMBL_MART_FUNCGEN  | Ensembl Regulation 89 | \n",
       "\n",
       "\n"
      ],
      "text/plain": [
       "  biomart              version              \n",
       "1 ENSEMBL_MART_ENSEMBL Ensembl Genes 89     \n",
       "2 ENSEMBL_MART_SNP     Ensembl Variation 89 \n",
       "3 ENSEMBL_MART_FUNCGEN Ensembl Regulation 89"
      ]
     },
     "metadata": {},
     "output_type": "display_data"
    }
   ],
   "source": [
    "listMarts(host=\"grch37.ensembl.org\")"
   ]
  },
  {
   "cell_type": "markdown",
   "metadata": {},
   "source": [
    "Connect to the human gene Ensembl dataset:"
   ]
  },
  {
   "cell_type": "code",
   "execution_count": 10,
   "metadata": {},
   "outputs": [
    {
     "data": {
      "text/html": [
       "<table>\n",
       "<thead><tr><th scope=col>dataset</th><th scope=col>description</th><th scope=col>version</th></tr></thead>\n",
       "<tbody>\n",
       "\t<tr><td>hsapiens_gene_ensembl   </td><td>Human genes (GRCh37.p13)</td><td>GRCh37.p13              </td></tr>\n",
       "</tbody>\n",
       "</table>\n"
      ],
      "text/latex": [
       "\\begin{tabular}{r|lll}\n",
       " dataset & description & version\\\\\n",
       "\\hline\n",
       "\t hsapiens\\_gene\\_ensembl & Human genes (GRCh37.p13)  & GRCh37.p13               \\\\\n",
       "\\end{tabular}\n"
      ],
      "text/markdown": [
       "\n",
       "dataset | description | version | \n",
       "|---|\n",
       "| hsapiens_gene_ensembl    | Human genes (GRCh37.p13) | GRCh37.p13               | \n",
       "\n",
       "\n"
      ],
      "text/plain": [
       "  dataset               description              version   \n",
       "1 hsapiens_gene_ensembl Human genes (GRCh37.p13) GRCh37.p13"
      ]
     },
     "metadata": {},
     "output_type": "display_data"
    }
   ],
   "source": [
    "ensembl_mart_genes <- useMart(\"ENSEMBL_MART_ENSEMBL\", host=\"grch37.ensembl.org\")\n",
    "listDatasets(ensembl_mart_genes) %>% filter(str_detect(dataset, \"sapiens\"))"
   ]
  },
  {
   "cell_type": "code",
   "execution_count": 11,
   "metadata": {
    "collapsed": true
   },
   "outputs": [],
   "source": [
    "genes <- useDataset(dataset=\"hsapiens_gene_ensembl\", mart=ensembl_mart_genes)"
   ]
  },
  {
   "cell_type": "markdown",
   "metadata": {},
   "source": [
    "Get coordinates of protein_coding regions from the gene annotation database:"
   ]
  },
  {
   "cell_type": "code",
   "execution_count": 12,
   "metadata": {},
   "outputs": [],
   "source": [
    "regions[[\"protein_coding\"]] <-\n",
    "    getBM((listAttributes(genes) %>% filter(page==\"structure\"))$name,    # get all attributes\n",
    "          filters=c(\"chromosome_name\", \"biotype\"),                       # filter for chromosome and biotype\n",
    "          values=list(1:22, \"protein_coding\"),                           # chromosomes 1:22 and \"protein_coding\"\n",
    "          mart=genes) %>%\n",
    "    dplyr::select(chromosome_name, exon_chrom_start, exon_chrom_end) %>%\n",
    "    setNames(c(\"chrom\", \"start\", \"end\")) %>%\n",
    "    arrange(chrom, start) %>%\n",
    "    makeGRangesFromDataFrame"
   ]
  },
  {
   "cell_type": "markdown",
   "metadata": {},
   "source": [
    "## Coordinates of regulatory features"
   ]
  },
  {
   "cell_type": "markdown",
   "metadata": {},
   "source": [
    "It took forever to find out, how to get the regulatory features. In the end I found it totally by accident in some bugreport mail :( https://support.bioconductor.org/p/39545/"
   ]
  },
  {
   "cell_type": "markdown",
   "metadata": {},
   "source": [
    "Show all the available biomarts for hg19:"
   ]
  },
  {
   "cell_type": "code",
   "execution_count": 13,
   "metadata": {},
   "outputs": [
    {
     "data": {
      "text/html": [
       "<table>\n",
       "<thead><tr><th scope=col>biomart</th><th scope=col>version</th></tr></thead>\n",
       "<tbody>\n",
       "\t<tr><td>ENSEMBL_MART_ENSEMBL </td><td>Ensembl Genes 89     </td></tr>\n",
       "\t<tr><td>ENSEMBL_MART_SNP     </td><td>Ensembl Variation 89 </td></tr>\n",
       "\t<tr><td>ENSEMBL_MART_FUNCGEN </td><td>Ensembl Regulation 89</td></tr>\n",
       "</tbody>\n",
       "</table>\n"
      ],
      "text/latex": [
       "\\begin{tabular}{r|ll}\n",
       " biomart & version\\\\\n",
       "\\hline\n",
       "\t ENSEMBL\\_MART\\_ENSEMBL & Ensembl Genes 89        \\\\\n",
       "\t ENSEMBL\\_MART\\_SNP     & Ensembl Variation 89    \\\\\n",
       "\t ENSEMBL\\_MART\\_FUNCGEN & Ensembl Regulation 89   \\\\\n",
       "\\end{tabular}\n"
      ],
      "text/markdown": [
       "\n",
       "biomart | version | \n",
       "|---|---|---|\n",
       "| ENSEMBL_MART_ENSEMBL  | Ensembl Genes 89      | \n",
       "| ENSEMBL_MART_SNP      | Ensembl Variation 89  | \n",
       "| ENSEMBL_MART_FUNCGEN  | Ensembl Regulation 89 | \n",
       "\n",
       "\n"
      ],
      "text/plain": [
       "  biomart              version              \n",
       "1 ENSEMBL_MART_ENSEMBL Ensembl Genes 89     \n",
       "2 ENSEMBL_MART_SNP     Ensembl Variation 89 \n",
       "3 ENSEMBL_MART_FUNCGEN Ensembl Regulation 89"
      ]
     },
     "metadata": {},
     "output_type": "display_data"
    }
   ],
   "source": [
    "listMarts(host=\"grch37.ensembl.org\")"
   ]
  },
  {
   "cell_type": "markdown",
   "metadata": {},
   "source": [
    "Connect to the human gene Ensembl dataset:"
   ]
  },
  {
   "cell_type": "code",
   "execution_count": 14,
   "metadata": {},
   "outputs": [
    {
     "data": {
      "text/html": [
       "<table>\n",
       "<thead><tr><th scope=col>dataset</th><th scope=col>description</th><th scope=col>version</th></tr></thead>\n",
       "<tbody>\n",
       "\t<tr><td>hsapiens_regulatory_feature                </td><td>Human Regulatory Features (GRCh37.p13)     </td><td>GRCh37.p13                                 </td></tr>\n",
       "\t<tr><td>hsapiens_external_feature                  </td><td>Human Other Regulatory Regions (GRCh37.p13)</td><td>GRCh37.p13                                 </td></tr>\n",
       "\t<tr><td>hsapiens_motif_feature                     </td><td>Human Binding Motifs (GRCh37.p13)          </td><td>GRCh37.p13                                 </td></tr>\n",
       "\t<tr><td>hsapiens_mirna_target_feature              </td><td>Human miRNA Target Regions (GRCh37.p13)    </td><td>GRCh37.p13                                 </td></tr>\n",
       "\t<tr><td>hsapiens_annotated_feature                 </td><td>Human Regulatory Evidence (GRCh37.p13)     </td><td>GRCh37.p13                                 </td></tr>\n",
       "</tbody>\n",
       "</table>\n"
      ],
      "text/latex": [
       "\\begin{tabular}{r|lll}\n",
       " dataset & description & version\\\\\n",
       "\\hline\n",
       "\t hsapiens\\_regulatory\\_feature             & Human Regulatory Features (GRCh37.p13)      & GRCh37.p13                                 \\\\\n",
       "\t hsapiens\\_external\\_feature               & Human Other Regulatory Regions (GRCh37.p13) & GRCh37.p13                                 \\\\\n",
       "\t hsapiens\\_motif\\_feature                  & Human Binding Motifs (GRCh37.p13)           & GRCh37.p13                                 \\\\\n",
       "\t hsapiens\\_mirna\\_target\\_feature         & Human miRNA Target Regions (GRCh37.p13)     & GRCh37.p13                                 \\\\\n",
       "\t hsapiens\\_annotated\\_feature              & Human Regulatory Evidence (GRCh37.p13)      & GRCh37.p13                                 \\\\\n",
       "\\end{tabular}\n"
      ],
      "text/markdown": [
       "\n",
       "dataset | description | version | \n",
       "|---|---|---|---|---|\n",
       "| hsapiens_regulatory_feature                 | Human Regulatory Features (GRCh37.p13)      | GRCh37.p13                                  | \n",
       "| hsapiens_external_feature                   | Human Other Regulatory Regions (GRCh37.p13) | GRCh37.p13                                  | \n",
       "| hsapiens_motif_feature                      | Human Binding Motifs (GRCh37.p13)           | GRCh37.p13                                  | \n",
       "| hsapiens_mirna_target_feature               | Human miRNA Target Regions (GRCh37.p13)     | GRCh37.p13                                  | \n",
       "| hsapiens_annotated_feature                  | Human Regulatory Evidence (GRCh37.p13)      | GRCh37.p13                                  | \n",
       "\n",
       "\n"
      ],
      "text/plain": [
       "  dataset                       description                                \n",
       "1 hsapiens_regulatory_feature   Human Regulatory Features (GRCh37.p13)     \n",
       "2 hsapiens_external_feature     Human Other Regulatory Regions (GRCh37.p13)\n",
       "3 hsapiens_motif_feature        Human Binding Motifs (GRCh37.p13)          \n",
       "4 hsapiens_mirna_target_feature Human miRNA Target Regions (GRCh37.p13)    \n",
       "5 hsapiens_annotated_feature    Human Regulatory Evidence (GRCh37.p13)     \n",
       "  version   \n",
       "1 GRCh37.p13\n",
       "2 GRCh37.p13\n",
       "3 GRCh37.p13\n",
       "4 GRCh37.p13\n",
       "5 GRCh37.p13"
      ]
     },
     "metadata": {},
     "output_type": "display_data"
    }
   ],
   "source": [
    "ensembl_mart_funcgen <- useMart(\"ENSEMBL_MART_FUNCGEN\", host=\"grch37.ensembl.org\")\n",
    "listDatasets(ensembl_mart_funcgen) %>% filter(str_detect(dataset, \"sapiens\"))"
   ]
  },
  {
   "cell_type": "code",
   "execution_count": 15,
   "metadata": {
    "collapsed": true
   },
   "outputs": [],
   "source": [
    "regulation <- useDataset(dataset=\"hsapiens_regulatory_feature\", mart=ensembl_mart_funcgen)"
   ]
  },
  {
   "cell_type": "markdown",
   "metadata": {},
   "source": [
    "Download the dataframe from Biomart:"
   ]
  },
  {
   "cell_type": "code",
   "execution_count": 16,
   "metadata": {
    "collapsed": true,
    "scrolled": false
   },
   "outputs": [],
   "source": [
    "regulatory_features_df <-\n",
    "    getBM(attributes=c(\"chromosome_name\", \"chromosome_start\", \"chromosome_end\", \"feature_type_name\"),\n",
    "          filters=\"chromosome_name\",\n",
    "          values=1:22,\n",
    "          mart=regulation) %>%\n",
    "    setNames(c(\"chrom\", \"start\", \"end\", \"feature\")) %>%  # rename the columns to BED names\n",
    "    mutate(feature=str_replace_all(tolower(feature), \" \", \"_\"))"
   ]
  },
  {
   "cell_type": "code",
   "execution_count": 17,
   "metadata": {},
   "outputs": [
    {
     "data": {
      "text/plain": [
       "\n",
       "       ctcf_binding_site                 enhancer           open_chromatin \n",
       "                   55194                    27577                   107233 \n",
       "                promoter promoter_flanking_region          tf_binding_site \n",
       "                   14287                    45496                    22376 "
      ]
     },
     "metadata": {},
     "output_type": "display_data"
    }
   ],
   "source": [
    "table(regulatory_features_df$feature)"
   ]
  },
  {
   "cell_type": "code",
   "execution_count": 18,
   "metadata": {},
   "outputs": [],
   "source": [
    "regions <- c(regions, lapply(split(regulatory_features_df, regulatory_features_df$feature),\n",
    "                             makeGRangesFromDataFrame))"
   ]
  },
  {
   "cell_type": "markdown",
   "metadata": {},
   "source": [
    "## Coordinates of primate phastCons elements"
   ]
  },
  {
   "cell_type": "markdown",
   "metadata": {},
   "source": [
    "How to retrieve them: https://support.bioconductor.org/p/25587/\n",
    "\n",
    "Per-base vs elements diference: https://www.biostars.org/p/2129/#2143"
   ]
  },
  {
   "cell_type": "code",
   "execution_count": 19,
   "metadata": {
    "collapsed": true
   },
   "outputs": [],
   "source": [
    "library(rtracklayer)"
   ]
  },
  {
   "cell_type": "code",
   "execution_count": 20,
   "metadata": {
    "collapsed": true
   },
   "outputs": [],
   "source": [
    "session <- browserSession()\n",
    "genome(session) <- \"hg19\""
   ]
  },
  {
   "cell_type": "raw",
   "metadata": {
    "collapsed": true
   },
   "source": [
    "# trackNames(session) # show the available track names -- look for conservation track"
   ]
  },
  {
   "cell_type": "code",
   "execution_count": 21,
   "metadata": {
    "collapsed": true
   },
   "outputs": [],
   "source": [
    "query <- ucscTableQuery(session, \"cons46way\", GRangesForUCSCGenome(\"hg19\", chrom=paste0(\"chr\", 1:22)))"
   ]
  },
  {
   "cell_type": "code",
   "execution_count": 22,
   "metadata": {},
   "outputs": [
    {
     "data": {
      "text/html": [
       "<ol class=list-inline>\n",
       "\t<li>'phyloP46wayPrimates'</li>\n",
       "\t<li>'phyloP46wayPlacental'</li>\n",
       "\t<li>'phyloP46wayAll'</li>\n",
       "\t<li>'phastCons46wayPrimates'</li>\n",
       "\t<li>'phastCons46wayPlacental'</li>\n",
       "\t<li>'phastCons46way'</li>\n",
       "\t<li>'phastConsElements46wayPrimates'</li>\n",
       "\t<li>'phastConsElements46wayPlacental'</li>\n",
       "\t<li>'phastConsElements46way'</li>\n",
       "\t<li>'multiz46way'</li>\n",
       "</ol>\n"
      ],
      "text/latex": [
       "\\begin{enumerate*}\n",
       "\\item 'phyloP46wayPrimates'\n",
       "\\item 'phyloP46wayPlacental'\n",
       "\\item 'phyloP46wayAll'\n",
       "\\item 'phastCons46wayPrimates'\n",
       "\\item 'phastCons46wayPlacental'\n",
       "\\item 'phastCons46way'\n",
       "\\item 'phastConsElements46wayPrimates'\n",
       "\\item 'phastConsElements46wayPlacental'\n",
       "\\item 'phastConsElements46way'\n",
       "\\item 'multiz46way'\n",
       "\\end{enumerate*}\n"
      ],
      "text/markdown": [
       "1. 'phyloP46wayPrimates'\n",
       "2. 'phyloP46wayPlacental'\n",
       "3. 'phyloP46wayAll'\n",
       "4. 'phastCons46wayPrimates'\n",
       "5. 'phastCons46wayPlacental'\n",
       "6. 'phastCons46way'\n",
       "7. 'phastConsElements46wayPrimates'\n",
       "8. 'phastConsElements46wayPlacental'\n",
       "9. 'phastConsElements46way'\n",
       "10. 'multiz46way'\n",
       "\n",
       "\n"
      ],
      "text/plain": [
       " [1] \"phyloP46wayPrimates\"             \"phyloP46wayPlacental\"           \n",
       " [3] \"phyloP46wayAll\"                  \"phastCons46wayPrimates\"         \n",
       " [5] \"phastCons46wayPlacental\"         \"phastCons46way\"                 \n",
       " [7] \"phastConsElements46wayPrimates\"  \"phastConsElements46wayPlacental\"\n",
       " [9] \"phastConsElements46way\"          \"multiz46way\"                    "
      ]
     },
     "metadata": {},
     "output_type": "display_data"
    }
   ],
   "source": [
    "tableNames(query)"
   ]
  },
  {
   "cell_type": "code",
   "execution_count": 23,
   "metadata": {
    "collapsed": true
   },
   "outputs": [],
   "source": [
    "tableName(query) <- \"phastConsElements46wayPrimates\""
   ]
  },
  {
   "cell_type": "code",
   "execution_count": 24,
   "metadata": {
    "collapsed": true
   },
   "outputs": [],
   "source": [
    "regions[[\"priPhastCons\"]] <-\n",
    "    getTable(query) %>%\n",
    "    select(-bin, -name, -score) %>%\n",
    "    makeGRangesFromDataFrame(starts.in.df.are.0based=TRUE)"
   ]
  },
  {
   "cell_type": "markdown",
   "metadata": {},
   "source": [
    "## Reduce all regions and convert their coordinates to UCSC hg19"
   ]
  },
  {
   "cell_type": "markdown",
   "metadata": {},
   "source": [
    "Convert all coordinate dataframes into individual `GRanges` objects:"
   ]
  },
  {
   "cell_type": "code",
   "execution_count": 25,
   "metadata": {},
   "outputs": [],
   "source": [
    "regions <- lapply(regions,\n",
    "                  function(r) {\n",
    "                      reduced_r <- IRanges::reduce(r)\n",
    "                      seqlevelsStyle(reduced_r) <- \"UCSC\"\n",
    "                      seqinfo(reduced_r) <- seqinfo(BSgenome.Hsapiens.UCSC.hg19)\n",
    "                      \n",
    "                      reduced_r\n",
    "                  })"
   ]
  },
  {
   "cell_type": "code",
   "execution_count": 26,
   "metadata": {},
   "outputs": [
    {
     "data": {
      "text/html": [
       "<ol class=list-inline>\n",
       "\t<li>'protein_coding'</li>\n",
       "\t<li>'ctcf_binding_site'</li>\n",
       "\t<li>'enhancer'</li>\n",
       "\t<li>'open_chromatin'</li>\n",
       "\t<li>'promoter'</li>\n",
       "\t<li>'promoter_flanking_region'</li>\n",
       "\t<li>'tf_binding_site'</li>\n",
       "\t<li>'priPhastCons'</li>\n",
       "</ol>\n"
      ],
      "text/latex": [
       "\\begin{enumerate*}\n",
       "\\item 'protein\\_coding'\n",
       "\\item 'ctcf\\_binding\\_site'\n",
       "\\item 'enhancer'\n",
       "\\item 'open\\_chromatin'\n",
       "\\item 'promoter'\n",
       "\\item 'promoter\\_flanking\\_region'\n",
       "\\item 'tf\\_binding\\_site'\n",
       "\\item 'priPhastCons'\n",
       "\\end{enumerate*}\n"
      ],
      "text/markdown": [
       "1. 'protein_coding'\n",
       "2. 'ctcf_binding_site'\n",
       "3. 'enhancer'\n",
       "4. 'open_chromatin'\n",
       "5. 'promoter'\n",
       "6. 'promoter_flanking_region'\n",
       "7. 'tf_binding_site'\n",
       "8. 'priPhastCons'\n",
       "\n",
       "\n"
      ],
      "text/plain": [
       "[1] \"protein_coding\"           \"ctcf_binding_site\"       \n",
       "[3] \"enhancer\"                 \"open_chromatin\"          \n",
       "[5] \"promoter\"                 \"promoter_flanking_region\"\n",
       "[7] \"tf_binding_site\"          \"priPhastCons\"            "
      ]
     },
     "metadata": {},
     "output_type": "display_data"
    }
   ],
   "source": [
    "names(regions)"
   ]
  },
  {
   "cell_type": "markdown",
   "metadata": {},
   "source": [
    "## Get the hits of each site in different genomic regions"
   ]
  },
  {
   "cell_type": "code",
   "execution_count": 27,
   "metadata": {
    "collapsed": true
   },
   "outputs": [],
   "source": [
    "for (r in names(regions)) {\n",
    "    col_name <- paste0(\"hits_\", r)\n",
    "\n",
    "    # find which sites are falling within a given region\n",
    "    hits <- findOverlaps(sites, regions[[r]])\n",
    "\n",
    "    # mark which sites hit a region\n",
    "    mcols(sites)[[col_name]] <- 0\n",
    "    mcols(sites[queryHits(hits)])[[col_name]] <- 1\n",
    "}"
   ]
  },
  {
   "cell_type": "markdown",
   "metadata": {},
   "source": [
    "## Get average primate phastCons per window"
   ]
  },
  {
   "cell_type": "code",
   "execution_count": 28,
   "metadata": {
    "collapsed": true
   },
   "outputs": [],
   "source": [
    "priPhastCons_avg <-\n",
    "    read.table(\"../clean_data/annotations/priPhCons__100000bp.bed\", header=FALSE) %>%\n",
    "    .[1:4] %>%\n",
    "    setNames(c(\"chrom\", \"start\", \"end\", \"value\")) %>%\n",
    "    arrange(chrom, start) %>% \n",
    "    mutate(chrom=paste0(\"chr\", chrom)) %>% \n",
    "    makeGRangesFromDataFrame(starts.in.df.are.0based=TRUE, keep.extra=TRUE)"
   ]
  },
  {
   "cell_type": "code",
   "execution_count": 29,
   "metadata": {
    "collapsed": true
   },
   "outputs": [],
   "source": [
    "mcols(sites)[[\"priPhastCons_avg\"]] <- subsetByOverlaps(priPhastCons_avg, sites)$value"
   ]
  },
  {
   "cell_type": "markdown",
   "metadata": {},
   "source": [
    "## Add B values here"
   ]
  },
  {
   "cell_type": "code",
   "execution_count": 30,
   "metadata": {},
   "outputs": [
    {
     "name": "stderr",
     "output_type": "stream",
     "text": [
      "Warning message:\n",
      "“package ‘BSgenome.Hsapiens.UCSC.hg18’ was built under R version 3.4.0”\n",
      "Attaching package: ‘BSgenome.Hsapiens.UCSC.hg18’\n",
      "\n",
      "The following object is masked from ‘package:BSgenome.Hsapiens.UCSC.hg19’:\n",
      "\n",
      "    Hsapiens\n",
      "\n"
     ]
    }
   ],
   "source": [
    "source(\"../R/assign_bvals.R\")"
   ]
  },
  {
   "cell_type": "code",
   "execution_count": 31,
   "metadata": {},
   "outputs": [],
   "source": [
    "sites <- assign_bvals(sites, bval_path=\"../raw_data/bkgd/\", chain_path=\"../raw_data/hg18ToHg19.over.chain\")"
   ]
  },
  {
   "cell_type": "markdown",
   "metadata": {},
   "source": [
    "## Calculate Neanderthal allele frequency at each locus"
   ]
  },
  {
   "cell_type": "markdown",
   "metadata": {},
   "source": [
    "A couple of sanity checks - do we get an expected average Nea. allele frequency between 0 and 1 and mean of around 1.8% in Europeans?"
   ]
  },
  {
   "cell_type": "code",
   "execution_count": 32,
   "metadata": {},
   "outputs": [
    {
     "data": {
      "text/plain": [
       "Length  Class   Mode \n",
       "     0   NULL   NULL "
      ]
     },
     "metadata": {},
     "output_type": "display_data"
    },
    {
     "data": {
      "text/plain": [
       "Length  Class   Mode \n",
       "     0   NULL   NULL "
      ]
     },
     "metadata": {},
     "output_type": "display_data"
    }
   ],
   "source": [
    "summary(sites$freq_eur)\n",
    "summary(sites$freq_all)"
   ]
  },
  {
   "cell_type": "markdown",
   "metadata": {},
   "source": [
    "## Convert the final `GRanges` object to a normal data frame for the analyses bellow"
   ]
  },
  {
   "cell_type": "code",
   "execution_count": 144,
   "metadata": {
    "collapsed": true
   },
   "outputs": [],
   "source": [
    "tbl <- as.data.frame(sites) %>%\n",
    "    select(-width, -strand) %>%\n",
    "    rename(chrom=seqnames)"
   ]
  },
  {
   "cell_type": "code",
   "execution_count": 145,
   "metadata": {},
   "outputs": [
    {
     "data": {
      "text/html": [
       "<table>\n",
       "<thead><tr><th scope=col>chrom</th><th scope=col>start</th><th scope=col>end</th><th scope=col>freq_eur</th><th scope=col>freq_all</th><th scope=col>hits_protein_coding</th><th scope=col>hits_ctcf_binding_site</th><th scope=col>hits_enhancer</th><th scope=col>hits_open_chromatin</th><th scope=col>hits_promoter</th><th scope=col>hits_promoter_flanking_region</th><th scope=col>hits_tf_binding_site</th><th scope=col>hits_priPhastCons</th><th scope=col>priPhastCons_avg</th></tr></thead>\n",
       "<tbody>\n",
       "\t<tr><td>chr1       </td><td>847983     </td><td>847983     </td><td>0          </td><td>0.005076142</td><td>0          </td><td>1          </td><td>0          </td><td>0          </td><td>0          </td><td>0          </td><td>0          </td><td>0          </td><td>0.047667   </td></tr>\n",
       "\t<tr><td>chr1       </td><td>853089     </td><td>853089     </td><td>0          </td><td>0.005102041</td><td>0          </td><td>1          </td><td>0          </td><td>0          </td><td>0          </td><td>0          </td><td>0          </td><td>0          </td><td>0.049807   </td></tr>\n",
       "\t<tr><td>chr1       </td><td>853596     </td><td>853596     </td><td>0          </td><td>0.005076142</td><td>0          </td><td>0          </td><td>0          </td><td>0          </td><td>0          </td><td>0          </td><td>0          </td><td>0          </td><td>0.049866   </td></tr>\n",
       "\t<tr><td>chr1       </td><td>854793     </td><td>854793     </td><td>0          </td><td>0.005076142</td><td>0          </td><td>0          </td><td>0          </td><td>0          </td><td>0          </td><td>0          </td><td>0          </td><td>0          </td><td>0.049938   </td></tr>\n",
       "\t<tr><td>chr1       </td><td>867552     </td><td>867552     </td><td>0          </td><td>0.005076142</td><td>0          </td><td>1          </td><td>0          </td><td>0          </td><td>0          </td><td>0          </td><td>0          </td><td>1          </td><td>0.047507   </td></tr>\n",
       "\t<tr><td>chr1       </td><td>871401     </td><td>871401     </td><td>0          </td><td>0.007614213</td><td>0          </td><td>0          </td><td>0          </td><td>1          </td><td>0          </td><td>0          </td><td>0          </td><td>0          </td><td>0.045560   </td></tr>\n",
       "</tbody>\n",
       "</table>\n"
      ],
      "text/latex": [
       "\\begin{tabular}{r|llllllllllllll}\n",
       " chrom & start & end & freq\\_eur & freq\\_all & hits\\_protein\\_coding & hits\\_ctcf\\_binding\\_site & hits\\_enhancer & hits\\_open\\_chromatin & hits\\_promoter & hits\\_promoter\\_flanking\\_region & hits\\_tf\\_binding\\_site & hits\\_priPhastCons & priPhastCons\\_avg\\\\\n",
       "\\hline\n",
       "\t chr1        & 847983      & 847983      & 0           & 0.005076142 & 0           & 1           & 0           & 0           & 0           & 0           & 0           & 0           & 0.047667   \\\\\n",
       "\t chr1        & 853089      & 853089      & 0           & 0.005102041 & 0           & 1           & 0           & 0           & 0           & 0           & 0           & 0           & 0.049807   \\\\\n",
       "\t chr1        & 853596      & 853596      & 0           & 0.005076142 & 0           & 0           & 0           & 0           & 0           & 0           & 0           & 0           & 0.049866   \\\\\n",
       "\t chr1        & 854793      & 854793      & 0           & 0.005076142 & 0           & 0           & 0           & 0           & 0           & 0           & 0           & 0           & 0.049938   \\\\\n",
       "\t chr1        & 867552      & 867552      & 0           & 0.005076142 & 0           & 1           & 0           & 0           & 0           & 0           & 0           & 1           & 0.047507   \\\\\n",
       "\t chr1        & 871401      & 871401      & 0           & 0.007614213 & 0           & 0           & 0           & 1           & 0           & 0           & 0           & 0           & 0.045560   \\\\\n",
       "\\end{tabular}\n"
      ],
      "text/markdown": [
       "\n",
       "chrom | start | end | freq_eur | freq_all | hits_protein_coding | hits_ctcf_binding_site | hits_enhancer | hits_open_chromatin | hits_promoter | hits_promoter_flanking_region | hits_tf_binding_site | hits_priPhastCons | priPhastCons_avg | \n",
       "|---|---|---|---|---|---|\n",
       "| chr1        | 847983      | 847983      | 0           | 0.005076142 | 0           | 1           | 0           | 0           | 0           | 0           | 0           | 0           | 0.047667    | \n",
       "| chr1        | 853089      | 853089      | 0           | 0.005102041 | 0           | 1           | 0           | 0           | 0           | 0           | 0           | 0           | 0.049807    | \n",
       "| chr1        | 853596      | 853596      | 0           | 0.005076142 | 0           | 0           | 0           | 0           | 0           | 0           | 0           | 0           | 0.049866    | \n",
       "| chr1        | 854793      | 854793      | 0           | 0.005076142 | 0           | 0           | 0           | 0           | 0           | 0           | 0           | 0           | 0.049938    | \n",
       "| chr1        | 867552      | 867552      | 0           | 0.005076142 | 0           | 1           | 0           | 0           | 0           | 0           | 0           | 1           | 0.047507    | \n",
       "| chr1        | 871401      | 871401      | 0           | 0.007614213 | 0           | 0           | 0           | 1           | 0           | 0           | 0           | 0           | 0.045560    | \n",
       "\n",
       "\n"
      ],
      "text/plain": [
       "  chrom start  end    freq_eur freq_all    hits_protein_coding\n",
       "1 chr1  847983 847983 0        0.005076142 0                  \n",
       "2 chr1  853089 853089 0        0.005102041 0                  \n",
       "3 chr1  853596 853596 0        0.005076142 0                  \n",
       "4 chr1  854793 854793 0        0.005076142 0                  \n",
       "5 chr1  867552 867552 0        0.005076142 0                  \n",
       "6 chr1  871401 871401 0        0.007614213 0                  \n",
       "  hits_ctcf_binding_site hits_enhancer hits_open_chromatin hits_promoter\n",
       "1 1                      0             0                   0            \n",
       "2 1                      0             0                   0            \n",
       "3 0                      0             0                   0            \n",
       "4 0                      0             0                   0            \n",
       "5 1                      0             0                   0            \n",
       "6 0                      0             1                   0            \n",
       "  hits_promoter_flanking_region hits_tf_binding_site hits_priPhastCons\n",
       "1 0                             0                    0                \n",
       "2 0                             0                    0                \n",
       "3 0                             0                    0                \n",
       "4 0                             0                    0                \n",
       "5 0                             0                    1                \n",
       "6 0                             0                    0                \n",
       "  priPhastCons_avg\n",
       "1 0.047667        \n",
       "2 0.049807        \n",
       "3 0.049866        \n",
       "4 0.049938        \n",
       "5 0.047507        \n",
       "6 0.045560        "
      ]
     },
     "metadata": {},
     "output_type": "display_data"
    }
   ],
   "source": [
    "head(tbl)"
   ]
  },
  {
   "cell_type": "code",
   "execution_count": 146,
   "metadata": {
    "collapsed": true
   },
   "outputs": [],
   "source": [
    "save(genotypes, regions, sites, tbl,\n",
    "     file=\"../RData/predictor_analysis.RData\")"
   ]
  },
  {
   "cell_type": "markdown",
   "metadata": {},
   "source": [
    "## Modeling the dependence of Nea. frequency on functional predictors"
   ]
  },
  {
   "cell_type": "code",
   "execution_count": 147,
   "metadata": {
    "collapsed": true
   },
   "outputs": [],
   "source": [
    "load(\"../RData/predictor_analysis.RData\")"
   ]
  },
  {
   "cell_type": "code",
   "execution_count": 169,
   "metadata": {},
   "outputs": [
    {
     "data": {
      "text/plain": [
       "\n",
       "Call:\n",
       "glm(formula = freq_all > 0 ~ hits_protein_coding + hits_priPhastCons + \n",
       "    hits_promoter + hits_promoter_flanking_region + hits_ctcf_binding_site + \n",
       "    hits_enhancer + hits_open_chromatin + hits_tf_binding_site, \n",
       "    family = \"binomial\", data = tbl)\n",
       "\n",
       "Deviance Residuals: \n",
       "   Min      1Q  Median      3Q     Max  \n",
       "-1.234  -1.192   1.156   1.163   1.320  \n",
       "\n",
       "Coefficients:\n",
       "                               Estimate Std. Error z value             Pr(>|z|)\n",
       "(Intercept)                    0.033716   0.003072  10.974 < 0.0000000000000002\n",
       "hits_protein_coding           -0.070393   0.016332  -4.310     0.00001631191334\n",
       "hits_priPhastCons             -0.111258   0.015716  -7.079     0.00000000000145\n",
       "hits_promoter                 -0.181068   0.028410  -6.373     0.00000000018502\n",
       "hits_promoter_flanking_region -0.065357   0.017707  -3.691             0.000223\n",
       "hits_ctcf_binding_site         0.015843   0.022013   0.720             0.471715\n",
       "hits_enhancer                 -0.007648   0.031692  -0.241             0.809301\n",
       "hits_open_chromatin           -0.015030   0.019206  -0.783             0.433902\n",
       "hits_tf_binding_site           0.082247   0.042461   1.937             0.052744\n",
       "                                 \n",
       "(Intercept)                   ***\n",
       "hits_protein_coding           ***\n",
       "hits_priPhastCons             ***\n",
       "hits_promoter                 ***\n",
       "hits_promoter_flanking_region ***\n",
       "hits_ctcf_binding_site           \n",
       "hits_enhancer                    \n",
       "hits_open_chromatin              \n",
       "hits_tf_binding_site          .  \n",
       "---\n",
       "Signif. codes:  0 ‘***’ 0.001 ‘**’ 0.01 ‘*’ 0.05 ‘.’ 0.1 ‘ ’ 1\n",
       "\n",
       "(Dispersion parameter for binomial family taken to be 1)\n",
       "\n",
       "    Null deviance: 670920  on 484015  degrees of freedom\n",
       "Residual deviance: 670763  on 484007  degrees of freedom\n",
       "AIC: 670781\n",
       "\n",
       "Number of Fisher Scoring iterations: 3\n"
      ]
     },
     "metadata": {},
     "output_type": "display_data"
    }
   ],
   "source": [
    "fit <- glm(data=tbl, freq_all > 0 ~ hits_protein_coding + hits_priPhastCons + hits_promoter + hits_promoter_flanking_region + hits_ctcf_binding_site + hits_enhancer + hits_open_chromatin + hits_tf_binding_site, family=\"binomial\")\n",
    "summary(fit)"
   ]
  },
  {
   "cell_type": "code",
   "execution_count": 167,
   "metadata": {},
   "outputs": [
    {
     "data": {
      "text/plain": [
       "\n",
       "Call:\n",
       "glm(formula = freq_all > 0 ~ hits_protein_coding + hits_priPhastCons + \n",
       "    hits_promoter + hits_promoter_flanking_region + hits_ctcf_binding_site + \n",
       "    hits_enhancer + hits_open_chromatin + hits_tf_binding_site, \n",
       "    family = \"binomial\", data = sample_frac(tbl, replace = TRUE))\n",
       "\n",
       "Deviance Residuals: \n",
       "   Min      1Q  Median      3Q     Max  \n",
       "-1.240  -1.193   1.162   1.162   1.341  \n",
       "\n",
       "Coefficients:\n",
       "                               Estimate Std. Error z value             Pr(>|z|)\n",
       "(Intercept)                    0.035509   0.003073  11.554 < 0.0000000000000002\n",
       "hits_protein_coding           -0.043933   0.016371  -2.684              0.00728\n",
       "hits_priPhastCons             -0.116891   0.015723  -7.434    0.000000000000105\n",
       "hits_promoter                 -0.242634   0.028221  -8.598 < 0.0000000000000002\n",
       "hits_promoter_flanking_region -0.079504   0.017620  -4.512    0.000006418662924\n",
       "hits_ctcf_binding_site        -0.008874   0.022027  -0.403              0.68704\n",
       "hits_enhancer                 -0.066724   0.031791  -2.099              0.03583\n",
       "hits_open_chromatin           -0.024608   0.019009  -1.295              0.19548\n",
       "hits_tf_binding_site           0.110865   0.043182   2.567              0.01025\n",
       "                                 \n",
       "(Intercept)                   ***\n",
       "hits_protein_coding           ** \n",
       "hits_priPhastCons             ***\n",
       "hits_promoter                 ***\n",
       "hits_promoter_flanking_region ***\n",
       "hits_ctcf_binding_site           \n",
       "hits_enhancer                 *  \n",
       "hits_open_chromatin              \n",
       "hits_tf_binding_site          *  \n",
       "---\n",
       "Signif. codes:  0 ‘***’ 0.001 ‘**’ 0.01 ‘*’ 0.05 ‘.’ 0.1 ‘ ’ 1\n",
       "\n",
       "(Dispersion parameter for binomial family taken to be 1)\n",
       "\n",
       "    Null deviance: 670918  on 484015  degrees of freedom\n",
       "Residual deviance: 670722  on 484007  degrees of freedom\n",
       "AIC: 670740\n",
       "\n",
       "Number of Fisher Scoring iterations: 3\n"
      ]
     },
     "metadata": {},
     "output_type": "display_data"
    }
   ],
   "source": [
    "fit <- glm(data=sample_frac(tbl, replace=TRUE), freq_all > 0 ~ hits_protein_coding + hits_priPhastCons + hits_promoter + hits_promoter_flanking_region + hits_ctcf_binding_site + hits_enhancer + hits_open_chromatin + hits_tf_binding_site, family=\"binomial\")\n",
    "summary(fit)"
   ]
  }
 ],
 "metadata": {
  "kernelspec": {
   "display_name": "R",
   "language": "R",
   "name": "ir"
  },
  "language_info": {
   "codemirror_mode": "r",
   "file_extension": ".r",
   "mimetype": "text/x-r-source",
   "name": "R",
   "pygments_lexer": "r",
   "version": "3.3.1"
  }
 },
 "nbformat": 4,
 "nbformat_minor": 2
}
