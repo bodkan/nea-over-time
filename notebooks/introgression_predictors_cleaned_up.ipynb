{
 "cells": [
  {
   "cell_type": "markdown",
   "metadata": {},
   "source": [
    "**TODO** select non-overlapping windows only (to avoid the non-independence between sites)"
   ]
  },
  {
   "cell_type": "markdown",
   "metadata": {},
   "source": [
    "The basic idea is to find out which categories of genomic regions (exons, promoters, enhancers, etc) contribute the most to the Nea. ancestry observed in present day Europeans. For example: have coding regions or enhancers been the main drivers of selection against Nea. introgression?"
   ]
  },
  {
   "cell_type": "markdown",
   "metadata": {},
   "source": [
    "Links:\n",
    "\n",
    "* info about different coordinate types: https://groups.google.com/forum/#!msg/biomart-users/OtQbAx3y9CA/wrF19ID1AgAJ\n",
    "* https://www.biostars.org/p/2005/\n",
    "* http://www.bioconductor.org/packages/release/bioc/vignettes/biomaRt/inst/doc/biomaRt.html#attribute-pages\n",
    "* http://www.ensembl.org/info/data/biomart/biomart_r_package.html\n",
    "* http://www.ensembl.info/blog/2015/06/01/biomart-or-how-to-access-the-ensembl-data-from-r/\n",
    "* for checking with manually downloaded data: http://www.ensembl.org/info/data/biomart/how_to_use_biomart.html\n",
    "* biotypes FAQ: http://www.ensembl.org/Help/Glossary"
   ]
  },
  {
   "cell_type": "raw",
   "metadata": {},
   "source": [
    "source(\"http://bioconductor.org/biocLite.R\")\n",
    "biocLite(\"biomaRt\")\n",
    "biocLite(\"rtracklayer\")\n",
    "biocLite(\"BSgenome.Hsapiens.UCSC.hg19\")\n",
    "biocLite(\"BSgenome.Hsapiens.UCSC.hg18\")"
   ]
  },
  {
   "cell_type": "markdown",
   "metadata": {},
   "source": [
    "Following [this](http://www.ensembl.org/info/data/biomart/biomart_r_package.html) tutorial, I want to extract coordinates of exonic and regulatory regions from the Ensembl database and then calculate the density of such regions in a defined window around each SNP.\n",
    "\n",
    "These densities will they be used as predictors in a linear model, predicting the Nea. ancestry at each site.\n",
    "\n",
    "Alternatively, I could just test if the distribution of densities for different regions differ based on frequency of Nea. alleles at each site."
   ]
  },
  {
   "cell_type": "code",
   "execution_count": 1,
   "metadata": {},
   "outputs": [
    {
     "name": "stderr",
     "output_type": "stream",
     "text": [
      "Loading required package: GenomicRanges\n",
      "Loading required package: stats4\n",
      "Loading required package: BiocGenerics\n",
      "Loading required package: parallel\n",
      "\n",
      "Attaching package: ‘BiocGenerics’\n",
      "\n",
      "The following objects are masked from ‘package:parallel’:\n",
      "\n",
      "    clusterApply, clusterApplyLB, clusterCall, clusterEvalQ,\n",
      "    clusterExport, clusterMap, parApply, parCapply, parLapply,\n",
      "    parLapplyLB, parRapply, parSapply, parSapplyLB\n",
      "\n",
      "The following objects are masked from ‘package:stats’:\n",
      "\n",
      "    IQR, mad, xtabs\n",
      "\n",
      "The following objects are masked from ‘package:base’:\n",
      "\n",
      "    Filter, Find, Map, Position, Reduce, anyDuplicated, append,\n",
      "    as.data.frame, cbind, colnames, do.call, duplicated, eval, evalq,\n",
      "    get, grep, grepl, intersect, is.unsorted, lapply, lengths, mapply,\n",
      "    match, mget, order, paste, pmax, pmax.int, pmin, pmin.int, rank,\n",
      "    rbind, rownames, sapply, setdiff, sort, table, tapply, union,\n",
      "    unique, unsplit, which, which.max, which.min\n",
      "\n",
      "Loading required package: S4Vectors\n",
      "\n",
      "Attaching package: ‘S4Vectors’\n",
      "\n",
      "The following objects are masked from ‘package:base’:\n",
      "\n",
      "    colMeans, colSums, expand.grid, rowMeans, rowSums\n",
      "\n",
      "Loading required package: IRanges\n",
      "Loading required package: GenomeInfoDb\n",
      "Loading required package: BSgenome\n",
      "Loading required package: Biostrings\n",
      "Loading required package: XVector\n"
     ]
    }
   ],
   "source": [
    "suppressWarnings({\n",
    "    library(biomaRt)\n",
    "    library(rtracklayer)\n",
    "    library(BSgenome.Hsapiens.UCSC.hg19)\n",
    "})"
   ]
  },
  {
   "cell_type": "code",
   "execution_count": 2,
   "metadata": {},
   "outputs": [
    {
     "name": "stderr",
     "output_type": "stream",
     "text": [
      "Loading tidyverse: ggplot2\n",
      "Loading tidyverse: tibble\n",
      "Loading tidyverse: tidyr\n",
      "Loading tidyverse: readr\n",
      "Loading tidyverse: purrr\n",
      "Loading tidyverse: dplyr\n",
      "Conflicts with tidy packages ---------------------------------------------------\n",
      "Position(): ggplot2, BiocGenerics, base\n",
      "collapse(): dplyr, Biostrings, IRanges\n",
      "combine():  dplyr, BiocGenerics\n",
      "compact():  purrr, XVector\n",
      "desc():     dplyr, IRanges\n",
      "expand():   tidyr, S4Vectors\n",
      "filter():   dplyr, stats\n",
      "first():    dplyr, S4Vectors\n",
      "lag():      dplyr, stats\n",
      "reduce():   purrr, GenomicRanges, IRanges\n",
      "rename():   dplyr, S4Vectors\n",
      "select():   dplyr, biomaRt\n",
      "simplify(): purrr, IRanges\n",
      "slice():    dplyr, XVector, IRanges\n",
      "\n",
      "Attaching package: ‘magrittr’\n",
      "\n",
      "The following object is masked from ‘package:purrr’:\n",
      "\n",
      "    set_names\n",
      "\n",
      "The following object is masked from ‘package:tidyr’:\n",
      "\n",
      "    extract\n",
      "\n"
     ]
    }
   ],
   "source": [
    "suppressWarnings({\n",
    "    library(tidyverse)\n",
    "    library(stringr)\n",
    "    library(magrittr)\n",
    "})"
   ]
  },
  {
   "cell_type": "markdown",
   "metadata": {},
   "source": [
    "## Get coordinates of admixture array sites"
   ]
  },
  {
   "cell_type": "code",
   "execution_count": 3,
   "metadata": {
    "collapsed": true
   },
   "outputs": [],
   "source": [
    "source(\"../R/utils.R\")"
   ]
  },
  {
   "cell_type": "code",
   "execution_count": 4,
   "metadata": {},
   "outputs": [
    {
     "name": "stderr",
     "output_type": "stream",
     "text": [
      "Warning message:\n",
      "“Missing column names filled in: 'X12' [12], 'X13' [13], 'X14' [14], 'X15' [15], 'X16' [16], 'X17' [17], 'X18' [18], 'X19' [19], 'X20' [20], 'X21' [21], 'X22' [22], 'X23' [23], 'X24' [24]”Parsed with column specification:\n",
      "cols(\n",
      "  .default = col_character(),\n",
      "  Latitude = col_double(),\n",
      "  Longitude = col_double(),\n",
      "  Coverage = col_integer(),\n",
      "  HetRateAuto = col_double()\n",
      ")\n",
      "See spec(...) for full column specifications.\n",
      "Parsed with column specification:\n",
      "cols(\n",
      "  name = col_character(),\n",
      "  age = col_integer()\n",
      ")\n"
     ]
    }
   ],
   "source": [
    "# load the sample information\n",
    "sgdp <- load_sgdp_info(\"../raw_data/10_24_2014_SGDP_metainformation_update.txt\") %>%\n",
    "    filter(! Region %in% c(\"Africa\", \"Oceania\")) %>%\n",
    "    dplyr::select(-Country, pop=Region) %>%\n",
    "    mutate(age=0) %>%\n",
    "    group_by(name, age, pop) %>%\n",
    "    summarise(Latitude=mean(Latitude), Longitude=mean(Longitude)) %>%\n",
    "    ungroup\n",
    "emhs <- read_delim(\"../clean_data/emh_ages.txt\", delim=\" \", col_names=c(\"name\", \"age\")) %>%\n",
    "    mutate(name=str_replace(name, \"-\", \"_\"), pop=\"EMH\", Latitude=NA, Longitude=NA) %>%\n",
    "    filter(name != \"Oase1\")\n",
    "samples <- bind_rows(emhs, sgdp)"
   ]
  },
  {
   "cell_type": "code",
   "execution_count": 5,
   "metadata": {},
   "outputs": [
    {
     "name": "stderr",
     "output_type": "stream",
     "text": [
      "Parsed with column specification:\n",
      "cols(\n",
      "  .default = col_integer(),\n",
      "  ref = col_character(),\n",
      "  alt = col_character()\n",
      ")\n",
      "See spec(...) for full column specifications.\n",
      "Parsed with column specification:\n",
      "cols(\n",
      "  .default = col_integer(),\n",
      "  ref = col_character(),\n",
      "  alt = col_character()\n",
      ")\n",
      "See spec(...) for full column specifications.\n",
      "Parsed with column specification:\n",
      "cols(\n",
      "  chrom = col_integer(),\n",
      "  pos = col_integer(),\n",
      "  ref = col_character(),\n",
      "  alt = col_character(),\n",
      "  Altai = col_integer(),\n",
      "  Vindija = col_integer(),\n",
      "  Denisovan = col_integer()\n",
      ")\n",
      "Joining, by = c(\"chrom\", \"pos\", \"ref\", \"alt\")\n",
      "Joining, by = c(\"chrom\", \"pos\", \"ref\", \"alt\")\n"
     ]
    }
   ],
   "source": [
    "genotypes <-\n",
    "    load_dataset(\"../clean_data/ice_age.tsv\",\n",
    "                 \"../clean_data/sgdp.tsv\",\n",
    "                 \"../clean_data/archaics.tsv\",\n",
    "                 random_sample=FALSE) %>%\n",
    "    select(c(\"chrom\", \"pos\", sgdp$name)) %>%\n",
    "    mutate(start=pos, end=pos) %>%\n",
    "    select(-pos) %>%\n",
    "    makeGRangesFromDataFrame(keep.extra.columns=TRUE)\n",
    "\n",
    "seqlevelsStyle(genotypes) <- \"UCSC\"\n",
    "seqinfo(genotypes) <- seqinfo(BSgenome.Hsapiens.UCSC.hg19)"
   ]
  },
  {
   "cell_type": "code",
   "execution_count": 6,
   "metadata": {
    "collapsed": true
   },
   "outputs": [],
   "source": [
    "sites <- granges(genotypes)"
   ]
  },
  {
   "cell_type": "code",
   "execution_count": 7,
   "metadata": {},
   "outputs": [
    {
     "data": {
      "text/plain": [
       "GRanges object with 484016 ranges and 0 metadata columns:\n",
       "           seqnames               ranges strand\n",
       "              <Rle>            <IRanges>  <Rle>\n",
       "       [1]     chr1     [847983, 847983]      *\n",
       "       [2]     chr1     [853089, 853089]      *\n",
       "       [3]     chr1     [853596, 853596]      *\n",
       "       [4]     chr1     [854793, 854793]      *\n",
       "       [5]     chr1     [867552, 867552]      *\n",
       "       ...      ...                  ...    ...\n",
       "  [484012]    chr22 [51142979, 51142979]      *\n",
       "  [484013]    chr22 [51145136, 51145136]      *\n",
       "  [484014]    chr22 [51154908, 51154908]      *\n",
       "  [484015]    chr22 [51174091, 51174091]      *\n",
       "  [484016]    chr22 [51177248, 51177248]      *\n",
       "  -------\n",
       "  seqinfo: 93 sequences (1 circular) from hg19 genome"
      ]
     },
     "metadata": {},
     "output_type": "display_data"
    }
   ],
   "source": [
    "sites"
   ]
  },
  {
   "cell_type": "markdown",
   "metadata": {},
   "source": [
    "## Calculate Neanderthal allele frequency at each locus"
   ]
  },
  {
   "cell_type": "code",
   "execution_count": 8,
   "metadata": {},
   "outputs": [],
   "source": [
    "freq_eur <- 1/2 * apply(mcols(genotypes)[filter(samples, pop == \"WestEurasia\")$name], 1, mean, na.rm=TRUE)"
   ]
  },
  {
   "cell_type": "code",
   "execution_count": 9,
   "metadata": {
    "collapsed": true
   },
   "outputs": [],
   "source": [
    "freq_all <- 1/2 * apply(mcols(genotypes)[filter(samples, pop != \"EMH\")$name], 1, mean, na.rm=TRUE)"
   ]
  },
  {
   "cell_type": "code",
   "execution_count": 10,
   "metadata": {
    "collapsed": true
   },
   "outputs": [],
   "source": [
    "mcols(sites)[[\"freq_eur\"]] <- freq_eur\n",
    "mcols(sites)[[\"freq_all\"]] <- freq_all"
   ]
  },
  {
   "cell_type": "code",
   "execution_count": 11,
   "metadata": {},
   "outputs": [
    {
     "data": {
      "text/plain": [
       "   Min. 1st Qu.  Median    Mean 3rd Qu.    Max. \n",
       "0.00000 0.00000 0.00000 0.01830 0.01493 1.00000 "
      ]
     },
     "metadata": {},
     "output_type": "display_data"
    },
    {
     "data": {
      "text/plain": [
       "    Min.  1st Qu.   Median     Mean  3rd Qu.     Max. \n",
       "0.000000 0.000000 0.002538 0.020440 0.020300 1.000000 "
      ]
     },
     "metadata": {},
     "output_type": "display_data"
    }
   ],
   "source": [
    "summary(sites$freq_eur)\n",
    "summary(sites$freq_all)"
   ]
  },
  {
   "cell_type": "markdown",
   "metadata": {},
   "source": [
    "# Fetch coordinates of different genomic regions"
   ]
  },
  {
   "cell_type": "code",
   "execution_count": 12,
   "metadata": {
    "collapsed": true
   },
   "outputs": [],
   "source": [
    "regions <- list()"
   ]
  },
  {
   "cell_type": "markdown",
   "metadata": {},
   "source": [
    "## CDS and UTR coordinates"
   ]
  },
  {
   "cell_type": "markdown",
   "metadata": {},
   "source": [
    "Show all the available biomarts for hg19:"
   ]
  },
  {
   "cell_type": "code",
   "execution_count": 13,
   "metadata": {},
   "outputs": [
    {
     "data": {
      "text/html": [
       "<table>\n",
       "<thead><tr><th scope=col>biomart</th><th scope=col>version</th></tr></thead>\n",
       "<tbody>\n",
       "\t<tr><td>ENSEMBL_MART_ENSEMBL </td><td>Ensembl Genes 90     </td></tr>\n",
       "\t<tr><td>ENSEMBL_MART_SNP     </td><td>Ensembl Variation 90 </td></tr>\n",
       "\t<tr><td>ENSEMBL_MART_FUNCGEN </td><td>Ensembl Regulation 90</td></tr>\n",
       "</tbody>\n",
       "</table>\n"
      ],
      "text/latex": [
       "\\begin{tabular}{r|ll}\n",
       " biomart & version\\\\\n",
       "\\hline\n",
       "\t ENSEMBL\\_MART\\_ENSEMBL & Ensembl Genes 90        \\\\\n",
       "\t ENSEMBL\\_MART\\_SNP     & Ensembl Variation 90    \\\\\n",
       "\t ENSEMBL\\_MART\\_FUNCGEN & Ensembl Regulation 90   \\\\\n",
       "\\end{tabular}\n"
      ],
      "text/markdown": [
       "\n",
       "biomart | version | \n",
       "|---|---|---|\n",
       "| ENSEMBL_MART_ENSEMBL  | Ensembl Genes 90      | \n",
       "| ENSEMBL_MART_SNP      | Ensembl Variation 90  | \n",
       "| ENSEMBL_MART_FUNCGEN  | Ensembl Regulation 90 | \n",
       "\n",
       "\n"
      ],
      "text/plain": [
       "  biomart              version              \n",
       "1 ENSEMBL_MART_ENSEMBL Ensembl Genes 90     \n",
       "2 ENSEMBL_MART_SNP     Ensembl Variation 90 \n",
       "3 ENSEMBL_MART_FUNCGEN Ensembl Regulation 90"
      ]
     },
     "metadata": {},
     "output_type": "display_data"
    }
   ],
   "source": [
    "listMarts(host=\"grch37.ensembl.org\")"
   ]
  },
  {
   "cell_type": "markdown",
   "metadata": {},
   "source": [
    "Connect to the human gene Ensembl dataset:"
   ]
  },
  {
   "cell_type": "code",
   "execution_count": 14,
   "metadata": {},
   "outputs": [
    {
     "data": {
      "text/html": [
       "<table>\n",
       "<thead><tr><th scope=col>dataset</th><th scope=col>description</th><th scope=col>version</th></tr></thead>\n",
       "<tbody>\n",
       "\t<tr><td>hsapiens_gene_ensembl   </td><td>Human genes (GRCh37.p13)</td><td>GRCh37.p13              </td></tr>\n",
       "</tbody>\n",
       "</table>\n"
      ],
      "text/latex": [
       "\\begin{tabular}{r|lll}\n",
       " dataset & description & version\\\\\n",
       "\\hline\n",
       "\t hsapiens\\_gene\\_ensembl & Human genes (GRCh37.p13)  & GRCh37.p13               \\\\\n",
       "\\end{tabular}\n"
      ],
      "text/markdown": [
       "\n",
       "dataset | description | version | \n",
       "|---|\n",
       "| hsapiens_gene_ensembl    | Human genes (GRCh37.p13) | GRCh37.p13               | \n",
       "\n",
       "\n"
      ],
      "text/plain": [
       "  dataset               description              version   \n",
       "1 hsapiens_gene_ensembl Human genes (GRCh37.p13) GRCh37.p13"
      ]
     },
     "metadata": {},
     "output_type": "display_data"
    }
   ],
   "source": [
    "ensembl_mart_genes <- useMart(\"ENSEMBL_MART_ENSEMBL\", host=\"grch37.ensembl.org\")\n",
    "listDatasets(ensembl_mart_genes) %>% filter(str_detect(dataset, \"sapiens\"))"
   ]
  },
  {
   "cell_type": "code",
   "execution_count": 15,
   "metadata": {
    "collapsed": true
   },
   "outputs": [],
   "source": [
    "genes <- useDataset(dataset=\"hsapiens_gene_ensembl\", mart=ensembl_mart_genes)"
   ]
  },
  {
   "cell_type": "markdown",
   "metadata": {},
   "source": [
    "Get coordinates of exons from the gene annotation database:"
   ]
  },
  {
   "cell_type": "code",
   "execution_count": 16,
   "metadata": {
    "collapsed": true
   },
   "outputs": [],
   "source": [
    "exons <-\n",
    "    getBM(c(\"chromosome_name\", \"exon_chrom_start\", \"exon_chrom_end\", \"genomic_coding_start\", \"genomic_coding_end\"),\n",
    "          filters=c(\"chromosome_name\", \"biotype\"),                       # filter for chromosome and biotype\n",
    "          values=list(1:22, \"protein_coding\"),                           # chromosomes 1:22 and \"protein_coding\"\n",
    "          mart=genes)"
   ]
  },
  {
   "cell_type": "markdown",
   "metadata": {},
   "source": [
    "Extract coordinates of CDS only:"
   ]
  },
  {
   "cell_type": "code",
   "execution_count": 17,
   "metadata": {
    "collapsed": true
   },
   "outputs": [],
   "source": [
    "regions[[\"protein_coding\"]] <-\n",
    "    filter(exons, complete.cases(exons)) %>%\n",
    "    select(chrom=chromosome_name, start=genomic_coding_start, end=genomic_coding_end) %>%\n",
    "    arrange(chrom, start) %>%\n",
    "    makeGRangesFromDataFrame"
   ]
  },
  {
   "cell_type": "code",
   "execution_count": 18,
   "metadata": {},
   "outputs": [
    {
     "data": {
      "text/html": [
       "33844885"
      ],
      "text/latex": [
       "33844885"
      ],
      "text/markdown": [
       "33844885"
      ],
      "text/plain": [
       "[1] 33844885"
      ]
     },
     "metadata": {},
     "output_type": "display_data"
    }
   ],
   "source": [
    "sum(width(IRanges::reduce(regions[[\"protein_coding\"]])))"
   ]
  },
  {
   "cell_type": "markdown",
   "metadata": {},
   "source": [
    "Extract coordinates of UTRs (that is, exons minus CDS):"
   ]
  },
  {
   "cell_type": "code",
   "execution_count": 19,
   "metadata": {
    "collapsed": true
   },
   "outputs": [],
   "source": [
    "regions[[\"utr\"]] <-\n",
    "    select(exons, chrom=chromosome_name, start=exon_chrom_start, end=exon_chrom_end) %>%\n",
    "    arrange(chrom, start) %>%\n",
    "    makeGRangesFromDataFrame %>%\n",
    "    IRanges::setdiff(regions[[\"protein_coding\"]])"
   ]
  },
  {
   "cell_type": "code",
   "execution_count": 20,
   "metadata": {},
   "outputs": [
    {
     "data": {
      "text/html": [
       "55968175"
      ],
      "text/latex": [
       "55968175"
      ],
      "text/markdown": [
       "55968175"
      ],
      "text/plain": [
       "[1] 55968175"
      ]
     },
     "metadata": {},
     "output_type": "display_data"
    }
   ],
   "source": [
    "sum(width(IRanges::reduce(regions[[\"utr\"]])))"
   ]
  },
  {
   "cell_type": "markdown",
   "metadata": {},
   "source": [
    "## Coordinates of regulatory features"
   ]
  },
  {
   "cell_type": "markdown",
   "metadata": {},
   "source": [
    "It took forever to find out, how to get the regulatory features. In the end I found it totally by accident in some bugreport mail :( https://support.bioconductor.org/p/39545/"
   ]
  },
  {
   "cell_type": "markdown",
   "metadata": {},
   "source": [
    "Show all the available biomarts for hg19:"
   ]
  },
  {
   "cell_type": "code",
   "execution_count": 21,
   "metadata": {},
   "outputs": [
    {
     "data": {
      "text/html": [
       "<table>\n",
       "<thead><tr><th scope=col>biomart</th><th scope=col>version</th></tr></thead>\n",
       "<tbody>\n",
       "\t<tr><td>ENSEMBL_MART_ENSEMBL </td><td>Ensembl Genes 90     </td></tr>\n",
       "\t<tr><td>ENSEMBL_MART_SNP     </td><td>Ensembl Variation 90 </td></tr>\n",
       "\t<tr><td>ENSEMBL_MART_FUNCGEN </td><td>Ensembl Regulation 90</td></tr>\n",
       "</tbody>\n",
       "</table>\n"
      ],
      "text/latex": [
       "\\begin{tabular}{r|ll}\n",
       " biomart & version\\\\\n",
       "\\hline\n",
       "\t ENSEMBL\\_MART\\_ENSEMBL & Ensembl Genes 90        \\\\\n",
       "\t ENSEMBL\\_MART\\_SNP     & Ensembl Variation 90    \\\\\n",
       "\t ENSEMBL\\_MART\\_FUNCGEN & Ensembl Regulation 90   \\\\\n",
       "\\end{tabular}\n"
      ],
      "text/markdown": [
       "\n",
       "biomart | version | \n",
       "|---|---|---|\n",
       "| ENSEMBL_MART_ENSEMBL  | Ensembl Genes 90      | \n",
       "| ENSEMBL_MART_SNP      | Ensembl Variation 90  | \n",
       "| ENSEMBL_MART_FUNCGEN  | Ensembl Regulation 90 | \n",
       "\n",
       "\n"
      ],
      "text/plain": [
       "  biomart              version              \n",
       "1 ENSEMBL_MART_ENSEMBL Ensembl Genes 90     \n",
       "2 ENSEMBL_MART_SNP     Ensembl Variation 90 \n",
       "3 ENSEMBL_MART_FUNCGEN Ensembl Regulation 90"
      ]
     },
     "metadata": {},
     "output_type": "display_data"
    }
   ],
   "source": [
    "listMarts(host=\"grch37.ensembl.org\")"
   ]
  },
  {
   "cell_type": "markdown",
   "metadata": {},
   "source": [
    "Connect to the human gene Ensembl dataset:"
   ]
  },
  {
   "cell_type": "code",
   "execution_count": 22,
   "metadata": {},
   "outputs": [
    {
     "data": {
      "text/html": [
       "<table>\n",
       "<thead><tr><th scope=col>dataset</th><th scope=col>description</th><th scope=col>version</th></tr></thead>\n",
       "<tbody>\n",
       "\t<tr><td>hsapiens_mirna_target_feature              </td><td>Human miRNA Target Regions (GRCh37.p13)    </td><td>GRCh37.p13                                 </td></tr>\n",
       "\t<tr><td>hsapiens_external_feature                  </td><td>Human Other Regulatory Regions (GRCh37.p13)</td><td>GRCh37.p13                                 </td></tr>\n",
       "\t<tr><td>hsapiens_regulatory_feature                </td><td>Human Regulatory Features (GRCh37.p13)     </td><td>GRCh37.p13                                 </td></tr>\n",
       "\t<tr><td>hsapiens_annotated_feature                 </td><td>Human Regulatory Evidence (GRCh37.p13)     </td><td>GRCh37.p13                                 </td></tr>\n",
       "\t<tr><td>hsapiens_motif_feature                     </td><td>Human Binding Motifs (GRCh37.p13)          </td><td>GRCh37.p13                                 </td></tr>\n",
       "</tbody>\n",
       "</table>\n"
      ],
      "text/latex": [
       "\\begin{tabular}{r|lll}\n",
       " dataset & description & version\\\\\n",
       "\\hline\n",
       "\t hsapiens\\_mirna\\_target\\_feature         & Human miRNA Target Regions (GRCh37.p13)     & GRCh37.p13                                 \\\\\n",
       "\t hsapiens\\_external\\_feature               & Human Other Regulatory Regions (GRCh37.p13) & GRCh37.p13                                 \\\\\n",
       "\t hsapiens\\_regulatory\\_feature             & Human Regulatory Features (GRCh37.p13)      & GRCh37.p13                                 \\\\\n",
       "\t hsapiens\\_annotated\\_feature              & Human Regulatory Evidence (GRCh37.p13)      & GRCh37.p13                                 \\\\\n",
       "\t hsapiens\\_motif\\_feature                  & Human Binding Motifs (GRCh37.p13)           & GRCh37.p13                                 \\\\\n",
       "\\end{tabular}\n"
      ],
      "text/markdown": [
       "\n",
       "dataset | description | version | \n",
       "|---|---|---|---|---|\n",
       "| hsapiens_mirna_target_feature               | Human miRNA Target Regions (GRCh37.p13)     | GRCh37.p13                                  | \n",
       "| hsapiens_external_feature                   | Human Other Regulatory Regions (GRCh37.p13) | GRCh37.p13                                  | \n",
       "| hsapiens_regulatory_feature                 | Human Regulatory Features (GRCh37.p13)      | GRCh37.p13                                  | \n",
       "| hsapiens_annotated_feature                  | Human Regulatory Evidence (GRCh37.p13)      | GRCh37.p13                                  | \n",
       "| hsapiens_motif_feature                      | Human Binding Motifs (GRCh37.p13)           | GRCh37.p13                                  | \n",
       "\n",
       "\n"
      ],
      "text/plain": [
       "  dataset                       description                                \n",
       "1 hsapiens_mirna_target_feature Human miRNA Target Regions (GRCh37.p13)    \n",
       "2 hsapiens_external_feature     Human Other Regulatory Regions (GRCh37.p13)\n",
       "3 hsapiens_regulatory_feature   Human Regulatory Features (GRCh37.p13)     \n",
       "4 hsapiens_annotated_feature    Human Regulatory Evidence (GRCh37.p13)     \n",
       "5 hsapiens_motif_feature        Human Binding Motifs (GRCh37.p13)          \n",
       "  version   \n",
       "1 GRCh37.p13\n",
       "2 GRCh37.p13\n",
       "3 GRCh37.p13\n",
       "4 GRCh37.p13\n",
       "5 GRCh37.p13"
      ]
     },
     "metadata": {},
     "output_type": "display_data"
    }
   ],
   "source": [
    "ensembl_mart_funcgen <- useMart(\"ENSEMBL_MART_FUNCGEN\", host=\"grch37.ensembl.org\")\n",
    "listDatasets(ensembl_mart_funcgen) %>% filter(str_detect(dataset, \"sapiens\"))"
   ]
  },
  {
   "cell_type": "code",
   "execution_count": 23,
   "metadata": {
    "collapsed": true
   },
   "outputs": [],
   "source": [
    "regulation <- useDataset(dataset=\"hsapiens_regulatory_feature\", mart=ensembl_mart_funcgen)"
   ]
  },
  {
   "cell_type": "markdown",
   "metadata": {},
   "source": [
    "Download the dataframe from Biomart:"
   ]
  },
  {
   "cell_type": "code",
   "execution_count": 24,
   "metadata": {
    "collapsed": true,
    "scrolled": false
   },
   "outputs": [],
   "source": [
    "regulatory_features_df <-\n",
    "    getBM(attributes=c(\"chromosome_name\", \"chromosome_start\", \"chromosome_end\", \"feature_type_name\"),\n",
    "          filters=\"chromosome_name\",\n",
    "          values=1:22,\n",
    "          mart=regulation) %>%\n",
    "    setNames(c(\"chrom\", \"start\", \"end\", \"feature\")) %>%  # rename the columns to BED names\n",
    "    mutate(feature=str_replace_all(tolower(feature), \" \", \"_\"))"
   ]
  },
  {
   "cell_type": "code",
   "execution_count": 25,
   "metadata": {},
   "outputs": [
    {
     "data": {
      "text/plain": [
       "\n",
       "       ctcf_binding_site                 enhancer           open_chromatin \n",
       "                   55194                    27577                   107233 \n",
       "                promoter promoter_flanking_region          tf_binding_site \n",
       "                   14287                    45496                    22376 "
      ]
     },
     "metadata": {},
     "output_type": "display_data"
    }
   ],
   "source": [
    "table(regulatory_features_df$feature)"
   ]
  },
  {
   "cell_type": "code",
   "execution_count": 26,
   "metadata": {
    "collapsed": true
   },
   "outputs": [],
   "source": [
    "regions <- c(regions, lapply(split(regulatory_features_df, regulatory_features_df$feature),\n",
    "                             makeGRangesFromDataFrame))"
   ]
  },
  {
   "cell_type": "markdown",
   "metadata": {},
   "source": [
    "## Coordinates of primate phastCons elements"
   ]
  },
  {
   "cell_type": "markdown",
   "metadata": {},
   "source": [
    "How to retrieve them: https://support.bioconductor.org/p/25587/\n",
    "\n",
    "Per-base vs elements diference: https://www.biostars.org/p/2129/#2143"
   ]
  },
  {
   "cell_type": "code",
   "execution_count": 27,
   "metadata": {
    "collapsed": true
   },
   "outputs": [],
   "source": [
    "library(rtracklayer)"
   ]
  },
  {
   "cell_type": "code",
   "execution_count": 28,
   "metadata": {
    "collapsed": true
   },
   "outputs": [],
   "source": [
    "session <- browserSession()\n",
    "genome(session) <- \"hg19\""
   ]
  },
  {
   "cell_type": "raw",
   "metadata": {
    "collapsed": true
   },
   "source": [
    "# trackNames(session) # show the available track names -- look for conservation track"
   ]
  },
  {
   "cell_type": "code",
   "execution_count": 29,
   "metadata": {
    "collapsed": true
   },
   "outputs": [],
   "source": [
    "query <- ucscTableQuery(session, \"cons46way\", GRangesForUCSCGenome(\"hg19\", chrom=paste0(\"chr\", 1:22)))"
   ]
  },
  {
   "cell_type": "code",
   "execution_count": 30,
   "metadata": {},
   "outputs": [
    {
     "data": {
      "text/html": [
       "<ol class=list-inline>\n",
       "\t<li>'phyloP46wayPrimates'</li>\n",
       "\t<li>'phyloP46wayPlacental'</li>\n",
       "\t<li>'phyloP46wayAll'</li>\n",
       "\t<li>'phastCons46wayPrimates'</li>\n",
       "\t<li>'phastCons46wayPlacental'</li>\n",
       "\t<li>'phastCons46way'</li>\n",
       "\t<li>'phastConsElements46wayPrimates'</li>\n",
       "\t<li>'phastConsElements46wayPlacental'</li>\n",
       "\t<li>'phastConsElements46way'</li>\n",
       "\t<li>'multiz46way'</li>\n",
       "</ol>\n"
      ],
      "text/latex": [
       "\\begin{enumerate*}\n",
       "\\item 'phyloP46wayPrimates'\n",
       "\\item 'phyloP46wayPlacental'\n",
       "\\item 'phyloP46wayAll'\n",
       "\\item 'phastCons46wayPrimates'\n",
       "\\item 'phastCons46wayPlacental'\n",
       "\\item 'phastCons46way'\n",
       "\\item 'phastConsElements46wayPrimates'\n",
       "\\item 'phastConsElements46wayPlacental'\n",
       "\\item 'phastConsElements46way'\n",
       "\\item 'multiz46way'\n",
       "\\end{enumerate*}\n"
      ],
      "text/markdown": [
       "1. 'phyloP46wayPrimates'\n",
       "2. 'phyloP46wayPlacental'\n",
       "3. 'phyloP46wayAll'\n",
       "4. 'phastCons46wayPrimates'\n",
       "5. 'phastCons46wayPlacental'\n",
       "6. 'phastCons46way'\n",
       "7. 'phastConsElements46wayPrimates'\n",
       "8. 'phastConsElements46wayPlacental'\n",
       "9. 'phastConsElements46way'\n",
       "10. 'multiz46way'\n",
       "\n",
       "\n"
      ],
      "text/plain": [
       " [1] \"phyloP46wayPrimates\"             \"phyloP46wayPlacental\"           \n",
       " [3] \"phyloP46wayAll\"                  \"phastCons46wayPrimates\"         \n",
       " [5] \"phastCons46wayPlacental\"         \"phastCons46way\"                 \n",
       " [7] \"phastConsElements46wayPrimates\"  \"phastConsElements46wayPlacental\"\n",
       " [9] \"phastConsElements46way\"          \"multiz46way\"                    "
      ]
     },
     "metadata": {},
     "output_type": "display_data"
    }
   ],
   "source": [
    "tableNames(query)"
   ]
  },
  {
   "cell_type": "code",
   "execution_count": 31,
   "metadata": {
    "collapsed": true
   },
   "outputs": [],
   "source": [
    "tableName(query) <- \"phastConsElements46wayPrimates\""
   ]
  },
  {
   "cell_type": "code",
   "execution_count": 32,
   "metadata": {
    "collapsed": true
   },
   "outputs": [],
   "source": [
    "regions[[\"priPhastCons\"]] <-\n",
    "    getTable(query) %>%\n",
    "    select(-bin, -name, -score) %>%\n",
    "    makeGRangesFromDataFrame(starts.in.df.are.0based=TRUE)"
   ]
  },
  {
   "cell_type": "markdown",
   "metadata": {},
   "source": [
    "## Reduce all regions and convert their coordinates to UCSC hg19"
   ]
  },
  {
   "cell_type": "markdown",
   "metadata": {},
   "source": [
    "Convert all coordinate dataframes into individual `GRanges` objects:"
   ]
  },
  {
   "cell_type": "code",
   "execution_count": 33,
   "metadata": {
    "collapsed": true
   },
   "outputs": [],
   "source": [
    "regions <- lapply(regions,\n",
    "                  function(r) {\n",
    "                      reduced_r <- IRanges::reduce(r)\n",
    "                      seqlevelsStyle(reduced_r) <- \"UCSC\"\n",
    "                      seqinfo(reduced_r) <- seqinfo(BSgenome.Hsapiens.UCSC.hg19)\n",
    "                      \n",
    "                      reduced_r\n",
    "                  })"
   ]
  },
  {
   "cell_type": "code",
   "execution_count": 34,
   "metadata": {},
   "outputs": [
    {
     "data": {
      "text/html": [
       "<ol class=list-inline>\n",
       "\t<li>'protein_coding'</li>\n",
       "\t<li>'utr'</li>\n",
       "\t<li>'ctcf_binding_site'</li>\n",
       "\t<li>'enhancer'</li>\n",
       "\t<li>'open_chromatin'</li>\n",
       "\t<li>'promoter'</li>\n",
       "\t<li>'promoter_flanking_region'</li>\n",
       "\t<li>'tf_binding_site'</li>\n",
       "\t<li>'priPhastCons'</li>\n",
       "</ol>\n"
      ],
      "text/latex": [
       "\\begin{enumerate*}\n",
       "\\item 'protein\\_coding'\n",
       "\\item 'utr'\n",
       "\\item 'ctcf\\_binding\\_site'\n",
       "\\item 'enhancer'\n",
       "\\item 'open\\_chromatin'\n",
       "\\item 'promoter'\n",
       "\\item 'promoter\\_flanking\\_region'\n",
       "\\item 'tf\\_binding\\_site'\n",
       "\\item 'priPhastCons'\n",
       "\\end{enumerate*}\n"
      ],
      "text/markdown": [
       "1. 'protein_coding'\n",
       "2. 'utr'\n",
       "3. 'ctcf_binding_site'\n",
       "4. 'enhancer'\n",
       "5. 'open_chromatin'\n",
       "6. 'promoter'\n",
       "7. 'promoter_flanking_region'\n",
       "8. 'tf_binding_site'\n",
       "9. 'priPhastCons'\n",
       "\n",
       "\n"
      ],
      "text/plain": [
       "[1] \"protein_coding\"           \"utr\"                     \n",
       "[3] \"ctcf_binding_site\"        \"enhancer\"                \n",
       "[5] \"open_chromatin\"           \"promoter\"                \n",
       "[7] \"promoter_flanking_region\" \"tf_binding_site\"         \n",
       "[9] \"priPhastCons\"            "
      ]
     },
     "metadata": {},
     "output_type": "display_data"
    }
   ],
   "source": [
    "names(regions)"
   ]
  },
  {
   "cell_type": "markdown",
   "metadata": {},
   "source": [
    "Total amount of sequence in each genomic region:"
   ]
  },
  {
   "cell_type": "code",
   "execution_count": 35,
   "metadata": {},
   "outputs": [
    {
     "data": {
      "text/html": [
       "<dl class=dl-horizontal>\n",
       "\t<dt>protein_coding</dt>\n",
       "\t\t<dd>33.844885</dd>\n",
       "\t<dt>utr</dt>\n",
       "\t\t<dd>55.968175</dd>\n",
       "\t<dt>ctcf_binding_site</dt>\n",
       "\t\t<dd>41.230599</dd>\n",
       "\t<dt>enhancer</dt>\n",
       "\t\t<dd>18.274908</dd>\n",
       "\t<dt>open_chromatin</dt>\n",
       "\t\t<dd>51.204249</dd>\n",
       "\t<dt>promoter</dt>\n",
       "\t\t<dd>22.686665</dd>\n",
       "\t<dt>promoter_flanking_region</dt>\n",
       "\t\t<dd>59.751963</dd>\n",
       "\t<dt>tf_binding_site</dt>\n",
       "\t\t<dd>10.487535</dd>\n",
       "\t<dt>priPhastCons</dt>\n",
       "\t\t<dd>101.025004</dd>\n",
       "</dl>\n"
      ],
      "text/latex": [
       "\\begin{description*}\n",
       "\\item[protein\\textbackslash{}\\_coding] 33.844885\n",
       "\\item[utr] 55.968175\n",
       "\\item[ctcf\\textbackslash{}\\_binding\\textbackslash{}\\_site] 41.230599\n",
       "\\item[enhancer] 18.274908\n",
       "\\item[open\\textbackslash{}\\_chromatin] 51.204249\n",
       "\\item[promoter] 22.686665\n",
       "\\item[promoter\\textbackslash{}\\_flanking\\textbackslash{}\\_region] 59.751963\n",
       "\\item[tf\\textbackslash{}\\_binding\\textbackslash{}\\_site] 10.487535\n",
       "\\item[priPhastCons] 101.025004\n",
       "\\end{description*}\n"
      ],
      "text/markdown": [
       "protein_coding\n",
       ":   33.844885utr\n",
       ":   55.968175ctcf_binding_site\n",
       ":   41.230599enhancer\n",
       ":   18.274908open_chromatin\n",
       ":   51.204249promoter\n",
       ":   22.686665promoter_flanking_region\n",
       ":   59.751963tf_binding_site\n",
       ":   10.487535priPhastCons\n",
       ":   101.025004\n",
       "\n"
      ],
      "text/plain": [
       "          protein_coding                      utr        ctcf_binding_site \n",
       "                33.84488                 55.96818                 41.23060 \n",
       "                enhancer           open_chromatin                 promoter \n",
       "                18.27491                 51.20425                 22.68667 \n",
       "promoter_flanking_region          tf_binding_site             priPhastCons \n",
       "                59.75196                 10.48753                101.02500 "
      ]
     },
     "metadata": {},
     "output_type": "display_data"
    }
   ],
   "source": [
    "sapply(regions, function(r) { sum(width(IRanges::reduce(r)))}) / 1e6"
   ]
  },
  {
   "cell_type": "markdown",
   "metadata": {},
   "source": [
    "## Get the hits of each site in different genomic regions"
   ]
  },
  {
   "cell_type": "code",
   "execution_count": 36,
   "metadata": {
    "collapsed": true
   },
   "outputs": [],
   "source": [
    "for (r in names(regions)) {\n",
    "    col_name <- paste0(\"hits_\", r)\n",
    "\n",
    "    # find which sites are falling within a given region\n",
    "    hits <- findOverlaps(sites, regions[[r]])\n",
    "\n",
    "    # mark which sites hit a region\n",
    "    mcols(sites)[[col_name]] <- 0\n",
    "    mcols(sites[queryHits(hits)])[[col_name]] <- 1\n",
    "}"
   ]
  },
  {
   "cell_type": "markdown",
   "metadata": {},
   "source": [
    "## Get average primate phastCons per window"
   ]
  },
  {
   "cell_type": "code",
   "execution_count": 37,
   "metadata": {
    "collapsed": true
   },
   "outputs": [],
   "source": [
    "priPhastCons_avg <-\n",
    "    read.table(\"../clean_data/annotations/priPhCons__100000bp.bed\", header=FALSE) %>%\n",
    "    .[1:4] %>%\n",
    "    setNames(c(\"chrom\", \"start\", \"end\", \"value\")) %>%\n",
    "    arrange(chrom, start) %>% \n",
    "    mutate(chrom=paste0(\"chr\", chrom)) %>% \n",
    "    makeGRangesFromDataFrame(starts.in.df.are.0based=TRUE, keep.extra=TRUE)"
   ]
  },
  {
   "cell_type": "code",
   "execution_count": 38,
   "metadata": {
    "collapsed": true
   },
   "outputs": [],
   "source": [
    "mcols(sites)[[\"priPhastCons_avg\"]] <- subsetByOverlaps(priPhastCons_avg, sites)$value"
   ]
  },
  {
   "cell_type": "markdown",
   "metadata": {},
   "source": [
    "## Add B value to each locus"
   ]
  },
  {
   "cell_type": "code",
   "execution_count": 39,
   "metadata": {},
   "outputs": [
    {
     "name": "stderr",
     "output_type": "stream",
     "text": [
      "\n",
      "Attaching package: ‘BSgenome.Hsapiens.UCSC.hg18’\n",
      "\n",
      "The following object is masked from ‘package:BSgenome.Hsapiens.UCSC.hg19’:\n",
      "\n",
      "    Hsapiens\n",
      "\n"
     ]
    }
   ],
   "source": [
    "source(\"../R/assign_bvals.R\")"
   ]
  },
  {
   "cell_type": "code",
   "execution_count": 40,
   "metadata": {
    "collapsed": true
   },
   "outputs": [],
   "source": [
    "sites <- assign_bvals(sites, bval_path=\"../raw_data/bkgd/\", chain_path=\"../raw_data/hg18ToHg19.over.chain\")"
   ]
  },
  {
   "cell_type": "markdown",
   "metadata": {},
   "source": [
    "## Convert the final `GRanges` object to a normal data frame for the analyses bellow"
   ]
  },
  {
   "cell_type": "code",
   "execution_count": 41,
   "metadata": {
    "collapsed": true
   },
   "outputs": [],
   "source": [
    "tbl <- as.data.frame(sites) %>%\n",
    "    select(-width, -strand) %>%\n",
    "    rename(chrom=seqnames) %>%\n",
    "    filter(complete.cases(.))"
   ]
  },
  {
   "cell_type": "code",
   "execution_count": 42,
   "metadata": {},
   "outputs": [
    {
     "data": {
      "text/html": [
       "<table>\n",
       "<thead><tr><th scope=col>chrom</th><th scope=col>start</th><th scope=col>end</th><th scope=col>freq_eur</th><th scope=col>freq_all</th><th scope=col>hits_protein_coding</th><th scope=col>hits_utr</th><th scope=col>hits_ctcf_binding_site</th><th scope=col>hits_enhancer</th><th scope=col>hits_open_chromatin</th><th scope=col>hits_promoter</th><th scope=col>hits_promoter_flanking_region</th><th scope=col>hits_tf_binding_site</th><th scope=col>hits_priPhastCons</th><th scope=col>priPhastCons_avg</th><th scope=col>bval</th></tr></thead>\n",
       "<tbody>\n",
       "\t<tr><td>chr1       </td><td>847983     </td><td>847983     </td><td>0          </td><td>0.005076142</td><td>0          </td><td>0          </td><td>1          </td><td>0          </td><td>0          </td><td>0          </td><td>0          </td><td>0          </td><td>0          </td><td>0.047667   </td><td>958        </td></tr>\n",
       "\t<tr><td>chr1       </td><td>853089     </td><td>853089     </td><td>0          </td><td>0.005102041</td><td>0          </td><td>0          </td><td>1          </td><td>0          </td><td>0          </td><td>0          </td><td>0          </td><td>0          </td><td>0          </td><td>0.049807   </td><td>958        </td></tr>\n",
       "\t<tr><td>chr1       </td><td>853596     </td><td>853596     </td><td>0          </td><td>0.005076142</td><td>0          </td><td>0          </td><td>0          </td><td>0          </td><td>0          </td><td>0          </td><td>0          </td><td>0          </td><td>0          </td><td>0.049866   </td><td>958        </td></tr>\n",
       "\t<tr><td>chr1       </td><td>854793     </td><td>854793     </td><td>0          </td><td>0.005076142</td><td>0          </td><td>0          </td><td>0          </td><td>0          </td><td>0          </td><td>0          </td><td>0          </td><td>0          </td><td>0          </td><td>0.049938   </td><td>958        </td></tr>\n",
       "\t<tr><td>chr1       </td><td>867552     </td><td>867552     </td><td>0          </td><td>0.005076142</td><td>0          </td><td>0          </td><td>1          </td><td>0          </td><td>0          </td><td>0          </td><td>0          </td><td>0          </td><td>1          </td><td>0.047507   </td><td>946        </td></tr>\n",
       "\t<tr><td>chr1       </td><td>871401     </td><td>871401     </td><td>0          </td><td>0.007614213</td><td>0          </td><td>0          </td><td>0          </td><td>0          </td><td>1          </td><td>0          </td><td>0          </td><td>0          </td><td>0          </td><td>0.045560   </td><td>946        </td></tr>\n",
       "</tbody>\n",
       "</table>\n"
      ],
      "text/latex": [
       "\\begin{tabular}{r|llllllllllllllll}\n",
       " chrom & start & end & freq\\_eur & freq\\_all & hits\\_protein\\_coding & hits\\_utr & hits\\_ctcf\\_binding\\_site & hits\\_enhancer & hits\\_open\\_chromatin & hits\\_promoter & hits\\_promoter\\_flanking\\_region & hits\\_tf\\_binding\\_site & hits\\_priPhastCons & priPhastCons\\_avg & bval\\\\\n",
       "\\hline\n",
       "\t chr1        & 847983      & 847983      & 0           & 0.005076142 & 0           & 0           & 1           & 0           & 0           & 0           & 0           & 0           & 0           & 0.047667    & 958        \\\\\n",
       "\t chr1        & 853089      & 853089      & 0           & 0.005102041 & 0           & 0           & 1           & 0           & 0           & 0           & 0           & 0           & 0           & 0.049807    & 958        \\\\\n",
       "\t chr1        & 853596      & 853596      & 0           & 0.005076142 & 0           & 0           & 0           & 0           & 0           & 0           & 0           & 0           & 0           & 0.049866    & 958        \\\\\n",
       "\t chr1        & 854793      & 854793      & 0           & 0.005076142 & 0           & 0           & 0           & 0           & 0           & 0           & 0           & 0           & 0           & 0.049938    & 958        \\\\\n",
       "\t chr1        & 867552      & 867552      & 0           & 0.005076142 & 0           & 0           & 1           & 0           & 0           & 0           & 0           & 0           & 1           & 0.047507    & 946        \\\\\n",
       "\t chr1        & 871401      & 871401      & 0           & 0.007614213 & 0           & 0           & 0           & 0           & 1           & 0           & 0           & 0           & 0           & 0.045560    & 946        \\\\\n",
       "\\end{tabular}\n"
      ],
      "text/markdown": [
       "\n",
       "chrom | start | end | freq_eur | freq_all | hits_protein_coding | hits_utr | hits_ctcf_binding_site | hits_enhancer | hits_open_chromatin | hits_promoter | hits_promoter_flanking_region | hits_tf_binding_site | hits_priPhastCons | priPhastCons_avg | bval | \n",
       "|---|---|---|---|---|---|\n",
       "| chr1        | 847983      | 847983      | 0           | 0.005076142 | 0           | 0           | 1           | 0           | 0           | 0           | 0           | 0           | 0           | 0.047667    | 958         | \n",
       "| chr1        | 853089      | 853089      | 0           | 0.005102041 | 0           | 0           | 1           | 0           | 0           | 0           | 0           | 0           | 0           | 0.049807    | 958         | \n",
       "| chr1        | 853596      | 853596      | 0           | 0.005076142 | 0           | 0           | 0           | 0           | 0           | 0           | 0           | 0           | 0           | 0.049866    | 958         | \n",
       "| chr1        | 854793      | 854793      | 0           | 0.005076142 | 0           | 0           | 0           | 0           | 0           | 0           | 0           | 0           | 0           | 0.049938    | 958         | \n",
       "| chr1        | 867552      | 867552      | 0           | 0.005076142 | 0           | 0           | 1           | 0           | 0           | 0           | 0           | 0           | 1           | 0.047507    | 946         | \n",
       "| chr1        | 871401      | 871401      | 0           | 0.007614213 | 0           | 0           | 0           | 0           | 1           | 0           | 0           | 0           | 0           | 0.045560    | 946         | \n",
       "\n",
       "\n"
      ],
      "text/plain": [
       "  chrom start  end    freq_eur freq_all    hits_protein_coding hits_utr\n",
       "1 chr1  847983 847983 0        0.005076142 0                   0       \n",
       "2 chr1  853089 853089 0        0.005102041 0                   0       \n",
       "3 chr1  853596 853596 0        0.005076142 0                   0       \n",
       "4 chr1  854793 854793 0        0.005076142 0                   0       \n",
       "5 chr1  867552 867552 0        0.005076142 0                   0       \n",
       "6 chr1  871401 871401 0        0.007614213 0                   0       \n",
       "  hits_ctcf_binding_site hits_enhancer hits_open_chromatin hits_promoter\n",
       "1 1                      0             0                   0            \n",
       "2 1                      0             0                   0            \n",
       "3 0                      0             0                   0            \n",
       "4 0                      0             0                   0            \n",
       "5 1                      0             0                   0            \n",
       "6 0                      0             1                   0            \n",
       "  hits_promoter_flanking_region hits_tf_binding_site hits_priPhastCons\n",
       "1 0                             0                    0                \n",
       "2 0                             0                    0                \n",
       "3 0                             0                    0                \n",
       "4 0                             0                    0                \n",
       "5 0                             0                    1                \n",
       "6 0                             0                    0                \n",
       "  priPhastCons_avg bval\n",
       "1 0.047667         958 \n",
       "2 0.049807         958 \n",
       "3 0.049866         958 \n",
       "4 0.049938         958 \n",
       "5 0.047507         946 \n",
       "6 0.045560         946 "
      ]
     },
     "metadata": {},
     "output_type": "display_data"
    }
   ],
   "source": [
    "head(tbl)"
   ]
  },
  {
   "cell_type": "markdown",
   "metadata": {},
   "source": [
    "## Modeling the dependence of Nea. frequency on functional predictors"
   ]
  },
  {
   "cell_type": "code",
   "execution_count": 44,
   "metadata": {},
   "outputs": [
    {
     "data": {
      "text/plain": [
       "\n",
       "Call:\n",
       "glm(formula = freq_all > 0 ~ hits_protein_coding + hits_utr + \n",
       "    hits_promoter + hits_promoter_flanking_region + hits_ctcf_binding_site + \n",
       "    hits_enhancer + hits_open_chromatin + hits_tf_binding_site, \n",
       "    family = \"binomial\", data = tbl)\n",
       "\n",
       "Deviance Residuals: \n",
       "   Min      1Q  Median      3Q     Max  \n",
       "-1.232  -1.190   1.157   1.164   1.285  \n",
       "\n",
       "Coefficients:\n",
       "                               Estimate Std. Error z value             Pr(>|z|)\n",
       "(Intercept)                    0.030672   0.003042  10.082 < 0.0000000000000002\n",
       "hits_protein_coding           -0.074129   0.028622  -2.590             0.009600\n",
       "hits_utr                      -0.096915   0.019139  -5.064       0.000000410905\n",
       "hits_promoter                 -0.182252   0.028445  -6.407       0.000000000148\n",
       "hits_promoter_flanking_region -0.068180   0.017702  -3.852             0.000117\n",
       "hits_ctcf_binding_site         0.017563   0.022034   0.797             0.425405\n",
       "hits_enhancer                 -0.013222   0.031691  -0.417             0.676516\n",
       "hits_open_chromatin           -0.020068   0.019193  -1.046             0.295752\n",
       "hits_tf_binding_site           0.079581   0.042456   1.874             0.060872\n",
       "                                 \n",
       "(Intercept)                   ***\n",
       "hits_protein_coding           ** \n",
       "hits_utr                      ***\n",
       "hits_promoter                 ***\n",
       "hits_promoter_flanking_region ***\n",
       "hits_ctcf_binding_site           \n",
       "hits_enhancer                    \n",
       "hits_open_chromatin              \n",
       "hits_tf_binding_site          .  \n",
       "---\n",
       "Signif. codes:  0 ‘***’ 0.001 ‘**’ 0.01 ‘*’ 0.05 ‘.’ 0.1 ‘ ’ 1\n",
       "\n",
       "(Dispersion parameter for binomial family taken to be 1)\n",
       "\n",
       "    Null deviance: 670709  on 483863  degrees of freedom\n",
       "Residual deviance: 670602  on 483855  degrees of freedom\n",
       "AIC: 670620\n",
       "\n",
       "Number of Fisher Scoring iterations: 3\n"
      ]
     },
     "metadata": {},
     "output_type": "display_data"
    }
   ],
   "source": [
    "fit <- glm(data=tbl, freq_all > 0 ~ hits_protein_coding + hits_utr + hits_promoter + hits_promoter_flanking_region + hits_ctcf_binding_site + hits_enhancer + hits_open_chromatin + hits_tf_binding_site, family=\"binomial\")\n",
    "summary(fit)"
   ]
  },
  {
   "cell_type": "code",
   "execution_count": 45,
   "metadata": {},
   "outputs": [
    {
     "data": {
      "text/plain": [
       "\n",
       "Call:\n",
       "glm(formula = freq_all > 0 ~ hits_priPhastCons + hits_protein_coding + \n",
       "    hits_utr + hits_promoter + hits_promoter_flanking_region + \n",
       "    hits_ctcf_binding_site + hits_enhancer + hits_open_chromatin + \n",
       "    hits_tf_binding_site, family = \"binomial\", data = tbl)\n",
       "\n",
       "Deviance Residuals: \n",
       "   Min      1Q  Median      3Q     Max  \n",
       "-1.234  -1.192   1.156   1.163   1.330  \n",
       "\n",
       "Coefficients:\n",
       "                               Estimate Std. Error z value             Pr(>|z|)\n",
       "(Intercept)                    0.033876   0.003073  11.022 < 0.0000000000000002\n",
       "hits_priPhastCons             -0.117345   0.015985  -7.341    0.000000000000212\n",
       "hits_protein_coding           -0.020694   0.029543  -0.700             0.483623\n",
       "hits_utr                      -0.089753   0.019166  -4.683    0.000002828093128\n",
       "hits_promoter                 -0.178173   0.028454  -6.262    0.000000000380402\n",
       "hits_promoter_flanking_region -0.064979   0.017709  -3.669             0.000243\n",
       "hits_ctcf_binding_site         0.017117   0.022035   0.777             0.437286\n",
       "hits_enhancer                 -0.008198   0.031701  -0.259             0.795947\n",
       "hits_open_chromatin           -0.014442   0.019211  -0.752             0.452191\n",
       "hits_tf_binding_site           0.081985   0.042461   1.931             0.053506\n",
       "                                 \n",
       "(Intercept)                   ***\n",
       "hits_priPhastCons             ***\n",
       "hits_protein_coding              \n",
       "hits_utr                      ***\n",
       "hits_promoter                 ***\n",
       "hits_promoter_flanking_region ***\n",
       "hits_ctcf_binding_site           \n",
       "hits_enhancer                    \n",
       "hits_open_chromatin              \n",
       "hits_tf_binding_site          .  \n",
       "---\n",
       "Signif. codes:  0 ‘***’ 0.001 ‘**’ 0.01 ‘*’ 0.05 ‘.’ 0.1 ‘ ’ 1\n",
       "\n",
       "(Dispersion parameter for binomial family taken to be 1)\n",
       "\n",
       "    Null deviance: 670709  on 483863  degrees of freedom\n",
       "Residual deviance: 670548  on 483854  degrees of freedom\n",
       "AIC: 670568\n",
       "\n",
       "Number of Fisher Scoring iterations: 3\n"
      ]
     },
     "metadata": {},
     "output_type": "display_data"
    }
   ],
   "source": [
    "fit <- glm(data=tbl, freq_all > 0 ~ hits_priPhastCons + hits_protein_coding + hits_utr + hits_promoter + hits_promoter_flanking_region + hits_ctcf_binding_site + hits_enhancer + hits_open_chromatin + hits_tf_binding_site, family=\"binomial\")\n",
    "summary(fit)"
   ]
  },
  {
   "cell_type": "code",
   "execution_count": 46,
   "metadata": {},
   "outputs": [
    {
     "data": {
      "text/plain": [
       "\n",
       "Call:\n",
       "glm(formula = freq_all > 0 ~ bval + hits_protein_coding + hits_utr + \n",
       "    hits_promoter + hits_promoter_flanking_region + hits_ctcf_binding_site + \n",
       "    hits_enhancer + hits_open_chromatin + hits_tf_binding_site, \n",
       "    family = \"binomial\", data = tbl)\n",
       "\n",
       "Deviance Residuals: \n",
       "   Min      1Q  Median      3Q     Max  \n",
       "-1.387  -1.212   1.077   1.126   1.576  \n",
       "\n",
       "Coefficients:\n",
       "                                 Estimate  Std. Error z value\n",
       "(Intercept)                   -0.87004323  0.01235580 -70.416\n",
       "bval                           0.00111837  0.00001482  75.444\n",
       "hits_protein_coding            0.13871014  0.02904315   4.776\n",
       "hits_utr                       0.08084110  0.01945326   4.156\n",
       "hits_promoter                 -0.03042548  0.02877804  -1.057\n",
       "hits_promoter_flanking_region -0.02026550  0.01784059  -1.136\n",
       "hits_ctcf_binding_site         0.01197307  0.02216178   0.540\n",
       "hits_enhancer                  0.03916066  0.03191057   1.227\n",
       "hits_open_chromatin           -0.00604114  0.01930802  -0.313\n",
       "hits_tf_binding_site           0.10771908  0.04276796   2.519\n",
       "                                          Pr(>|z|)    \n",
       "(Intercept)                   < 0.0000000000000002 ***\n",
       "bval                          < 0.0000000000000002 ***\n",
       "hits_protein_coding                     0.00000179 ***\n",
       "hits_utr                                0.00003244 ***\n",
       "hits_promoter                               0.2904    \n",
       "hits_promoter_flanking_region               0.2560    \n",
       "hits_ctcf_binding_site                      0.5890    \n",
       "hits_enhancer                               0.2197    \n",
       "hits_open_chromatin                         0.7544    \n",
       "hits_tf_binding_site                        0.0118 *  \n",
       "---\n",
       "Signif. codes:  0 ‘***’ 0.001 ‘**’ 0.01 ‘*’ 0.05 ‘.’ 0.1 ‘ ’ 1\n",
       "\n",
       "(Dispersion parameter for binomial family taken to be 1)\n",
       "\n",
       "    Null deviance: 670709  on 483863  degrees of freedom\n",
       "Residual deviance: 664736  on 483854  degrees of freedom\n",
       "AIC: 664756\n",
       "\n",
       "Number of Fisher Scoring iterations: 4\n"
      ]
     },
     "metadata": {},
     "output_type": "display_data"
    }
   ],
   "source": [
    "fit <- glm(data=tbl, freq_all > 0 ~ bval + hits_protein_coding + hits_utr + hits_promoter + hits_promoter_flanking_region + hits_ctcf_binding_site + hits_enhancer + hits_open_chromatin + hits_tf_binding_site, family=\"binomial\")\n",
    "summary(fit)"
   ]
  },
  {
   "cell_type": "markdown",
   "metadata": {},
   "source": [
    "## Neanderthal ancestry proportions at sites in different functional regions"
   ]
  },
  {
   "cell_type": "markdown",
   "metadata": {},
   "source": [
    "Join the tables of SGDP genotypes and hits of SNPs in different regions:"
   ]
  },
  {
   "cell_type": "code",
   "execution_count": 47,
   "metadata": {
    "collapsed": true
   },
   "outputs": [],
   "source": [
    "european_ids <- filter(samples, pop == \"WestEurasia\")$name"
   ]
  },
  {
   "cell_type": "code",
   "execution_count": 48,
   "metadata": {},
   "outputs": [
    {
     "data": {
      "text/html": [
       "<ol class=list-inline>\n",
       "\t<li>'S_Abkhasian_1'</li>\n",
       "\t<li>'S_Abkhasian_2'</li>\n",
       "\t<li>'S_Adygei_1'</li>\n",
       "\t<li>'S_Adygei_2'</li>\n",
       "\t<li>'S_Albanian_1'</li>\n",
       "\t<li>'S_Armenian_1'</li>\n",
       "\t<li>'S_Armenian_2'</li>\n",
       "\t<li>'S_Basque_1'</li>\n",
       "\t<li>'S_Basque_2'</li>\n",
       "\t<li>'S_BedouinB_1'</li>\n",
       "\t<li>'S_BedouinB_2'</li>\n",
       "\t<li>'S_Bergamo_2'</li>\n",
       "\t<li>'S_Bulgarian_1'</li>\n",
       "\t<li>'S_Bulgarian_2'</li>\n",
       "\t<li>'S_Chechen_1'</li>\n",
       "\t<li>'S_Czech_2'</li>\n",
       "\t<li>'S_Druze_1'</li>\n",
       "\t<li>'S_Druze_2'</li>\n",
       "\t<li>'S_English_1'</li>\n",
       "\t<li>'S_English_2'</li>\n",
       "\t<li>'S_Estonian_1'</li>\n",
       "\t<li>'S_Estonian_2'</li>\n",
       "\t<li>'S_Finnish_1'</li>\n",
       "\t<li>'S_Finnish_2'</li>\n",
       "\t<li>'S_Finnish_3'</li>\n",
       "\t<li>'S_French_1'</li>\n",
       "\t<li>'S_French_2'</li>\n",
       "\t<li>'S_Georgian_1'</li>\n",
       "\t<li>'S_Georgian_2'</li>\n",
       "\t<li>'S_Greek_1'</li>\n",
       "\t<li>'S_Greek_2'</li>\n",
       "\t<li>'S_Hungarian_1'</li>\n",
       "\t<li>'S_Hungarian_2'</li>\n",
       "\t<li>'S_Icelandic_1'</li>\n",
       "\t<li>'S_Icelandic_2'</li>\n",
       "\t<li>'S_Iranian_1'</li>\n",
       "\t<li>'S_Iranian_2'</li>\n",
       "\t<li>'S_Iraqi_Jew_1'</li>\n",
       "\t<li>'S_Iraqi_Jew_2'</li>\n",
       "\t<li>'S_Jordanian_1'</li>\n",
       "\t<li>'S_Jordanian_2'</li>\n",
       "\t<li>'S_Jordanian_3'</li>\n",
       "\t<li>'S_Lezgin_1'</li>\n",
       "\t<li>'S_Lezgin_2'</li>\n",
       "\t<li>'S_North_Ossetian_1'</li>\n",
       "\t<li>'S_North_Ossetian_2'</li>\n",
       "\t<li>'S_Orcadian_1'</li>\n",
       "\t<li>'S_Orcadian_2'</li>\n",
       "\t<li>'S_Palestinian_1'</li>\n",
       "\t<li>'S_Palestinian_2'</li>\n",
       "\t<li>'S_Palestinian_3'</li>\n",
       "\t<li>'S_Polish_1'</li>\n",
       "\t<li>'S_Russian_1'</li>\n",
       "\t<li>'S_Russian_2'</li>\n",
       "\t<li>'S_Samaritan_1'</li>\n",
       "\t<li>'S_Sardinian_1'</li>\n",
       "\t<li>'S_Sardinian_2'</li>\n",
       "\t<li>'S_Spanish_1'</li>\n",
       "\t<li>'S_Spanish_2'</li>\n",
       "\t<li>'S_Tajik_1'</li>\n",
       "\t<li>'S_Tajik_2'</li>\n",
       "\t<li>'S_Turkish_1'</li>\n",
       "\t<li>'S_Turkish_2'</li>\n",
       "\t<li>'S_Tuscan_1'</li>\n",
       "\t<li>'S_Tuscan_2'</li>\n",
       "\t<li>'S_Yemenite_Jew_1'</li>\n",
       "\t<li>'S_Yemenite_Jew_2'</li>\n",
       "</ol>\n"
      ],
      "text/latex": [
       "\\begin{enumerate*}\n",
       "\\item 'S\\_Abkhasian\\_1'\n",
       "\\item 'S\\_Abkhasian\\_2'\n",
       "\\item 'S\\_Adygei\\_1'\n",
       "\\item 'S\\_Adygei\\_2'\n",
       "\\item 'S\\_Albanian\\_1'\n",
       "\\item 'S\\_Armenian\\_1'\n",
       "\\item 'S\\_Armenian\\_2'\n",
       "\\item 'S\\_Basque\\_1'\n",
       "\\item 'S\\_Basque\\_2'\n",
       "\\item 'S\\_BedouinB\\_1'\n",
       "\\item 'S\\_BedouinB\\_2'\n",
       "\\item 'S\\_Bergamo\\_2'\n",
       "\\item 'S\\_Bulgarian\\_1'\n",
       "\\item 'S\\_Bulgarian\\_2'\n",
       "\\item 'S\\_Chechen\\_1'\n",
       "\\item 'S\\_Czech\\_2'\n",
       "\\item 'S\\_Druze\\_1'\n",
       "\\item 'S\\_Druze\\_2'\n",
       "\\item 'S\\_English\\_1'\n",
       "\\item 'S\\_English\\_2'\n",
       "\\item 'S\\_Estonian\\_1'\n",
       "\\item 'S\\_Estonian\\_2'\n",
       "\\item 'S\\_Finnish\\_1'\n",
       "\\item 'S\\_Finnish\\_2'\n",
       "\\item 'S\\_Finnish\\_3'\n",
       "\\item 'S\\_French\\_1'\n",
       "\\item 'S\\_French\\_2'\n",
       "\\item 'S\\_Georgian\\_1'\n",
       "\\item 'S\\_Georgian\\_2'\n",
       "\\item 'S\\_Greek\\_1'\n",
       "\\item 'S\\_Greek\\_2'\n",
       "\\item 'S\\_Hungarian\\_1'\n",
       "\\item 'S\\_Hungarian\\_2'\n",
       "\\item 'S\\_Icelandic\\_1'\n",
       "\\item 'S\\_Icelandic\\_2'\n",
       "\\item 'S\\_Iranian\\_1'\n",
       "\\item 'S\\_Iranian\\_2'\n",
       "\\item 'S\\_Iraqi\\_Jew\\_1'\n",
       "\\item 'S\\_Iraqi\\_Jew\\_2'\n",
       "\\item 'S\\_Jordanian\\_1'\n",
       "\\item 'S\\_Jordanian\\_2'\n",
       "\\item 'S\\_Jordanian\\_3'\n",
       "\\item 'S\\_Lezgin\\_1'\n",
       "\\item 'S\\_Lezgin\\_2'\n",
       "\\item 'S\\_North\\_Ossetian\\_1'\n",
       "\\item 'S\\_North\\_Ossetian\\_2'\n",
       "\\item 'S\\_Orcadian\\_1'\n",
       "\\item 'S\\_Orcadian\\_2'\n",
       "\\item 'S\\_Palestinian\\_1'\n",
       "\\item 'S\\_Palestinian\\_2'\n",
       "\\item 'S\\_Palestinian\\_3'\n",
       "\\item 'S\\_Polish\\_1'\n",
       "\\item 'S\\_Russian\\_1'\n",
       "\\item 'S\\_Russian\\_2'\n",
       "\\item 'S\\_Samaritan\\_1'\n",
       "\\item 'S\\_Sardinian\\_1'\n",
       "\\item 'S\\_Sardinian\\_2'\n",
       "\\item 'S\\_Spanish\\_1'\n",
       "\\item 'S\\_Spanish\\_2'\n",
       "\\item 'S\\_Tajik\\_1'\n",
       "\\item 'S\\_Tajik\\_2'\n",
       "\\item 'S\\_Turkish\\_1'\n",
       "\\item 'S\\_Turkish\\_2'\n",
       "\\item 'S\\_Tuscan\\_1'\n",
       "\\item 'S\\_Tuscan\\_2'\n",
       "\\item 'S\\_Yemenite\\_Jew\\_1'\n",
       "\\item 'S\\_Yemenite\\_Jew\\_2'\n",
       "\\end{enumerate*}\n"
      ],
      "text/markdown": [
       "1. 'S_Abkhasian_1'\n",
       "2. 'S_Abkhasian_2'\n",
       "3. 'S_Adygei_1'\n",
       "4. 'S_Adygei_2'\n",
       "5. 'S_Albanian_1'\n",
       "6. 'S_Armenian_1'\n",
       "7. 'S_Armenian_2'\n",
       "8. 'S_Basque_1'\n",
       "9. 'S_Basque_2'\n",
       "10. 'S_BedouinB_1'\n",
       "11. 'S_BedouinB_2'\n",
       "12. 'S_Bergamo_2'\n",
       "13. 'S_Bulgarian_1'\n",
       "14. 'S_Bulgarian_2'\n",
       "15. 'S_Chechen_1'\n",
       "16. 'S_Czech_2'\n",
       "17. 'S_Druze_1'\n",
       "18. 'S_Druze_2'\n",
       "19. 'S_English_1'\n",
       "20. 'S_English_2'\n",
       "21. 'S_Estonian_1'\n",
       "22. 'S_Estonian_2'\n",
       "23. 'S_Finnish_1'\n",
       "24. 'S_Finnish_2'\n",
       "25. 'S_Finnish_3'\n",
       "26. 'S_French_1'\n",
       "27. 'S_French_2'\n",
       "28. 'S_Georgian_1'\n",
       "29. 'S_Georgian_2'\n",
       "30. 'S_Greek_1'\n",
       "31. 'S_Greek_2'\n",
       "32. 'S_Hungarian_1'\n",
       "33. 'S_Hungarian_2'\n",
       "34. 'S_Icelandic_1'\n",
       "35. 'S_Icelandic_2'\n",
       "36. 'S_Iranian_1'\n",
       "37. 'S_Iranian_2'\n",
       "38. 'S_Iraqi_Jew_1'\n",
       "39. 'S_Iraqi_Jew_2'\n",
       "40. 'S_Jordanian_1'\n",
       "41. 'S_Jordanian_2'\n",
       "42. 'S_Jordanian_3'\n",
       "43. 'S_Lezgin_1'\n",
       "44. 'S_Lezgin_2'\n",
       "45. 'S_North_Ossetian_1'\n",
       "46. 'S_North_Ossetian_2'\n",
       "47. 'S_Orcadian_1'\n",
       "48. 'S_Orcadian_2'\n",
       "49. 'S_Palestinian_1'\n",
       "50. 'S_Palestinian_2'\n",
       "51. 'S_Palestinian_3'\n",
       "52. 'S_Polish_1'\n",
       "53. 'S_Russian_1'\n",
       "54. 'S_Russian_2'\n",
       "55. 'S_Samaritan_1'\n",
       "56. 'S_Sardinian_1'\n",
       "57. 'S_Sardinian_2'\n",
       "58. 'S_Spanish_1'\n",
       "59. 'S_Spanish_2'\n",
       "60. 'S_Tajik_1'\n",
       "61. 'S_Tajik_2'\n",
       "62. 'S_Turkish_1'\n",
       "63. 'S_Turkish_2'\n",
       "64. 'S_Tuscan_1'\n",
       "65. 'S_Tuscan_2'\n",
       "66. 'S_Yemenite_Jew_1'\n",
       "67. 'S_Yemenite_Jew_2'\n",
       "\n",
       "\n"
      ],
      "text/plain": [
       " [1] \"S_Abkhasian_1\"      \"S_Abkhasian_2\"      \"S_Adygei_1\"        \n",
       " [4] \"S_Adygei_2\"         \"S_Albanian_1\"       \"S_Armenian_1\"      \n",
       " [7] \"S_Armenian_2\"       \"S_Basque_1\"         \"S_Basque_2\"        \n",
       "[10] \"S_BedouinB_1\"       \"S_BedouinB_2\"       \"S_Bergamo_2\"       \n",
       "[13] \"S_Bulgarian_1\"      \"S_Bulgarian_2\"      \"S_Chechen_1\"       \n",
       "[16] \"S_Czech_2\"          \"S_Druze_1\"          \"S_Druze_2\"         \n",
       "[19] \"S_English_1\"        \"S_English_2\"        \"S_Estonian_1\"      \n",
       "[22] \"S_Estonian_2\"       \"S_Finnish_1\"        \"S_Finnish_2\"       \n",
       "[25] \"S_Finnish_3\"        \"S_French_1\"         \"S_French_2\"        \n",
       "[28] \"S_Georgian_1\"       \"S_Georgian_2\"       \"S_Greek_1\"         \n",
       "[31] \"S_Greek_2\"          \"S_Hungarian_1\"      \"S_Hungarian_2\"     \n",
       "[34] \"S_Icelandic_1\"      \"S_Icelandic_2\"      \"S_Iranian_1\"       \n",
       "[37] \"S_Iranian_2\"        \"S_Iraqi_Jew_1\"      \"S_Iraqi_Jew_2\"     \n",
       "[40] \"S_Jordanian_1\"      \"S_Jordanian_2\"      \"S_Jordanian_3\"     \n",
       "[43] \"S_Lezgin_1\"         \"S_Lezgin_2\"         \"S_North_Ossetian_1\"\n",
       "[46] \"S_North_Ossetian_2\" \"S_Orcadian_1\"       \"S_Orcadian_2\"      \n",
       "[49] \"S_Palestinian_1\"    \"S_Palestinian_2\"    \"S_Palestinian_3\"   \n",
       "[52] \"S_Polish_1\"         \"S_Russian_1\"        \"S_Russian_2\"       \n",
       "[55] \"S_Samaritan_1\"      \"S_Sardinian_1\"      \"S_Sardinian_2\"     \n",
       "[58] \"S_Spanish_1\"        \"S_Spanish_2\"        \"S_Tajik_1\"         \n",
       "[61] \"S_Tajik_2\"          \"S_Turkish_1\"        \"S_Turkish_2\"       \n",
       "[64] \"S_Tuscan_1\"         \"S_Tuscan_2\"         \"S_Yemenite_Jew_1\"  \n",
       "[67] \"S_Yemenite_Jew_2\"  "
      ]
     },
     "metadata": {},
     "output_type": "display_data"
    }
   ],
   "source": [
    "european_ids"
   ]
  },
  {
   "cell_type": "code",
   "execution_count": 49,
   "metadata": {},
   "outputs": [
    {
     "name": "stderr",
     "output_type": "stream",
     "text": [
      "Joining, by = c(\"seqnames\", \"start\", \"end\")\n"
     ]
    }
   ],
   "source": [
    "gt_hits <- inner_join(\n",
    "    select(as.data.frame(sites), seqnames, start, end, contains(\"hits_\")),\n",
    "    select(as.data.frame(genotypes), seqnames, start, end, one_of(european_ids))\n",
    ") %>%\n",
    "    gather(region, hits, -c(1:3), -c(S_Abkhasian_1:S_Yemenite_Jew_2)) %>%\n",
    "    select(-seqnames, -start, -end) %>%\n",
    "    gather(name, gt, -region, -hits)"
   ]
  },
  {
   "cell_type": "code",
   "execution_count": 50,
   "metadata": {},
   "outputs": [
    {
     "data": {
      "text/html": [
       "<table>\n",
       "<thead><tr><th scope=col>region</th><th scope=col>hits</th><th scope=col>name</th><th scope=col>gt</th></tr></thead>\n",
       "<tbody>\n",
       "\t<tr><td>hits_protein_coding</td><td>0                  </td><td>S_Abkhasian_1      </td><td>0                  </td></tr>\n",
       "\t<tr><td>hits_protein_coding</td><td>0                  </td><td>S_Abkhasian_1      </td><td>0                  </td></tr>\n",
       "\t<tr><td>hits_protein_coding</td><td>0                  </td><td>S_Abkhasian_1      </td><td>0                  </td></tr>\n",
       "\t<tr><td>hits_protein_coding</td><td>0                  </td><td>S_Abkhasian_1      </td><td>0                  </td></tr>\n",
       "\t<tr><td>hits_protein_coding</td><td>0                  </td><td>S_Abkhasian_1      </td><td>0                  </td></tr>\n",
       "\t<tr><td>hits_protein_coding</td><td>0                  </td><td>S_Abkhasian_1      </td><td>0                  </td></tr>\n",
       "</tbody>\n",
       "</table>\n"
      ],
      "text/latex": [
       "\\begin{tabular}{r|llll}\n",
       " region & hits & name & gt\\\\\n",
       "\\hline\n",
       "\t hits\\_protein\\_coding & 0                       & S\\_Abkhasian\\_1       & 0                      \\\\\n",
       "\t hits\\_protein\\_coding & 0                       & S\\_Abkhasian\\_1       & 0                      \\\\\n",
       "\t hits\\_protein\\_coding & 0                       & S\\_Abkhasian\\_1       & 0                      \\\\\n",
       "\t hits\\_protein\\_coding & 0                       & S\\_Abkhasian\\_1       & 0                      \\\\\n",
       "\t hits\\_protein\\_coding & 0                       & S\\_Abkhasian\\_1       & 0                      \\\\\n",
       "\t hits\\_protein\\_coding & 0                       & S\\_Abkhasian\\_1       & 0                      \\\\\n",
       "\\end{tabular}\n"
      ],
      "text/markdown": [
       "\n",
       "region | hits | name | gt | \n",
       "|---|---|---|---|---|---|\n",
       "| hits_protein_coding | 0                   | S_Abkhasian_1       | 0                   | \n",
       "| hits_protein_coding | 0                   | S_Abkhasian_1       | 0                   | \n",
       "| hits_protein_coding | 0                   | S_Abkhasian_1       | 0                   | \n",
       "| hits_protein_coding | 0                   | S_Abkhasian_1       | 0                   | \n",
       "| hits_protein_coding | 0                   | S_Abkhasian_1       | 0                   | \n",
       "| hits_protein_coding | 0                   | S_Abkhasian_1       | 0                   | \n",
       "\n",
       "\n"
      ],
      "text/plain": [
       "  region              hits name          gt\n",
       "1 hits_protein_coding 0    S_Abkhasian_1 0 \n",
       "2 hits_protein_coding 0    S_Abkhasian_1 0 \n",
       "3 hits_protein_coding 0    S_Abkhasian_1 0 \n",
       "4 hits_protein_coding 0    S_Abkhasian_1 0 \n",
       "5 hits_protein_coding 0    S_Abkhasian_1 0 \n",
       "6 hits_protein_coding 0    S_Abkhasian_1 0 "
      ]
     },
     "metadata": {},
     "output_type": "display_data"
    }
   ],
   "source": [
    "head(gt_hits)"
   ]
  },
  {
   "cell_type": "markdown",
   "metadata": {},
   "source": [
    "Calculate Nea. ancestry in each individual in different regions:"
   ]
  },
  {
   "cell_type": "code",
   "execution_count": 51,
   "metadata": {
    "collapsed": true
   },
   "outputs": [],
   "source": [
    "hits_nea <-\n",
    "    group_by(gt_hits, name, region, hits) %>%\n",
    "    summarise(nea=mean(gt, na.rm=TRUE) / 2) %>%\n",
    "    ungroup %>% \n",
    "    mutate(hits=factor(hits),\n",
    "           region=str_replace(region, \"hits_\", \"\"))"
   ]
  },
  {
   "cell_type": "code",
   "execution_count": 52,
   "metadata": {
    "collapsed": true
   },
   "outputs": [],
   "source": [
    "genome_wide <- as.data.frame(mcols(genotypes)) %>%\n",
    "    summarise_at(european_ids, function(i) { mean(i, na.rm=TRUE) / 2 }) %>%\n",
    "    gather(name, nea) %>%\n",
    "    mutate(region=\"genome_wide\", hits=\"-\")"
   ]
  },
  {
   "cell_type": "code",
   "execution_count": 53,
   "metadata": {},
   "outputs": [
    {
     "name": "stderr",
     "output_type": "stream",
     "text": [
      "Warning message in bind_rows_(x, .id):\n",
      "“binding factor and character vector, coercing into character vector”Warning message in bind_rows_(x, .id):\n",
      "“binding character and factor vector, coercing into character vector”"
     ]
    },
    {
     "data": {},
     "metadata": {},
     "output_type": "display_data"
    },
    {
     "data": {
      "image/png": "[encoded data removed]",
      "text/plain": [
       "plot without title"
      ]
     },
     "metadata": {},
     "output_type": "display_data"
    }
   ],
   "source": [
    "options(repr.plot.width=10, repr.plot.height=5, repr.plot.res=300)\n",
    "\n",
    "ggplot(bind_rows(hits_nea, genome_wide) %>% filter(complete.cases(.)), aes(hits, nea, fill=region)) +\n",
    "    geom_boxplot(outlier.size=NA) +\n",
    "    geom_hline(yintercept=mean(genome_wide$nea), linetype=2, color=\"red\", size=1) +\n",
    "    theme(axis.text.x=element_text(angle=45, hjust=1)) +\n",
    "    labs(y=\"Nea. ancestry proportions in SGDP Europeans\", x=\"ancestry calculated at sites that: 0 - don't overlap a category, 1 - do overlap a category\")"
   ]
  },
  {
   "cell_type": "code",
   "execution_count": null,
   "metadata": {
    "collapsed": true
   },
   "outputs": [],
   "source": [
    "save(genotypes, regions, sites, tbl, hits_nea, genome_wide,\n",
    "     file=\"../RData/introgression_predictors.RData\")"
   ]
  },
  {
   "cell_type": "code",
   "execution_count": 54,
   "metadata": {},
   "outputs": [
    {
     "data": {
      "text/html": [
       "<table>\n",
       "<thead><tr><th scope=col>region</th><th scope=col>hit</th><th scope=col>n</th></tr></thead>\n",
       "<tbody>\n",
       "\t<tr><td>hits_ctcf_binding_site       </td><td>0                            </td><td>475349                       </td></tr>\n",
       "\t<tr><td>hits_ctcf_binding_site       </td><td>1                            </td><td>  8515                       </td></tr>\n",
       "\t<tr><td>hits_enhancer                </td><td>0                            </td><td>479844                       </td></tr>\n",
       "\t<tr><td>hits_enhancer                </td><td>1                            </td><td>  4020                       </td></tr>\n",
       "\t<tr><td>hits_open_chromatin          </td><td>0                            </td><td>472708                       </td></tr>\n",
       "\t<tr><td>hits_open_chromatin          </td><td>1                            </td><td> 11156                       </td></tr>\n",
       "\t<tr><td>hits_priPhastCons            </td><td>0                            </td><td>466423                       </td></tr>\n",
       "\t<tr><td>hits_priPhastCons            </td><td>1                            </td><td> 17441                       </td></tr>\n",
       "\t<tr><td>hits_promoter                </td><td>0                            </td><td>478675                       </td></tr>\n",
       "\t<tr><td>hits_promoter                </td><td>1                            </td><td>  5189                       </td></tr>\n",
       "\t<tr><td>hits_promoter_flanking_region</td><td>0                            </td><td>470656                       </td></tr>\n",
       "\t<tr><td>hits_promoter_flanking_region</td><td>1                            </td><td> 13208                       </td></tr>\n",
       "\t<tr><td>hits_protein_coding          </td><td>0                            </td><td>478911                       </td></tr>\n",
       "\t<tr><td>hits_protein_coding          </td><td>1                            </td><td>  4953                       </td></tr>\n",
       "\t<tr><td>hits_tf_binding_site         </td><td>0                            </td><td>481607                       </td></tr>\n",
       "\t<tr><td>hits_tf_binding_site         </td><td>1                            </td><td>  2257                       </td></tr>\n",
       "\t<tr><td>hits_utr                     </td><td>0                            </td><td>472328                       </td></tr>\n",
       "\t<tr><td>hits_utr                     </td><td>1                            </td><td> 11536                       </td></tr>\n",
       "</tbody>\n",
       "</table>\n"
      ],
      "text/latex": [
       "\\begin{tabular}{r|lll}\n",
       " region & hit & n\\\\\n",
       "\\hline\n",
       "\t hits\\_ctcf\\_binding\\_site        & 0                                   & 475349                             \\\\\n",
       "\t hits\\_ctcf\\_binding\\_site        & 1                                   &   8515                             \\\\\n",
       "\t hits\\_enhancer                 & 0                               & 479844                         \\\\\n",
       "\t hits\\_enhancer                 & 1                               &   4020                         \\\\\n",
       "\t hits\\_open\\_chromatin           & 0                                 & 472708                           \\\\\n",
       "\t hits\\_open\\_chromatin           & 1                                 &  11156                           \\\\\n",
       "\t hits\\_priPhastCons             & 0                               & 466423                         \\\\\n",
       "\t hits\\_priPhastCons             & 1                               &  17441                         \\\\\n",
       "\t hits\\_promoter                 & 0                               & 478675                         \\\\\n",
       "\t hits\\_promoter                 & 1                               &   5189                         \\\\\n",
       "\t hits\\_promoter\\_flanking\\_region & 0                                   & 470656                             \\\\\n",
       "\t hits\\_promoter\\_flanking\\_region & 1                                   &  13208                             \\\\\n",
       "\t hits\\_protein\\_coding           & 0                                 & 478911                           \\\\\n",
       "\t hits\\_protein\\_coding           & 1                                 &   4953                           \\\\\n",
       "\t hits\\_tf\\_binding\\_site          & 0                                   & 481607                             \\\\\n",
       "\t hits\\_tf\\_binding\\_site          & 1                                   &   2257                             \\\\\n",
       "\t hits\\_utr                      & 0                               & 472328                         \\\\\n",
       "\t hits\\_utr                      & 1                               &  11536                         \\\\\n",
       "\\end{tabular}\n"
      ],
      "text/markdown": [
       "\n",
       "region | hit | n | \n",
       "|---|---|---|---|---|---|---|---|---|---|---|---|---|---|---|---|---|---|\n",
       "| hits_ctcf_binding_site        | 0                             | 475349                        | \n",
       "| hits_ctcf_binding_site        | 1                             |   8515                        | \n",
       "| hits_enhancer                 | 0                             | 479844                        | \n",
       "| hits_enhancer                 | 1                             |   4020                        | \n",
       "| hits_open_chromatin           | 0                             | 472708                        | \n",
       "| hits_open_chromatin           | 1                             |  11156                        | \n",
       "| hits_priPhastCons             | 0                             | 466423                        | \n",
       "| hits_priPhastCons             | 1                             |  17441                        | \n",
       "| hits_promoter                 | 0                             | 478675                        | \n",
       "| hits_promoter                 | 1                             |   5189                        | \n",
       "| hits_promoter_flanking_region | 0                             | 470656                        | \n",
       "| hits_promoter_flanking_region | 1                             |  13208                        | \n",
       "| hits_protein_coding           | 0                             | 478911                        | \n",
       "| hits_protein_coding           | 1                             |   4953                        | \n",
       "| hits_tf_binding_site          | 0                             | 481607                        | \n",
       "| hits_tf_binding_site          | 1                             |   2257                        | \n",
       "| hits_utr                      | 0                             | 472328                        | \n",
       "| hits_utr                      | 1                             |  11536                        | \n",
       "\n",
       "\n"
      ],
      "text/plain": [
       "   region                        hit n     \n",
       "1  hits_ctcf_binding_site        0   475349\n",
       "2  hits_ctcf_binding_site        1     8515\n",
       "3  hits_enhancer                 0   479844\n",
       "4  hits_enhancer                 1     4020\n",
       "5  hits_open_chromatin           0   472708\n",
       "6  hits_open_chromatin           1    11156\n",
       "7  hits_priPhastCons             0   466423\n",
       "8  hits_priPhastCons             1    17441\n",
       "9  hits_promoter                 0   478675\n",
       "10 hits_promoter                 1     5189\n",
       "11 hits_promoter_flanking_region 0   470656\n",
       "12 hits_promoter_flanking_region 1    13208\n",
       "13 hits_protein_coding           0   478911\n",
       "14 hits_protein_coding           1     4953\n",
       "15 hits_tf_binding_site          0   481607\n",
       "16 hits_tf_binding_site          1     2257\n",
       "17 hits_utr                      0   472328\n",
       "18 hits_utr                      1    11536"
      ]
     },
     "metadata": {},
     "output_type": "display_data"
    }
   ],
   "source": [
    "dplyr::select(tbl, contains(\"hits_\")) %>%\n",
    "    gather(region, hit) %>%\n",
    "    group_by(region, hit) %>%\n",
    "    tally"
   ]
  },
  {
   "cell_type": "code",
   "execution_count": null,
   "metadata": {
    "collapsed": true
   },
   "outputs": [],
   "source": []
  },
  {
   "cell_type": "code",
   "execution_count": 57,
   "metadata": {},
   "outputs": [
    {
     "name": "stderr",
     "output_type": "stream",
     "text": [
      "Parsed with column specification:\n",
      "cols(\n",
      "  name = col_character(),\n",
      "  age = col_integer()\n",
      ")\n",
      "Parsed with column specification:\n",
      "cols(\n",
      "  .default = col_integer(),\n",
      "  ref = col_character(),\n",
      "  alt = col_character()\n",
      ")\n",
      "See spec(...) for full column specifications.\n",
      "Parsed with column specification:\n",
      "cols(\n",
      "  .default = col_integer(),\n",
      "  ref = col_character(),\n",
      "  alt = col_character()\n",
      ")\n",
      "See spec(...) for full column specifications.\n",
      "Parsed with column specification:\n",
      "cols(\n",
      "  chrom = col_integer(),\n",
      "  pos = col_integer(),\n",
      "  ref = col_character(),\n",
      "  alt = col_character(),\n",
      "  Altai = col_integer(),\n",
      "  Vindija = col_integer(),\n",
      "  Denisovan = col_integer()\n",
      ")\n",
      "Joining, by = c(\"chrom\", \"pos\", \"ref\", \"alt\")\n",
      "Joining, by = c(\"chrom\", \"pos\", \"ref\", \"alt\")\n",
      "Warning message:\n",
      "“Unknown variables: `Paglicci133`, `Cioclovina1`, `KremsWA3`, `Vestonice14`, `GoyetQ53_1`, `Paglicci108`, `GoyetQ376_19`, `GoyetQ56_16`, `Rigney1`, `HohleFels49`, `GoyetQ_2`, `Brillenhohle`, `HohleFels79`, `Burkhardtshohle`, `Rochedane`, `Iboussieres39`, `Ranchot88`, `LesCloseaux13`, `Falkenstein`, `Bockstein`, `Ofnet`, `Chaudardes1`, `Hungarian.KO1`, `BerryAuBac`”Joining, by = \"name\"\n"
     ]
    }
   ],
   "source": [
    "library(tidyverse)\n",
    "library(stringr)\n",
    "library(magrittr)\n",
    "\n",
    "#setwd(\"/mnt/expressions/mp/slim-neanderthal/\")\n",
    "setwd(\"../\")\n",
    "\n",
    "#source(\"R/utils.R\")\n",
    "\n",
    "# load information about the Ice Age samples\n",
    "emhs <- read_delim(\"clean_data/emh_ages.txt\", delim=\" \", col_names=c(\"name\", \"age\")) %>%\n",
    "    mutate(name=str_replace(name, \"-\", \"_\"))\n",
    "\n",
    "# load all genotypes of all SGDP, Ice Age and archaic samples\n",
    "genotypes <- load_dataset(\"clean_data/ice_age.tsv\",\n",
    "                          \"clean_data/sgdp.tsv\",\n",
    "                          \"clean_data/archaics.tsv\",\n",
    "                          filter_damage=TRUE,\n",
    "                          random_sample=TRUE) %>%\n",
    "    select(one_of(emhs$name))\n",
    "\n",
    "# calculate N% for each sample and join with the table of ages\n",
    "nea_estimates <- summarise_all(genotypes, function(i) {mean(i, na.rm=TRUE) / 2}) %>%\n",
    "    gather(name, nea) %>%\n",
    "    inner_join(emhs)"
   ]
  },
  {
   "cell_type": "code",
   "execution_count": 58,
   "metadata": {},
   "outputs": [
    {
     "data": {
      "text/html": [
       "<table>\n",
       "<thead><tr><th scope=col>name</th><th scope=col>nea</th><th scope=col>age</th></tr></thead>\n",
       "<tbody>\n",
       "\t<tr><td>UstIshim     </td><td>0.02797917   </td><td>45020        </td></tr>\n",
       "\t<tr><td>Oase1        </td><td>0.05881378   </td><td>39610        </td></tr>\n",
       "\t<tr><td>Kostenki14   </td><td>0.02656486   </td><td>37470        </td></tr>\n",
       "\t<tr><td>GoyetQ116_1  </td><td>0.02880845   </td><td>34795        </td></tr>\n",
       "\t<tr><td>Muierii2     </td><td>0.02226141   </td><td>33300        </td></tr>\n",
       "\t<tr><td>Kostenki12   </td><td>0.01810791   </td><td>32415        </td></tr>\n",
       "\t<tr><td>Vestonice13  </td><td>0.02894517   </td><td>30870        </td></tr>\n",
       "\t<tr><td>Vestonice15  </td><td>0.02538071   </td><td>30870        </td></tr>\n",
       "\t<tr><td>Pavlov1      </td><td>0.02412731   </td><td>30260        </td></tr>\n",
       "\t<tr><td>Vestonice43  </td><td>0.02375782   </td><td>30010        </td></tr>\n",
       "\t<tr><td>Vestonice16  </td><td>0.02552449   </td><td>30010        </td></tr>\n",
       "\t<tr><td>Ostuni2      </td><td>0.01403509   </td><td>28975        </td></tr>\n",
       "\t<tr><td>Ostuni1      </td><td>0.02179487   </td><td>27620        </td></tr>\n",
       "\t<tr><td>Malta1       </td><td>0.02128564   </td><td>24305        </td></tr>\n",
       "\t<tr><td>ElMiron      </td><td>0.02486059   </td><td>18720        </td></tr>\n",
       "\t<tr><td>AfontovaGora3</td><td>0.01989076   </td><td>16710        </td></tr>\n",
       "\t<tr><td>AfontovaGora2</td><td>0.01966255   </td><td>16710        </td></tr>\n",
       "\t<tr><td>Villabruna   </td><td>0.02107682   </td><td>13980        </td></tr>\n",
       "\t<tr><td>Bichon       </td><td>0.02305058   </td><td>13665        </td></tr>\n",
       "\t<tr><td>Satsurblia   </td><td>0.01597764   </td><td>13255        </td></tr>\n",
       "\t<tr><td>Continenza   </td><td>0.02000000   </td><td>10855        </td></tr>\n",
       "\t<tr><td>Kotias       </td><td>0.01567629   </td><td> 9720        </td></tr>\n",
       "\t<tr><td>Karelia      </td><td>0.02017421   </td><td> 8375        </td></tr>\n",
       "\t<tr><td>Loschbour    </td><td>0.02270933   </td><td> 8050        </td></tr>\n",
       "\t<tr><td>LaBrana1     </td><td>0.02286616   </td><td> 7815        </td></tr>\n",
       "\t<tr><td>Motala12     </td><td>0.01979329   </td><td> 7625        </td></tr>\n",
       "\t<tr><td>Stuttgart    </td><td>0.01885115   </td><td> 7140        </td></tr>\n",
       "</tbody>\n",
       "</table>\n"
      ],
      "text/latex": [
       "\\begin{tabular}{r|lll}\n",
       " name & nea & age\\\\\n",
       "\\hline\n",
       "\t UstIshim      & 0.02797917    & 45020        \\\\\n",
       "\t Oase1         & 0.05881378    & 39610        \\\\\n",
       "\t Kostenki14    & 0.02656486    & 37470        \\\\\n",
       "\t GoyetQ116\\_1   & 0.02880845      & 34795          \\\\\n",
       "\t Muierii2      & 0.02226141    & 33300        \\\\\n",
       "\t Kostenki12    & 0.01810791    & 32415        \\\\\n",
       "\t Vestonice13   & 0.02894517    & 30870        \\\\\n",
       "\t Vestonice15   & 0.02538071    & 30870        \\\\\n",
       "\t Pavlov1       & 0.02412731    & 30260        \\\\\n",
       "\t Vestonice43   & 0.02375782    & 30010        \\\\\n",
       "\t Vestonice16   & 0.02552449    & 30010        \\\\\n",
       "\t Ostuni2       & 0.01403509    & 28975        \\\\\n",
       "\t Ostuni1       & 0.02179487    & 27620        \\\\\n",
       "\t Malta1        & 0.02128564    & 24305        \\\\\n",
       "\t ElMiron       & 0.02486059    & 18720        \\\\\n",
       "\t AfontovaGora3 & 0.01989076    & 16710        \\\\\n",
       "\t AfontovaGora2 & 0.01966255    & 16710        \\\\\n",
       "\t Villabruna    & 0.02107682    & 13980        \\\\\n",
       "\t Bichon        & 0.02305058    & 13665        \\\\\n",
       "\t Satsurblia    & 0.01597764    & 13255        \\\\\n",
       "\t Continenza    & 0.02000000    & 10855        \\\\\n",
       "\t Kotias        & 0.01567629    &  9720        \\\\\n",
       "\t Karelia       & 0.02017421    &  8375        \\\\\n",
       "\t Loschbour     & 0.02270933    &  8050        \\\\\n",
       "\t LaBrana1      & 0.02286616    &  7815        \\\\\n",
       "\t Motala12      & 0.01979329    &  7625        \\\\\n",
       "\t Stuttgart     & 0.01885115    &  7140        \\\\\n",
       "\\end{tabular}\n"
      ],
      "text/markdown": [
       "\n",
       "name | nea | age | \n",
       "|---|---|---|---|---|---|---|---|---|---|---|---|---|---|---|---|---|---|---|---|---|---|---|---|---|---|---|\n",
       "| UstIshim      | 0.02797917    | 45020         | \n",
       "| Oase1         | 0.05881378    | 39610         | \n",
       "| Kostenki14    | 0.02656486    | 37470         | \n",
       "| GoyetQ116_1   | 0.02880845    | 34795         | \n",
       "| Muierii2      | 0.02226141    | 33300         | \n",
       "| Kostenki12    | 0.01810791    | 32415         | \n",
       "| Vestonice13   | 0.02894517    | 30870         | \n",
       "| Vestonice15   | 0.02538071    | 30870         | \n",
       "| Pavlov1       | 0.02412731    | 30260         | \n",
       "| Vestonice43   | 0.02375782    | 30010         | \n",
       "| Vestonice16   | 0.02552449    | 30010         | \n",
       "| Ostuni2       | 0.01403509    | 28975         | \n",
       "| Ostuni1       | 0.02179487    | 27620         | \n",
       "| Malta1        | 0.02128564    | 24305         | \n",
       "| ElMiron       | 0.02486059    | 18720         | \n",
       "| AfontovaGora3 | 0.01989076    | 16710         | \n",
       "| AfontovaGora2 | 0.01966255    | 16710         | \n",
       "| Villabruna    | 0.02107682    | 13980         | \n",
       "| Bichon        | 0.02305058    | 13665         | \n",
       "| Satsurblia    | 0.01597764    | 13255         | \n",
       "| Continenza    | 0.02000000    | 10855         | \n",
       "| Kotias        | 0.01567629    |  9720         | \n",
       "| Karelia       | 0.02017421    |  8375         | \n",
       "| Loschbour     | 0.02270933    |  8050         | \n",
       "| LaBrana1      | 0.02286616    |  7815         | \n",
       "| Motala12      | 0.01979329    |  7625         | \n",
       "| Stuttgart     | 0.01885115    |  7140         | \n",
       "\n",
       "\n"
      ],
      "text/plain": [
       "   name          nea        age  \n",
       "1  UstIshim      0.02797917 45020\n",
       "2  Oase1         0.05881378 39610\n",
       "3  Kostenki14    0.02656486 37470\n",
       "4  GoyetQ116_1   0.02880845 34795\n",
       "5  Muierii2      0.02226141 33300\n",
       "6  Kostenki12    0.01810791 32415\n",
       "7  Vestonice13   0.02894517 30870\n",
       "8  Vestonice15   0.02538071 30870\n",
       "9  Pavlov1       0.02412731 30260\n",
       "10 Vestonice43   0.02375782 30010\n",
       "11 Vestonice16   0.02552449 30010\n",
       "12 Ostuni2       0.01403509 28975\n",
       "13 Ostuni1       0.02179487 27620\n",
       "14 Malta1        0.02128564 24305\n",
       "15 ElMiron       0.02486059 18720\n",
       "16 AfontovaGora3 0.01989076 16710\n",
       "17 AfontovaGora2 0.01966255 16710\n",
       "18 Villabruna    0.02107682 13980\n",
       "19 Bichon        0.02305058 13665\n",
       "20 Satsurblia    0.01597764 13255\n",
       "21 Continenza    0.02000000 10855\n",
       "22 Kotias        0.01567629  9720\n",
       "23 Karelia       0.02017421  8375\n",
       "24 Loschbour     0.02270933  8050\n",
       "25 LaBrana1      0.02286616  7815\n",
       "26 Motala12      0.01979329  7625\n",
       "27 Stuttgart     0.01885115  7140"
      ]
     },
     "metadata": {},
     "output_type": "display_data"
    }
   ],
   "source": [
    "nea_estimates"
   ]
  }
 ],
 "metadata": {
  "kernelspec": {
   "display_name": "R",
   "language": "R",
   "name": "ir"
  },
  "language_info": {
   "codemirror_mode": "r",
   "file_extension": ".r",
   "mimetype": "text/x-r-source",
   "name": "R",
   "pygments_lexer": "r",
   "version": "3.3.2"
  }
 },
 "nbformat": 4,
 "nbformat_minor": 2
}
