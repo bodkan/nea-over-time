{
 "cells": [
  {
   "cell_type": "markdown",
   "metadata": {},
   "source": [
    "This notebook describes processing of exonic coordinates from a GTF annotation file, processing of sites from the archaic admixture array and generation of recombination map for SLiM simulations."
   ]
  },
  {
   "cell_type": "code",
   "execution_count": 1,
   "metadata": {
    "collapsed": true
   },
   "outputs": [],
   "source": [
    "from pybedtools import BedTool\n",
    "import pandas as pd\n",
    "import matplotlib.pyplot as plt"
   ]
  },
  {
   "cell_type": "code",
   "execution_count": 2,
   "metadata": {
    "collapsed": true
   },
   "outputs": [],
   "source": [
    "%matplotlib inline\n",
    "plt.style.use('ggplot')"
   ]
  },
  {
   "cell_type": "markdown",
   "metadata": {},
   "source": [
    "## Exon coordinates processing"
   ]
  },
  {
   "cell_type": "markdown",
   "metadata": {},
   "source": [
    "First download the GTF annotations:"
   ]
  },
  {
   "cell_type": "code",
   "execution_count": 3,
   "metadata": {
    "collapsed": false
   },
   "outputs": [],
   "source": [
    "gtf = pd.read_table('ftp://ftp.ensembl.org/pub/release-75/gtf/homo_sapiens/Homo_sapiens.GRCh37.75.gtf.gz',\n",
    "                    header=None, sep='\\t', skipinitialspace=True, skiprows=5, compression='gzip',\n",
    "                    names=['chrom', 'source', 'feature', 'start', 'end',\n",
    "                           'score', 'strand', 'frame', 'attribute'], low_memory=False)"
   ]
  },
  {
   "cell_type": "markdown",
   "metadata": {},
   "source": [
    "What does the data look like?"
   ]
  },
  {
   "cell_type": "code",
   "execution_count": 4,
   "metadata": {
    "collapsed": false
   },
   "outputs": [
    {
     "data": {
      "text/html": [
       "<div>\n",
       "<table border=\"1\" class=\"dataframe\">\n",
       "  <thead>\n",
       "    <tr style=\"text-align: right;\">\n",
       "      <th></th>\n",
       "      <th>chrom</th>\n",
       "      <th>source</th>\n",
       "      <th>feature</th>\n",
       "      <th>start</th>\n",
       "      <th>end</th>\n",
       "      <th>score</th>\n",
       "      <th>strand</th>\n",
       "      <th>frame</th>\n",
       "      <th>attribute</th>\n",
       "    </tr>\n",
       "  </thead>\n",
       "  <tbody>\n",
       "    <tr>\n",
       "      <th>0</th>\n",
       "      <td>1</td>\n",
       "      <td>pseudogene</td>\n",
       "      <td>gene</td>\n",
       "      <td>11869</td>\n",
       "      <td>14412</td>\n",
       "      <td>.</td>\n",
       "      <td>+</td>\n",
       "      <td>.</td>\n",
       "      <td>gene_id \"ENSG00000223972\"; gene_name \"DDX11L1\"...</td>\n",
       "    </tr>\n",
       "    <tr>\n",
       "      <th>1</th>\n",
       "      <td>1</td>\n",
       "      <td>processed_transcript</td>\n",
       "      <td>transcript</td>\n",
       "      <td>11869</td>\n",
       "      <td>14409</td>\n",
       "      <td>.</td>\n",
       "      <td>+</td>\n",
       "      <td>.</td>\n",
       "      <td>gene_id \"ENSG00000223972\"; transcript_id \"ENST...</td>\n",
       "    </tr>\n",
       "    <tr>\n",
       "      <th>2</th>\n",
       "      <td>1</td>\n",
       "      <td>processed_transcript</td>\n",
       "      <td>exon</td>\n",
       "      <td>11869</td>\n",
       "      <td>12227</td>\n",
       "      <td>.</td>\n",
       "      <td>+</td>\n",
       "      <td>.</td>\n",
       "      <td>gene_id \"ENSG00000223972\"; transcript_id \"ENST...</td>\n",
       "    </tr>\n",
       "    <tr>\n",
       "      <th>3</th>\n",
       "      <td>1</td>\n",
       "      <td>processed_transcript</td>\n",
       "      <td>exon</td>\n",
       "      <td>12613</td>\n",
       "      <td>12721</td>\n",
       "      <td>.</td>\n",
       "      <td>+</td>\n",
       "      <td>.</td>\n",
       "      <td>gene_id \"ENSG00000223972\"; transcript_id \"ENST...</td>\n",
       "    </tr>\n",
       "    <tr>\n",
       "      <th>4</th>\n",
       "      <td>1</td>\n",
       "      <td>processed_transcript</td>\n",
       "      <td>exon</td>\n",
       "      <td>13221</td>\n",
       "      <td>14409</td>\n",
       "      <td>.</td>\n",
       "      <td>+</td>\n",
       "      <td>.</td>\n",
       "      <td>gene_id \"ENSG00000223972\"; transcript_id \"ENST...</td>\n",
       "    </tr>\n",
       "  </tbody>\n",
       "</table>\n",
       "</div>"
      ],
      "text/plain": [
       "  chrom                source     feature  start    end score strand frame  \\\n",
       "0     1            pseudogene        gene  11869  14412     .      +     .   \n",
       "1     1  processed_transcript  transcript  11869  14409     .      +     .   \n",
       "2     1  processed_transcript        exon  11869  12227     .      +     .   \n",
       "3     1  processed_transcript        exon  12613  12721     .      +     .   \n",
       "4     1  processed_transcript        exon  13221  14409     .      +     .   \n",
       "\n",
       "                                           attribute  \n",
       "0  gene_id \"ENSG00000223972\"; gene_name \"DDX11L1\"...  \n",
       "1  gene_id \"ENSG00000223972\"; transcript_id \"ENST...  \n",
       "2  gene_id \"ENSG00000223972\"; transcript_id \"ENST...  \n",
       "3  gene_id \"ENSG00000223972\"; transcript_id \"ENST...  \n",
       "4  gene_id \"ENSG00000223972\"; transcript_id \"ENST...  "
      ]
     },
     "execution_count": 4,
     "metadata": {},
     "output_type": "execute_result"
    }
   ],
   "source": [
    "gtf.head()"
   ]
  },
  {
   "cell_type": "code",
   "execution_count": 5,
   "metadata": {
    "collapsed": false
   },
   "outputs": [
    {
     "data": {
      "text/plain": [
       "protein_coding                        2001054\n",
       "nonsense_mediated_decay                293471\n",
       "processed_transcript                   173401\n",
       "retained_intron                        150034\n",
       "lincRNA                                 55928\n",
       "antisense                               45811\n",
       "processed_pseudogene                    24517\n",
       "pseudogene                              17830\n",
       "unprocessed_pseudogene                  13763\n",
       "miRNA                                   10209\n",
       "transcribed_unprocessed_pseudogene       7931\n",
       "misc_RNA                                 6554\n",
       "snRNA                                    6215\n",
       "snoRNA                                   4791\n",
       "sense_intronic                           3241\n",
       "polymorphic_pseudogene                   1906\n",
       "rRNA                                     1706\n",
       "unitary_pseudogene                       1467\n",
       "sense_overlapping                        1463\n",
       "IG_V_gene                                1277\n",
       "transcribed_processed_pseudogene         1182\n",
       "non_stop_decay                           1132\n",
       "TR_V_gene                                1019\n",
       "IG_V_pseudogene                           912\n",
       "TR_J_gene                                 328\n",
       "IG_C_gene                                 313\n",
       "IG_D_gene                                 260\n",
       "TR_V_pseudogene                           147\n",
       "3prime_overlapping_ncrna                  116\n",
       "IG_J_gene                                 102\n",
       "Mt_tRNA                                    66\n",
       "TR_C_gene                                  64\n",
       "IG_C_pseudogene                            51\n",
       "IG_J_pseudogene                            18\n",
       "TR_D_gene                                  12\n",
       "TR_J_pseudogene                            12\n",
       "Mt_rRNA                                     6\n",
       "translated_processed_pseudogene             3\n",
       "Name: source, dtype: int64"
      ]
     },
     "execution_count": 5,
     "metadata": {},
     "output_type": "execute_result"
    }
   ],
   "source": [
    "gtf.source.value_counts()"
   ]
  },
  {
   "cell_type": "code",
   "execution_count": 6,
   "metadata": {
    "collapsed": false
   },
   "outputs": [
    {
     "data": {
      "text/plain": [
       "exon              1306656\n",
       "CDS                791856\n",
       "UTR                304070\n",
       "transcript         215170\n",
       "stop_codon          73411\n",
       "start_codon         73358\n",
       "gene                63677\n",
       "Selenocysteine        114\n",
       "Name: feature, dtype: int64"
      ]
     },
     "execution_count": 6,
     "metadata": {},
     "output_type": "execute_result"
    }
   ],
   "source": [
    "gtf.feature.value_counts()"
   ]
  },
  {
   "cell_type": "markdown",
   "metadata": {},
   "source": [
    "Take only autosomal protein-coding regions, since we won't be simulating sex chromosomes:"
   ]
  },
  {
   "cell_type": "code",
   "execution_count": 7,
   "metadata": {
    "collapsed": false
   },
   "outputs": [],
   "source": [
    "AUTOSOMES = [str(i + 1) for i in range(22)]"
   ]
  },
  {
   "cell_type": "code",
   "execution_count": 8,
   "metadata": {
    "collapsed": false
   },
   "outputs": [],
   "source": [
    "exons = gtf[gtf.chrom.isin(AUTOSOMES) &\n",
    "           (gtf.source == \"protein_coding\") &\n",
    "           (gtf.feature == \"exon\")]"
   ]
  },
  {
   "cell_type": "markdown",
   "metadata": {},
   "source": [
    "Merge the overlapping exons:"
   ]
  },
  {
   "cell_type": "code",
   "execution_count": 9,
   "metadata": {
    "collapsed": true
   },
   "outputs": [],
   "source": [
    "exons = BedTool.from_dataframe(exons).sort().merge().to_dataframe()"
   ]
  },
  {
   "cell_type": "code",
   "execution_count": 10,
   "metadata": {
    "collapsed": false
   },
   "outputs": [],
   "source": [
    "exons['type'] = 'exon'"
   ]
  },
  {
   "cell_type": "markdown",
   "metadata": {},
   "source": [
    "Convert chromosome IDs to integers and sort coordinates:"
   ]
  },
  {
   "cell_type": "code",
   "execution_count": 11,
   "metadata": {
    "collapsed": false
   },
   "outputs": [],
   "source": [
    "exons.chrom = exons.chrom.astype(int)\n",
    "exons.sort_values(by=['chrom', 'start'], inplace=True)"
   ]
  },
  {
   "cell_type": "markdown",
   "metadata": {},
   "source": [
    "What is the distribution of exon lengths?"
   ]
  },
  {
   "cell_type": "code",
   "execution_count": 12,
   "metadata": {
    "collapsed": false
   },
   "outputs": [
    {
     "data": {
      "text/plain": [
       "count    214193.000000\n",
       "mean        337.708039\n",
       "std         776.506070\n",
       "min           1.000000\n",
       "25%          96.000000\n",
       "50%         138.000000\n",
       "75%         217.000000\n",
       "max       24409.000000\n",
       "dtype: float64"
      ]
     },
     "execution_count": 12,
     "metadata": {},
     "output_type": "execute_result"
    }
   ],
   "source": [
    "((exons.end - exons.start)).describe()"
   ]
  },
  {
   "cell_type": "code",
   "execution_count": 13,
   "metadata": {
    "collapsed": false
   },
   "outputs": [
    {
     "data": {
      "image/png": "[encoded data removed]",
      "text/plain": [
       "<matplotlib.figure.Figure at 0x7f6231639eb8>"
      ]
     },
     "metadata": {},
     "output_type": "display_data"
    }
   ],
   "source": [
    "plt.figure_ = plt.hist((exons.end - exons.start), bins=100)"
   ]
  },
  {
   "cell_type": "code",
   "execution_count": 14,
   "metadata": {
    "collapsed": false
   },
   "outputs": [
    {
     "data": {
      "text/html": [
       "<div>\n",
       "<table border=\"1\" class=\"dataframe\">\n",
       "  <thead>\n",
       "    <tr style=\"text-align: right;\">\n",
       "      <th></th>\n",
       "      <th>chrom</th>\n",
       "      <th>start</th>\n",
       "      <th>end</th>\n",
       "      <th>type</th>\n",
       "    </tr>\n",
       "  </thead>\n",
       "  <tbody>\n",
       "    <tr>\n",
       "      <th>0</th>\n",
       "      <td>1</td>\n",
       "      <td>69090</td>\n",
       "      <td>70008</td>\n",
       "      <td>exon</td>\n",
       "    </tr>\n",
       "    <tr>\n",
       "      <th>1</th>\n",
       "      <td>1</td>\n",
       "      <td>134900</td>\n",
       "      <td>135802</td>\n",
       "      <td>exon</td>\n",
       "    </tr>\n",
       "    <tr>\n",
       "      <th>2</th>\n",
       "      <td>1</td>\n",
       "      <td>137620</td>\n",
       "      <td>139379</td>\n",
       "      <td>exon</td>\n",
       "    </tr>\n",
       "    <tr>\n",
       "      <th>3</th>\n",
       "      <td>1</td>\n",
       "      <td>367639</td>\n",
       "      <td>368634</td>\n",
       "      <td>exon</td>\n",
       "    </tr>\n",
       "    <tr>\n",
       "      <th>4</th>\n",
       "      <td>1</td>\n",
       "      <td>621058</td>\n",
       "      <td>622053</td>\n",
       "      <td>exon</td>\n",
       "    </tr>\n",
       "  </tbody>\n",
       "</table>\n",
       "</div>"
      ],
      "text/plain": [
       "   chrom   start     end  type\n",
       "0      1   69090   70008  exon\n",
       "1      1  134900  135802  exon\n",
       "2      1  137620  139379  exon\n",
       "3      1  367639  368634  exon\n",
       "4      1  621058  622053  exon"
      ]
     },
     "execution_count": 14,
     "metadata": {},
     "output_type": "execute_result"
    }
   ],
   "source": [
    "exons.head()"
   ]
  },
  {
   "cell_type": "markdown",
   "metadata": {},
   "source": [
    "## Process positions from the archaic admixture array"
   ]
  },
  {
   "cell_type": "markdown",
   "metadata": {},
   "source": [
    "Load the coordinates of sites from the archaic admixture array:"
   ]
  },
  {
   "cell_type": "code",
   "execution_count": 15,
   "metadata": {
    "collapsed": true
   },
   "outputs": [],
   "source": [
    "array_sites = pd.read_table('../raw_data/ice_age/filter.gz', names=['chrom', 'end', 'set_1', 'set_2'])"
   ]
  },
  {
   "cell_type": "markdown",
   "metadata": {},
   "source": [
    "Subset to sites in the so called \"Set 1\" (see `raw_data/ice_age/README.md` for more information):"
   ]
  },
  {
   "cell_type": "code",
   "execution_count": 16,
   "metadata": {
    "collapsed": true
   },
   "outputs": [],
   "source": [
    "array_sites = array_sites[array_sites.set_1 == 1]"
   ]
  },
  {
   "cell_type": "markdown",
   "metadata": {},
   "source": [
    "Convert the table into a BED format:"
   ]
  },
  {
   "cell_type": "code",
   "execution_count": 17,
   "metadata": {
    "collapsed": true
   },
   "outputs": [],
   "source": [
    "array_sites['start'] = array_sites.end - 1\n",
    "array_sites = array_sites[['chrom', 'start', 'end']]"
   ]
  },
  {
   "cell_type": "code",
   "execution_count": 18,
   "metadata": {
    "collapsed": false
   },
   "outputs": [],
   "source": [
    "array_sites['type'] = 'snp'"
   ]
  },
  {
   "cell_type": "code",
   "execution_count": 19,
   "metadata": {
    "collapsed": false
   },
   "outputs": [
    {
     "data": {
      "text/html": [
       "<div>\n",
       "<table border=\"1\" class=\"dataframe\">\n",
       "  <thead>\n",
       "    <tr style=\"text-align: right;\">\n",
       "      <th></th>\n",
       "      <th>chrom</th>\n",
       "      <th>start</th>\n",
       "      <th>end</th>\n",
       "      <th>type</th>\n",
       "    </tr>\n",
       "  </thead>\n",
       "  <tbody>\n",
       "    <tr>\n",
       "      <th>0</th>\n",
       "      <td>1</td>\n",
       "      <td>847982</td>\n",
       "      <td>847983</td>\n",
       "      <td>snp</td>\n",
       "    </tr>\n",
       "    <tr>\n",
       "      <th>1</th>\n",
       "      <td>1</td>\n",
       "      <td>853088</td>\n",
       "      <td>853089</td>\n",
       "      <td>snp</td>\n",
       "    </tr>\n",
       "    <tr>\n",
       "      <th>2</th>\n",
       "      <td>1</td>\n",
       "      <td>853595</td>\n",
       "      <td>853596</td>\n",
       "      <td>snp</td>\n",
       "    </tr>\n",
       "    <tr>\n",
       "      <th>3</th>\n",
       "      <td>1</td>\n",
       "      <td>854792</td>\n",
       "      <td>854793</td>\n",
       "      <td>snp</td>\n",
       "    </tr>\n",
       "    <tr>\n",
       "      <th>5</th>\n",
       "      <td>1</td>\n",
       "      <td>867150</td>\n",
       "      <td>867151</td>\n",
       "      <td>snp</td>\n",
       "    </tr>\n",
       "  </tbody>\n",
       "</table>\n",
       "</div>"
      ],
      "text/plain": [
       "   chrom   start     end type\n",
       "0      1  847982  847983  snp\n",
       "1      1  853088  853089  snp\n",
       "2      1  853595  853596  snp\n",
       "3      1  854792  854793  snp\n",
       "5      1  867150  867151  snp"
      ]
     },
     "execution_count": 19,
     "metadata": {},
     "output_type": "execute_result"
    }
   ],
   "source": [
    "array_sites.head()"
   ]
  },
  {
   "cell_type": "markdown",
   "metadata": {},
   "source": [
    "## Create a union of exon regions with admixture array informative positions"
   ]
  },
  {
   "cell_type": "markdown",
   "metadata": {},
   "source": [
    "Take the subset of array sites that lie outside exons:"
   ]
  },
  {
   "cell_type": "code",
   "execution_count": 20,
   "metadata": {
    "collapsed": true
   },
   "outputs": [],
   "source": [
    "exome = BedTool.from_dataframe(exons)\n",
    "sites_outside_exons = BedTool.from_dataframe(array_sites).intersect(exome, v=True).to_dataframe().rename(columns={'name': 'type'})"
   ]
  },
  {
   "cell_type": "markdown",
   "metadata": {},
   "source": [
    "Merge the tables with coordinates of exons and sites outside exons:"
   ]
  },
  {
   "cell_type": "code",
   "execution_count": 21,
   "metadata": {
    "collapsed": false
   },
   "outputs": [],
   "source": [
    "exons_and_sites = pd.concat([sites_outside_exons,\n",
    "                             exons]).sort_values(by=['chrom', 'start']).reset_index(drop=True)"
   ]
  },
  {
   "cell_type": "code",
   "execution_count": 22,
   "metadata": {
    "collapsed": false
   },
   "outputs": [
    {
     "data": {
      "text/html": [
       "<div>\n",
       "<table border=\"1\" class=\"dataframe\">\n",
       "  <thead>\n",
       "    <tr style=\"text-align: right;\">\n",
       "      <th></th>\n",
       "      <th>chrom</th>\n",
       "      <th>start</th>\n",
       "      <th>end</th>\n",
       "      <th>type</th>\n",
       "    </tr>\n",
       "  </thead>\n",
       "  <tbody>\n",
       "    <tr>\n",
       "      <th>0</th>\n",
       "      <td>1</td>\n",
       "      <td>69090</td>\n",
       "      <td>70008</td>\n",
       "      <td>exon</td>\n",
       "    </tr>\n",
       "    <tr>\n",
       "      <th>1</th>\n",
       "      <td>1</td>\n",
       "      <td>134900</td>\n",
       "      <td>135802</td>\n",
       "      <td>exon</td>\n",
       "    </tr>\n",
       "    <tr>\n",
       "      <th>2</th>\n",
       "      <td>1</td>\n",
       "      <td>137620</td>\n",
       "      <td>139379</td>\n",
       "      <td>exon</td>\n",
       "    </tr>\n",
       "    <tr>\n",
       "      <th>3</th>\n",
       "      <td>1</td>\n",
       "      <td>367639</td>\n",
       "      <td>368634</td>\n",
       "      <td>exon</td>\n",
       "    </tr>\n",
       "    <tr>\n",
       "      <th>4</th>\n",
       "      <td>1</td>\n",
       "      <td>621058</td>\n",
       "      <td>622053</td>\n",
       "      <td>exon</td>\n",
       "    </tr>\n",
       "  </tbody>\n",
       "</table>\n",
       "</div>"
      ],
      "text/plain": [
       "   chrom   start     end  type\n",
       "0      1   69090   70008  exon\n",
       "1      1  134900  135802  exon\n",
       "2      1  137620  139379  exon\n",
       "3      1  367639  368634  exon\n",
       "4      1  621058  622053  exon"
      ]
     },
     "execution_count": 22,
     "metadata": {},
     "output_type": "execute_result"
    }
   ],
   "source": [
    "exons_and_sites.head()"
   ]
  },
  {
   "cell_type": "code",
   "execution_count": 23,
   "metadata": {
    "collapsed": false
   },
   "outputs": [
    {
     "data": {
      "text/plain": [
       "978902"
      ]
     },
     "execution_count": 23,
     "metadata": {},
     "output_type": "execute_result"
    }
   ],
   "source": [
    "len(exons_and_sites)"
   ]
  },
  {
   "cell_type": "markdown",
   "metadata": {},
   "source": [
    "### Add 1 bp \"gaps\" with recombination rate 0.5 after last exon/site on each chromosome\n",
    "\n",
    "This will simulate random segregation between chromosomes."
   ]
  },
  {
   "cell_type": "code",
   "execution_count": 24,
   "metadata": {
    "collapsed": false
   },
   "outputs": [],
   "source": [
    "# get the coordinates of last exons/sites on each chromosome\n",
    "last_rows = pd.concat(exons_and_sites.query('chrom == ' + str(chrom)).tail(1)\n",
    "                      for chrom in AUTOSOMES)\n",
    "\n",
    "# generate coordinates of 1 bp recombination gaps between chromosomes\n",
    "# by placing a new 1bp region after last exon/site on each chromosome\n",
    "# (but no recombination gap after the very last chromosome)\n",
    "recomb_gaps = pd.DataFrame({'chrom': last_rows.chrom,\n",
    "                            'start': last_rows.end,\n",
    "                            'end'  : last_rows.end + 1,\n",
    "                            'type' : 'gap'},\n",
    "                            columns=['chrom', 'start', 'end', 'type'])[:-1]\n",
    "\n",
    "# merge the recombination gaps with exons/sites coordinates\n",
    "exons_and_sites = pd.concat([exons_and_sites,\n",
    "                             recomb_gaps]).sort_values(by=['chrom', 'start']).reset_index(drop=True)"
   ]
  },
  {
   "cell_type": "markdown",
   "metadata": {},
   "source": [
    "Total size of the table  should increase by 21."
   ]
  },
  {
   "cell_type": "code",
   "execution_count": 25,
   "metadata": {
    "collapsed": false
   },
   "outputs": [
    {
     "data": {
      "text/plain": [
       "978923"
      ]
     },
     "execution_count": 25,
     "metadata": {},
     "output_type": "execute_result"
    }
   ],
   "source": [
    "len(exons_and_sites)"
   ]
  },
  {
   "cell_type": "markdown",
   "metadata": {},
   "source": [
    "### Convert chromosome-based coordinates into SLiM single-segment coordinates\n",
    "\n",
    "SLiM simulates everything as a single segment. We want to concatenate all chromosome into a single chromosome, shifting coordinates of all regions (exons, snps and recombination gaps) appropriately."
   ]
  },
  {
   "cell_type": "code",
   "execution_count": 26,
   "metadata": {
    "collapsed": false
   },
   "outputs": [],
   "source": [
    "# value by which we have to increment all coordinates on\n",
    "# next chromosome\n",
    "increment_by = 0\n",
    "\n",
    "for chrom in AUTOSOMES:\n",
    "    # get DataFrame indices of exons/sites on a current chromosome\n",
    "    coords_on_chrom = exons_and_sites.chrom == int(chrom)\n",
    "    \n",
    "    # get start/end coordinates of these exons/sites\n",
    "    start_coords = exons_and_sites.ix[coords_on_chrom, 'start']\n",
    "    end_coords   = exons_and_sites.ix[coords_on_chrom, 'end']\n",
    "    \n",
    "    # shift the coordinates appropriately\n",
    "    exons_and_sites.ix[coords_on_chrom, 'slim_start'] = start_coords + increment_by\n",
    "    exons_and_sites.ix[coords_on_chrom, 'slim_end']   = end_coords + increment_by\n",
    "    \n",
    "    increment_by = max(end_coords + increment_by)\n",
    "\n",
    "# convert to integer types\n",
    "exons_and_sites[['slim_start', 'slim_end']] = exons_and_sites[['slim_start', 'slim_end']].astype(int)"
   ]
  },
  {
   "cell_type": "markdown",
   "metadata": {},
   "source": [
    "Coordinates in SLiM are 0-based - we have to subtract 1 from the end coordinates, because these are normally 1-based (as required by the BED format)."
   ]
  },
  {
   "cell_type": "code",
   "execution_count": 27,
   "metadata": {
    "collapsed": false
   },
   "outputs": [],
   "source": [
    "exons_and_sites.slim_end -= 1"
   ]
  },
  {
   "cell_type": "code",
   "execution_count": 28,
   "metadata": {
    "collapsed": false
   },
   "outputs": [
    {
     "data": {
      "text/html": [
       "<div>\n",
       "<table border=\"1\" class=\"dataframe\">\n",
       "  <thead>\n",
       "    <tr style=\"text-align: right;\">\n",
       "      <th></th>\n",
       "      <th>chrom</th>\n",
       "      <th>start</th>\n",
       "      <th>end</th>\n",
       "      <th>type</th>\n",
       "      <th>slim_start</th>\n",
       "      <th>slim_end</th>\n",
       "    </tr>\n",
       "  </thead>\n",
       "  <tbody>\n",
       "    <tr>\n",
       "      <th>978918</th>\n",
       "      <td>22</td>\n",
       "      <td>51215097</td>\n",
       "      <td>51215177</td>\n",
       "      <td>exon</td>\n",
       "      <td>2877427107</td>\n",
       "      <td>2877427186</td>\n",
       "    </tr>\n",
       "    <tr>\n",
       "      <th>978919</th>\n",
       "      <td>22</td>\n",
       "      <td>51216379</td>\n",
       "      <td>51216409</td>\n",
       "      <td>exon</td>\n",
       "      <td>2877428389</td>\n",
       "      <td>2877428418</td>\n",
       "    </tr>\n",
       "    <tr>\n",
       "      <th>978920</th>\n",
       "      <td>22</td>\n",
       "      <td>51220615</td>\n",
       "      <td>51220779</td>\n",
       "      <td>exon</td>\n",
       "      <td>2877432625</td>\n",
       "      <td>2877432788</td>\n",
       "    </tr>\n",
       "    <tr>\n",
       "      <th>978921</th>\n",
       "      <td>22</td>\n",
       "      <td>51221196</td>\n",
       "      <td>51221714</td>\n",
       "      <td>exon</td>\n",
       "      <td>2877433206</td>\n",
       "      <td>2877433723</td>\n",
       "    </tr>\n",
       "    <tr>\n",
       "      <th>978922</th>\n",
       "      <td>22</td>\n",
       "      <td>51221928</td>\n",
       "      <td>51222091</td>\n",
       "      <td>exon</td>\n",
       "      <td>2877433938</td>\n",
       "      <td>2877434100</td>\n",
       "    </tr>\n",
       "  </tbody>\n",
       "</table>\n",
       "</div>"
      ],
      "text/plain": [
       "        chrom     start       end  type  slim_start    slim_end\n",
       "978918     22  51215097  51215177  exon  2877427107  2877427186\n",
       "978919     22  51216379  51216409  exon  2877428389  2877428418\n",
       "978920     22  51220615  51220779  exon  2877432625  2877432788\n",
       "978921     22  51221196  51221714  exon  2877433206  2877433723\n",
       "978922     22  51221928  51222091  exon  2877433938  2877434100"
      ]
     },
     "execution_count": 28,
     "metadata": {},
     "output_type": "execute_result"
    }
   ],
   "source": [
    "exons_and_sites.tail()"
   ]
  },
  {
   "cell_type": "markdown",
   "metadata": {},
   "source": [
    "## Save SLiM coordinates of all sites from the archaic admixture array\n",
    "\n",
    "The map of sites and exons includes only positions of sites that fall outside of exonic regions. However, in order to simulate all the sites from the archaic admixture array, we have to know the positions of sites _within_ exons too.\n",
    "\n",
    "To obtain the coordinates of array sites within exons, we need to find out (for each site) which exon does it fall in and calculate its position relative to the start of that exon."
   ]
  },
  {
   "cell_type": "markdown",
   "metadata": {},
   "source": [
    "Take the subset of array sites that lie inside exons:"
   ]
  },
  {
   "cell_type": "code",
   "execution_count": 29,
   "metadata": {
    "collapsed": true
   },
   "outputs": [],
   "source": [
    "sites_within_exons = BedTool.from_dataframe(array_sites).intersect(exome).to_dataframe()"
   ]
  },
  {
   "cell_type": "code",
   "execution_count": 30,
   "metadata": {
    "collapsed": false
   },
   "outputs": [],
   "source": [
    "sites_within_exons = sites_within_exons.rename(columns={'name': 'type'})"
   ]
  },
  {
   "cell_type": "markdown",
   "metadata": {},
   "source": [
    "Get a DataFrame of the coordinates of exons that contain a site from the admixture array (will contain multiple copies of one exon if more than one site falls within that exon):"
   ]
  },
  {
   "cell_type": "code",
   "execution_count": 31,
   "metadata": {
    "collapsed": false
   },
   "outputs": [],
   "source": [
    "exons_with_sites = BedTool.from_dataframe(exons_and_sites.query('type == \"exon\"')).intersect(BedTool.from_dataframe(sites_within_exons), wa=True).to_dataframe()\n",
    "\n",
    "exons_with_sites = exons_with_sites.rename(columns={'score': 'slim_start', 'strand': 'slim_end'})"
   ]
  },
  {
   "cell_type": "markdown",
   "metadata": {},
   "source": [
    "Calculate the position of each site relative to the start of \"its\" exon:"
   ]
  },
  {
   "cell_type": "code",
   "execution_count": 32,
   "metadata": {
    "collapsed": false
   },
   "outputs": [],
   "source": [
    "increments = sites_within_exons.start - exons_with_sites.start\n",
    "\n",
    "sites_within_exons['slim_start'] = exons_with_sites.slim_start + increments\n",
    "sites_within_exons['slim_end']   = exons_with_sites.slim_start + increments"
   ]
  },
  {
   "cell_type": "markdown",
   "metadata": {},
   "source": [
    "Merge the coordinates of SNPs within and outside exons:"
   ]
  },
  {
   "cell_type": "code",
   "execution_count": 33,
   "metadata": {
    "collapsed": false
   },
   "outputs": [],
   "source": [
    "all_sites = pd.concat([exons_and_sites.query('type == \"snp\"'),\n",
    "                       sites_within_exons]).sort_values(by=['slim_start']).reset_index(drop=True)"
   ]
  },
  {
   "cell_type": "markdown",
   "metadata": {},
   "source": [
    "Verify that we didn't loose any sites during all this coordinate acrobatics:"
   ]
  },
  {
   "cell_type": "code",
   "execution_count": 34,
   "metadata": {
    "collapsed": false
   },
   "outputs": [
    {
     "data": {
      "text/plain": [
       "True"
      ]
     },
     "execution_count": 34,
     "metadata": {},
     "output_type": "execute_result"
    }
   ],
   "source": [
    "len(array_sites) == len(all_sites)"
   ]
  },
  {
   "cell_type": "markdown",
   "metadata": {},
   "source": [
    "Output the SLiM-based positions of informative sites:"
   ]
  },
  {
   "cell_type": "code",
   "execution_count": 35,
   "metadata": {
    "collapsed": false
   },
   "outputs": [],
   "source": [
    "all_sites['slim_start'].to_csv('../slim/admixture_array_sites.txt', index=False)"
   ]
  },
  {
   "cell_type": "markdown",
   "metadata": {},
   "source": [
    "## Save SLiM coordinates of exonic regions only\n",
    "\n",
    "This is required for specification for the `initializeGenomicElement` function in SLiM."
   ]
  },
  {
   "cell_type": "code",
   "execution_count": 36,
   "metadata": {
    "collapsed": false
   },
   "outputs": [],
   "source": [
    "exons_and_sites.query('type == \"exon\"')[['slim_start', 'slim_end']].to_csv('../slim/exons.txt',\n",
    "                                                                           sep='\\t', header=False, index=False)"
   ]
  },
  {
   "cell_type": "markdown",
   "metadata": {},
   "source": [
    "## Save the recombination map for SLiM\n",
    "This recombination map will be provided as an argument for the `initializeRecombinationRate` function in SLiM.\n",
    "\n",
    "The recombination map will specify the genome-wide average recombination rate values for the chromosomal parts of the simulated segment and 0.5 recombination rate for 1bp \"gaps\" between chromosomes."
   ]
  },
  {
   "cell_type": "code",
   "execution_count": 37,
   "metadata": {
    "collapsed": true
   },
   "outputs": [],
   "source": [
    "RECOMB_RATE = 1e-8 # crossovers per bp per generation"
   ]
  },
  {
   "cell_type": "code",
   "execution_count": 38,
   "metadata": {
    "collapsed": false
   },
   "outputs": [],
   "source": [
    "gap_map = exons_and_sites.query('type == \"gap\"')[['type', 'slim_end']]\n",
    "gap_map['recomb_rate'] = 0.5"
   ]
  },
  {
   "cell_type": "code",
   "execution_count": 39,
   "metadata": {
    "collapsed": false
   },
   "outputs": [],
   "source": [
    "chrom_map = pd.DataFrame({'type': 'chromosome',\n",
    "                          'slim_end': list(gap_map.slim_end - 1) + [max(exons_and_sites.slim_end)],\n",
    "                          'recomb_rate': RECOMB_RATE},\n",
    "                         columns=['type', 'slim_end', 'recomb_rate'])"
   ]
  },
  {
   "cell_type": "code",
   "execution_count": 40,
   "metadata": {
    "collapsed": false
   },
   "outputs": [],
   "source": [
    "recomb_map = pd.concat([gap_map, chrom_map]).sort_values(by='slim_end').reset_index(drop=True)"
   ]
  },
  {
   "cell_type": "code",
   "execution_count": 42,
   "metadata": {
    "collapsed": false
   },
   "outputs": [
    {
     "data": {
      "text/html": [
       "<div>\n",
       "<table border=\"1\" class=\"dataframe\">\n",
       "  <thead>\n",
       "    <tr style=\"text-align: right;\">\n",
       "      <th></th>\n",
       "      <th>type</th>\n",
       "      <th>slim_end</th>\n",
       "      <th>recomb_rate</th>\n",
       "    </tr>\n",
       "  </thead>\n",
       "  <tbody>\n",
       "    <tr>\n",
       "      <th>0</th>\n",
       "      <td>chromosome</td>\n",
       "      <td>249214144</td>\n",
       "      <td>1.000000e-08</td>\n",
       "    </tr>\n",
       "    <tr>\n",
       "      <th>1</th>\n",
       "      <td>gap</td>\n",
       "      <td>249214145</td>\n",
       "      <td>5.000000e-01</td>\n",
       "    </tr>\n",
       "    <tr>\n",
       "      <th>2</th>\n",
       "      <td>chromosome</td>\n",
       "      <td>492058847</td>\n",
       "      <td>1.000000e-08</td>\n",
       "    </tr>\n",
       "    <tr>\n",
       "      <th>3</th>\n",
       "      <td>gap</td>\n",
       "      <td>492058848</td>\n",
       "      <td>5.000000e-01</td>\n",
       "    </tr>\n",
       "    <tr>\n",
       "      <th>4</th>\n",
       "      <td>chromosome</td>\n",
       "      <td>689829439</td>\n",
       "      <td>1.000000e-08</td>\n",
       "    </tr>\n",
       "    <tr>\n",
       "      <th>5</th>\n",
       "      <td>gap</td>\n",
       "      <td>689829440</td>\n",
       "      <td>5.000000e-01</td>\n",
       "    </tr>\n",
       "    <tr>\n",
       "      <th>6</th>\n",
       "      <td>chromosome</td>\n",
       "      <td>880843159</td>\n",
       "      <td>1.000000e-08</td>\n",
       "    </tr>\n",
       "    <tr>\n",
       "      <th>7</th>\n",
       "      <td>gap</td>\n",
       "      <td>880843160</td>\n",
       "      <td>5.000000e-01</td>\n",
       "    </tr>\n",
       "    <tr>\n",
       "      <th>8</th>\n",
       "      <td>chromosome</td>\n",
       "      <td>1061638423</td>\n",
       "      <td>1.000000e-08</td>\n",
       "    </tr>\n",
       "    <tr>\n",
       "      <th>9</th>\n",
       "      <td>gap</td>\n",
       "      <td>1061638424</td>\n",
       "      <td>5.000000e-01</td>\n",
       "    </tr>\n",
       "    <tr>\n",
       "      <th>10</th>\n",
       "      <td>chromosome</td>\n",
       "      <td>1232532172</td>\n",
       "      <td>1.000000e-08</td>\n",
       "    </tr>\n",
       "    <tr>\n",
       "      <th>11</th>\n",
       "      <td>gap</td>\n",
       "      <td>1232532173</td>\n",
       "      <td>5.000000e-01</td>\n",
       "    </tr>\n",
       "    <tr>\n",
       "      <th>12</th>\n",
       "      <td>chromosome</td>\n",
       "      <td>1391559740</td>\n",
       "      <td>1.000000e-08</td>\n",
       "    </tr>\n",
       "    <tr>\n",
       "      <th>13</th>\n",
       "      <td>gap</td>\n",
       "      <td>1391559741</td>\n",
       "      <td>5.000000e-01</td>\n",
       "    </tr>\n",
       "    <tr>\n",
       "      <th>14</th>\n",
       "      <td>chromosome</td>\n",
       "      <td>1537841157</td>\n",
       "      <td>1.000000e-08</td>\n",
       "    </tr>\n",
       "    <tr>\n",
       "      <th>15</th>\n",
       "      <td>gap</td>\n",
       "      <td>1537841158</td>\n",
       "      <td>5.000000e-01</td>\n",
       "    </tr>\n",
       "    <tr>\n",
       "      <th>16</th>\n",
       "      <td>chromosome</td>\n",
       "      <td>1678860234</td>\n",
       "      <td>1.000000e-08</td>\n",
       "    </tr>\n",
       "    <tr>\n",
       "      <th>17</th>\n",
       "      <td>gap</td>\n",
       "      <td>1678860235</td>\n",
       "      <td>5.000000e-01</td>\n",
       "    </tr>\n",
       "    <tr>\n",
       "      <th>18</th>\n",
       "      <td>chromosome</td>\n",
       "      <td>1814300534</td>\n",
       "      <td>1.000000e-08</td>\n",
       "    </tr>\n",
       "    <tr>\n",
       "      <th>19</th>\n",
       "      <td>gap</td>\n",
       "      <td>1814300535</td>\n",
       "      <td>5.000000e-01</td>\n",
       "    </tr>\n",
       "    <tr>\n",
       "      <th>20</th>\n",
       "      <td>chromosome</td>\n",
       "      <td>1949157228</td>\n",
       "      <td>1.000000e-08</td>\n",
       "    </tr>\n",
       "    <tr>\n",
       "      <th>21</th>\n",
       "      <td>gap</td>\n",
       "      <td>1949157229</td>\n",
       "      <td>5.000000e-01</td>\n",
       "    </tr>\n",
       "    <tr>\n",
       "      <th>22</th>\n",
       "      <td>chromosome</td>\n",
       "      <td>2082969910</td>\n",
       "      <td>1.000000e-08</td>\n",
       "    </tr>\n",
       "    <tr>\n",
       "      <th>23</th>\n",
       "      <td>gap</td>\n",
       "      <td>2082969911</td>\n",
       "      <td>5.000000e-01</td>\n",
       "    </tr>\n",
       "    <tr>\n",
       "      <th>24</th>\n",
       "      <td>chromosome</td>\n",
       "      <td>2198062707</td>\n",
       "      <td>1.000000e-08</td>\n",
       "    </tr>\n",
       "    <tr>\n",
       "      <th>25</th>\n",
       "      <td>gap</td>\n",
       "      <td>2198062708</td>\n",
       "      <td>5.000000e-01</td>\n",
       "    </tr>\n",
       "    <tr>\n",
       "      <th>26</th>\n",
       "      <td>chromosome</td>\n",
       "      <td>2304451239</td>\n",
       "      <td>1.000000e-08</td>\n",
       "    </tr>\n",
       "    <tr>\n",
       "      <th>27</th>\n",
       "      <td>gap</td>\n",
       "      <td>2304451240</td>\n",
       "      <td>5.000000e-01</td>\n",
       "    </tr>\n",
       "    <tr>\n",
       "      <th>28</th>\n",
       "      <td>chromosome</td>\n",
       "      <td>2406914538</td>\n",
       "      <td>1.000000e-08</td>\n",
       "    </tr>\n",
       "    <tr>\n",
       "      <th>29</th>\n",
       "      <td>gap</td>\n",
       "      <td>2406914539</td>\n",
       "      <td>5.000000e-01</td>\n",
       "    </tr>\n",
       "    <tr>\n",
       "      <th>30</th>\n",
       "      <td>chromosome</td>\n",
       "      <td>2497056877</td>\n",
       "      <td>1.000000e-08</td>\n",
       "    </tr>\n",
       "    <tr>\n",
       "      <th>31</th>\n",
       "      <td>gap</td>\n",
       "      <td>2497056878</td>\n",
       "      <td>5.000000e-01</td>\n",
       "    </tr>\n",
       "    <tr>\n",
       "      <th>32</th>\n",
       "      <td>chromosome</td>\n",
       "      <td>2578109742</td>\n",
       "      <td>1.000000e-08</td>\n",
       "    </tr>\n",
       "    <tr>\n",
       "      <th>33</th>\n",
       "      <td>gap</td>\n",
       "      <td>2578109743</td>\n",
       "      <td>5.000000e-01</td>\n",
       "    </tr>\n",
       "    <tr>\n",
       "      <th>34</th>\n",
       "      <td>chromosome</td>\n",
       "      <td>2656115172</td>\n",
       "      <td>1.000000e-08</td>\n",
       "    </tr>\n",
       "    <tr>\n",
       "      <th>35</th>\n",
       "      <td>gap</td>\n",
       "      <td>2656115173</td>\n",
       "      <td>5.000000e-01</td>\n",
       "    </tr>\n",
       "    <tr>\n",
       "      <th>36</th>\n",
       "      <td>chromosome</td>\n",
       "      <td>2715200115</td>\n",
       "      <td>1.000000e-08</td>\n",
       "    </tr>\n",
       "    <tr>\n",
       "      <th>37</th>\n",
       "      <td>gap</td>\n",
       "      <td>2715200116</td>\n",
       "      <td>5.000000e-01</td>\n",
       "    </tr>\n",
       "    <tr>\n",
       "      <th>38</th>\n",
       "      <td>chromosome</td>\n",
       "      <td>2778126971</td>\n",
       "      <td>1.000000e-08</td>\n",
       "    </tr>\n",
       "    <tr>\n",
       "      <th>39</th>\n",
       "      <td>gap</td>\n",
       "      <td>2778126972</td>\n",
       "      <td>5.000000e-01</td>\n",
       "    </tr>\n",
       "    <tr>\n",
       "      <th>40</th>\n",
       "      <td>chromosome</td>\n",
       "      <td>2826212008</td>\n",
       "      <td>1.000000e-08</td>\n",
       "    </tr>\n",
       "    <tr>\n",
       "      <th>41</th>\n",
       "      <td>gap</td>\n",
       "      <td>2826212009</td>\n",
       "      <td>5.000000e-01</td>\n",
       "    </tr>\n",
       "    <tr>\n",
       "      <th>42</th>\n",
       "      <td>chromosome</td>\n",
       "      <td>2877434100</td>\n",
       "      <td>1.000000e-08</td>\n",
       "    </tr>\n",
       "  </tbody>\n",
       "</table>\n",
       "</div>"
      ],
      "text/plain": [
       "          type    slim_end   recomb_rate\n",
       "0   chromosome   249214144  1.000000e-08\n",
       "1          gap   249214145  5.000000e-01\n",
       "2   chromosome   492058847  1.000000e-08\n",
       "3          gap   492058848  5.000000e-01\n",
       "4   chromosome   689829439  1.000000e-08\n",
       "5          gap   689829440  5.000000e-01\n",
       "6   chromosome   880843159  1.000000e-08\n",
       "7          gap   880843160  5.000000e-01\n",
       "8   chromosome  1061638423  1.000000e-08\n",
       "9          gap  1061638424  5.000000e-01\n",
       "10  chromosome  1232532172  1.000000e-08\n",
       "11         gap  1232532173  5.000000e-01\n",
       "12  chromosome  1391559740  1.000000e-08\n",
       "13         gap  1391559741  5.000000e-01\n",
       "14  chromosome  1537841157  1.000000e-08\n",
       "15         gap  1537841158  5.000000e-01\n",
       "16  chromosome  1678860234  1.000000e-08\n",
       "17         gap  1678860235  5.000000e-01\n",
       "18  chromosome  1814300534  1.000000e-08\n",
       "19         gap  1814300535  5.000000e-01\n",
       "20  chromosome  1949157228  1.000000e-08\n",
       "21         gap  1949157229  5.000000e-01\n",
       "22  chromosome  2082969910  1.000000e-08\n",
       "23         gap  2082969911  5.000000e-01\n",
       "24  chromosome  2198062707  1.000000e-08\n",
       "25         gap  2198062708  5.000000e-01\n",
       "26  chromosome  2304451239  1.000000e-08\n",
       "27         gap  2304451240  5.000000e-01\n",
       "28  chromosome  2406914538  1.000000e-08\n",
       "29         gap  2406914539  5.000000e-01\n",
       "30  chromosome  2497056877  1.000000e-08\n",
       "31         gap  2497056878  5.000000e-01\n",
       "32  chromosome  2578109742  1.000000e-08\n",
       "33         gap  2578109743  5.000000e-01\n",
       "34  chromosome  2656115172  1.000000e-08\n",
       "35         gap  2656115173  5.000000e-01\n",
       "36  chromosome  2715200115  1.000000e-08\n",
       "37         gap  2715200116  5.000000e-01\n",
       "38  chromosome  2778126971  1.000000e-08\n",
       "39         gap  2778126972  5.000000e-01\n",
       "40  chromosome  2826212008  1.000000e-08\n",
       "41         gap  2826212009  5.000000e-01\n",
       "42  chromosome  2877434100  1.000000e-08"
      ]
     },
     "execution_count": 42,
     "metadata": {},
     "output_type": "execute_result"
    }
   ],
   "source": [
    "recomb_map"
   ]
  },
  {
   "cell_type": "code",
   "execution_count": 43,
   "metadata": {
    "collapsed": false
   },
   "outputs": [],
   "source": [
    "recomb_map[['slim_end', 'recomb_rate']].to_csv('../slim/recombination_map.txt', sep='\\t', index=False)"
   ]
  }
 ],
 "metadata": {
  "kernelspec": {
   "display_name": "Python 3",
   "language": "python",
   "name": "python3"
  },
  "language_info": {
   "codemirror_mode": {
    "name": "ipython",
    "version": 3
   },
   "file_extension": ".py",
   "mimetype": "text/x-python",
   "name": "python",
   "nbconvert_exporter": "python",
   "pygments_lexer": "ipython3",
   "version": "3.5.1"
  }
 },
 "nbformat": 4,
 "nbformat_minor": 0
}
